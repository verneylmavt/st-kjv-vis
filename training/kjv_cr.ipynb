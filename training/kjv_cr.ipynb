{
 "cells": [
  {
   "cell_type": "code",
   "execution_count": 666,
   "metadata": {},
   "outputs": [],
   "source": [
    "import nbformat"
   ]
  },
  {
   "cell_type": "code",
   "execution_count": 667,
   "metadata": {},
   "outputs": [],
   "source": [
    "# with open(\"kjv.ipynb\", \"r\", encoding=\"utf-8\") as f:\n",
    "#     notebook = nbformat.read(f, as_version=4)\n",
    "\n",
    "# for cell in notebook.cells:\n",
    "#     if \"outputs\" in cell:\n",
    "#         cell[\"outputs\"] = []\n",
    "#     if \"execution_count\" in cell:\n",
    "#         cell[\"execution_count\"] = None\n",
    "\n",
    "# with open(\"kjv_clean.ipynb\", \"w\", encoding=\"utf-8\") as f:\n",
    "#     nbformat.write(notebook, f)"
   ]
  },
  {
   "cell_type": "code",
   "execution_count": 668,
   "metadata": {},
   "outputs": [],
   "source": [
    "import json\n",
    "from tqdm import tqdm\n",
    "from collections import defaultdict\n",
    "\n",
    "import numpy as np\n",
    "import pandas as pd"
   ]
  },
  {
   "cell_type": "code",
   "execution_count": 669,
   "metadata": {},
   "outputs": [],
   "source": [
    "pd.options.display.max_rows = 50"
   ]
  },
  {
   "cell_type": "code",
   "execution_count": 670,
   "metadata": {},
   "outputs": [],
   "source": [
    "df = pd.read_csv(\"../data/kjv_cr.csv\", dtype=str)"
   ]
  },
  {
   "cell_type": "code",
   "execution_count": 671,
   "metadata": {},
   "outputs": [],
   "source": [
    "df = df[~df[['book_name_source_max', 'book_name_target_max']].notna().any(axis=1)].reset_index(drop=True)\n",
    "\n",
    "df = df[['book_name_source_min', 'chapter_number_source_min', 'verse_number_source_min',\n",
    "        'book_name_target_min', 'chapter_number_target_min', 'verse_number_target_min']]\n",
    "\n",
    "df.rename(columns={'book_name_source_min': 'book_name_source', \n",
    "                'chapter_number_source_min': 'chapter_number_source', \n",
    "                'verse_number_source_min': 'verse_number_source',\n",
    "                'book_name_target_min': 'book_name_target', \n",
    "                'chapter_number_target_min': 'chapter_number_target', \n",
    "                'verse_number_target_min': 'verse_number_target'}, \n",
    "        inplace=True)\n",
    "\n",
    "df.dropna(inplace=True)\n",
    "\n",
    "df[['chapter_number_source', 'verse_number_source', 'chapter_number_target', 'verse_number_target']] = df[\n",
    "    ['chapter_number_source', 'verse_number_source', 'chapter_number_target', 'verse_number_target']\n",
    "].astype(int)\n",
    "\n",
    "df[['book_name_source', 'book_name_target']] = df[\n",
    "    ['book_name_source', 'book_name_target']\n",
    "].astype(str)"
   ]
  },
  {
   "cell_type": "code",
   "execution_count": 672,
   "metadata": {},
   "outputs": [],
   "source": [
    "# df['self_reference'] = (\n",
    "#     (df['book_name_source'] == df['book_name_target']) &\n",
    "#     (df['chapter_number_source'] == df['chapter_number_target']) &\n",
    "#     (df['verse_number_source'] == df['verse_number_target'])\n",
    "# )\n",
    "\n",
    "# print(df[df['self_reference']])"
   ]
  },
  {
   "cell_type": "code",
   "execution_count": 673,
   "metadata": {},
   "outputs": [],
   "source": [
    "# for k, v in df.items():\n",
    "#     print(k, v.dtype)"
   ]
  },
  {
   "cell_type": "code",
   "execution_count": 674,
   "metadata": {},
   "outputs": [],
   "source": [
    "cross_ref_dict = defaultdict(lambda: defaultdict(int))\n",
    "\n",
    "for _, row in df.iterrows():\n",
    "    source = row[\"book_name_source\"]\n",
    "    target = row[\"book_name_target\"]\n",
    "    cross_ref_dict[source][target] += 1\n",
    "    \n",
    "dict_cr = {k: dict(v) for k, v in cross_ref_dict.items()}"
   ]
  },
  {
   "cell_type": "code",
   "execution_count": 675,
   "metadata": {},
   "outputs": [],
   "source": [
    "# print(json.dumps(dict_cr, indent=4))"
   ]
  },
  {
   "cell_type": "code",
   "execution_count": 676,
   "metadata": {},
   "outputs": [],
   "source": [
    "# with open(\"../data/dict_cr.json\", \"w\") as json_file:\n",
    "#     json.dump(dict_cr, json_file, indent=4)"
   ]
  },
  {
   "cell_type": "code",
   "execution_count": 677,
   "metadata": {},
   "outputs": [],
   "source": [
    "df_kjv = pd.read_csv(\"../data/kjv.csv\")\n",
    "df_kjv = df_kjv.astype({col: 'string' for col in df_kjv.select_dtypes(include='object').columns})"
   ]
  },
  {
   "cell_type": "code",
   "execution_count": 678,
   "metadata": {},
   "outputs": [],
   "source": [
    "# print(df_kjv)"
   ]
  },
  {
   "cell_type": "code",
   "execution_count": 679,
   "metadata": {},
   "outputs": [],
   "source": [
    "dict_kjv = defaultdict(lambda: defaultdict(list))\n",
    "\n",
    "for _, row in df_kjv.iterrows():\n",
    "    dict_kjv[row[\"book_name\"]][row[\"chapter_number\"]].append(row[\"verse_number\"])\n",
    "\n",
    "dict_kjv = {book: dict(chapters) for book, chapters in dict_kjv.items()}"
   ]
  },
  {
   "cell_type": "code",
   "execution_count": 680,
   "metadata": {},
   "outputs": [],
   "source": [
    "# print(dict_kjv)"
   ]
  },
  {
   "cell_type": "code",
   "execution_count": 681,
   "metadata": {},
   "outputs": [],
   "source": [
    "# books_kjv = [\n",
    "#         'Genesis', 'Exodus', 'Leviticus', 'Numbers', 'Deuteronomy', 'Joshua', \n",
    "#         'Judges', 'Ruth', '1 Samuel', '2 Samuel', '1 Kings', '2 Kings', \n",
    "#         '1 Chronicles', '2 Chronicles', 'Ezra', 'Nehemiah', 'Esther', 'Job', \n",
    "#         'Psalms', 'Proverbs', 'Ecclesiastes', 'Song of Solomon', 'Isaiah', \n",
    "#         'Jeremiah', 'Lamentations', 'Ezekiel', 'Daniel', 'Hosea', 'Joel', 'Amos', \n",
    "#         'Obadiah', 'Jonah', 'Micah', 'Nahum', 'Habakkuk', 'Zephaniah', 'Haggai', \n",
    "#         'Zechariah', 'Malachi', 'Matthew', 'Mark', 'Luke', 'John', 'Acts', \n",
    "#         'Romans', '1 Corinthians', '2 Corinthians', 'Galatians', 'Ephesians', \n",
    "#         'Philippians', 'Colossians', '1 Thessalonians', '2 Thessalonians', \n",
    "#         '1 Timothy', '2 Timothy', 'Titus', 'Philemon', 'Hebrews', 'James', \n",
    "#         '1 Peter', '2 Peter', '1 John', '2 John', '3 John', 'Jude', 'Revelation'\n",
    "#     ]\n",
    "    \n",
    "books_kjv_abv = {\n",
    "    \"Genesis\": \"GEN\",\n",
    "    \"Exodus\": \"EXO\",\n",
    "    \"Leviticus\": \"LEV\",\n",
    "    \"Numbers\": \"NUM\",\n",
    "    \"Deuteronomy\": \"DEU\",\n",
    "    \"Joshua\": \"JOS\",\n",
    "    \"Judges\": \"JDG\",\n",
    "    \"Ruth\": \"RUT\",\n",
    "    \"1 Samuel\": \"1SA\",\n",
    "    \"2 Samuel\": \"2SA\",\n",
    "    \"1 Kings\": \"1KI\",\n",
    "    \"2 Kings\": \"2KI\",\n",
    "    \"1 Chronicles\": \"1CH\",\n",
    "    \"2 Chronicles\": \"2CH\",\n",
    "    \"Ezra\": \"EZR\",\n",
    "    \"Nehemiah\": \"NEH\",\n",
    "    \"Esther\": \"EST\",\n",
    "    \"Job\": \"JOB\",\n",
    "    \"Psalms\": \"PSA\",\n",
    "    \"Proverbs\": \"PRO\",\n",
    "    \"Ecclesiastes\": \"ECC\",\n",
    "    \"Song of Solomon\": \"SNG\",\n",
    "    \"Isaiah\": \"ISA\",\n",
    "    \"Jeremiah\": \"JER\",\n",
    "    \"Lamentations\": \"LAM\",\n",
    "    \"Ezekiel\": \"EZK\",\n",
    "    \"Daniel\": \"DAN\",\n",
    "    \"Hosea\": \"HOS\",\n",
    "    \"Joel\": \"JOL\",\n",
    "    \"Amos\": \"AMO\",\n",
    "    \"Obadiah\": \"OBA\",\n",
    "    \"Jonah\": \"JON\",\n",
    "    \"Micah\": \"MIC\",\n",
    "    \"Nahum\": \"NAM\",\n",
    "    \"Habakkuk\": \"HAB\",\n",
    "    \"Zephaniah\": \"ZEP\",\n",
    "    \"Haggai\": \"HAG\",\n",
    "    \"Zechariah\": \"ZEC\",\n",
    "    \"Malachi\": \"MAL\",\n",
    "    \"Matthew\": \"MAT\",\n",
    "    \"Mark\": \"MRK\",\n",
    "    \"Luke\": \"LUK\",\n",
    "    \"John\": \"JHN\",\n",
    "    \"Acts\": \"ACT\",\n",
    "    \"Romans\": \"ROM\",\n",
    "    \"1 Corinthians\": \"1CO\",\n",
    "    \"2 Corinthians\": \"2CO\",\n",
    "    \"Galatians\": \"GAL\",\n",
    "    \"Ephesians\": \"EPH\",\n",
    "    \"Philippians\": \"PHP\",\n",
    "    \"Colossians\": \"COL\",\n",
    "    \"1 Thessalonians\": \"1TH\",\n",
    "    \"2 Thessalonians\": \"2TH\",\n",
    "    \"1 Timothy\": \"1TI\",\n",
    "    \"2 Timothy\": \"2TI\",\n",
    "    \"Titus\": \"TIT\",\n",
    "    \"Philemon\": \"PHM\",\n",
    "    \"Hebrews\": \"HEB\",\n",
    "    \"James\": \"JAS\",\n",
    "    \"1 Peter\": \"1PE\",\n",
    "    \"2 Peter\": \"2PE\",\n",
    "    \"1 John\": \"1JN\",\n",
    "    \"2 John\": \"2JN\",\n",
    "    \"3 John\": \"3JN\",\n",
    "    \"Jude\": \"JUD\",\n",
    "    \"Revelation\": \"REV\"\n",
    "}\n",
    "\n",
    "\n",
    "countries_kjv = [\n",
    "    'Syria', 'Jordan', 'Israel', 'Lebanon', 'Iraq', 'Egypt', 'Türkiye', 'Greece', 'North Macedonia', \n",
    "    'Italy', 'Libya', 'Cyprus', 'Saudi Arabia', 'Sudan', 'Djibouti', 'Iran', 'Yemen', 'Somalia', 'Azerbaijan', \n",
    "    'Armenia', 'Spain', 'Uganda', 'Tunisia', 'Croatia', 'Pakistan', 'Mozambique', 'India', 'Sri Lanka', \n",
    "    'Eritrea', 'Oman', 'Kuwait', 'Georgia', 'Bangladesh', 'Malta', 'United Arab Emirates'\n",
    "]"
   ]
  },
  {
   "cell_type": "code",
   "execution_count": 682,
   "metadata": {},
   "outputs": [],
   "source": [
    "old_testament = [\n",
    "    \"Genesis\", \"Exodus\", \"Leviticus\", \"Numbers\", \"Deuteronomy\",\n",
    "    \"Joshua\", \"Judges\", \"Ruth\", \"1 Samuel\", \"2 Samuel\",\n",
    "    \"1 Kings\", \"2 Kings\", \"1 Chronicles\", \"2 Chronicles\", \"Ezra\",\n",
    "    \"Nehemiah\", \"Esther\", \"Job\", \"Psalms\", \"Proverbs\",\n",
    "    \"Ecclesiastes\", \"Song of Solomon\", \"Isaiah\", \"Jeremiah\", \"Lamentations\",\n",
    "    \"Ezekiel\", \"Daniel\", \"Hosea\", \"Joel\", \"Amos\",\n",
    "    \"Obadiah\", \"Jonah\", \"Micah\", \"Nahum\", \"Habakkuk\",\n",
    "    \"Zephaniah\", \"Haggai\", \"Zechariah\", \"Malachi\"\n",
    "]\n",
    "\n",
    "new_testament = [\n",
    "    \"Matthew\", \"Mark\", \"Luke\", \"John\", \"Acts\",\n",
    "    \"Romans\", \"1 Corinthians\", \"2 Corinthians\", \"Galatians\", \"Ephesians\",\n",
    "    \"Philippians\", \"Colossians\", \"1 Thessalonians\", \"2 Thessalonians\", \"1 Timothy\",\n",
    "    \"2 Timothy\", \"Titus\", \"Philemon\", \"Hebrews\", \"James\",\n",
    "    \"1 Peter\", \"2 Peter\", \"1 John\", \"2 John\", \"3 John\",\n",
    "    \"Jude\", \"Revelation\"\n",
    "]\n",
    "\n",
    "books_kjv = old_testament + new_testament"
   ]
  },
  {
   "cell_type": "code",
   "execution_count": 683,
   "metadata": {},
   "outputs": [],
   "source": [
    "# print(books_kjv)"
   ]
  },
  {
   "cell_type": "code",
   "execution_count": 684,
   "metadata": {},
   "outputs": [],
   "source": [
    "dict_cr_ot_nt = {}\n",
    "\n",
    "for book, references in dict_cr.items():\n",
    "    if book in old_testament:\n",
    "        filtered_references = {ref_book: count for ref_book, count in references.items() if ref_book in new_testament}\n",
    "    elif book in new_testament:\n",
    "        filtered_references = {ref_book: count for ref_book, count in references.items() if ref_book in old_testament}\n",
    "    else:\n",
    "        continue\n",
    "    if filtered_references:\n",
    "        dict_cr_ot_nt[book] = filtered_references"
   ]
  },
  {
   "cell_type": "code",
   "execution_count": 685,
   "metadata": {},
   "outputs": [
    {
     "name": "stdout",
     "output_type": "stream",
     "text": [
      "{'Genesis': {'1 John': 33, 'Ephesians': 79, 'Hebrews': 202, 'Matthew': 281, 'Revelation': 122, '1 Corinthians': 102, 'Romans': 153, '2 Peter': 31, 'Acts': 242, 'Mark': 44, 'John': 143, '2 Corinthians': 69, '1 Timothy': 68, '1 Thessalonians': 35, 'James': 41, 'Luke': 233, 'Galatians': 70, 'Colossians': 36, '1 Peter': 69, '2 Thessalonians': 9, 'Titus': 25, 'Jude': 12, '2 Timothy': 19, 'Philippians': 25, 'Philemon': 3, '3 John': 1, '2 John': 1}, 'Exodus': {'Acts': 159, 'Titus': 12, 'James': 33, 'Romans': 79, 'John': 142, 'Revelation': 153, 'Matthew': 189, 'Luke': 129, 'Hebrews': 189, '1 Peter': 47, '1 John': 31, 'Galatians': 26, '1 Timothy': 27, 'Mark': 37, '2 Corinthians': 53, 'Ephesians': 57, 'Philippians': 21, '1 Corinthians': 106, '2 Thessalonians': 4, '2 Timothy': 18, 'Jude': 8, '2 Peter': 12, 'Colossians': 25, '1 Thessalonians': 17, '2 John': 1}, 'Leviticus': {'John': 84, 'Romans': 123, 'Ephesians': 55, '2 Corinthians': 76, 'Hebrews': 184, 'Luke': 87, '1 John': 42, 'Philippians': 18, '1 Peter': 75, 'Matthew': 117, 'Revelation': 78, 'Jude': 12, 'Acts': 64, 'Galatians': 34, 'Mark': 26, '1 Corinthians': 71, 'Colossians': 21, '1 Timothy': 34, 'James': 23, 'Titus': 23, '1 Thessalonians': 16, '2 Timothy': 10, '2 Thessalonians': 5, '2 Peter': 5}, 'Numbers': {'Luke': 66, 'John': 84, 'Hebrews': 117, 'Matthew': 123, 'Revelation': 80, '2 Timothy': 10, 'Philippians': 19, '1 Corinthians': 90, 'Colossians': 17, 'Ephesians': 30, 'Romans': 69, 'Mark': 18, '1 Timothy': 29, '1 Peter': 37, 'Titus': 11, 'Acts': 103, '2 Corinthians': 41, 'Galatians': 23, '2 Thessalonians': 4, '2 Peter': 21, '1 Thessalonians': 14, '2 John': 4, 'James': 25, 'Jude': 23, '1 John': 11, '3 John': 1}, 'Deuteronomy': {'2 Corinthians': 49, 'Ephesians': 42, '1 Timothy': 38, 'John': 98, '1 Thessalonians': 21, 'Matthew': 164, 'Luke': 125, 'James': 36, 'Mark': 34, 'Colossians': 19, '1 Peter': 34, 'Romans': 112, 'Acts': 119, 'Hebrews': 109, 'Jude': 9, 'Philippians': 23, '1 Corinthians': 85, 'Revelation': 78, 'Galatians': 33, '2 Timothy': 14, 'Titus': 14, '1 John': 27, '2 Peter': 19, '2 John': 1, '2 Thessalonians': 10}, 'Joshua': {'Revelation': 49, 'James': 15, 'Luke': 41, 'Titus': 6, 'Romans': 32, 'Acts': 63, 'Hebrews': 46, '2 Timothy': 11, 'Matthew': 75, '1 Corinthians': 25, 'Ephesians': 16, 'John': 27, 'Colossians': 5, 'Galatians': 11, 'Philippians': 8, '1 Timothy': 4, 'Mark': 6, '2 Corinthians': 13, '1 Thessalonians': 5, '2 Peter': 10, '1 John': 2, '2 Thessalonians': 1, '1 Peter': 2, 'Jude': 1}, 'Judges': {'Hebrews': 32, 'Revelation': 34, 'James': 17, 'Romans': 39, '2 Corinthians': 24, '1 Peter': 13, 'Matthew': 65, 'Philippians': 17, '2 Thessalonians': 4, 'Luke': 38, 'Acts': 43, 'Titus': 2, '1 Corinthians': 31, 'Galatians': 13, 'John': 48, '1 Timothy': 7, '2 Timothy': 5, 'Philemon': 1, 'Ephesians': 16, '1 John': 6, 'Mark': 5, '1 Thessalonians': 11, '2 Peter': 4, 'Jude': 2, 'Colossians': 2, '2 John': 1}, 'Ruth': {'Hebrews': 10, 'Matthew': 30, 'Luke': 21, '1 Peter': 2, '1 Timothy': 6, 'Colossians': 4, 'Ephesians': 6, 'Acts': 8, '2 Timothy': 4, '1 John': 2, 'John': 3, 'Revelation': 3, '1 Thessalonians': 5, '2 Thessalonians': 3, 'Romans': 7, 'Galatians': 2, 'Philippians': 4, '1 Corinthians': 6, 'James': 1, 'Philemon': 1, '2 Corinthians': 3}, '1 Samuel': {'Matthew': 119, 'Luke': 97, 'John': 62, '1 Thessalonians': 15, 'Hebrews': 39, 'Colossians': 10, 'Ephesians': 22, 'James': 23, 'Acts': 82, 'Romans': 50, '1 Corinthians': 22, 'Mark': 17, '1 John': 8, '2 Timothy': 14, 'Philippians': 19, 'Revelation': 37, '1 Peter': 28, '2 Corinthians': 37, 'Galatians': 9, 'Jude': 6, '2 Peter': 6, '1 Timothy': 13, '3 John': 2, 'Titus': 2, '2 John': 1, '2 Thessalonians': 3}, '2 Samuel': {'Matthew': 103, 'Revelation': 32, 'Luke': 61, 'Romans': 41, 'Acts': 49, '2 Corinthians': 19, '1 Peter': 18, '2 Peter': 6, 'Ephesians': 17, '1 Corinthians': 27, 'Galatians': 8, 'Philippians': 9, 'John': 39, 'Mark': 11, '2 Timothy': 5, '1 John': 7, 'Hebrews': 34, 'James': 13, 'Colossians': 4, '1 Timothy': 2, '1 Thessalonians': 6, 'Titus': 6, 'Jude': 1, '2 Thessalonians': 6}, '1 Kings': {'Luke': 91, 'Matthew': 157, 'Acts': 100, '2 Corinthians': 26, '1 Peter': 21, 'Romans': 51, 'John': 72, 'Hebrews': 44, 'Ephesians': 25, '1 Corinthians': 27, '1 Timothy': 11, '2 Timothy': 10, 'Jude': 3, 'Mark': 26, 'James': 20, 'Galatians': 11, '1 John': 11, 'Philippians': 9, 'Colossians': 8, 'Revelation': 60, 'Titus': 1, '2 Peter': 8, '1 Thessalonians': 3, 'Philemon': 2, '2 John': 1}, '2 Kings': {'Luke': 96, 'Matthew': 118, 'Mark': 35, 'Acts': 99, 'Revelation': 42, 'Hebrews': 38, 'James': 9, '1 John': 3, '1 Corinthians': 20, '1 Timothy': 7, 'John': 67, '2 Corinthians': 20, 'Ephesians': 11, '1 Peter': 14, 'Romans': 31, 'Galatians': 6, 'Philippians': 11, '1 Thessalonians': 8, '2 Peter': 4, 'Titus': 4, '2 Timothy': 4, 'Colossians': 1, '2 Thessalonians': 7, 'Philemon': 1, '3 John': 2, 'Jude': 1}, '1 Chronicles': {'Luke': 36, 'Hebrews': 38, 'Jude': 3, '2 Peter': 2, 'Matthew': 50, 'Acts': 57, 'Romans': 26, 'John': 34, '1 Corinthians': 23, 'Ephesians': 23, '2 Timothy': 6, 'Revelation': 30, 'Colossians': 8, 'Mark': 3, 'Philippians': 14, '2 Corinthians': 24, '1 Peter': 13, 'Galatians': 4, 'Titus': 4, 'James': 7, '1 John': 4, '2 Thessalonians': 3, '1 Thessalonians': 4, '1 Timothy': 5, '3 John': 1, 'Philemon': 2}, '2 Chronicles': {'Matthew': 104, 'John': 49, 'Mark': 18, 'James': 29, '2 Corinthians': 27, 'Acts': 99, 'Hebrews': 37, 'Ephesians': 18, '1 Timothy': 11, 'Luke': 69, '1 Peter': 16, 'Revelation': 73, 'Titus': 2, '1 John': 11, '1 Corinthians': 31, 'Romans': 36, '1 Thessalonians': 10, 'Colossians': 7, 'Philippians': 14, 'Galatians': 14, 'Jude': 2, '2 Peter': 5, '2 Thessalonians': 3, '2 John': 1, '2 Timothy': 16, '3 John': 1}, 'Ezra': {'John': 15, 'Matthew': 20, 'Acts': 29, 'Galatians': 5, '3 John': 1, 'Philippians': 7, '2 Corinthians': 15, 'Romans': 16, '1 Corinthians': 9, 'Luke': 10, '2 Timothy': 4, 'Revelation': 13, '1 Thessalonians': 2, '1 Peter': 2, '2 Thessalonians': 1, 'Mark': 3, 'Ephesians': 3, 'Hebrews': 7, 'Titus': 3, '1 Timothy': 3, 'James': 3, '1 John': 1, 'Colossians': 1}, 'Nehemiah': {'Romans': 24, 'Luke': 27, '1 John': 5, 'Ephesians': 10, '2 Timothy': 10, '1 Timothy': 9, 'Revelation': 18, 'Matthew': 52, 'Hebrews': 23, 'Mark': 6, 'Philippians': 11, 'Acts': 64, '2 Corinthians': 22, 'John': 26, '1 Corinthians': 20, '1 Peter': 10, '1 Thessalonians': 4, 'Galatians': 9, 'Colossians': 3, 'James': 6, 'Titus': 5, '2 Thessalonians': 1, '2 Peter': 4}, 'Esther': {'Mark': 3, 'Matthew': 30, 'Revelation': 14, 'Colossians': 2, 'Romans': 12, 'Ephesians': 8, 'John': 7, '1 Peter': 3, 'Acts': 20, '1 Timothy': 4, 'Luke': 17, '2 Corinthians': 1, '1 John': 1, 'Philippians': 6, 'James': 3, '1 Corinthians': 3, 'Hebrews': 4, '1 Thessalonians': 2, '2 Thessalonians': 2, 'Galatians': 3, '2 Timothy': 1}, 'Job': {'James': 89, '1 Peter': 47, 'Luke': 115, 'Hebrews': 73, 'Acts': 100, 'John': 75, '2 Corinthians': 58, 'Ephesians': 43, '1 Corinthians': 75, 'Matthew': 176, 'Revelation': 102, '1 Timothy': 30, '1 Thessalonians': 24, 'Romans': 133, 'Philippians': 10, 'Mark': 20, '2 Peter': 28, 'Colossians': 15, '2 Thessalonians': 6, '2 Timothy': 14, 'Jude': 20, 'Galatians': 15, '1 John': 24, 'Titus': 10, 'Philemon': 1}, 'Psalms': {'1 Peter': 215, 'Ephesians': 186, 'Matthew': 617, 'John': 437, 'Revelation': 606, 'Luke': 454, 'Romans': 367, '1 Timothy': 47, '2 Timothy': 72, '1 John': 95, '1 Thessalonians': 53, 'Jude': 33, '2 Peter': 65, 'Acts': 384, 'Hebrews': 332, 'Philippians': 100, 'James': 135, '1 Corinthians': 149, '2 Corinthians': 153, 'Titus': 53, 'Mark': 79, '2 Thessalonians': 35, 'Colossians': 66, 'Galatians': 67, '3 John': 6, '2 John': 4}, 'Proverbs': {'John': 148, '2 Timothy': 38, 'Titus': 21, '1 Corinthians': 72, 'Hebrews': 79, 'Mark': 28, '2 Peter': 29, 'Romans': 121, 'Matthew': 235, 'Ephesians': 74, 'Acts': 107, 'Luke': 155, '2 Corinthians': 69, '1 Timothy': 48, 'Colossians': 29, 'Revelation': 125, '1 Thessalonians': 29, 'James': 92, '1 Peter': 71, '1 John': 47, 'Jude': 15, 'Philippians': 28, '3 John': 4, 'Galatians': 16, '2 Thessalonians': 10, '2 John': 5, 'Philemon': 4}, 'Ecclesiastes': {'2 Peter': 9, 'Romans': 26, 'Matthew': 69, 'John': 28, 'Revelation': 15, '2 Timothy': 8, 'Acts': 45, '1 Timothy': 14, 'Hebrews': 25, '1 Thessalonians': 6, 'Luke': 61, 'Titus': 6, 'James': 28, 'Ephesians': 14, '1 John': 7, '1 Corinthians': 18, 'Philippians': 5, '1 Peter': 10, 'Galatians': 4, '2 Corinthians': 15, '2 Thessalonians': 1, 'Mark': 7, '2 John': 2, 'Colossians': 7, 'Jude': 1}, 'Song of Solomon': {'1 Peter': 15, 'Matthew': 48, 'Luke': 36, 'Acts': 19, '2 Corinthians': 17, 'John': 50, 'Revelation': 50, 'Philippians': 16, 'Ephesians': 25, 'Hebrews': 28, '1 John': 3, 'Galatians': 14, 'Romans': 16, 'Mark': 8, 'James': 6, '1 Corinthians': 10, 'Colossians': 13, 'Jude': 2, '2 Peter': 5, '1 Thessalonians': 2, '1 Timothy': 3, '2 Thessalonians': 2, '2 Timothy': 2}, 'Isaiah': {'Matthew': 447, 'Acts': 244, '2 Corinthians': 98, '2 Peter': 49, 'Romans': 245, 'Colossians': 28, 'Revelation': 496, '1 Corinthians': 94, 'Luke': 294, 'John': 272, 'Philippians': 47, 'Ephesians': 115, '1 Timothy': 36, '1 Peter': 126, 'James': 65, 'Hebrews': 195, 'Titus': 25, 'Mark': 68, '1 Thessalonians': 37, '2 Timothy': 18, '1 John': 42, '2 Thessalonians': 37, 'Jude': 23, 'Galatians': 43, '2 John': 2, 'Philemon': 1}, 'Jeremiah': {'Romans': 126, 'Luke': 154, 'Ephesians': 41, 'Matthew': 229, 'Acts': 212, '1 Thessalonians': 29, '1 Peter': 51, '1 Corinthians': 53, 'John': 110, 'Hebrews': 108, '2 Peter': 25, 'James': 49, 'Revelation': 260, '2 Corinthians': 56, 'Mark': 33, 'Galatians': 25, 'Philippians': 14, 'Colossians': 10, '2 Thessalonians': 15, '2 Timothy': 31, 'Titus': 8, '1 Timothy': 24, '1 John': 14, 'Jude': 9, 'Philemon': 1}, 'Lamentations': {'Revelation': 20, 'Luke': 24, '1 Peter': 4, 'John': 2, 'Mark': 5, 'Matthew': 19, '2 Thessalonians': 1, 'Hebrews': 8, 'Romans': 7, 'Ephesians': 3, '2 Corinthians': 4, 'Acts': 6, '1 Timothy': 3, 'Jude': 2, 'Titus': 1, 'James': 2, '1 Thessalonians': 2, 'Galatians': 1, '1 Corinthians': 4, '2 Timothy': 2}, 'Ezekiel': {'Matthew': 143, 'Acts': 127, 'Revelation': 289, 'John': 100, '2 Corinthians': 35, 'Luke': 129, 'Mark': 28, '1 Timothy': 31, 'Hebrews': 101, '1 Corinthians': 62, 'Ephesians': 37, 'Romans': 97, '1 Peter': 53, '2 Thessalonians': 8, 'Philippians': 10, '2 Timothy': 16, 'Colossians': 19, '1 Thessalonians': 18, '1 John': 31, 'Titus': 6, 'James': 25, 'Jude': 16, '2 Peter': 28, 'Galatians': 18, '2 John': 2}, 'Daniel': {'Acts': 131, 'Ephesians': 22, 'Luke': 93, 'Matthew': 121, 'Mark': 36, '2 Corinthians': 21, '1 Corinthians': 18, 'Romans': 33, 'James': 16, 'Colossians': 10, 'John': 65, 'Revelation': 232, '2 Peter': 9, 'Jude': 12, '1 Timothy': 16, '1 John': 9, 'Hebrews': 43, '2 Timothy': 9, '1 Peter': 24, 'Galatians': 8, 'Philippians': 9, '1 Thessalonians': 9, 'Titus': 3, '2 Thessalonians': 13, '2 John': 1}, 'Hosea': {'John': 45, '2 Peter': 7, 'Romans': 39, 'Revelation': 34, 'Mark': 5, 'Matthew': 36, 'Luke': 39, '1 Peter': 5, 'Hebrews': 15, '2 Corinthians': 15, '1 Timothy': 4, 'James': 17, '1 Corinthians': 13, 'Acts': 25, '1 John': 10, '2 Timothy': 5, 'Colossians': 1, 'Philippians': 10, '1 Thessalonians': 5, 'Galatians': 5, 'Titus': 4, 'Ephesians': 7, 'Jude': 2}, 'Joel': {'2 Peter': 2, 'Acts': 9, 'Matthew': 17, 'Revelation': 28, 'James': 6, 'Luke': 9, 'Romans': 11, '2 Corinthians': 4, '1 Corinthians': 6, '1 Thessalonians': 1, 'Philippians': 5, '1 Peter': 2, 'Hebrews': 3, 'Jude': 1, 'Mark': 2, 'John': 4, 'Ephesians': 1, '1 Timothy': 2, '2 Timothy': 1, '1 John': 1, 'Galatians': 2, 'Colossians': 1, '2 Thessalonians': 4}, 'Amos': {'Matthew': 29, '1 Corinthians': 13, 'Acts': 34, 'Romans': 11, 'Ephesians': 4, '1 Peter': 5, '1 Thessalonians': 3, 'Mark': 4, 'Revelation': 25, '2 Corinthians': 1, 'John': 12, '2 Peter': 5, 'James': 10, 'Jude': 3, 'Luke': 10, 'Hebrews': 2, '2 Timothy': 2, '3 John': 1, 'Philippians': 1, '1 Timothy': 1, 'Colossians': 1}, 'Obadiah': {'Matthew': 4, 'Mark': 1, 'Revelation': 6, 'John': 1, '2 Peter': 1, 'Luke': 3, 'Jude': 1, 'James': 3, '1 Peter': 1, '1 Corinthians': 1, '1 Timothy': 1}, 'Jonah': {'Matthew': 19, 'Luke': 13, 'James': 3, 'Revelation': 8, 'Acts': 19, '2 Thessalonians': 1, '1 Corinthians': 4, 'Romans': 2, 'Ephesians': 3, 'Philippians': 1, 'John': 4, 'Mark': 1, 'Hebrews': 5, '2 Timothy': 1, '2 Corinthians': 1}, 'Micah': {'Revelation': 38, 'Matthew': 35, 'Acts': 22, 'Mark': 7, 'Romans': 20, 'John': 21, 'Luke': 25, '1 Timothy': 2, 'James': 4, 'Ephesians': 6, '2 Timothy': 3, '2 Corinthians': 5, 'Philippians': 1, '1 John': 4, 'Hebrews': 7, '1 Corinthians': 8, '1 Peter': 3, 'Jude': 3, 'Titus': 2, '2 Peter': 2, 'Colossians': 4, '2 Thessalonians': 2, 'Philemon': 1}, 'Nahum': {'Hebrews': 2, 'Romans': 4, '2 Peter': 1, 'Revelation': 19, 'James': 1, 'Matthew': 8, 'Galatians': 1, 'John': 2, '2 Timothy': 1, '2 Corinthians': 1, 'Acts': 1, 'Luke': 5, '1 Corinthians': 2, 'Jude': 1}, 'Habakkuk': {'Revelation': 27, '2 Peter': 2, 'Matthew': 7, 'Romans': 5, 'Acts': 9, 'Mark': 2, 'Luke': 7, '1 Timothy': 3, 'Hebrews': 7, 'Galatians': 3, '2 Corinthians': 2, '1 Corinthians': 3, 'John': 2, '1 Peter': 3, '2 Thessalonians': 1, '1 Thessalonians': 2, 'James': 2, 'Jude': 1, 'Philippians': 4, 'Colossians': 1, 'Ephesians': 1}, 'Zephaniah': {'2 Timothy': 1, '2 Peter': 8, 'Matthew': 18, 'Revelation': 17, 'Romans': 15, 'Hebrews': 6, 'Colossians': 2, 'Philippians': 2, 'Acts': 6, 'John': 8, 'James': 3, '1 Thessalonians': 3, '2 Corinthians': 3, '1 John': 3, '1 Corinthians': 4, '1 Peter': 8, 'Mark': 1, 'Luke': 4, '1 Timothy': 1, 'Ephesians': 2, 'Galatians': 1}, 'Haggai': {'Luke': 8, 'Philippians': 2, 'Matthew': 9, '2 Corinthians': 3, 'Galatians': 2, 'Revelation': 6, 'Hebrews': 3, 'Colossians': 2, 'Acts': 5, '2 Timothy': 5, 'Romans': 2, '1 Corinthians': 3, '2 Peter': 1, 'Mark': 1, 'Ephesians': 1, 'John': 4, 'James': 1, '1 Timothy': 1, 'Titus': 2, 'Jude': 1, '1 Peter': 1}, 'Zechariah': {'Luke': 58, 'Matthew': 87, 'Acts': 52, '1 Peter': 16, 'Hebrews': 29, 'John': 64, '1 Thessalonians': 9, 'Revelation': 114, '2 Thessalonians': 3, 'Ephesians': 13, '1 Timothy': 4, '1 John': 7, 'Philippians': 5, 'Romans': 28, 'Mark': 19, 'Jude': 3, '1 Corinthians': 16, 'Colossians': 9, '2 Corinthians': 11, '2 Timothy': 7, '2 Peter': 4, 'James': 15, 'Galatians': 5}, 'Malachi': {'Luke': 42, 'Matthew': 28, '1 Peter': 9, 'Ephesians': 5, 'Mark': 7, '1 Corinthians': 9, 'John': 21, 'Romans': 21, 'Philippians': 5, 'Hebrews': 14, 'Revelation': 32, '1 Timothy': 2, '2 Corinthians': 4, 'Acts': 19, 'Galatians': 3, '1 Thessalonians': 6, '2 Timothy': 2, 'Titus': 3, 'James': 5, '2 Thessalonians': 3, '2 Peter': 3, '1 John': 1}, 'Matthew': {'Genesis': 140, 'Isaiah': 392, 'Psalms': 447, 'Jeremiah': 169, 'Amos': 15, 'Zechariah': 73, '1 Chronicles': 27, 'Numbers': 47, 'Ruth': 12, '1 Samuel': 71, '2 Samuel': 43, '1 Kings': 99, '2 Chronicles': 44, '2 Kings': 52, 'Daniel': 84, 'Ezra': 20, 'Haggai': 8, 'Nehemiah': 26, 'Job': 85, 'Leviticus': 55, 'Proverbs': 163, 'Joel': 10, 'Judges': 29, 'Exodus': 82, 'Micah': 27, 'Malachi': 47, 'Joshua': 24, 'Lamentations': 20, 'Deuteronomy': 86, 'Hosea': 42, 'Ezekiel': 95, 'Esther': 12, 'Zephaniah': 10, 'Song of Solomon': 16, 'Obadiah': 5, 'Nahum': 2, 'Ecclesiastes': 29, 'Habakkuk': 8, 'Jonah': 10}, 'Mark': {'Psalms': 181, 'Malachi': 19, 'Joshua': 7, 'Proverbs': 55, 'Zechariah': 31, 'Leviticus': 13, '2 Kings': 24, 'Isaiah': 166, 'Joel': 7, 'Exodus': 30, 'Deuteronomy': 46, 'Daniel': 43, 'Ezekiel': 34, '1 Kings': 41, 'Jeremiah': 63, 'Micah': 10, '2 Chronicles': 22, 'Genesis': 72, '2 Samuel': 16, 'Job': 35, '1 Chronicles': 5, 'Song of Solomon': 7, '1 Samuel': 21, 'Hosea': 23, 'Judges': 5, 'Nehemiah': 8, 'Numbers': 17, 'Ecclesiastes': 16, 'Amos': 2, 'Jonah': 4, 'Lamentations': 16, 'Nahum': 1, 'Esther': 6, 'Zephaniah': 3, 'Habakkuk': 2, 'Ruth': 2, 'Ezra': 1, 'Haggai': 1}, 'Luke': {'Psalms': 501, 'Ecclesiastes': 38, 'Nehemiah': 19, '1 Chronicles': 29, 'Job': 94, '1 Kings': 57, 'Genesis': 183, '2 Kings': 55, '1 Samuel': 78, 'Exodus': 76, '2 Chronicles': 38, 'Ezra': 6, 'Numbers': 44, 'Leviticus': 29, 'Judges': 25, 'Daniel': 75, 'Isaiah': 420, 'Hosea': 49, 'Proverbs': 171, 'Joshua': 21, 'Zechariah': 76, 'Jeremiah': 172, 'Malachi': 40, 'Amos': 16, 'Ezekiel': 110, '2 Samuel': 40, 'Micah': 38, 'Obadiah': 3, 'Ruth': 9, 'Habakkuk': 11, 'Deuteronomy': 74, 'Joel': 7, 'Zephaniah': 13, 'Jonah': 10, 'Esther': 14, 'Song of Solomon': 21, 'Haggai': 5, 'Nahum': 7, 'Lamentations': 22}, 'John': {'Isaiah': 351, 'Genesis': 111, 'Psalms': 372, 'Malachi': 24, 'Proverbs': 111, 'Jeremiah': 102, 'Hosea': 37, 'Micah': 23, 'Zechariah': 50, 'Deuteronomy': 63, 'Exodus': 49, 'Lamentations': 14, 'Numbers': 26, '2 Samuel': 16, 'Judges': 12, 'Leviticus': 23, '1 Kings': 40, 'Ruth': 3, '2 Kings': 19, 'Daniel': 34, 'Zephaniah': 10, 'Ezekiel': 53, 'Joshua': 13, 'Ecclesiastes': 27, 'Song of Solomon': 28, '1 Chronicles': 13, '1 Samuel': 39, 'Job': 42, 'Amos': 10, 'Habakkuk': 3, '2 Chronicles': 21, 'Ezra': 5, 'Nehemiah': 16, 'Jonah': 1, 'Joel': 2, 'Esther': 2, 'Haggai': 1}, 'Acts': {'Isaiah': 362, 'Deuteronomy': 93, '1 Kings': 72, 'Joel': 15, 'Daniel': 106, 'Zechariah': 64, 'Genesis': 176, 'Jeremiah': 164, 'Amos': 26, 'Micah': 43, 'Hosea': 45, 'Psalms': 368, 'Exodus': 120, '2 Samuel': 44, 'Numbers': 51, '1 Chronicles': 39, 'Proverbs': 123, '1 Samuel': 88, 'Jonah': 19, 'Joshua': 43, 'Leviticus': 29, '2 Chronicles': 55, 'Zephaniah': 8, 'Malachi': 22, 'Song of Solomon': 10, 'Ezekiel': 83, 'Ezra': 30, '2 Kings': 45, 'Judges': 21, 'Esther': 16, 'Job': 71, 'Nehemiah': 35, 'Ecclesiastes': 27, 'Lamentations': 18, 'Habakkuk': 12, 'Ruth': 1, 'Haggai': 2, 'Obadiah': 1}, 'Romans': {'Deuteronomy': 72, 'Jeremiah': 107, 'Isaiah': 233, '1 Chronicles': 7, 'Amos': 9, 'Genesis': 98, 'Psalms': 323, 'Malachi': 11, 'Song of Solomon': 3, 'Job': 58, '1 Samuel': 22, '2 Samuel': 13, '2 Chronicles': 16, 'Proverbs': 108, '1 Kings': 18, 'Habakkuk': 5, 'Hosea': 23, '2 Kings': 11, 'Ecclesiastes': 27, 'Ezekiel': 64, 'Leviticus': 17, 'Judges': 3, 'Numbers': 20, 'Zephaniah': 11, 'Daniel': 35, 'Exodus': 43, 'Jonah': 6, 'Joshua': 11, 'Nahum': 4, 'Micah': 18, 'Zechariah': 19, 'Lamentations': 9, 'Haggai': 1, 'Ezra': 8, 'Ruth': 2, 'Obadiah': 1, 'Nehemiah': 10, 'Joel': 3, 'Esther': 2}, '1 Corinthians': {'Genesis': 62, 'Psalms': 145, 'Isaiah': 113, 'Numbers': 31, 'Deuteronomy': 54, 'Jeremiah': 52, 'Proverbs': 79, 'Job': 35, '2 Samuel': 17, 'Daniel': 28, 'Exodus': 44, 'Zephaniah': 5, 'Hosea': 14, '1 Chronicles': 15, 'Judges': 5, 'Ezekiel': 27, 'Amos': 8, 'Ecclesiastes': 25, 'Zechariah': 13, '2 Chronicles': 5, 'Malachi': 7, 'Leviticus': 16, 'Esther': 1, '1 Samuel': 13, '2 Kings': 8, 'Lamentations': 3, 'Joshua': 6, 'Micah': 2, '1 Kings': 4, 'Ruth': 2, 'Joel': 4, 'Nahum': 1, 'Jonah': 6, 'Song of Solomon': 7, 'Nehemiah': 9, 'Haggai': 3}, '2 Corinthians': {'Daniel': 10, '1 Chronicles': 9, '2 Samuel': 8, 'Psalms': 120, 'Micah': 3, 'Genesis': 27, 'Nehemiah': 8, 'Job': 32, 'Isaiah': 99, '1 Samuel': 21, 'Ezekiel': 31, 'Proverbs': 61, 'Joshua': 8, 'Jeremiah': 44, 'Zephaniah': 3, 'Judges': 5, 'Exodus': 37, 'Deuteronomy': 24, 'Song of Solomon': 4, 'Haggai': 4, 'Lamentations': 5, '1 Kings': 14, 'Ecclesiastes': 7, 'Nahum': 1, '2 Kings': 11, 'Zechariah': 7, 'Habakkuk': 2, 'Leviticus': 3, 'Malachi': 4, '2 Chronicles': 12, 'Joel': 2, 'Ezra': 9, 'Hosea': 4, 'Numbers': 9, 'Jonah': 3}, 'Galatians': {'Psalms': 56, 'Isaiah': 46, '1 Chronicles': 3, 'Jeremiah': 23, 'Nehemiah': 3, '1 Samuel': 7, 'Genesis': 30, 'Joshua': 6, 'Proverbs': 17, 'Deuteronomy': 19, 'Numbers': 4, 'Ecclesiastes': 9, 'Job': 15, 'Jonah': 2, 'Leviticus': 9, 'Ezekiel': 12, '1 Kings': 6, 'Habakkuk': 2, 'Zechariah': 4, '2 Samuel': 7, 'Daniel': 2, '2 Kings': 3, 'Esther': 2, 'Malachi': 3, 'Lamentations': 1, 'Exodus': 5, '2 Chronicles': 3, 'Amos': 1, 'Hosea': 11, 'Judges': 1, 'Joel': 1, 'Obadiah': 1, 'Zephaniah': 1}, 'Ephesians': {'Numbers': 7, 'Daniel': 18, 'Psalms': 120, 'Genesis': 37, '1 Chronicles': 11, 'Nehemiah': 7, 'Isaiah': 104, 'Jeremiah': 50, 'Hosea': 12, 'Zechariah': 21, 'Proverbs': 72, 'Jonah': 2, 'Job': 19, 'Exodus': 15, 'Micah': 6, 'Malachi': 7, 'Amos': 4, 'Deuteronomy': 27, 'Joel': 1, '1 Samuel': 14, 'Ezekiel': 15, '2 Chronicles': 7, 'Ezra': 2, 'Esther': 6, '1 Kings': 10, 'Zephaniah': 3, 'Song of Solomon': 5, '2 Samuel': 6, 'Judges': 3, 'Obadiah': 1, 'Leviticus': 9, 'Ecclesiastes': 11, 'Ruth': 2, 'Joshua': 4, '2 Kings': 2, 'Lamentations': 1, 'Haggai': 1, 'Habakkuk': 1}, 'Philippians': {'Psalms': 82, 'Jeremiah': 19, 'Isaiah': 58, 'Job': 13, 'Proverbs': 31, 'Joshua': 1, 'Micah': 6, 'Genesis': 18, 'Esther': 1, 'Exodus': 4, '2 Samuel': 7, 'Song of Solomon': 3, 'Zechariah': 4, 'Daniel': 7, 'Deuteronomy': 10, 'Ezra': 4, '1 Kings': 4, 'Nehemiah': 6, '2 Chronicles': 6, 'Numbers': 3, '1 Samuel': 9, 'Malachi': 6, 'Habakkuk': 1, '2 Kings': 5, 'Zephaniah': 2, '1 Chronicles': 3, 'Joel': 1, 'Jonah': 1, 'Ecclesiastes': 1, 'Hosea': 4, 'Ezekiel': 3, 'Ruth': 1}, 'Colossians': {'Psalms': 63, 'Numbers': 6, '1 Samuel': 5, 'Micah': 7, 'Habakkuk': 1, 'Daniel': 4, 'Proverbs': 24, 'Isaiah': 47, 'Exodus': 3, '1 Kings': 2, '1 Chronicles': 7, 'Zechariah': 3, 'Deuteronomy': 12, 'Song of Solomon': 3, 'Leviticus': 8, 'Job': 9, 'Ezekiel': 10, 'Zephaniah': 2, 'Lamentations': 1, 'Jeremiah': 12, 'Ecclesiastes': 9, 'Genesis': 9, '2 Chronicles': 4, 'Ruth': 2, 'Esther': 3, 'Nehemiah': 7, '2 Kings': 1, 'Amos': 2, 'Hosea': 1, 'Malachi': 4, 'Jonah': 1, '2 Samuel': 1}, '1 Thessalonians': {'Ecclesiastes': 3, 'Song of Solomon': 3, 'Genesis': 11, 'Isaiah': 37, 'Hosea': 4, 'Exodus': 7, 'Jeremiah': 22, 'Zephaniah': 3, 'Psalms': 45, '1 Samuel': 9, 'Daniel': 4, 'Deuteronomy': 15, 'Malachi': 6, 'Job': 9, 'Habakkuk': 1, 'Numbers': 8, '1 Kings': 10, 'Proverbs': 39, '1 Chronicles': 3, 'Micah': 3, 'Esther': 3, 'Nehemiah': 5, 'Amos': 1, '2 Kings': 4, '2 Samuel': 3, 'Zechariah': 6, 'Ezekiel': 5, 'Leviticus': 11, 'Lamentations': 3, 'Joel': 1, 'Nahum': 1, 'Jonah': 1, '2 Chronicles': 1}, '2 Thessalonians': {'Proverbs': 14, 'Psalms': 39, 'Job': 5, 'Jeremiah': 9, 'Daniel': 15, 'Exodus': 5, 'Zechariah': 3, 'Isaiah': 39, 'Deuteronomy': 11, '1 Samuel': 4, 'Zephaniah': 3, 'Genesis': 8, 'Malachi': 2, 'Numbers': 3, 'Hosea': 3, 'Micah': 2, 'Ezekiel': 6, '2 Samuel': 1, '1 Chronicles': 2, '1 Kings': 1, 'Lamentations': 1, 'Ecclesiastes': 1, 'Ezra': 1, 'Judges': 1, 'Haggai': 1, 'Ruth': 1, 'Joshua': 1}, '1 Timothy': {'Isaiah': 61, 'Hosea': 7, 'Psalms': 85, 'Jeremiah': 33, 'Nehemiah': 6, 'Exodus': 10, 'Proverbs': 50, 'Deuteronomy': 41, '2 Kings': 11, 'Ezekiel': 18, '2 Samuel': 4, 'Leviticus': 12, '2 Chronicles': 8, 'Zechariah': 5, 'Genesis': 34, 'Malachi': 6, 'Numbers': 5, 'Job': 9, 'Daniel': 11, '1 Chronicles': 5, 'Micah': 7, 'Ezra': 2, 'Habakkuk': 2, 'Ecclesiastes': 7, '1 Kings': 10, 'Esther': 2, '1 Samuel': 12, 'Joshua': 6, 'Nahum': 1, 'Ruth': 3, 'Judges': 1, 'Lamentations': 2, 'Joel': 1, 'Song of Solomon': 2}, '2 Timothy': {'Jeremiah': 22, 'Isaiah': 38, 'Psalms': 61, 'Exodus': 10, 'Proverbs': 27, 'Micah': 4, 'Zechariah': 4, 'Hosea': 4, 'Nahum': 3, 'Nehemiah': 7, '1 Kings': 5, 'Haggai': 2, 'Joshua': 4, '1 Samuel': 6, 'Ezra': 5, 'Numbers': 4, 'Malachi': 3, 'Daniel': 15, 'Deuteronomy': 6, '1 Chronicles': 3, 'Habakkuk': 1, 'Job': 4, 'Lamentations': 1, '2 Chronicles': 2, 'Ezekiel': 7, 'Genesis': 7, '2 Samuel': 4, 'Ecclesiastes': 1, 'Jonah': 1}, 'Titus': {'1 Chronicles': 2, 'Numbers': 3, '1 Samuel': 8, 'Isaiah': 23, 'Habakkuk': 1, 'Daniel': 2, 'Ecclesiastes': 5, 'Proverbs': 17, 'Malachi': 2, 'Genesis': 5, 'Leviticus': 5, 'Ezekiel': 9, '1 Kings': 2, 'Psalms': 24, 'Amos': 1, 'Job': 10, 'Micah': 3, 'Jeremiah': 3, 'Haggai': 1, '2 Samuel': 2, 'Joel': 2, 'Nehemiah': 1, 'Zechariah': 2, 'Deuteronomy': 4, 'Exodus': 1, 'Obadiah': 1}, 'Philemon': {'Psalms': 5, 'Isaiah': 2, 'Proverbs': 1, '2 Samuel': 2, 'Deuteronomy': 1, 'Jeremiah': 1, '1 Chronicles': 1, 'Genesis': 1}, 'Hebrews': {'Genesis': 107, 'Joel': 4, 'Daniel': 45, 'Jeremiah': 87, 'Deuteronomy': 77, 'Isaiah': 204, 'Numbers': 75, 'Micah': 15, 'Hosea': 17, 'Ezekiel': 46, 'Ecclesiastes': 13, '1 Chronicles': 21, 'Psalms': 273, 'Job': 38, '2 Samuel': 22, '2 Kings': 13, 'Zechariah': 25, 'Malachi': 12, 'Proverbs': 64, 'Amos': 4, 'Exodus': 93, 'Joshua': 25, '1 Kings': 33, 'Habakkuk': 6, '2 Chronicles': 21, 'Leviticus': 67, 'Haggai': 3, '1 Samuel': 31, 'Esther': 2, 'Nehemiah': 12, 'Judges': 7, 'Obadiah': 1, 'Ezra': 3, 'Song of Solomon': 7, 'Lamentations': 2, 'Zephaniah': 3, 'Nahum': 4, 'Ruth': 2}, 'James': {'Deuteronomy': 20, 'Ezekiel': 15, 'Esther': 3, 'Exodus': 17, '1 Kings': 13, 'Ezra': 1, 'Leviticus': 13, 'Psalms': 133, 'Proverbs': 84, 'Habakkuk': 6, 'Job': 36, '1 Chronicles': 10, '2 Chronicles': 15, 'Genesis': 33, 'Isaiah': 83, '2 Kings': 8, 'Hosea': 7, '1 Samuel': 11, 'Ecclesiastes': 14, 'Nehemiah': 6, 'Zechariah': 8, 'Numbers': 9, 'Malachi': 8, 'Amos': 5, 'Jeremiah': 38, 'Zephaniah': 4, 'Obadiah': 1, 'Judges': 4, 'Song of Solomon': 1, 'Jonah': 8, 'Micah': 9, 'Joshua': 8, 'Daniel': 9, '2 Samuel': 8, 'Lamentations': 3, 'Joel': 5}, '1 Peter': {'Deuteronomy': 14, 'Ezekiel': 24, 'Leviticus': 14, 'Psalms': 111, 'Esther': 4, 'Isaiah': 90, 'Daniel': 26, '1 Chronicles': 4, '1 Kings': 5, 'Exodus': 15, 'Jonah': 1, 'Job': 21, 'Jeremiah': 36, 'Proverbs': 52, '1 Samuel': 9, 'Malachi': 7, 'Ecclesiastes': 5, 'Zechariah': 24, 'Song of Solomon': 5, 'Genesis': 23, 'Haggai': 2, 'Amos': 7, 'Joel': 2, '2 Kings': 5, 'Zephaniah': 1, '2 Chronicles': 12, 'Micah': 6, 'Hosea': 8, '2 Samuel': 2, 'Numbers': 3, 'Nehemiah': 1, 'Judges': 1}, '2 Peter': {'Jeremiah': 18, 'Isaiah': 43, 'Daniel': 7, 'Psalms': 50, 'Proverbs': 20, 'Ruth': 1, 'Zechariah': 2, 'Genesis': 12, 'Micah': 9, 'Song of Solomon': 2, 'Haggai': 1, 'Deuteronomy': 9, 'Joshua': 3, 'Malachi': 7, 'Exodus': 13, '2 Kings': 5, '2 Chronicles': 1, '1 Kings': 11, '2 Samuel': 2, 'Numbers': 7, '1 Chronicles': 1, 'Hosea': 7, 'Lamentations': 1, 'Ezekiel': 12, 'Habakkuk': 3, 'Job': 7, 'Amos': 3, 'Zephaniah': 3, 'Ecclesiastes': 6, '1 Samuel': 2, 'Nehemiah': 1, 'Joel': 4, 'Nahum': 1, 'Ezra': 1}, '1 John': {'Isaiah': 28, 'Micah': 5, 'Psalms': 83, 'Proverbs': 28, 'Amos': 1, 'Zechariah': 6, 'Ecclesiastes': 3, '1 Kings': 3, 'Job': 16, '2 Chronicles': 2, 'Lamentations': 1, 'Jeremiah': 17, 'Nehemiah': 1, 'Ezekiel': 8, 'Deuteronomy': 9, 'Leviticus': 4, 'Malachi': 4, 'Hosea': 4, 'Joel': 1, 'Genesis': 8, 'Daniel': 5, 'Numbers': 7, 'Joshua': 1, '2 Samuel': 1, '1 Samuel': 2, '1 Chronicles': 1, 'Exodus': 4}, '2 John': {'Zechariah': 1, 'Hosea': 1, 'Malachi': 1, 'Daniel': 1, 'Psalms': 2, 'Genesis': 1, 'Numbers': 1}, '3 John': {'Psalms': 3, '2 Kings': 1, '1 Kings': 2, 'Proverbs': 4, 'Isaiah': 3, 'Genesis': 2, 'Jonah': 1, 'Exodus': 1, 'Daniel': 1}, 'Jude': {'Jeremiah': 4, 'Deuteronomy': 7, 'Isaiah': 13, 'Nehemiah': 1, 'Psalms': 20, '2 Samuel': 1, 'Hosea': 4, 'Genesis': 5, 'Lamentations': 2, 'Amos': 2, 'Exodus': 3, 'Proverbs': 5, 'Numbers': 4, 'Ecclesiastes': 3, '1 Chronicles': 2, 'Zechariah': 4, 'Daniel': 6, 'Micah': 1, 'Ezekiel': 8, '2 Chronicles': 1, '1 Samuel': 1, 'Job': 3, 'Leviticus': 3, 'Malachi': 1}, 'Revelation': {'Amos': 20, 'Psalms': 328, 'Daniel': 166, 'Proverbs': 47, 'Isaiah': 375, 'Micah': 17, 'Zechariah': 60, 'Exodus': 67, 'Deuteronomy': 53, 'Numbers': 28, 'Job': 45, 'Judges': 14, 'Nahum': 9, 'Genesis': 56, 'Jeremiah': 162, 'Habakkuk': 18, 'Leviticus': 13, 'Ezekiel': 150, 'Malachi': 22, 'Hosea': 28, '2 Chronicles': 22, 'Joshua': 11, '1 Kings': 35, '2 Kings': 22, 'Zephaniah': 13, '1 Chronicles': 12, '1 Samuel': 23, 'Esther': 3, 'Ecclesiastes': 8, '2 Samuel': 8, 'Joel': 25, 'Obadiah': 2, 'Nehemiah': 14, 'Lamentations': 16, 'Jonah': 9, 'Song of Solomon': 13, 'Ruth': 1, 'Ezra': 9}}\n"
     ]
    }
   ],
   "source": [
    "print(dict_cr_ot_nt)"
   ]
  },
  {
   "cell_type": "code",
   "execution_count": 686,
   "metadata": {},
   "outputs": [],
   "source": [
    "dict_cr_unidirectional_ot = {}\n",
    "\n",
    "for book1, references in dict_cr_ot_nt.items():\n",
    "    if book1 in old_testament:\n",
    "        for book2, count1 in references.items():\n",
    "            dict_cr_unidirectional_ot[tuple(sorted((book1, book2)))] = count1\n",
    "    else: pass"
   ]
  },
  {
   "cell_type": "code",
   "execution_count": 687,
   "metadata": {},
   "outputs": [
    {
     "name": "stdout",
     "output_type": "stream",
     "text": [
      "{('1 John', 'Genesis'): 33, ('Ephesians', 'Genesis'): 79, ('Genesis', 'Hebrews'): 202, ('Genesis', 'Matthew'): 281, ('Genesis', 'Revelation'): 122, ('1 Corinthians', 'Genesis'): 102, ('Genesis', 'Romans'): 153, ('2 Peter', 'Genesis'): 31, ('Acts', 'Genesis'): 242, ('Genesis', 'Mark'): 44, ('Genesis', 'John'): 143, ('2 Corinthians', 'Genesis'): 69, ('1 Timothy', 'Genesis'): 68, ('1 Thessalonians', 'Genesis'): 35, ('Genesis', 'James'): 41, ('Genesis', 'Luke'): 233, ('Galatians', 'Genesis'): 70, ('Colossians', 'Genesis'): 36, ('1 Peter', 'Genesis'): 69, ('2 Thessalonians', 'Genesis'): 9, ('Genesis', 'Titus'): 25, ('Genesis', 'Jude'): 12, ('2 Timothy', 'Genesis'): 19, ('Genesis', 'Philippians'): 25, ('Genesis', 'Philemon'): 3, ('3 John', 'Genesis'): 1, ('2 John', 'Genesis'): 1, ('Acts', 'Exodus'): 159, ('Exodus', 'Titus'): 12, ('Exodus', 'James'): 33, ('Exodus', 'Romans'): 79, ('Exodus', 'John'): 142, ('Exodus', 'Revelation'): 153, ('Exodus', 'Matthew'): 189, ('Exodus', 'Luke'): 129, ('Exodus', 'Hebrews'): 189, ('1 Peter', 'Exodus'): 47, ('1 John', 'Exodus'): 31, ('Exodus', 'Galatians'): 26, ('1 Timothy', 'Exodus'): 27, ('Exodus', 'Mark'): 37, ('2 Corinthians', 'Exodus'): 53, ('Ephesians', 'Exodus'): 57, ('Exodus', 'Philippians'): 21, ('1 Corinthians', 'Exodus'): 106, ('2 Thessalonians', 'Exodus'): 4, ('2 Timothy', 'Exodus'): 18, ('Exodus', 'Jude'): 8, ('2 Peter', 'Exodus'): 12, ('Colossians', 'Exodus'): 25, ('1 Thessalonians', 'Exodus'): 17, ('2 John', 'Exodus'): 1, ('John', 'Leviticus'): 84, ('Leviticus', 'Romans'): 123, ('Ephesians', 'Leviticus'): 55, ('2 Corinthians', 'Leviticus'): 76, ('Hebrews', 'Leviticus'): 184, ('Leviticus', 'Luke'): 87, ('1 John', 'Leviticus'): 42, ('Leviticus', 'Philippians'): 18, ('1 Peter', 'Leviticus'): 75, ('Leviticus', 'Matthew'): 117, ('Leviticus', 'Revelation'): 78, ('Jude', 'Leviticus'): 12, ('Acts', 'Leviticus'): 64, ('Galatians', 'Leviticus'): 34, ('Leviticus', 'Mark'): 26, ('1 Corinthians', 'Leviticus'): 71, ('Colossians', 'Leviticus'): 21, ('1 Timothy', 'Leviticus'): 34, ('James', 'Leviticus'): 23, ('Leviticus', 'Titus'): 23, ('1 Thessalonians', 'Leviticus'): 16, ('2 Timothy', 'Leviticus'): 10, ('2 Thessalonians', 'Leviticus'): 5, ('2 Peter', 'Leviticus'): 5, ('Luke', 'Numbers'): 66, ('John', 'Numbers'): 84, ('Hebrews', 'Numbers'): 117, ('Matthew', 'Numbers'): 123, ('Numbers', 'Revelation'): 80, ('2 Timothy', 'Numbers'): 10, ('Numbers', 'Philippians'): 19, ('1 Corinthians', 'Numbers'): 90, ('Colossians', 'Numbers'): 17, ('Ephesians', 'Numbers'): 30, ('Numbers', 'Romans'): 69, ('Mark', 'Numbers'): 18, ('1 Timothy', 'Numbers'): 29, ('1 Peter', 'Numbers'): 37, ('Numbers', 'Titus'): 11, ('Acts', 'Numbers'): 103, ('2 Corinthians', 'Numbers'): 41, ('Galatians', 'Numbers'): 23, ('2 Thessalonians', 'Numbers'): 4, ('2 Peter', 'Numbers'): 21, ('1 Thessalonians', 'Numbers'): 14, ('2 John', 'Numbers'): 4, ('James', 'Numbers'): 25, ('Jude', 'Numbers'): 23, ('1 John', 'Numbers'): 11, ('3 John', 'Numbers'): 1, ('2 Corinthians', 'Deuteronomy'): 49, ('Deuteronomy', 'Ephesians'): 42, ('1 Timothy', 'Deuteronomy'): 38, ('Deuteronomy', 'John'): 98, ('1 Thessalonians', 'Deuteronomy'): 21, ('Deuteronomy', 'Matthew'): 164, ('Deuteronomy', 'Luke'): 125, ('Deuteronomy', 'James'): 36, ('Deuteronomy', 'Mark'): 34, ('Colossians', 'Deuteronomy'): 19, ('1 Peter', 'Deuteronomy'): 34, ('Deuteronomy', 'Romans'): 112, ('Acts', 'Deuteronomy'): 119, ('Deuteronomy', 'Hebrews'): 109, ('Deuteronomy', 'Jude'): 9, ('Deuteronomy', 'Philippians'): 23, ('1 Corinthians', 'Deuteronomy'): 85, ('Deuteronomy', 'Revelation'): 78, ('Deuteronomy', 'Galatians'): 33, ('2 Timothy', 'Deuteronomy'): 14, ('Deuteronomy', 'Titus'): 14, ('1 John', 'Deuteronomy'): 27, ('2 Peter', 'Deuteronomy'): 19, ('2 John', 'Deuteronomy'): 1, ('2 Thessalonians', 'Deuteronomy'): 10, ('Joshua', 'Revelation'): 49, ('James', 'Joshua'): 15, ('Joshua', 'Luke'): 41, ('Joshua', 'Titus'): 6, ('Joshua', 'Romans'): 32, ('Acts', 'Joshua'): 63, ('Hebrews', 'Joshua'): 46, ('2 Timothy', 'Joshua'): 11, ('Joshua', 'Matthew'): 75, ('1 Corinthians', 'Joshua'): 25, ('Ephesians', 'Joshua'): 16, ('John', 'Joshua'): 27, ('Colossians', 'Joshua'): 5, ('Galatians', 'Joshua'): 11, ('Joshua', 'Philippians'): 8, ('1 Timothy', 'Joshua'): 4, ('Joshua', 'Mark'): 6, ('2 Corinthians', 'Joshua'): 13, ('1 Thessalonians', 'Joshua'): 5, ('2 Peter', 'Joshua'): 10, ('1 John', 'Joshua'): 2, ('2 Thessalonians', 'Joshua'): 1, ('1 Peter', 'Joshua'): 2, ('Joshua', 'Jude'): 1, ('Hebrews', 'Judges'): 32, ('Judges', 'Revelation'): 34, ('James', 'Judges'): 17, ('Judges', 'Romans'): 39, ('2 Corinthians', 'Judges'): 24, ('1 Peter', 'Judges'): 13, ('Judges', 'Matthew'): 65, ('Judges', 'Philippians'): 17, ('2 Thessalonians', 'Judges'): 4, ('Judges', 'Luke'): 38, ('Acts', 'Judges'): 43, ('Judges', 'Titus'): 2, ('1 Corinthians', 'Judges'): 31, ('Galatians', 'Judges'): 13, ('John', 'Judges'): 48, ('1 Timothy', 'Judges'): 7, ('2 Timothy', 'Judges'): 5, ('Judges', 'Philemon'): 1, ('Ephesians', 'Judges'): 16, ('1 John', 'Judges'): 6, ('Judges', 'Mark'): 5, ('1 Thessalonians', 'Judges'): 11, ('2 Peter', 'Judges'): 4, ('Jude', 'Judges'): 2, ('Colossians', 'Judges'): 2, ('2 John', 'Judges'): 1, ('Hebrews', 'Ruth'): 10, ('Matthew', 'Ruth'): 30, ('Luke', 'Ruth'): 21, ('1 Peter', 'Ruth'): 2, ('1 Timothy', 'Ruth'): 6, ('Colossians', 'Ruth'): 4, ('Ephesians', 'Ruth'): 6, ('Acts', 'Ruth'): 8, ('2 Timothy', 'Ruth'): 4, ('1 John', 'Ruth'): 2, ('John', 'Ruth'): 3, ('Revelation', 'Ruth'): 3, ('1 Thessalonians', 'Ruth'): 5, ('2 Thessalonians', 'Ruth'): 3, ('Romans', 'Ruth'): 7, ('Galatians', 'Ruth'): 2, ('Philippians', 'Ruth'): 4, ('1 Corinthians', 'Ruth'): 6, ('James', 'Ruth'): 1, ('Philemon', 'Ruth'): 1, ('2 Corinthians', 'Ruth'): 3, ('1 Samuel', 'Matthew'): 119, ('1 Samuel', 'Luke'): 97, ('1 Samuel', 'John'): 62, ('1 Samuel', '1 Thessalonians'): 15, ('1 Samuel', 'Hebrews'): 39, ('1 Samuel', 'Colossians'): 10, ('1 Samuel', 'Ephesians'): 22, ('1 Samuel', 'James'): 23, ('1 Samuel', 'Acts'): 82, ('1 Samuel', 'Romans'): 50, ('1 Corinthians', '1 Samuel'): 22, ('1 Samuel', 'Mark'): 17, ('1 John', '1 Samuel'): 8, ('1 Samuel', '2 Timothy'): 14, ('1 Samuel', 'Philippians'): 19, ('1 Samuel', 'Revelation'): 37, ('1 Peter', '1 Samuel'): 28, ('1 Samuel', '2 Corinthians'): 37, ('1 Samuel', 'Galatians'): 9, ('1 Samuel', 'Jude'): 6, ('1 Samuel', '2 Peter'): 6, ('1 Samuel', '1 Timothy'): 13, ('1 Samuel', '3 John'): 2, ('1 Samuel', 'Titus'): 2, ('1 Samuel', '2 John'): 1, ('1 Samuel', '2 Thessalonians'): 3, ('2 Samuel', 'Matthew'): 103, ('2 Samuel', 'Revelation'): 32, ('2 Samuel', 'Luke'): 61, ('2 Samuel', 'Romans'): 41, ('2 Samuel', 'Acts'): 49, ('2 Corinthians', '2 Samuel'): 19, ('1 Peter', '2 Samuel'): 18, ('2 Peter', '2 Samuel'): 6, ('2 Samuel', 'Ephesians'): 17, ('1 Corinthians', '2 Samuel'): 27, ('2 Samuel', 'Galatians'): 8, ('2 Samuel', 'Philippians'): 9, ('2 Samuel', 'John'): 39, ('2 Samuel', 'Mark'): 11, ('2 Samuel', '2 Timothy'): 5, ('1 John', '2 Samuel'): 7, ('2 Samuel', 'Hebrews'): 34, ('2 Samuel', 'James'): 13, ('2 Samuel', 'Colossians'): 4, ('1 Timothy', '2 Samuel'): 2, ('1 Thessalonians', '2 Samuel'): 6, ('2 Samuel', 'Titus'): 6, ('2 Samuel', 'Jude'): 1, ('2 Samuel', '2 Thessalonians'): 6, ('1 Kings', 'Luke'): 91, ('1 Kings', 'Matthew'): 157, ('1 Kings', 'Acts'): 100, ('1 Kings', '2 Corinthians'): 26, ('1 Kings', '1 Peter'): 21, ('1 Kings', 'Romans'): 51, ('1 Kings', 'John'): 72, ('1 Kings', 'Hebrews'): 44, ('1 Kings', 'Ephesians'): 25, ('1 Corinthians', '1 Kings'): 27, ('1 Kings', '1 Timothy'): 11, ('1 Kings', '2 Timothy'): 10, ('1 Kings', 'Jude'): 3, ('1 Kings', 'Mark'): 26, ('1 Kings', 'James'): 20, ('1 Kings', 'Galatians'): 11, ('1 John', '1 Kings'): 11, ('1 Kings', 'Philippians'): 9, ('1 Kings', 'Colossians'): 8, ('1 Kings', 'Revelation'): 60, ('1 Kings', 'Titus'): 1, ('1 Kings', '2 Peter'): 8, ('1 Kings', '1 Thessalonians'): 3, ('1 Kings', 'Philemon'): 2, ('1 Kings', '2 John'): 1, ('2 Kings', 'Luke'): 96, ('2 Kings', 'Matthew'): 118, ('2 Kings', 'Mark'): 35, ('2 Kings', 'Acts'): 99, ('2 Kings', 'Revelation'): 42, ('2 Kings', 'Hebrews'): 38, ('2 Kings', 'James'): 9, ('1 John', '2 Kings'): 3, ('1 Corinthians', '2 Kings'): 20, ('1 Timothy', '2 Kings'): 7, ('2 Kings', 'John'): 67, ('2 Corinthians', '2 Kings'): 20, ('2 Kings', 'Ephesians'): 11, ('1 Peter', '2 Kings'): 14, ('2 Kings', 'Romans'): 31, ('2 Kings', 'Galatians'): 6, ('2 Kings', 'Philippians'): 11, ('1 Thessalonians', '2 Kings'): 8, ('2 Kings', '2 Peter'): 4, ('2 Kings', 'Titus'): 4, ('2 Kings', '2 Timothy'): 4, ('2 Kings', 'Colossians'): 1, ('2 Kings', '2 Thessalonians'): 7, ('2 Kings', 'Philemon'): 1, ('2 Kings', '3 John'): 2, ('2 Kings', 'Jude'): 1, ('1 Chronicles', 'Luke'): 36, ('1 Chronicles', 'Hebrews'): 38, ('1 Chronicles', 'Jude'): 3, ('1 Chronicles', '2 Peter'): 2, ('1 Chronicles', 'Matthew'): 50, ('1 Chronicles', 'Acts'): 57, ('1 Chronicles', 'Romans'): 26, ('1 Chronicles', 'John'): 34, ('1 Chronicles', '1 Corinthians'): 23, ('1 Chronicles', 'Ephesians'): 23, ('1 Chronicles', '2 Timothy'): 6, ('1 Chronicles', 'Revelation'): 30, ('1 Chronicles', 'Colossians'): 8, ('1 Chronicles', 'Mark'): 3, ('1 Chronicles', 'Philippians'): 14, ('1 Chronicles', '2 Corinthians'): 24, ('1 Chronicles', '1 Peter'): 13, ('1 Chronicles', 'Galatians'): 4, ('1 Chronicles', 'Titus'): 4, ('1 Chronicles', 'James'): 7, ('1 Chronicles', '1 John'): 4, ('1 Chronicles', '2 Thessalonians'): 3, ('1 Chronicles', '1 Thessalonians'): 4, ('1 Chronicles', '1 Timothy'): 5, ('1 Chronicles', '3 John'): 1, ('1 Chronicles', 'Philemon'): 2, ('2 Chronicles', 'Matthew'): 104, ('2 Chronicles', 'John'): 49, ('2 Chronicles', 'Mark'): 18, ('2 Chronicles', 'James'): 29, ('2 Chronicles', '2 Corinthians'): 27, ('2 Chronicles', 'Acts'): 99, ('2 Chronicles', 'Hebrews'): 37, ('2 Chronicles', 'Ephesians'): 18, ('1 Timothy', '2 Chronicles'): 11, ('2 Chronicles', 'Luke'): 69, ('1 Peter', '2 Chronicles'): 16, ('2 Chronicles', 'Revelation'): 73, ('2 Chronicles', 'Titus'): 2, ('1 John', '2 Chronicles'): 11, ('1 Corinthians', '2 Chronicles'): 31, ('2 Chronicles', 'Romans'): 36, ('1 Thessalonians', '2 Chronicles'): 10, ('2 Chronicles', 'Colossians'): 7, ('2 Chronicles', 'Philippians'): 14, ('2 Chronicles', 'Galatians'): 14, ('2 Chronicles', 'Jude'): 2, ('2 Chronicles', '2 Peter'): 5, ('2 Chronicles', '2 Thessalonians'): 3, ('2 Chronicles', '2 John'): 1, ('2 Chronicles', '2 Timothy'): 16, ('2 Chronicles', '3 John'): 1, ('Ezra', 'John'): 15, ('Ezra', 'Matthew'): 20, ('Acts', 'Ezra'): 29, ('Ezra', 'Galatians'): 5, ('3 John', 'Ezra'): 1, ('Ezra', 'Philippians'): 7, ('2 Corinthians', 'Ezra'): 15, ('Ezra', 'Romans'): 16, ('1 Corinthians', 'Ezra'): 9, ('Ezra', 'Luke'): 10, ('2 Timothy', 'Ezra'): 4, ('Ezra', 'Revelation'): 13, ('1 Thessalonians', 'Ezra'): 2, ('1 Peter', 'Ezra'): 2, ('2 Thessalonians', 'Ezra'): 1, ('Ezra', 'Mark'): 3, ('Ephesians', 'Ezra'): 3, ('Ezra', 'Hebrews'): 7, ('Ezra', 'Titus'): 3, ('1 Timothy', 'Ezra'): 3, ('Ezra', 'James'): 3, ('1 John', 'Ezra'): 1, ('Colossians', 'Ezra'): 1, ('Nehemiah', 'Romans'): 24, ('Luke', 'Nehemiah'): 27, ('1 John', 'Nehemiah'): 5, ('Ephesians', 'Nehemiah'): 10, ('2 Timothy', 'Nehemiah'): 10, ('1 Timothy', 'Nehemiah'): 9, ('Nehemiah', 'Revelation'): 18, ('Matthew', 'Nehemiah'): 52, ('Hebrews', 'Nehemiah'): 23, ('Mark', 'Nehemiah'): 6, ('Nehemiah', 'Philippians'): 11, ('Acts', 'Nehemiah'): 64, ('2 Corinthians', 'Nehemiah'): 22, ('John', 'Nehemiah'): 26, ('1 Corinthians', 'Nehemiah'): 20, ('1 Peter', 'Nehemiah'): 10, ('1 Thessalonians', 'Nehemiah'): 4, ('Galatians', 'Nehemiah'): 9, ('Colossians', 'Nehemiah'): 3, ('James', 'Nehemiah'): 6, ('Nehemiah', 'Titus'): 5, ('2 Thessalonians', 'Nehemiah'): 1, ('2 Peter', 'Nehemiah'): 4, ('Esther', 'Mark'): 3, ('Esther', 'Matthew'): 30, ('Esther', 'Revelation'): 14, ('Colossians', 'Esther'): 2, ('Esther', 'Romans'): 12, ('Ephesians', 'Esther'): 8, ('Esther', 'John'): 7, ('1 Peter', 'Esther'): 3, ('Acts', 'Esther'): 20, ('1 Timothy', 'Esther'): 4, ('Esther', 'Luke'): 17, ('2 Corinthians', 'Esther'): 1, ('1 John', 'Esther'): 1, ('Esther', 'Philippians'): 6, ('Esther', 'James'): 3, ('1 Corinthians', 'Esther'): 3, ('Esther', 'Hebrews'): 4, ('1 Thessalonians', 'Esther'): 2, ('2 Thessalonians', 'Esther'): 2, ('Esther', 'Galatians'): 3, ('2 Timothy', 'Esther'): 1, ('James', 'Job'): 89, ('1 Peter', 'Job'): 47, ('Job', 'Luke'): 115, ('Hebrews', 'Job'): 73, ('Acts', 'Job'): 100, ('Job', 'John'): 75, ('2 Corinthians', 'Job'): 58, ('Ephesians', 'Job'): 43, ('1 Corinthians', 'Job'): 75, ('Job', 'Matthew'): 176, ('Job', 'Revelation'): 102, ('1 Timothy', 'Job'): 30, ('1 Thessalonians', 'Job'): 24, ('Job', 'Romans'): 133, ('Job', 'Philippians'): 10, ('Job', 'Mark'): 20, ('2 Peter', 'Job'): 28, ('Colossians', 'Job'): 15, ('2 Thessalonians', 'Job'): 6, ('2 Timothy', 'Job'): 14, ('Job', 'Jude'): 20, ('Galatians', 'Job'): 15, ('1 John', 'Job'): 24, ('Job', 'Titus'): 10, ('Job', 'Philemon'): 1, ('1 Peter', 'Psalms'): 215, ('Ephesians', 'Psalms'): 186, ('Matthew', 'Psalms'): 617, ('John', 'Psalms'): 437, ('Psalms', 'Revelation'): 606, ('Luke', 'Psalms'): 454, ('Psalms', 'Romans'): 367, ('1 Timothy', 'Psalms'): 47, ('2 Timothy', 'Psalms'): 72, ('1 John', 'Psalms'): 95, ('1 Thessalonians', 'Psalms'): 53, ('Jude', 'Psalms'): 33, ('2 Peter', 'Psalms'): 65, ('Acts', 'Psalms'): 384, ('Hebrews', 'Psalms'): 332, ('Philippians', 'Psalms'): 100, ('James', 'Psalms'): 135, ('1 Corinthians', 'Psalms'): 149, ('2 Corinthians', 'Psalms'): 153, ('Psalms', 'Titus'): 53, ('Mark', 'Psalms'): 79, ('2 Thessalonians', 'Psalms'): 35, ('Colossians', 'Psalms'): 66, ('Galatians', 'Psalms'): 67, ('3 John', 'Psalms'): 6, ('2 John', 'Psalms'): 4, ('John', 'Proverbs'): 148, ('2 Timothy', 'Proverbs'): 38, ('Proverbs', 'Titus'): 21, ('1 Corinthians', 'Proverbs'): 72, ('Hebrews', 'Proverbs'): 79, ('Mark', 'Proverbs'): 28, ('2 Peter', 'Proverbs'): 29, ('Proverbs', 'Romans'): 121, ('Matthew', 'Proverbs'): 235, ('Ephesians', 'Proverbs'): 74, ('Acts', 'Proverbs'): 107, ('Luke', 'Proverbs'): 155, ('2 Corinthians', 'Proverbs'): 69, ('1 Timothy', 'Proverbs'): 48, ('Colossians', 'Proverbs'): 29, ('Proverbs', 'Revelation'): 125, ('1 Thessalonians', 'Proverbs'): 29, ('James', 'Proverbs'): 92, ('1 Peter', 'Proverbs'): 71, ('1 John', 'Proverbs'): 47, ('Jude', 'Proverbs'): 15, ('Philippians', 'Proverbs'): 28, ('3 John', 'Proverbs'): 4, ('Galatians', 'Proverbs'): 16, ('2 Thessalonians', 'Proverbs'): 10, ('2 John', 'Proverbs'): 5, ('Philemon', 'Proverbs'): 4, ('2 Peter', 'Ecclesiastes'): 9, ('Ecclesiastes', 'Romans'): 26, ('Ecclesiastes', 'Matthew'): 69, ('Ecclesiastes', 'John'): 28, ('Ecclesiastes', 'Revelation'): 15, ('2 Timothy', 'Ecclesiastes'): 8, ('Acts', 'Ecclesiastes'): 45, ('1 Timothy', 'Ecclesiastes'): 14, ('Ecclesiastes', 'Hebrews'): 25, ('1 Thessalonians', 'Ecclesiastes'): 6, ('Ecclesiastes', 'Luke'): 61, ('Ecclesiastes', 'Titus'): 6, ('Ecclesiastes', 'James'): 28, ('Ecclesiastes', 'Ephesians'): 14, ('1 John', 'Ecclesiastes'): 7, ('1 Corinthians', 'Ecclesiastes'): 18, ('Ecclesiastes', 'Philippians'): 5, ('1 Peter', 'Ecclesiastes'): 10, ('Ecclesiastes', 'Galatians'): 4, ('2 Corinthians', 'Ecclesiastes'): 15, ('2 Thessalonians', 'Ecclesiastes'): 1, ('Ecclesiastes', 'Mark'): 7, ('2 John', 'Ecclesiastes'): 2, ('Colossians', 'Ecclesiastes'): 7, ('Ecclesiastes', 'Jude'): 1, ('1 Peter', 'Song of Solomon'): 15, ('Matthew', 'Song of Solomon'): 48, ('Luke', 'Song of Solomon'): 36, ('Acts', 'Song of Solomon'): 19, ('2 Corinthians', 'Song of Solomon'): 17, ('John', 'Song of Solomon'): 50, ('Revelation', 'Song of Solomon'): 50, ('Philippians', 'Song of Solomon'): 16, ('Ephesians', 'Song of Solomon'): 25, ('Hebrews', 'Song of Solomon'): 28, ('1 John', 'Song of Solomon'): 3, ('Galatians', 'Song of Solomon'): 14, ('Romans', 'Song of Solomon'): 16, ('Mark', 'Song of Solomon'): 8, ('James', 'Song of Solomon'): 6, ('1 Corinthians', 'Song of Solomon'): 10, ('Colossians', 'Song of Solomon'): 13, ('Jude', 'Song of Solomon'): 2, ('2 Peter', 'Song of Solomon'): 5, ('1 Thessalonians', 'Song of Solomon'): 2, ('1 Timothy', 'Song of Solomon'): 3, ('2 Thessalonians', 'Song of Solomon'): 2, ('2 Timothy', 'Song of Solomon'): 2, ('Isaiah', 'Matthew'): 447, ('Acts', 'Isaiah'): 244, ('2 Corinthians', 'Isaiah'): 98, ('2 Peter', 'Isaiah'): 49, ('Isaiah', 'Romans'): 245, ('Colossians', 'Isaiah'): 28, ('Isaiah', 'Revelation'): 496, ('1 Corinthians', 'Isaiah'): 94, ('Isaiah', 'Luke'): 294, ('Isaiah', 'John'): 272, ('Isaiah', 'Philippians'): 47, ('Ephesians', 'Isaiah'): 115, ('1 Timothy', 'Isaiah'): 36, ('1 Peter', 'Isaiah'): 126, ('Isaiah', 'James'): 65, ('Hebrews', 'Isaiah'): 195, ('Isaiah', 'Titus'): 25, ('Isaiah', 'Mark'): 68, ('1 Thessalonians', 'Isaiah'): 37, ('2 Timothy', 'Isaiah'): 18, ('1 John', 'Isaiah'): 42, ('2 Thessalonians', 'Isaiah'): 37, ('Isaiah', 'Jude'): 23, ('Galatians', 'Isaiah'): 43, ('2 John', 'Isaiah'): 2, ('Isaiah', 'Philemon'): 1, ('Jeremiah', 'Romans'): 126, ('Jeremiah', 'Luke'): 154, ('Ephesians', 'Jeremiah'): 41, ('Jeremiah', 'Matthew'): 229, ('Acts', 'Jeremiah'): 212, ('1 Thessalonians', 'Jeremiah'): 29, ('1 Peter', 'Jeremiah'): 51, ('1 Corinthians', 'Jeremiah'): 53, ('Jeremiah', 'John'): 110, ('Hebrews', 'Jeremiah'): 108, ('2 Peter', 'Jeremiah'): 25, ('James', 'Jeremiah'): 49, ('Jeremiah', 'Revelation'): 260, ('2 Corinthians', 'Jeremiah'): 56, ('Jeremiah', 'Mark'): 33, ('Galatians', 'Jeremiah'): 25, ('Jeremiah', 'Philippians'): 14, ('Colossians', 'Jeremiah'): 10, ('2 Thessalonians', 'Jeremiah'): 15, ('2 Timothy', 'Jeremiah'): 31, ('Jeremiah', 'Titus'): 8, ('1 Timothy', 'Jeremiah'): 24, ('1 John', 'Jeremiah'): 14, ('Jeremiah', 'Jude'): 9, ('Jeremiah', 'Philemon'): 1, ('Lamentations', 'Revelation'): 20, ('Lamentations', 'Luke'): 24, ('1 Peter', 'Lamentations'): 4, ('John', 'Lamentations'): 2, ('Lamentations', 'Mark'): 5, ('Lamentations', 'Matthew'): 19, ('2 Thessalonians', 'Lamentations'): 1, ('Hebrews', 'Lamentations'): 8, ('Lamentations', 'Romans'): 7, ('Ephesians', 'Lamentations'): 3, ('2 Corinthians', 'Lamentations'): 4, ('Acts', 'Lamentations'): 6, ('1 Timothy', 'Lamentations'): 3, ('Jude', 'Lamentations'): 2, ('Lamentations', 'Titus'): 1, ('James', 'Lamentations'): 2, ('1 Thessalonians', 'Lamentations'): 2, ('Galatians', 'Lamentations'): 1, ('1 Corinthians', 'Lamentations'): 4, ('2 Timothy', 'Lamentations'): 2, ('Ezekiel', 'Matthew'): 143, ('Acts', 'Ezekiel'): 127, ('Ezekiel', 'Revelation'): 289, ('Ezekiel', 'John'): 100, ('2 Corinthians', 'Ezekiel'): 35, ('Ezekiel', 'Luke'): 129, ('Ezekiel', 'Mark'): 28, ('1 Timothy', 'Ezekiel'): 31, ('Ezekiel', 'Hebrews'): 101, ('1 Corinthians', 'Ezekiel'): 62, ('Ephesians', 'Ezekiel'): 37, ('Ezekiel', 'Romans'): 97, ('1 Peter', 'Ezekiel'): 53, ('2 Thessalonians', 'Ezekiel'): 8, ('Ezekiel', 'Philippians'): 10, ('2 Timothy', 'Ezekiel'): 16, ('Colossians', 'Ezekiel'): 19, ('1 Thessalonians', 'Ezekiel'): 18, ('1 John', 'Ezekiel'): 31, ('Ezekiel', 'Titus'): 6, ('Ezekiel', 'James'): 25, ('Ezekiel', 'Jude'): 16, ('2 Peter', 'Ezekiel'): 28, ('Ezekiel', 'Galatians'): 18, ('2 John', 'Ezekiel'): 2, ('Acts', 'Daniel'): 131, ('Daniel', 'Ephesians'): 22, ('Daniel', 'Luke'): 93, ('Daniel', 'Matthew'): 121, ('Daniel', 'Mark'): 36, ('2 Corinthians', 'Daniel'): 21, ('1 Corinthians', 'Daniel'): 18, ('Daniel', 'Romans'): 33, ('Daniel', 'James'): 16, ('Colossians', 'Daniel'): 10, ('Daniel', 'John'): 65, ('Daniel', 'Revelation'): 232, ('2 Peter', 'Daniel'): 9, ('Daniel', 'Jude'): 12, ('1 Timothy', 'Daniel'): 16, ('1 John', 'Daniel'): 9, ('Daniel', 'Hebrews'): 43, ('2 Timothy', 'Daniel'): 9, ('1 Peter', 'Daniel'): 24, ('Daniel', 'Galatians'): 8, ('Daniel', 'Philippians'): 9, ('1 Thessalonians', 'Daniel'): 9, ('Daniel', 'Titus'): 3, ('2 Thessalonians', 'Daniel'): 13, ('2 John', 'Daniel'): 1, ('Hosea', 'John'): 45, ('2 Peter', 'Hosea'): 7, ('Hosea', 'Romans'): 39, ('Hosea', 'Revelation'): 34, ('Hosea', 'Mark'): 5, ('Hosea', 'Matthew'): 36, ('Hosea', 'Luke'): 39, ('1 Peter', 'Hosea'): 5, ('Hebrews', 'Hosea'): 15, ('2 Corinthians', 'Hosea'): 15, ('1 Timothy', 'Hosea'): 4, ('Hosea', 'James'): 17, ('1 Corinthians', 'Hosea'): 13, ('Acts', 'Hosea'): 25, ('1 John', 'Hosea'): 10, ('2 Timothy', 'Hosea'): 5, ('Colossians', 'Hosea'): 1, ('Hosea', 'Philippians'): 10, ('1 Thessalonians', 'Hosea'): 5, ('Galatians', 'Hosea'): 5, ('Hosea', 'Titus'): 4, ('Ephesians', 'Hosea'): 7, ('Hosea', 'Jude'): 2, ('2 Peter', 'Joel'): 2, ('Acts', 'Joel'): 9, ('Joel', 'Matthew'): 17, ('Joel', 'Revelation'): 28, ('James', 'Joel'): 6, ('Joel', 'Luke'): 9, ('Joel', 'Romans'): 11, ('2 Corinthians', 'Joel'): 4, ('1 Corinthians', 'Joel'): 6, ('1 Thessalonians', 'Joel'): 1, ('Joel', 'Philippians'): 5, ('1 Peter', 'Joel'): 2, ('Hebrews', 'Joel'): 3, ('Joel', 'Jude'): 1, ('Joel', 'Mark'): 2, ('Joel', 'John'): 4, ('Ephesians', 'Joel'): 1, ('1 Timothy', 'Joel'): 2, ('2 Timothy', 'Joel'): 1, ('1 John', 'Joel'): 1, ('Galatians', 'Joel'): 2, ('Colossians', 'Joel'): 1, ('2 Thessalonians', 'Joel'): 4, ('Amos', 'Matthew'): 29, ('1 Corinthians', 'Amos'): 13, ('Acts', 'Amos'): 34, ('Amos', 'Romans'): 11, ('Amos', 'Ephesians'): 4, ('1 Peter', 'Amos'): 5, ('1 Thessalonians', 'Amos'): 3, ('Amos', 'Mark'): 4, ('Amos', 'Revelation'): 25, ('2 Corinthians', 'Amos'): 1, ('Amos', 'John'): 12, ('2 Peter', 'Amos'): 5, ('Amos', 'James'): 10, ('Amos', 'Jude'): 3, ('Amos', 'Luke'): 10, ('Amos', 'Hebrews'): 2, ('2 Timothy', 'Amos'): 2, ('3 John', 'Amos'): 1, ('Amos', 'Philippians'): 1, ('1 Timothy', 'Amos'): 1, ('Amos', 'Colossians'): 1, ('Matthew', 'Obadiah'): 4, ('Mark', 'Obadiah'): 1, ('Obadiah', 'Revelation'): 6, ('John', 'Obadiah'): 1, ('2 Peter', 'Obadiah'): 1, ('Luke', 'Obadiah'): 3, ('Jude', 'Obadiah'): 1, ('James', 'Obadiah'): 3, ('1 Peter', 'Obadiah'): 1, ('1 Corinthians', 'Obadiah'): 1, ('1 Timothy', 'Obadiah'): 1, ('Jonah', 'Matthew'): 19, ('Jonah', 'Luke'): 13, ('James', 'Jonah'): 3, ('Jonah', 'Revelation'): 8, ('Acts', 'Jonah'): 19, ('2 Thessalonians', 'Jonah'): 1, ('1 Corinthians', 'Jonah'): 4, ('Jonah', 'Romans'): 2, ('Ephesians', 'Jonah'): 3, ('Jonah', 'Philippians'): 1, ('John', 'Jonah'): 4, ('Jonah', 'Mark'): 1, ('Hebrews', 'Jonah'): 5, ('2 Timothy', 'Jonah'): 1, ('2 Corinthians', 'Jonah'): 1, ('Micah', 'Revelation'): 38, ('Matthew', 'Micah'): 35, ('Acts', 'Micah'): 22, ('Mark', 'Micah'): 7, ('Micah', 'Romans'): 20, ('John', 'Micah'): 21, ('Luke', 'Micah'): 25, ('1 Timothy', 'Micah'): 2, ('James', 'Micah'): 4, ('Ephesians', 'Micah'): 6, ('2 Timothy', 'Micah'): 3, ('2 Corinthians', 'Micah'): 5, ('Micah', 'Philippians'): 1, ('1 John', 'Micah'): 4, ('Hebrews', 'Micah'): 7, ('1 Corinthians', 'Micah'): 8, ('1 Peter', 'Micah'): 3, ('Jude', 'Micah'): 3, ('Micah', 'Titus'): 2, ('2 Peter', 'Micah'): 2, ('Colossians', 'Micah'): 4, ('2 Thessalonians', 'Micah'): 2, ('Micah', 'Philemon'): 1, ('Hebrews', 'Nahum'): 2, ('Nahum', 'Romans'): 4, ('2 Peter', 'Nahum'): 1, ('Nahum', 'Revelation'): 19, ('James', 'Nahum'): 1, ('Matthew', 'Nahum'): 8, ('Galatians', 'Nahum'): 1, ('John', 'Nahum'): 2, ('2 Timothy', 'Nahum'): 1, ('2 Corinthians', 'Nahum'): 1, ('Acts', 'Nahum'): 1, ('Luke', 'Nahum'): 5, ('1 Corinthians', 'Nahum'): 2, ('Jude', 'Nahum'): 1, ('Habakkuk', 'Revelation'): 27, ('2 Peter', 'Habakkuk'): 2, ('Habakkuk', 'Matthew'): 7, ('Habakkuk', 'Romans'): 5, ('Acts', 'Habakkuk'): 9, ('Habakkuk', 'Mark'): 2, ('Habakkuk', 'Luke'): 7, ('1 Timothy', 'Habakkuk'): 3, ('Habakkuk', 'Hebrews'): 7, ('Galatians', 'Habakkuk'): 3, ('2 Corinthians', 'Habakkuk'): 2, ('1 Corinthians', 'Habakkuk'): 3, ('Habakkuk', 'John'): 2, ('1 Peter', 'Habakkuk'): 3, ('2 Thessalonians', 'Habakkuk'): 1, ('1 Thessalonians', 'Habakkuk'): 2, ('Habakkuk', 'James'): 2, ('Habakkuk', 'Jude'): 1, ('Habakkuk', 'Philippians'): 4, ('Colossians', 'Habakkuk'): 1, ('Ephesians', 'Habakkuk'): 1, ('2 Timothy', 'Zephaniah'): 1, ('2 Peter', 'Zephaniah'): 8, ('Matthew', 'Zephaniah'): 18, ('Revelation', 'Zephaniah'): 17, ('Romans', 'Zephaniah'): 15, ('Hebrews', 'Zephaniah'): 6, ('Colossians', 'Zephaniah'): 2, ('Philippians', 'Zephaniah'): 2, ('Acts', 'Zephaniah'): 6, ('John', 'Zephaniah'): 8, ('James', 'Zephaniah'): 3, ('1 Thessalonians', 'Zephaniah'): 3, ('2 Corinthians', 'Zephaniah'): 3, ('1 John', 'Zephaniah'): 3, ('1 Corinthians', 'Zephaniah'): 4, ('1 Peter', 'Zephaniah'): 8, ('Mark', 'Zephaniah'): 1, ('Luke', 'Zephaniah'): 4, ('1 Timothy', 'Zephaniah'): 1, ('Ephesians', 'Zephaniah'): 2, ('Galatians', 'Zephaniah'): 1, ('Haggai', 'Luke'): 8, ('Haggai', 'Philippians'): 2, ('Haggai', 'Matthew'): 9, ('2 Corinthians', 'Haggai'): 3, ('Galatians', 'Haggai'): 2, ('Haggai', 'Revelation'): 6, ('Haggai', 'Hebrews'): 3, ('Colossians', 'Haggai'): 2, ('Acts', 'Haggai'): 5, ('2 Timothy', 'Haggai'): 5, ('Haggai', 'Romans'): 2, ('1 Corinthians', 'Haggai'): 3, ('2 Peter', 'Haggai'): 1, ('Haggai', 'Mark'): 1, ('Ephesians', 'Haggai'): 1, ('Haggai', 'John'): 4, ('Haggai', 'James'): 1, ('1 Timothy', 'Haggai'): 1, ('Haggai', 'Titus'): 2, ('Haggai', 'Jude'): 1, ('1 Peter', 'Haggai'): 1, ('Luke', 'Zechariah'): 58, ('Matthew', 'Zechariah'): 87, ('Acts', 'Zechariah'): 52, ('1 Peter', 'Zechariah'): 16, ('Hebrews', 'Zechariah'): 29, ('John', 'Zechariah'): 64, ('1 Thessalonians', 'Zechariah'): 9, ('Revelation', 'Zechariah'): 114, ('2 Thessalonians', 'Zechariah'): 3, ('Ephesians', 'Zechariah'): 13, ('1 Timothy', 'Zechariah'): 4, ('1 John', 'Zechariah'): 7, ('Philippians', 'Zechariah'): 5, ('Romans', 'Zechariah'): 28, ('Mark', 'Zechariah'): 19, ('Jude', 'Zechariah'): 3, ('1 Corinthians', 'Zechariah'): 16, ('Colossians', 'Zechariah'): 9, ('2 Corinthians', 'Zechariah'): 11, ('2 Timothy', 'Zechariah'): 7, ('2 Peter', 'Zechariah'): 4, ('James', 'Zechariah'): 15, ('Galatians', 'Zechariah'): 5, ('Luke', 'Malachi'): 42, ('Malachi', 'Matthew'): 28, ('1 Peter', 'Malachi'): 9, ('Ephesians', 'Malachi'): 5, ('Malachi', 'Mark'): 7, ('1 Corinthians', 'Malachi'): 9, ('John', 'Malachi'): 21, ('Malachi', 'Romans'): 21, ('Malachi', 'Philippians'): 5, ('Hebrews', 'Malachi'): 14, ('Malachi', 'Revelation'): 32, ('1 Timothy', 'Malachi'): 2, ('2 Corinthians', 'Malachi'): 4, ('Acts', 'Malachi'): 19, ('Galatians', 'Malachi'): 3, ('1 Thessalonians', 'Malachi'): 6, ('2 Timothy', 'Malachi'): 2, ('Malachi', 'Titus'): 3, ('James', 'Malachi'): 5, ('2 Thessalonians', 'Malachi'): 3, ('2 Peter', 'Malachi'): 3, ('1 John', 'Malachi'): 1}\n"
     ]
    }
   ],
   "source": [
    "print(dict_cr_unidirectional_ot)"
   ]
  },
  {
   "cell_type": "code",
   "execution_count": 688,
   "metadata": {},
   "outputs": [],
   "source": [
    "dict_cr_unidirectional_ot_ord = {}\n",
    "\n",
    "for (book1, book2), count in dict_cr_unidirectional_ot.items():\n",
    "    if book1 in new_testament and book2 in old_testament:\n",
    "        new_key = (book2, book1)\n",
    "    else:\n",
    "        new_key = (book1, book2)\n",
    "\n",
    "    dict_cr_unidirectional_ot_ord[new_key] = count"
   ]
  },
  {
   "cell_type": "code",
   "execution_count": 689,
   "metadata": {},
   "outputs": [
    {
     "name": "stdout",
     "output_type": "stream",
     "text": [
      "{('Genesis', '1 John'): 33, ('Genesis', 'Ephesians'): 79, ('Genesis', 'Hebrews'): 202, ('Genesis', 'Matthew'): 281, ('Genesis', 'Revelation'): 122, ('Genesis', '1 Corinthians'): 102, ('Genesis', 'Romans'): 153, ('Genesis', '2 Peter'): 31, ('Genesis', 'Acts'): 242, ('Genesis', 'Mark'): 44, ('Genesis', 'John'): 143, ('Genesis', '2 Corinthians'): 69, ('Genesis', '1 Timothy'): 68, ('Genesis', '1 Thessalonians'): 35, ('Genesis', 'James'): 41, ('Genesis', 'Luke'): 233, ('Genesis', 'Galatians'): 70, ('Genesis', 'Colossians'): 36, ('Genesis', '1 Peter'): 69, ('Genesis', '2 Thessalonians'): 9, ('Genesis', 'Titus'): 25, ('Genesis', 'Jude'): 12, ('Genesis', '2 Timothy'): 19, ('Genesis', 'Philippians'): 25, ('Genesis', 'Philemon'): 3, ('Genesis', '3 John'): 1, ('Genesis', '2 John'): 1, ('Exodus', 'Acts'): 159, ('Exodus', 'Titus'): 12, ('Exodus', 'James'): 33, ('Exodus', 'Romans'): 79, ('Exodus', 'John'): 142, ('Exodus', 'Revelation'): 153, ('Exodus', 'Matthew'): 189, ('Exodus', 'Luke'): 129, ('Exodus', 'Hebrews'): 189, ('Exodus', '1 Peter'): 47, ('Exodus', '1 John'): 31, ('Exodus', 'Galatians'): 26, ('Exodus', '1 Timothy'): 27, ('Exodus', 'Mark'): 37, ('Exodus', '2 Corinthians'): 53, ('Exodus', 'Ephesians'): 57, ('Exodus', 'Philippians'): 21, ('Exodus', '1 Corinthians'): 106, ('Exodus', '2 Thessalonians'): 4, ('Exodus', '2 Timothy'): 18, ('Exodus', 'Jude'): 8, ('Exodus', '2 Peter'): 12, ('Exodus', 'Colossians'): 25, ('Exodus', '1 Thessalonians'): 17, ('Exodus', '2 John'): 1, ('Leviticus', 'John'): 84, ('Leviticus', 'Romans'): 123, ('Leviticus', 'Ephesians'): 55, ('Leviticus', '2 Corinthians'): 76, ('Leviticus', 'Hebrews'): 184, ('Leviticus', 'Luke'): 87, ('Leviticus', '1 John'): 42, ('Leviticus', 'Philippians'): 18, ('Leviticus', '1 Peter'): 75, ('Leviticus', 'Matthew'): 117, ('Leviticus', 'Revelation'): 78, ('Leviticus', 'Jude'): 12, ('Leviticus', 'Acts'): 64, ('Leviticus', 'Galatians'): 34, ('Leviticus', 'Mark'): 26, ('Leviticus', '1 Corinthians'): 71, ('Leviticus', 'Colossians'): 21, ('Leviticus', '1 Timothy'): 34, ('Leviticus', 'James'): 23, ('Leviticus', 'Titus'): 23, ('Leviticus', '1 Thessalonians'): 16, ('Leviticus', '2 Timothy'): 10, ('Leviticus', '2 Thessalonians'): 5, ('Leviticus', '2 Peter'): 5, ('Numbers', 'Luke'): 66, ('Numbers', 'John'): 84, ('Numbers', 'Hebrews'): 117, ('Numbers', 'Matthew'): 123, ('Numbers', 'Revelation'): 80, ('Numbers', '2 Timothy'): 10, ('Numbers', 'Philippians'): 19, ('Numbers', '1 Corinthians'): 90, ('Numbers', 'Colossians'): 17, ('Numbers', 'Ephesians'): 30, ('Numbers', 'Romans'): 69, ('Numbers', 'Mark'): 18, ('Numbers', '1 Timothy'): 29, ('Numbers', '1 Peter'): 37, ('Numbers', 'Titus'): 11, ('Numbers', 'Acts'): 103, ('Numbers', '2 Corinthians'): 41, ('Numbers', 'Galatians'): 23, ('Numbers', '2 Thessalonians'): 4, ('Numbers', '2 Peter'): 21, ('Numbers', '1 Thessalonians'): 14, ('Numbers', '2 John'): 4, ('Numbers', 'James'): 25, ('Numbers', 'Jude'): 23, ('Numbers', '1 John'): 11, ('Numbers', '3 John'): 1, ('Deuteronomy', '2 Corinthians'): 49, ('Deuteronomy', 'Ephesians'): 42, ('Deuteronomy', '1 Timothy'): 38, ('Deuteronomy', 'John'): 98, ('Deuteronomy', '1 Thessalonians'): 21, ('Deuteronomy', 'Matthew'): 164, ('Deuteronomy', 'Luke'): 125, ('Deuteronomy', 'James'): 36, ('Deuteronomy', 'Mark'): 34, ('Deuteronomy', 'Colossians'): 19, ('Deuteronomy', '1 Peter'): 34, ('Deuteronomy', 'Romans'): 112, ('Deuteronomy', 'Acts'): 119, ('Deuteronomy', 'Hebrews'): 109, ('Deuteronomy', 'Jude'): 9, ('Deuteronomy', 'Philippians'): 23, ('Deuteronomy', '1 Corinthians'): 85, ('Deuteronomy', 'Revelation'): 78, ('Deuteronomy', 'Galatians'): 33, ('Deuteronomy', '2 Timothy'): 14, ('Deuteronomy', 'Titus'): 14, ('Deuteronomy', '1 John'): 27, ('Deuteronomy', '2 Peter'): 19, ('Deuteronomy', '2 John'): 1, ('Deuteronomy', '2 Thessalonians'): 10, ('Joshua', 'Revelation'): 49, ('Joshua', 'James'): 15, ('Joshua', 'Luke'): 41, ('Joshua', 'Titus'): 6, ('Joshua', 'Romans'): 32, ('Joshua', 'Acts'): 63, ('Joshua', 'Hebrews'): 46, ('Joshua', '2 Timothy'): 11, ('Joshua', 'Matthew'): 75, ('Joshua', '1 Corinthians'): 25, ('Joshua', 'Ephesians'): 16, ('Joshua', 'John'): 27, ('Joshua', 'Colossians'): 5, ('Joshua', 'Galatians'): 11, ('Joshua', 'Philippians'): 8, ('Joshua', '1 Timothy'): 4, ('Joshua', 'Mark'): 6, ('Joshua', '2 Corinthians'): 13, ('Joshua', '1 Thessalonians'): 5, ('Joshua', '2 Peter'): 10, ('Joshua', '1 John'): 2, ('Joshua', '2 Thessalonians'): 1, ('Joshua', '1 Peter'): 2, ('Joshua', 'Jude'): 1, ('Judges', 'Hebrews'): 32, ('Judges', 'Revelation'): 34, ('Judges', 'James'): 17, ('Judges', 'Romans'): 39, ('Judges', '2 Corinthians'): 24, ('Judges', '1 Peter'): 13, ('Judges', 'Matthew'): 65, ('Judges', 'Philippians'): 17, ('Judges', '2 Thessalonians'): 4, ('Judges', 'Luke'): 38, ('Judges', 'Acts'): 43, ('Judges', 'Titus'): 2, ('Judges', '1 Corinthians'): 31, ('Judges', 'Galatians'): 13, ('Judges', 'John'): 48, ('Judges', '1 Timothy'): 7, ('Judges', '2 Timothy'): 5, ('Judges', 'Philemon'): 1, ('Judges', 'Ephesians'): 16, ('Judges', '1 John'): 6, ('Judges', 'Mark'): 5, ('Judges', '1 Thessalonians'): 11, ('Judges', '2 Peter'): 4, ('Judges', 'Jude'): 2, ('Judges', 'Colossians'): 2, ('Judges', '2 John'): 1, ('Ruth', 'Hebrews'): 10, ('Ruth', 'Matthew'): 30, ('Ruth', 'Luke'): 21, ('Ruth', '1 Peter'): 2, ('Ruth', '1 Timothy'): 6, ('Ruth', 'Colossians'): 4, ('Ruth', 'Ephesians'): 6, ('Ruth', 'Acts'): 8, ('Ruth', '2 Timothy'): 4, ('Ruth', '1 John'): 2, ('Ruth', 'John'): 3, ('Ruth', 'Revelation'): 3, ('Ruth', '1 Thessalonians'): 5, ('Ruth', '2 Thessalonians'): 3, ('Ruth', 'Romans'): 7, ('Ruth', 'Galatians'): 2, ('Ruth', 'Philippians'): 4, ('Ruth', '1 Corinthians'): 6, ('Ruth', 'James'): 1, ('Ruth', 'Philemon'): 1, ('Ruth', '2 Corinthians'): 3, ('1 Samuel', 'Matthew'): 119, ('1 Samuel', 'Luke'): 97, ('1 Samuel', 'John'): 62, ('1 Samuel', '1 Thessalonians'): 15, ('1 Samuel', 'Hebrews'): 39, ('1 Samuel', 'Colossians'): 10, ('1 Samuel', 'Ephesians'): 22, ('1 Samuel', 'James'): 23, ('1 Samuel', 'Acts'): 82, ('1 Samuel', 'Romans'): 50, ('1 Samuel', '1 Corinthians'): 22, ('1 Samuel', 'Mark'): 17, ('1 Samuel', '1 John'): 8, ('1 Samuel', '2 Timothy'): 14, ('1 Samuel', 'Philippians'): 19, ('1 Samuel', 'Revelation'): 37, ('1 Samuel', '1 Peter'): 28, ('1 Samuel', '2 Corinthians'): 37, ('1 Samuel', 'Galatians'): 9, ('1 Samuel', 'Jude'): 6, ('1 Samuel', '2 Peter'): 6, ('1 Samuel', '1 Timothy'): 13, ('1 Samuel', '3 John'): 2, ('1 Samuel', 'Titus'): 2, ('1 Samuel', '2 John'): 1, ('1 Samuel', '2 Thessalonians'): 3, ('2 Samuel', 'Matthew'): 103, ('2 Samuel', 'Revelation'): 32, ('2 Samuel', 'Luke'): 61, ('2 Samuel', 'Romans'): 41, ('2 Samuel', 'Acts'): 49, ('2 Samuel', '2 Corinthians'): 19, ('2 Samuel', '1 Peter'): 18, ('2 Samuel', '2 Peter'): 6, ('2 Samuel', 'Ephesians'): 17, ('2 Samuel', '1 Corinthians'): 27, ('2 Samuel', 'Galatians'): 8, ('2 Samuel', 'Philippians'): 9, ('2 Samuel', 'John'): 39, ('2 Samuel', 'Mark'): 11, ('2 Samuel', '2 Timothy'): 5, ('2 Samuel', '1 John'): 7, ('2 Samuel', 'Hebrews'): 34, ('2 Samuel', 'James'): 13, ('2 Samuel', 'Colossians'): 4, ('2 Samuel', '1 Timothy'): 2, ('2 Samuel', '1 Thessalonians'): 6, ('2 Samuel', 'Titus'): 6, ('2 Samuel', 'Jude'): 1, ('2 Samuel', '2 Thessalonians'): 6, ('1 Kings', 'Luke'): 91, ('1 Kings', 'Matthew'): 157, ('1 Kings', 'Acts'): 100, ('1 Kings', '2 Corinthians'): 26, ('1 Kings', '1 Peter'): 21, ('1 Kings', 'Romans'): 51, ('1 Kings', 'John'): 72, ('1 Kings', 'Hebrews'): 44, ('1 Kings', 'Ephesians'): 25, ('1 Kings', '1 Corinthians'): 27, ('1 Kings', '1 Timothy'): 11, ('1 Kings', '2 Timothy'): 10, ('1 Kings', 'Jude'): 3, ('1 Kings', 'Mark'): 26, ('1 Kings', 'James'): 20, ('1 Kings', 'Galatians'): 11, ('1 Kings', '1 John'): 11, ('1 Kings', 'Philippians'): 9, ('1 Kings', 'Colossians'): 8, ('1 Kings', 'Revelation'): 60, ('1 Kings', 'Titus'): 1, ('1 Kings', '2 Peter'): 8, ('1 Kings', '1 Thessalonians'): 3, ('1 Kings', 'Philemon'): 2, ('1 Kings', '2 John'): 1, ('2 Kings', 'Luke'): 96, ('2 Kings', 'Matthew'): 118, ('2 Kings', 'Mark'): 35, ('2 Kings', 'Acts'): 99, ('2 Kings', 'Revelation'): 42, ('2 Kings', 'Hebrews'): 38, ('2 Kings', 'James'): 9, ('2 Kings', '1 John'): 3, ('2 Kings', '1 Corinthians'): 20, ('2 Kings', '1 Timothy'): 7, ('2 Kings', 'John'): 67, ('2 Kings', '2 Corinthians'): 20, ('2 Kings', 'Ephesians'): 11, ('2 Kings', '1 Peter'): 14, ('2 Kings', 'Romans'): 31, ('2 Kings', 'Galatians'): 6, ('2 Kings', 'Philippians'): 11, ('2 Kings', '1 Thessalonians'): 8, ('2 Kings', '2 Peter'): 4, ('2 Kings', 'Titus'): 4, ('2 Kings', '2 Timothy'): 4, ('2 Kings', 'Colossians'): 1, ('2 Kings', '2 Thessalonians'): 7, ('2 Kings', 'Philemon'): 1, ('2 Kings', '3 John'): 2, ('2 Kings', 'Jude'): 1, ('1 Chronicles', 'Luke'): 36, ('1 Chronicles', 'Hebrews'): 38, ('1 Chronicles', 'Jude'): 3, ('1 Chronicles', '2 Peter'): 2, ('1 Chronicles', 'Matthew'): 50, ('1 Chronicles', 'Acts'): 57, ('1 Chronicles', 'Romans'): 26, ('1 Chronicles', 'John'): 34, ('1 Chronicles', '1 Corinthians'): 23, ('1 Chronicles', 'Ephesians'): 23, ('1 Chronicles', '2 Timothy'): 6, ('1 Chronicles', 'Revelation'): 30, ('1 Chronicles', 'Colossians'): 8, ('1 Chronicles', 'Mark'): 3, ('1 Chronicles', 'Philippians'): 14, ('1 Chronicles', '2 Corinthians'): 24, ('1 Chronicles', '1 Peter'): 13, ('1 Chronicles', 'Galatians'): 4, ('1 Chronicles', 'Titus'): 4, ('1 Chronicles', 'James'): 7, ('1 Chronicles', '1 John'): 4, ('1 Chronicles', '2 Thessalonians'): 3, ('1 Chronicles', '1 Thessalonians'): 4, ('1 Chronicles', '1 Timothy'): 5, ('1 Chronicles', '3 John'): 1, ('1 Chronicles', 'Philemon'): 2, ('2 Chronicles', 'Matthew'): 104, ('2 Chronicles', 'John'): 49, ('2 Chronicles', 'Mark'): 18, ('2 Chronicles', 'James'): 29, ('2 Chronicles', '2 Corinthians'): 27, ('2 Chronicles', 'Acts'): 99, ('2 Chronicles', 'Hebrews'): 37, ('2 Chronicles', 'Ephesians'): 18, ('2 Chronicles', '1 Timothy'): 11, ('2 Chronicles', 'Luke'): 69, ('2 Chronicles', '1 Peter'): 16, ('2 Chronicles', 'Revelation'): 73, ('2 Chronicles', 'Titus'): 2, ('2 Chronicles', '1 John'): 11, ('2 Chronicles', '1 Corinthians'): 31, ('2 Chronicles', 'Romans'): 36, ('2 Chronicles', '1 Thessalonians'): 10, ('2 Chronicles', 'Colossians'): 7, ('2 Chronicles', 'Philippians'): 14, ('2 Chronicles', 'Galatians'): 14, ('2 Chronicles', 'Jude'): 2, ('2 Chronicles', '2 Peter'): 5, ('2 Chronicles', '2 Thessalonians'): 3, ('2 Chronicles', '2 John'): 1, ('2 Chronicles', '2 Timothy'): 16, ('2 Chronicles', '3 John'): 1, ('Ezra', 'John'): 15, ('Ezra', 'Matthew'): 20, ('Ezra', 'Acts'): 29, ('Ezra', 'Galatians'): 5, ('Ezra', '3 John'): 1, ('Ezra', 'Philippians'): 7, ('Ezra', '2 Corinthians'): 15, ('Ezra', 'Romans'): 16, ('Ezra', '1 Corinthians'): 9, ('Ezra', 'Luke'): 10, ('Ezra', '2 Timothy'): 4, ('Ezra', 'Revelation'): 13, ('Ezra', '1 Thessalonians'): 2, ('Ezra', '1 Peter'): 2, ('Ezra', '2 Thessalonians'): 1, ('Ezra', 'Mark'): 3, ('Ezra', 'Ephesians'): 3, ('Ezra', 'Hebrews'): 7, ('Ezra', 'Titus'): 3, ('Ezra', '1 Timothy'): 3, ('Ezra', 'James'): 3, ('Ezra', '1 John'): 1, ('Ezra', 'Colossians'): 1, ('Nehemiah', 'Romans'): 24, ('Nehemiah', 'Luke'): 27, ('Nehemiah', '1 John'): 5, ('Nehemiah', 'Ephesians'): 10, ('Nehemiah', '2 Timothy'): 10, ('Nehemiah', '1 Timothy'): 9, ('Nehemiah', 'Revelation'): 18, ('Nehemiah', 'Matthew'): 52, ('Nehemiah', 'Hebrews'): 23, ('Nehemiah', 'Mark'): 6, ('Nehemiah', 'Philippians'): 11, ('Nehemiah', 'Acts'): 64, ('Nehemiah', '2 Corinthians'): 22, ('Nehemiah', 'John'): 26, ('Nehemiah', '1 Corinthians'): 20, ('Nehemiah', '1 Peter'): 10, ('Nehemiah', '1 Thessalonians'): 4, ('Nehemiah', 'Galatians'): 9, ('Nehemiah', 'Colossians'): 3, ('Nehemiah', 'James'): 6, ('Nehemiah', 'Titus'): 5, ('Nehemiah', '2 Thessalonians'): 1, ('Nehemiah', '2 Peter'): 4, ('Esther', 'Mark'): 3, ('Esther', 'Matthew'): 30, ('Esther', 'Revelation'): 14, ('Esther', 'Colossians'): 2, ('Esther', 'Romans'): 12, ('Esther', 'Ephesians'): 8, ('Esther', 'John'): 7, ('Esther', '1 Peter'): 3, ('Esther', 'Acts'): 20, ('Esther', '1 Timothy'): 4, ('Esther', 'Luke'): 17, ('Esther', '2 Corinthians'): 1, ('Esther', '1 John'): 1, ('Esther', 'Philippians'): 6, ('Esther', 'James'): 3, ('Esther', '1 Corinthians'): 3, ('Esther', 'Hebrews'): 4, ('Esther', '1 Thessalonians'): 2, ('Esther', '2 Thessalonians'): 2, ('Esther', 'Galatians'): 3, ('Esther', '2 Timothy'): 1, ('Job', 'James'): 89, ('Job', '1 Peter'): 47, ('Job', 'Luke'): 115, ('Job', 'Hebrews'): 73, ('Job', 'Acts'): 100, ('Job', 'John'): 75, ('Job', '2 Corinthians'): 58, ('Job', 'Ephesians'): 43, ('Job', '1 Corinthians'): 75, ('Job', 'Matthew'): 176, ('Job', 'Revelation'): 102, ('Job', '1 Timothy'): 30, ('Job', '1 Thessalonians'): 24, ('Job', 'Romans'): 133, ('Job', 'Philippians'): 10, ('Job', 'Mark'): 20, ('Job', '2 Peter'): 28, ('Job', 'Colossians'): 15, ('Job', '2 Thessalonians'): 6, ('Job', '2 Timothy'): 14, ('Job', 'Jude'): 20, ('Job', 'Galatians'): 15, ('Job', '1 John'): 24, ('Job', 'Titus'): 10, ('Job', 'Philemon'): 1, ('Psalms', '1 Peter'): 215, ('Psalms', 'Ephesians'): 186, ('Psalms', 'Matthew'): 617, ('Psalms', 'John'): 437, ('Psalms', 'Revelation'): 606, ('Psalms', 'Luke'): 454, ('Psalms', 'Romans'): 367, ('Psalms', '1 Timothy'): 47, ('Psalms', '2 Timothy'): 72, ('Psalms', '1 John'): 95, ('Psalms', '1 Thessalonians'): 53, ('Psalms', 'Jude'): 33, ('Psalms', '2 Peter'): 65, ('Psalms', 'Acts'): 384, ('Psalms', 'Hebrews'): 332, ('Psalms', 'Philippians'): 100, ('Psalms', 'James'): 135, ('Psalms', '1 Corinthians'): 149, ('Psalms', '2 Corinthians'): 153, ('Psalms', 'Titus'): 53, ('Psalms', 'Mark'): 79, ('Psalms', '2 Thessalonians'): 35, ('Psalms', 'Colossians'): 66, ('Psalms', 'Galatians'): 67, ('Psalms', '3 John'): 6, ('Psalms', '2 John'): 4, ('Proverbs', 'John'): 148, ('Proverbs', '2 Timothy'): 38, ('Proverbs', 'Titus'): 21, ('Proverbs', '1 Corinthians'): 72, ('Proverbs', 'Hebrews'): 79, ('Proverbs', 'Mark'): 28, ('Proverbs', '2 Peter'): 29, ('Proverbs', 'Romans'): 121, ('Proverbs', 'Matthew'): 235, ('Proverbs', 'Ephesians'): 74, ('Proverbs', 'Acts'): 107, ('Proverbs', 'Luke'): 155, ('Proverbs', '2 Corinthians'): 69, ('Proverbs', '1 Timothy'): 48, ('Proverbs', 'Colossians'): 29, ('Proverbs', 'Revelation'): 125, ('Proverbs', '1 Thessalonians'): 29, ('Proverbs', 'James'): 92, ('Proverbs', '1 Peter'): 71, ('Proverbs', '1 John'): 47, ('Proverbs', 'Jude'): 15, ('Proverbs', 'Philippians'): 28, ('Proverbs', '3 John'): 4, ('Proverbs', 'Galatians'): 16, ('Proverbs', '2 Thessalonians'): 10, ('Proverbs', '2 John'): 5, ('Proverbs', 'Philemon'): 4, ('Ecclesiastes', '2 Peter'): 9, ('Ecclesiastes', 'Romans'): 26, ('Ecclesiastes', 'Matthew'): 69, ('Ecclesiastes', 'John'): 28, ('Ecclesiastes', 'Revelation'): 15, ('Ecclesiastes', '2 Timothy'): 8, ('Ecclesiastes', 'Acts'): 45, ('Ecclesiastes', '1 Timothy'): 14, ('Ecclesiastes', 'Hebrews'): 25, ('Ecclesiastes', '1 Thessalonians'): 6, ('Ecclesiastes', 'Luke'): 61, ('Ecclesiastes', 'Titus'): 6, ('Ecclesiastes', 'James'): 28, ('Ecclesiastes', 'Ephesians'): 14, ('Ecclesiastes', '1 John'): 7, ('Ecclesiastes', '1 Corinthians'): 18, ('Ecclesiastes', 'Philippians'): 5, ('Ecclesiastes', '1 Peter'): 10, ('Ecclesiastes', 'Galatians'): 4, ('Ecclesiastes', '2 Corinthians'): 15, ('Ecclesiastes', '2 Thessalonians'): 1, ('Ecclesiastes', 'Mark'): 7, ('Ecclesiastes', '2 John'): 2, ('Ecclesiastes', 'Colossians'): 7, ('Ecclesiastes', 'Jude'): 1, ('Song of Solomon', '1 Peter'): 15, ('Song of Solomon', 'Matthew'): 48, ('Song of Solomon', 'Luke'): 36, ('Song of Solomon', 'Acts'): 19, ('Song of Solomon', '2 Corinthians'): 17, ('Song of Solomon', 'John'): 50, ('Song of Solomon', 'Revelation'): 50, ('Song of Solomon', 'Philippians'): 16, ('Song of Solomon', 'Ephesians'): 25, ('Song of Solomon', 'Hebrews'): 28, ('Song of Solomon', '1 John'): 3, ('Song of Solomon', 'Galatians'): 14, ('Song of Solomon', 'Romans'): 16, ('Song of Solomon', 'Mark'): 8, ('Song of Solomon', 'James'): 6, ('Song of Solomon', '1 Corinthians'): 10, ('Song of Solomon', 'Colossians'): 13, ('Song of Solomon', 'Jude'): 2, ('Song of Solomon', '2 Peter'): 5, ('Song of Solomon', '1 Thessalonians'): 2, ('Song of Solomon', '1 Timothy'): 3, ('Song of Solomon', '2 Thessalonians'): 2, ('Song of Solomon', '2 Timothy'): 2, ('Isaiah', 'Matthew'): 447, ('Isaiah', 'Acts'): 244, ('Isaiah', '2 Corinthians'): 98, ('Isaiah', '2 Peter'): 49, ('Isaiah', 'Romans'): 245, ('Isaiah', 'Colossians'): 28, ('Isaiah', 'Revelation'): 496, ('Isaiah', '1 Corinthians'): 94, ('Isaiah', 'Luke'): 294, ('Isaiah', 'John'): 272, ('Isaiah', 'Philippians'): 47, ('Isaiah', 'Ephesians'): 115, ('Isaiah', '1 Timothy'): 36, ('Isaiah', '1 Peter'): 126, ('Isaiah', 'James'): 65, ('Isaiah', 'Hebrews'): 195, ('Isaiah', 'Titus'): 25, ('Isaiah', 'Mark'): 68, ('Isaiah', '1 Thessalonians'): 37, ('Isaiah', '2 Timothy'): 18, ('Isaiah', '1 John'): 42, ('Isaiah', '2 Thessalonians'): 37, ('Isaiah', 'Jude'): 23, ('Isaiah', 'Galatians'): 43, ('Isaiah', '2 John'): 2, ('Isaiah', 'Philemon'): 1, ('Jeremiah', 'Romans'): 126, ('Jeremiah', 'Luke'): 154, ('Jeremiah', 'Ephesians'): 41, ('Jeremiah', 'Matthew'): 229, ('Jeremiah', 'Acts'): 212, ('Jeremiah', '1 Thessalonians'): 29, ('Jeremiah', '1 Peter'): 51, ('Jeremiah', '1 Corinthians'): 53, ('Jeremiah', 'John'): 110, ('Jeremiah', 'Hebrews'): 108, ('Jeremiah', '2 Peter'): 25, ('Jeremiah', 'James'): 49, ('Jeremiah', 'Revelation'): 260, ('Jeremiah', '2 Corinthians'): 56, ('Jeremiah', 'Mark'): 33, ('Jeremiah', 'Galatians'): 25, ('Jeremiah', 'Philippians'): 14, ('Jeremiah', 'Colossians'): 10, ('Jeremiah', '2 Thessalonians'): 15, ('Jeremiah', '2 Timothy'): 31, ('Jeremiah', 'Titus'): 8, ('Jeremiah', '1 Timothy'): 24, ('Jeremiah', '1 John'): 14, ('Jeremiah', 'Jude'): 9, ('Jeremiah', 'Philemon'): 1, ('Lamentations', 'Revelation'): 20, ('Lamentations', 'Luke'): 24, ('Lamentations', '1 Peter'): 4, ('Lamentations', 'John'): 2, ('Lamentations', 'Mark'): 5, ('Lamentations', 'Matthew'): 19, ('Lamentations', '2 Thessalonians'): 1, ('Lamentations', 'Hebrews'): 8, ('Lamentations', 'Romans'): 7, ('Lamentations', 'Ephesians'): 3, ('Lamentations', '2 Corinthians'): 4, ('Lamentations', 'Acts'): 6, ('Lamentations', '1 Timothy'): 3, ('Lamentations', 'Jude'): 2, ('Lamentations', 'Titus'): 1, ('Lamentations', 'James'): 2, ('Lamentations', '1 Thessalonians'): 2, ('Lamentations', 'Galatians'): 1, ('Lamentations', '1 Corinthians'): 4, ('Lamentations', '2 Timothy'): 2, ('Ezekiel', 'Matthew'): 143, ('Ezekiel', 'Acts'): 127, ('Ezekiel', 'Revelation'): 289, ('Ezekiel', 'John'): 100, ('Ezekiel', '2 Corinthians'): 35, ('Ezekiel', 'Luke'): 129, ('Ezekiel', 'Mark'): 28, ('Ezekiel', '1 Timothy'): 31, ('Ezekiel', 'Hebrews'): 101, ('Ezekiel', '1 Corinthians'): 62, ('Ezekiel', 'Ephesians'): 37, ('Ezekiel', 'Romans'): 97, ('Ezekiel', '1 Peter'): 53, ('Ezekiel', '2 Thessalonians'): 8, ('Ezekiel', 'Philippians'): 10, ('Ezekiel', '2 Timothy'): 16, ('Ezekiel', 'Colossians'): 19, ('Ezekiel', '1 Thessalonians'): 18, ('Ezekiel', '1 John'): 31, ('Ezekiel', 'Titus'): 6, ('Ezekiel', 'James'): 25, ('Ezekiel', 'Jude'): 16, ('Ezekiel', '2 Peter'): 28, ('Ezekiel', 'Galatians'): 18, ('Ezekiel', '2 John'): 2, ('Daniel', 'Acts'): 131, ('Daniel', 'Ephesians'): 22, ('Daniel', 'Luke'): 93, ('Daniel', 'Matthew'): 121, ('Daniel', 'Mark'): 36, ('Daniel', '2 Corinthians'): 21, ('Daniel', '1 Corinthians'): 18, ('Daniel', 'Romans'): 33, ('Daniel', 'James'): 16, ('Daniel', 'Colossians'): 10, ('Daniel', 'John'): 65, ('Daniel', 'Revelation'): 232, ('Daniel', '2 Peter'): 9, ('Daniel', 'Jude'): 12, ('Daniel', '1 Timothy'): 16, ('Daniel', '1 John'): 9, ('Daniel', 'Hebrews'): 43, ('Daniel', '2 Timothy'): 9, ('Daniel', '1 Peter'): 24, ('Daniel', 'Galatians'): 8, ('Daniel', 'Philippians'): 9, ('Daniel', '1 Thessalonians'): 9, ('Daniel', 'Titus'): 3, ('Daniel', '2 Thessalonians'): 13, ('Daniel', '2 John'): 1, ('Hosea', 'John'): 45, ('Hosea', '2 Peter'): 7, ('Hosea', 'Romans'): 39, ('Hosea', 'Revelation'): 34, ('Hosea', 'Mark'): 5, ('Hosea', 'Matthew'): 36, ('Hosea', 'Luke'): 39, ('Hosea', '1 Peter'): 5, ('Hosea', 'Hebrews'): 15, ('Hosea', '2 Corinthians'): 15, ('Hosea', '1 Timothy'): 4, ('Hosea', 'James'): 17, ('Hosea', '1 Corinthians'): 13, ('Hosea', 'Acts'): 25, ('Hosea', '1 John'): 10, ('Hosea', '2 Timothy'): 5, ('Hosea', 'Colossians'): 1, ('Hosea', 'Philippians'): 10, ('Hosea', '1 Thessalonians'): 5, ('Hosea', 'Galatians'): 5, ('Hosea', 'Titus'): 4, ('Hosea', 'Ephesians'): 7, ('Hosea', 'Jude'): 2, ('Joel', '2 Peter'): 2, ('Joel', 'Acts'): 9, ('Joel', 'Matthew'): 17, ('Joel', 'Revelation'): 28, ('Joel', 'James'): 6, ('Joel', 'Luke'): 9, ('Joel', 'Romans'): 11, ('Joel', '2 Corinthians'): 4, ('Joel', '1 Corinthians'): 6, ('Joel', '1 Thessalonians'): 1, ('Joel', 'Philippians'): 5, ('Joel', '1 Peter'): 2, ('Joel', 'Hebrews'): 3, ('Joel', 'Jude'): 1, ('Joel', 'Mark'): 2, ('Joel', 'John'): 4, ('Joel', 'Ephesians'): 1, ('Joel', '1 Timothy'): 2, ('Joel', '2 Timothy'): 1, ('Joel', '1 John'): 1, ('Joel', 'Galatians'): 2, ('Joel', 'Colossians'): 1, ('Joel', '2 Thessalonians'): 4, ('Amos', 'Matthew'): 29, ('Amos', '1 Corinthians'): 13, ('Amos', 'Acts'): 34, ('Amos', 'Romans'): 11, ('Amos', 'Ephesians'): 4, ('Amos', '1 Peter'): 5, ('Amos', '1 Thessalonians'): 3, ('Amos', 'Mark'): 4, ('Amos', 'Revelation'): 25, ('Amos', '2 Corinthians'): 1, ('Amos', 'John'): 12, ('Amos', '2 Peter'): 5, ('Amos', 'James'): 10, ('Amos', 'Jude'): 3, ('Amos', 'Luke'): 10, ('Amos', 'Hebrews'): 2, ('Amos', '2 Timothy'): 2, ('Amos', '3 John'): 1, ('Amos', 'Philippians'): 1, ('Amos', '1 Timothy'): 1, ('Amos', 'Colossians'): 1, ('Obadiah', 'Matthew'): 4, ('Obadiah', 'Mark'): 1, ('Obadiah', 'Revelation'): 6, ('Obadiah', 'John'): 1, ('Obadiah', '2 Peter'): 1, ('Obadiah', 'Luke'): 3, ('Obadiah', 'Jude'): 1, ('Obadiah', 'James'): 3, ('Obadiah', '1 Peter'): 1, ('Obadiah', '1 Corinthians'): 1, ('Obadiah', '1 Timothy'): 1, ('Jonah', 'Matthew'): 19, ('Jonah', 'Luke'): 13, ('Jonah', 'James'): 3, ('Jonah', 'Revelation'): 8, ('Jonah', 'Acts'): 19, ('Jonah', '2 Thessalonians'): 1, ('Jonah', '1 Corinthians'): 4, ('Jonah', 'Romans'): 2, ('Jonah', 'Ephesians'): 3, ('Jonah', 'Philippians'): 1, ('Jonah', 'John'): 4, ('Jonah', 'Mark'): 1, ('Jonah', 'Hebrews'): 5, ('Jonah', '2 Timothy'): 1, ('Jonah', '2 Corinthians'): 1, ('Micah', 'Revelation'): 38, ('Micah', 'Matthew'): 35, ('Micah', 'Acts'): 22, ('Micah', 'Mark'): 7, ('Micah', 'Romans'): 20, ('Micah', 'John'): 21, ('Micah', 'Luke'): 25, ('Micah', '1 Timothy'): 2, ('Micah', 'James'): 4, ('Micah', 'Ephesians'): 6, ('Micah', '2 Timothy'): 3, ('Micah', '2 Corinthians'): 5, ('Micah', 'Philippians'): 1, ('Micah', '1 John'): 4, ('Micah', 'Hebrews'): 7, ('Micah', '1 Corinthians'): 8, ('Micah', '1 Peter'): 3, ('Micah', 'Jude'): 3, ('Micah', 'Titus'): 2, ('Micah', '2 Peter'): 2, ('Micah', 'Colossians'): 4, ('Micah', '2 Thessalonians'): 2, ('Micah', 'Philemon'): 1, ('Nahum', 'Hebrews'): 2, ('Nahum', 'Romans'): 4, ('Nahum', '2 Peter'): 1, ('Nahum', 'Revelation'): 19, ('Nahum', 'James'): 1, ('Nahum', 'Matthew'): 8, ('Nahum', 'Galatians'): 1, ('Nahum', 'John'): 2, ('Nahum', '2 Timothy'): 1, ('Nahum', '2 Corinthians'): 1, ('Nahum', 'Acts'): 1, ('Nahum', 'Luke'): 5, ('Nahum', '1 Corinthians'): 2, ('Nahum', 'Jude'): 1, ('Habakkuk', 'Revelation'): 27, ('Habakkuk', '2 Peter'): 2, ('Habakkuk', 'Matthew'): 7, ('Habakkuk', 'Romans'): 5, ('Habakkuk', 'Acts'): 9, ('Habakkuk', 'Mark'): 2, ('Habakkuk', 'Luke'): 7, ('Habakkuk', '1 Timothy'): 3, ('Habakkuk', 'Hebrews'): 7, ('Habakkuk', 'Galatians'): 3, ('Habakkuk', '2 Corinthians'): 2, ('Habakkuk', '1 Corinthians'): 3, ('Habakkuk', 'John'): 2, ('Habakkuk', '1 Peter'): 3, ('Habakkuk', '2 Thessalonians'): 1, ('Habakkuk', '1 Thessalonians'): 2, ('Habakkuk', 'James'): 2, ('Habakkuk', 'Jude'): 1, ('Habakkuk', 'Philippians'): 4, ('Habakkuk', 'Colossians'): 1, ('Habakkuk', 'Ephesians'): 1, ('Zephaniah', '2 Timothy'): 1, ('Zephaniah', '2 Peter'): 8, ('Zephaniah', 'Matthew'): 18, ('Zephaniah', 'Revelation'): 17, ('Zephaniah', 'Romans'): 15, ('Zephaniah', 'Hebrews'): 6, ('Zephaniah', 'Colossians'): 2, ('Zephaniah', 'Philippians'): 2, ('Zephaniah', 'Acts'): 6, ('Zephaniah', 'John'): 8, ('Zephaniah', 'James'): 3, ('Zephaniah', '1 Thessalonians'): 3, ('Zephaniah', '2 Corinthians'): 3, ('Zephaniah', '1 John'): 3, ('Zephaniah', '1 Corinthians'): 4, ('Zephaniah', '1 Peter'): 8, ('Zephaniah', 'Mark'): 1, ('Zephaniah', 'Luke'): 4, ('Zephaniah', '1 Timothy'): 1, ('Zephaniah', 'Ephesians'): 2, ('Zephaniah', 'Galatians'): 1, ('Haggai', 'Luke'): 8, ('Haggai', 'Philippians'): 2, ('Haggai', 'Matthew'): 9, ('Haggai', '2 Corinthians'): 3, ('Haggai', 'Galatians'): 2, ('Haggai', 'Revelation'): 6, ('Haggai', 'Hebrews'): 3, ('Haggai', 'Colossians'): 2, ('Haggai', 'Acts'): 5, ('Haggai', '2 Timothy'): 5, ('Haggai', 'Romans'): 2, ('Haggai', '1 Corinthians'): 3, ('Haggai', '2 Peter'): 1, ('Haggai', 'Mark'): 1, ('Haggai', 'Ephesians'): 1, ('Haggai', 'John'): 4, ('Haggai', 'James'): 1, ('Haggai', '1 Timothy'): 1, ('Haggai', 'Titus'): 2, ('Haggai', 'Jude'): 1, ('Haggai', '1 Peter'): 1, ('Zechariah', 'Luke'): 58, ('Zechariah', 'Matthew'): 87, ('Zechariah', 'Acts'): 52, ('Zechariah', '1 Peter'): 16, ('Zechariah', 'Hebrews'): 29, ('Zechariah', 'John'): 64, ('Zechariah', '1 Thessalonians'): 9, ('Zechariah', 'Revelation'): 114, ('Zechariah', '2 Thessalonians'): 3, ('Zechariah', 'Ephesians'): 13, ('Zechariah', '1 Timothy'): 4, ('Zechariah', '1 John'): 7, ('Zechariah', 'Philippians'): 5, ('Zechariah', 'Romans'): 28, ('Zechariah', 'Mark'): 19, ('Zechariah', 'Jude'): 3, ('Zechariah', '1 Corinthians'): 16, ('Zechariah', 'Colossians'): 9, ('Zechariah', '2 Corinthians'): 11, ('Zechariah', '2 Timothy'): 7, ('Zechariah', '2 Peter'): 4, ('Zechariah', 'James'): 15, ('Zechariah', 'Galatians'): 5, ('Malachi', 'Luke'): 42, ('Malachi', 'Matthew'): 28, ('Malachi', '1 Peter'): 9, ('Malachi', 'Ephesians'): 5, ('Malachi', 'Mark'): 7, ('Malachi', '1 Corinthians'): 9, ('Malachi', 'John'): 21, ('Malachi', 'Romans'): 21, ('Malachi', 'Philippians'): 5, ('Malachi', 'Hebrews'): 14, ('Malachi', 'Revelation'): 32, ('Malachi', '1 Timothy'): 2, ('Malachi', '2 Corinthians'): 4, ('Malachi', 'Acts'): 19, ('Malachi', 'Galatians'): 3, ('Malachi', '1 Thessalonians'): 6, ('Malachi', '2 Timothy'): 2, ('Malachi', 'Titus'): 3, ('Malachi', 'James'): 5, ('Malachi', '2 Thessalonians'): 3, ('Malachi', '2 Peter'): 3, ('Malachi', '1 John'): 1}\n"
     ]
    }
   ],
   "source": [
    "print(dict_cr_unidirectional_ot_ord)"
   ]
  },
  {
   "cell_type": "code",
   "execution_count": 690,
   "metadata": {},
   "outputs": [],
   "source": [
    "dict_cr_unidirectional_nt = {}\n",
    "\n",
    "for book1, references in dict_cr_ot_nt.items():\n",
    "    if book1 in new_testament:\n",
    "        for book2, count1 in references.items():\n",
    "            dict_cr_unidirectional_nt[tuple(sorted((book1, book2)))] = count1\n",
    "    else: pass"
   ]
  },
  {
   "cell_type": "code",
   "execution_count": 691,
   "metadata": {},
   "outputs": [
    {
     "name": "stdout",
     "output_type": "stream",
     "text": [
      "{('Genesis', 'Matthew'): 140, ('Isaiah', 'Matthew'): 392, ('Matthew', 'Psalms'): 447, ('Jeremiah', 'Matthew'): 169, ('Amos', 'Matthew'): 15, ('Matthew', 'Zechariah'): 73, ('1 Chronicles', 'Matthew'): 27, ('Matthew', 'Numbers'): 47, ('Matthew', 'Ruth'): 12, ('1 Samuel', 'Matthew'): 71, ('2 Samuel', 'Matthew'): 43, ('1 Kings', 'Matthew'): 99, ('2 Chronicles', 'Matthew'): 44, ('2 Kings', 'Matthew'): 52, ('Daniel', 'Matthew'): 84, ('Ezra', 'Matthew'): 20, ('Haggai', 'Matthew'): 8, ('Matthew', 'Nehemiah'): 26, ('Job', 'Matthew'): 85, ('Leviticus', 'Matthew'): 55, ('Matthew', 'Proverbs'): 163, ('Joel', 'Matthew'): 10, ('Judges', 'Matthew'): 29, ('Exodus', 'Matthew'): 82, ('Matthew', 'Micah'): 27, ('Malachi', 'Matthew'): 47, ('Joshua', 'Matthew'): 24, ('Lamentations', 'Matthew'): 20, ('Deuteronomy', 'Matthew'): 86, ('Hosea', 'Matthew'): 42, ('Ezekiel', 'Matthew'): 95, ('Esther', 'Matthew'): 12, ('Matthew', 'Zephaniah'): 10, ('Matthew', 'Song of Solomon'): 16, ('Matthew', 'Obadiah'): 5, ('Matthew', 'Nahum'): 2, ('Ecclesiastes', 'Matthew'): 29, ('Habakkuk', 'Matthew'): 8, ('Jonah', 'Matthew'): 10, ('Mark', 'Psalms'): 181, ('Malachi', 'Mark'): 19, ('Joshua', 'Mark'): 7, ('Mark', 'Proverbs'): 55, ('Mark', 'Zechariah'): 31, ('Leviticus', 'Mark'): 13, ('2 Kings', 'Mark'): 24, ('Isaiah', 'Mark'): 166, ('Joel', 'Mark'): 7, ('Exodus', 'Mark'): 30, ('Deuteronomy', 'Mark'): 46, ('Daniel', 'Mark'): 43, ('Ezekiel', 'Mark'): 34, ('1 Kings', 'Mark'): 41, ('Jeremiah', 'Mark'): 63, ('Mark', 'Micah'): 10, ('2 Chronicles', 'Mark'): 22, ('Genesis', 'Mark'): 72, ('2 Samuel', 'Mark'): 16, ('Job', 'Mark'): 35, ('1 Chronicles', 'Mark'): 5, ('Mark', 'Song of Solomon'): 7, ('1 Samuel', 'Mark'): 21, ('Hosea', 'Mark'): 23, ('Judges', 'Mark'): 5, ('Mark', 'Nehemiah'): 8, ('Mark', 'Numbers'): 17, ('Ecclesiastes', 'Mark'): 16, ('Amos', 'Mark'): 2, ('Jonah', 'Mark'): 4, ('Lamentations', 'Mark'): 16, ('Mark', 'Nahum'): 1, ('Esther', 'Mark'): 6, ('Mark', 'Zephaniah'): 3, ('Habakkuk', 'Mark'): 2, ('Mark', 'Ruth'): 2, ('Ezra', 'Mark'): 1, ('Haggai', 'Mark'): 1, ('Luke', 'Psalms'): 501, ('Ecclesiastes', 'Luke'): 38, ('Luke', 'Nehemiah'): 19, ('1 Chronicles', 'Luke'): 29, ('Job', 'Luke'): 94, ('1 Kings', 'Luke'): 57, ('Genesis', 'Luke'): 183, ('2 Kings', 'Luke'): 55, ('1 Samuel', 'Luke'): 78, ('Exodus', 'Luke'): 76, ('2 Chronicles', 'Luke'): 38, ('Ezra', 'Luke'): 6, ('Luke', 'Numbers'): 44, ('Leviticus', 'Luke'): 29, ('Judges', 'Luke'): 25, ('Daniel', 'Luke'): 75, ('Isaiah', 'Luke'): 420, ('Hosea', 'Luke'): 49, ('Luke', 'Proverbs'): 171, ('Joshua', 'Luke'): 21, ('Luke', 'Zechariah'): 76, ('Jeremiah', 'Luke'): 172, ('Luke', 'Malachi'): 40, ('Amos', 'Luke'): 16, ('Ezekiel', 'Luke'): 110, ('2 Samuel', 'Luke'): 40, ('Luke', 'Micah'): 38, ('Luke', 'Obadiah'): 3, ('Luke', 'Ruth'): 9, ('Habakkuk', 'Luke'): 11, ('Deuteronomy', 'Luke'): 74, ('Joel', 'Luke'): 7, ('Luke', 'Zephaniah'): 13, ('Jonah', 'Luke'): 10, ('Esther', 'Luke'): 14, ('Luke', 'Song of Solomon'): 21, ('Haggai', 'Luke'): 5, ('Luke', 'Nahum'): 7, ('Lamentations', 'Luke'): 22, ('Isaiah', 'John'): 351, ('Genesis', 'John'): 111, ('John', 'Psalms'): 372, ('John', 'Malachi'): 24, ('John', 'Proverbs'): 111, ('Jeremiah', 'John'): 102, ('Hosea', 'John'): 37, ('John', 'Micah'): 23, ('John', 'Zechariah'): 50, ('Deuteronomy', 'John'): 63, ('Exodus', 'John'): 49, ('John', 'Lamentations'): 14, ('John', 'Numbers'): 26, ('2 Samuel', 'John'): 16, ('John', 'Judges'): 12, ('John', 'Leviticus'): 23, ('1 Kings', 'John'): 40, ('John', 'Ruth'): 3, ('2 Kings', 'John'): 19, ('Daniel', 'John'): 34, ('John', 'Zephaniah'): 10, ('Ezekiel', 'John'): 53, ('John', 'Joshua'): 13, ('Ecclesiastes', 'John'): 27, ('John', 'Song of Solomon'): 28, ('1 Chronicles', 'John'): 13, ('1 Samuel', 'John'): 39, ('Job', 'John'): 42, ('Amos', 'John'): 10, ('Habakkuk', 'John'): 3, ('2 Chronicles', 'John'): 21, ('Ezra', 'John'): 5, ('John', 'Nehemiah'): 16, ('John', 'Jonah'): 1, ('Joel', 'John'): 2, ('Esther', 'John'): 2, ('Haggai', 'John'): 1, ('Acts', 'Isaiah'): 362, ('Acts', 'Deuteronomy'): 93, ('1 Kings', 'Acts'): 72, ('Acts', 'Joel'): 15, ('Acts', 'Daniel'): 106, ('Acts', 'Zechariah'): 64, ('Acts', 'Genesis'): 176, ('Acts', 'Jeremiah'): 164, ('Acts', 'Amos'): 26, ('Acts', 'Micah'): 43, ('Acts', 'Hosea'): 45, ('Acts', 'Psalms'): 368, ('Acts', 'Exodus'): 120, ('2 Samuel', 'Acts'): 44, ('Acts', 'Numbers'): 51, ('1 Chronicles', 'Acts'): 39, ('Acts', 'Proverbs'): 123, ('1 Samuel', 'Acts'): 88, ('Acts', 'Jonah'): 19, ('Acts', 'Joshua'): 43, ('Acts', 'Leviticus'): 29, ('2 Chronicles', 'Acts'): 55, ('Acts', 'Zephaniah'): 8, ('Acts', 'Malachi'): 22, ('Acts', 'Song of Solomon'): 10, ('Acts', 'Ezekiel'): 83, ('Acts', 'Ezra'): 30, ('2 Kings', 'Acts'): 45, ('Acts', 'Judges'): 21, ('Acts', 'Esther'): 16, ('Acts', 'Job'): 71, ('Acts', 'Nehemiah'): 35, ('Acts', 'Ecclesiastes'): 27, ('Acts', 'Lamentations'): 18, ('Acts', 'Habakkuk'): 12, ('Acts', 'Ruth'): 1, ('Acts', 'Haggai'): 2, ('Acts', 'Obadiah'): 1, ('Deuteronomy', 'Romans'): 72, ('Jeremiah', 'Romans'): 107, ('Isaiah', 'Romans'): 233, ('1 Chronicles', 'Romans'): 7, ('Amos', 'Romans'): 9, ('Genesis', 'Romans'): 98, ('Psalms', 'Romans'): 323, ('Malachi', 'Romans'): 11, ('Romans', 'Song of Solomon'): 3, ('Job', 'Romans'): 58, ('1 Samuel', 'Romans'): 22, ('2 Samuel', 'Romans'): 13, ('2 Chronicles', 'Romans'): 16, ('Proverbs', 'Romans'): 108, ('1 Kings', 'Romans'): 18, ('Habakkuk', 'Romans'): 5, ('Hosea', 'Romans'): 23, ('2 Kings', 'Romans'): 11, ('Ecclesiastes', 'Romans'): 27, ('Ezekiel', 'Romans'): 64, ('Leviticus', 'Romans'): 17, ('Judges', 'Romans'): 3, ('Numbers', 'Romans'): 20, ('Romans', 'Zephaniah'): 11, ('Daniel', 'Romans'): 35, ('Exodus', 'Romans'): 43, ('Jonah', 'Romans'): 6, ('Joshua', 'Romans'): 11, ('Nahum', 'Romans'): 4, ('Micah', 'Romans'): 18, ('Romans', 'Zechariah'): 19, ('Lamentations', 'Romans'): 9, ('Haggai', 'Romans'): 1, ('Ezra', 'Romans'): 8, ('Romans', 'Ruth'): 2, ('Obadiah', 'Romans'): 1, ('Nehemiah', 'Romans'): 10, ('Joel', 'Romans'): 3, ('Esther', 'Romans'): 2, ('1 Corinthians', 'Genesis'): 62, ('1 Corinthians', 'Psalms'): 145, ('1 Corinthians', 'Isaiah'): 113, ('1 Corinthians', 'Numbers'): 31, ('1 Corinthians', 'Deuteronomy'): 54, ('1 Corinthians', 'Jeremiah'): 52, ('1 Corinthians', 'Proverbs'): 79, ('1 Corinthians', 'Job'): 35, ('1 Corinthians', '2 Samuel'): 17, ('1 Corinthians', 'Daniel'): 28, ('1 Corinthians', 'Exodus'): 44, ('1 Corinthians', 'Zephaniah'): 5, ('1 Corinthians', 'Hosea'): 14, ('1 Chronicles', '1 Corinthians'): 15, ('1 Corinthians', 'Judges'): 5, ('1 Corinthians', 'Ezekiel'): 27, ('1 Corinthians', 'Amos'): 8, ('1 Corinthians', 'Ecclesiastes'): 25, ('1 Corinthians', 'Zechariah'): 13, ('1 Corinthians', '2 Chronicles'): 5, ('1 Corinthians', 'Malachi'): 7, ('1 Corinthians', 'Leviticus'): 16, ('1 Corinthians', 'Esther'): 1, ('1 Corinthians', '1 Samuel'): 13, ('1 Corinthians', '2 Kings'): 8, ('1 Corinthians', 'Lamentations'): 3, ('1 Corinthians', 'Joshua'): 6, ('1 Corinthians', 'Micah'): 2, ('1 Corinthians', '1 Kings'): 4, ('1 Corinthians', 'Ruth'): 2, ('1 Corinthians', 'Joel'): 4, ('1 Corinthians', 'Nahum'): 1, ('1 Corinthians', 'Jonah'): 6, ('1 Corinthians', 'Song of Solomon'): 7, ('1 Corinthians', 'Nehemiah'): 9, ('1 Corinthians', 'Haggai'): 3, ('2 Corinthians', 'Daniel'): 10, ('1 Chronicles', '2 Corinthians'): 9, ('2 Corinthians', '2 Samuel'): 8, ('2 Corinthians', 'Psalms'): 120, ('2 Corinthians', 'Micah'): 3, ('2 Corinthians', 'Genesis'): 27, ('2 Corinthians', 'Nehemiah'): 8, ('2 Corinthians', 'Job'): 32, ('2 Corinthians', 'Isaiah'): 99, ('1 Samuel', '2 Corinthians'): 21, ('2 Corinthians', 'Ezekiel'): 31, ('2 Corinthians', 'Proverbs'): 61, ('2 Corinthians', 'Joshua'): 8, ('2 Corinthians', 'Jeremiah'): 44, ('2 Corinthians', 'Zephaniah'): 3, ('2 Corinthians', 'Judges'): 5, ('2 Corinthians', 'Exodus'): 37, ('2 Corinthians', 'Deuteronomy'): 24, ('2 Corinthians', 'Song of Solomon'): 4, ('2 Corinthians', 'Haggai'): 4, ('2 Corinthians', 'Lamentations'): 5, ('1 Kings', '2 Corinthians'): 14, ('2 Corinthians', 'Ecclesiastes'): 7, ('2 Corinthians', 'Nahum'): 1, ('2 Corinthians', '2 Kings'): 11, ('2 Corinthians', 'Zechariah'): 7, ('2 Corinthians', 'Habakkuk'): 2, ('2 Corinthians', 'Leviticus'): 3, ('2 Corinthians', 'Malachi'): 4, ('2 Chronicles', '2 Corinthians'): 12, ('2 Corinthians', 'Joel'): 2, ('2 Corinthians', 'Ezra'): 9, ('2 Corinthians', 'Hosea'): 4, ('2 Corinthians', 'Numbers'): 9, ('2 Corinthians', 'Jonah'): 3, ('Galatians', 'Psalms'): 56, ('Galatians', 'Isaiah'): 46, ('1 Chronicles', 'Galatians'): 3, ('Galatians', 'Jeremiah'): 23, ('Galatians', 'Nehemiah'): 3, ('1 Samuel', 'Galatians'): 7, ('Galatians', 'Genesis'): 30, ('Galatians', 'Joshua'): 6, ('Galatians', 'Proverbs'): 17, ('Deuteronomy', 'Galatians'): 19, ('Galatians', 'Numbers'): 4, ('Ecclesiastes', 'Galatians'): 9, ('Galatians', 'Job'): 15, ('Galatians', 'Jonah'): 2, ('Galatians', 'Leviticus'): 9, ('Ezekiel', 'Galatians'): 12, ('1 Kings', 'Galatians'): 6, ('Galatians', 'Habakkuk'): 2, ('Galatians', 'Zechariah'): 4, ('2 Samuel', 'Galatians'): 7, ('Daniel', 'Galatians'): 2, ('2 Kings', 'Galatians'): 3, ('Esther', 'Galatians'): 2, ('Galatians', 'Malachi'): 3, ('Galatians', 'Lamentations'): 1, ('Exodus', 'Galatians'): 5, ('2 Chronicles', 'Galatians'): 3, ('Amos', 'Galatians'): 1, ('Galatians', 'Hosea'): 11, ('Galatians', 'Judges'): 1, ('Galatians', 'Joel'): 1, ('Galatians', 'Obadiah'): 1, ('Galatians', 'Zephaniah'): 1, ('Ephesians', 'Numbers'): 7, ('Daniel', 'Ephesians'): 18, ('Ephesians', 'Psalms'): 120, ('Ephesians', 'Genesis'): 37, ('1 Chronicles', 'Ephesians'): 11, ('Ephesians', 'Nehemiah'): 7, ('Ephesians', 'Isaiah'): 104, ('Ephesians', 'Jeremiah'): 50, ('Ephesians', 'Hosea'): 12, ('Ephesians', 'Zechariah'): 21, ('Ephesians', 'Proverbs'): 72, ('Ephesians', 'Jonah'): 2, ('Ephesians', 'Job'): 19, ('Ephesians', 'Exodus'): 15, ('Ephesians', 'Micah'): 6, ('Ephesians', 'Malachi'): 7, ('Amos', 'Ephesians'): 4, ('Deuteronomy', 'Ephesians'): 27, ('Ephesians', 'Joel'): 1, ('1 Samuel', 'Ephesians'): 14, ('Ephesians', 'Ezekiel'): 15, ('2 Chronicles', 'Ephesians'): 7, ('Ephesians', 'Ezra'): 2, ('Ephesians', 'Esther'): 6, ('1 Kings', 'Ephesians'): 10, ('Ephesians', 'Zephaniah'): 3, ('Ephesians', 'Song of Solomon'): 5, ('2 Samuel', 'Ephesians'): 6, ('Ephesians', 'Judges'): 3, ('Ephesians', 'Obadiah'): 1, ('Ephesians', 'Leviticus'): 9, ('Ecclesiastes', 'Ephesians'): 11, ('Ephesians', 'Ruth'): 2, ('Ephesians', 'Joshua'): 4, ('2 Kings', 'Ephesians'): 2, ('Ephesians', 'Lamentations'): 1, ('Ephesians', 'Haggai'): 1, ('Ephesians', 'Habakkuk'): 1, ('Philippians', 'Psalms'): 82, ('Jeremiah', 'Philippians'): 19, ('Isaiah', 'Philippians'): 58, ('Job', 'Philippians'): 13, ('Philippians', 'Proverbs'): 31, ('Joshua', 'Philippians'): 1, ('Micah', 'Philippians'): 6, ('Genesis', 'Philippians'): 18, ('Esther', 'Philippians'): 1, ('Exodus', 'Philippians'): 4, ('2 Samuel', 'Philippians'): 7, ('Philippians', 'Song of Solomon'): 3, ('Philippians', 'Zechariah'): 4, ('Daniel', 'Philippians'): 7, ('Deuteronomy', 'Philippians'): 10, ('Ezra', 'Philippians'): 4, ('1 Kings', 'Philippians'): 4, ('Nehemiah', 'Philippians'): 6, ('2 Chronicles', 'Philippians'): 6, ('Numbers', 'Philippians'): 3, ('1 Samuel', 'Philippians'): 9, ('Malachi', 'Philippians'): 6, ('Habakkuk', 'Philippians'): 1, ('2 Kings', 'Philippians'): 5, ('Philippians', 'Zephaniah'): 2, ('1 Chronicles', 'Philippians'): 3, ('Joel', 'Philippians'): 1, ('Jonah', 'Philippians'): 1, ('Ecclesiastes', 'Philippians'): 1, ('Hosea', 'Philippians'): 4, ('Ezekiel', 'Philippians'): 3, ('Philippians', 'Ruth'): 1, ('Colossians', 'Psalms'): 63, ('Colossians', 'Numbers'): 6, ('1 Samuel', 'Colossians'): 5, ('Colossians', 'Micah'): 7, ('Colossians', 'Habakkuk'): 1, ('Colossians', 'Daniel'): 4, ('Colossians', 'Proverbs'): 24, ('Colossians', 'Isaiah'): 47, ('Colossians', 'Exodus'): 3, ('1 Kings', 'Colossians'): 2, ('1 Chronicles', 'Colossians'): 7, ('Colossians', 'Zechariah'): 3, ('Colossians', 'Deuteronomy'): 12, ('Colossians', 'Song of Solomon'): 3, ('Colossians', 'Leviticus'): 8, ('Colossians', 'Job'): 9, ('Colossians', 'Ezekiel'): 10, ('Colossians', 'Zephaniah'): 2, ('Colossians', 'Lamentations'): 1, ('Colossians', 'Jeremiah'): 12, ('Colossians', 'Ecclesiastes'): 9, ('Colossians', 'Genesis'): 9, ('2 Chronicles', 'Colossians'): 4, ('Colossians', 'Ruth'): 2, ('Colossians', 'Esther'): 3, ('Colossians', 'Nehemiah'): 7, ('2 Kings', 'Colossians'): 1, ('Amos', 'Colossians'): 2, ('Colossians', 'Hosea'): 1, ('Colossians', 'Malachi'): 4, ('Colossians', 'Jonah'): 1, ('2 Samuel', 'Colossians'): 1, ('1 Thessalonians', 'Ecclesiastes'): 3, ('1 Thessalonians', 'Song of Solomon'): 3, ('1 Thessalonians', 'Genesis'): 11, ('1 Thessalonians', 'Isaiah'): 37, ('1 Thessalonians', 'Hosea'): 4, ('1 Thessalonians', 'Exodus'): 7, ('1 Thessalonians', 'Jeremiah'): 22, ('1 Thessalonians', 'Zephaniah'): 3, ('1 Thessalonians', 'Psalms'): 45, ('1 Samuel', '1 Thessalonians'): 9, ('1 Thessalonians', 'Daniel'): 4, ('1 Thessalonians', 'Deuteronomy'): 15, ('1 Thessalonians', 'Malachi'): 6, ('1 Thessalonians', 'Job'): 9, ('1 Thessalonians', 'Habakkuk'): 1, ('1 Thessalonians', 'Numbers'): 8, ('1 Kings', '1 Thessalonians'): 10, ('1 Thessalonians', 'Proverbs'): 39, ('1 Chronicles', '1 Thessalonians'): 3, ('1 Thessalonians', 'Micah'): 3, ('1 Thessalonians', 'Esther'): 3, ('1 Thessalonians', 'Nehemiah'): 5, ('1 Thessalonians', 'Amos'): 1, ('1 Thessalonians', '2 Kings'): 4, ('1 Thessalonians', '2 Samuel'): 3, ('1 Thessalonians', 'Zechariah'): 6, ('1 Thessalonians', 'Ezekiel'): 5, ('1 Thessalonians', 'Leviticus'): 11, ('1 Thessalonians', 'Lamentations'): 3, ('1 Thessalonians', 'Joel'): 1, ('1 Thessalonians', 'Nahum'): 1, ('1 Thessalonians', 'Jonah'): 1, ('1 Thessalonians', '2 Chronicles'): 1, ('2 Thessalonians', 'Proverbs'): 14, ('2 Thessalonians', 'Psalms'): 39, ('2 Thessalonians', 'Job'): 5, ('2 Thessalonians', 'Jeremiah'): 9, ('2 Thessalonians', 'Daniel'): 15, ('2 Thessalonians', 'Exodus'): 5, ('2 Thessalonians', 'Zechariah'): 3, ('2 Thessalonians', 'Isaiah'): 39, ('2 Thessalonians', 'Deuteronomy'): 11, ('1 Samuel', '2 Thessalonians'): 4, ('2 Thessalonians', 'Zephaniah'): 3, ('2 Thessalonians', 'Genesis'): 8, ('2 Thessalonians', 'Malachi'): 2, ('2 Thessalonians', 'Numbers'): 3, ('2 Thessalonians', 'Hosea'): 3, ('2 Thessalonians', 'Micah'): 2, ('2 Thessalonians', 'Ezekiel'): 6, ('2 Samuel', '2 Thessalonians'): 1, ('1 Chronicles', '2 Thessalonians'): 2, ('1 Kings', '2 Thessalonians'): 1, ('2 Thessalonians', 'Lamentations'): 1, ('2 Thessalonians', 'Ecclesiastes'): 1, ('2 Thessalonians', 'Ezra'): 1, ('2 Thessalonians', 'Judges'): 1, ('2 Thessalonians', 'Haggai'): 1, ('2 Thessalonians', 'Ruth'): 1, ('2 Thessalonians', 'Joshua'): 1, ('1 Timothy', 'Isaiah'): 61, ('1 Timothy', 'Hosea'): 7, ('1 Timothy', 'Psalms'): 85, ('1 Timothy', 'Jeremiah'): 33, ('1 Timothy', 'Nehemiah'): 6, ('1 Timothy', 'Exodus'): 10, ('1 Timothy', 'Proverbs'): 50, ('1 Timothy', 'Deuteronomy'): 41, ('1 Timothy', '2 Kings'): 11, ('1 Timothy', 'Ezekiel'): 18, ('1 Timothy', '2 Samuel'): 4, ('1 Timothy', 'Leviticus'): 12, ('1 Timothy', '2 Chronicles'): 8, ('1 Timothy', 'Zechariah'): 5, ('1 Timothy', 'Genesis'): 34, ('1 Timothy', 'Malachi'): 6, ('1 Timothy', 'Numbers'): 5, ('1 Timothy', 'Job'): 9, ('1 Timothy', 'Daniel'): 11, ('1 Chronicles', '1 Timothy'): 5, ('1 Timothy', 'Micah'): 7, ('1 Timothy', 'Ezra'): 2, ('1 Timothy', 'Habakkuk'): 2, ('1 Timothy', 'Ecclesiastes'): 7, ('1 Kings', '1 Timothy'): 10, ('1 Timothy', 'Esther'): 2, ('1 Samuel', '1 Timothy'): 12, ('1 Timothy', 'Joshua'): 6, ('1 Timothy', 'Nahum'): 1, ('1 Timothy', 'Ruth'): 3, ('1 Timothy', 'Judges'): 1, ('1 Timothy', 'Lamentations'): 2, ('1 Timothy', 'Joel'): 1, ('1 Timothy', 'Song of Solomon'): 2, ('2 Timothy', 'Jeremiah'): 22, ('2 Timothy', 'Isaiah'): 38, ('2 Timothy', 'Psalms'): 61, ('2 Timothy', 'Exodus'): 10, ('2 Timothy', 'Proverbs'): 27, ('2 Timothy', 'Micah'): 4, ('2 Timothy', 'Zechariah'): 4, ('2 Timothy', 'Hosea'): 4, ('2 Timothy', 'Nahum'): 3, ('2 Timothy', 'Nehemiah'): 7, ('1 Kings', '2 Timothy'): 5, ('2 Timothy', 'Haggai'): 2, ('2 Timothy', 'Joshua'): 4, ('1 Samuel', '2 Timothy'): 6, ('2 Timothy', 'Ezra'): 5, ('2 Timothy', 'Numbers'): 4, ('2 Timothy', 'Malachi'): 3, ('2 Timothy', 'Daniel'): 15, ('2 Timothy', 'Deuteronomy'): 6, ('1 Chronicles', '2 Timothy'): 3, ('2 Timothy', 'Habakkuk'): 1, ('2 Timothy', 'Job'): 4, ('2 Timothy', 'Lamentations'): 1, ('2 Chronicles', '2 Timothy'): 2, ('2 Timothy', 'Ezekiel'): 7, ('2 Timothy', 'Genesis'): 7, ('2 Samuel', '2 Timothy'): 4, ('2 Timothy', 'Ecclesiastes'): 1, ('2 Timothy', 'Jonah'): 1, ('1 Chronicles', 'Titus'): 2, ('Numbers', 'Titus'): 3, ('1 Samuel', 'Titus'): 8, ('Isaiah', 'Titus'): 23, ('Habakkuk', 'Titus'): 1, ('Daniel', 'Titus'): 2, ('Ecclesiastes', 'Titus'): 5, ('Proverbs', 'Titus'): 17, ('Malachi', 'Titus'): 2, ('Genesis', 'Titus'): 5, ('Leviticus', 'Titus'): 5, ('Ezekiel', 'Titus'): 9, ('1 Kings', 'Titus'): 2, ('Psalms', 'Titus'): 24, ('Amos', 'Titus'): 1, ('Job', 'Titus'): 10, ('Micah', 'Titus'): 3, ('Jeremiah', 'Titus'): 3, ('Haggai', 'Titus'): 1, ('2 Samuel', 'Titus'): 2, ('Joel', 'Titus'): 2, ('Nehemiah', 'Titus'): 1, ('Titus', 'Zechariah'): 2, ('Deuteronomy', 'Titus'): 4, ('Exodus', 'Titus'): 1, ('Obadiah', 'Titus'): 1, ('Philemon', 'Psalms'): 5, ('Isaiah', 'Philemon'): 2, ('Philemon', 'Proverbs'): 1, ('2 Samuel', 'Philemon'): 2, ('Deuteronomy', 'Philemon'): 1, ('Jeremiah', 'Philemon'): 1, ('1 Chronicles', 'Philemon'): 1, ('Genesis', 'Philemon'): 1, ('Genesis', 'Hebrews'): 107, ('Hebrews', 'Joel'): 4, ('Daniel', 'Hebrews'): 45, ('Hebrews', 'Jeremiah'): 87, ('Deuteronomy', 'Hebrews'): 77, ('Hebrews', 'Isaiah'): 204, ('Hebrews', 'Numbers'): 75, ('Hebrews', 'Micah'): 15, ('Hebrews', 'Hosea'): 17, ('Ezekiel', 'Hebrews'): 46, ('Ecclesiastes', 'Hebrews'): 13, ('1 Chronicles', 'Hebrews'): 21, ('Hebrews', 'Psalms'): 273, ('Hebrews', 'Job'): 38, ('2 Samuel', 'Hebrews'): 22, ('2 Kings', 'Hebrews'): 13, ('Hebrews', 'Zechariah'): 25, ('Hebrews', 'Malachi'): 12, ('Hebrews', 'Proverbs'): 64, ('Amos', 'Hebrews'): 4, ('Exodus', 'Hebrews'): 93, ('Hebrews', 'Joshua'): 25, ('1 Kings', 'Hebrews'): 33, ('Habakkuk', 'Hebrews'): 6, ('2 Chronicles', 'Hebrews'): 21, ('Hebrews', 'Leviticus'): 67, ('Haggai', 'Hebrews'): 3, ('1 Samuel', 'Hebrews'): 31, ('Esther', 'Hebrews'): 2, ('Hebrews', 'Nehemiah'): 12, ('Hebrews', 'Judges'): 7, ('Hebrews', 'Obadiah'): 1, ('Ezra', 'Hebrews'): 3, ('Hebrews', 'Song of Solomon'): 7, ('Hebrews', 'Lamentations'): 2, ('Hebrews', 'Zephaniah'): 3, ('Hebrews', 'Nahum'): 4, ('Hebrews', 'Ruth'): 2, ('Deuteronomy', 'James'): 20, ('Ezekiel', 'James'): 15, ('Esther', 'James'): 3, ('Exodus', 'James'): 17, ('1 Kings', 'James'): 13, ('Ezra', 'James'): 1, ('James', 'Leviticus'): 13, ('James', 'Psalms'): 133, ('James', 'Proverbs'): 84, ('Habakkuk', 'James'): 6, ('James', 'Job'): 36, ('1 Chronicles', 'James'): 10, ('2 Chronicles', 'James'): 15, ('Genesis', 'James'): 33, ('Isaiah', 'James'): 83, ('2 Kings', 'James'): 8, ('Hosea', 'James'): 7, ('1 Samuel', 'James'): 11, ('Ecclesiastes', 'James'): 14, ('James', 'Nehemiah'): 6, ('James', 'Zechariah'): 8, ('James', 'Numbers'): 9, ('James', 'Malachi'): 8, ('Amos', 'James'): 5, ('James', 'Jeremiah'): 38, ('James', 'Zephaniah'): 4, ('James', 'Obadiah'): 1, ('James', 'Judges'): 4, ('James', 'Song of Solomon'): 1, ('James', 'Jonah'): 8, ('James', 'Micah'): 9, ('James', 'Joshua'): 8, ('Daniel', 'James'): 9, ('2 Samuel', 'James'): 8, ('James', 'Lamentations'): 3, ('James', 'Joel'): 5, ('1 Peter', 'Deuteronomy'): 14, ('1 Peter', 'Ezekiel'): 24, ('1 Peter', 'Leviticus'): 14, ('1 Peter', 'Psalms'): 111, ('1 Peter', 'Esther'): 4, ('1 Peter', 'Isaiah'): 90, ('1 Peter', 'Daniel'): 26, ('1 Chronicles', '1 Peter'): 4, ('1 Kings', '1 Peter'): 5, ('1 Peter', 'Exodus'): 15, ('1 Peter', 'Jonah'): 1, ('1 Peter', 'Job'): 21, ('1 Peter', 'Jeremiah'): 36, ('1 Peter', 'Proverbs'): 52, ('1 Peter', '1 Samuel'): 9, ('1 Peter', 'Malachi'): 7, ('1 Peter', 'Ecclesiastes'): 5, ('1 Peter', 'Zechariah'): 24, ('1 Peter', 'Song of Solomon'): 5, ('1 Peter', 'Genesis'): 23, ('1 Peter', 'Haggai'): 2, ('1 Peter', 'Amos'): 7, ('1 Peter', 'Joel'): 2, ('1 Peter', '2 Kings'): 5, ('1 Peter', 'Zephaniah'): 1, ('1 Peter', '2 Chronicles'): 12, ('1 Peter', 'Micah'): 6, ('1 Peter', 'Hosea'): 8, ('1 Peter', '2 Samuel'): 2, ('1 Peter', 'Numbers'): 3, ('1 Peter', 'Nehemiah'): 1, ('1 Peter', 'Judges'): 1, ('2 Peter', 'Jeremiah'): 18, ('2 Peter', 'Isaiah'): 43, ('2 Peter', 'Daniel'): 7, ('2 Peter', 'Psalms'): 50, ('2 Peter', 'Proverbs'): 20, ('2 Peter', 'Ruth'): 1, ('2 Peter', 'Zechariah'): 2, ('2 Peter', 'Genesis'): 12, ('2 Peter', 'Micah'): 9, ('2 Peter', 'Song of Solomon'): 2, ('2 Peter', 'Haggai'): 1, ('2 Peter', 'Deuteronomy'): 9, ('2 Peter', 'Joshua'): 3, ('2 Peter', 'Malachi'): 7, ('2 Peter', 'Exodus'): 13, ('2 Kings', '2 Peter'): 5, ('2 Chronicles', '2 Peter'): 1, ('1 Kings', '2 Peter'): 11, ('2 Peter', '2 Samuel'): 2, ('2 Peter', 'Numbers'): 7, ('1 Chronicles', '2 Peter'): 1, ('2 Peter', 'Hosea'): 7, ('2 Peter', 'Lamentations'): 1, ('2 Peter', 'Ezekiel'): 12, ('2 Peter', 'Habakkuk'): 3, ('2 Peter', 'Job'): 7, ('2 Peter', 'Amos'): 3, ('2 Peter', 'Zephaniah'): 3, ('2 Peter', 'Ecclesiastes'): 6, ('1 Samuel', '2 Peter'): 2, ('2 Peter', 'Nehemiah'): 1, ('2 Peter', 'Joel'): 4, ('2 Peter', 'Nahum'): 1, ('2 Peter', 'Ezra'): 1, ('1 John', 'Isaiah'): 28, ('1 John', 'Micah'): 5, ('1 John', 'Psalms'): 83, ('1 John', 'Proverbs'): 28, ('1 John', 'Amos'): 1, ('1 John', 'Zechariah'): 6, ('1 John', 'Ecclesiastes'): 3, ('1 John', '1 Kings'): 3, ('1 John', 'Job'): 16, ('1 John', '2 Chronicles'): 2, ('1 John', 'Lamentations'): 1, ('1 John', 'Jeremiah'): 17, ('1 John', 'Nehemiah'): 1, ('1 John', 'Ezekiel'): 8, ('1 John', 'Deuteronomy'): 9, ('1 John', 'Leviticus'): 4, ('1 John', 'Malachi'): 4, ('1 John', 'Hosea'): 4, ('1 John', 'Joel'): 1, ('1 John', 'Genesis'): 8, ('1 John', 'Daniel'): 5, ('1 John', 'Numbers'): 7, ('1 John', 'Joshua'): 1, ('1 John', '2 Samuel'): 1, ('1 John', '1 Samuel'): 2, ('1 Chronicles', '1 John'): 1, ('1 John', 'Exodus'): 4, ('2 John', 'Zechariah'): 1, ('2 John', 'Hosea'): 1, ('2 John', 'Malachi'): 1, ('2 John', 'Daniel'): 1, ('2 John', 'Psalms'): 2, ('2 John', 'Genesis'): 1, ('2 John', 'Numbers'): 1, ('3 John', 'Psalms'): 3, ('2 Kings', '3 John'): 1, ('1 Kings', '3 John'): 2, ('3 John', 'Proverbs'): 4, ('3 John', 'Isaiah'): 3, ('3 John', 'Genesis'): 2, ('3 John', 'Jonah'): 1, ('3 John', 'Exodus'): 1, ('3 John', 'Daniel'): 1, ('Jeremiah', 'Jude'): 4, ('Deuteronomy', 'Jude'): 7, ('Isaiah', 'Jude'): 13, ('Jude', 'Nehemiah'): 1, ('Jude', 'Psalms'): 20, ('2 Samuel', 'Jude'): 1, ('Hosea', 'Jude'): 4, ('Genesis', 'Jude'): 5, ('Jude', 'Lamentations'): 2, ('Amos', 'Jude'): 2, ('Exodus', 'Jude'): 3, ('Jude', 'Proverbs'): 5, ('Jude', 'Numbers'): 4, ('Ecclesiastes', 'Jude'): 3, ('1 Chronicles', 'Jude'): 2, ('Jude', 'Zechariah'): 4, ('Daniel', 'Jude'): 6, ('Jude', 'Micah'): 1, ('Ezekiel', 'Jude'): 8, ('2 Chronicles', 'Jude'): 1, ('1 Samuel', 'Jude'): 1, ('Job', 'Jude'): 3, ('Jude', 'Leviticus'): 3, ('Jude', 'Malachi'): 1, ('Amos', 'Revelation'): 20, ('Psalms', 'Revelation'): 328, ('Daniel', 'Revelation'): 166, ('Proverbs', 'Revelation'): 47, ('Isaiah', 'Revelation'): 375, ('Micah', 'Revelation'): 17, ('Revelation', 'Zechariah'): 60, ('Exodus', 'Revelation'): 67, ('Deuteronomy', 'Revelation'): 53, ('Numbers', 'Revelation'): 28, ('Job', 'Revelation'): 45, ('Judges', 'Revelation'): 14, ('Nahum', 'Revelation'): 9, ('Genesis', 'Revelation'): 56, ('Jeremiah', 'Revelation'): 162, ('Habakkuk', 'Revelation'): 18, ('Leviticus', 'Revelation'): 13, ('Ezekiel', 'Revelation'): 150, ('Malachi', 'Revelation'): 22, ('Hosea', 'Revelation'): 28, ('2 Chronicles', 'Revelation'): 22, ('Joshua', 'Revelation'): 11, ('1 Kings', 'Revelation'): 35, ('2 Kings', 'Revelation'): 22, ('Revelation', 'Zephaniah'): 13, ('1 Chronicles', 'Revelation'): 12, ('1 Samuel', 'Revelation'): 23, ('Esther', 'Revelation'): 3, ('Ecclesiastes', 'Revelation'): 8, ('2 Samuel', 'Revelation'): 8, ('Joel', 'Revelation'): 25, ('Obadiah', 'Revelation'): 2, ('Nehemiah', 'Revelation'): 14, ('Lamentations', 'Revelation'): 16, ('Jonah', 'Revelation'): 9, ('Revelation', 'Song of Solomon'): 13, ('Revelation', 'Ruth'): 1, ('Ezra', 'Revelation'): 9}\n"
     ]
    }
   ],
   "source": [
    "print(dict_cr_unidirectional_nt)"
   ]
  },
  {
   "cell_type": "code",
   "execution_count": 692,
   "metadata": {},
   "outputs": [],
   "source": [
    "dict_cr_unidirectional_nt_ord = {}\n",
    "\n",
    "for (book1, book2), count in dict_cr_unidirectional_nt.items():\n",
    "    if book1 in old_testament and book2 in new_testament:\n",
    "        new_key = (book2, book1)\n",
    "    else:\n",
    "        new_key = (book1, book2)\n",
    "\n",
    "    dict_cr_unidirectional_nt_ord[new_key] = count"
   ]
  },
  {
   "cell_type": "code",
   "execution_count": 693,
   "metadata": {},
   "outputs": [
    {
     "name": "stdout",
     "output_type": "stream",
     "text": [
      "{('Matthew', 'Genesis'): 140, ('Matthew', 'Isaiah'): 392, ('Matthew', 'Psalms'): 447, ('Matthew', 'Jeremiah'): 169, ('Matthew', 'Amos'): 15, ('Matthew', 'Zechariah'): 73, ('Matthew', '1 Chronicles'): 27, ('Matthew', 'Numbers'): 47, ('Matthew', 'Ruth'): 12, ('Matthew', '1 Samuel'): 71, ('Matthew', '2 Samuel'): 43, ('Matthew', '1 Kings'): 99, ('Matthew', '2 Chronicles'): 44, ('Matthew', '2 Kings'): 52, ('Matthew', 'Daniel'): 84, ('Matthew', 'Ezra'): 20, ('Matthew', 'Haggai'): 8, ('Matthew', 'Nehemiah'): 26, ('Matthew', 'Job'): 85, ('Matthew', 'Leviticus'): 55, ('Matthew', 'Proverbs'): 163, ('Matthew', 'Joel'): 10, ('Matthew', 'Judges'): 29, ('Matthew', 'Exodus'): 82, ('Matthew', 'Micah'): 27, ('Matthew', 'Malachi'): 47, ('Matthew', 'Joshua'): 24, ('Matthew', 'Lamentations'): 20, ('Matthew', 'Deuteronomy'): 86, ('Matthew', 'Hosea'): 42, ('Matthew', 'Ezekiel'): 95, ('Matthew', 'Esther'): 12, ('Matthew', 'Zephaniah'): 10, ('Matthew', 'Song of Solomon'): 16, ('Matthew', 'Obadiah'): 5, ('Matthew', 'Nahum'): 2, ('Matthew', 'Ecclesiastes'): 29, ('Matthew', 'Habakkuk'): 8, ('Matthew', 'Jonah'): 10, ('Mark', 'Psalms'): 181, ('Mark', 'Malachi'): 19, ('Mark', 'Joshua'): 7, ('Mark', 'Proverbs'): 55, ('Mark', 'Zechariah'): 31, ('Mark', 'Leviticus'): 13, ('Mark', '2 Kings'): 24, ('Mark', 'Isaiah'): 166, ('Mark', 'Joel'): 7, ('Mark', 'Exodus'): 30, ('Mark', 'Deuteronomy'): 46, ('Mark', 'Daniel'): 43, ('Mark', 'Ezekiel'): 34, ('Mark', '1 Kings'): 41, ('Mark', 'Jeremiah'): 63, ('Mark', 'Micah'): 10, ('Mark', '2 Chronicles'): 22, ('Mark', 'Genesis'): 72, ('Mark', '2 Samuel'): 16, ('Mark', 'Job'): 35, ('Mark', '1 Chronicles'): 5, ('Mark', 'Song of Solomon'): 7, ('Mark', '1 Samuel'): 21, ('Mark', 'Hosea'): 23, ('Mark', 'Judges'): 5, ('Mark', 'Nehemiah'): 8, ('Mark', 'Numbers'): 17, ('Mark', 'Ecclesiastes'): 16, ('Mark', 'Amos'): 2, ('Mark', 'Jonah'): 4, ('Mark', 'Lamentations'): 16, ('Mark', 'Nahum'): 1, ('Mark', 'Esther'): 6, ('Mark', 'Zephaniah'): 3, ('Mark', 'Habakkuk'): 2, ('Mark', 'Ruth'): 2, ('Mark', 'Ezra'): 1, ('Mark', 'Haggai'): 1, ('Luke', 'Psalms'): 501, ('Luke', 'Ecclesiastes'): 38, ('Luke', 'Nehemiah'): 19, ('Luke', '1 Chronicles'): 29, ('Luke', 'Job'): 94, ('Luke', '1 Kings'): 57, ('Luke', 'Genesis'): 183, ('Luke', '2 Kings'): 55, ('Luke', '1 Samuel'): 78, ('Luke', 'Exodus'): 76, ('Luke', '2 Chronicles'): 38, ('Luke', 'Ezra'): 6, ('Luke', 'Numbers'): 44, ('Luke', 'Leviticus'): 29, ('Luke', 'Judges'): 25, ('Luke', 'Daniel'): 75, ('Luke', 'Isaiah'): 420, ('Luke', 'Hosea'): 49, ('Luke', 'Proverbs'): 171, ('Luke', 'Joshua'): 21, ('Luke', 'Zechariah'): 76, ('Luke', 'Jeremiah'): 172, ('Luke', 'Malachi'): 40, ('Luke', 'Amos'): 16, ('Luke', 'Ezekiel'): 110, ('Luke', '2 Samuel'): 40, ('Luke', 'Micah'): 38, ('Luke', 'Obadiah'): 3, ('Luke', 'Ruth'): 9, ('Luke', 'Habakkuk'): 11, ('Luke', 'Deuteronomy'): 74, ('Luke', 'Joel'): 7, ('Luke', 'Zephaniah'): 13, ('Luke', 'Jonah'): 10, ('Luke', 'Esther'): 14, ('Luke', 'Song of Solomon'): 21, ('Luke', 'Haggai'): 5, ('Luke', 'Nahum'): 7, ('Luke', 'Lamentations'): 22, ('John', 'Isaiah'): 351, ('John', 'Genesis'): 111, ('John', 'Psalms'): 372, ('John', 'Malachi'): 24, ('John', 'Proverbs'): 111, ('John', 'Jeremiah'): 102, ('John', 'Hosea'): 37, ('John', 'Micah'): 23, ('John', 'Zechariah'): 50, ('John', 'Deuteronomy'): 63, ('John', 'Exodus'): 49, ('John', 'Lamentations'): 14, ('John', 'Numbers'): 26, ('John', '2 Samuel'): 16, ('John', 'Judges'): 12, ('John', 'Leviticus'): 23, ('John', '1 Kings'): 40, ('John', 'Ruth'): 3, ('John', '2 Kings'): 19, ('John', 'Daniel'): 34, ('John', 'Zephaniah'): 10, ('John', 'Ezekiel'): 53, ('John', 'Joshua'): 13, ('John', 'Ecclesiastes'): 27, ('John', 'Song of Solomon'): 28, ('John', '1 Chronicles'): 13, ('John', '1 Samuel'): 39, ('John', 'Job'): 42, ('John', 'Amos'): 10, ('John', 'Habakkuk'): 3, ('John', '2 Chronicles'): 21, ('John', 'Ezra'): 5, ('John', 'Nehemiah'): 16, ('John', 'Jonah'): 1, ('John', 'Joel'): 2, ('John', 'Esther'): 2, ('John', 'Haggai'): 1, ('Acts', 'Isaiah'): 362, ('Acts', 'Deuteronomy'): 93, ('Acts', '1 Kings'): 72, ('Acts', 'Joel'): 15, ('Acts', 'Daniel'): 106, ('Acts', 'Zechariah'): 64, ('Acts', 'Genesis'): 176, ('Acts', 'Jeremiah'): 164, ('Acts', 'Amos'): 26, ('Acts', 'Micah'): 43, ('Acts', 'Hosea'): 45, ('Acts', 'Psalms'): 368, ('Acts', 'Exodus'): 120, ('Acts', '2 Samuel'): 44, ('Acts', 'Numbers'): 51, ('Acts', '1 Chronicles'): 39, ('Acts', 'Proverbs'): 123, ('Acts', '1 Samuel'): 88, ('Acts', 'Jonah'): 19, ('Acts', 'Joshua'): 43, ('Acts', 'Leviticus'): 29, ('Acts', '2 Chronicles'): 55, ('Acts', 'Zephaniah'): 8, ('Acts', 'Malachi'): 22, ('Acts', 'Song of Solomon'): 10, ('Acts', 'Ezekiel'): 83, ('Acts', 'Ezra'): 30, ('Acts', '2 Kings'): 45, ('Acts', 'Judges'): 21, ('Acts', 'Esther'): 16, ('Acts', 'Job'): 71, ('Acts', 'Nehemiah'): 35, ('Acts', 'Ecclesiastes'): 27, ('Acts', 'Lamentations'): 18, ('Acts', 'Habakkuk'): 12, ('Acts', 'Ruth'): 1, ('Acts', 'Haggai'): 2, ('Acts', 'Obadiah'): 1, ('Romans', 'Deuteronomy'): 72, ('Romans', 'Jeremiah'): 107, ('Romans', 'Isaiah'): 233, ('Romans', '1 Chronicles'): 7, ('Romans', 'Amos'): 9, ('Romans', 'Genesis'): 98, ('Romans', 'Psalms'): 323, ('Romans', 'Malachi'): 11, ('Romans', 'Song of Solomon'): 3, ('Romans', 'Job'): 58, ('Romans', '1 Samuel'): 22, ('Romans', '2 Samuel'): 13, ('Romans', '2 Chronicles'): 16, ('Romans', 'Proverbs'): 108, ('Romans', '1 Kings'): 18, ('Romans', 'Habakkuk'): 5, ('Romans', 'Hosea'): 23, ('Romans', '2 Kings'): 11, ('Romans', 'Ecclesiastes'): 27, ('Romans', 'Ezekiel'): 64, ('Romans', 'Leviticus'): 17, ('Romans', 'Judges'): 3, ('Romans', 'Numbers'): 20, ('Romans', 'Zephaniah'): 11, ('Romans', 'Daniel'): 35, ('Romans', 'Exodus'): 43, ('Romans', 'Jonah'): 6, ('Romans', 'Joshua'): 11, ('Romans', 'Nahum'): 4, ('Romans', 'Micah'): 18, ('Romans', 'Zechariah'): 19, ('Romans', 'Lamentations'): 9, ('Romans', 'Haggai'): 1, ('Romans', 'Ezra'): 8, ('Romans', 'Ruth'): 2, ('Romans', 'Obadiah'): 1, ('Romans', 'Nehemiah'): 10, ('Romans', 'Joel'): 3, ('Romans', 'Esther'): 2, ('1 Corinthians', 'Genesis'): 62, ('1 Corinthians', 'Psalms'): 145, ('1 Corinthians', 'Isaiah'): 113, ('1 Corinthians', 'Numbers'): 31, ('1 Corinthians', 'Deuteronomy'): 54, ('1 Corinthians', 'Jeremiah'): 52, ('1 Corinthians', 'Proverbs'): 79, ('1 Corinthians', 'Job'): 35, ('1 Corinthians', '2 Samuel'): 17, ('1 Corinthians', 'Daniel'): 28, ('1 Corinthians', 'Exodus'): 44, ('1 Corinthians', 'Zephaniah'): 5, ('1 Corinthians', 'Hosea'): 14, ('1 Corinthians', '1 Chronicles'): 15, ('1 Corinthians', 'Judges'): 5, ('1 Corinthians', 'Ezekiel'): 27, ('1 Corinthians', 'Amos'): 8, ('1 Corinthians', 'Ecclesiastes'): 25, ('1 Corinthians', 'Zechariah'): 13, ('1 Corinthians', '2 Chronicles'): 5, ('1 Corinthians', 'Malachi'): 7, ('1 Corinthians', 'Leviticus'): 16, ('1 Corinthians', 'Esther'): 1, ('1 Corinthians', '1 Samuel'): 13, ('1 Corinthians', '2 Kings'): 8, ('1 Corinthians', 'Lamentations'): 3, ('1 Corinthians', 'Joshua'): 6, ('1 Corinthians', 'Micah'): 2, ('1 Corinthians', '1 Kings'): 4, ('1 Corinthians', 'Ruth'): 2, ('1 Corinthians', 'Joel'): 4, ('1 Corinthians', 'Nahum'): 1, ('1 Corinthians', 'Jonah'): 6, ('1 Corinthians', 'Song of Solomon'): 7, ('1 Corinthians', 'Nehemiah'): 9, ('1 Corinthians', 'Haggai'): 3, ('2 Corinthians', 'Daniel'): 10, ('2 Corinthians', '1 Chronicles'): 9, ('2 Corinthians', '2 Samuel'): 8, ('2 Corinthians', 'Psalms'): 120, ('2 Corinthians', 'Micah'): 3, ('2 Corinthians', 'Genesis'): 27, ('2 Corinthians', 'Nehemiah'): 8, ('2 Corinthians', 'Job'): 32, ('2 Corinthians', 'Isaiah'): 99, ('2 Corinthians', '1 Samuel'): 21, ('2 Corinthians', 'Ezekiel'): 31, ('2 Corinthians', 'Proverbs'): 61, ('2 Corinthians', 'Joshua'): 8, ('2 Corinthians', 'Jeremiah'): 44, ('2 Corinthians', 'Zephaniah'): 3, ('2 Corinthians', 'Judges'): 5, ('2 Corinthians', 'Exodus'): 37, ('2 Corinthians', 'Deuteronomy'): 24, ('2 Corinthians', 'Song of Solomon'): 4, ('2 Corinthians', 'Haggai'): 4, ('2 Corinthians', 'Lamentations'): 5, ('2 Corinthians', '1 Kings'): 14, ('2 Corinthians', 'Ecclesiastes'): 7, ('2 Corinthians', 'Nahum'): 1, ('2 Corinthians', '2 Kings'): 11, ('2 Corinthians', 'Zechariah'): 7, ('2 Corinthians', 'Habakkuk'): 2, ('2 Corinthians', 'Leviticus'): 3, ('2 Corinthians', 'Malachi'): 4, ('2 Corinthians', '2 Chronicles'): 12, ('2 Corinthians', 'Joel'): 2, ('2 Corinthians', 'Ezra'): 9, ('2 Corinthians', 'Hosea'): 4, ('2 Corinthians', 'Numbers'): 9, ('2 Corinthians', 'Jonah'): 3, ('Galatians', 'Psalms'): 56, ('Galatians', 'Isaiah'): 46, ('Galatians', '1 Chronicles'): 3, ('Galatians', 'Jeremiah'): 23, ('Galatians', 'Nehemiah'): 3, ('Galatians', '1 Samuel'): 7, ('Galatians', 'Genesis'): 30, ('Galatians', 'Joshua'): 6, ('Galatians', 'Proverbs'): 17, ('Galatians', 'Deuteronomy'): 19, ('Galatians', 'Numbers'): 4, ('Galatians', 'Ecclesiastes'): 9, ('Galatians', 'Job'): 15, ('Galatians', 'Jonah'): 2, ('Galatians', 'Leviticus'): 9, ('Galatians', 'Ezekiel'): 12, ('Galatians', '1 Kings'): 6, ('Galatians', 'Habakkuk'): 2, ('Galatians', 'Zechariah'): 4, ('Galatians', '2 Samuel'): 7, ('Galatians', 'Daniel'): 2, ('Galatians', '2 Kings'): 3, ('Galatians', 'Esther'): 2, ('Galatians', 'Malachi'): 3, ('Galatians', 'Lamentations'): 1, ('Galatians', 'Exodus'): 5, ('Galatians', '2 Chronicles'): 3, ('Galatians', 'Amos'): 1, ('Galatians', 'Hosea'): 11, ('Galatians', 'Judges'): 1, ('Galatians', 'Joel'): 1, ('Galatians', 'Obadiah'): 1, ('Galatians', 'Zephaniah'): 1, ('Ephesians', 'Numbers'): 7, ('Ephesians', 'Daniel'): 18, ('Ephesians', 'Psalms'): 120, ('Ephesians', 'Genesis'): 37, ('Ephesians', '1 Chronicles'): 11, ('Ephesians', 'Nehemiah'): 7, ('Ephesians', 'Isaiah'): 104, ('Ephesians', 'Jeremiah'): 50, ('Ephesians', 'Hosea'): 12, ('Ephesians', 'Zechariah'): 21, ('Ephesians', 'Proverbs'): 72, ('Ephesians', 'Jonah'): 2, ('Ephesians', 'Job'): 19, ('Ephesians', 'Exodus'): 15, ('Ephesians', 'Micah'): 6, ('Ephesians', 'Malachi'): 7, ('Ephesians', 'Amos'): 4, ('Ephesians', 'Deuteronomy'): 27, ('Ephesians', 'Joel'): 1, ('Ephesians', '1 Samuel'): 14, ('Ephesians', 'Ezekiel'): 15, ('Ephesians', '2 Chronicles'): 7, ('Ephesians', 'Ezra'): 2, ('Ephesians', 'Esther'): 6, ('Ephesians', '1 Kings'): 10, ('Ephesians', 'Zephaniah'): 3, ('Ephesians', 'Song of Solomon'): 5, ('Ephesians', '2 Samuel'): 6, ('Ephesians', 'Judges'): 3, ('Ephesians', 'Obadiah'): 1, ('Ephesians', 'Leviticus'): 9, ('Ephesians', 'Ecclesiastes'): 11, ('Ephesians', 'Ruth'): 2, ('Ephesians', 'Joshua'): 4, ('Ephesians', '2 Kings'): 2, ('Ephesians', 'Lamentations'): 1, ('Ephesians', 'Haggai'): 1, ('Ephesians', 'Habakkuk'): 1, ('Philippians', 'Psalms'): 82, ('Philippians', 'Jeremiah'): 19, ('Philippians', 'Isaiah'): 58, ('Philippians', 'Job'): 13, ('Philippians', 'Proverbs'): 31, ('Philippians', 'Joshua'): 1, ('Philippians', 'Micah'): 6, ('Philippians', 'Genesis'): 18, ('Philippians', 'Esther'): 1, ('Philippians', 'Exodus'): 4, ('Philippians', '2 Samuel'): 7, ('Philippians', 'Song of Solomon'): 3, ('Philippians', 'Zechariah'): 4, ('Philippians', 'Daniel'): 7, ('Philippians', 'Deuteronomy'): 10, ('Philippians', 'Ezra'): 4, ('Philippians', '1 Kings'): 4, ('Philippians', 'Nehemiah'): 6, ('Philippians', '2 Chronicles'): 6, ('Philippians', 'Numbers'): 3, ('Philippians', '1 Samuel'): 9, ('Philippians', 'Malachi'): 6, ('Philippians', 'Habakkuk'): 1, ('Philippians', '2 Kings'): 5, ('Philippians', 'Zephaniah'): 2, ('Philippians', '1 Chronicles'): 3, ('Philippians', 'Joel'): 1, ('Philippians', 'Jonah'): 1, ('Philippians', 'Ecclesiastes'): 1, ('Philippians', 'Hosea'): 4, ('Philippians', 'Ezekiel'): 3, ('Philippians', 'Ruth'): 1, ('Colossians', 'Psalms'): 63, ('Colossians', 'Numbers'): 6, ('Colossians', '1 Samuel'): 5, ('Colossians', 'Micah'): 7, ('Colossians', 'Habakkuk'): 1, ('Colossians', 'Daniel'): 4, ('Colossians', 'Proverbs'): 24, ('Colossians', 'Isaiah'): 47, ('Colossians', 'Exodus'): 3, ('Colossians', '1 Kings'): 2, ('Colossians', '1 Chronicles'): 7, ('Colossians', 'Zechariah'): 3, ('Colossians', 'Deuteronomy'): 12, ('Colossians', 'Song of Solomon'): 3, ('Colossians', 'Leviticus'): 8, ('Colossians', 'Job'): 9, ('Colossians', 'Ezekiel'): 10, ('Colossians', 'Zephaniah'): 2, ('Colossians', 'Lamentations'): 1, ('Colossians', 'Jeremiah'): 12, ('Colossians', 'Ecclesiastes'): 9, ('Colossians', 'Genesis'): 9, ('Colossians', '2 Chronicles'): 4, ('Colossians', 'Ruth'): 2, ('Colossians', 'Esther'): 3, ('Colossians', 'Nehemiah'): 7, ('Colossians', '2 Kings'): 1, ('Colossians', 'Amos'): 2, ('Colossians', 'Hosea'): 1, ('Colossians', 'Malachi'): 4, ('Colossians', 'Jonah'): 1, ('Colossians', '2 Samuel'): 1, ('1 Thessalonians', 'Ecclesiastes'): 3, ('1 Thessalonians', 'Song of Solomon'): 3, ('1 Thessalonians', 'Genesis'): 11, ('1 Thessalonians', 'Isaiah'): 37, ('1 Thessalonians', 'Hosea'): 4, ('1 Thessalonians', 'Exodus'): 7, ('1 Thessalonians', 'Jeremiah'): 22, ('1 Thessalonians', 'Zephaniah'): 3, ('1 Thessalonians', 'Psalms'): 45, ('1 Thessalonians', '1 Samuel'): 9, ('1 Thessalonians', 'Daniel'): 4, ('1 Thessalonians', 'Deuteronomy'): 15, ('1 Thessalonians', 'Malachi'): 6, ('1 Thessalonians', 'Job'): 9, ('1 Thessalonians', 'Habakkuk'): 1, ('1 Thessalonians', 'Numbers'): 8, ('1 Thessalonians', '1 Kings'): 10, ('1 Thessalonians', 'Proverbs'): 39, ('1 Thessalonians', '1 Chronicles'): 3, ('1 Thessalonians', 'Micah'): 3, ('1 Thessalonians', 'Esther'): 3, ('1 Thessalonians', 'Nehemiah'): 5, ('1 Thessalonians', 'Amos'): 1, ('1 Thessalonians', '2 Kings'): 4, ('1 Thessalonians', '2 Samuel'): 3, ('1 Thessalonians', 'Zechariah'): 6, ('1 Thessalonians', 'Ezekiel'): 5, ('1 Thessalonians', 'Leviticus'): 11, ('1 Thessalonians', 'Lamentations'): 3, ('1 Thessalonians', 'Joel'): 1, ('1 Thessalonians', 'Nahum'): 1, ('1 Thessalonians', 'Jonah'): 1, ('1 Thessalonians', '2 Chronicles'): 1, ('2 Thessalonians', 'Proverbs'): 14, ('2 Thessalonians', 'Psalms'): 39, ('2 Thessalonians', 'Job'): 5, ('2 Thessalonians', 'Jeremiah'): 9, ('2 Thessalonians', 'Daniel'): 15, ('2 Thessalonians', 'Exodus'): 5, ('2 Thessalonians', 'Zechariah'): 3, ('2 Thessalonians', 'Isaiah'): 39, ('2 Thessalonians', 'Deuteronomy'): 11, ('2 Thessalonians', '1 Samuel'): 4, ('2 Thessalonians', 'Zephaniah'): 3, ('2 Thessalonians', 'Genesis'): 8, ('2 Thessalonians', 'Malachi'): 2, ('2 Thessalonians', 'Numbers'): 3, ('2 Thessalonians', 'Hosea'): 3, ('2 Thessalonians', 'Micah'): 2, ('2 Thessalonians', 'Ezekiel'): 6, ('2 Thessalonians', '2 Samuel'): 1, ('2 Thessalonians', '1 Chronicles'): 2, ('2 Thessalonians', '1 Kings'): 1, ('2 Thessalonians', 'Lamentations'): 1, ('2 Thessalonians', 'Ecclesiastes'): 1, ('2 Thessalonians', 'Ezra'): 1, ('2 Thessalonians', 'Judges'): 1, ('2 Thessalonians', 'Haggai'): 1, ('2 Thessalonians', 'Ruth'): 1, ('2 Thessalonians', 'Joshua'): 1, ('1 Timothy', 'Isaiah'): 61, ('1 Timothy', 'Hosea'): 7, ('1 Timothy', 'Psalms'): 85, ('1 Timothy', 'Jeremiah'): 33, ('1 Timothy', 'Nehemiah'): 6, ('1 Timothy', 'Exodus'): 10, ('1 Timothy', 'Proverbs'): 50, ('1 Timothy', 'Deuteronomy'): 41, ('1 Timothy', '2 Kings'): 11, ('1 Timothy', 'Ezekiel'): 18, ('1 Timothy', '2 Samuel'): 4, ('1 Timothy', 'Leviticus'): 12, ('1 Timothy', '2 Chronicles'): 8, ('1 Timothy', 'Zechariah'): 5, ('1 Timothy', 'Genesis'): 34, ('1 Timothy', 'Malachi'): 6, ('1 Timothy', 'Numbers'): 5, ('1 Timothy', 'Job'): 9, ('1 Timothy', 'Daniel'): 11, ('1 Timothy', '1 Chronicles'): 5, ('1 Timothy', 'Micah'): 7, ('1 Timothy', 'Ezra'): 2, ('1 Timothy', 'Habakkuk'): 2, ('1 Timothy', 'Ecclesiastes'): 7, ('1 Timothy', '1 Kings'): 10, ('1 Timothy', 'Esther'): 2, ('1 Timothy', '1 Samuel'): 12, ('1 Timothy', 'Joshua'): 6, ('1 Timothy', 'Nahum'): 1, ('1 Timothy', 'Ruth'): 3, ('1 Timothy', 'Judges'): 1, ('1 Timothy', 'Lamentations'): 2, ('1 Timothy', 'Joel'): 1, ('1 Timothy', 'Song of Solomon'): 2, ('2 Timothy', 'Jeremiah'): 22, ('2 Timothy', 'Isaiah'): 38, ('2 Timothy', 'Psalms'): 61, ('2 Timothy', 'Exodus'): 10, ('2 Timothy', 'Proverbs'): 27, ('2 Timothy', 'Micah'): 4, ('2 Timothy', 'Zechariah'): 4, ('2 Timothy', 'Hosea'): 4, ('2 Timothy', 'Nahum'): 3, ('2 Timothy', 'Nehemiah'): 7, ('2 Timothy', '1 Kings'): 5, ('2 Timothy', 'Haggai'): 2, ('2 Timothy', 'Joshua'): 4, ('2 Timothy', '1 Samuel'): 6, ('2 Timothy', 'Ezra'): 5, ('2 Timothy', 'Numbers'): 4, ('2 Timothy', 'Malachi'): 3, ('2 Timothy', 'Daniel'): 15, ('2 Timothy', 'Deuteronomy'): 6, ('2 Timothy', '1 Chronicles'): 3, ('2 Timothy', 'Habakkuk'): 1, ('2 Timothy', 'Job'): 4, ('2 Timothy', 'Lamentations'): 1, ('2 Timothy', '2 Chronicles'): 2, ('2 Timothy', 'Ezekiel'): 7, ('2 Timothy', 'Genesis'): 7, ('2 Timothy', '2 Samuel'): 4, ('2 Timothy', 'Ecclesiastes'): 1, ('2 Timothy', 'Jonah'): 1, ('Titus', '1 Chronicles'): 2, ('Titus', 'Numbers'): 3, ('Titus', '1 Samuel'): 8, ('Titus', 'Isaiah'): 23, ('Titus', 'Habakkuk'): 1, ('Titus', 'Daniel'): 2, ('Titus', 'Ecclesiastes'): 5, ('Titus', 'Proverbs'): 17, ('Titus', 'Malachi'): 2, ('Titus', 'Genesis'): 5, ('Titus', 'Leviticus'): 5, ('Titus', 'Ezekiel'): 9, ('Titus', '1 Kings'): 2, ('Titus', 'Psalms'): 24, ('Titus', 'Amos'): 1, ('Titus', 'Job'): 10, ('Titus', 'Micah'): 3, ('Titus', 'Jeremiah'): 3, ('Titus', 'Haggai'): 1, ('Titus', '2 Samuel'): 2, ('Titus', 'Joel'): 2, ('Titus', 'Nehemiah'): 1, ('Titus', 'Zechariah'): 2, ('Titus', 'Deuteronomy'): 4, ('Titus', 'Exodus'): 1, ('Titus', 'Obadiah'): 1, ('Philemon', 'Psalms'): 5, ('Philemon', 'Isaiah'): 2, ('Philemon', 'Proverbs'): 1, ('Philemon', '2 Samuel'): 2, ('Philemon', 'Deuteronomy'): 1, ('Philemon', 'Jeremiah'): 1, ('Philemon', '1 Chronicles'): 1, ('Philemon', 'Genesis'): 1, ('Hebrews', 'Genesis'): 107, ('Hebrews', 'Joel'): 4, ('Hebrews', 'Daniel'): 45, ('Hebrews', 'Jeremiah'): 87, ('Hebrews', 'Deuteronomy'): 77, ('Hebrews', 'Isaiah'): 204, ('Hebrews', 'Numbers'): 75, ('Hebrews', 'Micah'): 15, ('Hebrews', 'Hosea'): 17, ('Hebrews', 'Ezekiel'): 46, ('Hebrews', 'Ecclesiastes'): 13, ('Hebrews', '1 Chronicles'): 21, ('Hebrews', 'Psalms'): 273, ('Hebrews', 'Job'): 38, ('Hebrews', '2 Samuel'): 22, ('Hebrews', '2 Kings'): 13, ('Hebrews', 'Zechariah'): 25, ('Hebrews', 'Malachi'): 12, ('Hebrews', 'Proverbs'): 64, ('Hebrews', 'Amos'): 4, ('Hebrews', 'Exodus'): 93, ('Hebrews', 'Joshua'): 25, ('Hebrews', '1 Kings'): 33, ('Hebrews', 'Habakkuk'): 6, ('Hebrews', '2 Chronicles'): 21, ('Hebrews', 'Leviticus'): 67, ('Hebrews', 'Haggai'): 3, ('Hebrews', '1 Samuel'): 31, ('Hebrews', 'Esther'): 2, ('Hebrews', 'Nehemiah'): 12, ('Hebrews', 'Judges'): 7, ('Hebrews', 'Obadiah'): 1, ('Hebrews', 'Ezra'): 3, ('Hebrews', 'Song of Solomon'): 7, ('Hebrews', 'Lamentations'): 2, ('Hebrews', 'Zephaniah'): 3, ('Hebrews', 'Nahum'): 4, ('Hebrews', 'Ruth'): 2, ('James', 'Deuteronomy'): 20, ('James', 'Ezekiel'): 15, ('James', 'Esther'): 3, ('James', 'Exodus'): 17, ('James', '1 Kings'): 13, ('James', 'Ezra'): 1, ('James', 'Leviticus'): 13, ('James', 'Psalms'): 133, ('James', 'Proverbs'): 84, ('James', 'Habakkuk'): 6, ('James', 'Job'): 36, ('James', '1 Chronicles'): 10, ('James', '2 Chronicles'): 15, ('James', 'Genesis'): 33, ('James', 'Isaiah'): 83, ('James', '2 Kings'): 8, ('James', 'Hosea'): 7, ('James', '1 Samuel'): 11, ('James', 'Ecclesiastes'): 14, ('James', 'Nehemiah'): 6, ('James', 'Zechariah'): 8, ('James', 'Numbers'): 9, ('James', 'Malachi'): 8, ('James', 'Amos'): 5, ('James', 'Jeremiah'): 38, ('James', 'Zephaniah'): 4, ('James', 'Obadiah'): 1, ('James', 'Judges'): 4, ('James', 'Song of Solomon'): 1, ('James', 'Jonah'): 8, ('James', 'Micah'): 9, ('James', 'Joshua'): 8, ('James', 'Daniel'): 9, ('James', '2 Samuel'): 8, ('James', 'Lamentations'): 3, ('James', 'Joel'): 5, ('1 Peter', 'Deuteronomy'): 14, ('1 Peter', 'Ezekiel'): 24, ('1 Peter', 'Leviticus'): 14, ('1 Peter', 'Psalms'): 111, ('1 Peter', 'Esther'): 4, ('1 Peter', 'Isaiah'): 90, ('1 Peter', 'Daniel'): 26, ('1 Peter', '1 Chronicles'): 4, ('1 Peter', '1 Kings'): 5, ('1 Peter', 'Exodus'): 15, ('1 Peter', 'Jonah'): 1, ('1 Peter', 'Job'): 21, ('1 Peter', 'Jeremiah'): 36, ('1 Peter', 'Proverbs'): 52, ('1 Peter', '1 Samuel'): 9, ('1 Peter', 'Malachi'): 7, ('1 Peter', 'Ecclesiastes'): 5, ('1 Peter', 'Zechariah'): 24, ('1 Peter', 'Song of Solomon'): 5, ('1 Peter', 'Genesis'): 23, ('1 Peter', 'Haggai'): 2, ('1 Peter', 'Amos'): 7, ('1 Peter', 'Joel'): 2, ('1 Peter', '2 Kings'): 5, ('1 Peter', 'Zephaniah'): 1, ('1 Peter', '2 Chronicles'): 12, ('1 Peter', 'Micah'): 6, ('1 Peter', 'Hosea'): 8, ('1 Peter', '2 Samuel'): 2, ('1 Peter', 'Numbers'): 3, ('1 Peter', 'Nehemiah'): 1, ('1 Peter', 'Judges'): 1, ('2 Peter', 'Jeremiah'): 18, ('2 Peter', 'Isaiah'): 43, ('2 Peter', 'Daniel'): 7, ('2 Peter', 'Psalms'): 50, ('2 Peter', 'Proverbs'): 20, ('2 Peter', 'Ruth'): 1, ('2 Peter', 'Zechariah'): 2, ('2 Peter', 'Genesis'): 12, ('2 Peter', 'Micah'): 9, ('2 Peter', 'Song of Solomon'): 2, ('2 Peter', 'Haggai'): 1, ('2 Peter', 'Deuteronomy'): 9, ('2 Peter', 'Joshua'): 3, ('2 Peter', 'Malachi'): 7, ('2 Peter', 'Exodus'): 13, ('2 Peter', '2 Kings'): 5, ('2 Peter', '2 Chronicles'): 1, ('2 Peter', '1 Kings'): 11, ('2 Peter', '2 Samuel'): 2, ('2 Peter', 'Numbers'): 7, ('2 Peter', '1 Chronicles'): 1, ('2 Peter', 'Hosea'): 7, ('2 Peter', 'Lamentations'): 1, ('2 Peter', 'Ezekiel'): 12, ('2 Peter', 'Habakkuk'): 3, ('2 Peter', 'Job'): 7, ('2 Peter', 'Amos'): 3, ('2 Peter', 'Zephaniah'): 3, ('2 Peter', 'Ecclesiastes'): 6, ('2 Peter', '1 Samuel'): 2, ('2 Peter', 'Nehemiah'): 1, ('2 Peter', 'Joel'): 4, ('2 Peter', 'Nahum'): 1, ('2 Peter', 'Ezra'): 1, ('1 John', 'Isaiah'): 28, ('1 John', 'Micah'): 5, ('1 John', 'Psalms'): 83, ('1 John', 'Proverbs'): 28, ('1 John', 'Amos'): 1, ('1 John', 'Zechariah'): 6, ('1 John', 'Ecclesiastes'): 3, ('1 John', '1 Kings'): 3, ('1 John', 'Job'): 16, ('1 John', '2 Chronicles'): 2, ('1 John', 'Lamentations'): 1, ('1 John', 'Jeremiah'): 17, ('1 John', 'Nehemiah'): 1, ('1 John', 'Ezekiel'): 8, ('1 John', 'Deuteronomy'): 9, ('1 John', 'Leviticus'): 4, ('1 John', 'Malachi'): 4, ('1 John', 'Hosea'): 4, ('1 John', 'Joel'): 1, ('1 John', 'Genesis'): 8, ('1 John', 'Daniel'): 5, ('1 John', 'Numbers'): 7, ('1 John', 'Joshua'): 1, ('1 John', '2 Samuel'): 1, ('1 John', '1 Samuel'): 2, ('1 John', '1 Chronicles'): 1, ('1 John', 'Exodus'): 4, ('2 John', 'Zechariah'): 1, ('2 John', 'Hosea'): 1, ('2 John', 'Malachi'): 1, ('2 John', 'Daniel'): 1, ('2 John', 'Psalms'): 2, ('2 John', 'Genesis'): 1, ('2 John', 'Numbers'): 1, ('3 John', 'Psalms'): 3, ('3 John', '2 Kings'): 1, ('3 John', '1 Kings'): 2, ('3 John', 'Proverbs'): 4, ('3 John', 'Isaiah'): 3, ('3 John', 'Genesis'): 2, ('3 John', 'Jonah'): 1, ('3 John', 'Exodus'): 1, ('3 John', 'Daniel'): 1, ('Jude', 'Jeremiah'): 4, ('Jude', 'Deuteronomy'): 7, ('Jude', 'Isaiah'): 13, ('Jude', 'Nehemiah'): 1, ('Jude', 'Psalms'): 20, ('Jude', '2 Samuel'): 1, ('Jude', 'Hosea'): 4, ('Jude', 'Genesis'): 5, ('Jude', 'Lamentations'): 2, ('Jude', 'Amos'): 2, ('Jude', 'Exodus'): 3, ('Jude', 'Proverbs'): 5, ('Jude', 'Numbers'): 4, ('Jude', 'Ecclesiastes'): 3, ('Jude', '1 Chronicles'): 2, ('Jude', 'Zechariah'): 4, ('Jude', 'Daniel'): 6, ('Jude', 'Micah'): 1, ('Jude', 'Ezekiel'): 8, ('Jude', '2 Chronicles'): 1, ('Jude', '1 Samuel'): 1, ('Jude', 'Job'): 3, ('Jude', 'Leviticus'): 3, ('Jude', 'Malachi'): 1, ('Revelation', 'Amos'): 20, ('Revelation', 'Psalms'): 328, ('Revelation', 'Daniel'): 166, ('Revelation', 'Proverbs'): 47, ('Revelation', 'Isaiah'): 375, ('Revelation', 'Micah'): 17, ('Revelation', 'Zechariah'): 60, ('Revelation', 'Exodus'): 67, ('Revelation', 'Deuteronomy'): 53, ('Revelation', 'Numbers'): 28, ('Revelation', 'Job'): 45, ('Revelation', 'Judges'): 14, ('Revelation', 'Nahum'): 9, ('Revelation', 'Genesis'): 56, ('Revelation', 'Jeremiah'): 162, ('Revelation', 'Habakkuk'): 18, ('Revelation', 'Leviticus'): 13, ('Revelation', 'Ezekiel'): 150, ('Revelation', 'Malachi'): 22, ('Revelation', 'Hosea'): 28, ('Revelation', '2 Chronicles'): 22, ('Revelation', 'Joshua'): 11, ('Revelation', '1 Kings'): 35, ('Revelation', '2 Kings'): 22, ('Revelation', 'Zephaniah'): 13, ('Revelation', '1 Chronicles'): 12, ('Revelation', '1 Samuel'): 23, ('Revelation', 'Esther'): 3, ('Revelation', 'Ecclesiastes'): 8, ('Revelation', '2 Samuel'): 8, ('Revelation', 'Joel'): 25, ('Revelation', 'Obadiah'): 2, ('Revelation', 'Nehemiah'): 14, ('Revelation', 'Lamentations'): 16, ('Revelation', 'Jonah'): 9, ('Revelation', 'Song of Solomon'): 13, ('Revelation', 'Ruth'): 1, ('Revelation', 'Ezra'): 9}\n"
     ]
    }
   ],
   "source": [
    "print(dict_cr_unidirectional_nt_ord)"
   ]
  },
  {
   "cell_type": "markdown",
   "metadata": {},
   "source": [
    "### Network Graph"
   ]
  },
  {
   "cell_type": "code",
   "execution_count": 694,
   "metadata": {},
   "outputs": [],
   "source": [
    "import numpy as np\n",
    "import pandas as pd\n",
    "\n",
    "import networkx as nx\n",
    "import plotly.graph_objects as go\n",
    "from pyvis.network import Network"
   ]
  },
  {
   "cell_type": "markdown",
   "metadata": {},
   "source": [
    "#### PyVis"
   ]
  },
  {
   "cell_type": "code",
   "execution_count": 695,
   "metadata": {},
   "outputs": [],
   "source": [
    "G = nx.Graph()\n",
    "\n",
    "for book in old_testament:\n",
    "    G.add_node(book, group=\"Old Testament\")\n",
    "for book in new_testament:\n",
    "    G.add_node(book, group=\"New Testament\")"
   ]
  },
  {
   "cell_type": "code",
   "execution_count": 696,
   "metadata": {},
   "outputs": [],
   "source": [
    "edge_weights = {}\n",
    "for book, references in dict_cr.items():\n",
    "    for ref_book, weight in references.items():\n",
    "        edge = tuple(sorted((book, ref_book)))\n",
    "        edge_weights[edge] = edge_weights.get(edge, 0) + weight"
   ]
  },
  {
   "cell_type": "code",
   "execution_count": 697,
   "metadata": {},
   "outputs": [],
   "source": [
    "for edge, total_weight in edge_weights.items():\n",
    "    G.add_edge(*edge, weight=total_weight)"
   ]
  },
  {
   "cell_type": "code",
   "execution_count": 698,
   "metadata": {},
   "outputs": [],
   "source": [
    "out_ref_cr = {book: sum(references.values()) for book, references in dict_cr.items()}\n",
    "\n",
    "in_ref_cr = {book: 0 for book in books_kjv}\n",
    "\n",
    "for book, references in dict_cr.items():\n",
    "    for ref_book, count in references.items():\n",
    "        in_ref_cr[ref_book] = in_ref_cr.get(ref_book, 0) + count"
   ]
  },
  {
   "cell_type": "code",
   "execution_count": 699,
   "metadata": {},
   "outputs": [],
   "source": [
    "net = Network(height=\"1500px\", width=\"1500px\", bgcolor=\"#0f1116\", font_color=\"white\", notebook=False)\n",
    "net.from_nx(G)\n",
    "\n",
    "net.toggle_physics(True)\n",
    "net.show_buttons(filter_=['physics'])\n",
    "\n",
    "net.barnes_hut()\n",
    "# net.force_atlas_2based()"
   ]
  },
  {
   "cell_type": "code",
   "execution_count": 700,
   "metadata": {},
   "outputs": [],
   "source": [
    "for node in net.nodes:\n",
    "    book = node[\"id\"]\n",
    "    group = node.get(\"group\", \"\")\n",
    "    \n",
    "    node[\"physics\"] = True\n",
    "    \n",
    "    # node[\"borderWidth\"] = 10\n",
    "    \n",
    "    node[\"label\"] = book\n",
    "    node[\"labelHighlightBold\"] = True\n",
    "    node[\"shape\"] = \"dot\"\n",
    "    node[\"size\"] = 100\n",
    "    \n",
    "    node[\"font\"][\"size\"] = 75\n",
    "    \n",
    "    if group == \"Old Testament\":\n",
    "        node[\"color\"] = \"#e3191f\"\n",
    "    elif group == \"New Testament\":\n",
    "        node[\"color\"] = \"#1e7ad1\"\n",
    "    else:\n",
    "        node[\"color\"] = \"gray\"\n",
    "    \n",
    "    out_refs = out_ref_cr.get(book, 0)\n",
    "    in_refs = in_ref_cr.get(book, 0)\n",
    "    node[\"title\"] = (\n",
    "        f\"{book}\\n\"\n",
    "        f\"Incoming References: {in_refs}\\n\"\n",
    "        f\"Outgoing References: {out_refs}\"\n",
    "    )"
   ]
  },
  {
   "cell_type": "code",
   "execution_count": 701,
   "metadata": {},
   "outputs": [],
   "source": [
    "for edge in net.edges:\n",
    "    from_book = edge[\"from\"]\n",
    "    to_book = edge[\"to\"]\n",
    "    \n",
    "    edge[\"title\"] = f\"1st Book: {from_book}\\n2nd Book: {to_book}\\nReferences: {edge['width']}\"\n",
    "    edge[\"physics\"] = True\n",
    "    \n",
    "    width = edge.get(\"width\", 1)\n",
    "    edge[\"width\"] = min(width / 50, 2.5)\n",
    "    \n",
    "    from_book = edge.get(\"from\")\n",
    "    to_book = edge.get(\"to\")\n",
    "    \n",
    "    if from_book in old_testament and to_book in old_testament:\n",
    "        edge[\"color\"] = \"#fc896a\"\n",
    "    elif from_book in new_testament and to_book in new_testament:\n",
    "        edge[\"color\"] = \"#93c3df\"\n",
    "    else:\n",
    "        edge[\"color\"] = \"#dbb8ff\""
   ]
  },
  {
   "cell_type": "code",
   "execution_count": 702,
   "metadata": {},
   "outputs": [],
   "source": [
    "# net.save_graph(\"../models/network_cr_pv.html\")"
   ]
  },
  {
   "cell_type": "markdown",
   "metadata": {},
   "source": [
    "#### Plotly"
   ]
  },
  {
   "cell_type": "code",
   "execution_count": 703,
   "metadata": {},
   "outputs": [],
   "source": [
    "G = nx.Graph()\n",
    "\n",
    "for book in old_testament:\n",
    "    G.add_node(book, group=\"Old Testament\")\n",
    "for book in new_testament:\n",
    "    G.add_node(book, group=\"New Testament\")"
   ]
  },
  {
   "cell_type": "code",
   "execution_count": 704,
   "metadata": {},
   "outputs": [],
   "source": [
    "edge_weights = {}\n",
    "\n",
    "for book, references in dict_cr.items():\n",
    "    for ref_book, weight in references.items():\n",
    "        edge = tuple(sorted((book, ref_book)))\n",
    "        edge_weights[edge] = edge_weights.get(edge, 0) + weight"
   ]
  },
  {
   "cell_type": "code",
   "execution_count": 705,
   "metadata": {},
   "outputs": [],
   "source": [
    "for edge, total_weight in edge_weights.items():\n",
    "    G.add_edge(*edge, weight=total_weight)"
   ]
  },
  {
   "cell_type": "code",
   "execution_count": 706,
   "metadata": {},
   "outputs": [],
   "source": [
    "# pos = nx.spring_layout(G, \n",
    "#                     seed=1, \n",
    "#                     k=5, \n",
    "#                     scale=None,\n",
    "#                     iterations = 1000,\n",
    "#                     dim=2)\n",
    "\n",
    "# shift = 0.5\n",
    "# for node in G.nodes():\n",
    "#     if G.nodes[node][\"group\"] == 'Old Testament':\n",
    "#         pos[node][0] -= shift\n",
    "#         pos[node][1] -= shift\n",
    "#     else:\n",
    "#         pos[node][0] += shift\n",
    "#         pos[node][1] += shift\n",
    "        \n",
    "        \n",
    "# pos = nx.random_layout(G, seed=42)\n",
    "# pos = nx.circular_layout(G, scale=2, center=(0, 0))\n",
    "# pos = nx.kamada_kawai_layout(G, scale=2, center=(0, 0))\n",
    "pos = nx.spiral_layout(G, scale=2, center=(0, 0), resolution=0.35, \n",
    "                    # equidistant=True\n",
    "                    )"
   ]
  },
  {
   "cell_type": "code",
   "execution_count": 707,
   "metadata": {},
   "outputs": [],
   "source": [
    "out_ref_cr = {book: sum(references.values()) for book, references in dict_cr.items()}\n",
    "\n",
    "in_ref_cr = {}\n",
    "for book, references in dict_cr.items():\n",
    "    for referenced_book, count in references.items():\n",
    "        if referenced_book not in in_ref_cr:\n",
    "            in_ref_cr[referenced_book] = 0\n",
    "        in_ref_cr[referenced_book] += count"
   ]
  },
  {
   "cell_type": "code",
   "execution_count": 708,
   "metadata": {},
   "outputs": [],
   "source": [
    "node_connections = {book: out_ref + in_ref_cr[book] for book, out_ref in out_ref_cr.items()}\n",
    "\n",
    "max_connections = max(node_connections.values()) if node_connections else 1"
   ]
  },
  {
   "cell_type": "code",
   "execution_count": 709,
   "metadata": {},
   "outputs": [],
   "source": [
    "ot_nodes = [node for node in G.nodes() if G.nodes[node]['group'] == \"Old Testament\"]\n",
    "nt_nodes = [node for node in G.nodes() if G.nodes[node]['group'] == \"New Testament\"]"
   ]
  },
  {
   "cell_type": "code",
   "execution_count": 710,
   "metadata": {},
   "outputs": [],
   "source": [
    "ot_colors = [node_connections[node] for node in ot_nodes]\n",
    "nt_colors = [node_connections[node] for node in nt_nodes]"
   ]
  },
  {
   "cell_type": "code",
   "execution_count": 711,
   "metadata": {},
   "outputs": [],
   "source": [
    "ot_x = [pos[node][0] for node in ot_nodes]\n",
    "ot_y = [pos[node][1] for node in ot_nodes]\n",
    "\n",
    "ot_text = [f\"{node} (Incoming References: {in_ref_cr[node]} | Outgoing References: {out_ref_cr[node]})\" for node in ot_nodes]"
   ]
  },
  {
   "cell_type": "code",
   "execution_count": 712,
   "metadata": {},
   "outputs": [],
   "source": [
    "nt_x = [pos[node][0] for node in nt_nodes]\n",
    "nt_y = [pos[node][1] for node in nt_nodes]\n",
    "\n",
    "nt_text = [f\"{node} (Incoming References: {in_ref_cr[node]} | Outgoing References: {out_ref_cr[node]})\" for node in nt_nodes]"
   ]
  },
  {
   "cell_type": "code",
   "execution_count": 713,
   "metadata": {},
   "outputs": [],
   "source": [
    "ot_trace = go.Scatter(\n",
    "    x=ot_x, y=ot_y,\n",
    "    mode='markers+text',\n",
    "    text=ot_nodes,\n",
    "    textposition=\"top center\",\n",
    "    hoverinfo='text',\n",
    "    hovertext=ot_text,\n",
    "    marker=dict(\n",
    "        size=15,\n",
    "        color=ot_colors,\n",
    "        colorscale=\"Reds\",\n",
    "        showscale=False,\n",
    "        cmin=0,\n",
    "        cmax=20000,\n",
    "        line=dict(width=1, color=\"black\")\n",
    "    ),\n",
    "    textfont=dict(color=\"white\", size=12),\n",
    "    name=\"Old Testament\"\n",
    ")"
   ]
  },
  {
   "cell_type": "code",
   "execution_count": 714,
   "metadata": {},
   "outputs": [],
   "source": [
    "nt_trace = go.Scatter(\n",
    "    x=nt_x, y=nt_y,\n",
    "    mode='markers+text',\n",
    "    text=nt_nodes,\n",
    "    textposition=\"top center\",\n",
    "    hoverinfo='text',\n",
    "    hovertext=nt_text,\n",
    "    marker=dict(\n",
    "        size=15,\n",
    "        color=nt_colors,\n",
    "        colorscale=\"Blues\",\n",
    "        showscale=False,\n",
    "        cmin=0,\n",
    "        cmax=20000,\n",
    "        line=dict(width=1, color=\"black\")\n",
    "    ),\n",
    "    textfont=dict(color=\"white\", size=12),\n",
    "    name=\"New Testament\"\n",
    ")"
   ]
  },
  {
   "cell_type": "code",
   "execution_count": 715,
   "metadata": {},
   "outputs": [],
   "source": [
    "edge_traces = []\n",
    "for edge in G.edges():\n",
    "    x0, y0 = pos[edge[0]]\n",
    "    # x0, y0, z0 = pos[edge[0]]\n",
    "    x1, y1 = pos[edge[1]]\n",
    "    # x1, y1, z1 = pos[edge[1]]\n",
    "    weight = G.edges[edge]['weight']\n",
    "    # width = weight / 50\n",
    "    # if width > 2.5:\n",
    "    #     width = 2.5\n",
    "    width = 1\n",
    "    \n",
    "    from_book = edge[0]\n",
    "    to_book = edge[1]\n",
    "    \n",
    "    if from_book in old_testament and to_book in old_testament:\n",
    "        color = \"#fc896a\"\n",
    "    elif from_book in new_testament and to_book in new_testament:\n",
    "        color = \"#93c3df\"\n",
    "    else:\n",
    "        color = \"#dbb8ff\"\n",
    "    \n",
    "    edge_trace = go.Scatter(\n",
    "        x=[x0, x1, None],\n",
    "        # x=[x0, x1, z0],\n",
    "        y=[y0, y1, None],\n",
    "        # y=[y0, y1, z1],\n",
    "        line=dict(width=width, color=color),\n",
    "        hoverinfo='none',\n",
    "        mode='lines'\n",
    "    )\n",
    "    edge_traces.append(edge_trace)"
   ]
  },
  {
   "cell_type": "code",
   "execution_count": 716,
   "metadata": {},
   "outputs": [],
   "source": [
    "# fig = go.Figure(data=edge_traces + [ot_trace, nt_trace],\n",
    "#                 layout=go.Layout(\n",
    "#                     showlegend=False,\n",
    "#                     hovermode='closest',\n",
    "#                     margin=dict(b=0, l=0, r=0, t=0),\n",
    "#                     xaxis=dict(showgrid=False, zeroline=False, showticklabels=False),\n",
    "#                     yaxis=dict(showgrid=False, zeroline=False, showticklabels=False),\n",
    "#                     width=1000, height=1000,\n",
    "#                     paper_bgcolor='rgba(0,0,0,0)',\n",
    "#                     plot_bgcolor='rgba(0,0,0,0)'\n",
    "#                 ))"
   ]
  },
  {
   "cell_type": "code",
   "execution_count": 717,
   "metadata": {},
   "outputs": [],
   "source": [
    "# fig.show()"
   ]
  },
  {
   "cell_type": "code",
   "execution_count": 718,
   "metadata": {},
   "outputs": [],
   "source": [
    "# fig.write_json(\"../models/figure_cr_ng.json\")\n",
    "# fig.write_json(\"../models/figure_cr_ng_spiral.json\")"
   ]
  },
  {
   "cell_type": "markdown",
   "metadata": {},
   "source": [
    "### Chord Diagram"
   ]
  },
  {
   "cell_type": "code",
   "execution_count": 719,
   "metadata": {},
   "outputs": [],
   "source": [
    "import numpy as np\n",
    "import pandas as pd\n",
    "\n",
    "import plotly.graph_objects as go\n",
    "\n",
    "import seaborn as sns\n",
    "import matplotlib.colors as mcolors"
   ]
  },
  {
   "cell_type": "code",
   "execution_count": 720,
   "metadata": {},
   "outputs": [],
   "source": [
    "book_index = {book: i for i, book in enumerate(books_kjv)}"
   ]
  },
  {
   "cell_type": "code",
   "execution_count": 721,
   "metadata": {},
   "outputs": [],
   "source": [
    "colors_rgb = sns.color_palette(\"pastel\", 66)\n",
    "colors = [mcolors.to_hex(color) for color in colors_rgb]"
   ]
  },
  {
   "cell_type": "code",
   "execution_count": 722,
   "metadata": {},
   "outputs": [],
   "source": [
    "n_books = len(books_kjv)\n",
    "angles = np.linspace(0, 2 * np.pi, n_books, endpoint=False)\n",
    "positions = {book: (np.cos(angle), np.sin(angle)) for book, angle in zip(books_kjv, angles)}"
   ]
  },
  {
   "cell_type": "code",
   "execution_count": 723,
   "metadata": {},
   "outputs": [],
   "source": [
    "edges = []\n",
    "for book, refs in dict_cr.items():\n",
    "    if book not in book_index:\n",
    "        continue\n",
    "    book_pos = positions[book]\n",
    "    \n",
    "    for ref, weight in refs.items():\n",
    "        if ref not in book_index:\n",
    "            continue\n",
    "        ref_pos = positions[ref]\n",
    "        edge_color = colors[book_index[book] % len(colors)]\n",
    "        \n",
    "        curve = np.linspace(0, 1, 20)\n",
    "        bezier_x = (1 - curve)**2 * book_pos[0] + 2 * (1 - curve) * curve * 0 + curve**2 * ref_pos[0]\n",
    "        bezier_y = (1 - curve)**2 * book_pos[1] + 2 * (1 - curve) * curve * 0 + curve**2 * ref_pos[1]\n",
    "        \n",
    "        edges.append(go.Scatter(\n",
    "            x=bezier_x, y=bezier_y, mode=\"lines\",\n",
    "            line=dict(color=edge_color, width=max(weight / 100, 0.5)),\n",
    "            hoverinfo=\"none\"\n",
    "        ))"
   ]
  },
  {
   "cell_type": "code",
   "execution_count": 724,
   "metadata": {},
   "outputs": [],
   "source": [
    "incoming_refs = {book: 0 for book in books_kjv}\n",
    "outgoing_refs = {book: 0 for book in books_kjv}\n",
    "\n",
    "for book, refs in dict_cr.items():\n",
    "    if book in outgoing_refs:\n",
    "        outgoing_refs[book] += sum(refs.values())\n",
    "    for ref, count in refs.items():\n",
    "        if ref in incoming_refs:\n",
    "            incoming_refs[ref] += count"
   ]
  },
  {
   "cell_type": "code",
   "execution_count": 725,
   "metadata": {},
   "outputs": [],
   "source": [
    "nodes = go.Scatter(\n",
    "    x=[positions[book][0] for book in books_kjv],\n",
    "    y=[positions[book][1] for book in books_kjv],\n",
    "    mode=\"markers+text\",\n",
    "    text=[book for book in books_kjv],\n",
    "    textfont=dict(size=10, color=\"white\"),\n",
    "    textposition=\"top center\",\n",
    "    hovertext=[f\"{book}<br>Incoming References: {incoming_refs[book]} | Outgoing References: {outgoing_refs[book]}\" for book in books_kjv],\n",
    "    marker=dict(size=10, color=\"white\"),\n",
    "    hoverinfo=\"text\"\n",
    ")"
   ]
  },
  {
   "cell_type": "code",
   "execution_count": 726,
   "metadata": {},
   "outputs": [],
   "source": [
    "layout = go.Layout(\n",
    "    showlegend=False,\n",
    "    xaxis=dict(showgrid=False, zeroline=False, showticklabels=False),\n",
    "    yaxis=dict(showgrid=False, zeroline=False, showticklabels=False),\n",
    "    width=1250, height=1250,\n",
    "    paper_bgcolor='rgba(0,0,0,0)',\n",
    "    plot_bgcolor='rgba(0,0,0,0)'\n",
    ")"
   ]
  },
  {
   "cell_type": "code",
   "execution_count": 727,
   "metadata": {},
   "outputs": [],
   "source": [
    "# fig = go.Figure(data=edges + [nodes], layout=layout)"
   ]
  },
  {
   "cell_type": "code",
   "execution_count": 728,
   "metadata": {},
   "outputs": [],
   "source": [
    "# fig.show()"
   ]
  },
  {
   "cell_type": "code",
   "execution_count": 729,
   "metadata": {},
   "outputs": [],
   "source": [
    "# fig.write_json(\"../models/figure_cr_cd.json\")"
   ]
  },
  {
   "cell_type": "markdown",
   "metadata": {},
   "source": [
    "### Sankey Diagram"
   ]
  },
  {
   "cell_type": "code",
   "execution_count": 730,
   "metadata": {},
   "outputs": [],
   "source": [
    "import numpy as np\n",
    "import pandas as pd\n",
    "\n",
    "import plotly.graph_objects as go\n",
    "\n",
    "import seaborn as sns\n",
    "import matplotlib.colors as mcolors"
   ]
  },
  {
   "cell_type": "markdown",
   "metadata": {},
   "source": [
    "#### Left Nodes"
   ]
  },
  {
   "cell_type": "code",
   "execution_count": 731,
   "metadata": {},
   "outputs": [],
   "source": [
    "dict_count_ot = {}\n",
    "\n",
    "for (ot_book, nt_book), count in dict_cr_unidirectional_ot_ord.items():\n",
    "    if ot_book in dict_count_ot:\n",
    "        dict_count_ot[ot_book] += count\n",
    "    else:\n",
    "        dict_count_ot[ot_book] = count"
   ]
  },
  {
   "cell_type": "code",
   "execution_count": 732,
   "metadata": {},
   "outputs": [],
   "source": [
    "dict_count_ot_ordered = {book: dict_count_ot[book] for book in old_testament if book in dict_count_ot}\n",
    "dict_count_ot = dict_count_ot_ordered"
   ]
  },
  {
   "cell_type": "code",
   "execution_count": 733,
   "metadata": {},
   "outputs": [
    {
     "name": "stdout",
     "output_type": "stream",
     "text": [
      "{'Genesis': 2148, 'Exodus': 1575, 'Leviticus': 1283, 'Numbers': 1070, 'Deuteronomy': 1313, 'Joshua': 474, 'Judges': 480, 'Ruth': 131, '1 Samuel': 743, '2 Samuel': 524, '1 Kings': 798, '2 Kings': 659, '1 Chronicles': 424, '2 Chronicles': 703, 'Ezra': 173, 'Nehemiah': 369, 'Esther': 146, 'Job': 1303, 'Psalms': 4810, 'Proverbs': 1699, 'Ecclesiastes': 431, 'Song of Solomon': 390, 'Isaiah': 3147, 'Jeremiah': 1687, 'Lamentations': 120, 'Ezekiel': 1429, 'Daniel': 963, 'Hosea': 348, 'Joel': 122, 'Amos': 177, 'Obadiah': 23, 'Jonah': 85, 'Micah': 225, 'Nahum': 49, 'Habakkuk': 94, 'Zephaniah': 116, 'Haggai': 63, 'Zechariah': 578, 'Malachi': 244}\n"
     ]
    }
   ],
   "source": [
    "print(dict_count_ot)"
   ]
  },
  {
   "cell_type": "code",
   "execution_count": 734,
   "metadata": {},
   "outputs": [],
   "source": [
    "dict_count_ot_ls = [0.5]\n",
    "\n",
    "keys = list(dict_count_ot.keys())[:-1]\n",
    "\n",
    "for key in keys:\n",
    "    dict_count_ot_ls.append(dict_count_ot_ls[-1] + 100 + dict_count_ot[key]/2.5)"
   ]
  },
  {
   "cell_type": "markdown",
   "metadata": {},
   "source": [
    "#### Right Nodes"
   ]
  },
  {
   "cell_type": "code",
   "execution_count": 735,
   "metadata": {},
   "outputs": [],
   "source": [
    "dict_count_nt = {}\n",
    "\n",
    "for (ot_book, nt_book), count in dict_cr_unidirectional_ot_ord.items():\n",
    "    if nt_book in dict_count_nt:\n",
    "        dict_count_nt[nt_book] += count\n",
    "    else:\n",
    "        dict_count_nt[nt_book] = count"
   ]
  },
  {
   "cell_type": "code",
   "execution_count": 736,
   "metadata": {},
   "outputs": [],
   "source": [
    "dict_count_nt_ordered = {book: dict_count_nt[book] for book in new_testament if book in dict_count_nt}\n",
    "dict_count_nt = dict_count_nt_ordered"
   ]
  },
  {
   "cell_type": "code",
   "execution_count": 737,
   "metadata": {},
   "outputs": [
    {
     "name": "stdout",
     "output_type": "stream",
     "text": [
      "{'Matthew': 4198, 'Mark': 654, 'Luke': 2982, 'John': 2475, 'Acts': 2976, 'Romans': 2230, '1 Corinthians': 1335, '2 Corinthians': 1095, 'Galatians': 514, 'Ephesians': 1041, 'Philippians': 510, 'Colossians': 391, '1 Thessalonians': 416, '2 Thessalonians': 208, '1 Timothy': 551, '2 Timothy': 399, 'Titus': 264, 'Philemon': 18, 'Hebrews': 2238, 'James': 881, '1 Peter': 1073, '2 Peter': 420, '1 John': 503, '2 John': 27, '3 John': 20, 'Jude': 232, 'Revelation': 3465}\n"
     ]
    }
   ],
   "source": [
    "print(dict_count_nt)"
   ]
  },
  {
   "cell_type": "code",
   "execution_count": 738,
   "metadata": {},
   "outputs": [],
   "source": [
    "dict_count_nt_ls = [0.5]\n",
    "\n",
    "keys = list(dict_count_nt.keys())[:-1]\n",
    "\n",
    "for key in keys:\n",
    "    dict_count_nt_ls.append(dict_count_nt_ls[-1] + 50 + dict_count_nt[key]/2)"
   ]
  },
  {
   "cell_type": "markdown",
   "metadata": {},
   "source": [
    "#### Chart"
   ]
  },
  {
   "cell_type": "code",
   "execution_count": 739,
   "metadata": {},
   "outputs": [],
   "source": [
    "book_indices = {book: i for i, book in enumerate(old_testament + new_testament)}\n",
    "\n",
    "sources = [book_indices[ot] for ot, nt in dict_cr_unidirectional_ot_ord.keys()]\n",
    "targets = [book_indices[nt] for ot, nt in dict_cr_unidirectional_ot_ord.keys()]\n",
    "values = list(dict_cr_unidirectional_ot_ord.values())"
   ]
  },
  {
   "cell_type": "code",
   "execution_count": 740,
   "metadata": {},
   "outputs": [],
   "source": [
    "node_customdata = []\n",
    "for book in (old_testament + new_testament):\n",
    "    if book in old_testament:\n",
    "        outgoing_references = sum(values[i] for i in range(len(sources)) if sources[i] == book_indices[book])\n",
    "        outgoing_edges = sum(1 for i in range(len(sources)) if sources[i] == book_indices[book])\n",
    "        node_customdata.append(f\"Outgoing References: {outgoing_references}<br>Outgoing Edges (# of New Testament Books): {outgoing_edges}\")\n",
    "    else:\n",
    "        incoming_references = sum(values[i] for i in range(len(targets)) if targets[i] == book_indices[book])\n",
    "        incoming_edges = sum(1 for i in range(len(targets)) if targets[i] == book_indices[book])\n",
    "        node_customdata.append(f\"Incoming References: {incoming_references}<br>Incoming Edges (# of Old Testament Books): {incoming_edges}\")"
   ]
  },
  {
   "cell_type": "code",
   "execution_count": 741,
   "metadata": {},
   "outputs": [],
   "source": [
    "link_customdata = [\n",
    "    f\"Book (Source): {list(book_indices.keys())[sources[i]]}<br>Book (Target):{list(book_indices.keys())[targets[i]]}<br># of References: {values[i]}\"\n",
    "    for i in range(len(sources))\n",
    "]"
   ]
  },
  {
   "cell_type": "code",
   "execution_count": 742,
   "metadata": {},
   "outputs": [],
   "source": [
    "x_positions = [0.001 for left in old_testament] + [0.999 for right in new_testament]\n",
    "\n",
    "def min_max_normalize(lst):\n",
    "    min_val = min(lst)\n",
    "    max_val = max(lst)\n",
    "    return [(x - min_val) / (max_val - min_val) for x in lst] if max_val != min_val else [0] * len(lst)\n",
    "\n",
    "y_positions = min_max_normalize(dict_count_ot_ls) + min_max_normalize(dict_count_nt_ls)\n",
    "\n",
    "y_positions[0] = 0.001\n",
    "y_positions[39] = 0.025\n",
    "y_positions[18] += + 0.0375\n",
    "\n",
    "for y in range(len(y_positions)):\n",
    "    if y > 39:\n",
    "        # print(y_positions[y])\n",
    "        y_positions[y] -= 0.0375\n",
    "        # print(y_positions[y])\n",
    "\n",
    "y_positions[40] -= 0.02\n",
    "y_positions[42] -= 0.025"
   ]
  },
  {
   "cell_type": "code",
   "execution_count": 743,
   "metadata": {},
   "outputs": [],
   "source": [
    "colors_rgb = sns.color_palette(\"pastel\", 66)\n",
    "colors = [mcolors.to_hex(color) for color in colors_rgb]"
   ]
  },
  {
   "cell_type": "code",
   "execution_count": 744,
   "metadata": {},
   "outputs": [],
   "source": [
    "link_colors = [colors[sources[i]] for i in range(len(sources))]"
   ]
  },
  {
   "cell_type": "code",
   "execution_count": 745,
   "metadata": {},
   "outputs": [],
   "source": [
    "# fig = go.Figure(\n",
    "#     data=[go.Sankey(\n",
    "#         node=dict(\n",
    "#             pad=15,\n",
    "#             thickness=20,\n",
    "#             line=dict(color=\"black\", width=0.5),\n",
    "#             label=books_kjv,\n",
    "#             x=x_positions,\n",
    "#             y=y_positions,\n",
    "#             color=colors,\n",
    "#             customdata=node_customdata,\n",
    "#             hovertemplate='%{label}<br>%{customdata}<extra></extra>',\n",
    "#         ),\n",
    "#         link=dict(\n",
    "#             source=sources,\n",
    "#             target=targets,\n",
    "#             value=values,\n",
    "#             color=link_colors,\n",
    "#             customdata=link_customdata,\n",
    "#             hovertemplate='%{customdata}<extra></extra>',\n",
    "#         )\n",
    "#     )],\n",
    "#     layout=dict(\n",
    "#         font_size=12,\n",
    "#         paper_bgcolor='rgba(0,0,0,0)',\n",
    "#         plot_bgcolor='rgba(0,0,0,0)',\n",
    "#         margin=dict(l=100, r=100, t=50, b=50),\n",
    "#         height=2000,\n",
    "#         width=1250,\n",
    "#     )\n",
    "# )"
   ]
  },
  {
   "cell_type": "code",
   "execution_count": 746,
   "metadata": {},
   "outputs": [],
   "source": [
    "# fig.show()"
   ]
  },
  {
   "cell_type": "code",
   "execution_count": 747,
   "metadata": {},
   "outputs": [],
   "source": [
    "# fig.write_json(\"../models/figure_cr_sd.json\")"
   ]
  },
  {
   "cell_type": "markdown",
   "metadata": {},
   "source": [
    "### Heat Map"
   ]
  },
  {
   "cell_type": "code",
   "execution_count": 748,
   "metadata": {},
   "outputs": [],
   "source": [
    "import numpy as np\n",
    "import pandas as pd\n",
    "\n",
    "import plotly.graph_objects as go"
   ]
  },
  {
   "cell_type": "code",
   "execution_count": 749,
   "metadata": {},
   "outputs": [],
   "source": [
    "book_index = {book: i for i, book in enumerate(books_kjv)}\n",
    "n_books = len(books_kjv)"
   ]
  },
  {
   "cell_type": "code",
   "execution_count": 750,
   "metadata": {},
   "outputs": [],
   "source": [
    "heat_data = np.zeros((n_books, n_books))"
   ]
  },
  {
   "cell_type": "code",
   "execution_count": 751,
   "metadata": {},
   "outputs": [],
   "source": [
    "for source_book, refs in dict_cr.items():\n",
    "    if source_book not in book_index:\n",
    "        continue\n",
    "    i = book_index[source_book]\n",
    "    for target_book, count in refs.items():\n",
    "        if target_book not in book_index:\n",
    "            continue\n",
    "        j = book_index[target_book]\n",
    "        heat_data[i, j] = count\n",
    "        \n",
    "heat_data = heat_data.T                "
   ]
  },
  {
   "cell_type": "code",
   "execution_count": 752,
   "metadata": {},
   "outputs": [],
   "source": [
    "heatmap = go.Heatmap(\n",
    "    z=heat_data,\n",
    "    x=books_kjv,\n",
    "    y=books_kjv,\n",
    "    colorscale='Reds',\n",
    "    hoverongaps=False,\n",
    "    zmin=0,\n",
    "    zmax=500,\n",
    "    hovertemplate=\"Book (Source): %{x}<br>Book (Target): %{y}<br># of References: %{z}<extra></extra>\"\n",
    ")"
   ]
  },
  {
   "cell_type": "code",
   "execution_count": 753,
   "metadata": {},
   "outputs": [],
   "source": [
    "layout = go.Layout(\n",
    "    xaxis=dict(title=\"Book (Source)\", tickangle=45),\n",
    "    yaxis=dict(title=\"Book (Target)\"),\n",
    "    width=1250,\n",
    "    height=1250,\n",
    ")"
   ]
  },
  {
   "cell_type": "code",
   "execution_count": 754,
   "metadata": {},
   "outputs": [],
   "source": [
    "# fig = go.Figure(data=[heatmap], layout=layout)"
   ]
  },
  {
   "cell_type": "code",
   "execution_count": 755,
   "metadata": {},
   "outputs": [],
   "source": [
    "# fig.show()"
   ]
  },
  {
   "cell_type": "code",
   "execution_count": 756,
   "metadata": {},
   "outputs": [],
   "source": [
    "# fig.write_json(\"../models/figure_cr_hm.json\")"
   ]
  }
 ],
 "metadata": {
  "kernelspec": {
   "display_name": "ai",
   "language": "python",
   "name": "python3"
  },
  "language_info": {
   "codemirror_mode": {
    "name": "ipython",
    "version": 3
   },
   "file_extension": ".py",
   "mimetype": "text/x-python",
   "name": "python",
   "nbconvert_exporter": "python",
   "pygments_lexer": "ipython3",
   "version": "3.10.15"
  }
 },
 "nbformat": 4,
 "nbformat_minor": 2
}
