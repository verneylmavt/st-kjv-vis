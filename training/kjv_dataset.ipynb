{
 "cells": [
  {
   "cell_type": "code",
   "execution_count": 466,
   "metadata": {},
   "outputs": [],
   "source": [
    "import os\n",
    "import re\n",
    "import json\n",
    "\n",
    "import numpy as np\n",
    "import pandas as pd\n",
    "import matplotlib.pyplot as plt"
   ]
  },
  {
   "cell_type": "markdown",
   "metadata": {},
   "source": [
    "### KJV"
   ]
  },
  {
   "cell_type": "code",
   "execution_count": 467,
   "metadata": {},
   "outputs": [],
   "source": [
    "df_kjv = pd.read_csv(\"../data/kjv_clean.csv\")"
   ]
  },
  {
   "cell_type": "code",
   "execution_count": 468,
   "metadata": {},
   "outputs": [
    {
     "name": "stdout",
     "output_type": "stream",
     "text": [
      "      testament_name   book_name  chapter_number  verse_number  \\\n",
      "0      Old Testament     Genesis               1             1   \n",
      "1      Old Testament     Genesis               1             2   \n",
      "2      Old Testament     Genesis               1             3   \n",
      "3      Old Testament     Genesis               1             4   \n",
      "4      Old Testament     Genesis               1             5   \n",
      "...              ...         ...             ...           ...   \n",
      "31097  New Testament  Revelation              22            17   \n",
      "31098  New Testament  Revelation              22            18   \n",
      "31099  New Testament  Revelation              22            19   \n",
      "31100  New Testament  Revelation              22            20   \n",
      "31101  New Testament  Revelation              22            21   \n",
      "\n",
      "                                              verse_text  \n",
      "0      In the beginning God created the heaven and th...  \n",
      "1      And the earth was without form, and void; and ...  \n",
      "2      And God said, Let there be light: and there wa...  \n",
      "3      And God saw the light, that it was good: and G...  \n",
      "4      And God called the light Day, and the darkness...  \n",
      "...                                                  ...  \n",
      "31097  And the Spirit and the bride say, Come. And le...  \n",
      "31098  For I testify unto every man that heareth the ...  \n",
      "31099  And if any man shall take away from the words ...  \n",
      "31100  He which testifieth these things saith, Surely...  \n",
      "31101  The grace of our Lord Jesus Christ be with you...  \n",
      "\n",
      "[31102 rows x 5 columns]\n"
     ]
    }
   ],
   "source": [
    "print(df_kjv)"
   ]
  },
  {
   "cell_type": "code",
   "execution_count": 469,
   "metadata": {},
   "outputs": [],
   "source": [
    "df_kjv = df_kjv.reset_index(drop=True)\n",
    "\n",
    "df_kjv['verse_ref'] = df_kjv.apply(\n",
    "    lambda row: f\"{row['book_name']} {row['chapter_number']}:{row['verse_number']}\", axis=1\n",
    ")"
   ]
  },
  {
   "cell_type": "code",
   "execution_count": 470,
   "metadata": {},
   "outputs": [],
   "source": [
    "df_kjv = df_kjv[[\"testament_name\", \n",
    "                \"verse_ref\", \n",
    "                \"book_name\", \n",
    "                \"chapter_number\", \n",
    "                \"verse_number\", \n",
    "                \"verse_text\"]]"
   ]
  },
  {
   "cell_type": "code",
   "execution_count": 471,
   "metadata": {},
   "outputs": [
    {
     "name": "stdout",
     "output_type": "stream",
     "text": [
      "      testament_name         verse_ref   book_name  chapter_number  \\\n",
      "0      Old Testament       Genesis 1:1     Genesis               1   \n",
      "1      Old Testament       Genesis 1:2     Genesis               1   \n",
      "2      Old Testament       Genesis 1:3     Genesis               1   \n",
      "3      Old Testament       Genesis 1:4     Genesis               1   \n",
      "4      Old Testament       Genesis 1:5     Genesis               1   \n",
      "...              ...               ...         ...             ...   \n",
      "31097  New Testament  Revelation 22:17  Revelation              22   \n",
      "31098  New Testament  Revelation 22:18  Revelation              22   \n",
      "31099  New Testament  Revelation 22:19  Revelation              22   \n",
      "31100  New Testament  Revelation 22:20  Revelation              22   \n",
      "31101  New Testament  Revelation 22:21  Revelation              22   \n",
      "\n",
      "       verse_number                                         verse_text  \n",
      "0                 1  In the beginning God created the heaven and th...  \n",
      "1                 2  And the earth was without form, and void; and ...  \n",
      "2                 3  And God said, Let there be light: and there wa...  \n",
      "3                 4  And God saw the light, that it was good: and G...  \n",
      "4                 5  And God called the light Day, and the darkness...  \n",
      "...             ...                                                ...  \n",
      "31097            17  And the Spirit and the bride say, Come. And le...  \n",
      "31098            18  For I testify unto every man that heareth the ...  \n",
      "31099            19  And if any man shall take away from the words ...  \n",
      "31100            20  He which testifieth these things saith, Surely...  \n",
      "31101            21  The grace of our Lord Jesus Christ be with you...  \n",
      "\n",
      "[31102 rows x 6 columns]\n"
     ]
    }
   ],
   "source": [
    "print(df_kjv)"
   ]
  },
  {
   "cell_type": "code",
   "execution_count": 472,
   "metadata": {},
   "outputs": [],
   "source": [
    "# df_kjv.to_csv(\"../dataset/kjv.csv\", index=False)"
   ]
  },
  {
   "cell_type": "code",
   "execution_count": 473,
   "metadata": {},
   "outputs": [],
   "source": [
    "verse_to_index = {verse: idx for idx, verse in enumerate(df_kjv['verse_ref'])}"
   ]
  },
  {
   "cell_type": "code",
   "execution_count": 474,
   "metadata": {},
   "outputs": [],
   "source": [
    "verse_to_testament = {verse: testament for verse, testament in zip(df_kjv['verse_ref'], df_kjv['testament_name'])}"
   ]
  },
  {
   "cell_type": "markdown",
   "metadata": {},
   "source": [
    "### KJV Sites"
   ]
  },
  {
   "cell_type": "code",
   "execution_count": 475,
   "metadata": {},
   "outputs": [],
   "source": [
    "df_kjv_sites = pd.read_csv(\"../data/kjv_locs_all.csv\")"
   ]
  },
  {
   "cell_type": "code",
   "execution_count": 476,
   "metadata": {},
   "outputs": [
    {
     "name": "stdout",
     "output_type": "stream",
     "text": [
      "      book_name  book_number  chapter_number  verse_number  \\\n",
      "0       2 Kings           12               5            12   \n",
      "1       2 Kings           12               5            12   \n",
      "2       2 Kings           12               5            12   \n",
      "3       2 Kings           12               5            12   \n",
      "4       2 Kings           12               5            12   \n",
      "...         ...          ...             ...           ...   \n",
      "17065  1 Samuel            9               9             5   \n",
      "17066  1 Samuel            9               9             5   \n",
      "17067  1 Samuel            9               9             5   \n",
      "17068  1 Samuel            9               9             5   \n",
      "17069  1 Samuel            9               9             5   \n",
      "\n",
      "                                              verse_text name_id_ancient  \\\n",
      "0      Are not Abana and Pharpar, rivers of Damascus,...           Abana   \n",
      "1      Are not Abana and Pharpar, rivers of Damascus,...        Damascus   \n",
      "2      Are not Abana and Pharpar, rivers of Damascus,...         Pharpar   \n",
      "3      Are not Abana and Pharpar, rivers of Damascus,...         Pharpar   \n",
      "4      Are not Abana and Pharpar, rivers of Damascus,...         Pharpar   \n",
      "...                                                  ...             ...   \n",
      "17065  And when they were come to the land of Zuph, S...            Zuph   \n",
      "17066  And when they were come to the land of Zuph, S...            Zuph   \n",
      "17067  And when they were come to the land of Zuph, S...            Zuph   \n",
      "17068  And when they were come to the land of Zuph, S...            Zuph   \n",
      "17069  And when they were come to the land of Zuph, S...            Zuph   \n",
      "\n",
      "      location_id_ancient name_id_modern location_id_modern   latitude  \\\n",
      "0                 aea17b7   Barada River            m39ac0b  33.513542   \n",
      "1                 a69c1d4       Damascus            m878978  33.511112   \n",
      "2                 a8d054a   Barbar River            m3a5cfe  33.416667   \n",
      "3                 a8d054a     Awaj River            m6dfa22  33.313620   \n",
      "4                 a8d054a     Tora River            mf29181  33.540556   \n",
      "...                   ...            ...                ...        ...   \n",
      "17065             a4d0250         Al Ram            m67501d  31.854340   \n",
      "17066             a4d0250    Ramat Rahel            m77f703  31.739901   \n",
      "17067             a4d0250         Rantis            m960e84  32.028056   \n",
      "17068             a4d0250      Beit Rima            mcd60ca  32.032860   \n",
      "17069             a4d0250        Al Bira            mebe332  31.905142   \n",
      "\n",
      "       longitude   global_code  \\\n",
      "0      36.305000  8G5RG874+C26   \n",
      "1      36.306390  8G5RG864+CHR   \n",
      "2      36.133333  8G5RC48M+M88   \n",
      "3      36.055535  8G5R8374+C6V   \n",
      "4      36.353056  8G5RG9R3+66F   \n",
      "...          ...           ...   \n",
      "17065  35.231610  8G3QV63J+PJQ   \n",
      "17066  35.216896  8G3QP6Q8+XQ6   \n",
      "17067  35.019444  8G4Q22H9+6QG   \n",
      "17068  35.102500  8G4Q24M2+4XX   \n",
      "17069  35.214958  8G3QW647+3X4   \n",
      "\n",
      "                                    formatted_address  \\\n",
      "0                           G873+GX9, Damascus, Syria   \n",
      "1      G864+CJ6, Al Kabakbieh Street, Damascus, Syria   \n",
      "2                                C48M+M8 Artoz, Syria   \n",
      "3                           8374+C6 Al-Qleiaah, Syria   \n",
      "4                               G9R3+7H, Irbin, Syria   \n",
      "...                                               ...   \n",
      "17065                                     8G3QV63J+PJ   \n",
      "17066                    P6Q8+XQ Ramat Rachel, Israel   \n",
      "17067                                     8G4Q22H9+6Q   \n",
      "17068                                      Bait Reema   \n",
      "17069                              W647+3VV, Ramallah   \n",
      "\n",
      "                             route       neighborhood  \\\n",
      "0                 جادة بين السورين  Amarah Barraniyah   \n",
      "1              Al Kabakbieh Street       Al-Hamidiyeh   \n",
      "2                   Route Sans Nom                  -   \n",
      "3                   Route Sans Nom                  -   \n",
      "4      Almotahalik Aljanobi Street                  -   \n",
      "...                            ...                ...   \n",
      "17065              Rab'a Al Adawia                  -   \n",
      "17066                 Unnamed Road                  -   \n",
      "17067             Tariaq Bedon Esm                  -   \n",
      "17068                   Bait Reema                  -   \n",
      "17069              Al Alaly Street                  -   \n",
      "\n",
      "       administrative_area_level_2 administrative_area_level_1      locality  \\\n",
      "0                         Damascus        Damascus Governorate      Damascus   \n",
      "1                         Damascus        Damascus Governorate      Damascus   \n",
      "2      Markaz Rif Dimashq District     Rif Dimashq Governorate         Artoz   \n",
      "3                      As-Sanamayn           Daraa Governorate    Al-Qleiaah   \n",
      "4      Markaz Rif Dimashq District     Rif Dimashq Governorate         Irbin   \n",
      "...                            ...                         ...           ...   \n",
      "17065                            -                           -             -   \n",
      "17066                            -          Jerusalem District  Ramat Rachel   \n",
      "17067                            -                           -        Rantis   \n",
      "17068                            -                           -             -   \n",
      "17069                            -                           -      Ramallah   \n",
      "\n",
      "      country  \n",
      "0       Syria  \n",
      "1       Syria  \n",
      "2       Syria  \n",
      "3       Syria  \n",
      "4       Syria  \n",
      "...       ...  \n",
      "17065       -  \n",
      "17066  Israel  \n",
      "17067       -  \n",
      "17068       -  \n",
      "17069       -  \n",
      "\n",
      "[17070 rows x 19 columns]\n"
     ]
    }
   ],
   "source": [
    "print(df_kjv_sites)"
   ]
  },
  {
   "cell_type": "code",
   "execution_count": 477,
   "metadata": {},
   "outputs": [],
   "source": [
    "df_kjv_sites['verse_ref'] = df_kjv_sites.apply(\n",
    "    lambda row: f\"{row['book_name']} {row['chapter_number']}:{row['verse_number']}\", axis=1\n",
    ")"
   ]
  },
  {
   "cell_type": "code",
   "execution_count": 478,
   "metadata": {},
   "outputs": [],
   "source": [
    "df_kjv_sites.drop(columns=[\"book_name\", \"chapter_number\", \"verse_number\", \"book_number\", \"verse_text\"], inplace=True)"
   ]
  },
  {
   "cell_type": "code",
   "execution_count": 479,
   "metadata": {},
   "outputs": [],
   "source": [
    "def get_testament_from_verse_list(verse):\n",
    "    if verse:\n",
    "        return verse_to_testament.get(verse, None)\n",
    "    return None\n",
    "\n",
    "df_kjv_sites['testament_name'] = df_kjv_sites['verse_ref'].apply(get_testament_from_verse_list)"
   ]
  },
  {
   "cell_type": "code",
   "execution_count": 480,
   "metadata": {},
   "outputs": [],
   "source": [
    "def clean_text(text):\n",
    "    if isinstance(text, str):\n",
    "        text = ''.join([char for char in text if not char.isdigit()])\n",
    "        return \" \".join(text.split())\n",
    "    return text\n",
    "\n",
    "df_kjv_sites[\"name_id_ancient\"] = df_kjv_sites[\"name_id_ancient\"].apply(clean_text)\n",
    "df_kjv_sites[\"name_id_modern\"] = df_kjv_sites[\"name_id_modern\"].apply(clean_text)"
   ]
  },
  {
   "cell_type": "code",
   "execution_count": 481,
   "metadata": {},
   "outputs": [],
   "source": [
    "df_kjv_sites[\"country\"] = df_kjv_sites[\"country\"].replace(\"-\", \"State of Palestine\")\n",
    "df_kjv_sites.replace(\"-\", np.nan, inplace=True)"
   ]
  },
  {
   "cell_type": "code",
   "execution_count": 482,
   "metadata": {},
   "outputs": [],
   "source": [
    "df_kjv_sites = df_kjv_sites[[\n",
    "                            \"name_id_ancient\",\n",
    "                            \"name_id_modern\",\n",
    "                            \n",
    "                            \"latitude\",\n",
    "                            \"longitude\",\n",
    "                            \n",
    "                            \"route\",\n",
    "                            \"neighborhood\",\n",
    "                            \"administrative_area_level_2\",\n",
    "                            \"administrative_area_level_1\",\n",
    "                            \"locality\",\n",
    "                            \"country\",\n",
    "                            \n",
    "                            \"testament_name\",\n",
    "                            \"verse_ref\"\n",
    "                            ]]"
   ]
  },
  {
   "cell_type": "code",
   "execution_count": 483,
   "metadata": {},
   "outputs": [
    {
     "name": "stdout",
     "output_type": "stream",
     "text": [
      "      name_id_ancient name_id_modern   latitude  longitude  \\\n",
      "0               Abana   Barada River  33.513542  36.305000   \n",
      "1            Damascus       Damascus  33.511112  36.306390   \n",
      "2             Pharpar   Barbar River  33.416667  36.133333   \n",
      "3             Pharpar     Awaj River  33.313620  36.055535   \n",
      "4             Pharpar     Tora River  33.540556  36.353056   \n",
      "...               ...            ...        ...        ...   \n",
      "17065            Zuph         Al Ram  31.854340  35.231610   \n",
      "17066            Zuph    Ramat Rahel  31.739901  35.216896   \n",
      "17067            Zuph         Rantis  32.028056  35.019444   \n",
      "17068            Zuph      Beit Rima  32.032860  35.102500   \n",
      "17069            Zuph        Al Bira  31.905142  35.214958   \n",
      "\n",
      "                             route       neighborhood  \\\n",
      "0                 جادة بين السورين  Amarah Barraniyah   \n",
      "1              Al Kabakbieh Street       Al-Hamidiyeh   \n",
      "2                   Route Sans Nom                NaN   \n",
      "3                   Route Sans Nom                NaN   \n",
      "4      Almotahalik Aljanobi Street                NaN   \n",
      "...                            ...                ...   \n",
      "17065              Rab'a Al Adawia                NaN   \n",
      "17066                 Unnamed Road                NaN   \n",
      "17067             Tariaq Bedon Esm                NaN   \n",
      "17068                   Bait Reema                NaN   \n",
      "17069              Al Alaly Street                NaN   \n",
      "\n",
      "       administrative_area_level_2 administrative_area_level_1      locality  \\\n",
      "0                         Damascus        Damascus Governorate      Damascus   \n",
      "1                         Damascus        Damascus Governorate      Damascus   \n",
      "2      Markaz Rif Dimashq District     Rif Dimashq Governorate         Artoz   \n",
      "3                      As-Sanamayn           Daraa Governorate    Al-Qleiaah   \n",
      "4      Markaz Rif Dimashq District     Rif Dimashq Governorate         Irbin   \n",
      "...                            ...                         ...           ...   \n",
      "17065                          NaN                         NaN           NaN   \n",
      "17066                          NaN          Jerusalem District  Ramat Rachel   \n",
      "17067                          NaN                         NaN        Rantis   \n",
      "17068                          NaN                         NaN           NaN   \n",
      "17069                          NaN                         NaN      Ramallah   \n",
      "\n",
      "                  country testament_name     verse_ref  \n",
      "0                   Syria  Old Testament  2 Kings 5:12  \n",
      "1                   Syria  Old Testament  2 Kings 5:12  \n",
      "2                   Syria  Old Testament  2 Kings 5:12  \n",
      "3                   Syria  Old Testament  2 Kings 5:12  \n",
      "4                   Syria  Old Testament  2 Kings 5:12  \n",
      "...                   ...            ...           ...  \n",
      "17065  State of Palestine  Old Testament  1 Samuel 9:5  \n",
      "17066              Israel  Old Testament  1 Samuel 9:5  \n",
      "17067  State of Palestine  Old Testament  1 Samuel 9:5  \n",
      "17068  State of Palestine  Old Testament  1 Samuel 9:5  \n",
      "17069  State of Palestine  Old Testament  1 Samuel 9:5  \n",
      "\n",
      "[17070 rows x 12 columns]\n"
     ]
    }
   ],
   "source": [
    "print(df_kjv_sites)"
   ]
  },
  {
   "cell_type": "code",
   "execution_count": 484,
   "metadata": {},
   "outputs": [],
   "source": [
    "# df_kjv_sites.to_csv(\"../dataset/kjv_sites.csv\", index=False)"
   ]
  },
  {
   "cell_type": "markdown",
   "metadata": {},
   "source": [
    "### KJV Events"
   ]
  },
  {
   "cell_type": "code",
   "execution_count": 540,
   "metadata": {},
   "outputs": [],
   "source": [
    "df_kjv_events = pd.read_csv(\"../data/events.csv\", dtype=str)"
   ]
  },
  {
   "cell_type": "code",
   "execution_count": 541,
   "metadata": {},
   "outputs": [
    {
     "name": "stdout",
     "output_type": "stream",
     "text": [
      "                               title   ID startDate duration rangeFlag  \\\n",
      "0             Creation of all things    1     -4003       6D       NaN   \n",
      "1           Creation of Adam and Eve    2     -4003       1D       NaN   \n",
      "2                           The Fall    3     -4003       1D   checked   \n",
      "3                   Lifetime of Adam    4     -4003     930Y       NaN   \n",
      "4                    Cain kills Abel    5     -3874       1D       NaN   \n",
      "..                               ...  ...       ...      ...       ...   \n",
      "390  Paul's First Roman imprisonment  385      0060       3Y       NaN   \n",
      "391         Feeding of Five Thousand  393        29       1D       NaN   \n",
      "392             Jesus Walks on Water  394        29       1D       NaN   \n",
      "393            Healing in Gennesaret  396        29       1D       NaN   \n",
      "394             Bread of Life Sermon  397        29       1D       NaN   \n",
      "\n",
      "                  predecessor  lag Lag Type  \\\n",
      "0                         NaN  NaN      NaN   \n",
      "1                         NaN  NaN      NaN   \n",
      "2    Creation of Adam and Eve  NaN      NaN   \n",
      "3    Creation of Adam and Eve  NaN      NaN   \n",
      "4                         NaN  NaN      NaN   \n",
      "..                        ...  ...      ...   \n",
      "390      Paul arrives at Rome  NaN      NaN   \n",
      "391             John Beheaded  NaN      NaN   \n",
      "392  Feeding of Five Thousand  NaN      NaN   \n",
      "393      Jesus Walks on Water  NaN      NaN   \n",
      "394     Healing in Gennesaret  NaN      NaN   \n",
      "\n",
      "                                        partOf  \\\n",
      "0                                          NaN   \n",
      "1    Lifetime of Adam,Creation of Adam and Eve   \n",
      "2                                          NaN   \n",
      "3                                          NaN   \n",
      "4                                          NaN   \n",
      "..                                         ...   \n",
      "390                   Third Missionary Journey   \n",
      "391                                        NaN   \n",
      "392                                        NaN   \n",
      "393                                        NaN   \n",
      "394                                        NaN   \n",
      "\n",
      "                                                verses  \\\n",
      "0    Gen.1.1,Gen.1.2,Gen.1.3,Gen.1.4,Gen.1.5,Gen.1....   \n",
      "1    Gen.2.4,Gen.2.5,Gen.2.6,Gen.2.7,Gen.2.8,Gen.2....   \n",
      "2    Gen.3.1,Gen.3.2,Gen.3.3,Gen.3.4,Gen.3.5,Gen.3....   \n",
      "3                              Gen.5.3,Gen.5.4,Gen.5.5   \n",
      "4    Gen.4.1,Gen.4.2,Gen.4.3,Gen.4.4,Gen.4.5,Gen.4....   \n",
      "..                                                 ...   \n",
      "390  Acts.28.17,Acts.28.18,Acts.28.19,Acts.28.20,Ac...   \n",
      "391  Matt.14.13,Matt.14.14,Matt.14.15,Matt.14.16,Ma...   \n",
      "392  Matt.14.22,Matt.14.23,Matt.14.24,Matt.14.25,Ma...   \n",
      "393  Matt.14.34,Matt.14.35,Matt.14.36,Mark.6.53,Mar...   \n",
      "394  John.6.22,John.6.23,John.6.24,John.6.25,John.6...   \n",
      "\n",
      "                                  people (from verses)  \\\n",
      "0    god_1324,god_1324,holy_spirit_7400,god_1324,go...   \n",
      "1    god_1324,god_1324,god_1324,god_1324,god_1324,g...   \n",
      "2    god_1324,god_1324,god_1324,adam_78,god_1324,ad...   \n",
      "3          adam_78,seth_2504,adam_78,seth_2504,adam_78   \n",
      "4    adam_78,eve_1231,cain_533,god_1324,abel_13,cai...   \n",
      "..                                                 ...   \n",
      "390  paul_2479,moses_2108,god_1324,jesus_905,paul_2...   \n",
      "391  jesus_905,jesus_905,jesus_905,jesus_905,jesus_...   \n",
      "392  jesus_905,jesus_905,jesus_905,peter_2745,jesus...   \n",
      "393                                                NaN   \n",
      "394  jesus_905,jesus_905,jesus_905,jesus_905,god_13...   \n",
      "\n",
      "                                     participants  \\\n",
      "0             god_1324,jesus_905,holy_spirit_7400   \n",
      "1                       adam_78,eve_1231,god_1324   \n",
      "2                       adam_78,eve_1231,god_1324   \n",
      "3                                         adam_78   \n",
      "4                                cain_533,abel_13   \n",
      "..                                            ...   \n",
      "390  paul_2479,luke_1836,demas_1006,epaphras_1195   \n",
      "391              jesus_905,andrew_264,philip_2344   \n",
      "392                          jesus_905,peter_2745   \n",
      "393                                     jesus_905   \n",
      "394                          jesus_905,peter_2745   \n",
      "\n",
      "                                  places (from verses)            locations  \\\n",
      "0                                                  NaN                  NaN   \n",
      "1    eden_354,eden_354,havilah_533,pishon_951,gihon...             eden_354   \n",
      "2                                    eden_354,eden_354             eden_354   \n",
      "3                                                  NaN             eden_354   \n",
      "4                                                  NaN             eden_354   \n",
      "..                                                 ...                  ...   \n",
      "390                            jerusalem_636,judea_657            rome_1013   \n",
      "391  bethsaida_231,sea_of_galilee_1032,sea_of_tiber...        bethsaida_231   \n",
      "392                        bethsaida_231,capernaum_274  sea_of_galilee_1032   \n",
      "393                      gennesaret_458,gennesaret_458       gennesaret_458   \n",
      "394          tiberias_1161,capernaum_274,capernaum_274        capernaum_274   \n",
      "\n",
      "       groups notes verseSort           modified        Sort Key  \n",
      "0         NaN   NaN  01001001  11/25/2020 9:12am  -4002.98998999  \n",
      "1         NaN   NaN  01002004  11/25/2020 9:12am  -4002.98997996  \n",
      "2         NaN   NaN  01003001  11/25/2020 9:12am  -4002.98996999  \n",
      "3         NaN   NaN  01005003  11/25/2020 9:12am  -4002.98994997  \n",
      "4         NaN   NaN  01004001  11/25/2020 9:12am  -3873.98995999  \n",
      "..        ...   ...       ...                ...             ...  \n",
      "390       NaN   NaN  44028017  11/25/2020 9:12am     60.44028017  \n",
      "391       NaN   NaN  40014013   1/16/2023 9:11am     29.40014013  \n",
      "392       NaN   NaN  40014022   1/16/2023 9:16am     29.40014022  \n",
      "393       NaN   NaN  40014034   1/16/2023 1:56pm     29.40014034  \n",
      "394  Apostles   NaN  43006022   1/16/2023 1:59pm     29.43006022  \n",
      "\n",
      "[395 rows x 19 columns]\n"
     ]
    }
   ],
   "source": [
    "print(df_kjv_events)"
   ]
  },
  {
   "cell_type": "code",
   "execution_count": 542,
   "metadata": {},
   "outputs": [],
   "source": [
    "df_kjv_events = df_kjv_events[[\"title\", \"startDate\", \"duration\", \"verses\"]]"
   ]
  },
  {
   "cell_type": "code",
   "execution_count": 543,
   "metadata": {},
   "outputs": [],
   "source": [
    "def sort_verses(verse_str):\n",
    "    return \",\".join(sorted(verse_str.split(\",\"), key=lambda x: tuple(map(int, x.split(\".\")[1:]))))\n",
    "\n",
    "df_kjv_events['verses'] = df_kjv_events['verses'].apply(sort_verses)"
   ]
  },
  {
   "cell_type": "code",
   "execution_count": 544,
   "metadata": {},
   "outputs": [],
   "source": [
    "kjv_books_abv = {'GEN': 'Genesis', \n",
    "                'EXOD': 'Exodus', \n",
    "                'LEV': 'Leviticus', \n",
    "                'NUM': 'Numbers', \n",
    "                'DEUT': 'Deuteronomy', \n",
    "                'JOSH': 'Joshua', \n",
    "                'JUDG': 'Judges', \n",
    "                'RUT': 'Ruth', \n",
    "                '1SAM': '1 Samuel', \n",
    "                '2SAM': '2 Samuel', \n",
    "                '1KGS': '1 Kings', \n",
    "                '2KGS': '2 Kings', \n",
    "                '1CHR': '1 Chronicles', \n",
    "                '2CHR': '2 Chronicles', \n",
    "                'EZR': 'Ezra', \n",
    "                'NEH': 'Nehemiah', \n",
    "                'EST': 'Esther', \n",
    "                'JOB': 'Job', \n",
    "                'PSA': 'Psalms', \n",
    "                'PRO': 'Proverbs', \n",
    "                'ECC': 'Ecclesiastes', \n",
    "                'SNG': 'Song of Solomon', \n",
    "                'ISA': 'Isaiah', \n",
    "                'JER': 'Jeremiah', \n",
    "                'LAM': 'Lamentations', \n",
    "                'EZEK': 'Ezekiel', \n",
    "                'DAN': 'Daniel', \n",
    "                'HOS': 'Hosea', \n",
    "                'JOEL': 'Joel', \n",
    "                'AMOS': 'Amos', \n",
    "                'OBAD': 'Obadiah', \n",
    "                'JONAH': 'Jonah', \n",
    "                'MIC': 'Micah', \n",
    "                'NAH': 'Nahum', \n",
    "                'HAB': 'Habakkuk', \n",
    "                'ZEPH': 'Zephaniah', \n",
    "                'HAG': 'Haggai', \n",
    "                'ZECH': 'Zechariah', \n",
    "                'MAL': 'Malachi', \n",
    "                'MATT': 'Matthew', \n",
    "                'MARK': 'Mark', \n",
    "                'LUKE': 'Luke', \n",
    "                'JOHN': 'John', \n",
    "                'ACTS': 'Acts', \n",
    "                'ROM': 'Romans', \n",
    "                '1CO': '1 Corinthians', \n",
    "                '2CO': '2 Corinthians', \n",
    "                'GAL': 'Galatians', \n",
    "                'EPH': 'Ephesians', \n",
    "                'PHP': 'Philippians', \n",
    "                'COL': 'Colossians', \n",
    "                '1TH': '1 Thessalonians', \n",
    "                '2TH': '2 Thessalonians', \n",
    "                '1TI': '1 Timothy', \n",
    "                '2TI': '2 Timothy', \n",
    "                'TIT': 'Titus', \n",
    "                'PHM': 'Philemon', \n",
    "                'HEB': 'Hebrews', \n",
    "                'JAS': 'James', \n",
    "                '1PE': '1 Peter', \n",
    "                '2PE': '2 Peter', \n",
    "                '1JN': '1 John', \n",
    "                '2JN': '2 John', \n",
    "                '3JN': '3 John', \n",
    "                'JUD': 'Jude', \n",
    "                'REV': 'Revelation'}"
   ]
  },
  {
   "cell_type": "code",
   "execution_count": 545,
   "metadata": {},
   "outputs": [],
   "source": [
    "def format_verses(verses_str):\n",
    "    verse_list = verses_str.split(',')\n",
    "    formatted_verses = []\n",
    "    \n",
    "    for verse in verse_list:\n",
    "        parts = verse.split('.')\n",
    "        if len(parts) == 3:\n",
    "            book_abv, chapter, verse_num = parts\n",
    "            book_abv = book_abv.upper()\n",
    "            # if book_abv in kjv_books_abv:\n",
    "            formatted_verses.append(f\"{kjv_books_abv[book_abv]} {chapter}:{verse_num}\")\n",
    "    \n",
    "    return formatted_verses\n",
    "\n",
    "\n",
    "df_kjv_events[\"verses_ls\"] = df_kjv_events[\"verses\"].apply(format_verses)\n",
    "df_kjv_events.drop(columns=['verses'], inplace=True)"
   ]
  },
  {
   "cell_type": "code",
   "execution_count": 546,
   "metadata": {},
   "outputs": [],
   "source": [
    "def group_verses(verses):\n",
    "    \"\"\"\n",
    "    Given a list of verses (as strings), group them into lists where\n",
    "    each verse is consecutive to the previous one (i.e. its index in df_kjv is one more).\n",
    "    \"\"\"\n",
    "    groups = []\n",
    "    current_group = []\n",
    "    for v in verses:\n",
    "        if not current_group:\n",
    "            current_group.append(v)\n",
    "        else:\n",
    "            prev_v = current_group[-1]\n",
    "            if verse_to_index.get(v, -1) == verse_to_index.get(prev_v, -2) + 1:\n",
    "                current_group.append(v)\n",
    "            else:\n",
    "                groups.append(current_group)\n",
    "                current_group = [v]\n",
    "    if current_group:\n",
    "        groups.append(current_group)\n",
    "    return groups\n",
    "\n",
    "\n",
    "df_kjv_events['verses_lss'] = df_kjv_events['verses_ls'].apply(group_verses)"
   ]
  },
  {
   "cell_type": "code",
   "execution_count": 547,
   "metadata": {},
   "outputs": [],
   "source": [
    "df_kjv_events.drop(columns=['verses_ls'], inplace=True)\n",
    "df_kjv_events.rename(columns={'verses_lss': 'verse_ref_ls_ls',\n",
    "                            'startDate': 'start_date'}, inplace=True)"
   ]
  },
  {
   "cell_type": "code",
   "execution_count": 548,
   "metadata": {},
   "outputs": [],
   "source": [
    "def get_testament_from_verse_list(verse_list):\n",
    "    \"\"\"\n",
    "    Given a list of verse references, return the testament name for the\n",
    "    first (i.e. minimum) verse in that list.\n",
    "    \"\"\"\n",
    "    if verse_list:\n",
    "        first_verse = verse_list[0][0]\n",
    "        return verse_to_testament.get(first_verse, None)\n",
    "    return None\n",
    "\n",
    "df_kjv_events['testament_name'] = df_kjv_events['verse_ref_ls_ls'].apply(get_testament_from_verse_list)"
   ]
  },
  {
   "cell_type": "code",
   "execution_count": 549,
   "metadata": {},
   "outputs": [],
   "source": [
    "def process_start_date(value):\n",
    "    value = str(value)\n",
    "    if '-' in value and len(value) > 5:\n",
    "        year = value.split('-')[0]\n",
    "    else:\n",
    "        year = value\n",
    "    return int(year)\n",
    "\n",
    "df_kjv_events['start_year'] = df_kjv_events['start_date'].apply(process_start_date)\n",
    "df_kjv_events.drop(columns=['start_date'], inplace=True)"
   ]
  },
  {
   "cell_type": "code",
   "execution_count": 550,
   "metadata": {},
   "outputs": [],
   "source": [
    "def get_largest_duration(duration):\n",
    "    unit_order = ['Y', 'M', 'W', 'D']\n",
    "    \n",
    "    matches = re.findall(r'(\\d*\\.?\\d+)([YMWD])', duration)\n",
    "    \n",
    "    for unit in unit_order:\n",
    "        for value, u in matches:\n",
    "            if u == unit:\n",
    "                return f\"{value}{u}\"\n",
    "    return None\n",
    "\n",
    "df_kjv_events['duration'] = df_kjv_events['duration'].apply(get_largest_duration)"
   ]
  },
  {
   "cell_type": "code",
   "execution_count": 551,
   "metadata": {},
   "outputs": [],
   "source": [
    "df_kjv_events = df_kjv_events[['title', \n",
    "                            'start_year', \n",
    "                            'duration',\n",
    "                            \n",
    "                            'testament_name',\n",
    "                            'verse_ref_ls_ls'\n",
    "                            ]]"
   ]
  },
  {
   "cell_type": "code",
   "execution_count": 552,
   "metadata": {},
   "outputs": [
    {
     "name": "stdout",
     "output_type": "stream",
     "text": [
      "                               title  start_year duration testament_name  \\\n",
      "0             Creation of all things       -4003       6D  Old Testament   \n",
      "1           Creation of Adam and Eve       -4003       1D  Old Testament   \n",
      "2                           The Fall       -4003       1D  Old Testament   \n",
      "3                   Lifetime of Adam       -4003     930Y  Old Testament   \n",
      "4                    Cain kills Abel       -3874       1D  Old Testament   \n",
      "..                               ...         ...      ...            ...   \n",
      "390  Paul's First Roman imprisonment          60       3Y  New Testament   \n",
      "391         Feeding of Five Thousand          29       1D  New Testament   \n",
      "392             Jesus Walks on Water          29       1D  New Testament   \n",
      "393            Healing in Gennesaret          29       1D  New Testament   \n",
      "394             Bread of Life Sermon          29       1D  New Testament   \n",
      "\n",
      "                                       verse_ref_ls_ls  \n",
      "0    [[Genesis 1:1, Genesis 1:2, Genesis 1:3, Genes...  \n",
      "1    [[Genesis 2:4, Genesis 2:5, Genesis 2:6, Genes...  \n",
      "2    [[Genesis 3:1, Genesis 3:2, Genesis 3:3, Genes...  \n",
      "3            [[Genesis 5:3, Genesis 5:4, Genesis 5:5]]  \n",
      "4    [[Genesis 4:1, Genesis 4:2, Genesis 4:3, Genes...  \n",
      "..                                                 ...  \n",
      "390  [[Acts 28:17, Acts 28:18, Acts 28:19, Acts 28:...  \n",
      "391  [[John 6:1, John 6:2, John 6:3, John 6:4, John...  \n",
      "392  [[John 6:15, John 6:16, John 6:17, John 6:18, ...  \n",
      "393  [[Mark 6:53, Mark 6:54, Mark 6:55, Mark 6:56],...  \n",
      "394  [[John 6:22, John 6:23, John 6:24, John 6:25, ...  \n",
      "\n",
      "[395 rows x 5 columns]\n"
     ]
    }
   ],
   "source": [
    "print(df_kjv_events)"
   ]
  },
  {
   "cell_type": "code",
   "execution_count": 553,
   "metadata": {},
   "outputs": [],
   "source": [
    "# df_kjv_events.to_csv(\"../dataset/kjv_events.csv\", index=False)"
   ]
  },
  {
   "cell_type": "markdown",
   "metadata": {},
   "source": [
    "### KJV Cross-References"
   ]
  },
  {
   "cell_type": "code",
   "execution_count": 608,
   "metadata": {},
   "outputs": [],
   "source": [
    "df_kjv_cross_references = pd.read_csv(\"../data/kjv_cr.csv\")"
   ]
  },
  {
   "cell_type": "code",
   "execution_count": 609,
   "metadata": {},
   "outputs": [
    {
     "name": "stdout",
     "output_type": "stream",
     "text": [
      "       book_name_source_min  chapter_number_source_min  \\\n",
      "0                   Genesis                          1   \n",
      "1                   Genesis                          1   \n",
      "2                   Genesis                          1   \n",
      "3                   Genesis                          1   \n",
      "4                   Genesis                          1   \n",
      "...                     ...                        ...   \n",
      "344794           Revelation                         22   \n",
      "344795           Revelation                         22   \n",
      "344796           Revelation                         22   \n",
      "344797           Revelation                         22   \n",
      "344798           Revelation                         22   \n",
      "\n",
      "        verse_number_source_min  book_name_source_max  \\\n",
      "0                             1                   NaN   \n",
      "1                             1                   NaN   \n",
      "2                             1                   NaN   \n",
      "3                             1                   NaN   \n",
      "4                             1                   NaN   \n",
      "...                         ...                   ...   \n",
      "344794                       21                   NaN   \n",
      "344795                       21                   NaN   \n",
      "344796                       21                   NaN   \n",
      "344797                       21                   NaN   \n",
      "344798                       21                   NaN   \n",
      "\n",
      "        chapter_number_source_max  verse_number_source_max  \\\n",
      "0                             NaN                      NaN   \n",
      "1                             NaN                      NaN   \n",
      "2                             NaN                      NaN   \n",
      "3                             NaN                      NaN   \n",
      "4                             NaN                      NaN   \n",
      "...                           ...                      ...   \n",
      "344794                        NaN                      NaN   \n",
      "344795                        NaN                      NaN   \n",
      "344796                        NaN                      NaN   \n",
      "344797                        NaN                      NaN   \n",
      "344798                        NaN                      NaN   \n",
      "\n",
      "       book_name_target_min  chapter_number_target_min  \\\n",
      "0                    1 John                          1   \n",
      "1                    Psalms                        134   \n",
      "2                    Psalms                        102   \n",
      "3                    Isaiah                         51   \n",
      "4                 Ephesians                          3   \n",
      "...                     ...                        ...   \n",
      "344794            Ephesians                          6   \n",
      "344795        2 Corinthians                         13   \n",
      "344796      2 Thessalonians                          3   \n",
      "344797               Romans                         16   \n",
      "344798               Romans                          1   \n",
      "\n",
      "        verse_number_target_min book_name_target_max  \\\n",
      "0                             1                  NaN   \n",
      "1                             3                  NaN   \n",
      "2                            25                  NaN   \n",
      "3                            16                  NaN   \n",
      "4                             9                  NaN   \n",
      "...                         ...                  ...   \n",
      "344794                       23            Ephesians   \n",
      "344795                       14                  NaN   \n",
      "344796                       18                  NaN   \n",
      "344797                       20                  NaN   \n",
      "344798                        7                  NaN   \n",
      "\n",
      "        chapter_number_target_max  verse_number_target_max  \n",
      "0                             NaN                      NaN  \n",
      "1                             NaN                      NaN  \n",
      "2                             NaN                      NaN  \n",
      "3                             NaN                      NaN  \n",
      "4                             NaN                      NaN  \n",
      "...                           ...                      ...  \n",
      "344794                        6.0                     24.0  \n",
      "344795                        NaN                      NaN  \n",
      "344796                        NaN                      NaN  \n",
      "344797                        NaN                      NaN  \n",
      "344798                        NaN                      NaN  \n",
      "\n",
      "[344799 rows x 12 columns]\n"
     ]
    }
   ],
   "source": [
    "print(df_kjv_cross_references)"
   ]
  },
  {
   "cell_type": "code",
   "execution_count": 610,
   "metadata": {},
   "outputs": [],
   "source": [
    "def format_book_name_source(row):\n",
    "    chapter_min = int(row[\"chapter_number_source_min\"]) if not pd.isna(row[\"chapter_number_source_min\"]) else row[\"chapter_number_source_min\"]\n",
    "    verse_min = int(row[\"verse_number_source_min\"]) if not pd.isna(row[\"verse_number_source_min\"]) else row[\"verse_number_source_min\"]\n",
    "    \n",
    "    if pd.isna(row[\"book_name_source_max\"]):\n",
    "        return f\"{row['book_name_source_min']} {chapter_min}:{verse_min}\"\n",
    "\n",
    "    chapter_max = int(row[\"chapter_number_source_max\"]) if not pd.isna(row[\"chapter_number_source_max\"]) else row[\"chapter_number_source_max\"]\n",
    "    verse_max = int(row[\"verse_number_source_max\"]) if not pd.isna(row[\"verse_number_source_max\"]) else row[\"verse_number_source_max\"]\n",
    "    \n",
    "    return f\"{row['book_name_source_min']} {chapter_min}:{verse_min} - {row['book_name_source_max']} {chapter_max}:{verse_max}\"\n",
    "\n",
    "\n",
    "\n",
    "df_kjv_cross_references[\"verse_ref_source\"] = df_kjv_cross_references.apply(format_book_name_source, axis=1)"
   ]
  },
  {
   "cell_type": "code",
   "execution_count": 611,
   "metadata": {},
   "outputs": [],
   "source": [
    "def format_book_name_target(row):\n",
    "    chapter_min = int(row[\"chapter_number_target_min\"]) if not pd.isna(row[\"chapter_number_target_min\"]) else row[\"chapter_number_target_min\"]\n",
    "    verse_min = int(row[\"verse_number_target_min\"]) if not pd.isna(row[\"verse_number_target_min\"]) else row[\"verse_number_target_min\"]\n",
    "    \n",
    "    if pd.isna(row[\"book_name_target_max\"]):\n",
    "        return f\"{row['book_name_target_min']} {chapter_min}:{verse_min}\"\n",
    "\n",
    "    chapter_max = int(row[\"chapter_number_target_max\"]) if not pd.isna(row[\"chapter_number_target_max\"]) else row[\"chapter_number_target_max\"]\n",
    "    verse_max = int(row[\"verse_number_target_max\"]) if not pd.isna(row[\"verse_number_target_max\"]) else row[\"verse_number_target_max\"]\n",
    "    \n",
    "    return f\"{row['book_name_target_min']} {chapter_min}:{verse_min} - {row['book_name_target_max']} {chapter_max}:{verse_max}\"\n",
    "\n",
    "\n",
    "\n",
    "df_kjv_cross_references[\"verse_ref_target\"] = df_kjv_cross_references.apply(format_book_name_target, axis=1)"
   ]
  },
  {
   "cell_type": "code",
   "execution_count": 612,
   "metadata": {},
   "outputs": [],
   "source": [
    "df_kjv_cross_references.drop(columns=[\"book_name_source_min\", \n",
    "                                    \"chapter_number_source_min\", \n",
    "                                    \"verse_number_source_min\",\n",
    "\n",
    "                                    \"book_name_source_max\", \n",
    "                                    \"chapter_number_source_max\", \n",
    "                                    \"verse_number_source_max\",\n",
    "                                     \n",
    "                                    \"book_name_target_min\", \n",
    "                                    \"chapter_number_target_min\", \n",
    "                                    \"verse_number_target_min\",\n",
    "                                     \n",
    "                                    \"book_name_target_max\", \n",
    "                                    \"chapter_number_target_max\", \n",
    "                                    \"verse_number_target_max\"], inplace=True)"
   ]
  },
  {
   "cell_type": "code",
   "execution_count": 613,
   "metadata": {},
   "outputs": [],
   "source": [
    "verse_to_index = {verse: idx for idx, verse in enumerate(df_kjv['verse_ref'])}"
   ]
  },
  {
   "cell_type": "code",
   "execution_count": 614,
   "metadata": {},
   "outputs": [],
   "source": [
    "verse_to_testament = {verse: testament for verse, testament in zip(df_kjv['verse_ref'], df_kjv['testament_name'])}"
   ]
  },
  {
   "cell_type": "code",
   "execution_count": null,
   "metadata": {},
   "outputs": [],
   "source": [
    "def get_verses_from_range(verse_range):\n",
    "    \"\"\"\n",
    "    Given a range string such as \"Genesis 50:25 - Exodus 1:2\",\n",
    "    return a list of all verse references from the start verse to the end verse (inclusive).\n",
    "    \"\"\"\n",
    "    verse_range = verse_range.strip()\n",
    "    parts = verse_range.split('-')\n",
    "    if len(parts) != 2:\n",
    "        return [verse_range]\n",
    "    \n",
    "    start_str = parts[0].strip()\n",
    "    end_str = parts[1].strip()\n",
    "    \n",
    "    pattern = r\"^(\\d*\\s*\\D+?)\\s+(\\d+):(\\d+)$\"\n",
    "    m_start = re.match(pattern, start_str)\n",
    "    m_end = re.match(pattern, end_str)\n",
    "    if not m_start or not m_end:\n",
    "        # print(start_str, end_str)\n",
    "        return [verse_range]\n",
    "    \n",
    "    start_book    = m_start.group(1).strip()\n",
    "    start_chapter = m_start.group(2)\n",
    "    start_verse   = m_start.group(3)\n",
    "    \n",
    "    end_book      = m_end.group(1).strip()\n",
    "    end_chapter   = m_end.group(2)\n",
    "    end_verse     = m_end.group(3)\n",
    "    \n",
    "    start_ref = f\"{start_book} {start_chapter}:{start_verse}\"\n",
    "    if start_ref == \"3 John 1:15\":\n",
    "        start_ref = \"3 John 1:14\"\n",
    "        \n",
    "    end_ref   = f\"{end_book} {end_chapter}:{end_verse}\"\n",
    "    if end_ref == \"3 John 1:15\":\n",
    "        end_ref = \"3 John 1:14\"\n",
    "    \n",
    "    if start_ref not in verse_to_index or end_ref not in verse_to_index:\n",
    "        # print(m_start, m_end)\n",
    "        # print(start_book, end_book)\n",
    "        # print(start_ref)\n",
    "        # print(end_ref)\n",
    "        return [verse_range]\n",
    "    \n",
    "    start_idx = verse_to_index[start_ref]\n",
    "    end_idx   = verse_to_index[end_ref]\n",
    "    \n",
    "    if start_idx > end_idx:\n",
    "        start_idx, end_idx = end_idx, start_idx\n",
    "    \n",
    "    verses = df_kjv.loc[start_idx:end_idx, 'verse_ref'].tolist()\n",
    "    return verses\n",
    "\n",
    "\n",
    "\n",
    "def get_verse_list(verse_str):\n",
    "    \"\"\"\n",
    "    Given a verse reference string (either a single verse like \"Genesis 1:1\"\n",
    "    or a range such as \"Genesis 50:25 - Exodus 1:2\"),\n",
    "    return a list of verse references.\n",
    "      - If no '-' is present, returns a single–element list.\n",
    "      - If a '-' is present, returns the list of all verses in the range.\n",
    "    \"\"\"\n",
    "    if '-' in verse_str:\n",
    "        return get_verses_from_range(verse_str)\n",
    "    else:\n",
    "        return [verse_str.strip()]\n",
    "\n",
    "\n",
    "\n",
    "def get_testament_from_verse_list(verse_list):\n",
    "    \"\"\"\n",
    "    Given a list of verse references, return the testament name for the\n",
    "    first (i.e. minimum) verse in that list.\n",
    "    \"\"\"\n",
    "    if verse_list:\n",
    "        first_verse = verse_list[0]\n",
    "        return verse_to_testament.get(first_verse, None)\n",
    "    return None\n",
    "\n",
    "\n",
    "\n",
    "df_kjv_cross_references['verse_ref_source_ls'] = df_kjv_cross_references['verse_ref_source'].apply(get_verse_list)\n",
    "df_kjv_cross_references['verse_ref_target_ls'] = df_kjv_cross_references['verse_ref_target'].apply(get_verse_list)\n",
    "\n",
    "df_kjv_cross_references['testament_name_source'] = df_kjv_cross_references['verse_ref_source_ls'].apply(get_testament_from_verse_list)\n",
    "df_kjv_cross_references['testament_name_target'] = df_kjv_cross_references['verse_ref_target_ls'].apply(get_testament_from_verse_list)"
   ]
  },
  {
   "cell_type": "code",
   "execution_count": 618,
   "metadata": {},
   "outputs": [
    {
     "name": "stdout",
     "output_type": "stream",
     "text": [
      "Empty DataFrame\n",
      "Columns: [verse_ref_source, verse_ref_target, verse_ref_source_ls, verse_ref_target_ls, testament_name_source, testament_name_target]\n",
      "Index: []\n"
     ]
    }
   ],
   "source": [
    "print(df_kjv_cross_references[df_kjv_cross_references[\"verse_ref_source_ls\"].apply(lambda x: len(x) > 1)])"
   ]
  },
  {
   "cell_type": "code",
   "execution_count": 619,
   "metadata": {},
   "outputs": [
    {
     "name": "stdout",
     "output_type": "stream",
     "text": [
      "        verse_ref_source                   verse_ref_target  \\\n",
      "13           Genesis 1:1  Colossians 1:16 - Colossians 1:17   \n",
      "32           Genesis 1:1        Psalms 148:4 - Psalms 148:5   \n",
      "41           Genesis 1:1                John 1:1 - John 1:3   \n",
      "48           Genesis 1:1        Psalms 89:11 - Psalms 89:12   \n",
      "54           Genesis 1:1          Romans 1:19 - Romans 1:20   \n",
      "...                  ...                                ...   \n",
      "344769  Revelation 22:19  Revelation 2:17 - Revelation 2:18   \n",
      "344773  Revelation 22:19    Revelation 3:4 - Revelation 3:5   \n",
      "344778  Revelation 22:19   Revelation 7:9 - Revelation 7:17   \n",
      "344782  Revelation 22:20        2 Peter 3:12 - 2 Peter 3:14   \n",
      "344794  Revelation 22:21    Ephesians 6:23 - Ephesians 6:24   \n",
      "\n",
      "       verse_ref_source_ls                                verse_ref_target_ls  \\\n",
      "13           [Genesis 1:1]                 [Colossians 1:16, Colossians 1:17]   \n",
      "32           [Genesis 1:1]                       [Psalms 148:4, Psalms 148:5]   \n",
      "41           [Genesis 1:1]                     [John 1:1, John 1:2, John 1:3]   \n",
      "48           [Genesis 1:1]                       [Psalms 89:11, Psalms 89:12]   \n",
      "54           [Genesis 1:1]                         [Romans 1:19, Romans 1:20]   \n",
      "...                    ...                                                ...   \n",
      "344769  [Revelation 22:19]                 [Revelation 2:17, Revelation 2:18]   \n",
      "344773  [Revelation 22:19]                   [Revelation 3:4, Revelation 3:5]   \n",
      "344778  [Revelation 22:19]  [Revelation 7:9, Revelation 7:10, Revelation 7...   \n",
      "344782  [Revelation 22:20]         [2 Peter 3:12, 2 Peter 3:13, 2 Peter 3:14]   \n",
      "344794  [Revelation 22:21]                   [Ephesians 6:23, Ephesians 6:24]   \n",
      "\n",
      "       testament_name_source testament_name_target  \n",
      "13             Old Testament         New Testament  \n",
      "32             Old Testament         Old Testament  \n",
      "41             Old Testament         New Testament  \n",
      "48             Old Testament         Old Testament  \n",
      "54             Old Testament         New Testament  \n",
      "...                      ...                   ...  \n",
      "344769         New Testament         New Testament  \n",
      "344773         New Testament         New Testament  \n",
      "344778         New Testament         New Testament  \n",
      "344782         New Testament         New Testament  \n",
      "344794         New Testament         New Testament  \n",
      "\n",
      "[88150 rows x 6 columns]\n"
     ]
    }
   ],
   "source": [
    "print(df_kjv_cross_references[df_kjv_cross_references[\"verse_ref_target_ls\"].apply(lambda x: len(x) > 1)])"
   ]
  },
  {
   "cell_type": "code",
   "execution_count": 620,
   "metadata": {},
   "outputs": [],
   "source": [
    "df_kjv_cross_references = df_kjv_cross_references[[\"testament_name_source\", \n",
    "                                                \"verse_ref_source_ls\",\n",
    "                                                \"testament_name_target\", \n",
    "                                                \"verse_ref_target_ls\"]]"
   ]
  },
  {
   "cell_type": "code",
   "execution_count": 621,
   "metadata": {},
   "outputs": [
    {
     "name": "stdout",
     "output_type": "stream",
     "text": [
      "       testament_name_source verse_ref_source_ls testament_name_target  \\\n",
      "0              Old Testament       [Genesis 1:1]         New Testament   \n",
      "1              Old Testament       [Genesis 1:1]         Old Testament   \n",
      "2              Old Testament       [Genesis 1:1]         Old Testament   \n",
      "3              Old Testament       [Genesis 1:1]         Old Testament   \n",
      "4              Old Testament       [Genesis 1:1]         New Testament   \n",
      "...                      ...                 ...                   ...   \n",
      "344794         New Testament  [Revelation 22:21]         New Testament   \n",
      "344795         New Testament  [Revelation 22:21]         New Testament   \n",
      "344796         New Testament  [Revelation 22:21]         New Testament   \n",
      "344797         New Testament  [Revelation 22:21]         New Testament   \n",
      "344798         New Testament  [Revelation 22:21]         New Testament   \n",
      "\n",
      "                     verse_ref_target_ls  \n",
      "0                           [1 John 1:1]  \n",
      "1                         [Psalms 134:3]  \n",
      "2                        [Psalms 102:25]  \n",
      "3                         [Isaiah 51:16]  \n",
      "4                        [Ephesians 3:9]  \n",
      "...                                  ...  \n",
      "344794  [Ephesians 6:23, Ephesians 6:24]  \n",
      "344795             [2 Corinthians 13:14]  \n",
      "344796            [2 Thessalonians 3:18]  \n",
      "344797                    [Romans 16:20]  \n",
      "344798                      [Romans 1:7]  \n",
      "\n",
      "[344799 rows x 4 columns]\n"
     ]
    }
   ],
   "source": [
    "print(df_kjv_cross_references)"
   ]
  },
  {
   "cell_type": "code",
   "execution_count": 624,
   "metadata": {},
   "outputs": [],
   "source": [
    "# df_kjv_cross_references.to_csv(\"../dataset/kjv_cross_references.csv\", index=False)"
   ]
  }
 ],
 "metadata": {
  "kernelspec": {
   "display_name": "ai",
   "language": "python",
   "name": "python3"
  },
  "language_info": {
   "codemirror_mode": {
    "name": "ipython",
    "version": 3
   },
   "file_extension": ".py",
   "mimetype": "text/x-python",
   "name": "python",
   "nbconvert_exporter": "python",
   "pygments_lexer": "ipython3",
   "version": "3.10.15"
  }
 },
 "nbformat": 4,
 "nbformat_minor": 2
}
