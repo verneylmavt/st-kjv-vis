{
 "cells": [
  {
   "cell_type": "code",
   "execution_count": 1,
   "metadata": {},
   "outputs": [],
   "source": [
    "import numpy as np\n",
    "import pandas as pd\n",
    "import matplotlib.pyplot as plt\n",
    "import seaborn as sns"
   ]
  },
  {
   "cell_type": "code",
   "execution_count": 2,
   "metadata": {},
   "outputs": [],
   "source": [
    "pd.options.display.max_rows = 50"
   ]
  },
  {
   "cell_type": "code",
   "execution_count": 3,
   "metadata": {},
   "outputs": [],
   "source": [
    "df = pd.read_csv(\"../data/kjv.csv\")\n",
    "df = df.astype({col: 'string' for col in df.select_dtypes(include='object').columns})"
   ]
  },
  {
   "cell_type": "code",
   "execution_count": 4,
   "metadata": {},
   "outputs": [
    {
     "name": "stdout",
     "output_type": "stream",
     "text": [
      "version_name string\n",
      "version_abbr string\n",
      "testament_abbr string\n",
      "testament_name string\n",
      "book_name string\n",
      "book_number int64\n",
      "chapter_number int64\n",
      "verse_number int64\n",
      "verse_text string\n"
     ]
    }
   ],
   "source": [
    "for k, v in df.items():\n",
    "    print(k, v.dtype)"
   ]
  },
  {
   "cell_type": "code",
   "execution_count": 5,
   "metadata": {},
   "outputs": [],
   "source": [
    "df.drop(['version_name', 'version_abbr'], axis=1, inplace=True)"
   ]
  },
  {
   "cell_type": "code",
   "execution_count": 6,
   "metadata": {},
   "outputs": [
    {
     "name": "stdout",
     "output_type": "stream",
     "text": [
      "      testament_abbr testament_name     book_name  book_number  \\\n",
      "1520              OT  Old Testament       Genesis            1   \n",
      "30806             NT  New Testament    Revelation           66   \n",
      "2932              OT  Old Testament     Leviticus            3   \n",
      "11068             OT  Old Testament  1 Chronicles           13   \n",
      "15647             OT  Old Testament        Psalms           19   \n",
      "21107             OT  Old Testament       Ezekiel           26   \n",
      "18109             OT  Old Testament        Isaiah           23   \n",
      "13821             OT  Old Testament           Job           18   \n",
      "13488             OT  Old Testament           Job           18   \n",
      "24991             NT  New Testament          Luke           42   \n",
      "\n",
      "       chapter_number  verse_number  \\\n",
      "1520               50            14   \n",
      "30806               6            13   \n",
      "2932                8            15   \n",
      "11068              25            22   \n",
      "15647             105            41   \n",
      "21107              26             7   \n",
      "18109              24            14   \n",
      "13821              38            28   \n",
      "13488              27             7   \n",
      "24991               2            18   \n",
      "\n",
      "                                              verse_text  \n",
      "1520   And Joseph returned into Egypt, he, and his br...  \n",
      "30806  And the stars of heaven fell unto the earth, e...  \n",
      "2932   And he slew it; and Moses took the blood, and ...  \n",
      "11068  The fifteenth to Jeremoth, he, his sons, and h...  \n",
      "15647  He opened the rock, and the waters gushed out;...  \n",
      "21107  For thus saith the Lord GOD; Behold, I will br...  \n",
      "18109  They shall lift up their voice, they shall sin...  \n",
      "13821  Hath the rain a father? or who hath begotten t...  \n",
      "13488  Let mine enemy be as the wicked, and he that r...  \n",
      "24991  And all they that heard it wondered at those t...  \n"
     ]
    }
   ],
   "source": [
    "print(df.sample(n=10, random_state=42))"
   ]
  },
  {
   "cell_type": "code",
   "execution_count": 7,
   "metadata": {},
   "outputs": [
    {
     "name": "stdout",
     "output_type": "stream",
     "text": [
      "       testament_abbr testament_name book_name   book_number  chapter_number  \\\n",
      "count           31102          31102     31102  31102.000000    31102.000000   \n",
      "unique              2              2        66           NaN             NaN   \n",
      "top                OT  Old Testament    Psalms           NaN             NaN   \n",
      "freq            23145          23145      2461           NaN             NaN   \n",
      "mean              NaN            NaN       NaN     22.496142       20.631246   \n",
      "std               NaN            NaN       NaN     16.495843       23.408441   \n",
      "min               NaN            NaN       NaN      1.000000        1.000000   \n",
      "25%               NaN            NaN       NaN      9.000000        6.000000   \n",
      "50%               NaN            NaN       NaN     19.000000       14.000000   \n",
      "75%               NaN            NaN       NaN     40.000000       26.000000   \n",
      "max               NaN            NaN       NaN     66.000000      150.000000   \n",
      "\n",
      "        verse_number                              verse_text  \n",
      "count   31102.000000                                   31102  \n",
      "unique           NaN                                   30833  \n",
      "top              NaN  And the LORD spake unto Moses, saying,  \n",
      "freq             NaN                                      72  \n",
      "mean       17.043373                                     NaN  \n",
      "std        14.075305                                     NaN  \n",
      "min         1.000000                                     NaN  \n",
      "25%         7.000000                                     NaN  \n",
      "50%        14.000000                                     NaN  \n",
      "75%        23.000000                                     NaN  \n",
      "max       176.000000                                     NaN  \n"
     ]
    }
   ],
   "source": [
    "print(df.describe(include='all'))"
   ]
  },
  {
   "cell_type": "code",
   "execution_count": 8,
   "metadata": {},
   "outputs": [],
   "source": [
    "old_testament = [\n",
    "    \"Genesis\", \"Exodus\", \"Leviticus\", \"Numbers\", \"Deuteronomy\",\n",
    "    \"Joshua\", \"Judges\", \"Ruth\", \"1 Samuel\", \"2 Samuel\",\n",
    "    \"1 Kings\", \"2 Kings\", \"1 Chronicles\", \"2 Chronicles\", \"Ezra\",\n",
    "    \"Nehemiah\", \"Esther\", \"Job\", \"Psalms\", \"Proverbs\",\n",
    "    \"Ecclesiastes\", \"Song of Solomon\", \"Isaiah\", \"Jeremiah\", \"Lamentations\",\n",
    "    \"Ezekiel\", \"Daniel\", \"Hosea\", \"Joel\", \"Amos\",\n",
    "    \"Obadiah\", \"Jonah\", \"Micah\", \"Nahum\", \"Habakkuk\",\n",
    "    \"Zephaniah\", \"Haggai\", \"Zechariah\", \"Malachi\"\n",
    "]\n",
    "\n",
    "new_testament = [\n",
    "    \"Matthew\", \"Mark\", \"Luke\", \"John\", \"Acts\",\n",
    "    \"Romans\", \"1 Corinthians\", \"2 Corinthians\", \"Galatians\", \"Ephesians\",\n",
    "    \"Philippians\", \"Colossians\", \"1 Thessalonians\", \"2 Thessalonians\", \"1 Timothy\",\n",
    "    \"2 Timothy\", \"Titus\", \"Philemon\", \"Hebrews\", \"James\",\n",
    "    \"1 Peter\", \"2 Peter\", \"1 John\", \"2 John\", \"3 John\",\n",
    "    \"Jude\", \"Revelation\"\n",
    "]\n",
    "\n",
    "books = old_testament + new_testament"
   ]
  },
  {
   "cell_type": "markdown",
   "metadata": {},
   "source": [
    "### Verses / Book"
   ]
  },
  {
   "cell_type": "code",
   "execution_count": 9,
   "metadata": {},
   "outputs": [],
   "source": [
    "import pandas as pd\n",
    "import altair as alt\n",
    "from IPython.display import display, Markdown"
   ]
  },
  {
   "cell_type": "code",
   "execution_count": 10,
   "metadata": {},
   "outputs": [],
   "source": [
    "df = pd.read_csv(\"../data/kjv.csv\")\n",
    "df = df.astype({col: 'string' for col in df.select_dtypes(include='object').columns})\n",
    "\n",
    "df.drop(['version_name', 'version_abbr'], axis=1, inplace=True)"
   ]
  },
  {
   "cell_type": "code",
   "execution_count": 11,
   "metadata": {},
   "outputs": [],
   "source": [
    "verse_count_per_book = df.groupby(\"book_name\").size().reset_index(name=\"verse_count\")\n",
    "verse_count_per_book.rename(columns={\"book_name\": \"Book\", \"verse_count\": \"# of Verses\"}, inplace=True)"
   ]
  },
  {
   "cell_type": "code",
   "execution_count": 12,
   "metadata": {},
   "outputs": [
    {
     "data": {
      "text/markdown": [
       "### Verses / Book"
      ],
      "text/plain": [
       "<IPython.core.display.Markdown object>"
      ]
     },
     "metadata": {},
     "output_type": "display_data"
    },
    {
     "data": {
      "text/html": [
       "\n",
       "<style>\n",
       "  #altair-viz-fb1268439c9d43079cc5039f96e429e7.vega-embed {\n",
       "    width: 100%;\n",
       "    display: flex;\n",
       "  }\n",
       "\n",
       "  #altair-viz-fb1268439c9d43079cc5039f96e429e7.vega-embed details,\n",
       "  #altair-viz-fb1268439c9d43079cc5039f96e429e7.vega-embed details summary {\n",
       "    position: relative;\n",
       "  }\n",
       "</style>\n",
       "<div id=\"altair-viz-fb1268439c9d43079cc5039f96e429e7\"></div>\n",
       "<script type=\"text/javascript\">\n",
       "  var VEGA_DEBUG = (typeof VEGA_DEBUG == \"undefined\") ? {} : VEGA_DEBUG;\n",
       "  (function(spec, embedOpt){\n",
       "    let outputDiv = document.currentScript.previousElementSibling;\n",
       "    if (outputDiv.id !== \"altair-viz-fb1268439c9d43079cc5039f96e429e7\") {\n",
       "      outputDiv = document.getElementById(\"altair-viz-fb1268439c9d43079cc5039f96e429e7\");\n",
       "    }\n",
       "\n",
       "    const paths = {\n",
       "      \"vega\": \"https://cdn.jsdelivr.net/npm/vega@5?noext\",\n",
       "      \"vega-lib\": \"https://cdn.jsdelivr.net/npm/vega-lib?noext\",\n",
       "      \"vega-lite\": \"https://cdn.jsdelivr.net/npm/vega-lite@5.20.1?noext\",\n",
       "      \"vega-embed\": \"https://cdn.jsdelivr.net/npm/vega-embed@6?noext\",\n",
       "    };\n",
       "\n",
       "    function maybeLoadScript(lib, version) {\n",
       "      var key = `${lib.replace(\"-\", \"\")}_version`;\n",
       "      return (VEGA_DEBUG[key] == version) ?\n",
       "        Promise.resolve(paths[lib]) :\n",
       "        new Promise(function(resolve, reject) {\n",
       "          var s = document.createElement('script');\n",
       "          document.getElementsByTagName(\"head\")[0].appendChild(s);\n",
       "          s.async = true;\n",
       "          s.onload = () => {\n",
       "            VEGA_DEBUG[key] = version;\n",
       "            return resolve(paths[lib]);\n",
       "          };\n",
       "          s.onerror = () => reject(`Error loading script: ${paths[lib]}`);\n",
       "          s.src = paths[lib];\n",
       "        });\n",
       "    }\n",
       "\n",
       "    function showError(err) {\n",
       "      outputDiv.innerHTML = `<div class=\"error\" style=\"color:red;\">${err}</div>`;\n",
       "      throw err;\n",
       "    }\n",
       "\n",
       "    function displayChart(vegaEmbed) {\n",
       "      vegaEmbed(outputDiv, spec, embedOpt)\n",
       "        .catch(err => showError(`Javascript Error: ${err.message}<br>This usually means there's a typo in your chart specification. See the javascript console for the full traceback.`));\n",
       "    }\n",
       "\n",
       "    if(typeof define === \"function\" && define.amd) {\n",
       "      requirejs.config({paths});\n",
       "      let deps = [\"vega-embed\"];\n",
       "      require(deps, displayChart, err => showError(`Error loading script: ${err.message}`));\n",
       "    } else {\n",
       "      maybeLoadScript(\"vega\", \"5\")\n",
       "        .then(() => maybeLoadScript(\"vega-lite\", \"5.20.1\"))\n",
       "        .then(() => maybeLoadScript(\"vega-embed\", \"6\"))\n",
       "        .catch(showError)\n",
       "        .then(() => displayChart(vegaEmbed));\n",
       "    }\n",
       "  })({\"config\": {\"view\": {\"continuousWidth\": 300, \"continuousHeight\": 300}}, \"data\": {\"name\": \"data-a09ac204225fb57dfaee1e4d409df098\"}, \"mark\": {\"type\": \"bar\"}, \"encoding\": {\"tooltip\": [{\"field\": \"Book\", \"type\": \"nominal\"}, {\"field\": \"# of Verses\", \"type\": \"quantitative\"}], \"x\": {\"field\": \"# of Verses\", \"title\": \"# of Verses\", \"type\": \"quantitative\"}, \"y\": {\"field\": \"Book\", \"sort\": [\"Genesis\", \"Exodus\", \"Leviticus\", \"Numbers\", \"Deuteronomy\", \"Joshua\", \"Judges\", \"Ruth\", \"1 Samuel\", \"2 Samuel\", \"1 Kings\", \"2 Kings\", \"1 Chronicles\", \"2 Chronicles\", \"Ezra\", \"Nehemiah\", \"Esther\", \"Job\", \"Psalms\", \"Proverbs\", \"Ecclesiastes\", \"Song of Solomon\", \"Isaiah\", \"Jeremiah\", \"Lamentations\", \"Ezekiel\", \"Daniel\", \"Hosea\", \"Joel\", \"Amos\", \"Obadiah\", \"Jonah\", \"Micah\", \"Nahum\", \"Habakkuk\", \"Zephaniah\", \"Haggai\", \"Zechariah\", \"Malachi\", \"Matthew\", \"Mark\", \"Luke\", \"John\", \"Acts\", \"Romans\", \"1 Corinthians\", \"2 Corinthians\", \"Galatians\", \"Ephesians\", \"Philippians\", \"Colossians\", \"1 Thessalonians\", \"2 Thessalonians\", \"1 Timothy\", \"2 Timothy\", \"Titus\", \"Philemon\", \"Hebrews\", \"James\", \"1 Peter\", \"2 Peter\", \"1 John\", \"2 John\", \"3 John\", \"Jude\", \"Revelation\"], \"title\": \"Book\", \"type\": \"nominal\"}}, \"height\": 1000, \"params\": [{\"name\": \"param_1\", \"select\": {\"type\": \"interval\", \"encodings\": [\"x\", \"y\"]}, \"bind\": \"scales\"}], \"width\": \"container\", \"$schema\": \"https://vega.github.io/schema/vega-lite/v5.20.1.json\", \"datasets\": {\"data-a09ac204225fb57dfaee1e4d409df098\": [{\"Book\": \"1 Chronicles\", \"# of Verses\": 942}, {\"Book\": \"1 Corinthians\", \"# of Verses\": 437}, {\"Book\": \"1 John\", \"# of Verses\": 105}, {\"Book\": \"1 Kings\", \"# of Verses\": 816}, {\"Book\": \"1 Peter\", \"# of Verses\": 105}, {\"Book\": \"1 Samuel\", \"# of Verses\": 810}, {\"Book\": \"1 Thessalonians\", \"# of Verses\": 89}, {\"Book\": \"1 Timothy\", \"# of Verses\": 113}, {\"Book\": \"2 Chronicles\", \"# of Verses\": 822}, {\"Book\": \"2 Corinthians\", \"# of Verses\": 257}, {\"Book\": \"2 John\", \"# of Verses\": 13}, {\"Book\": \"2 Kings\", \"# of Verses\": 719}, {\"Book\": \"2 Peter\", \"# of Verses\": 61}, {\"Book\": \"2 Samuel\", \"# of Verses\": 695}, {\"Book\": \"2 Thessalonians\", \"# of Verses\": 47}, {\"Book\": \"2 Timothy\", \"# of Verses\": 83}, {\"Book\": \"3 John\", \"# of Verses\": 14}, {\"Book\": \"Acts\", \"# of Verses\": 1007}, {\"Book\": \"Amos\", \"# of Verses\": 146}, {\"Book\": \"Colossians\", \"# of Verses\": 95}, {\"Book\": \"Daniel\", \"# of Verses\": 357}, {\"Book\": \"Deuteronomy\", \"# of Verses\": 959}, {\"Book\": \"Ecclesiastes\", \"# of Verses\": 222}, {\"Book\": \"Ephesians\", \"# of Verses\": 155}, {\"Book\": \"Esther\", \"# of Verses\": 167}, {\"Book\": \"Exodus\", \"# of Verses\": 1213}, {\"Book\": \"Ezekiel\", \"# of Verses\": 1273}, {\"Book\": \"Ezra\", \"# of Verses\": 280}, {\"Book\": \"Galatians\", \"# of Verses\": 149}, {\"Book\": \"Genesis\", \"# of Verses\": 1533}, {\"Book\": \"Habakkuk\", \"# of Verses\": 56}, {\"Book\": \"Haggai\", \"# of Verses\": 38}, {\"Book\": \"Hebrews\", \"# of Verses\": 303}, {\"Book\": \"Hosea\", \"# of Verses\": 197}, {\"Book\": \"Isaiah\", \"# of Verses\": 1292}, {\"Book\": \"James\", \"# of Verses\": 108}, {\"Book\": \"Jeremiah\", \"# of Verses\": 1364}, {\"Book\": \"Job\", \"# of Verses\": 1070}, {\"Book\": \"Joel\", \"# of Verses\": 73}, {\"Book\": \"John\", \"# of Verses\": 879}, {\"Book\": \"Jonah\", \"# of Verses\": 48}, {\"Book\": \"Joshua\", \"# of Verses\": 658}, {\"Book\": \"Jude\", \"# of Verses\": 25}, {\"Book\": \"Judges\", \"# of Verses\": 618}, {\"Book\": \"Lamentations\", \"# of Verses\": 154}, {\"Book\": \"Leviticus\", \"# of Verses\": 859}, {\"Book\": \"Luke\", \"# of Verses\": 1151}, {\"Book\": \"Malachi\", \"# of Verses\": 55}, {\"Book\": \"Mark\", \"# of Verses\": 678}, {\"Book\": \"Matthew\", \"# of Verses\": 1071}, {\"Book\": \"Micah\", \"# of Verses\": 105}, {\"Book\": \"Nahum\", \"# of Verses\": 47}, {\"Book\": \"Nehemiah\", \"# of Verses\": 406}, {\"Book\": \"Numbers\", \"# of Verses\": 1288}, {\"Book\": \"Obadiah\", \"# of Verses\": 21}, {\"Book\": \"Philemon\", \"# of Verses\": 25}, {\"Book\": \"Philippians\", \"# of Verses\": 104}, {\"Book\": \"Proverbs\", \"# of Verses\": 915}, {\"Book\": \"Psalms\", \"# of Verses\": 2461}, {\"Book\": \"Revelation\", \"# of Verses\": 404}, {\"Book\": \"Romans\", \"# of Verses\": 433}, {\"Book\": \"Ruth\", \"# of Verses\": 85}, {\"Book\": \"Song of Solomon\", \"# of Verses\": 117}, {\"Book\": \"Titus\", \"# of Verses\": 46}, {\"Book\": \"Zechariah\", \"# of Verses\": 211}, {\"Book\": \"Zephaniah\", \"# of Verses\": 53}]}}, {\"mode\": \"vega-lite\"});\n",
       "</script>"
      ],
      "text/plain": [
       "alt.Chart(...)"
      ]
     },
     "metadata": {},
     "output_type": "display_data"
    }
   ],
   "source": [
    "display(Markdown(f\"### Verses / Book\"))\n",
    "\n",
    "chart_verse_count = (\n",
    "    alt.Chart(verse_count_per_book)\n",
    "    .mark_bar()\n",
    "    .encode(\n",
    "        x=alt.X(\"# of Verses:Q\", title=\"# of Verses\"),\n",
    "        y=alt.Y(\"Book:N\", sort=books, title=\"Book\"),\n",
    "        tooltip=[\"Book\", \"# of Verses\"],\n",
    "    )\n",
    "    .properties(\n",
    "                # title=\"# of Verses per Book\",\n",
    "                width='container',\n",
    "                height=1000)\n",
    "    .interactive()\n",
    ")\n",
    "display(chart_verse_count)"
   ]
  },
  {
   "cell_type": "markdown",
   "metadata": {},
   "source": [
    "### Chapters / Book"
   ]
  },
  {
   "cell_type": "code",
   "execution_count": 13,
   "metadata": {},
   "outputs": [],
   "source": [
    "import pandas as pd\n",
    "import altair as alt\n",
    "from IPython.display import display, Markdown"
   ]
  },
  {
   "cell_type": "code",
   "execution_count": 14,
   "metadata": {},
   "outputs": [],
   "source": [
    "df = pd.read_csv(\"../data/kjv.csv\")\n",
    "df = df.astype({col: 'string' for col in df.select_dtypes(include='object').columns})\n",
    "\n",
    "df.drop(['version_name', 'version_abbr'], axis=1, inplace=True)"
   ]
  },
  {
   "cell_type": "code",
   "execution_count": 15,
   "metadata": {},
   "outputs": [],
   "source": [
    "chapter_count_per_book = df.groupby(\"book_name\")[\"chapter_number\"].max().reset_index()\n",
    "chapter_count_per_book.rename(columns={\"book_name\": \"Book\", \"chapter_number\": \"# of Chapters\"}, inplace=True)"
   ]
  },
  {
   "cell_type": "code",
   "execution_count": 16,
   "metadata": {},
   "outputs": [
    {
     "data": {
      "text/markdown": [
       "### Chapters / Book"
      ],
      "text/plain": [
       "<IPython.core.display.Markdown object>"
      ]
     },
     "metadata": {},
     "output_type": "display_data"
    },
    {
     "data": {
      "text/html": [
       "\n",
       "<style>\n",
       "  #altair-viz-13556836965d47bcab630274a73574f9.vega-embed {\n",
       "    width: 100%;\n",
       "    display: flex;\n",
       "  }\n",
       "\n",
       "  #altair-viz-13556836965d47bcab630274a73574f9.vega-embed details,\n",
       "  #altair-viz-13556836965d47bcab630274a73574f9.vega-embed details summary {\n",
       "    position: relative;\n",
       "  }\n",
       "</style>\n",
       "<div id=\"altair-viz-13556836965d47bcab630274a73574f9\"></div>\n",
       "<script type=\"text/javascript\">\n",
       "  var VEGA_DEBUG = (typeof VEGA_DEBUG == \"undefined\") ? {} : VEGA_DEBUG;\n",
       "  (function(spec, embedOpt){\n",
       "    let outputDiv = document.currentScript.previousElementSibling;\n",
       "    if (outputDiv.id !== \"altair-viz-13556836965d47bcab630274a73574f9\") {\n",
       "      outputDiv = document.getElementById(\"altair-viz-13556836965d47bcab630274a73574f9\");\n",
       "    }\n",
       "\n",
       "    const paths = {\n",
       "      \"vega\": \"https://cdn.jsdelivr.net/npm/vega@5?noext\",\n",
       "      \"vega-lib\": \"https://cdn.jsdelivr.net/npm/vega-lib?noext\",\n",
       "      \"vega-lite\": \"https://cdn.jsdelivr.net/npm/vega-lite@5.20.1?noext\",\n",
       "      \"vega-embed\": \"https://cdn.jsdelivr.net/npm/vega-embed@6?noext\",\n",
       "    };\n",
       "\n",
       "    function maybeLoadScript(lib, version) {\n",
       "      var key = `${lib.replace(\"-\", \"\")}_version`;\n",
       "      return (VEGA_DEBUG[key] == version) ?\n",
       "        Promise.resolve(paths[lib]) :\n",
       "        new Promise(function(resolve, reject) {\n",
       "          var s = document.createElement('script');\n",
       "          document.getElementsByTagName(\"head\")[0].appendChild(s);\n",
       "          s.async = true;\n",
       "          s.onload = () => {\n",
       "            VEGA_DEBUG[key] = version;\n",
       "            return resolve(paths[lib]);\n",
       "          };\n",
       "          s.onerror = () => reject(`Error loading script: ${paths[lib]}`);\n",
       "          s.src = paths[lib];\n",
       "        });\n",
       "    }\n",
       "\n",
       "    function showError(err) {\n",
       "      outputDiv.innerHTML = `<div class=\"error\" style=\"color:red;\">${err}</div>`;\n",
       "      throw err;\n",
       "    }\n",
       "\n",
       "    function displayChart(vegaEmbed) {\n",
       "      vegaEmbed(outputDiv, spec, embedOpt)\n",
       "        .catch(err => showError(`Javascript Error: ${err.message}<br>This usually means there's a typo in your chart specification. See the javascript console for the full traceback.`));\n",
       "    }\n",
       "\n",
       "    if(typeof define === \"function\" && define.amd) {\n",
       "      requirejs.config({paths});\n",
       "      let deps = [\"vega-embed\"];\n",
       "      require(deps, displayChart, err => showError(`Error loading script: ${err.message}`));\n",
       "    } else {\n",
       "      maybeLoadScript(\"vega\", \"5\")\n",
       "        .then(() => maybeLoadScript(\"vega-lite\", \"5.20.1\"))\n",
       "        .then(() => maybeLoadScript(\"vega-embed\", \"6\"))\n",
       "        .catch(showError)\n",
       "        .then(() => displayChart(vegaEmbed));\n",
       "    }\n",
       "  })({\"config\": {\"view\": {\"continuousWidth\": 300, \"continuousHeight\": 300}}, \"data\": {\"name\": \"data-ec59bb1e0afb5be272239902a4fa4b60\"}, \"mark\": {\"type\": \"bar\"}, \"encoding\": {\"tooltip\": [{\"field\": \"Book\", \"type\": \"nominal\"}, {\"field\": \"# of Chapters\", \"type\": \"quantitative\"}], \"x\": {\"field\": \"# of Chapters\", \"title\": \"# of Chapters\", \"type\": \"quantitative\"}, \"y\": {\"field\": \"Book\", \"sort\": [\"Genesis\", \"Exodus\", \"Leviticus\", \"Numbers\", \"Deuteronomy\", \"Joshua\", \"Judges\", \"Ruth\", \"1 Samuel\", \"2 Samuel\", \"1 Kings\", \"2 Kings\", \"1 Chronicles\", \"2 Chronicles\", \"Ezra\", \"Nehemiah\", \"Esther\", \"Job\", \"Psalms\", \"Proverbs\", \"Ecclesiastes\", \"Song of Solomon\", \"Isaiah\", \"Jeremiah\", \"Lamentations\", \"Ezekiel\", \"Daniel\", \"Hosea\", \"Joel\", \"Amos\", \"Obadiah\", \"Jonah\", \"Micah\", \"Nahum\", \"Habakkuk\", \"Zephaniah\", \"Haggai\", \"Zechariah\", \"Malachi\", \"Matthew\", \"Mark\", \"Luke\", \"John\", \"Acts\", \"Romans\", \"1 Corinthians\", \"2 Corinthians\", \"Galatians\", \"Ephesians\", \"Philippians\", \"Colossians\", \"1 Thessalonians\", \"2 Thessalonians\", \"1 Timothy\", \"2 Timothy\", \"Titus\", \"Philemon\", \"Hebrews\", \"James\", \"1 Peter\", \"2 Peter\", \"1 John\", \"2 John\", \"3 John\", \"Jude\", \"Revelation\"], \"title\": \"Book\", \"type\": \"nominal\"}}, \"height\": 1000, \"params\": [{\"name\": \"param_2\", \"select\": {\"type\": \"interval\", \"encodings\": [\"x\", \"y\"]}, \"bind\": \"scales\"}], \"width\": \"container\", \"$schema\": \"https://vega.github.io/schema/vega-lite/v5.20.1.json\", \"datasets\": {\"data-ec59bb1e0afb5be272239902a4fa4b60\": [{\"Book\": \"1 Chronicles\", \"# of Chapters\": 29}, {\"Book\": \"1 Corinthians\", \"# of Chapters\": 16}, {\"Book\": \"1 John\", \"# of Chapters\": 5}, {\"Book\": \"1 Kings\", \"# of Chapters\": 22}, {\"Book\": \"1 Peter\", \"# of Chapters\": 5}, {\"Book\": \"1 Samuel\", \"# of Chapters\": 31}, {\"Book\": \"1 Thessalonians\", \"# of Chapters\": 5}, {\"Book\": \"1 Timothy\", \"# of Chapters\": 6}, {\"Book\": \"2 Chronicles\", \"# of Chapters\": 36}, {\"Book\": \"2 Corinthians\", \"# of Chapters\": 13}, {\"Book\": \"2 John\", \"# of Chapters\": 1}, {\"Book\": \"2 Kings\", \"# of Chapters\": 25}, {\"Book\": \"2 Peter\", \"# of Chapters\": 3}, {\"Book\": \"2 Samuel\", \"# of Chapters\": 24}, {\"Book\": \"2 Thessalonians\", \"# of Chapters\": 3}, {\"Book\": \"2 Timothy\", \"# of Chapters\": 4}, {\"Book\": \"3 John\", \"# of Chapters\": 1}, {\"Book\": \"Acts\", \"# of Chapters\": 28}, {\"Book\": \"Amos\", \"# of Chapters\": 9}, {\"Book\": \"Colossians\", \"# of Chapters\": 4}, {\"Book\": \"Daniel\", \"# of Chapters\": 12}, {\"Book\": \"Deuteronomy\", \"# of Chapters\": 34}, {\"Book\": \"Ecclesiastes\", \"# of Chapters\": 12}, {\"Book\": \"Ephesians\", \"# of Chapters\": 6}, {\"Book\": \"Esther\", \"# of Chapters\": 10}, {\"Book\": \"Exodus\", \"# of Chapters\": 40}, {\"Book\": \"Ezekiel\", \"# of Chapters\": 48}, {\"Book\": \"Ezra\", \"# of Chapters\": 10}, {\"Book\": \"Galatians\", \"# of Chapters\": 6}, {\"Book\": \"Genesis\", \"# of Chapters\": 50}, {\"Book\": \"Habakkuk\", \"# of Chapters\": 3}, {\"Book\": \"Haggai\", \"# of Chapters\": 2}, {\"Book\": \"Hebrews\", \"# of Chapters\": 13}, {\"Book\": \"Hosea\", \"# of Chapters\": 14}, {\"Book\": \"Isaiah\", \"# of Chapters\": 66}, {\"Book\": \"James\", \"# of Chapters\": 5}, {\"Book\": \"Jeremiah\", \"# of Chapters\": 52}, {\"Book\": \"Job\", \"# of Chapters\": 42}, {\"Book\": \"Joel\", \"# of Chapters\": 3}, {\"Book\": \"John\", \"# of Chapters\": 21}, {\"Book\": \"Jonah\", \"# of Chapters\": 4}, {\"Book\": \"Joshua\", \"# of Chapters\": 24}, {\"Book\": \"Jude\", \"# of Chapters\": 1}, {\"Book\": \"Judges\", \"# of Chapters\": 21}, {\"Book\": \"Lamentations\", \"# of Chapters\": 5}, {\"Book\": \"Leviticus\", \"# of Chapters\": 27}, {\"Book\": \"Luke\", \"# of Chapters\": 24}, {\"Book\": \"Malachi\", \"# of Chapters\": 4}, {\"Book\": \"Mark\", \"# of Chapters\": 16}, {\"Book\": \"Matthew\", \"# of Chapters\": 28}, {\"Book\": \"Micah\", \"# of Chapters\": 7}, {\"Book\": \"Nahum\", \"# of Chapters\": 3}, {\"Book\": \"Nehemiah\", \"# of Chapters\": 13}, {\"Book\": \"Numbers\", \"# of Chapters\": 36}, {\"Book\": \"Obadiah\", \"# of Chapters\": 1}, {\"Book\": \"Philemon\", \"# of Chapters\": 1}, {\"Book\": \"Philippians\", \"# of Chapters\": 4}, {\"Book\": \"Proverbs\", \"# of Chapters\": 31}, {\"Book\": \"Psalms\", \"# of Chapters\": 150}, {\"Book\": \"Revelation\", \"# of Chapters\": 22}, {\"Book\": \"Romans\", \"# of Chapters\": 16}, {\"Book\": \"Ruth\", \"# of Chapters\": 4}, {\"Book\": \"Song of Solomon\", \"# of Chapters\": 8}, {\"Book\": \"Titus\", \"# of Chapters\": 3}, {\"Book\": \"Zechariah\", \"# of Chapters\": 14}, {\"Book\": \"Zephaniah\", \"# of Chapters\": 3}]}}, {\"mode\": \"vega-lite\"});\n",
       "</script>"
      ],
      "text/plain": [
       "alt.Chart(...)"
      ]
     },
     "metadata": {},
     "output_type": "display_data"
    }
   ],
   "source": [
    "display(Markdown(f\"### Chapters / Book\"))\n",
    "\n",
    "chart_chapter_count = (\n",
    "    alt.Chart(chapter_count_per_book)\n",
    "    .mark_bar()\n",
    "    .encode(\n",
    "        x=alt.X(\"# of Chapters:Q\", title=\"# of Chapters\"),\n",
    "        y=alt.Y(\"Book:N\", sort=books, title=\"Book\"),\n",
    "        tooltip=[\"Book\", \"# of Chapters\"],\n",
    "    )\n",
    "    .properties(\n",
    "                # title=\"# of Chapters per Book\",\n",
    "                width='container',\n",
    "                height=1000)\n",
    "    .interactive()\n",
    ")\n",
    "display(chart_chapter_count)"
   ]
  },
  {
   "cell_type": "markdown",
   "metadata": {},
   "source": [
    "### Verses / Chapter"
   ]
  },
  {
   "cell_type": "code",
   "execution_count": 17,
   "metadata": {},
   "outputs": [],
   "source": [
    "import pandas as pd\n",
    "import altair as alt\n",
    "from IPython.display import display, Markdown"
   ]
  },
  {
   "cell_type": "code",
   "execution_count": 18,
   "metadata": {},
   "outputs": [],
   "source": [
    "df = pd.read_csv(\"../data/kjv.csv\")\n",
    "df = df.astype({col: 'string' for col in df.select_dtypes(include='object').columns})\n",
    "\n",
    "df.drop(['version_name', 'version_abbr'], axis=1, inplace=True)"
   ]
  },
  {
   "cell_type": "code",
   "execution_count": 19,
   "metadata": {},
   "outputs": [],
   "source": [
    "chapter_verse_counts = df.groupby([\"book_name\", \"chapter_number\"]).size().reset_index(name=\"verse_count\")\n",
    "chapter_verse_counts.rename(columns={\"book_name\": \"Book\", \"chapter_number\": \"Chapter\", \"verse_count\": \"# of Verses\"}, inplace=True)"
   ]
  },
  {
   "cell_type": "code",
   "execution_count": 20,
   "metadata": {},
   "outputs": [
    {
     "data": {
      "text/html": [
       "\n",
       "<style>\n",
       "  #altair-viz-551147e0cd4848a7838b7f468c6e11db.vega-embed {\n",
       "    width: 100%;\n",
       "    display: flex;\n",
       "  }\n",
       "\n",
       "  #altair-viz-551147e0cd4848a7838b7f468c6e11db.vega-embed details,\n",
       "  #altair-viz-551147e0cd4848a7838b7f468c6e11db.vega-embed details summary {\n",
       "    position: relative;\n",
       "  }\n",
       "</style>\n",
       "<div id=\"altair-viz-551147e0cd4848a7838b7f468c6e11db\"></div>\n",
       "<script type=\"text/javascript\">\n",
       "  var VEGA_DEBUG = (typeof VEGA_DEBUG == \"undefined\") ? {} : VEGA_DEBUG;\n",
       "  (function(spec, embedOpt){\n",
       "    let outputDiv = document.currentScript.previousElementSibling;\n",
       "    if (outputDiv.id !== \"altair-viz-551147e0cd4848a7838b7f468c6e11db\") {\n",
       "      outputDiv = document.getElementById(\"altair-viz-551147e0cd4848a7838b7f468c6e11db\");\n",
       "    }\n",
       "\n",
       "    const paths = {\n",
       "      \"vega\": \"https://cdn.jsdelivr.net/npm/vega@5?noext\",\n",
       "      \"vega-lib\": \"https://cdn.jsdelivr.net/npm/vega-lib?noext\",\n",
       "      \"vega-lite\": \"https://cdn.jsdelivr.net/npm/vega-lite@5.20.1?noext\",\n",
       "      \"vega-embed\": \"https://cdn.jsdelivr.net/npm/vega-embed@6?noext\",\n",
       "    };\n",
       "\n",
       "    function maybeLoadScript(lib, version) {\n",
       "      var key = `${lib.replace(\"-\", \"\")}_version`;\n",
       "      return (VEGA_DEBUG[key] == version) ?\n",
       "        Promise.resolve(paths[lib]) :\n",
       "        new Promise(function(resolve, reject) {\n",
       "          var s = document.createElement('script');\n",
       "          document.getElementsByTagName(\"head\")[0].appendChild(s);\n",
       "          s.async = true;\n",
       "          s.onload = () => {\n",
       "            VEGA_DEBUG[key] = version;\n",
       "            return resolve(paths[lib]);\n",
       "          };\n",
       "          s.onerror = () => reject(`Error loading script: ${paths[lib]}`);\n",
       "          s.src = paths[lib];\n",
       "        });\n",
       "    }\n",
       "\n",
       "    function showError(err) {\n",
       "      outputDiv.innerHTML = `<div class=\"error\" style=\"color:red;\">${err}</div>`;\n",
       "      throw err;\n",
       "    }\n",
       "\n",
       "    function displayChart(vegaEmbed) {\n",
       "      vegaEmbed(outputDiv, spec, embedOpt)\n",
       "        .catch(err => showError(`Javascript Error: ${err.message}<br>This usually means there's a typo in your chart specification. See the javascript console for the full traceback.`));\n",
       "    }\n",
       "\n",
       "    if(typeof define === \"function\" && define.amd) {\n",
       "      requirejs.config({paths});\n",
       "      let deps = [\"vega-embed\"];\n",
       "      require(deps, displayChart, err => showError(`Error loading script: ${err.message}`));\n",
       "    } else {\n",
       "      maybeLoadScript(\"vega\", \"5\")\n",
       "        .then(() => maybeLoadScript(\"vega-lite\", \"5.20.1\"))\n",
       "        .then(() => maybeLoadScript(\"vega-embed\", \"6\"))\n",
       "        .catch(showError)\n",
       "        .then(() => displayChart(vegaEmbed));\n",
       "    }\n",
       "  })({\"config\": {\"view\": {\"continuousWidth\": 300, \"continuousHeight\": 300}}, \"data\": {\"name\": \"data-2e3300ddd96762ad01699db7725c3fa4\"}, \"mark\": {\"type\": \"rect\"}, \"encoding\": {\"color\": {\"field\": \"# of Verses\", \"scale\": {\"scheme\": \"blues\"}, \"title\": \"# of Verses\", \"type\": \"quantitative\"}, \"tooltip\": [{\"field\": \"Book\", \"type\": \"nominal\"}, {\"field\": \"Chapter\", \"type\": \"quantitative\"}, {\"field\": \"# of Verses\", \"type\": \"quantitative\"}], \"x\": {\"field\": \"Chapter\", \"title\": \"Chapter\", \"type\": \"ordinal\"}, \"y\": {\"field\": \"Book\", \"sort\": [\"Genesis\", \"Exodus\", \"Leviticus\", \"Numbers\", \"Deuteronomy\", \"Joshua\", \"Judges\", \"Ruth\", \"1 Samuel\", \"2 Samuel\", \"1 Kings\", \"2 Kings\", \"1 Chronicles\", \"2 Chronicles\", \"Ezra\", \"Nehemiah\", \"Esther\", \"Job\", \"Psalms\", \"Proverbs\", \"Ecclesiastes\", \"Song of Solomon\", \"Isaiah\", \"Jeremiah\", \"Lamentations\", \"Ezekiel\", \"Daniel\", \"Hosea\", \"Joel\", \"Amos\", \"Obadiah\", \"Jonah\", \"Micah\", \"Nahum\", \"Habakkuk\", \"Zephaniah\", \"Haggai\", \"Zechariah\", \"Malachi\", \"Matthew\", \"Mark\", \"Luke\", \"John\", \"Acts\", \"Romans\", \"1 Corinthians\", \"2 Corinthians\", \"Galatians\", \"Ephesians\", \"Philippians\", \"Colossians\", \"1 Thessalonians\", \"2 Thessalonians\", \"1 Timothy\", \"2 Timothy\", \"Titus\", \"Philemon\", \"Hebrews\", \"James\", \"1 Peter\", \"2 Peter\", \"1 John\", \"2 John\", \"3 John\", \"Jude\", \"Revelation\"], \"title\": \"Book\", \"type\": \"nominal\"}}, \"height\": 1000, \"params\": [{\"name\": \"param_3\", \"select\": {\"type\": \"interval\", \"encodings\": [\"x\", \"y\"]}, \"bind\": \"scales\"}], \"width\": \"container\", \"$schema\": \"https://vega.github.io/schema/vega-lite/v5.20.1.json\", \"datasets\": {\"data-2e3300ddd96762ad01699db7725c3fa4\": [{\"Book\": \"1 Chronicles\", \"Chapter\": 1, \"# of Verses\": 54}, {\"Book\": \"1 Chronicles\", \"Chapter\": 2, \"# of Verses\": 55}, {\"Book\": \"1 Chronicles\", \"Chapter\": 3, \"# of Verses\": 24}, {\"Book\": \"1 Chronicles\", \"Chapter\": 4, \"# of Verses\": 43}, {\"Book\": \"1 Chronicles\", \"Chapter\": 5, \"# of Verses\": 26}, {\"Book\": \"1 Chronicles\", \"Chapter\": 6, \"# of Verses\": 81}, {\"Book\": \"1 Chronicles\", \"Chapter\": 7, \"# of Verses\": 40}, {\"Book\": \"1 Chronicles\", \"Chapter\": 8, \"# of Verses\": 40}, {\"Book\": \"1 Chronicles\", \"Chapter\": 9, \"# of Verses\": 44}, {\"Book\": \"1 Chronicles\", \"Chapter\": 10, \"# of Verses\": 14}, {\"Book\": \"1 Chronicles\", \"Chapter\": 11, \"# of Verses\": 47}, {\"Book\": \"1 Chronicles\", \"Chapter\": 12, \"# of Verses\": 40}, {\"Book\": \"1 Chronicles\", \"Chapter\": 13, \"# of Verses\": 14}, {\"Book\": \"1 Chronicles\", \"Chapter\": 14, \"# of Verses\": 17}, {\"Book\": \"1 Chronicles\", \"Chapter\": 15, \"# of Verses\": 29}, {\"Book\": \"1 Chronicles\", \"Chapter\": 16, \"# of Verses\": 43}, {\"Book\": \"1 Chronicles\", \"Chapter\": 17, \"# of Verses\": 27}, {\"Book\": \"1 Chronicles\", \"Chapter\": 18, \"# of Verses\": 17}, {\"Book\": \"1 Chronicles\", \"Chapter\": 19, \"# of Verses\": 19}, {\"Book\": \"1 Chronicles\", \"Chapter\": 20, \"# of Verses\": 8}, {\"Book\": \"1 Chronicles\", \"Chapter\": 21, \"# of Verses\": 30}, {\"Book\": \"1 Chronicles\", \"Chapter\": 22, \"# of Verses\": 19}, {\"Book\": \"1 Chronicles\", \"Chapter\": 23, \"# of Verses\": 32}, {\"Book\": \"1 Chronicles\", \"Chapter\": 24, \"# of Verses\": 31}, {\"Book\": \"1 Chronicles\", \"Chapter\": 25, \"# of Verses\": 31}, {\"Book\": \"1 Chronicles\", \"Chapter\": 26, \"# of Verses\": 32}, {\"Book\": \"1 Chronicles\", \"Chapter\": 27, \"# of Verses\": 34}, {\"Book\": \"1 Chronicles\", \"Chapter\": 28, \"# of Verses\": 21}, {\"Book\": \"1 Chronicles\", \"Chapter\": 29, \"# of Verses\": 30}, {\"Book\": \"1 Corinthians\", \"Chapter\": 1, \"# of Verses\": 31}, {\"Book\": \"1 Corinthians\", \"Chapter\": 2, \"# of Verses\": 16}, {\"Book\": \"1 Corinthians\", \"Chapter\": 3, \"# of Verses\": 23}, {\"Book\": \"1 Corinthians\", \"Chapter\": 4, \"# of Verses\": 21}, {\"Book\": \"1 Corinthians\", \"Chapter\": 5, \"# of Verses\": 13}, {\"Book\": \"1 Corinthians\", \"Chapter\": 6, \"# of Verses\": 20}, {\"Book\": \"1 Corinthians\", \"Chapter\": 7, \"# of Verses\": 40}, {\"Book\": \"1 Corinthians\", \"Chapter\": 8, \"# of Verses\": 13}, {\"Book\": \"1 Corinthians\", \"Chapter\": 9, \"# of Verses\": 27}, {\"Book\": \"1 Corinthians\", \"Chapter\": 10, \"# of Verses\": 33}, {\"Book\": \"1 Corinthians\", \"Chapter\": 11, \"# of Verses\": 34}, {\"Book\": \"1 Corinthians\", \"Chapter\": 12, \"# of Verses\": 31}, {\"Book\": \"1 Corinthians\", \"Chapter\": 13, \"# of Verses\": 13}, {\"Book\": \"1 Corinthians\", \"Chapter\": 14, \"# of Verses\": 40}, {\"Book\": \"1 Corinthians\", \"Chapter\": 15, \"# of Verses\": 58}, {\"Book\": \"1 Corinthians\", \"Chapter\": 16, \"# of Verses\": 24}, {\"Book\": \"1 John\", \"Chapter\": 1, \"# of Verses\": 10}, {\"Book\": \"1 John\", \"Chapter\": 2, \"# of Verses\": 29}, {\"Book\": \"1 John\", \"Chapter\": 3, \"# of Verses\": 24}, {\"Book\": \"1 John\", \"Chapter\": 4, \"# of Verses\": 21}, {\"Book\": \"1 John\", \"Chapter\": 5, \"# of Verses\": 21}, {\"Book\": \"1 Kings\", \"Chapter\": 1, \"# of Verses\": 53}, {\"Book\": \"1 Kings\", \"Chapter\": 2, \"# of Verses\": 46}, {\"Book\": \"1 Kings\", \"Chapter\": 3, \"# of Verses\": 28}, {\"Book\": \"1 Kings\", \"Chapter\": 4, \"# of Verses\": 34}, {\"Book\": \"1 Kings\", \"Chapter\": 5, \"# of Verses\": 18}, {\"Book\": \"1 Kings\", \"Chapter\": 6, \"# of Verses\": 38}, {\"Book\": \"1 Kings\", \"Chapter\": 7, \"# of Verses\": 51}, {\"Book\": \"1 Kings\", \"Chapter\": 8, \"# of Verses\": 66}, {\"Book\": \"1 Kings\", \"Chapter\": 9, \"# of Verses\": 28}, {\"Book\": \"1 Kings\", \"Chapter\": 10, \"# of Verses\": 29}, {\"Book\": \"1 Kings\", \"Chapter\": 11, \"# of Verses\": 43}, {\"Book\": \"1 Kings\", \"Chapter\": 12, \"# of Verses\": 33}, {\"Book\": \"1 Kings\", \"Chapter\": 13, \"# of Verses\": 34}, {\"Book\": \"1 Kings\", \"Chapter\": 14, \"# of Verses\": 31}, {\"Book\": \"1 Kings\", \"Chapter\": 15, \"# of Verses\": 34}, {\"Book\": \"1 Kings\", \"Chapter\": 16, \"# of Verses\": 34}, {\"Book\": \"1 Kings\", \"Chapter\": 17, \"# of Verses\": 24}, {\"Book\": \"1 Kings\", \"Chapter\": 18, \"# of Verses\": 46}, {\"Book\": \"1 Kings\", \"Chapter\": 19, \"# of Verses\": 21}, {\"Book\": \"1 Kings\", \"Chapter\": 20, \"# of Verses\": 43}, {\"Book\": \"1 Kings\", \"Chapter\": 21, \"# of Verses\": 29}, {\"Book\": \"1 Kings\", \"Chapter\": 22, \"# of Verses\": 53}, {\"Book\": \"1 Peter\", \"Chapter\": 1, \"# of Verses\": 25}, {\"Book\": \"1 Peter\", \"Chapter\": 2, \"# of Verses\": 25}, {\"Book\": \"1 Peter\", \"Chapter\": 3, \"# of Verses\": 22}, {\"Book\": \"1 Peter\", \"Chapter\": 4, \"# of Verses\": 19}, {\"Book\": \"1 Peter\", \"Chapter\": 5, \"# of Verses\": 14}, {\"Book\": \"1 Samuel\", \"Chapter\": 1, \"# of Verses\": 28}, {\"Book\": \"1 Samuel\", \"Chapter\": 2, \"# of Verses\": 36}, {\"Book\": \"1 Samuel\", \"Chapter\": 3, \"# of Verses\": 21}, {\"Book\": \"1 Samuel\", \"Chapter\": 4, \"# of Verses\": 22}, {\"Book\": \"1 Samuel\", \"Chapter\": 5, \"# of Verses\": 12}, {\"Book\": \"1 Samuel\", \"Chapter\": 6, \"# of Verses\": 21}, {\"Book\": \"1 Samuel\", \"Chapter\": 7, \"# of Verses\": 17}, {\"Book\": \"1 Samuel\", \"Chapter\": 8, \"# of Verses\": 22}, {\"Book\": \"1 Samuel\", \"Chapter\": 9, \"# of Verses\": 27}, {\"Book\": \"1 Samuel\", \"Chapter\": 10, \"# of Verses\": 27}, {\"Book\": \"1 Samuel\", \"Chapter\": 11, \"# of Verses\": 15}, {\"Book\": \"1 Samuel\", \"Chapter\": 12, \"# of Verses\": 25}, {\"Book\": \"1 Samuel\", \"Chapter\": 13, \"# of Verses\": 23}, {\"Book\": \"1 Samuel\", \"Chapter\": 14, \"# of Verses\": 52}, {\"Book\": \"1 Samuel\", \"Chapter\": 15, \"# of Verses\": 35}, {\"Book\": \"1 Samuel\", \"Chapter\": 16, \"# of Verses\": 23}, {\"Book\": \"1 Samuel\", \"Chapter\": 17, \"# of Verses\": 58}, {\"Book\": \"1 Samuel\", \"Chapter\": 18, \"# of Verses\": 30}, {\"Book\": \"1 Samuel\", \"Chapter\": 19, \"# of Verses\": 24}, {\"Book\": \"1 Samuel\", \"Chapter\": 20, \"# of Verses\": 42}, {\"Book\": \"1 Samuel\", \"Chapter\": 21, \"# of Verses\": 15}, {\"Book\": \"1 Samuel\", \"Chapter\": 22, \"# of Verses\": 23}, {\"Book\": \"1 Samuel\", \"Chapter\": 23, \"# of Verses\": 29}, {\"Book\": \"1 Samuel\", \"Chapter\": 24, \"# of Verses\": 22}, {\"Book\": \"1 Samuel\", \"Chapter\": 25, \"# of Verses\": 44}, {\"Book\": \"1 Samuel\", \"Chapter\": 26, \"# of Verses\": 25}, {\"Book\": \"1 Samuel\", \"Chapter\": 27, \"# of Verses\": 12}, {\"Book\": \"1 Samuel\", \"Chapter\": 28, \"# of Verses\": 25}, {\"Book\": \"1 Samuel\", \"Chapter\": 29, \"# of Verses\": 11}, {\"Book\": \"1 Samuel\", \"Chapter\": 30, \"# of Verses\": 31}, {\"Book\": \"1 Samuel\", \"Chapter\": 31, \"# of Verses\": 13}, {\"Book\": \"1 Thessalonians\", \"Chapter\": 1, \"# of Verses\": 10}, {\"Book\": \"1 Thessalonians\", \"Chapter\": 2, \"# of Verses\": 20}, {\"Book\": \"1 Thessalonians\", \"Chapter\": 3, \"# of Verses\": 13}, {\"Book\": \"1 Thessalonians\", \"Chapter\": 4, \"# of Verses\": 18}, {\"Book\": \"1 Thessalonians\", \"Chapter\": 5, \"# of Verses\": 28}, {\"Book\": \"1 Timothy\", \"Chapter\": 1, \"# of Verses\": 20}, {\"Book\": \"1 Timothy\", \"Chapter\": 2, \"# of Verses\": 15}, {\"Book\": \"1 Timothy\", \"Chapter\": 3, \"# of Verses\": 16}, {\"Book\": \"1 Timothy\", \"Chapter\": 4, \"# of Verses\": 16}, {\"Book\": \"1 Timothy\", \"Chapter\": 5, \"# of Verses\": 25}, {\"Book\": \"1 Timothy\", \"Chapter\": 6, \"# of Verses\": 21}, {\"Book\": \"2 Chronicles\", \"Chapter\": 1, \"# of Verses\": 17}, {\"Book\": \"2 Chronicles\", \"Chapter\": 2, \"# of Verses\": 18}, {\"Book\": \"2 Chronicles\", \"Chapter\": 3, \"# of Verses\": 17}, {\"Book\": \"2 Chronicles\", \"Chapter\": 4, \"# of Verses\": 22}, {\"Book\": \"2 Chronicles\", \"Chapter\": 5, \"# of Verses\": 14}, {\"Book\": \"2 Chronicles\", \"Chapter\": 6, \"# of Verses\": 42}, {\"Book\": \"2 Chronicles\", \"Chapter\": 7, \"# of Verses\": 22}, {\"Book\": \"2 Chronicles\", \"Chapter\": 8, \"# of Verses\": 18}, {\"Book\": \"2 Chronicles\", \"Chapter\": 9, \"# of Verses\": 31}, {\"Book\": \"2 Chronicles\", \"Chapter\": 10, \"# of Verses\": 19}, {\"Book\": \"2 Chronicles\", \"Chapter\": 11, \"# of Verses\": 23}, {\"Book\": \"2 Chronicles\", \"Chapter\": 12, \"# of Verses\": 16}, {\"Book\": \"2 Chronicles\", \"Chapter\": 13, \"# of Verses\": 22}, {\"Book\": \"2 Chronicles\", \"Chapter\": 14, \"# of Verses\": 15}, {\"Book\": \"2 Chronicles\", \"Chapter\": 15, \"# of Verses\": 19}, {\"Book\": \"2 Chronicles\", \"Chapter\": 16, \"# of Verses\": 14}, {\"Book\": \"2 Chronicles\", \"Chapter\": 17, \"# of Verses\": 19}, {\"Book\": \"2 Chronicles\", \"Chapter\": 18, \"# of Verses\": 34}, {\"Book\": \"2 Chronicles\", \"Chapter\": 19, \"# of Verses\": 11}, {\"Book\": \"2 Chronicles\", \"Chapter\": 20, \"# of Verses\": 37}, {\"Book\": \"2 Chronicles\", \"Chapter\": 21, \"# of Verses\": 20}, {\"Book\": \"2 Chronicles\", \"Chapter\": 22, \"# of Verses\": 12}, {\"Book\": \"2 Chronicles\", \"Chapter\": 23, \"# of Verses\": 21}, {\"Book\": \"2 Chronicles\", \"Chapter\": 24, \"# of Verses\": 27}, {\"Book\": \"2 Chronicles\", \"Chapter\": 25, \"# of Verses\": 28}, {\"Book\": \"2 Chronicles\", \"Chapter\": 26, \"# of Verses\": 23}, {\"Book\": \"2 Chronicles\", \"Chapter\": 27, \"# of Verses\": 9}, {\"Book\": \"2 Chronicles\", \"Chapter\": 28, \"# of Verses\": 27}, {\"Book\": \"2 Chronicles\", \"Chapter\": 29, \"# of Verses\": 36}, {\"Book\": \"2 Chronicles\", \"Chapter\": 30, \"# of Verses\": 27}, {\"Book\": \"2 Chronicles\", \"Chapter\": 31, \"# of Verses\": 21}, {\"Book\": \"2 Chronicles\", \"Chapter\": 32, \"# of Verses\": 33}, {\"Book\": \"2 Chronicles\", \"Chapter\": 33, \"# of Verses\": 25}, {\"Book\": \"2 Chronicles\", \"Chapter\": 34, \"# of Verses\": 33}, {\"Book\": \"2 Chronicles\", \"Chapter\": 35, \"# of Verses\": 27}, {\"Book\": \"2 Chronicles\", \"Chapter\": 36, \"# of Verses\": 23}, {\"Book\": \"2 Corinthians\", \"Chapter\": 1, \"# of Verses\": 24}, {\"Book\": \"2 Corinthians\", \"Chapter\": 2, \"# of Verses\": 17}, {\"Book\": \"2 Corinthians\", \"Chapter\": 3, \"# of Verses\": 18}, {\"Book\": \"2 Corinthians\", \"Chapter\": 4, \"# of Verses\": 18}, {\"Book\": \"2 Corinthians\", \"Chapter\": 5, \"# of Verses\": 21}, {\"Book\": \"2 Corinthians\", \"Chapter\": 6, \"# of Verses\": 18}, {\"Book\": \"2 Corinthians\", \"Chapter\": 7, \"# of Verses\": 16}, {\"Book\": \"2 Corinthians\", \"Chapter\": 8, \"# of Verses\": 24}, {\"Book\": \"2 Corinthians\", \"Chapter\": 9, \"# of Verses\": 15}, {\"Book\": \"2 Corinthians\", \"Chapter\": 10, \"# of Verses\": 18}, {\"Book\": \"2 Corinthians\", \"Chapter\": 11, \"# of Verses\": 33}, {\"Book\": \"2 Corinthians\", \"Chapter\": 12, \"# of Verses\": 21}, {\"Book\": \"2 Corinthians\", \"Chapter\": 13, \"# of Verses\": 14}, {\"Book\": \"2 John\", \"Chapter\": 1, \"# of Verses\": 13}, {\"Book\": \"2 Kings\", \"Chapter\": 1, \"# of Verses\": 18}, {\"Book\": \"2 Kings\", \"Chapter\": 2, \"# of Verses\": 25}, {\"Book\": \"2 Kings\", \"Chapter\": 3, \"# of Verses\": 27}, {\"Book\": \"2 Kings\", \"Chapter\": 4, \"# of Verses\": 44}, {\"Book\": \"2 Kings\", \"Chapter\": 5, \"# of Verses\": 27}, {\"Book\": \"2 Kings\", \"Chapter\": 6, \"# of Verses\": 33}, {\"Book\": \"2 Kings\", \"Chapter\": 7, \"# of Verses\": 20}, {\"Book\": \"2 Kings\", \"Chapter\": 8, \"# of Verses\": 29}, {\"Book\": \"2 Kings\", \"Chapter\": 9, \"# of Verses\": 37}, {\"Book\": \"2 Kings\", \"Chapter\": 10, \"# of Verses\": 36}, {\"Book\": \"2 Kings\", \"Chapter\": 11, \"# of Verses\": 21}, {\"Book\": \"2 Kings\", \"Chapter\": 12, \"# of Verses\": 21}, {\"Book\": \"2 Kings\", \"Chapter\": 13, \"# of Verses\": 25}, {\"Book\": \"2 Kings\", \"Chapter\": 14, \"# of Verses\": 29}, {\"Book\": \"2 Kings\", \"Chapter\": 15, \"# of Verses\": 38}, {\"Book\": \"2 Kings\", \"Chapter\": 16, \"# of Verses\": 20}, {\"Book\": \"2 Kings\", \"Chapter\": 17, \"# of Verses\": 41}, {\"Book\": \"2 Kings\", \"Chapter\": 18, \"# of Verses\": 37}, {\"Book\": \"2 Kings\", \"Chapter\": 19, \"# of Verses\": 37}, {\"Book\": \"2 Kings\", \"Chapter\": 20, \"# of Verses\": 21}, {\"Book\": \"2 Kings\", \"Chapter\": 21, \"# of Verses\": 26}, {\"Book\": \"2 Kings\", \"Chapter\": 22, \"# of Verses\": 20}, {\"Book\": \"2 Kings\", \"Chapter\": 23, \"# of Verses\": 37}, {\"Book\": \"2 Kings\", \"Chapter\": 24, \"# of Verses\": 20}, {\"Book\": \"2 Kings\", \"Chapter\": 25, \"# of Verses\": 30}, {\"Book\": \"2 Peter\", \"Chapter\": 1, \"# of Verses\": 21}, {\"Book\": \"2 Peter\", \"Chapter\": 2, \"# of Verses\": 22}, {\"Book\": \"2 Peter\", \"Chapter\": 3, \"# of Verses\": 18}, {\"Book\": \"2 Samuel\", \"Chapter\": 1, \"# of Verses\": 27}, {\"Book\": \"2 Samuel\", \"Chapter\": 2, \"# of Verses\": 32}, {\"Book\": \"2 Samuel\", \"Chapter\": 3, \"# of Verses\": 39}, {\"Book\": \"2 Samuel\", \"Chapter\": 4, \"# of Verses\": 12}, {\"Book\": \"2 Samuel\", \"Chapter\": 5, \"# of Verses\": 25}, {\"Book\": \"2 Samuel\", \"Chapter\": 6, \"# of Verses\": 23}, {\"Book\": \"2 Samuel\", \"Chapter\": 7, \"# of Verses\": 29}, {\"Book\": \"2 Samuel\", \"Chapter\": 8, \"# of Verses\": 18}, {\"Book\": \"2 Samuel\", \"Chapter\": 9, \"# of Verses\": 13}, {\"Book\": \"2 Samuel\", \"Chapter\": 10, \"# of Verses\": 19}, {\"Book\": \"2 Samuel\", \"Chapter\": 11, \"# of Verses\": 27}, {\"Book\": \"2 Samuel\", \"Chapter\": 12, \"# of Verses\": 31}, {\"Book\": \"2 Samuel\", \"Chapter\": 13, \"# of Verses\": 39}, {\"Book\": \"2 Samuel\", \"Chapter\": 14, \"# of Verses\": 33}, {\"Book\": \"2 Samuel\", \"Chapter\": 15, \"# of Verses\": 37}, {\"Book\": \"2 Samuel\", \"Chapter\": 16, \"# of Verses\": 23}, {\"Book\": \"2 Samuel\", \"Chapter\": 17, \"# of Verses\": 29}, {\"Book\": \"2 Samuel\", \"Chapter\": 18, \"# of Verses\": 33}, {\"Book\": \"2 Samuel\", \"Chapter\": 19, \"# of Verses\": 43}, {\"Book\": \"2 Samuel\", \"Chapter\": 20, \"# of Verses\": 26}, {\"Book\": \"2 Samuel\", \"Chapter\": 21, \"# of Verses\": 22}, {\"Book\": \"2 Samuel\", \"Chapter\": 22, \"# of Verses\": 51}, {\"Book\": \"2 Samuel\", \"Chapter\": 23, \"# of Verses\": 39}, {\"Book\": \"2 Samuel\", \"Chapter\": 24, \"# of Verses\": 25}, {\"Book\": \"2 Thessalonians\", \"Chapter\": 1, \"# of Verses\": 12}, {\"Book\": \"2 Thessalonians\", \"Chapter\": 2, \"# of Verses\": 17}, {\"Book\": \"2 Thessalonians\", \"Chapter\": 3, \"# of Verses\": 18}, {\"Book\": \"2 Timothy\", \"Chapter\": 1, \"# of Verses\": 18}, {\"Book\": \"2 Timothy\", \"Chapter\": 2, \"# of Verses\": 26}, {\"Book\": \"2 Timothy\", \"Chapter\": 3, \"# of Verses\": 17}, {\"Book\": \"2 Timothy\", \"Chapter\": 4, \"# of Verses\": 22}, {\"Book\": \"3 John\", \"Chapter\": 1, \"# of Verses\": 14}, {\"Book\": \"Acts\", \"Chapter\": 1, \"# of Verses\": 26}, {\"Book\": \"Acts\", \"Chapter\": 2, \"# of Verses\": 47}, {\"Book\": \"Acts\", \"Chapter\": 3, \"# of Verses\": 26}, {\"Book\": \"Acts\", \"Chapter\": 4, \"# of Verses\": 37}, {\"Book\": \"Acts\", \"Chapter\": 5, \"# of Verses\": 42}, {\"Book\": \"Acts\", \"Chapter\": 6, \"# of Verses\": 15}, {\"Book\": \"Acts\", \"Chapter\": 7, \"# of Verses\": 60}, {\"Book\": \"Acts\", \"Chapter\": 8, \"# of Verses\": 40}, {\"Book\": \"Acts\", \"Chapter\": 9, \"# of Verses\": 43}, {\"Book\": \"Acts\", \"Chapter\": 10, \"# of Verses\": 48}, {\"Book\": \"Acts\", \"Chapter\": 11, \"# of Verses\": 30}, {\"Book\": \"Acts\", \"Chapter\": 12, \"# of Verses\": 25}, {\"Book\": \"Acts\", \"Chapter\": 13, \"# of Verses\": 52}, {\"Book\": \"Acts\", \"Chapter\": 14, \"# of Verses\": 28}, {\"Book\": \"Acts\", \"Chapter\": 15, \"# of Verses\": 41}, {\"Book\": \"Acts\", \"Chapter\": 16, \"# of Verses\": 40}, {\"Book\": \"Acts\", \"Chapter\": 17, \"# of Verses\": 34}, {\"Book\": \"Acts\", \"Chapter\": 18, \"# of Verses\": 28}, {\"Book\": \"Acts\", \"Chapter\": 19, \"# of Verses\": 41}, {\"Book\": \"Acts\", \"Chapter\": 20, \"# of Verses\": 38}, {\"Book\": \"Acts\", \"Chapter\": 21, \"# of Verses\": 40}, {\"Book\": \"Acts\", \"Chapter\": 22, \"# of Verses\": 30}, {\"Book\": \"Acts\", \"Chapter\": 23, \"# of Verses\": 35}, {\"Book\": \"Acts\", \"Chapter\": 24, \"# of Verses\": 27}, {\"Book\": \"Acts\", \"Chapter\": 25, \"# of Verses\": 27}, {\"Book\": \"Acts\", \"Chapter\": 26, \"# of Verses\": 32}, {\"Book\": \"Acts\", \"Chapter\": 27, \"# of Verses\": 44}, {\"Book\": \"Acts\", \"Chapter\": 28, \"# of Verses\": 31}, {\"Book\": \"Amos\", \"Chapter\": 1, \"# of Verses\": 15}, {\"Book\": \"Amos\", \"Chapter\": 2, \"# of Verses\": 16}, {\"Book\": \"Amos\", \"Chapter\": 3, \"# of Verses\": 15}, {\"Book\": \"Amos\", \"Chapter\": 4, \"# of Verses\": 13}, {\"Book\": \"Amos\", \"Chapter\": 5, \"# of Verses\": 27}, {\"Book\": \"Amos\", \"Chapter\": 6, \"# of Verses\": 14}, {\"Book\": \"Amos\", \"Chapter\": 7, \"# of Verses\": 17}, {\"Book\": \"Amos\", \"Chapter\": 8, \"# of Verses\": 14}, {\"Book\": \"Amos\", \"Chapter\": 9, \"# of Verses\": 15}, {\"Book\": \"Colossians\", \"Chapter\": 1, \"# of Verses\": 29}, {\"Book\": \"Colossians\", \"Chapter\": 2, \"# of Verses\": 23}, {\"Book\": \"Colossians\", \"Chapter\": 3, \"# of Verses\": 25}, {\"Book\": \"Colossians\", \"Chapter\": 4, \"# of Verses\": 18}, {\"Book\": \"Daniel\", \"Chapter\": 1, \"# of Verses\": 21}, {\"Book\": \"Daniel\", \"Chapter\": 2, \"# of Verses\": 49}, {\"Book\": \"Daniel\", \"Chapter\": 3, \"# of Verses\": 30}, {\"Book\": \"Daniel\", \"Chapter\": 4, \"# of Verses\": 37}, {\"Book\": \"Daniel\", \"Chapter\": 5, \"# of Verses\": 31}, {\"Book\": \"Daniel\", \"Chapter\": 6, \"# of Verses\": 28}, {\"Book\": \"Daniel\", \"Chapter\": 7, \"# of Verses\": 28}, {\"Book\": \"Daniel\", \"Chapter\": 8, \"# of Verses\": 27}, {\"Book\": \"Daniel\", \"Chapter\": 9, \"# of Verses\": 27}, {\"Book\": \"Daniel\", \"Chapter\": 10, \"# of Verses\": 21}, {\"Book\": \"Daniel\", \"Chapter\": 11, \"# of Verses\": 45}, {\"Book\": \"Daniel\", \"Chapter\": 12, \"# of Verses\": 13}, {\"Book\": \"Deuteronomy\", \"Chapter\": 1, \"# of Verses\": 46}, {\"Book\": \"Deuteronomy\", \"Chapter\": 2, \"# of Verses\": 37}, {\"Book\": \"Deuteronomy\", \"Chapter\": 3, \"# of Verses\": 29}, {\"Book\": \"Deuteronomy\", \"Chapter\": 4, \"# of Verses\": 49}, {\"Book\": \"Deuteronomy\", \"Chapter\": 5, \"# of Verses\": 33}, {\"Book\": \"Deuteronomy\", \"Chapter\": 6, \"# of Verses\": 25}, {\"Book\": \"Deuteronomy\", \"Chapter\": 7, \"# of Verses\": 26}, {\"Book\": \"Deuteronomy\", \"Chapter\": 8, \"# of Verses\": 20}, {\"Book\": \"Deuteronomy\", \"Chapter\": 9, \"# of Verses\": 29}, {\"Book\": \"Deuteronomy\", \"Chapter\": 10, \"# of Verses\": 22}, {\"Book\": \"Deuteronomy\", \"Chapter\": 11, \"# of Verses\": 32}, {\"Book\": \"Deuteronomy\", \"Chapter\": 12, \"# of Verses\": 32}, {\"Book\": \"Deuteronomy\", \"Chapter\": 13, \"# of Verses\": 18}, {\"Book\": \"Deuteronomy\", \"Chapter\": 14, \"# of Verses\": 29}, {\"Book\": \"Deuteronomy\", \"Chapter\": 15, \"# of Verses\": 23}, {\"Book\": \"Deuteronomy\", \"Chapter\": 16, \"# of Verses\": 22}, {\"Book\": \"Deuteronomy\", \"Chapter\": 17, \"# of Verses\": 20}, {\"Book\": \"Deuteronomy\", \"Chapter\": 18, \"# of Verses\": 22}, {\"Book\": \"Deuteronomy\", \"Chapter\": 19, \"# of Verses\": 21}, {\"Book\": \"Deuteronomy\", \"Chapter\": 20, \"# of Verses\": 20}, {\"Book\": \"Deuteronomy\", \"Chapter\": 21, \"# of Verses\": 23}, {\"Book\": \"Deuteronomy\", \"Chapter\": 22, \"# of Verses\": 30}, {\"Book\": \"Deuteronomy\", \"Chapter\": 23, \"# of Verses\": 25}, {\"Book\": \"Deuteronomy\", \"Chapter\": 24, \"# of Verses\": 22}, {\"Book\": \"Deuteronomy\", \"Chapter\": 25, \"# of Verses\": 19}, {\"Book\": \"Deuteronomy\", \"Chapter\": 26, \"# of Verses\": 19}, {\"Book\": \"Deuteronomy\", \"Chapter\": 27, \"# of Verses\": 26}, {\"Book\": \"Deuteronomy\", \"Chapter\": 28, \"# of Verses\": 68}, {\"Book\": \"Deuteronomy\", \"Chapter\": 29, \"# of Verses\": 29}, {\"Book\": \"Deuteronomy\", \"Chapter\": 30, \"# of Verses\": 20}, {\"Book\": \"Deuteronomy\", \"Chapter\": 31, \"# of Verses\": 30}, {\"Book\": \"Deuteronomy\", \"Chapter\": 32, \"# of Verses\": 52}, {\"Book\": \"Deuteronomy\", \"Chapter\": 33, \"# of Verses\": 29}, {\"Book\": \"Deuteronomy\", \"Chapter\": 34, \"# of Verses\": 12}, {\"Book\": \"Ecclesiastes\", \"Chapter\": 1, \"# of Verses\": 18}, {\"Book\": \"Ecclesiastes\", \"Chapter\": 2, \"# of Verses\": 26}, {\"Book\": \"Ecclesiastes\", \"Chapter\": 3, \"# of Verses\": 22}, {\"Book\": \"Ecclesiastes\", \"Chapter\": 4, \"# of Verses\": 16}, {\"Book\": \"Ecclesiastes\", \"Chapter\": 5, \"# of Verses\": 20}, {\"Book\": \"Ecclesiastes\", \"Chapter\": 6, \"# of Verses\": 12}, {\"Book\": \"Ecclesiastes\", \"Chapter\": 7, \"# of Verses\": 29}, {\"Book\": \"Ecclesiastes\", \"Chapter\": 8, \"# of Verses\": 17}, {\"Book\": \"Ecclesiastes\", \"Chapter\": 9, \"# of Verses\": 18}, {\"Book\": \"Ecclesiastes\", \"Chapter\": 10, \"# of Verses\": 20}, {\"Book\": \"Ecclesiastes\", \"Chapter\": 11, \"# of Verses\": 10}, {\"Book\": \"Ecclesiastes\", \"Chapter\": 12, \"# of Verses\": 14}, {\"Book\": \"Ephesians\", \"Chapter\": 1, \"# of Verses\": 23}, {\"Book\": \"Ephesians\", \"Chapter\": 2, \"# of Verses\": 22}, {\"Book\": \"Ephesians\", \"Chapter\": 3, \"# of Verses\": 21}, {\"Book\": \"Ephesians\", \"Chapter\": 4, \"# of Verses\": 32}, {\"Book\": \"Ephesians\", \"Chapter\": 5, \"# of Verses\": 33}, {\"Book\": \"Ephesians\", \"Chapter\": 6, \"# of Verses\": 24}, {\"Book\": \"Esther\", \"Chapter\": 1, \"# of Verses\": 22}, {\"Book\": \"Esther\", \"Chapter\": 2, \"# of Verses\": 23}, {\"Book\": \"Esther\", \"Chapter\": 3, \"# of Verses\": 15}, {\"Book\": \"Esther\", \"Chapter\": 4, \"# of Verses\": 17}, {\"Book\": \"Esther\", \"Chapter\": 5, \"# of Verses\": 14}, {\"Book\": \"Esther\", \"Chapter\": 6, \"# of Verses\": 14}, {\"Book\": \"Esther\", \"Chapter\": 7, \"# of Verses\": 10}, {\"Book\": \"Esther\", \"Chapter\": 8, \"# of Verses\": 17}, {\"Book\": \"Esther\", \"Chapter\": 9, \"# of Verses\": 32}, {\"Book\": \"Esther\", \"Chapter\": 10, \"# of Verses\": 3}, {\"Book\": \"Exodus\", \"Chapter\": 1, \"# of Verses\": 22}, {\"Book\": \"Exodus\", \"Chapter\": 2, \"# of Verses\": 25}, {\"Book\": \"Exodus\", \"Chapter\": 3, \"# of Verses\": 22}, {\"Book\": \"Exodus\", \"Chapter\": 4, \"# of Verses\": 31}, {\"Book\": \"Exodus\", \"Chapter\": 5, \"# of Verses\": 23}, {\"Book\": \"Exodus\", \"Chapter\": 6, \"# of Verses\": 30}, {\"Book\": \"Exodus\", \"Chapter\": 7, \"# of Verses\": 25}, {\"Book\": \"Exodus\", \"Chapter\": 8, \"# of Verses\": 32}, {\"Book\": \"Exodus\", \"Chapter\": 9, \"# of Verses\": 35}, {\"Book\": \"Exodus\", \"Chapter\": 10, \"# of Verses\": 29}, {\"Book\": \"Exodus\", \"Chapter\": 11, \"# of Verses\": 10}, {\"Book\": \"Exodus\", \"Chapter\": 12, \"# of Verses\": 51}, {\"Book\": \"Exodus\", \"Chapter\": 13, \"# of Verses\": 22}, {\"Book\": \"Exodus\", \"Chapter\": 14, \"# of Verses\": 31}, {\"Book\": \"Exodus\", \"Chapter\": 15, \"# of Verses\": 27}, {\"Book\": \"Exodus\", \"Chapter\": 16, \"# of Verses\": 36}, {\"Book\": \"Exodus\", \"Chapter\": 17, \"# of Verses\": 16}, {\"Book\": \"Exodus\", \"Chapter\": 18, \"# of Verses\": 27}, {\"Book\": \"Exodus\", \"Chapter\": 19, \"# of Verses\": 25}, {\"Book\": \"Exodus\", \"Chapter\": 20, \"# of Verses\": 26}, {\"Book\": \"Exodus\", \"Chapter\": 21, \"# of Verses\": 36}, {\"Book\": \"Exodus\", \"Chapter\": 22, \"# of Verses\": 31}, {\"Book\": \"Exodus\", \"Chapter\": 23, \"# of Verses\": 33}, {\"Book\": \"Exodus\", \"Chapter\": 24, \"# of Verses\": 18}, {\"Book\": \"Exodus\", \"Chapter\": 25, \"# of Verses\": 40}, {\"Book\": \"Exodus\", \"Chapter\": 26, \"# of Verses\": 37}, {\"Book\": \"Exodus\", \"Chapter\": 27, \"# of Verses\": 21}, {\"Book\": \"Exodus\", \"Chapter\": 28, \"# of Verses\": 43}, {\"Book\": \"Exodus\", \"Chapter\": 29, \"# of Verses\": 46}, {\"Book\": \"Exodus\", \"Chapter\": 30, \"# of Verses\": 38}, {\"Book\": \"Exodus\", \"Chapter\": 31, \"# of Verses\": 18}, {\"Book\": \"Exodus\", \"Chapter\": 32, \"# of Verses\": 35}, {\"Book\": \"Exodus\", \"Chapter\": 33, \"# of Verses\": 23}, {\"Book\": \"Exodus\", \"Chapter\": 34, \"# of Verses\": 35}, {\"Book\": \"Exodus\", \"Chapter\": 35, \"# of Verses\": 35}, {\"Book\": \"Exodus\", \"Chapter\": 36, \"# of Verses\": 38}, {\"Book\": \"Exodus\", \"Chapter\": 37, \"# of Verses\": 29}, {\"Book\": \"Exodus\", \"Chapter\": 38, \"# of Verses\": 31}, {\"Book\": \"Exodus\", \"Chapter\": 39, \"# of Verses\": 43}, {\"Book\": \"Exodus\", \"Chapter\": 40, \"# of Verses\": 38}, {\"Book\": \"Ezekiel\", \"Chapter\": 1, \"# of Verses\": 28}, {\"Book\": \"Ezekiel\", \"Chapter\": 2, \"# of Verses\": 10}, {\"Book\": \"Ezekiel\", \"Chapter\": 3, \"# of Verses\": 27}, {\"Book\": \"Ezekiel\", \"Chapter\": 4, \"# of Verses\": 17}, {\"Book\": \"Ezekiel\", \"Chapter\": 5, \"# of Verses\": 17}, {\"Book\": \"Ezekiel\", \"Chapter\": 6, \"# of Verses\": 14}, {\"Book\": \"Ezekiel\", \"Chapter\": 7, \"# of Verses\": 27}, {\"Book\": \"Ezekiel\", \"Chapter\": 8, \"# of Verses\": 18}, {\"Book\": \"Ezekiel\", \"Chapter\": 9, \"# of Verses\": 11}, {\"Book\": \"Ezekiel\", \"Chapter\": 10, \"# of Verses\": 22}, {\"Book\": \"Ezekiel\", \"Chapter\": 11, \"# of Verses\": 25}, {\"Book\": \"Ezekiel\", \"Chapter\": 12, \"# of Verses\": 28}, {\"Book\": \"Ezekiel\", \"Chapter\": 13, \"# of Verses\": 23}, {\"Book\": \"Ezekiel\", \"Chapter\": 14, \"# of Verses\": 23}, {\"Book\": \"Ezekiel\", \"Chapter\": 15, \"# of Verses\": 8}, {\"Book\": \"Ezekiel\", \"Chapter\": 16, \"# of Verses\": 63}, {\"Book\": \"Ezekiel\", \"Chapter\": 17, \"# of Verses\": 24}, {\"Book\": \"Ezekiel\", \"Chapter\": 18, \"# of Verses\": 32}, {\"Book\": \"Ezekiel\", \"Chapter\": 19, \"# of Verses\": 14}, {\"Book\": \"Ezekiel\", \"Chapter\": 20, \"# of Verses\": 49}, {\"Book\": \"Ezekiel\", \"Chapter\": 21, \"# of Verses\": 32}, {\"Book\": \"Ezekiel\", \"Chapter\": 22, \"# of Verses\": 31}, {\"Book\": \"Ezekiel\", \"Chapter\": 23, \"# of Verses\": 49}, {\"Book\": \"Ezekiel\", \"Chapter\": 24, \"# of Verses\": 27}, {\"Book\": \"Ezekiel\", \"Chapter\": 25, \"# of Verses\": 17}, {\"Book\": \"Ezekiel\", \"Chapter\": 26, \"# of Verses\": 21}, {\"Book\": \"Ezekiel\", \"Chapter\": 27, \"# of Verses\": 36}, {\"Book\": \"Ezekiel\", \"Chapter\": 28, \"# of Verses\": 26}, {\"Book\": \"Ezekiel\", \"Chapter\": 29, \"# of Verses\": 21}, {\"Book\": \"Ezekiel\", \"Chapter\": 30, \"# of Verses\": 26}, {\"Book\": \"Ezekiel\", \"Chapter\": 31, \"# of Verses\": 18}, {\"Book\": \"Ezekiel\", \"Chapter\": 32, \"# of Verses\": 32}, {\"Book\": \"Ezekiel\", \"Chapter\": 33, \"# of Verses\": 33}, {\"Book\": \"Ezekiel\", \"Chapter\": 34, \"# of Verses\": 31}, {\"Book\": \"Ezekiel\", \"Chapter\": 35, \"# of Verses\": 15}, {\"Book\": \"Ezekiel\", \"Chapter\": 36, \"# of Verses\": 38}, {\"Book\": \"Ezekiel\", \"Chapter\": 37, \"# of Verses\": 28}, {\"Book\": \"Ezekiel\", \"Chapter\": 38, \"# of Verses\": 23}, {\"Book\": \"Ezekiel\", \"Chapter\": 39, \"# of Verses\": 29}, {\"Book\": \"Ezekiel\", \"Chapter\": 40, \"# of Verses\": 49}, {\"Book\": \"Ezekiel\", \"Chapter\": 41, \"# of Verses\": 26}, {\"Book\": \"Ezekiel\", \"Chapter\": 42, \"# of Verses\": 20}, {\"Book\": \"Ezekiel\", \"Chapter\": 43, \"# of Verses\": 27}, {\"Book\": \"Ezekiel\", \"Chapter\": 44, \"# of Verses\": 31}, {\"Book\": \"Ezekiel\", \"Chapter\": 45, \"# of Verses\": 25}, {\"Book\": \"Ezekiel\", \"Chapter\": 46, \"# of Verses\": 24}, {\"Book\": \"Ezekiel\", \"Chapter\": 47, \"# of Verses\": 23}, {\"Book\": \"Ezekiel\", \"Chapter\": 48, \"# of Verses\": 35}, {\"Book\": \"Ezra\", \"Chapter\": 1, \"# of Verses\": 11}, {\"Book\": \"Ezra\", \"Chapter\": 2, \"# of Verses\": 70}, {\"Book\": \"Ezra\", \"Chapter\": 3, \"# of Verses\": 13}, {\"Book\": \"Ezra\", \"Chapter\": 4, \"# of Verses\": 24}, {\"Book\": \"Ezra\", \"Chapter\": 5, \"# of Verses\": 17}, {\"Book\": \"Ezra\", \"Chapter\": 6, \"# of Verses\": 22}, {\"Book\": \"Ezra\", \"Chapter\": 7, \"# of Verses\": 28}, {\"Book\": \"Ezra\", \"Chapter\": 8, \"# of Verses\": 36}, {\"Book\": \"Ezra\", \"Chapter\": 9, \"# of Verses\": 15}, {\"Book\": \"Ezra\", \"Chapter\": 10, \"# of Verses\": 44}, {\"Book\": \"Galatians\", \"Chapter\": 1, \"# of Verses\": 24}, {\"Book\": \"Galatians\", \"Chapter\": 2, \"# of Verses\": 21}, {\"Book\": \"Galatians\", \"Chapter\": 3, \"# of Verses\": 29}, {\"Book\": \"Galatians\", \"Chapter\": 4, \"# of Verses\": 31}, {\"Book\": \"Galatians\", \"Chapter\": 5, \"# of Verses\": 26}, {\"Book\": \"Galatians\", \"Chapter\": 6, \"# of Verses\": 18}, {\"Book\": \"Genesis\", \"Chapter\": 1, \"# of Verses\": 31}, {\"Book\": \"Genesis\", \"Chapter\": 2, \"# of Verses\": 25}, {\"Book\": \"Genesis\", \"Chapter\": 3, \"# of Verses\": 24}, {\"Book\": \"Genesis\", \"Chapter\": 4, \"# of Verses\": 26}, {\"Book\": \"Genesis\", \"Chapter\": 5, \"# of Verses\": 32}, {\"Book\": \"Genesis\", \"Chapter\": 6, \"# of Verses\": 22}, {\"Book\": \"Genesis\", \"Chapter\": 7, \"# of Verses\": 24}, {\"Book\": \"Genesis\", \"Chapter\": 8, \"# of Verses\": 22}, {\"Book\": \"Genesis\", \"Chapter\": 9, \"# of Verses\": 29}, {\"Book\": \"Genesis\", \"Chapter\": 10, \"# of Verses\": 32}, {\"Book\": \"Genesis\", \"Chapter\": 11, \"# of Verses\": 32}, {\"Book\": \"Genesis\", \"Chapter\": 12, \"# of Verses\": 20}, {\"Book\": \"Genesis\", \"Chapter\": 13, \"# of Verses\": 18}, {\"Book\": \"Genesis\", \"Chapter\": 14, \"# of Verses\": 24}, {\"Book\": \"Genesis\", \"Chapter\": 15, \"# of Verses\": 21}, {\"Book\": \"Genesis\", \"Chapter\": 16, \"# of Verses\": 16}, {\"Book\": \"Genesis\", \"Chapter\": 17, \"# of Verses\": 27}, {\"Book\": \"Genesis\", \"Chapter\": 18, \"# of Verses\": 33}, {\"Book\": \"Genesis\", \"Chapter\": 19, \"# of Verses\": 38}, {\"Book\": \"Genesis\", \"Chapter\": 20, \"# of Verses\": 18}, {\"Book\": \"Genesis\", \"Chapter\": 21, \"# of Verses\": 34}, {\"Book\": \"Genesis\", \"Chapter\": 22, \"# of Verses\": 24}, {\"Book\": \"Genesis\", \"Chapter\": 23, \"# of Verses\": 20}, {\"Book\": \"Genesis\", \"Chapter\": 24, \"# of Verses\": 67}, {\"Book\": \"Genesis\", \"Chapter\": 25, \"# of Verses\": 34}, {\"Book\": \"Genesis\", \"Chapter\": 26, \"# of Verses\": 35}, {\"Book\": \"Genesis\", \"Chapter\": 27, \"# of Verses\": 46}, {\"Book\": \"Genesis\", \"Chapter\": 28, \"# of Verses\": 22}, {\"Book\": \"Genesis\", \"Chapter\": 29, \"# of Verses\": 35}, {\"Book\": \"Genesis\", \"Chapter\": 30, \"# of Verses\": 43}, {\"Book\": \"Genesis\", \"Chapter\": 31, \"# of Verses\": 55}, {\"Book\": \"Genesis\", \"Chapter\": 32, \"# of Verses\": 32}, {\"Book\": \"Genesis\", \"Chapter\": 33, \"# of Verses\": 20}, {\"Book\": \"Genesis\", \"Chapter\": 34, \"# of Verses\": 31}, {\"Book\": \"Genesis\", \"Chapter\": 35, \"# of Verses\": 29}, {\"Book\": \"Genesis\", \"Chapter\": 36, \"# of Verses\": 43}, {\"Book\": \"Genesis\", \"Chapter\": 37, \"# of Verses\": 36}, {\"Book\": \"Genesis\", \"Chapter\": 38, \"# of Verses\": 30}, {\"Book\": \"Genesis\", \"Chapter\": 39, \"# of Verses\": 23}, {\"Book\": \"Genesis\", \"Chapter\": 40, \"# of Verses\": 23}, {\"Book\": \"Genesis\", \"Chapter\": 41, \"# of Verses\": 57}, {\"Book\": \"Genesis\", \"Chapter\": 42, \"# of Verses\": 38}, {\"Book\": \"Genesis\", \"Chapter\": 43, \"# of Verses\": 34}, {\"Book\": \"Genesis\", \"Chapter\": 44, \"# of Verses\": 34}, {\"Book\": \"Genesis\", \"Chapter\": 45, \"# of Verses\": 28}, {\"Book\": \"Genesis\", \"Chapter\": 46, \"# of Verses\": 34}, {\"Book\": \"Genesis\", \"Chapter\": 47, \"# of Verses\": 31}, {\"Book\": \"Genesis\", \"Chapter\": 48, \"# of Verses\": 22}, {\"Book\": \"Genesis\", \"Chapter\": 49, \"# of Verses\": 33}, {\"Book\": \"Genesis\", \"Chapter\": 50, \"# of Verses\": 26}, {\"Book\": \"Habakkuk\", \"Chapter\": 1, \"# of Verses\": 17}, {\"Book\": \"Habakkuk\", \"Chapter\": 2, \"# of Verses\": 20}, {\"Book\": \"Habakkuk\", \"Chapter\": 3, \"# of Verses\": 19}, {\"Book\": \"Haggai\", \"Chapter\": 1, \"# of Verses\": 15}, {\"Book\": \"Haggai\", \"Chapter\": 2, \"# of Verses\": 23}, {\"Book\": \"Hebrews\", \"Chapter\": 1, \"# of Verses\": 14}, {\"Book\": \"Hebrews\", \"Chapter\": 2, \"# of Verses\": 18}, {\"Book\": \"Hebrews\", \"Chapter\": 3, \"# of Verses\": 19}, {\"Book\": \"Hebrews\", \"Chapter\": 4, \"# of Verses\": 16}, {\"Book\": \"Hebrews\", \"Chapter\": 5, \"# of Verses\": 14}, {\"Book\": \"Hebrews\", \"Chapter\": 6, \"# of Verses\": 20}, {\"Book\": \"Hebrews\", \"Chapter\": 7, \"# of Verses\": 28}, {\"Book\": \"Hebrews\", \"Chapter\": 8, \"# of Verses\": 13}, {\"Book\": \"Hebrews\", \"Chapter\": 9, \"# of Verses\": 28}, {\"Book\": \"Hebrews\", \"Chapter\": 10, \"# of Verses\": 39}, {\"Book\": \"Hebrews\", \"Chapter\": 11, \"# of Verses\": 40}, {\"Book\": \"Hebrews\", \"Chapter\": 12, \"# of Verses\": 29}, {\"Book\": \"Hebrews\", \"Chapter\": 13, \"# of Verses\": 25}, {\"Book\": \"Hosea\", \"Chapter\": 1, \"# of Verses\": 11}, {\"Book\": \"Hosea\", \"Chapter\": 2, \"# of Verses\": 23}, {\"Book\": \"Hosea\", \"Chapter\": 3, \"# of Verses\": 5}, {\"Book\": \"Hosea\", \"Chapter\": 4, \"# of Verses\": 19}, {\"Book\": \"Hosea\", \"Chapter\": 5, \"# of Verses\": 15}, {\"Book\": \"Hosea\", \"Chapter\": 6, \"# of Verses\": 11}, {\"Book\": \"Hosea\", \"Chapter\": 7, \"# of Verses\": 16}, {\"Book\": \"Hosea\", \"Chapter\": 8, \"# of Verses\": 14}, {\"Book\": \"Hosea\", \"Chapter\": 9, \"# of Verses\": 17}, {\"Book\": \"Hosea\", \"Chapter\": 10, \"# of Verses\": 15}, {\"Book\": \"Hosea\", \"Chapter\": 11, \"# of Verses\": 12}, {\"Book\": \"Hosea\", \"Chapter\": 12, \"# of Verses\": 14}, {\"Book\": \"Hosea\", \"Chapter\": 13, \"# of Verses\": 16}, {\"Book\": \"Hosea\", \"Chapter\": 14, \"# of Verses\": 9}, {\"Book\": \"Isaiah\", \"Chapter\": 1, \"# of Verses\": 31}, {\"Book\": \"Isaiah\", \"Chapter\": 2, \"# of Verses\": 22}, {\"Book\": \"Isaiah\", \"Chapter\": 3, \"# of Verses\": 26}, {\"Book\": \"Isaiah\", \"Chapter\": 4, \"# of Verses\": 6}, {\"Book\": \"Isaiah\", \"Chapter\": 5, \"# of Verses\": 30}, {\"Book\": \"Isaiah\", \"Chapter\": 6, \"# of Verses\": 13}, {\"Book\": \"Isaiah\", \"Chapter\": 7, \"# of Verses\": 25}, {\"Book\": \"Isaiah\", \"Chapter\": 8, \"# of Verses\": 22}, {\"Book\": \"Isaiah\", \"Chapter\": 9, \"# of Verses\": 21}, {\"Book\": \"Isaiah\", \"Chapter\": 10, \"# of Verses\": 34}, {\"Book\": \"Isaiah\", \"Chapter\": 11, \"# of Verses\": 16}, {\"Book\": \"Isaiah\", \"Chapter\": 12, \"# of Verses\": 6}, {\"Book\": \"Isaiah\", \"Chapter\": 13, \"# of Verses\": 22}, {\"Book\": \"Isaiah\", \"Chapter\": 14, \"# of Verses\": 32}, {\"Book\": \"Isaiah\", \"Chapter\": 15, \"# of Verses\": 9}, {\"Book\": \"Isaiah\", \"Chapter\": 16, \"# of Verses\": 14}, {\"Book\": \"Isaiah\", \"Chapter\": 17, \"# of Verses\": 14}, {\"Book\": \"Isaiah\", \"Chapter\": 18, \"# of Verses\": 7}, {\"Book\": \"Isaiah\", \"Chapter\": 19, \"# of Verses\": 25}, {\"Book\": \"Isaiah\", \"Chapter\": 20, \"# of Verses\": 6}, {\"Book\": \"Isaiah\", \"Chapter\": 21, \"# of Verses\": 17}, {\"Book\": \"Isaiah\", \"Chapter\": 22, \"# of Verses\": 25}, {\"Book\": \"Isaiah\", \"Chapter\": 23, \"# of Verses\": 18}, {\"Book\": \"Isaiah\", \"Chapter\": 24, \"# of Verses\": 23}, {\"Book\": \"Isaiah\", \"Chapter\": 25, \"# of Verses\": 12}, {\"Book\": \"Isaiah\", \"Chapter\": 26, \"# of Verses\": 21}, {\"Book\": \"Isaiah\", \"Chapter\": 27, \"# of Verses\": 13}, {\"Book\": \"Isaiah\", \"Chapter\": 28, \"# of Verses\": 29}, {\"Book\": \"Isaiah\", \"Chapter\": 29, \"# of Verses\": 24}, {\"Book\": \"Isaiah\", \"Chapter\": 30, \"# of Verses\": 33}, {\"Book\": \"Isaiah\", \"Chapter\": 31, \"# of Verses\": 9}, {\"Book\": \"Isaiah\", \"Chapter\": 32, \"# of Verses\": 20}, {\"Book\": \"Isaiah\", \"Chapter\": 33, \"# of Verses\": 24}, {\"Book\": \"Isaiah\", \"Chapter\": 34, \"# of Verses\": 17}, {\"Book\": \"Isaiah\", \"Chapter\": 35, \"# of Verses\": 10}, {\"Book\": \"Isaiah\", \"Chapter\": 36, \"# of Verses\": 22}, {\"Book\": \"Isaiah\", \"Chapter\": 37, \"# of Verses\": 38}, {\"Book\": \"Isaiah\", \"Chapter\": 38, \"# of Verses\": 22}, {\"Book\": \"Isaiah\", \"Chapter\": 39, \"# of Verses\": 8}, {\"Book\": \"Isaiah\", \"Chapter\": 40, \"# of Verses\": 31}, {\"Book\": \"Isaiah\", \"Chapter\": 41, \"# of Verses\": 29}, {\"Book\": \"Isaiah\", \"Chapter\": 42, \"# of Verses\": 25}, {\"Book\": \"Isaiah\", \"Chapter\": 43, \"# of Verses\": 28}, {\"Book\": \"Isaiah\", \"Chapter\": 44, \"# of Verses\": 28}, {\"Book\": \"Isaiah\", \"Chapter\": 45, \"# of Verses\": 25}, {\"Book\": \"Isaiah\", \"Chapter\": 46, \"# of Verses\": 13}, {\"Book\": \"Isaiah\", \"Chapter\": 47, \"# of Verses\": 15}, {\"Book\": \"Isaiah\", \"Chapter\": 48, \"# of Verses\": 22}, {\"Book\": \"Isaiah\", \"Chapter\": 49, \"# of Verses\": 26}, {\"Book\": \"Isaiah\", \"Chapter\": 50, \"# of Verses\": 11}, {\"Book\": \"Isaiah\", \"Chapter\": 51, \"# of Verses\": 23}, {\"Book\": \"Isaiah\", \"Chapter\": 52, \"# of Verses\": 15}, {\"Book\": \"Isaiah\", \"Chapter\": 53, \"# of Verses\": 12}, {\"Book\": \"Isaiah\", \"Chapter\": 54, \"# of Verses\": 17}, {\"Book\": \"Isaiah\", \"Chapter\": 55, \"# of Verses\": 13}, {\"Book\": \"Isaiah\", \"Chapter\": 56, \"# of Verses\": 12}, {\"Book\": \"Isaiah\", \"Chapter\": 57, \"# of Verses\": 21}, {\"Book\": \"Isaiah\", \"Chapter\": 58, \"# of Verses\": 14}, {\"Book\": \"Isaiah\", \"Chapter\": 59, \"# of Verses\": 21}, {\"Book\": \"Isaiah\", \"Chapter\": 60, \"# of Verses\": 22}, {\"Book\": \"Isaiah\", \"Chapter\": 61, \"# of Verses\": 11}, {\"Book\": \"Isaiah\", \"Chapter\": 62, \"# of Verses\": 12}, {\"Book\": \"Isaiah\", \"Chapter\": 63, \"# of Verses\": 19}, {\"Book\": \"Isaiah\", \"Chapter\": 64, \"# of Verses\": 12}, {\"Book\": \"Isaiah\", \"Chapter\": 65, \"# of Verses\": 25}, {\"Book\": \"Isaiah\", \"Chapter\": 66, \"# of Verses\": 24}, {\"Book\": \"James\", \"Chapter\": 1, \"# of Verses\": 27}, {\"Book\": \"James\", \"Chapter\": 2, \"# of Verses\": 26}, {\"Book\": \"James\", \"Chapter\": 3, \"# of Verses\": 18}, {\"Book\": \"James\", \"Chapter\": 4, \"# of Verses\": 17}, {\"Book\": \"James\", \"Chapter\": 5, \"# of Verses\": 20}, {\"Book\": \"Jeremiah\", \"Chapter\": 1, \"# of Verses\": 19}, {\"Book\": \"Jeremiah\", \"Chapter\": 2, \"# of Verses\": 37}, {\"Book\": \"Jeremiah\", \"Chapter\": 3, \"# of Verses\": 25}, {\"Book\": \"Jeremiah\", \"Chapter\": 4, \"# of Verses\": 31}, {\"Book\": \"Jeremiah\", \"Chapter\": 5, \"# of Verses\": 31}, {\"Book\": \"Jeremiah\", \"Chapter\": 6, \"# of Verses\": 30}, {\"Book\": \"Jeremiah\", \"Chapter\": 7, \"# of Verses\": 34}, {\"Book\": \"Jeremiah\", \"Chapter\": 8, \"# of Verses\": 22}, {\"Book\": \"Jeremiah\", \"Chapter\": 9, \"# of Verses\": 26}, {\"Book\": \"Jeremiah\", \"Chapter\": 10, \"# of Verses\": 25}, {\"Book\": \"Jeremiah\", \"Chapter\": 11, \"# of Verses\": 23}, {\"Book\": \"Jeremiah\", \"Chapter\": 12, \"# of Verses\": 17}, {\"Book\": \"Jeremiah\", \"Chapter\": 13, \"# of Verses\": 27}, {\"Book\": \"Jeremiah\", \"Chapter\": 14, \"# of Verses\": 22}, {\"Book\": \"Jeremiah\", \"Chapter\": 15, \"# of Verses\": 21}, {\"Book\": \"Jeremiah\", \"Chapter\": 16, \"# of Verses\": 21}, {\"Book\": \"Jeremiah\", \"Chapter\": 17, \"# of Verses\": 27}, {\"Book\": \"Jeremiah\", \"Chapter\": 18, \"# of Verses\": 23}, {\"Book\": \"Jeremiah\", \"Chapter\": 19, \"# of Verses\": 15}, {\"Book\": \"Jeremiah\", \"Chapter\": 20, \"# of Verses\": 18}, {\"Book\": \"Jeremiah\", \"Chapter\": 21, \"# of Verses\": 14}, {\"Book\": \"Jeremiah\", \"Chapter\": 22, \"# of Verses\": 30}, {\"Book\": \"Jeremiah\", \"Chapter\": 23, \"# of Verses\": 40}, {\"Book\": \"Jeremiah\", \"Chapter\": 24, \"# of Verses\": 10}, {\"Book\": \"Jeremiah\", \"Chapter\": 25, \"# of Verses\": 38}, {\"Book\": \"Jeremiah\", \"Chapter\": 26, \"# of Verses\": 24}, {\"Book\": \"Jeremiah\", \"Chapter\": 27, \"# of Verses\": 22}, {\"Book\": \"Jeremiah\", \"Chapter\": 28, \"# of Verses\": 17}, {\"Book\": \"Jeremiah\", \"Chapter\": 29, \"# of Verses\": 32}, {\"Book\": \"Jeremiah\", \"Chapter\": 30, \"# of Verses\": 24}, {\"Book\": \"Jeremiah\", \"Chapter\": 31, \"# of Verses\": 40}, {\"Book\": \"Jeremiah\", \"Chapter\": 32, \"# of Verses\": 44}, {\"Book\": \"Jeremiah\", \"Chapter\": 33, \"# of Verses\": 26}, {\"Book\": \"Jeremiah\", \"Chapter\": 34, \"# of Verses\": 22}, {\"Book\": \"Jeremiah\", \"Chapter\": 35, \"# of Verses\": 19}, {\"Book\": \"Jeremiah\", \"Chapter\": 36, \"# of Verses\": 32}, {\"Book\": \"Jeremiah\", \"Chapter\": 37, \"# of Verses\": 21}, {\"Book\": \"Jeremiah\", \"Chapter\": 38, \"# of Verses\": 28}, {\"Book\": \"Jeremiah\", \"Chapter\": 39, \"# of Verses\": 18}, {\"Book\": \"Jeremiah\", \"Chapter\": 40, \"# of Verses\": 16}, {\"Book\": \"Jeremiah\", \"Chapter\": 41, \"# of Verses\": 18}, {\"Book\": \"Jeremiah\", \"Chapter\": 42, \"# of Verses\": 22}, {\"Book\": \"Jeremiah\", \"Chapter\": 43, \"# of Verses\": 13}, {\"Book\": \"Jeremiah\", \"Chapter\": 44, \"# of Verses\": 30}, {\"Book\": \"Jeremiah\", \"Chapter\": 45, \"# of Verses\": 5}, {\"Book\": \"Jeremiah\", \"Chapter\": 46, \"# of Verses\": 28}, {\"Book\": \"Jeremiah\", \"Chapter\": 47, \"# of Verses\": 7}, {\"Book\": \"Jeremiah\", \"Chapter\": 48, \"# of Verses\": 47}, {\"Book\": \"Jeremiah\", \"Chapter\": 49, \"# of Verses\": 39}, {\"Book\": \"Jeremiah\", \"Chapter\": 50, \"# of Verses\": 46}, {\"Book\": \"Jeremiah\", \"Chapter\": 51, \"# of Verses\": 64}, {\"Book\": \"Jeremiah\", \"Chapter\": 52, \"# of Verses\": 34}, {\"Book\": \"Job\", \"Chapter\": 1, \"# of Verses\": 22}, {\"Book\": \"Job\", \"Chapter\": 2, \"# of Verses\": 13}, {\"Book\": \"Job\", \"Chapter\": 3, \"# of Verses\": 26}, {\"Book\": \"Job\", \"Chapter\": 4, \"# of Verses\": 21}, {\"Book\": \"Job\", \"Chapter\": 5, \"# of Verses\": 27}, {\"Book\": \"Job\", \"Chapter\": 6, \"# of Verses\": 30}, {\"Book\": \"Job\", \"Chapter\": 7, \"# of Verses\": 21}, {\"Book\": \"Job\", \"Chapter\": 8, \"# of Verses\": 22}, {\"Book\": \"Job\", \"Chapter\": 9, \"# of Verses\": 35}, {\"Book\": \"Job\", \"Chapter\": 10, \"# of Verses\": 22}, {\"Book\": \"Job\", \"Chapter\": 11, \"# of Verses\": 20}, {\"Book\": \"Job\", \"Chapter\": 12, \"# of Verses\": 25}, {\"Book\": \"Job\", \"Chapter\": 13, \"# of Verses\": 28}, {\"Book\": \"Job\", \"Chapter\": 14, \"# of Verses\": 22}, {\"Book\": \"Job\", \"Chapter\": 15, \"# of Verses\": 35}, {\"Book\": \"Job\", \"Chapter\": 16, \"# of Verses\": 22}, {\"Book\": \"Job\", \"Chapter\": 17, \"# of Verses\": 16}, {\"Book\": \"Job\", \"Chapter\": 18, \"# of Verses\": 21}, {\"Book\": \"Job\", \"Chapter\": 19, \"# of Verses\": 29}, {\"Book\": \"Job\", \"Chapter\": 20, \"# of Verses\": 29}, {\"Book\": \"Job\", \"Chapter\": 21, \"# of Verses\": 34}, {\"Book\": \"Job\", \"Chapter\": 22, \"# of Verses\": 30}, {\"Book\": \"Job\", \"Chapter\": 23, \"# of Verses\": 17}, {\"Book\": \"Job\", \"Chapter\": 24, \"# of Verses\": 25}, {\"Book\": \"Job\", \"Chapter\": 25, \"# of Verses\": 6}, {\"Book\": \"Job\", \"Chapter\": 26, \"# of Verses\": 14}, {\"Book\": \"Job\", \"Chapter\": 27, \"# of Verses\": 23}, {\"Book\": \"Job\", \"Chapter\": 28, \"# of Verses\": 28}, {\"Book\": \"Job\", \"Chapter\": 29, \"# of Verses\": 25}, {\"Book\": \"Job\", \"Chapter\": 30, \"# of Verses\": 31}, {\"Book\": \"Job\", \"Chapter\": 31, \"# of Verses\": 40}, {\"Book\": \"Job\", \"Chapter\": 32, \"# of Verses\": 22}, {\"Book\": \"Job\", \"Chapter\": 33, \"# of Verses\": 33}, {\"Book\": \"Job\", \"Chapter\": 34, \"# of Verses\": 37}, {\"Book\": \"Job\", \"Chapter\": 35, \"# of Verses\": 16}, {\"Book\": \"Job\", \"Chapter\": 36, \"# of Verses\": 33}, {\"Book\": \"Job\", \"Chapter\": 37, \"# of Verses\": 24}, {\"Book\": \"Job\", \"Chapter\": 38, \"# of Verses\": 41}, {\"Book\": \"Job\", \"Chapter\": 39, \"# of Verses\": 30}, {\"Book\": \"Job\", \"Chapter\": 40, \"# of Verses\": 24}, {\"Book\": \"Job\", \"Chapter\": 41, \"# of Verses\": 34}, {\"Book\": \"Job\", \"Chapter\": 42, \"# of Verses\": 17}, {\"Book\": \"Joel\", \"Chapter\": 1, \"# of Verses\": 20}, {\"Book\": \"Joel\", \"Chapter\": 2, \"# of Verses\": 32}, {\"Book\": \"Joel\", \"Chapter\": 3, \"# of Verses\": 21}, {\"Book\": \"John\", \"Chapter\": 1, \"# of Verses\": 51}, {\"Book\": \"John\", \"Chapter\": 2, \"# of Verses\": 25}, {\"Book\": \"John\", \"Chapter\": 3, \"# of Verses\": 36}, {\"Book\": \"John\", \"Chapter\": 4, \"# of Verses\": 54}, {\"Book\": \"John\", \"Chapter\": 5, \"# of Verses\": 47}, {\"Book\": \"John\", \"Chapter\": 6, \"# of Verses\": 71}, {\"Book\": \"John\", \"Chapter\": 7, \"# of Verses\": 53}, {\"Book\": \"John\", \"Chapter\": 8, \"# of Verses\": 59}, {\"Book\": \"John\", \"Chapter\": 9, \"# of Verses\": 41}, {\"Book\": \"John\", \"Chapter\": 10, \"# of Verses\": 42}, {\"Book\": \"John\", \"Chapter\": 11, \"# of Verses\": 57}, {\"Book\": \"John\", \"Chapter\": 12, \"# of Verses\": 50}, {\"Book\": \"John\", \"Chapter\": 13, \"# of Verses\": 38}, {\"Book\": \"John\", \"Chapter\": 14, \"# of Verses\": 31}, {\"Book\": \"John\", \"Chapter\": 15, \"# of Verses\": 27}, {\"Book\": \"John\", \"Chapter\": 16, \"# of Verses\": 33}, {\"Book\": \"John\", \"Chapter\": 17, \"# of Verses\": 26}, {\"Book\": \"John\", \"Chapter\": 18, \"# of Verses\": 40}, {\"Book\": \"John\", \"Chapter\": 19, \"# of Verses\": 42}, {\"Book\": \"John\", \"Chapter\": 20, \"# of Verses\": 31}, {\"Book\": \"John\", \"Chapter\": 21, \"# of Verses\": 25}, {\"Book\": \"Jonah\", \"Chapter\": 1, \"# of Verses\": 17}, {\"Book\": \"Jonah\", \"Chapter\": 2, \"# of Verses\": 10}, {\"Book\": \"Jonah\", \"Chapter\": 3, \"# of Verses\": 10}, {\"Book\": \"Jonah\", \"Chapter\": 4, \"# of Verses\": 11}, {\"Book\": \"Joshua\", \"Chapter\": 1, \"# of Verses\": 18}, {\"Book\": \"Joshua\", \"Chapter\": 2, \"# of Verses\": 24}, {\"Book\": \"Joshua\", \"Chapter\": 3, \"# of Verses\": 17}, {\"Book\": \"Joshua\", \"Chapter\": 4, \"# of Verses\": 24}, {\"Book\": \"Joshua\", \"Chapter\": 5, \"# of Verses\": 15}, {\"Book\": \"Joshua\", \"Chapter\": 6, \"# of Verses\": 27}, {\"Book\": \"Joshua\", \"Chapter\": 7, \"# of Verses\": 26}, {\"Book\": \"Joshua\", \"Chapter\": 8, \"# of Verses\": 35}, {\"Book\": \"Joshua\", \"Chapter\": 9, \"# of Verses\": 27}, {\"Book\": \"Joshua\", \"Chapter\": 10, \"# of Verses\": 43}, {\"Book\": \"Joshua\", \"Chapter\": 11, \"# of Verses\": 23}, {\"Book\": \"Joshua\", \"Chapter\": 12, \"# of Verses\": 24}, {\"Book\": \"Joshua\", \"Chapter\": 13, \"# of Verses\": 33}, {\"Book\": \"Joshua\", \"Chapter\": 14, \"# of Verses\": 15}, {\"Book\": \"Joshua\", \"Chapter\": 15, \"# of Verses\": 63}, {\"Book\": \"Joshua\", \"Chapter\": 16, \"# of Verses\": 10}, {\"Book\": \"Joshua\", \"Chapter\": 17, \"# of Verses\": 18}, {\"Book\": \"Joshua\", \"Chapter\": 18, \"# of Verses\": 28}, {\"Book\": \"Joshua\", \"Chapter\": 19, \"# of Verses\": 51}, {\"Book\": \"Joshua\", \"Chapter\": 20, \"# of Verses\": 9}, {\"Book\": \"Joshua\", \"Chapter\": 21, \"# of Verses\": 45}, {\"Book\": \"Joshua\", \"Chapter\": 22, \"# of Verses\": 34}, {\"Book\": \"Joshua\", \"Chapter\": 23, \"# of Verses\": 16}, {\"Book\": \"Joshua\", \"Chapter\": 24, \"# of Verses\": 33}, {\"Book\": \"Jude\", \"Chapter\": 1, \"# of Verses\": 25}, {\"Book\": \"Judges\", \"Chapter\": 1, \"# of Verses\": 36}, {\"Book\": \"Judges\", \"Chapter\": 2, \"# of Verses\": 23}, {\"Book\": \"Judges\", \"Chapter\": 3, \"# of Verses\": 31}, {\"Book\": \"Judges\", \"Chapter\": 4, \"# of Verses\": 24}, {\"Book\": \"Judges\", \"Chapter\": 5, \"# of Verses\": 31}, {\"Book\": \"Judges\", \"Chapter\": 6, \"# of Verses\": 40}, {\"Book\": \"Judges\", \"Chapter\": 7, \"# of Verses\": 25}, {\"Book\": \"Judges\", \"Chapter\": 8, \"# of Verses\": 35}, {\"Book\": \"Judges\", \"Chapter\": 9, \"# of Verses\": 57}, {\"Book\": \"Judges\", \"Chapter\": 10, \"# of Verses\": 18}, {\"Book\": \"Judges\", \"Chapter\": 11, \"# of Verses\": 40}, {\"Book\": \"Judges\", \"Chapter\": 12, \"# of Verses\": 15}, {\"Book\": \"Judges\", \"Chapter\": 13, \"# of Verses\": 25}, {\"Book\": \"Judges\", \"Chapter\": 14, \"# of Verses\": 20}, {\"Book\": \"Judges\", \"Chapter\": 15, \"# of Verses\": 20}, {\"Book\": \"Judges\", \"Chapter\": 16, \"# of Verses\": 31}, {\"Book\": \"Judges\", \"Chapter\": 17, \"# of Verses\": 13}, {\"Book\": \"Judges\", \"Chapter\": 18, \"# of Verses\": 31}, {\"Book\": \"Judges\", \"Chapter\": 19, \"# of Verses\": 30}, {\"Book\": \"Judges\", \"Chapter\": 20, \"# of Verses\": 48}, {\"Book\": \"Judges\", \"Chapter\": 21, \"# of Verses\": 25}, {\"Book\": \"Lamentations\", \"Chapter\": 1, \"# of Verses\": 22}, {\"Book\": \"Lamentations\", \"Chapter\": 2, \"# of Verses\": 22}, {\"Book\": \"Lamentations\", \"Chapter\": 3, \"# of Verses\": 66}, {\"Book\": \"Lamentations\", \"Chapter\": 4, \"# of Verses\": 22}, {\"Book\": \"Lamentations\", \"Chapter\": 5, \"# of Verses\": 22}, {\"Book\": \"Leviticus\", \"Chapter\": 1, \"# of Verses\": 17}, {\"Book\": \"Leviticus\", \"Chapter\": 2, \"# of Verses\": 16}, {\"Book\": \"Leviticus\", \"Chapter\": 3, \"# of Verses\": 17}, {\"Book\": \"Leviticus\", \"Chapter\": 4, \"# of Verses\": 35}, {\"Book\": \"Leviticus\", \"Chapter\": 5, \"# of Verses\": 19}, {\"Book\": \"Leviticus\", \"Chapter\": 6, \"# of Verses\": 30}, {\"Book\": \"Leviticus\", \"Chapter\": 7, \"# of Verses\": 38}, {\"Book\": \"Leviticus\", \"Chapter\": 8, \"# of Verses\": 36}, {\"Book\": \"Leviticus\", \"Chapter\": 9, \"# of Verses\": 24}, {\"Book\": \"Leviticus\", \"Chapter\": 10, \"# of Verses\": 20}, {\"Book\": \"Leviticus\", \"Chapter\": 11, \"# of Verses\": 47}, {\"Book\": \"Leviticus\", \"Chapter\": 12, \"# of Verses\": 8}, {\"Book\": \"Leviticus\", \"Chapter\": 13, \"# of Verses\": 59}, {\"Book\": \"Leviticus\", \"Chapter\": 14, \"# of Verses\": 57}, {\"Book\": \"Leviticus\", \"Chapter\": 15, \"# of Verses\": 33}, {\"Book\": \"Leviticus\", \"Chapter\": 16, \"# of Verses\": 34}, {\"Book\": \"Leviticus\", \"Chapter\": 17, \"# of Verses\": 16}, {\"Book\": \"Leviticus\", \"Chapter\": 18, \"# of Verses\": 30}, {\"Book\": \"Leviticus\", \"Chapter\": 19, \"# of Verses\": 37}, {\"Book\": \"Leviticus\", \"Chapter\": 20, \"# of Verses\": 27}, {\"Book\": \"Leviticus\", \"Chapter\": 21, \"# of Verses\": 24}, {\"Book\": \"Leviticus\", \"Chapter\": 22, \"# of Verses\": 33}, {\"Book\": \"Leviticus\", \"Chapter\": 23, \"# of Verses\": 44}, {\"Book\": \"Leviticus\", \"Chapter\": 24, \"# of Verses\": 23}, {\"Book\": \"Leviticus\", \"Chapter\": 25, \"# of Verses\": 55}, {\"Book\": \"Leviticus\", \"Chapter\": 26, \"# of Verses\": 46}, {\"Book\": \"Leviticus\", \"Chapter\": 27, \"# of Verses\": 34}, {\"Book\": \"Luke\", \"Chapter\": 1, \"# of Verses\": 80}, {\"Book\": \"Luke\", \"Chapter\": 2, \"# of Verses\": 52}, {\"Book\": \"Luke\", \"Chapter\": 3, \"# of Verses\": 38}, {\"Book\": \"Luke\", \"Chapter\": 4, \"# of Verses\": 44}, {\"Book\": \"Luke\", \"Chapter\": 5, \"# of Verses\": 39}, {\"Book\": \"Luke\", \"Chapter\": 6, \"# of Verses\": 49}, {\"Book\": \"Luke\", \"Chapter\": 7, \"# of Verses\": 50}, {\"Book\": \"Luke\", \"Chapter\": 8, \"# of Verses\": 56}, {\"Book\": \"Luke\", \"Chapter\": 9, \"# of Verses\": 62}, {\"Book\": \"Luke\", \"Chapter\": 10, \"# of Verses\": 42}, {\"Book\": \"Luke\", \"Chapter\": 11, \"# of Verses\": 54}, {\"Book\": \"Luke\", \"Chapter\": 12, \"# of Verses\": 59}, {\"Book\": \"Luke\", \"Chapter\": 13, \"# of Verses\": 35}, {\"Book\": \"Luke\", \"Chapter\": 14, \"# of Verses\": 35}, {\"Book\": \"Luke\", \"Chapter\": 15, \"# of Verses\": 32}, {\"Book\": \"Luke\", \"Chapter\": 16, \"# of Verses\": 31}, {\"Book\": \"Luke\", \"Chapter\": 17, \"# of Verses\": 37}, {\"Book\": \"Luke\", \"Chapter\": 18, \"# of Verses\": 43}, {\"Book\": \"Luke\", \"Chapter\": 19, \"# of Verses\": 48}, {\"Book\": \"Luke\", \"Chapter\": 20, \"# of Verses\": 47}, {\"Book\": \"Luke\", \"Chapter\": 21, \"# of Verses\": 38}, {\"Book\": \"Luke\", \"Chapter\": 22, \"# of Verses\": 71}, {\"Book\": \"Luke\", \"Chapter\": 23, \"# of Verses\": 56}, {\"Book\": \"Luke\", \"Chapter\": 24, \"# of Verses\": 53}, {\"Book\": \"Malachi\", \"Chapter\": 1, \"# of Verses\": 14}, {\"Book\": \"Malachi\", \"Chapter\": 2, \"# of Verses\": 17}, {\"Book\": \"Malachi\", \"Chapter\": 3, \"# of Verses\": 18}, {\"Book\": \"Malachi\", \"Chapter\": 4, \"# of Verses\": 6}, {\"Book\": \"Mark\", \"Chapter\": 1, \"# of Verses\": 45}, {\"Book\": \"Mark\", \"Chapter\": 2, \"# of Verses\": 28}, {\"Book\": \"Mark\", \"Chapter\": 3, \"# of Verses\": 35}, {\"Book\": \"Mark\", \"Chapter\": 4, \"# of Verses\": 41}, {\"Book\": \"Mark\", \"Chapter\": 5, \"# of Verses\": 43}, {\"Book\": \"Mark\", \"Chapter\": 6, \"# of Verses\": 56}, {\"Book\": \"Mark\", \"Chapter\": 7, \"# of Verses\": 37}, {\"Book\": \"Mark\", \"Chapter\": 8, \"# of Verses\": 38}, {\"Book\": \"Mark\", \"Chapter\": 9, \"# of Verses\": 50}, {\"Book\": \"Mark\", \"Chapter\": 10, \"# of Verses\": 52}, {\"Book\": \"Mark\", \"Chapter\": 11, \"# of Verses\": 33}, {\"Book\": \"Mark\", \"Chapter\": 12, \"# of Verses\": 44}, {\"Book\": \"Mark\", \"Chapter\": 13, \"# of Verses\": 37}, {\"Book\": \"Mark\", \"Chapter\": 14, \"# of Verses\": 72}, {\"Book\": \"Mark\", \"Chapter\": 15, \"# of Verses\": 47}, {\"Book\": \"Mark\", \"Chapter\": 16, \"# of Verses\": 20}, {\"Book\": \"Matthew\", \"Chapter\": 1, \"# of Verses\": 25}, {\"Book\": \"Matthew\", \"Chapter\": 2, \"# of Verses\": 23}, {\"Book\": \"Matthew\", \"Chapter\": 3, \"# of Verses\": 17}, {\"Book\": \"Matthew\", \"Chapter\": 4, \"# of Verses\": 25}, {\"Book\": \"Matthew\", \"Chapter\": 5, \"# of Verses\": 48}, {\"Book\": \"Matthew\", \"Chapter\": 6, \"# of Verses\": 34}, {\"Book\": \"Matthew\", \"Chapter\": 7, \"# of Verses\": 29}, {\"Book\": \"Matthew\", \"Chapter\": 8, \"# of Verses\": 34}, {\"Book\": \"Matthew\", \"Chapter\": 9, \"# of Verses\": 38}, {\"Book\": \"Matthew\", \"Chapter\": 10, \"# of Verses\": 42}, {\"Book\": \"Matthew\", \"Chapter\": 11, \"# of Verses\": 30}, {\"Book\": \"Matthew\", \"Chapter\": 12, \"# of Verses\": 50}, {\"Book\": \"Matthew\", \"Chapter\": 13, \"# of Verses\": 58}, {\"Book\": \"Matthew\", \"Chapter\": 14, \"# of Verses\": 36}, {\"Book\": \"Matthew\", \"Chapter\": 15, \"# of Verses\": 39}, {\"Book\": \"Matthew\", \"Chapter\": 16, \"# of Verses\": 28}, {\"Book\": \"Matthew\", \"Chapter\": 17, \"# of Verses\": 27}, {\"Book\": \"Matthew\", \"Chapter\": 18, \"# of Verses\": 35}, {\"Book\": \"Matthew\", \"Chapter\": 19, \"# of Verses\": 30}, {\"Book\": \"Matthew\", \"Chapter\": 20, \"# of Verses\": 34}, {\"Book\": \"Matthew\", \"Chapter\": 21, \"# of Verses\": 46}, {\"Book\": \"Matthew\", \"Chapter\": 22, \"# of Verses\": 46}, {\"Book\": \"Matthew\", \"Chapter\": 23, \"# of Verses\": 39}, {\"Book\": \"Matthew\", \"Chapter\": 24, \"# of Verses\": 51}, {\"Book\": \"Matthew\", \"Chapter\": 25, \"# of Verses\": 46}, {\"Book\": \"Matthew\", \"Chapter\": 26, \"# of Verses\": 75}, {\"Book\": \"Matthew\", \"Chapter\": 27, \"# of Verses\": 66}, {\"Book\": \"Matthew\", \"Chapter\": 28, \"# of Verses\": 20}, {\"Book\": \"Micah\", \"Chapter\": 1, \"# of Verses\": 16}, {\"Book\": \"Micah\", \"Chapter\": 2, \"# of Verses\": 13}, {\"Book\": \"Micah\", \"Chapter\": 3, \"# of Verses\": 12}, {\"Book\": \"Micah\", \"Chapter\": 4, \"# of Verses\": 13}, {\"Book\": \"Micah\", \"Chapter\": 5, \"# of Verses\": 15}, {\"Book\": \"Micah\", \"Chapter\": 6, \"# of Verses\": 16}, {\"Book\": \"Micah\", \"Chapter\": 7, \"# of Verses\": 20}, {\"Book\": \"Nahum\", \"Chapter\": 1, \"# of Verses\": 15}, {\"Book\": \"Nahum\", \"Chapter\": 2, \"# of Verses\": 13}, {\"Book\": \"Nahum\", \"Chapter\": 3, \"# of Verses\": 19}, {\"Book\": \"Nehemiah\", \"Chapter\": 1, \"# of Verses\": 11}, {\"Book\": \"Nehemiah\", \"Chapter\": 2, \"# of Verses\": 20}, {\"Book\": \"Nehemiah\", \"Chapter\": 3, \"# of Verses\": 32}, {\"Book\": \"Nehemiah\", \"Chapter\": 4, \"# of Verses\": 23}, {\"Book\": \"Nehemiah\", \"Chapter\": 5, \"# of Verses\": 19}, {\"Book\": \"Nehemiah\", \"Chapter\": 6, \"# of Verses\": 19}, {\"Book\": \"Nehemiah\", \"Chapter\": 7, \"# of Verses\": 73}, {\"Book\": \"Nehemiah\", \"Chapter\": 8, \"# of Verses\": 18}, {\"Book\": \"Nehemiah\", \"Chapter\": 9, \"# of Verses\": 38}, {\"Book\": \"Nehemiah\", \"Chapter\": 10, \"# of Verses\": 39}, {\"Book\": \"Nehemiah\", \"Chapter\": 11, \"# of Verses\": 36}, {\"Book\": \"Nehemiah\", \"Chapter\": 12, \"# of Verses\": 47}, {\"Book\": \"Nehemiah\", \"Chapter\": 13, \"# of Verses\": 31}, {\"Book\": \"Numbers\", \"Chapter\": 1, \"# of Verses\": 54}, {\"Book\": \"Numbers\", \"Chapter\": 2, \"# of Verses\": 34}, {\"Book\": \"Numbers\", \"Chapter\": 3, \"# of Verses\": 51}, {\"Book\": \"Numbers\", \"Chapter\": 4, \"# of Verses\": 49}, {\"Book\": \"Numbers\", \"Chapter\": 5, \"# of Verses\": 31}, {\"Book\": \"Numbers\", \"Chapter\": 6, \"# of Verses\": 27}, {\"Book\": \"Numbers\", \"Chapter\": 7, \"# of Verses\": 89}, {\"Book\": \"Numbers\", \"Chapter\": 8, \"# of Verses\": 26}, {\"Book\": \"Numbers\", \"Chapter\": 9, \"# of Verses\": 23}, {\"Book\": \"Numbers\", \"Chapter\": 10, \"# of Verses\": 36}, {\"Book\": \"Numbers\", \"Chapter\": 11, \"# of Verses\": 35}, {\"Book\": \"Numbers\", \"Chapter\": 12, \"# of Verses\": 16}, {\"Book\": \"Numbers\", \"Chapter\": 13, \"# of Verses\": 33}, {\"Book\": \"Numbers\", \"Chapter\": 14, \"# of Verses\": 45}, {\"Book\": \"Numbers\", \"Chapter\": 15, \"# of Verses\": 41}, {\"Book\": \"Numbers\", \"Chapter\": 16, \"# of Verses\": 50}, {\"Book\": \"Numbers\", \"Chapter\": 17, \"# of Verses\": 13}, {\"Book\": \"Numbers\", \"Chapter\": 18, \"# of Verses\": 32}, {\"Book\": \"Numbers\", \"Chapter\": 19, \"# of Verses\": 22}, {\"Book\": \"Numbers\", \"Chapter\": 20, \"# of Verses\": 29}, {\"Book\": \"Numbers\", \"Chapter\": 21, \"# of Verses\": 35}, {\"Book\": \"Numbers\", \"Chapter\": 22, \"# of Verses\": 41}, {\"Book\": \"Numbers\", \"Chapter\": 23, \"# of Verses\": 30}, {\"Book\": \"Numbers\", \"Chapter\": 24, \"# of Verses\": 25}, {\"Book\": \"Numbers\", \"Chapter\": 25, \"# of Verses\": 18}, {\"Book\": \"Numbers\", \"Chapter\": 26, \"# of Verses\": 65}, {\"Book\": \"Numbers\", \"Chapter\": 27, \"# of Verses\": 23}, {\"Book\": \"Numbers\", \"Chapter\": 28, \"# of Verses\": 31}, {\"Book\": \"Numbers\", \"Chapter\": 29, \"# of Verses\": 40}, {\"Book\": \"Numbers\", \"Chapter\": 30, \"# of Verses\": 16}, {\"Book\": \"Numbers\", \"Chapter\": 31, \"# of Verses\": 54}, {\"Book\": \"Numbers\", \"Chapter\": 32, \"# of Verses\": 42}, {\"Book\": \"Numbers\", \"Chapter\": 33, \"# of Verses\": 56}, {\"Book\": \"Numbers\", \"Chapter\": 34, \"# of Verses\": 29}, {\"Book\": \"Numbers\", \"Chapter\": 35, \"# of Verses\": 34}, {\"Book\": \"Numbers\", \"Chapter\": 36, \"# of Verses\": 13}, {\"Book\": \"Obadiah\", \"Chapter\": 1, \"# of Verses\": 21}, {\"Book\": \"Philemon\", \"Chapter\": 1, \"# of Verses\": 25}, {\"Book\": \"Philippians\", \"Chapter\": 1, \"# of Verses\": 30}, {\"Book\": \"Philippians\", \"Chapter\": 2, \"# of Verses\": 30}, {\"Book\": \"Philippians\", \"Chapter\": 3, \"# of Verses\": 21}, {\"Book\": \"Philippians\", \"Chapter\": 4, \"# of Verses\": 23}, {\"Book\": \"Proverbs\", \"Chapter\": 1, \"# of Verses\": 33}, {\"Book\": \"Proverbs\", \"Chapter\": 2, \"# of Verses\": 22}, {\"Book\": \"Proverbs\", \"Chapter\": 3, \"# of Verses\": 35}, {\"Book\": \"Proverbs\", \"Chapter\": 4, \"# of Verses\": 27}, {\"Book\": \"Proverbs\", \"Chapter\": 5, \"# of Verses\": 23}, {\"Book\": \"Proverbs\", \"Chapter\": 6, \"# of Verses\": 35}, {\"Book\": \"Proverbs\", \"Chapter\": 7, \"# of Verses\": 27}, {\"Book\": \"Proverbs\", \"Chapter\": 8, \"# of Verses\": 36}, {\"Book\": \"Proverbs\", \"Chapter\": 9, \"# of Verses\": 18}, {\"Book\": \"Proverbs\", \"Chapter\": 10, \"# of Verses\": 32}, {\"Book\": \"Proverbs\", \"Chapter\": 11, \"# of Verses\": 31}, {\"Book\": \"Proverbs\", \"Chapter\": 12, \"# of Verses\": 28}, {\"Book\": \"Proverbs\", \"Chapter\": 13, \"# of Verses\": 25}, {\"Book\": \"Proverbs\", \"Chapter\": 14, \"# of Verses\": 35}, {\"Book\": \"Proverbs\", \"Chapter\": 15, \"# of Verses\": 33}, {\"Book\": \"Proverbs\", \"Chapter\": 16, \"# of Verses\": 33}, {\"Book\": \"Proverbs\", \"Chapter\": 17, \"# of Verses\": 28}, {\"Book\": \"Proverbs\", \"Chapter\": 18, \"# of Verses\": 24}, {\"Book\": \"Proverbs\", \"Chapter\": 19, \"# of Verses\": 29}, {\"Book\": \"Proverbs\", \"Chapter\": 20, \"# of Verses\": 30}, {\"Book\": \"Proverbs\", \"Chapter\": 21, \"# of Verses\": 31}, {\"Book\": \"Proverbs\", \"Chapter\": 22, \"# of Verses\": 29}, {\"Book\": \"Proverbs\", \"Chapter\": 23, \"# of Verses\": 35}, {\"Book\": \"Proverbs\", \"Chapter\": 24, \"# of Verses\": 34}, {\"Book\": \"Proverbs\", \"Chapter\": 25, \"# of Verses\": 28}, {\"Book\": \"Proverbs\", \"Chapter\": 26, \"# of Verses\": 28}, {\"Book\": \"Proverbs\", \"Chapter\": 27, \"# of Verses\": 27}, {\"Book\": \"Proverbs\", \"Chapter\": 28, \"# of Verses\": 28}, {\"Book\": \"Proverbs\", \"Chapter\": 29, \"# of Verses\": 27}, {\"Book\": \"Proverbs\", \"Chapter\": 30, \"# of Verses\": 33}, {\"Book\": \"Proverbs\", \"Chapter\": 31, \"# of Verses\": 31}, {\"Book\": \"Psalms\", \"Chapter\": 1, \"# of Verses\": 6}, {\"Book\": \"Psalms\", \"Chapter\": 2, \"# of Verses\": 12}, {\"Book\": \"Psalms\", \"Chapter\": 3, \"# of Verses\": 8}, {\"Book\": \"Psalms\", \"Chapter\": 4, \"# of Verses\": 8}, {\"Book\": \"Psalms\", \"Chapter\": 5, \"# of Verses\": 12}, {\"Book\": \"Psalms\", \"Chapter\": 6, \"# of Verses\": 10}, {\"Book\": \"Psalms\", \"Chapter\": 7, \"# of Verses\": 17}, {\"Book\": \"Psalms\", \"Chapter\": 8, \"# of Verses\": 9}, {\"Book\": \"Psalms\", \"Chapter\": 9, \"# of Verses\": 20}, {\"Book\": \"Psalms\", \"Chapter\": 10, \"# of Verses\": 18}, {\"Book\": \"Psalms\", \"Chapter\": 11, \"# of Verses\": 7}, {\"Book\": \"Psalms\", \"Chapter\": 12, \"# of Verses\": 8}, {\"Book\": \"Psalms\", \"Chapter\": 13, \"# of Verses\": 6}, {\"Book\": \"Psalms\", \"Chapter\": 14, \"# of Verses\": 7}, {\"Book\": \"Psalms\", \"Chapter\": 15, \"# of Verses\": 5}, {\"Book\": \"Psalms\", \"Chapter\": 16, \"# of Verses\": 11}, {\"Book\": \"Psalms\", \"Chapter\": 17, \"# of Verses\": 15}, {\"Book\": \"Psalms\", \"Chapter\": 18, \"# of Verses\": 50}, {\"Book\": \"Psalms\", \"Chapter\": 19, \"# of Verses\": 14}, {\"Book\": \"Psalms\", \"Chapter\": 20, \"# of Verses\": 9}, {\"Book\": \"Psalms\", \"Chapter\": 21, \"# of Verses\": 13}, {\"Book\": \"Psalms\", \"Chapter\": 22, \"# of Verses\": 31}, {\"Book\": \"Psalms\", \"Chapter\": 23, \"# of Verses\": 6}, {\"Book\": \"Psalms\", \"Chapter\": 24, \"# of Verses\": 10}, {\"Book\": \"Psalms\", \"Chapter\": 25, \"# of Verses\": 22}, {\"Book\": \"Psalms\", \"Chapter\": 26, \"# of Verses\": 12}, {\"Book\": \"Psalms\", \"Chapter\": 27, \"# of Verses\": 14}, {\"Book\": \"Psalms\", \"Chapter\": 28, \"# of Verses\": 9}, {\"Book\": \"Psalms\", \"Chapter\": 29, \"# of Verses\": 11}, {\"Book\": \"Psalms\", \"Chapter\": 30, \"# of Verses\": 12}, {\"Book\": \"Psalms\", \"Chapter\": 31, \"# of Verses\": 24}, {\"Book\": \"Psalms\", \"Chapter\": 32, \"# of Verses\": 11}, {\"Book\": \"Psalms\", \"Chapter\": 33, \"# of Verses\": 22}, {\"Book\": \"Psalms\", \"Chapter\": 34, \"# of Verses\": 22}, {\"Book\": \"Psalms\", \"Chapter\": 35, \"# of Verses\": 28}, {\"Book\": \"Psalms\", \"Chapter\": 36, \"# of Verses\": 12}, {\"Book\": \"Psalms\", \"Chapter\": 37, \"# of Verses\": 40}, {\"Book\": \"Psalms\", \"Chapter\": 38, \"# of Verses\": 22}, {\"Book\": \"Psalms\", \"Chapter\": 39, \"# of Verses\": 13}, {\"Book\": \"Psalms\", \"Chapter\": 40, \"# of Verses\": 17}, {\"Book\": \"Psalms\", \"Chapter\": 41, \"# of Verses\": 13}, {\"Book\": \"Psalms\", \"Chapter\": 42, \"# of Verses\": 11}, {\"Book\": \"Psalms\", \"Chapter\": 43, \"# of Verses\": 5}, {\"Book\": \"Psalms\", \"Chapter\": 44, \"# of Verses\": 26}, {\"Book\": \"Psalms\", \"Chapter\": 45, \"# of Verses\": 17}, {\"Book\": \"Psalms\", \"Chapter\": 46, \"# of Verses\": 11}, {\"Book\": \"Psalms\", \"Chapter\": 47, \"# of Verses\": 9}, {\"Book\": \"Psalms\", \"Chapter\": 48, \"# of Verses\": 14}, {\"Book\": \"Psalms\", \"Chapter\": 49, \"# of Verses\": 20}, {\"Book\": \"Psalms\", \"Chapter\": 50, \"# of Verses\": 23}, {\"Book\": \"Psalms\", \"Chapter\": 51, \"# of Verses\": 19}, {\"Book\": \"Psalms\", \"Chapter\": 52, \"# of Verses\": 9}, {\"Book\": \"Psalms\", \"Chapter\": 53, \"# of Verses\": 6}, {\"Book\": \"Psalms\", \"Chapter\": 54, \"# of Verses\": 7}, {\"Book\": \"Psalms\", \"Chapter\": 55, \"# of Verses\": 23}, {\"Book\": \"Psalms\", \"Chapter\": 56, \"# of Verses\": 13}, {\"Book\": \"Psalms\", \"Chapter\": 57, \"# of Verses\": 11}, {\"Book\": \"Psalms\", \"Chapter\": 58, \"# of Verses\": 11}, {\"Book\": \"Psalms\", \"Chapter\": 59, \"# of Verses\": 17}, {\"Book\": \"Psalms\", \"Chapter\": 60, \"# of Verses\": 12}, {\"Book\": \"Psalms\", \"Chapter\": 61, \"# of Verses\": 8}, {\"Book\": \"Psalms\", \"Chapter\": 62, \"# of Verses\": 12}, {\"Book\": \"Psalms\", \"Chapter\": 63, \"# of Verses\": 11}, {\"Book\": \"Psalms\", \"Chapter\": 64, \"# of Verses\": 10}, {\"Book\": \"Psalms\", \"Chapter\": 65, \"# of Verses\": 13}, {\"Book\": \"Psalms\", \"Chapter\": 66, \"# of Verses\": 20}, {\"Book\": \"Psalms\", \"Chapter\": 67, \"# of Verses\": 7}, {\"Book\": \"Psalms\", \"Chapter\": 68, \"# of Verses\": 35}, {\"Book\": \"Psalms\", \"Chapter\": 69, \"# of Verses\": 36}, {\"Book\": \"Psalms\", \"Chapter\": 70, \"# of Verses\": 5}, {\"Book\": \"Psalms\", \"Chapter\": 71, \"# of Verses\": 24}, {\"Book\": \"Psalms\", \"Chapter\": 72, \"# of Verses\": 20}, {\"Book\": \"Psalms\", \"Chapter\": 73, \"# of Verses\": 28}, {\"Book\": \"Psalms\", \"Chapter\": 74, \"# of Verses\": 23}, {\"Book\": \"Psalms\", \"Chapter\": 75, \"# of Verses\": 10}, {\"Book\": \"Psalms\", \"Chapter\": 76, \"# of Verses\": 12}, {\"Book\": \"Psalms\", \"Chapter\": 77, \"# of Verses\": 20}, {\"Book\": \"Psalms\", \"Chapter\": 78, \"# of Verses\": 72}, {\"Book\": \"Psalms\", \"Chapter\": 79, \"# of Verses\": 13}, {\"Book\": \"Psalms\", \"Chapter\": 80, \"# of Verses\": 19}, {\"Book\": \"Psalms\", \"Chapter\": 81, \"# of Verses\": 16}, {\"Book\": \"Psalms\", \"Chapter\": 82, \"# of Verses\": 8}, {\"Book\": \"Psalms\", \"Chapter\": 83, \"# of Verses\": 18}, {\"Book\": \"Psalms\", \"Chapter\": 84, \"# of Verses\": 12}, {\"Book\": \"Psalms\", \"Chapter\": 85, \"# of Verses\": 13}, {\"Book\": \"Psalms\", \"Chapter\": 86, \"# of Verses\": 17}, {\"Book\": \"Psalms\", \"Chapter\": 87, \"# of Verses\": 7}, {\"Book\": \"Psalms\", \"Chapter\": 88, \"# of Verses\": 18}, {\"Book\": \"Psalms\", \"Chapter\": 89, \"# of Verses\": 52}, {\"Book\": \"Psalms\", \"Chapter\": 90, \"# of Verses\": 17}, {\"Book\": \"Psalms\", \"Chapter\": 91, \"# of Verses\": 16}, {\"Book\": \"Psalms\", \"Chapter\": 92, \"# of Verses\": 15}, {\"Book\": \"Psalms\", \"Chapter\": 93, \"# of Verses\": 5}, {\"Book\": \"Psalms\", \"Chapter\": 94, \"# of Verses\": 23}, {\"Book\": \"Psalms\", \"Chapter\": 95, \"# of Verses\": 11}, {\"Book\": \"Psalms\", \"Chapter\": 96, \"# of Verses\": 13}, {\"Book\": \"Psalms\", \"Chapter\": 97, \"# of Verses\": 12}, {\"Book\": \"Psalms\", \"Chapter\": 98, \"# of Verses\": 9}, {\"Book\": \"Psalms\", \"Chapter\": 99, \"# of Verses\": 9}, {\"Book\": \"Psalms\", \"Chapter\": 100, \"# of Verses\": 5}, {\"Book\": \"Psalms\", \"Chapter\": 101, \"# of Verses\": 8}, {\"Book\": \"Psalms\", \"Chapter\": 102, \"# of Verses\": 28}, {\"Book\": \"Psalms\", \"Chapter\": 103, \"# of Verses\": 22}, {\"Book\": \"Psalms\", \"Chapter\": 104, \"# of Verses\": 35}, {\"Book\": \"Psalms\", \"Chapter\": 105, \"# of Verses\": 45}, {\"Book\": \"Psalms\", \"Chapter\": 106, \"# of Verses\": 48}, {\"Book\": \"Psalms\", \"Chapter\": 107, \"# of Verses\": 43}, {\"Book\": \"Psalms\", \"Chapter\": 108, \"# of Verses\": 13}, {\"Book\": \"Psalms\", \"Chapter\": 109, \"# of Verses\": 31}, {\"Book\": \"Psalms\", \"Chapter\": 110, \"# of Verses\": 7}, {\"Book\": \"Psalms\", \"Chapter\": 111, \"# of Verses\": 10}, {\"Book\": \"Psalms\", \"Chapter\": 112, \"# of Verses\": 10}, {\"Book\": \"Psalms\", \"Chapter\": 113, \"# of Verses\": 9}, {\"Book\": \"Psalms\", \"Chapter\": 114, \"# of Verses\": 8}, {\"Book\": \"Psalms\", \"Chapter\": 115, \"# of Verses\": 18}, {\"Book\": \"Psalms\", \"Chapter\": 116, \"# of Verses\": 19}, {\"Book\": \"Psalms\", \"Chapter\": 117, \"# of Verses\": 2}, {\"Book\": \"Psalms\", \"Chapter\": 118, \"# of Verses\": 29}, {\"Book\": \"Psalms\", \"Chapter\": 119, \"# of Verses\": 176}, {\"Book\": \"Psalms\", \"Chapter\": 120, \"# of Verses\": 7}, {\"Book\": \"Psalms\", \"Chapter\": 121, \"# of Verses\": 8}, {\"Book\": \"Psalms\", \"Chapter\": 122, \"# of Verses\": 9}, {\"Book\": \"Psalms\", \"Chapter\": 123, \"# of Verses\": 4}, {\"Book\": \"Psalms\", \"Chapter\": 124, \"# of Verses\": 8}, {\"Book\": \"Psalms\", \"Chapter\": 125, \"# of Verses\": 5}, {\"Book\": \"Psalms\", \"Chapter\": 126, \"# of Verses\": 6}, {\"Book\": \"Psalms\", \"Chapter\": 127, \"# of Verses\": 5}, {\"Book\": \"Psalms\", \"Chapter\": 128, \"# of Verses\": 6}, {\"Book\": \"Psalms\", \"Chapter\": 129, \"# of Verses\": 8}, {\"Book\": \"Psalms\", \"Chapter\": 130, \"# of Verses\": 8}, {\"Book\": \"Psalms\", \"Chapter\": 131, \"# of Verses\": 3}, {\"Book\": \"Psalms\", \"Chapter\": 132, \"# of Verses\": 18}, {\"Book\": \"Psalms\", \"Chapter\": 133, \"# of Verses\": 3}, {\"Book\": \"Psalms\", \"Chapter\": 134, \"# of Verses\": 3}, {\"Book\": \"Psalms\", \"Chapter\": 135, \"# of Verses\": 21}, {\"Book\": \"Psalms\", \"Chapter\": 136, \"# of Verses\": 26}, {\"Book\": \"Psalms\", \"Chapter\": 137, \"# of Verses\": 9}, {\"Book\": \"Psalms\", \"Chapter\": 138, \"# of Verses\": 8}, {\"Book\": \"Psalms\", \"Chapter\": 139, \"# of Verses\": 24}, {\"Book\": \"Psalms\", \"Chapter\": 140, \"# of Verses\": 13}, {\"Book\": \"Psalms\", \"Chapter\": 141, \"# of Verses\": 10}, {\"Book\": \"Psalms\", \"Chapter\": 142, \"# of Verses\": 7}, {\"Book\": \"Psalms\", \"Chapter\": 143, \"# of Verses\": 12}, {\"Book\": \"Psalms\", \"Chapter\": 144, \"# of Verses\": 15}, {\"Book\": \"Psalms\", \"Chapter\": 145, \"# of Verses\": 21}, {\"Book\": \"Psalms\", \"Chapter\": 146, \"# of Verses\": 10}, {\"Book\": \"Psalms\", \"Chapter\": 147, \"# of Verses\": 20}, {\"Book\": \"Psalms\", \"Chapter\": 148, \"# of Verses\": 14}, {\"Book\": \"Psalms\", \"Chapter\": 149, \"# of Verses\": 9}, {\"Book\": \"Psalms\", \"Chapter\": 150, \"# of Verses\": 6}, {\"Book\": \"Revelation\", \"Chapter\": 1, \"# of Verses\": 20}, {\"Book\": \"Revelation\", \"Chapter\": 2, \"# of Verses\": 29}, {\"Book\": \"Revelation\", \"Chapter\": 3, \"# of Verses\": 22}, {\"Book\": \"Revelation\", \"Chapter\": 4, \"# of Verses\": 11}, {\"Book\": \"Revelation\", \"Chapter\": 5, \"# of Verses\": 14}, {\"Book\": \"Revelation\", \"Chapter\": 6, \"# of Verses\": 17}, {\"Book\": \"Revelation\", \"Chapter\": 7, \"# of Verses\": 17}, {\"Book\": \"Revelation\", \"Chapter\": 8, \"# of Verses\": 13}, {\"Book\": \"Revelation\", \"Chapter\": 9, \"# of Verses\": 21}, {\"Book\": \"Revelation\", \"Chapter\": 10, \"# of Verses\": 11}, {\"Book\": \"Revelation\", \"Chapter\": 11, \"# of Verses\": 19}, {\"Book\": \"Revelation\", \"Chapter\": 12, \"# of Verses\": 17}, {\"Book\": \"Revelation\", \"Chapter\": 13, \"# of Verses\": 18}, {\"Book\": \"Revelation\", \"Chapter\": 14, \"# of Verses\": 20}, {\"Book\": \"Revelation\", \"Chapter\": 15, \"# of Verses\": 8}, {\"Book\": \"Revelation\", \"Chapter\": 16, \"# of Verses\": 21}, {\"Book\": \"Revelation\", \"Chapter\": 17, \"# of Verses\": 18}, {\"Book\": \"Revelation\", \"Chapter\": 18, \"# of Verses\": 24}, {\"Book\": \"Revelation\", \"Chapter\": 19, \"# of Verses\": 21}, {\"Book\": \"Revelation\", \"Chapter\": 20, \"# of Verses\": 15}, {\"Book\": \"Revelation\", \"Chapter\": 21, \"# of Verses\": 27}, {\"Book\": \"Revelation\", \"Chapter\": 22, \"# of Verses\": 21}, {\"Book\": \"Romans\", \"Chapter\": 1, \"# of Verses\": 32}, {\"Book\": \"Romans\", \"Chapter\": 2, \"# of Verses\": 29}, {\"Book\": \"Romans\", \"Chapter\": 3, \"# of Verses\": 31}, {\"Book\": \"Romans\", \"Chapter\": 4, \"# of Verses\": 25}, {\"Book\": \"Romans\", \"Chapter\": 5, \"# of Verses\": 21}, {\"Book\": \"Romans\", \"Chapter\": 6, \"# of Verses\": 23}, {\"Book\": \"Romans\", \"Chapter\": 7, \"# of Verses\": 25}, {\"Book\": \"Romans\", \"Chapter\": 8, \"# of Verses\": 39}, {\"Book\": \"Romans\", \"Chapter\": 9, \"# of Verses\": 33}, {\"Book\": \"Romans\", \"Chapter\": 10, \"# of Verses\": 21}, {\"Book\": \"Romans\", \"Chapter\": 11, \"# of Verses\": 36}, {\"Book\": \"Romans\", \"Chapter\": 12, \"# of Verses\": 21}, {\"Book\": \"Romans\", \"Chapter\": 13, \"# of Verses\": 14}, {\"Book\": \"Romans\", \"Chapter\": 14, \"# of Verses\": 23}, {\"Book\": \"Romans\", \"Chapter\": 15, \"# of Verses\": 33}, {\"Book\": \"Romans\", \"Chapter\": 16, \"# of Verses\": 27}, {\"Book\": \"Ruth\", \"Chapter\": 1, \"# of Verses\": 22}, {\"Book\": \"Ruth\", \"Chapter\": 2, \"# of Verses\": 23}, {\"Book\": \"Ruth\", \"Chapter\": 3, \"# of Verses\": 18}, {\"Book\": \"Ruth\", \"Chapter\": 4, \"# of Verses\": 22}, {\"Book\": \"Song of Solomon\", \"Chapter\": 1, \"# of Verses\": 17}, {\"Book\": \"Song of Solomon\", \"Chapter\": 2, \"# of Verses\": 17}, {\"Book\": \"Song of Solomon\", \"Chapter\": 3, \"# of Verses\": 11}, {\"Book\": \"Song of Solomon\", \"Chapter\": 4, \"# of Verses\": 16}, {\"Book\": \"Song of Solomon\", \"Chapter\": 5, \"# of Verses\": 16}, {\"Book\": \"Song of Solomon\", \"Chapter\": 6, \"# of Verses\": 13}, {\"Book\": \"Song of Solomon\", \"Chapter\": 7, \"# of Verses\": 13}, {\"Book\": \"Song of Solomon\", \"Chapter\": 8, \"# of Verses\": 14}, {\"Book\": \"Titus\", \"Chapter\": 1, \"# of Verses\": 16}, {\"Book\": \"Titus\", \"Chapter\": 2, \"# of Verses\": 15}, {\"Book\": \"Titus\", \"Chapter\": 3, \"# of Verses\": 15}, {\"Book\": \"Zechariah\", \"Chapter\": 1, \"# of Verses\": 21}, {\"Book\": \"Zechariah\", \"Chapter\": 2, \"# of Verses\": 13}, {\"Book\": \"Zechariah\", \"Chapter\": 3, \"# of Verses\": 10}, {\"Book\": \"Zechariah\", \"Chapter\": 4, \"# of Verses\": 14}, {\"Book\": \"Zechariah\", \"Chapter\": 5, \"# of Verses\": 11}, {\"Book\": \"Zechariah\", \"Chapter\": 6, \"# of Verses\": 15}, {\"Book\": \"Zechariah\", \"Chapter\": 7, \"# of Verses\": 14}, {\"Book\": \"Zechariah\", \"Chapter\": 8, \"# of Verses\": 23}, {\"Book\": \"Zechariah\", \"Chapter\": 9, \"# of Verses\": 17}, {\"Book\": \"Zechariah\", \"Chapter\": 10, \"# of Verses\": 12}, {\"Book\": \"Zechariah\", \"Chapter\": 11, \"# of Verses\": 17}, {\"Book\": \"Zechariah\", \"Chapter\": 12, \"# of Verses\": 14}, {\"Book\": \"Zechariah\", \"Chapter\": 13, \"# of Verses\": 9}, {\"Book\": \"Zechariah\", \"Chapter\": 14, \"# of Verses\": 21}, {\"Book\": \"Zephaniah\", \"Chapter\": 1, \"# of Verses\": 18}, {\"Book\": \"Zephaniah\", \"Chapter\": 2, \"# of Verses\": 15}, {\"Book\": \"Zephaniah\", \"Chapter\": 3, \"# of Verses\": 20}]}}, {\"mode\": \"vega-lite\"});\n",
       "</script>"
      ],
      "text/plain": [
       "alt.Chart(...)"
      ]
     },
     "metadata": {},
     "output_type": "display_data"
    }
   ],
   "source": [
    "chart_verse_heatmap = (\n",
    "    alt.Chart(chapter_verse_counts)\n",
    "    .mark_rect()\n",
    "    .encode(\n",
    "        x=alt.X(\"Chapter:O\", title=\"Chapter\"),\n",
    "        y=alt.Y(\"Book:N\", sort=books, title=\"Book\"),\n",
    "        color=alt.Color(\"# of Verses:Q\", title=\"# of Verses\", scale=alt.Scale(scheme=\"blues\")),\n",
    "        tooltip=[\"Book\", \"Chapter\", \"# of Verses\"],\n",
    "    )\n",
    "    .properties(\n",
    "                # title=\"# of Verses per Chapter\",\n",
    "                width='container', \n",
    "                height=1000)\n",
    "    .interactive()\n",
    ")\n",
    "display(chart_verse_heatmap)"
   ]
  },
  {
   "cell_type": "markdown",
   "metadata": {},
   "source": [
    "### Verses / Testament"
   ]
  },
  {
   "cell_type": "code",
   "execution_count": 21,
   "metadata": {},
   "outputs": [],
   "source": [
    "import pandas as pd\n",
    "import altair as alt\n",
    "from IPython.display import display, Markdown"
   ]
  },
  {
   "cell_type": "code",
   "execution_count": 22,
   "metadata": {},
   "outputs": [],
   "source": [
    "df = pd.read_csv(\"../data/kjv.csv\")\n",
    "df = df.astype({col: 'string' for col in df.select_dtypes(include='object').columns})\n",
    "\n",
    "df.drop(['version_name', 'version_abbr'], axis=1, inplace=True)"
   ]
  },
  {
   "cell_type": "code",
   "execution_count": 23,
   "metadata": {},
   "outputs": [],
   "source": [
    "testament_contribution = df.groupby(\"testament_name\").size().reset_index(name=\"verse_count\")\n",
    "testament_contribution.rename(columns={\"testament_name\": \"Testament\", \"verse_count\": \"# of Verses\"}, inplace=True)"
   ]
  },
  {
   "cell_type": "code",
   "execution_count": 24,
   "metadata": {},
   "outputs": [
    {
     "data": {
      "text/markdown": [
       "### Verses / Testament"
      ],
      "text/plain": [
       "<IPython.core.display.Markdown object>"
      ]
     },
     "metadata": {},
     "output_type": "display_data"
    },
    {
     "data": {
      "text/html": [
       "\n",
       "<style>\n",
       "  #altair-viz-1a1a99b029864d1d9c1dbf42171e2841.vega-embed {\n",
       "    width: 100%;\n",
       "    display: flex;\n",
       "  }\n",
       "\n",
       "  #altair-viz-1a1a99b029864d1d9c1dbf42171e2841.vega-embed details,\n",
       "  #altair-viz-1a1a99b029864d1d9c1dbf42171e2841.vega-embed details summary {\n",
       "    position: relative;\n",
       "  }\n",
       "</style>\n",
       "<div id=\"altair-viz-1a1a99b029864d1d9c1dbf42171e2841\"></div>\n",
       "<script type=\"text/javascript\">\n",
       "  var VEGA_DEBUG = (typeof VEGA_DEBUG == \"undefined\") ? {} : VEGA_DEBUG;\n",
       "  (function(spec, embedOpt){\n",
       "    let outputDiv = document.currentScript.previousElementSibling;\n",
       "    if (outputDiv.id !== \"altair-viz-1a1a99b029864d1d9c1dbf42171e2841\") {\n",
       "      outputDiv = document.getElementById(\"altair-viz-1a1a99b029864d1d9c1dbf42171e2841\");\n",
       "    }\n",
       "\n",
       "    const paths = {\n",
       "      \"vega\": \"https://cdn.jsdelivr.net/npm/vega@5?noext\",\n",
       "      \"vega-lib\": \"https://cdn.jsdelivr.net/npm/vega-lib?noext\",\n",
       "      \"vega-lite\": \"https://cdn.jsdelivr.net/npm/vega-lite@5.20.1?noext\",\n",
       "      \"vega-embed\": \"https://cdn.jsdelivr.net/npm/vega-embed@6?noext\",\n",
       "    };\n",
       "\n",
       "    function maybeLoadScript(lib, version) {\n",
       "      var key = `${lib.replace(\"-\", \"\")}_version`;\n",
       "      return (VEGA_DEBUG[key] == version) ?\n",
       "        Promise.resolve(paths[lib]) :\n",
       "        new Promise(function(resolve, reject) {\n",
       "          var s = document.createElement('script');\n",
       "          document.getElementsByTagName(\"head\")[0].appendChild(s);\n",
       "          s.async = true;\n",
       "          s.onload = () => {\n",
       "            VEGA_DEBUG[key] = version;\n",
       "            return resolve(paths[lib]);\n",
       "          };\n",
       "          s.onerror = () => reject(`Error loading script: ${paths[lib]}`);\n",
       "          s.src = paths[lib];\n",
       "        });\n",
       "    }\n",
       "\n",
       "    function showError(err) {\n",
       "      outputDiv.innerHTML = `<div class=\"error\" style=\"color:red;\">${err}</div>`;\n",
       "      throw err;\n",
       "    }\n",
       "\n",
       "    function displayChart(vegaEmbed) {\n",
       "      vegaEmbed(outputDiv, spec, embedOpt)\n",
       "        .catch(err => showError(`Javascript Error: ${err.message}<br>This usually means there's a typo in your chart specification. See the javascript console for the full traceback.`));\n",
       "    }\n",
       "\n",
       "    if(typeof define === \"function\" && define.amd) {\n",
       "      requirejs.config({paths});\n",
       "      let deps = [\"vega-embed\"];\n",
       "      require(deps, displayChart, err => showError(`Error loading script: ${err.message}`));\n",
       "    } else {\n",
       "      maybeLoadScript(\"vega\", \"5\")\n",
       "        .then(() => maybeLoadScript(\"vega-lite\", \"5.20.1\"))\n",
       "        .then(() => maybeLoadScript(\"vega-embed\", \"6\"))\n",
       "        .catch(showError)\n",
       "        .then(() => displayChart(vegaEmbed));\n",
       "    }\n",
       "  })({\"config\": {\"view\": {\"continuousWidth\": 300, \"continuousHeight\": 300}}, \"data\": {\"name\": \"data-72466ceedce2355848ed88c2bc146f1a\"}, \"mark\": {\"type\": \"arc\"}, \"encoding\": {\"color\": {\"field\": \"Testament\", \"legend\": {\"title\": \"Testament\"}, \"type\": \"nominal\"}, \"theta\": {\"field\": \"# of Verses\", \"title\": \"Verse Count\", \"type\": \"quantitative\"}, \"tooltip\": [{\"field\": \"Testament\", \"type\": \"nominal\"}, {\"field\": \"# of Verses\", \"type\": \"quantitative\"}]}, \"height\": 500, \"params\": [{\"name\": \"param_4\", \"select\": {\"type\": \"interval\", \"encodings\": [\"x\", \"y\"]}, \"bind\": \"scales\"}], \"width\": \"container\", \"$schema\": \"https://vega.github.io/schema/vega-lite/v5.20.1.json\", \"datasets\": {\"data-72466ceedce2355848ed88c2bc146f1a\": [{\"Testament\": \"New Testament\", \"# of Verses\": 7957}, {\"Testament\": \"Old Testament\", \"# of Verses\": 23145}]}}, {\"mode\": \"vega-lite\"});\n",
       "</script>"
      ],
      "text/plain": [
       "alt.Chart(...)"
      ]
     },
     "metadata": {},
     "output_type": "display_data"
    }
   ],
   "source": [
    "display(Markdown(f\"### Verses / Testament\"))\n",
    "\n",
    "chart_testament_pie = (\n",
    "    alt.Chart(testament_contribution)\n",
    "    .mark_arc()\n",
    "    .encode(\n",
    "        theta=alt.Theta(\"# of Verses:Q\", title=\"Verse Count\"),\n",
    "        color=alt.Color(\"Testament:N\", legend=alt.Legend(title=\"Testament\")),\n",
    "        tooltip=[\"Testament\", \"# of Verses\"],\n",
    "    )\n",
    "    .properties(\n",
    "                # title=\"Testament Contribution by Verse Count\",\n",
    "                width='container', \n",
    "                height=500)\n",
    "    .interactive()\n",
    ")\n",
    "\n",
    "display(chart_testament_pie)"
   ]
  },
  {
   "cell_type": "markdown",
   "metadata": {},
   "source": [
    "### Lexical Richness / Book"
   ]
  },
  {
   "cell_type": "code",
   "execution_count": 25,
   "metadata": {},
   "outputs": [],
   "source": [
    "import pandas as pd\n",
    "import altair as alt\n",
    "from IPython.display import display, Markdown"
   ]
  },
  {
   "cell_type": "code",
   "execution_count": 26,
   "metadata": {},
   "outputs": [],
   "source": [
    "df = pd.read_csv(\"../data/kjv.csv\")\n",
    "df = df.astype({col: 'string' for col in df.select_dtypes(include='object').columns})\n",
    "\n",
    "df.drop(['version_name', 'version_abbr'], axis=1, inplace=True)"
   ]
  },
  {
   "cell_type": "code",
   "execution_count": 27,
   "metadata": {},
   "outputs": [],
   "source": [
    "def calculate_lexical_richness(df):\n",
    "    lexical_data = []\n",
    "    \n",
    "    for book, verses in df.groupby(\"book_name\"):\n",
    "        all_text = \" \".join(verses[\"verse_text\"])\n",
    "        words = all_text.split()\n",
    "        total_words = len(words)\n",
    "        unique_words = len(set(words))\n",
    "        lexical_richness = unique_words / total_words if total_words > 0 else 0\n",
    "        lexical_data.append({\"book_name\": book, \"lexical_richness\": lexical_richness})\n",
    "        \n",
    "    return pd.DataFrame(lexical_data)"
   ]
  },
  {
   "cell_type": "code",
   "execution_count": 28,
   "metadata": {},
   "outputs": [],
   "source": [
    "lexical_richness_df = calculate_lexical_richness(df)\n",
    "lexical_richness_df.rename(columns={\"book_name\": \"Book\", \"lexical_richness\": \"Lexical Richness\"}, inplace=True)"
   ]
  },
  {
   "cell_type": "code",
   "execution_count": 29,
   "metadata": {},
   "outputs": [
    {
     "data": {
      "text/markdown": [
       "### Lexical Richness by Book"
      ],
      "text/plain": [
       "<IPython.core.display.Markdown object>"
      ]
     },
     "metadata": {},
     "output_type": "display_data"
    },
    {
     "data": {
      "text/html": [
       "\n",
       "<style>\n",
       "  #altair-viz-30f045c4a1d14fb18bb3354877d4a089.vega-embed {\n",
       "    width: 100%;\n",
       "    display: flex;\n",
       "  }\n",
       "\n",
       "  #altair-viz-30f045c4a1d14fb18bb3354877d4a089.vega-embed details,\n",
       "  #altair-viz-30f045c4a1d14fb18bb3354877d4a089.vega-embed details summary {\n",
       "    position: relative;\n",
       "  }\n",
       "</style>\n",
       "<div id=\"altair-viz-30f045c4a1d14fb18bb3354877d4a089\"></div>\n",
       "<script type=\"text/javascript\">\n",
       "  var VEGA_DEBUG = (typeof VEGA_DEBUG == \"undefined\") ? {} : VEGA_DEBUG;\n",
       "  (function(spec, embedOpt){\n",
       "    let outputDiv = document.currentScript.previousElementSibling;\n",
       "    if (outputDiv.id !== \"altair-viz-30f045c4a1d14fb18bb3354877d4a089\") {\n",
       "      outputDiv = document.getElementById(\"altair-viz-30f045c4a1d14fb18bb3354877d4a089\");\n",
       "    }\n",
       "\n",
       "    const paths = {\n",
       "      \"vega\": \"https://cdn.jsdelivr.net/npm/vega@5?noext\",\n",
       "      \"vega-lib\": \"https://cdn.jsdelivr.net/npm/vega-lib?noext\",\n",
       "      \"vega-lite\": \"https://cdn.jsdelivr.net/npm/vega-lite@5.20.1?noext\",\n",
       "      \"vega-embed\": \"https://cdn.jsdelivr.net/npm/vega-embed@6?noext\",\n",
       "    };\n",
       "\n",
       "    function maybeLoadScript(lib, version) {\n",
       "      var key = `${lib.replace(\"-\", \"\")}_version`;\n",
       "      return (VEGA_DEBUG[key] == version) ?\n",
       "        Promise.resolve(paths[lib]) :\n",
       "        new Promise(function(resolve, reject) {\n",
       "          var s = document.createElement('script');\n",
       "          document.getElementsByTagName(\"head\")[0].appendChild(s);\n",
       "          s.async = true;\n",
       "          s.onload = () => {\n",
       "            VEGA_DEBUG[key] = version;\n",
       "            return resolve(paths[lib]);\n",
       "          };\n",
       "          s.onerror = () => reject(`Error loading script: ${paths[lib]}`);\n",
       "          s.src = paths[lib];\n",
       "        });\n",
       "    }\n",
       "\n",
       "    function showError(err) {\n",
       "      outputDiv.innerHTML = `<div class=\"error\" style=\"color:red;\">${err}</div>`;\n",
       "      throw err;\n",
       "    }\n",
       "\n",
       "    function displayChart(vegaEmbed) {\n",
       "      vegaEmbed(outputDiv, spec, embedOpt)\n",
       "        .catch(err => showError(`Javascript Error: ${err.message}<br>This usually means there's a typo in your chart specification. See the javascript console for the full traceback.`));\n",
       "    }\n",
       "\n",
       "    if(typeof define === \"function\" && define.amd) {\n",
       "      requirejs.config({paths});\n",
       "      let deps = [\"vega-embed\"];\n",
       "      require(deps, displayChart, err => showError(`Error loading script: ${err.message}`));\n",
       "    } else {\n",
       "      maybeLoadScript(\"vega\", \"5\")\n",
       "        .then(() => maybeLoadScript(\"vega-lite\", \"5.20.1\"))\n",
       "        .then(() => maybeLoadScript(\"vega-embed\", \"6\"))\n",
       "        .catch(showError)\n",
       "        .then(() => displayChart(vegaEmbed));\n",
       "    }\n",
       "  })({\"config\": {\"view\": {\"continuousWidth\": 300, \"continuousHeight\": 300}}, \"data\": {\"name\": \"data-6c33d1b1d52b3febcc84b3b29c0bf93e\"}, \"mark\": {\"type\": \"bar\"}, \"encoding\": {\"tooltip\": [{\"field\": \"Book\", \"type\": \"nominal\"}, {\"field\": \"Lexical Richness\", \"type\": \"quantitative\"}], \"x\": {\"field\": \"Lexical Richness\", \"title\": \"Lexical Richness (Unique-to-Total Word Ratio)\", \"type\": \"quantitative\"}, \"y\": {\"field\": \"Book\", \"sort\": [\"Genesis\", \"Exodus\", \"Leviticus\", \"Numbers\", \"Deuteronomy\", \"Joshua\", \"Judges\", \"Ruth\", \"1 Samuel\", \"2 Samuel\", \"1 Kings\", \"2 Kings\", \"1 Chronicles\", \"2 Chronicles\", \"Ezra\", \"Nehemiah\", \"Esther\", \"Job\", \"Psalms\", \"Proverbs\", \"Ecclesiastes\", \"Song of Solomon\", \"Isaiah\", \"Jeremiah\", \"Lamentations\", \"Ezekiel\", \"Daniel\", \"Hosea\", \"Joel\", \"Amos\", \"Obadiah\", \"Jonah\", \"Micah\", \"Nahum\", \"Habakkuk\", \"Zephaniah\", \"Haggai\", \"Zechariah\", \"Malachi\", \"Matthew\", \"Mark\", \"Luke\", \"John\", \"Acts\", \"Romans\", \"1 Corinthians\", \"2 Corinthians\", \"Galatians\", \"Ephesians\", \"Philippians\", \"Colossians\", \"1 Thessalonians\", \"2 Thessalonians\", \"1 Timothy\", \"2 Timothy\", \"Titus\", \"Philemon\", \"Hebrews\", \"James\", \"1 Peter\", \"2 Peter\", \"1 John\", \"2 John\", \"3 John\", \"Jude\", \"Revelation\"], \"title\": \"Book\", \"type\": \"nominal\"}}, \"height\": 1000, \"params\": [{\"name\": \"param_5\", \"select\": {\"type\": \"interval\", \"encodings\": [\"x\", \"y\"]}, \"bind\": \"scales\"}], \"title\": \"Lexical Richness by Book\", \"width\": \"container\", \"$schema\": \"https://vega.github.io/schema/vega-lite/v5.20.1.json\", \"datasets\": {\"data-6c33d1b1d52b3febcc84b3b29c0bf93e\": [{\"Book\": \"1 Chronicles\", \"Lexical Richness\": 0.18615271298796957}, {\"Book\": \"1 Corinthians\", \"Lexical Richness\": 0.2036567321919256}, {\"Book\": \"1 John\", \"Lexical Richness\": 0.21104928457869634}, {\"Book\": \"1 Kings\", \"Lexical Richness\": 0.12663185378590078}, {\"Book\": \"1 Peter\", \"Lexical Richness\": 0.35393939393939394}, {\"Book\": \"1 Samuel\", \"Lexical Richness\": 0.1255639397931888}, {\"Book\": \"1 Thessalonians\", \"Lexical Richness\": 0.326619488296135}, {\"Book\": \"1 Timothy\", \"Lexical Richness\": 0.38636363636363635}, {\"Book\": \"2 Chronicles\", \"Lexical Richness\": 0.12382523303540603}, {\"Book\": \"2 Corinthians\", \"Lexical Richness\": 0.24237427864798022}, {\"Book\": \"2 John\", \"Lexical Richness\": 0.5234899328859061}, {\"Book\": \"2 Kings\", \"Lexical Richness\": 0.12295395603928404}, {\"Book\": \"2 Peter\", \"Lexical Richness\": 0.39858338699291695}, {\"Book\": \"2 Samuel\", \"Lexical Richness\": 0.1452012233603573}, {\"Book\": \"2 Thessalonians\", \"Lexical Richness\": 0.38258317025440314}, {\"Book\": \"2 Timothy\", \"Lexical Richness\": 0.40816326530612246}, {\"Book\": \"3 John\", \"Lexical Richness\": 0.5986394557823129}, {\"Book\": \"Acts\", \"Lexical Richness\": 0.15190134455167864}, {\"Book\": \"Amos\", \"Lexical Richness\": 0.2647058823529412}, {\"Book\": \"Colossians\", \"Lexical Richness\": 0.348155634158666}, {\"Book\": \"Daniel\", \"Lexical Richness\": 0.17211066103593897}, {\"Book\": \"Deuteronomy\", \"Lexical Richness\": 0.1161511057811012}, {\"Book\": \"Ecclesiastes\", \"Lexical Richness\": 0.23785624663918264}, {\"Book\": \"Ephesians\", \"Lexical Richness\": 0.29781601588352086}, {\"Book\": \"Esther\", \"Lexical Richness\": 0.20017761989342805}, {\"Book\": \"Exodus\", \"Lexical Richness\": 0.10580424073677447}, {\"Book\": \"Ezekiel\", \"Lexical Richness\": 0.10360143143575036}, {\"Book\": \"Ezra\", \"Lexical Richness\": 0.20241935483870968}, {\"Book\": \"Galatians\", \"Lexical Richness\": 0.29409857328145267}, {\"Book\": \"Genesis\", \"Lexical Richness\": 0.11478151787581016}, {\"Book\": \"Habakkuk\", \"Lexical Richness\": 0.4189830508474576}, {\"Book\": \"Haggai\", \"Lexical Richness\": 0.315929203539823}, {\"Book\": \"Hebrews\", \"Lexical Richness\": 0.25402348847324924}, {\"Book\": \"Hosea\", \"Lexical Richness\": 0.26459219172787013}, {\"Book\": \"Isaiah\", \"Lexical Richness\": 0.14555321561639398}, {\"Book\": \"James\", \"Lexical Richness\": 0.37890625}, {\"Book\": \"Jeremiah\", \"Lexical Richness\": 0.10639095981619544}, {\"Book\": \"Job\", \"Lexical Richness\": 0.19471764835893468}, {\"Book\": \"Joel\", \"Lexical Richness\": 0.3413674372848008}, {\"Book\": \"John\", \"Lexical Richness\": 0.1324499842882581}, {\"Book\": \"Jonah\", \"Lexical Richness\": 0.3522727272727273}, {\"Book\": \"Joshua\", \"Lexical Richness\": 0.1344154466369616}, {\"Book\": \"Jude\", \"Lexical Richness\": 0.5542763157894737}, {\"Book\": \"Judges\", \"Lexical Richness\": 0.1437308868501529}, {\"Book\": \"Lamentations\", \"Lexical Richness\": 0.3169158604514805}, {\"Book\": \"Leviticus\", \"Lexical Richness\": 0.09526914143677927}, {\"Book\": \"Luke\", \"Lexical Richness\": 0.1528586298623694}, {\"Book\": \"Malachi\", \"Lexical Richness\": 0.33632790567097137}, {\"Book\": \"Mark\", \"Lexical Richness\": 0.17875511011473033}, {\"Book\": \"Matthew\", \"Lexical Richness\": 0.1530569160614761}, {\"Book\": \"Micah\", \"Lexical Richness\": 0.30774111675126903}, {\"Book\": \"Nahum\", \"Lexical Richness\": 0.43457943925233644}, {\"Book\": \"Nehemiah\", \"Lexical Richness\": 0.20381679389312976}, {\"Book\": \"Numbers\", \"Lexical Richness\": 0.10473352993038032}, {\"Book\": \"Obadiah\", \"Lexical Richness\": 0.42451420029895365}, {\"Book\": \"Philemon\", \"Lexical Richness\": 0.5302325581395348}, {\"Book\": \"Philippians\", \"Lexical Richness\": 0.3298213467704993}, {\"Book\": \"Proverbs\", \"Lexical Richness\": 0.1935762734406171}, {\"Book\": \"Psalms\", \"Lexical Richness\": 0.12271577171773967}, {\"Book\": \"Revelation\", \"Lexical Richness\": 0.17032096706961233}, {\"Book\": \"Romans\", \"Lexical Richness\": 0.21160989069298525}, {\"Book\": \"Ruth\", \"Lexical Richness\": 0.2937062937062937}, {\"Book\": \"Song of Solomon\", \"Lexical Richness\": 0.3299473288186606}, {\"Book\": \"Titus\", \"Lexical Richness\": 0.49330357142857145}, {\"Book\": \"Zechariah\", \"Lexical Richness\": 0.20999534378395157}, {\"Book\": \"Zephaniah\", \"Lexical Richness\": 0.35705445544554454}]}}, {\"mode\": \"vega-lite\"});\n",
       "</script>"
      ],
      "text/plain": [
       "alt.Chart(...)"
      ]
     },
     "metadata": {},
     "output_type": "display_data"
    }
   ],
   "source": [
    "display(Markdown(f\"### Lexical Richness by Book\"))\n",
    "\n",
    "chart_lexical_richness = (\n",
    "    alt.Chart(lexical_richness_df)\n",
    "    .mark_bar()\n",
    "    .encode(\n",
    "        x=alt.X(\"Lexical Richness:Q\", title=\"Lexical Richness (Unique-to-Total Word Ratio)\"),\n",
    "        y=alt.Y(\"Book:N\", title=\"Book\", sort=books),\n",
    "        tooltip=[\"Book\", \"Lexical Richness\"]\n",
    "    )\n",
    "    .properties(\n",
    "                title=\"Lexical Richness by Book\", \n",
    "                width='container', \n",
    "                height=1000)\n",
    "    .interactive()\n",
    ")\n",
    "\n",
    "display(chart_lexical_richness)"
   ]
  },
  {
   "cell_type": "markdown",
   "metadata": {},
   "source": [
    "### Word Cloud"
   ]
  },
  {
   "cell_type": "code",
   "execution_count": 30,
   "metadata": {},
   "outputs": [],
   "source": [
    "import pandas as pd\n",
    "import plotly.graph_objects as go\n",
    "\n",
    "import spacy\n",
    "from wordcloud import WordCloud\n",
    "\n",
    "from IPython.display import display, Markdown"
   ]
  },
  {
   "cell_type": "code",
   "execution_count": 31,
   "metadata": {},
   "outputs": [],
   "source": [
    "df = pd.read_csv(\"../data/kjv.csv\")\n",
    "df = df.astype({col: 'string' for col in df.select_dtypes(include='object').columns})\n",
    "\n",
    "df.drop(['version_name', 'version_abbr'], axis=1, inplace=True)"
   ]
  },
  {
   "cell_type": "code",
   "execution_count": 32,
   "metadata": {},
   "outputs": [],
   "source": [
    "nlp = spacy.load(\"en_core_web_sm\")"
   ]
  },
  {
   "cell_type": "code",
   "execution_count": 33,
   "metadata": {},
   "outputs": [],
   "source": [
    "# def generate_word_cloud(book_name, df, pos_tag=\"NOUN\"):\n",
    "#     book_verses = df[df[\"book_name\"] == book_name][\"verse_text\"]\n",
    "    \n",
    "#     if book_verses.empty:\n",
    "#         print(f\"No Verses in Book: {book_name}\")\n",
    "#         return\n",
    "    \n",
    "#     text = \" \".join(book_verses)\n",
    "    \n",
    "#     doc = nlp(text)\n",
    "#     tokens = [token.text for token in doc if token.pos_ == pos_tag]\n",
    "#     texts = \" \".join(tokens)\n",
    "#     wordcloud = WordCloud(width=1000, height=500, background_color=\"white\").generate(texts)\n",
    "    \n",
    "#     # wordcloud = WordCloud(width=800, height=400, background_color=\"white\").generate(text)\n",
    "    \n",
    "#     plt.figure(figsize=(15, 10))\n",
    "#     plt.imshow(wordcloud, interpolation=\"bilinear\")\n",
    "#     plt.axis(\"off\")\n",
    "#     plt.title(f\"Word Cloud for {book_name}\", fontsize=15)\n",
    "#     plt.show()"
   ]
  },
  {
   "cell_type": "code",
   "execution_count": 34,
   "metadata": {},
   "outputs": [],
   "source": [
    "def generate_word_cloud(book_name, df, pos_tag=None):\n",
    "    book_verses = df[df[\"book_name\"] == book_name][\"verse_text\"]\n",
    "    \n",
    "    if book_verses.empty:\n",
    "        print(f\"No Verses in Book: {book_name}\")\n",
    "        return\n",
    "    \n",
    "    text = \" \".join(book_verses)\n",
    "    \n",
    "    if pos_tag is None:\n",
    "        texts = text\n",
    "    else:\n",
    "        doc = nlp(text)\n",
    "        tokens = [token.text for token in doc if token.pos_ == pos_tag]\n",
    "        texts = \" \".join(tokens)\n",
    "    \n",
    "    wordcloud = WordCloud(width=1000, height=500, background_color=\"white\").generate(texts)\n",
    "    wordcloud_image = wordcloud.to_image()\n",
    "    \n",
    "    display(Markdown(f\"### {pos_tag.capitalize()} Cloud ({book_name})\"))\n",
    "    \n",
    "    fig = go.Figure()\n",
    "    \n",
    "    fig.add_layout_image(\n",
    "        dict(\n",
    "            source=wordcloud_image,\n",
    "            x=0,\n",
    "            y=1,\n",
    "            xref=\"paper\",\n",
    "            yref=\"paper\",\n",
    "            sizex=1,\n",
    "            sizey=1,\n",
    "            xanchor=\"left\",\n",
    "            yanchor=\"top\",\n",
    "            layer=\"below\",\n",
    "        )\n",
    "    )\n",
    "    \n",
    "    # pos_tag = pos_tag.capitalize()\n",
    "    \n",
    "    fig.update_layout(\n",
    "        # title=f\"{pos_tag} Cloud ({book_name})\",\n",
    "        xaxis={\"visible\": False},\n",
    "        yaxis={\"visible\": False},\n",
    "        margin=dict(t=40, l=0, r=0, b=0),\n",
    "    )\n",
    "    \n",
    "    fig.show()"
   ]
  },
  {
   "cell_type": "code",
   "execution_count": 35,
   "metadata": {},
   "outputs": [
    {
     "data": {
      "text/markdown": [
       "### Verb Cloud (John)"
      ],
      "text/plain": [
       "<IPython.core.display.Markdown object>"
      ]
     },
     "metadata": {},
     "output_type": "display_data"
    },
    {
     "data": {
      "application/vnd.plotly.v1+json": {
       "config": {
        "plotlyServerURL": "https://plot.ly"
       },
       "data": [],
       "layout": {
        "images": [
         {
          "layer": "below",
          "sizex": 1,
          "sizey": 1,
          "source": "data:image/png;base64,iVBORw0KGgoAAAANSUhEUgAAA+gAAAH0CAIAAAAhSpB6AAEAAElEQVR4nOyddVzT+R/HP+tmMGKju1NQsBDFwO5uPTvOn3HGeecZd955dnd3t2IHCoKkdHfHGOv+/TEdYwz23Rihx/PhH+yzT31x7Pv+vj/v9+sNk0qloJNOOumkk0466aSTTjrp2CDbewOddNLJj0kWK/lW0Rm6oCrQKGS42dT23k4nHZQnX9LXXHui2LKwX8CKgT3baz+dAADCyzZUcKNDLK/ikEbtvZf/EGFFeYdiI5OqythCoWL7fK+uG3v0lf1cUMe4k5H8piCnkMlgCgTGeEKghfXKrr1oBCIAgCcS+V04gkEgomYsRsLhipPcTE/65W3oPK+uv32bCgBQymbujw5/W5hbzeUa4wkhNg4/+/UwwOJa+0pbSE5iQXFWuVIj2YjoFeja2ktn19RMu3WTzuMZ4nDh8xe09nIqgavv0kkrs/WvB4lJRdD7xycUyH9OSS35Y9s93e+pkxbDYHIXr78CsXNyRuny3653hJ3oEAei+3qX3d763aEP4Uu4VwuOtt6WOumkE2hIkTAcDNZpIbQdr/KzZz6+VcquW9W199be/T2NqQAAbxPTkyFjfvLqKu926kv0vphwoUTSx9JmgrM7Fom8npY46cE1vlgEAMAikYNtHWt43I/F+UrzP8hKAwCMdqw3bbPo1cNuXbyRnuREMZro4mFKIJ5Nih177wqdx22LC24Bx9dd+XP6QaV/57bcaoOl7SmUTwsW7hg4qA3WaopOj/v3x5nzYQf2TGvvXXSiBjIJd/SfDuFm7jg7UUsmM6VWWN3eu+jku6FOyLiYf2qpw+q2mf9W0ZU+xsEmGForLddx6En7p7238J9j9+ePCDj88vCJliQyAGCck0fglRO5tTX9rGwVfefLfbvP9uhip0+RvRRJJFMeXv9cVvwyP3uYnTMAYLSj2+2M5AdZaUGWtvJRNTxuREmBvT7Fw4gqb/zf6yd0Huf80PF9LG1kLXujP+6Pifgn8v2OoJDWv2It4XMFyZ8y2nsX7Umn4d5unL/4MSo6x9iIRKezZS0Xr4RHx+QBAHp2d5g0wR8A8OhJ/Os3qWKJ1MfLcs6swNy8ysvXPmVklm34/RYAYPvWcQCAWjp787Z71TVsqonexvUjYLB2u6L/ApXVrL0nXxaX1YpEkuEDPKeM7gYA2HvilaOtyYuwVAaT27+Xy4zxAc/fpTx48aWkrPbOqUXysckZpUcvvONyhUQCZu2SQeY0/bDIrOMX35OIWBcHNabAh6iss9cjJBKJSCzZ+PMQFwfa2evhb8IzkAg4iYjdumYEWQ/3/F1KZFze7/8bCgBgsflTl56+dXLB2/AMpZ0UldZuP/DUwswgO69SIpH8vnKYnZWRbIlr96PFYklSekmvbvbbfhmJQiFa43cokPDvl1xKZkRLgLSLfo8RZlORMBRbxDybt7eEmy+Q8DclLQQABJkM628ysqlJ2CLmtcLjlfzSGkGlSCI0w1nPt1tHRhmwRHV3i89nMBORMGQ3StBg2ng4rFWuoikSikpPh8ccmDhcqf11enZWZc2C3t3acjMdcD/fNeMtvo8H4E6+OwRicWp1hb2BocxqBwAQUChfqtnL/OxSNlPeCAAwxhOM8QT5SyQcPtbJ/XNZcU4tXdbS09zKGE94npclEIvRiK/ffk9y0kUSyWhHN/nAqNKipKrywbaOcqsdALDIx/94wuf7Wal/Bg5Awdv0mxM6SeEZQr6ovXehTHxZ6d7w8MTycqFE4mpsvLlfsJuxMQAgsqho9t07UQsWkjAYWc9VoU8BAHsGD9F6rZYa7nwx637xnxOt1Dyd1wpK9dGmAIBsVmQ5N6On8YwWrvu9U1hUExGZdfTgTKkUzJ53CgCQlFyUlFy8b9dUAMD63256eVqQ9fAvX6fs3TkVBgOr111LSy91cTbd8MuwaclFf28bL5+qvLJu147JKBRixarL+QVVNtadIYmtyD+HQnt2tdu+fjQAgMevD0N8EZa6Y+MYLAYlEksAAIOC3Lp6W89bc1HeQSAU7Tn+cv/WiUQC5k14+r6Tr7b9MnLn0efHdkwzo5L3n3rd/LqXbkeuXTLI2Z7K4wuRSAQAYFSI9+yJPWEwcPxi2LO3KRNH+vXr6Xzi8gc2R0DAo99GZPTyt0ejkI13AgBITCteNLOPl6v53afxV+993vjzEADAvlOvT+6cbkDGr95ya+IIv1ay2gEAd4vP8cTcDa57xVLx6ZydL8rvDqFNJCBJyxw2hVU9S2J8Xmz/m9pJnpbdICHJP9muoQuqtqetnGO7iowyAABczD9ggjHb5HaIJ+Gey937vPzuYNp4tbO1AcHO9sHO9u29i3o62n405WL+KZ6YR0QSZS/vFd+o4lfyJfwx5hPNcBYAgGuFF1hCpkDCH2I60pbgEFn98TM9AgVDuZO9exv1VRpSLaiMqP6AhCFrBFUjzMY5k9yU5gcAvCh/Elb5ZpH9CjOcRSIjTqm/FEgv5J2USCUpdYle+l1mWM+DchWZjBuxlTvH2r1mCYsSqg/V8JKlQKqHsg6gbtFD17tLK7lxKfSz1bxEsVRAQlna6g130p8KaxjpKpJw0muvFLFfs4RFUqkEi6QYYjw9DZcQUebQ5ylgPY8o2yh/OdbuNQpOkr8UStj3c0NIKKsQK+XQu6cFEzmislE2z5BwHPQ9dyJHIpVKAUA1jEqXOdq5ImETg75igicAAGShMgAABAw2wt7lTGLM28LcQTYOskZZnMwoh/o4mYiSQgCAv6mF4lQ4JMqcqJddW5PLoDsZdFBbIvZVUntvQQX6WOwIZ5d/Bg5CIxD/hL1f/+L5g6nTAAABFhZmJNLjjIzJnp4AAIFY/DI7+/jIJn1SUGgLjztbRI+l3w2mLmmDtb4XiovpdrbGMBgMBgM2NkYAgLz8amdHmsxf7uRIzc6ppFAIxSW1a9Zfkw3hcgUqp3K0p8psLH0DAoejuo9akiOzbh99iUKjKoqqfYNcZ6wbAQA4+MuV4uxyHkfg189N1nJtf2j8u1SJVGpqY7xy7wyVLT8wYrEkPrno39/Gyl5iMSj5W4EBDrKXSITqO1NOflVhSc3y377+bxoaEPOKqk2MSGZUMgCgZzf7rLzKZpYeM6TL5t2PBgW5jhzkbWhAAAB8isl99i4Fj0OXlNf27uYAAEChEMG9nF9/TBsx0OtlWOqciU2m9xkbEr1czQEA9jbG7yMzZY1CoQiFRAAAEE1cgk4QS8VRNe9/cd6BgWMBAD2M+ssMd03nKebm9zYaBAAwQBtRUMaV/FJDtAldUJXBTJpjsxoFR6Pg6IG0MVfyj0A03KeeuX5l7qS/Qt8KxeLNw/rPOHfj4uyJR99HhufkAwD6OdnP7ekHAFh05V6ArWVsYUklk316xlgCGn08LCo8p0AilVpRyH+NHAQAqGFzVtx8VMlkm5JJu8YNhQFw+XPC3fjkHrZWqwf0BgDEFBSfjYhBI5DFjLpedlY/91PxP9XR9tOhyGZlwABsvt2ydGbKy/Kn2axMnoQ3z25pBb/sdtHVxfYrpUCawUxZ6fQrCakHAGCJmO8qX/7isgkGYN9maDCkt1FfqVQy125xCbfoSel9JAypOL9syEDq0BJufTKSYn9nkhtdUMMWsZY4rHpcepeGNW+852YoZofFVP5DxQU46k/mi+ml7HA8sj6eIZ8ZGln+BxFtaac3EgHDVHBj46v2V3ETepn+C75dDl9Mf128oE6QZ4j1dCRPggFYrSCrnBvVDbFRo3lo+O79zI/yxbXJNacYgmylfaLgBHNi3wLmM4Ygi4x2kLfT+Wl1glwb0jC51Q5lLZ0jEopZdBbZWA/W4nNnPoePwqDgrflNqAQWibTTp+Qy6NVcjiEODwAQSsTxFaUEFNpGz0Cxp1gqfZyd/jwvM6OmuobH4QiFPLGy+3m0o+uZxJgHWWkyw72czYouK/almlnp1XvuS1l1AICt4W+2hr9pvB+mQEtbog2Ie9MRDXcbfQMb/a//U1M8vSbfvCH99lmf4O5xJzVFZri/z8vTx2K7W1q1ZC0VhvurssNcMUMo4Xc3mmyKcw2rOMsQlgolvECTuUYYGwCAYgvpW8p5VPUNiVTU3WiqUgepVBJRfaWKl/dUvMuB1AMOQxZzkx+X7KgTVvQymmFF8GnJ7r9fTE31c3IrZVqchYU1AAA7W+P3H9Jl4pxp6WXd/e0N9AlUE72df0+Cw2EikQSBgAEA4HAYny+SSqXy7yZdfbmU5lYeefMbAGDFkB19x3azdKQt3j4RiUJKxJJZXX+bvnY4DAZ7dePT+mM/2XtaSiVfVUQbt/zAyK5Q5V0Bi0Y1blQaa2pCPrt3lrwlNatMPlVT5r6ckL5uPbraPX2dtGj9lT9WDSOTcKevfbx4YA4ehz53I0IoFMu6jQrx/mv/017d7Msq6rzcLJqaDYdF12/smyDsgumBC9ddtjQzMKQQuni06GulGeqEdIlUvDej3p7AILRRMDDG0Ao4WX4GvZnCWoaQboIxAwDUCmswcBz224T6KEOmiCGWihAw9R4KAzyujsenc7gCkZjJ5+vjcbGFJbGFJRdmTwQALLh818/a3NucBgDAIJEHJ46QD7yXkLJ7/FA3monk22+yhME8M3McGoGYfvZGdmW1g7HhtG7eJAw6s6I+fD+/pvb+ohkAgImnrg73dLEzonTw/XQoqgSVJlgaAEAWbl7OK8lmZZzKOQwAMMWaAwBgADbNau7FvFN4JGGi5fQqfoUZzgKmYDI2HiLz0+MQeL6EpzS/ShT7AwAM0BQ4DHEx/xRLxOxjPECjy4mu2N7HbJ8J7lsCorFUwSKvja782xjXpa/ZYdi3oK9P5b/nM0OL2e/NCUGylriqPXWCPC/DZa4G9d8wEqkQDkNpNA8arifbRk7dg8aGOwDAhjSsgPksj/nU23C5vDGf+RQAYKM3TKO1dAufK9gw5C/vvh7Bk3taumj24NSYi9tu95vU097HRhdbg8rPvj3+9/rxjMe3fvLyQ8ERN9MTy9is9QF95OEuAAChRDzj8a1PJYWOBoYDrO0t9fT10Jjkqoqj8ZGKU3kZ0+z0Ka/yszkiIR6JepSdLpFKFdNSwbfb2QBre1tygwcDGVSFaJwOBaOKmZNY2N67UEE1h3M4KvJjQQFLIJBKpSKJRCKRIOBwAMB4d/c94R8LGAwrMvlJZsY4N/cWPlk2vp9JCzkJE63+xSP1AQAl3BSBhDPc/Fe6oPhdxcnRFpuVWoaYrkHAELE198RSYQ+jaSqHdKOMS2G87k9bCgDIZkWi4fhhZuuq+Hmfqq78Zw13ayvDrn62S1dcMqWRzcz0AQBurmbeXlb/W3MFSKX+/vbubuYAgBHDfFavuwaHw6QS6d9/jsdgUDAYrF+Qy6JlF2g08pbfR+twSxYOVBgcBgCwcTErzauiWhke23iDx+ajsCg2gyMRSxFI2KZzi24dfl6WXz1uyUD/gR4AgMYtPzBIBNzDxezhiy+jQrwBAByuAI9Dqx0lw87KiMnmJyQXebtbSKWAzuDYWBiWVdSVVTBoJuTP8XnND6+qYRlRiJNGdq2ms5PSSrzdzIkEDB6HFghF4Z+zu327wZjT9HE41I2HMQMCXTT1OuUVVk8fFzCkn7tmwzRED2UAhyF+cf7XCENt/C4MsjdumOnkfRm/pTMT4QAxxmImBW0MADBAG/ElXJ6Yg0XgAQC1gmoSkgzFagcAeJnTPuUW4NEoDBLxKbfQy5yWVVntYUaVbcjdlJpeXikzlP2sGpgFhyaPPP0xuqiWMbdn176OtgAAN1Nj2b2WQsCz+aodV7aGFDgMBgBwNDEqoDMaG8odbT8dCkO0USYzHQBQLagEAFCxZpY465k28xX72BOdljiself56kPV2x6GgaW8YimQyj9gSkMSGXGKnz2l+VWi9FmFAZhIKpxsORMFh/qdIMeCGFxvtcsm+0YB64VIwnHSnwxTSNWwIobkM0NL2B9kRrBIwilgvSChrBStdgCA3GqHOA8UaPgAHNKogBnqZbhUFvciBZIC1nM8kmqC89PtWgAANoMT/yaJoE/w7O2CQCJKssuzE/K8g9z0DEmVRdVSiTQzNsfK1ULPkBT5OAZPwjt3sze1pwEAKgqq0qOz3Xs6U2j6AICijNLM2BxzB1OnrnaNXyp2zk8pKs0pbxc/1GhH1zwGfV9M+Ib3zwEADvqGO/sOnuDc4K56My3pU0lhoIX1uaHjETD5052KgO9RDq57oz++zs8ebu/yJCcdCYcPt3dW7CCTj+xpbj3X07e1LqkViHuT3DGrDy16+ICEwZwfO45GJMaWlIy/fk3+lhEeH2xrdzc1ZUk3/9c5OQ+nTW/hWo1vabCBpiuele7FIoj9qIur+YXF3ORHxdsBAIZoKwBA45ZKXh5dUDLecrtsfOMOSsjc9hg4USDp6JJDrcq8OX3AnAYt0yZ3nza5gXZeyECPkEbW8M9LB8p/dnM1k5vvLbTj89NLJWIJDAbLSy2euDwkISydWcvZeGo+s5b97m60rI+pjdHKfTOZteyFvbdeSdqhsuXHZsPywXuOv7wbGi+VSAf3c5clpzZm297HZZV1tQzuqs03ne1pC2cEYtDI7etHHTzzhsMVSKTSiSP8hvX3XLNowOqtt/X1cD262jW/7s6jL0rKa1FIhKEBYdoYfz0Szt7aeN6aiwQ8pqu3tWLP0SE+W/c+Pr17RlM7aWoJoUhy4WbEjQfRPL5owgjfsUO6aPi7gQQChgig9H1UemWi5XwcglAjqGQJGdYER9m7ZJRBBa+EI2bjEYTmPeVF3FxDDHWx/W8IBeNAH0Vx1fN5VHp1lNkMvoT3ovxud8NgiBvzsqBd+BQ32N1JKBbfiUue29MPjUA8T8mU3SISS8r6On2NOYY3fCSyMiBvHzWIweUNPXz+45qFAAA4BBG97MpqsVQKAyCjvEplhmhH20+HwoHo/LHq3cmcQ0YYYxgMbk90TK1LPJFzEADgQfbuadiHJWKeyzuOheN4Eu54i6kkpF5Pw6DDWbsxcIwzyb2PcbDSEBKS1Mz8AAC2iPWo9G42K5Mvueum50FG6SttiSGsBQCczzspkopMceajzDTIrKBgmhSfpvNTAAAfSn9p/BZfXCP7oVaQIZWK5Xaz1vNAAQbg1sTBabWXKrmxsoeNck4UV1TlajBbHr+uq7V4bP7msbtGLg0pz6v07uOWk5B/feeDQbODds49+uvln+NeJb69HjFhzYj9i0/+79gCGByOxqJwRCwAoDyv8vTGq0PnBe+ed+zXyz9LpdLDK85OWjeqorDKqasdq5at+FKx88w/JlzZfmfE4kGfn8UHT+kFfas6Ib2m6njC5xV+PVZ2bXLptJoqAMAIexeEwl99arWKx8vRjq57oz8+ycnoYWYVV1EaZGlLweIVO3Q3s9wfExFRkv99Ge6xrztinAxfJIotKbkwbjyNSAQA5NDpSh0meXpsf//em0pzNzGxJJNVzaEBKu6L5jj3MZZb4umPEmufmuPdTbD2g03rxbYMMZaKLXwxi4KxCDFdGVqye4zlVjQcp9QBAACHoYQSnvwldKdaJ20JyYDwz6LTFUX0bv09LByoehTCtX1PN007TDEh27qZAwCkEum6MXtRaKREKh0+N0hlS+vB4QgOHXyxdt2wVl1FLTRjPXmMu5yVC/ortfy+UsU+XRxoh7dPUWwJ6uEU1MNJ9vP0sQHNrLtj4xillk2qlgAAYLEoWysjK3NKUzuxMNW/fGiu7GcvV/N9WyYCAN5/yuTyBFePzAMA8PjCyYtPtdxwv5h/sJCTzRDSYQD2hfHZnugyyXIhAGCM+azQslu70zewRUw9lMEg2li54e6u5xtP/LQtZTkajh5Cm9TdsF/T08Ny2Rm/Js4FAGAQuIEmowONBwMAplsvu1t0fmvKMiQM6WfQO4Q2DuJuPc1oH7Pzfx/aTyASb3vyZs/4oTgUyt/GYua5G1Ip6ONo42Nh2niURCqdef4WGoGQSKXT/H1UziyWSDbcf55dWcPi80sYdcv69gAAkHHY1beelDLqghxtbA1VHFV3tP10NGbZNCh9MtyswV8lEUla5rBGsaWXUVAvo6BmhniSuwAADNAUmfij0vwEJHGS5Qxg2WT/sMrXA6lDnUluEql4d8Z2ja4Fg9Bv6i2BmAUAcNaf1rgPEWWp2AeFIIGmgTIPRGz0hqfVXspjPpUZ7l/jZEj13zO6Wis5Ir3bEJ/Ab1+M4Q8+j1wS4t7TqSClKPFDGgCg76QeXYI9Yl58EQnFLt3sM2NzvYPcAAARj2LYteywO1F11cys+DyvPq76JuToZwmjlw0GABDIeMWXip1fXQ4bNCuo6yDvqKfxGv1OdMKnkkKuSGhBIoskEqXaSXJMiUQAQAGTIW9Jrqq4lBLfuKe1nr6Piem7wtzneVmN42QAAD3MrLyNaS/ysu9mpoxRUJthCwUFdQxXQ+OWX1FrEPc2pb23oAIMEmlEIEQUFvqbm6dVVR39HKXUoY+N7caXry59SRjvroMzbWXDnStmPC3ZhYbjBBJuX+oCCtoyjxXzoPhPAIAdwd9Df5AZzk2xxZHUEwAYGUXrYTw9tGTXSIvflDp46A8ywlgzRVUPiv90Jw9svIPvmtORMTtevV8e2H15YI922cAQ5/WaDhkxrceSTaMatxuZGmw48ZP8pR6FuPuRsstEqQUGhzXu00rEx+dXVtS1zVrfNfefJYwO8dZ0FJvDRyO/uq6zcispBjoIcJxhvVxlOwqOHmE2dYSqWqpwGKKpUYqUcPNvFZ7e7HaYhNIHAJTyCnanb+hlNBAOQ+ARxGnWS7XYLRGD/vLbz7KfEzZ+3cOC3v4Levsrdjs2dXTDDcOuzp2k2OJtYSrXXpT/8O+YwYp9atgcmh5pz/ih39F+Omkeb32/ByW3P1V/4Io5A6jaC70pgYITAAAWxH5G2Cb/qGV9eKKqFs4DETLa3gDjXMR63dV4nRRIi9hvKVh3PbSNztfC4jCsWo78JV4Pz67jAADYDA6eiK0tByh5ro5UqhhfhCNi+07uNXBGH3nLuvNL85IK/5y8d1/YNhgMpvhSsXPo2TdcFg8AwOfwW7Jz7Rhs63g2KeaXt6G/vA0FAMAAMMYTulDNfunW28HAUNZnuL3LwZhPx+KjSllMc6JeDqMmNDdztKPbrXQVfujRjq6bP74+nhCFR6IG2jg07nBwwIgpj66vfP3kfFKcq6GxSCIpYdXFlJcMs3Pe3a+5z3DfXSehXNHbNfPVd9KEosyyioLmPudtwNrnz17n5NTx+SKJxPPwIRIas2fI4O4WljtDQja/fnMyJtrZ0HDHwEHTbzeoBoWAwSa4u5+Niz04TFmZVwuUDXccgjzWcptiS2PpRqUWmRakFd7bCu+tsgMChppg9bf8pT0xAABAQhkpLaQppXVMfRwWh1KTFNhJB4TB4O7e9STxS6FIJDY3p/yybpi9vQkAgMcTHjv6KvxjplQq7dvPbcHCfigUgsHgbvnjTnZ2BY8nHD/2AABg/AT/yVM0qMf5HyH0TfLlu1GOtiaDgzV+pg/u7RIek7N4/RUYDIZCITYu15nl0RowRQwEDIGAIwEAYqkok5mijzJsY732TjpRxBJvvdRhlc6npWBd85iPK7gxzRjBZIw9DMCreYlSIGlKbxHKPNCxIQ2Pq9pdwgkHAIgkHFtSA1tEV2u59XR6curVngXHpRLpkn2zB80K2r/4VPSzBC6T697LuSS7rKmBfSf13DnnSFpUFp/DX3FkXnUJ/dqO+wQy3sLJDABQlluh+FKx89y/puyaezQ7Ib80p7wlO9eCGh5nw/vn1VzuGEc3IxweACCQiEtYda/zcxIqSp9PnKOHxgAALEnky8Mn7vwc9iIvSyiROBhQdvYdPNrR7UVeVuM5R9i7/BnxNo9RO8rBFY9UYSlZ6ZEfj5t5IuHzs9zMOxkpKASciieOdXSb5OrV/G572H2NgobBYFgUMjQpAwDgbWmqh8XUcnlJxWVwGHxJ3+bOkLUj7k2yzueEzsJr92Q/+Ol/Pe2Ew+BHJ30VduxjbfN6Tn30c9rPK5SGCyXiEc4uOKQOtBxhHTPMXy1CsbjrniO7Rw0d4NSeUsQ/kse9LTl18m1ZGWP9hhEAgJSUYicnGhaLAgDs2vmEw+H/snaYSCT5/bdbPj5Ws+d89Zrcuxvz8UPGzt1Tmpu3k/8GUiB9XHotlv5RJBXBAdwSbzfMdDIN26SKTicdmSdf0tdce6LYsrBfwIqBHV2SUifIdNy7U7dak1Q/KgvEjEf5o2Aw5ECL84qK7DxxDQpORMC+upw/lv5SxH7rabjEzaDedJBIRQBIZSmqEOeR867k5zJOhJKOuxy+mH4/b4g1MQQAWAHr+SibUDRCT9M9Q0TAE6IwSLkAl4AnRGMheev4HD4ai5YpLoiEYpFAhCV8rYCj9FK5s0CERLd1bcplLx+G5mY+mzDbXr9BXrislOnpwWP6W3fQqgunwj6/zcg9NXMsFvX1l8YTipZcud/Dzmp+oI6zZbZM3h/+MKapd917OO55+btuV1SkisUGABx6HznEzdGaYlBUy3ibmbumf+/mRwnEYqFY/KW8bPHDh3emTLUz0EEg4vdaOTWmqIQr7HClszqBCJVKfvMmNfxjRs9ejl5eX6MeRSLJ82eJJ0//hMOhAQDDh/tcvhQuN9w76UQODMCGm04Zbtr5FNfJDw4aQQ6gbg0v2/CscKoVcRAeSeWLa+oEeRXcmGHW9wior54/X+O1dEFGYvWREnaYEdYLAUOzRCVlnIhg8xNktD3EeaRScTU/UShhCyVsrqgCAFDAfIFFGqLgBBLKGoesD3rGIAxM8T3LuVFSqcSM0FvRaoe+Z6i/gYZmOkSrHQCAwdfb5UgUAqlQUU7ppXLnNrfaAQCfSgotSHpKVjsAgIjGAADqBO0QugORy1EJvwwKlFvtAAAsCjmpq9ffT9/q1nCXiCVf3qfqcEJNMSISAAC1XG6AjSUAgKZHvPQ5Xu2oiMLCRQ8fGGBxW4P768RqB0qG+7uYrHV7Hzw+vNCQ3EElPOV8yMlv7y10oj0jRnYhkbA3b0bt3/ds/AT/SZO7w+GwmhqWWCxZsuicvBser7Gwmk5g8vgxecWpJZVppRX51bUMLq+OyxeIxAQMmoBB6WExtsYUF1Njd3Nqd3tLRBNZRC2kksl+nZIdlVuUXVFdxmBxBAIkHE7GY/VxWEeaUVcb8x4O1paUliany/lSWBaVU5hRXpVVXk3ncDl8IUcgQCOReDSKiEGbGehZGxrYGht0sTJzNTNBwL/v/HKOQPguLScqtyijtKqIzmDy+EKxGINEGhLxVob6Xpa0Xo42XazMWlzFRT0SqTQuv+RNak5KSUVuVQ2Ty+eLRDgUiozHWlL0HaiGftZm3ewsKQRtpO7ltP31ZpZXv0jOjM0ryamsqeVwhWIJHo0y1Sc50Yx6OVoPcHMgYOr/tJvKw+tEhjmhzyDL86n086WcD3xxLRquR0RZeBouxiLrjTwc0niQxcW02ovF7LdZjJsAwHFII3NCXxzCCPo8AgnzVVGDoOToyq8xru6U+R6UBtm6tqThJeww0DAtVaM9d6KIHgZbzKwrZTNNCfVHHBUc9pWUBBgAXUzM2nFvzVPD5jRuFEskNWwdywamx+SwGCrWamMIGPRvj17YGBrk19RCCdUOsrFJXf6zbvfQIFSm3Q33Anrt2ajYj7kF5UwWEg43JhK6mJuOcHfpafs1oOp9dt6Fz3GpFZWVLHbj4anrVyhaUcWMuiMfIz/m5FeyOWQsxt/ackmvACdjw8YDIfZMLa/c++5jTGGJSCJxp5ks6R2QV03f+vxNZ6iM1uTkVGz67fb0Gb0GD/ESiSRDB+88d2GBmZmKp9L792I+hLVuqAydzQ1NzHiVkh2VWygSS6AMoRDxw71d5gd1MyTi1fdWYNiec7lVXxWjMEhk9Oal8o9uaS1z77MPTxMzxJLm9gCHwfq72S/qF+BqZqLR0opwBcLzH2PvRCcX0RnqewMAACBhMd3sLIZ5OQe72WNUhevxhKJuWw6JFYSQ7/48w5nWXPXsRwlpa68/VWp8v2GBEam5L6IzYdG7nobJX472dds+PqT5zZfU1p14G/UgLpWn7rzOwoA8J9BvQjdPtbWxmuLYm8gDL8LlL/dMGTbY00mxw9Mv6Ydff8qpUCOQh4DDutpYHJ89Rp49DJ22vF4ZSUXlu0LfR+UUNdOHgEFP6e69sK+/zHyPyCr46cxtxQ7/nVCZTjqRcS0tcf27ZxQsfoidI5VAZAkE+XW17wpzeSLR//x6/q9rx/1zmHTiqkAkPjZ9NFWPKGupYLIWXryHRiKuL9Dl/frKjvvnt95upkNrh8rIiS0sKaplmJH1ujasodFmdKBQmeyqmvHnrnKFQm8zmoepCYPLy66quf0lmYzDyg13JBzuQjV2oRq/ycrJrKwe5OxgQ6k38hRLWsYXl/507S6Tz/cyo/lampUzWc9SM16mZx0YOzzYsYFmNsSeCSVlMy/f5ApFnqZUa4p+fk3tT1fv9HVQI7/9H6Sk7mQe/W9L8gpLfeXkDDmxsXlWVoZGRiQTEz0yGS+zkpFI+OAhXidPvF21ejCRiCsvq62hs93cvv5hGBqSCgurmUweiYQVicRIzY2YZkgvq7oUHvcoPo0v0iz+qobFufAx9n5syq8j+o7waVKMuXn4IlFWebWzqTEA4FFC2qY7L9SaWQAAiVT6IjnrdWrO+mFB03r4aLHuy+SsPx++qahjaTSKyeO/Tsl+nZJNwmIOTBsRYK+s74ZFIR1MDNPL6nP/00srmzfc4/JLGjcmFJb1d2surDOtpIF6sYdFk0UuAQBiifRMWPThVxECkbiZbnKK6IxtD15fjUzYMWFwSx6N5JQymPKfOQLhr7eePU/KhDJQLJHWcnmaWu1tf71SKTjyOuLo60iJurwpNl9w6t3nJwnp+6YO97CgkvFYLZbrpJMfickunoZY/IXk2MfZ6XUCPhqBoOKJITaOk1w8e5q3Vh1rnbB+cNBPF+7033PaiWpkgMcxuLz08kokHH5qprJucgvpIArumRXVpyKi7Y0oIz1db8cnj/Np3ZKFKulAhvv1+ES2QPBHSPA0v/pU9NTySkOFY+KetlYyI76MycysrB7t6aYyOZUnEv185xGLzz8wdvhgl68S0QklZbOu3Fp9/+nThbNoJKKmPTc+ecEVitYGB87r/rXE3e0vyRsePdfxb+G/QXJS8T/bH7LZfBwO3aeP8+DBX3PYly4beP5c2KIFZxkMrqEhccbMXnLDvUdPh/fv0qZNOYLFoubM7TNkqA60EWQIxeKfTt9qybkeg8tbdyOULxSP76Zl7djkkgpnU+OrnxK2PXit0UCxRPLXwzfVLM7PGnooz36I2fX0fUtS0wUisauZaq1fd3OqkuEOujT3VBObV9y4Mb6gpHnDPaW0QvGlp4WKUqwy2HzBqquPwzLymplNJVnl1VOPXd8xcfAgD0dNxypRWvvVcK/l8Bacu5NUpIFsRZCzrUZrtf31SqTSjbee34/TQGK5pLZu5skbR2aOsm26SmsRk9H70kkAQNbCVZ0RNZ382Ay0sR9o00EzUJuhi5XZsxVzzkfEJpdUVDBZRkT8zO5dZvX0NflmO+kEHpufGpWtwwm1ZvfrDxsGBe17Gw4AeJeV2+EM9xcR6ZuPPV03Z8DIvl/NkayCyoNX3yekFyORiF5d7FZO76tPwql9a8HWa4Fd7AUi8Z2XCSwuv5u71bq5A4wNlP9TZX4aJceSK1WbKgBPUtLLmKwhrk5yWxwA4G1Gm+vvd+jDp4uf434JDtSoZ1JpeUZFlYU+eW5AfXW6cV7ul6MTksraWjfqB2DGzF4zZqooDofBIBcs7LdgoYqyOwgE/NffRrbGZlAIxJTuPodfRTTVAQ6DkbAYAgbN4gtYPH5TDsUt91/amVB8rbUJRkwuLqfqEf98qMJqRyLgFAJeIpUyODyhWLX39PjbSF9rs95ONhCXe56UufPJ+6beJWExeDQKAYczeXwWn9+UcT/Y00kPp9pX6mlBuxNTr9uVVtZk3XgAAIsvyCyvbtweX1DazCieUJRfVV+dDomAO9NUf1dwBcIFZ+/GFahw6gMAEHAYGYdFI5G1HK7Kgw6+SLT62uPdk4e10HYvYzBlsy29cF8jqx0A0NdFg5O9drne3aFhzVjtRAyagEXXsnlKJ1o8oWjpxQfn50+AvlAnnXTS0TAmEdYMarImt0748iFNJOgQeiQ4NMqaot++e2jScH8fk73l2NPVM4PlVntxBWPhtutdXC12rh7N5QkPX3u/ft+DY79Pav4tGRcff/Zztdy8ZAibw993+d2G/Q9PbVYOfhru5nwpOn5z6Ovk0oopvl7OJs2drTdPZH4RACDQzkapPcjB9tCHT+F5BZr2TCgpAwAEWFkoVRf3szTrNNx/AKb18Dn9/rOiHeNMMwpysXM3p7qaGZvrk+X/7VyB8Eth2YO41EcJaUpmtFgi3ff8w4X5E7XYwOvU7BfJWYomcg8Hq6Fezr2dbExIRNnqEqk0rbTyVUrWpfB4Jq+ByIBUCrbcfxW6ei6UtFEmj7/53kulRhIWM66rR18XO1czYxK2XmBBJJbkVtEzy6sSCko/ZubnVNYHZE8M8GxqCfeGzm9F73tj4vNLVD4LJReXi8SSpkKuM8qqFMPonWnGKoNJpFKw5vrTxlasJYU8pbt3DwdrJ6qR/D+3msWJyCq4HZMUmV2o2Fkska6/GWptZNB8wE/zyDzuW+69UtyMHg7bw8Gqu52llaG+AQGHR6OYPH5JLTOjrDIypzAuv1QskRgQcF6WzUUBtfv1RucWnw1TodHW08F6fDePQCcbeSpqLYf3MTM/NDH9VcpX5xlXIJx76lbjsZ00j1QqLc4qy08pLs4uK8muqCqpYVSzGFV1nDquSCgW8oVisQSJQiBRSDQGhSfjSAZEPQqRQiWbWBlRrQxNbanWbuZ6FF36RNuesrzK1KiskuzykpyK0tzy2komj83nsng8Dh+JQmBwaCwBQyQTqNZGNBtjmo2xk6+dk68tCtOBAg10glgkzojNzUsuKswoLcosrSio5rC4XCaPy+aJRRI0FoXBojEEjKGpvrE5xdjC0N7LysHHxtLJFN6yhBYl+CIRiyfQw2FQCN2X1GhfBXdFLPXJ20Lf5FbX/PrwuaOqnMk2QMUnGI1ERCbmbzz0aMW0oLH963X4zz+IwmPRfy8fgUIhAAD6JNyCrdc+JxV087Bq5i3ZWDgctnXJUNm7WAzqf//e+ZJR4uXUwDfpY256YuLoP1+8uRKbcCU2wY1qMs3Pe7SnqxYfgnIWCwBgqqf8rSRrKa1jatqzms0BABgTlVPlDAmapSR20jHRx2PH+rlf+ZRgbag/0d8rxNPRTF9PZU8cGhVgbxlgbzmjV5fllx4U0xsUc43OLY4vKPWx0kzvDABQzqgPNDcmEbaMGdDYyQqHwdzMTNzMTKYEeC+9+CCxqEH9kWJ63auULChe0tDEjFoOT7HF04J2eMZIlZmgSATckWroSDUc6uUMACitZT5NTH8YnyaVSrtYNXm24EwzQiMR8ujqGhanisluKtM0ViHA3cbIIO+bH50nFKWVVXqYqw6ASWsYJ+PRRJzMhfDYN6kNDlgRcNjKkN6zevk2lgMyJOKH+7gM93F5k5r9y/WnHIFQ/hZPKFp/M/TW0qlaiwiVMpihiRn3Yr+6pfVw2Hl9uk7r4YNDK+sSuJtTB7o7LO3fg8njP0lIZ3B5cMiCL21/vWKJZNuDV0qNGCTyt5H9xnVVjhzTx2OHeTsP83aOzC5cfzO0vI4FAGDxBRCvrpP81OLI0Pi418kZEBQ2hHyRkC/isniMamYpqGjcwYBKtvOwdPF3cO/h5Opvjye1SLyobeBzBB8fRn9+9uXLh7Sq4iYTuwViiYAnZNLZlUU1ucn1z6UoDNKxi61/iHfQuAAz+yaD674LWAzOu1uR0S++JLxLldWUVQmPzeex+aCaWVFQpSimiCfh/AZ4+Id49xzZlUhukSUTlpl34HV4ckm5VArOz5ngb2tx6E2Ej6VZbwfrlkwro7KoJiexIOJxbMun0gmrgnvFFZW40UzsjAy6WLSP2o8Kwz23uGbt3vtLJvaeMKiLYntMaqGfmyXqm/qpqy0VBgPp+RXdPKyaeUvW4mRlIn/X19UCAJBZUKlkuAMA+tjbhNrNfpOVcys++W127sYnL05HxpyYOMrKQF+La2vsxGvq0B9iT1ij22crSQF+R7AFKQW1u+v40UAqJqDdLcjLYDBM4258UVER43AtL0wgrkTCyWRsdwvyMjyqXmSjlvsupWKOg+G/elj/gtpdDF64SFKHRtAM8SGW+isRMOWvFbGEVVx3vJoTyhcVwmFYIsbHXG8hGau9ts+8oG7BbvY97K0h2kgupsbHZ42ZeOSKorkDAPiYmaeF4S7HRI94bt54G6Pm1F6NSISTc8aMOnBR0dwHANyOToJiuMudnTKQCPiBaSOa12+RY6pPmhvYdW5g1+aNLRQC4UQ1SiquP4xKK6vq3aThXh/gPq2Hz44n7+SSPgkFpU0Z7ikNM1M9VWWmltYyFXVdAABwGGz/1BHBzYbOAwD6udqfnTd++vEbiocq6aWVt6OTJvqrqSnYFDUszvqbobKf7U0Mj8wcpVbNk4TFTArQYLl2ud5rkV8aRzr9OW7QMG/nZkYF2Fue/mncjBM36LrWjPshqSqhv7gU9uzi+9IcFfa31tDLGTHljJhXSQAAGBzm0tW+60DPboO8nfxsG9/s2p2kj+mh5999uB/NZfHU924CIV+U8ikz5VPmuS23HHxshs8LHjC1dxv74CfbLqdXNKnitfr4/EHT1YSdZH8peHj85esb4XyO9g+9HCY37O7nsLufD628EDQuYNSSQQ7e2tjZ7zPzFl+6Z29MmdTV69rnL7LGOi7/7McYLQx3AU+Yn1qck1jw7V8hq1aFhKBKkiMyQwgzNV0RIme/7JQ/6XWxMGsvk12G8ucVDoNt2P9QKBKLRMpSdHVMbujH1NCPDQTwq+is5t+SQVIoUYZGITFoJL2JB0Q4DNbf0b6/o30Zk7X9xdvQtMzfn746P3WcRldlpkcCAJQ1kssoY8r86yRNe8o865Us5W4qFUz/OzD58cnl0yRSLhHthUVZ84T5KRWzDXDKEepMflxKxWyxhEnEeJMwfgJxeTX7aQ3nuZPxYQquv2JPOvdNPv1vAEPoYQIkUm4dL6qk7jRbkOJOvazYTSCuSC6fyhXmYJHWBrhgoaSGwQuv5YbZU7ZRSVO1uxYamUQjq6gR2Ax2JpQZvXyPv4lUbIzKKVrav6kRaoDBwJ4pw5q32mXo4bCrBwcqSSjGF5RKpUDtDVdJ+dHb0pRK1vjEnIhRI7HvYUFTNNwzyip7O6r4EhdLJF8K648OulibOVGNUkq+WifxBSVNCeYoe9xV2fdH33ziNnysWtjPX60VK8PTgraoX8DBlw3s4BNvP4/v5gnd/62E7AjC3EDv8sKJTaUHtIR2ud5rkV+UWsZ382jeapdhZ0zZPj5k8fl7anvCAIDDYFdTvlxN+ZJdWy2WSm3JBuOc3ed4+SEa7S2sKP/cl9i48pI6Ad8Ih+9hbrXQx9/FUDnmRyKVvinIeZKdEVNWXMpiSYHUCEfwpZnN9/bzNlF+8O567ggGifw4fQGDz9sfHf48N7uCwyKhMW5GJht7BLkYapOIBZGizNIr/9x/c/OTBJpArdZIJdLUqKzUqKyLf901tqD0GRvQd3yAk1+HkE1LeJ96afvdL2Fpup02Kz5v37IzF/68M+7nwSMXDoRe2qlVyYrPa8Zwry6ln/z12psbTWZkaQGfK3h+KezF5Q9B4wNm/zHe1FYzUamDr8ND3J12TxgKgwG54e5pQXuSmA5leHUpPSexMCexIDepMPtLQVFmaWt/1FtIfHGpj7lpHY93Iy4p2NHOrunc+tZD2XCXSKVr5/avYXB2nn3laG3c3ctG/haJgPX3tJ41MkCxv4Eervm3ZLC59c+FAqGILxBR1EnF00jEvaOHvtt9JKZQheKETEC6KfG+XrbWtxKS32bljPdukPD7NisHANDd2lLTnp6mVADA54JiKQCKN4r4kgbhCv81sqs3SKRca4P15npfa3NUsG5lVa9V7COR8tIrl4olLGfjw4b4r2W9mfz4lPLpmVX/62L2Ao2o95VWc55S8AOdjA7AYRgAAF9UFF86jMGLYPLjSJj685/s6vVcYY4FeYmV/ioA4AAAliApqWxiDn0zGdcbi2w78ayJ3TyVDPf86lqtZxvVxQ16bmuIh+NfD94wuPXOJyaPn1NZbW+iJuqutqGPU60Jrh2eFtRrCr+YtFLV+akpJRXy1AIUAuFINfSwoCkY7qrzUyVSaYZC3DwWhWx81TUszv3YBq4EYxJhYd8AAJlZvX1Pv/+seKJSUlsXnlWg8gkEIgg4fM+UYa1htbfL9aaUVGRXNHC3IxHwxf26Q1wxyNnWx8q0+SxkAAAehf7jw6uLSfEUHN5e37CEVZdaXfln+NvU6srdwUMUe/7z6f2xuCgYADQiyZlIKmQy7makPMpK3z9g2FD7BiL6r/Jz5j+9CwBAIxAWJDIagchj0B9lpYXmZJwfNr6XhfJ3SDmbVclhT7h3tbCOYW9gaK9Pya+rDSvM0+s7COLFagqLwTmz6caTM2+kkhZoP2lFZVHN7QNPbx94au1qPnRuvwFTexH126e0S2lOxf6fz7ZqfHNNWe3JX689OvV66e6Z3QZpeZ6mQ7Li85p66+6hZ+e33W7JgUMzSKXStzc/RTyKnb99yogFGjifMsqrFgUFKD1BG+BxtVwV+xQJxQVp3xzqXwpzEgsY1czG3Toyxz9EHZ006q9n73wsaP+8eH9iyui234OKEyIPB1NDMiE9r+L3Q4/PbptmQdWXtXd1t0zOLnOwMmrsgGnmLRmpOWVCoVgWLROTUggAcLRS9lI8T8/qYm6qGEeeWFrOFQot9FUcKFsb6AMA3mXlDnNT4doJcXG0oRi8SM96kpI+9FuHLyVl56LicCjk9K4+mvb0MqM5GBlmVVWfi4qd4+8ra7yflKryoeI/AkuQyBGmY5GW5nrz5I0mxPFlzAssQb3eahX7kUBcZogfKrfaAQAkjI+Z3rxCxoHSuvPWBuvk7TCAsKdsh38LtsEgLYzww8tZV1mCRLnhzhFm0rlvsUgbS/2VMqsdAEBEe5gQx5cxL1Wwblnpr2q9q1bCVJ9EI5PKFCS6aznaH/3P6uULvTMKgfC2Mn2fnqvYWEyvU2u4EzAYRe3LtLJKKH56TXFv6AJPb8JwVwxwd6QaohAIL0vajaivbptiep3K4Pi8SrpiJrGbObVxVu7DRtnD03t20UgNHY9GDfJwlEely3idkt0Sw32Qh6PKqJ6W0y7X+zBOuQL5QHdHU30NTq7GdfVQa7izhYIryQl/9Rk41d0bBoAUgNMJ0X+Gv72dnjzfu5vcm34nI+VYXJSlHvnQwOEyr7lYKj0RH7XjU9iq10+8TWjmpPrElf7WdnM8ffta2fa2tJG57Wv5vOUvHoUV5u2L/tjYcBdJJLMf33YzMrk1ZqoRDg8A4ItFYYX5ZkTVyTAt5PPzL7sXnaSXQy2L1krkpxYf/eXS5+df/rq3po2Xlkqk9448P7vlZkuiQaBTmlPx25hdfSd0/9+huThiexYWyEkslEqksIZfaDw2f/fiU+9vRzY1SlfwuYJDK8/Hvk5af3YxBgfJp4NHoxiNbPRSRp2xqqKE725H/vvTMR1stP3AolDVbE4djzfFzzsqv30swCZDtNfMCra1MPxlz30u76sDZs6o7pV01vp9DyISchMzS19+St9yLJTB4jX/lgyBSLx+/8PPSQVvo7N2nHnp5WTm6ah8HHko7FPgwZPDT11ceOP+yntPJl+4PvnCdRgAK4NUCFSP8XQjYTD3klLHnrmy5sHTpbcfzrxSL02AhMMPjR1OIeD/d+/JuLNXVt9/OvPyrUnnr/FFor+Hh5iT9bTo+efQAVgk8u+X78afu/q/e09Gn7687uGzcV7tIOHZQWDxEwAAetgApU8RCdNN8WUdPxIAYIALUhquj+sLAKjlfVRsJKDdUYgGdicGaQYAEEvqLWMGLxwAQMZ2h4EGRgke5QwAYCs8M7QNFpQGd26BSAylfFJjHKiGshpM0HGkKtvodVy+yp4NFjJpcLRXzmBdi0zQaF0o2JsYKqZd5lbRVWpZKiq4u5mbgEZBLwmFKg61lBXcVcXJvEjOUmoZ4O6gft8N6dLoACQqt1BlT4jM7NVFfSetaJfrjWkkwK+p5DxEpcup7t7T3L1ltgwMgHneXZ0pRgCATyVfhb8kUunezx8BAP/2DZHHuiBgsMVdAvxNLXgi0aXkBh9yOAz2R+/gICtbebCNPga7LiAQAJBQofocVSKVHhgwXGa1AwAwCOSAVlDdlkqlF/+6+/vY3e1utcsJmdmnjVdk1bI3jPj32LrLbWO1y3l789PywD8K0trTH8dl8YqzG3wCq0vp/wve2gZWu5zwhzEbRuyAGFzex9H2+LuogppaeUsth3chIq6fy/enSQ8FCh436+Kt+T27AQDY7ZRY36ThjkTA/1kxks0VbDn2VJapaWqsd3rzFBQSsenI0yXbbxy5/gGNQmDQyObfkhHczdHJxnjTkSd/HHniYG28ffnwxisu7Nmtt611LYcXlpMXmpZZSGcEO9pdnD5hhLtL487GRMLlGRP6OtiWM1lPUjLiikrQDcVnnEyM7v80bZqfdzWb8zQ1I7OqepCL483ZU4a6OilNBbGnr4XZlZkT+9jb5FTXvMnMxqNRZ6eMnd+jq9pf8Y+KUFwFAEAjlOPhlCxvvqgMAIBGKj+nYZCmAACBuIFuHRqpbIF9s87rD4sFolIAQDnrWni+neK/nJrfAQAiSR1oWxqHPTSltt48vTTP42m8dGPPR2May73/9fDNyXefRTqNLETAYa4KzyEisSS7QoUEhKLH3d2MChpZ/PGq9MjV1kzlCIQJDf24pvokWwjJA0q4mip/vJWc/RphQMB5W2qfuNwM7XK9YomkcVqqpscRhkS8JQRR5DFObkotzoZGAIAq7tcso7TqysI6hh4G071RmckuVFMAQEy5emvMUo8MABCIxQJVf8KT3bxauwiUVCrdv/zspe13pS0pjaZT9I31eo7wU99PdxRmlP4ctCXubfvI/xVmlC7vs7l9xQcz4/LkPzPp7A0j/s1NapG/QAuSIzJ/G7tbwBOq7blqYG+RRDL0wPlxRy8DAHaEvgvZf1YgEi8P1l4roiPz++B+DxfN9LU0AwDsGBXSLntoECoT5Ofw6VJ9mAGFjH9wYL5iB0uawV+qbO7m3wIACETiheN7LRyvouaOnGFuzirjXprCxcT4xMTRzXQwIRL/CAn+IyRY7VQQe3rQqKcmjVFqzPh1pdr5f2iUQxRgMFWn8yruQyruTEpOdJVIgQQAQEC7E9AqnujaMsBdhq7u5U6mGmuE4xspCUKpbz/K123/i/A6BRNfIpXuffbh1uek+UHdRnRxkSWQtBwPC5qiXZ5WWunS8EihoLq2mlWf3i3zuCPgMFczE7knXmUcRaq6mqkpxRViSYPnEAd1EUQqoRCVBfIkUmkJvc7ORJuEJB8FAc3bRUedSD52BHcCUu952dVsdnKg0QgPsgYh6Yq0y/VmV9QoZRlRCDiKqvPx5nGiGRYquOtUYq+vvAEcEgUAkF91ek0VAKCOz7c9ukvlDHSucgxbDZdzJyMlsqQwp5Zey+fxRELet8uRqvp2arwHnXNo5YWnZ9+29ioaETKzDxKlQcBVC0n7nP3ryJ3NiBu2ATw2//dxuzdd+dl/sE+7bCArPr/fxB4AAC6Lt3H0zvzU9jkBSI3M2r3o5IZzS5rvRtUj3lk87Vx47MesPHN9PQDA5G5ec3v5kVshk6cjoJScaoBvBxHVNlJB6jDug050hsyzLhAry5MJxQ0cq7JYF4FY+fT5qyceobGmEgZBAwCQMD52lG2aju3IOFK1L+6jEXg0asPwoA03nym1F9bUbrr7Yu/zD2P93Md387Q21G/hQkpBLxmNyjApmvUIONzpW7kfLwua3HBXWYZJMWJeD4dt7LLNLFdey0qry1GsRSWnksnWznBXDG1KrYvWRxnF0d/PtFlXzi9aaLflcv5urQ33drlepbRUAAAUQaTGmBuokcUEABBQasJtmQI+AICAQrkaqtbEUAxwBwC8zMte8fIxWyjQx2B9aWbdiSQ9NBYAcDSuyYAEDKJ1b5dPz759dFJZEb99gcFgQ+b0bbPlsuLzNo5qZ6tdhpAv2jJ5/+YbK9slXVWen3rg53Pp0TltvwE5b29+8g32UBsrRcZhV/TvuaK/iqjmH48Ompz6vSASSXg8AZ8v4vNFPL5QwBc1VYtehrMTDaHTOmH/cYhoLwBAHS8KgAZaOyx+nGI3fWzvCtZNOve1CbFBYXM69w0AQAvldTKuN6CDWu5HqVQEg7XiB5jO5qaWVuRW0kvodZVMNoPLYwuEPIGQJxIJhGKeSMQXivgiERQnNxQohLZ7cB/VxS2noubku8+N36KzuaffR59+H+1rYz6qi+sQL2etZWeUiiI1FpZRVHB3MKHIPf2KAxuXYSpnsBSTaz3MqY0za0tqlSOmLkfEX46I1/AKVMMRqj8+Vokert4sdiR596dOuF10VCgRIGBIOAyBRWgv3NEu19s4LguKCd4YY2g1BJpHZtmbEvVujVGuyd2YGi5nxctHbKFwlkeX33r1RcER8vZmDPdWpTS34siai1oMhMFgRuYGprYmhqYGJAqRoIdDoZFwJFwkEAt4QnYdh17OqCmrLc4qY9Kh6mHL8Q1211QcUGvyUoo2jPhXbVUplRhQyZZOpsYWhhQqGY1DozBIIU/I4whqymori6rzkou0mFYkFP8149C+N5ts3Cy02FJLyErIBwC8uRHx+nq42s4yEEiEmZ2JqR2VamWII+KweDSAwQRcAaOaWVVck5dSVFnUZLGq5jm+7orfAE8jM22eyX9IOkJy6vdhuPP5ouzs8ozMsuJienlFXWVlXUUls7aWrZEj/+6tFWTyd1AZ7nuBiPHGoxw5wsySurNmenNljZXse3X8aMVuhvghONS+as7zKvYjI8LXYCoWP6GUeQYOw5mSZmi6Lh7lRMEPrOG8yKVvsTHYCId9PY+TSoV07ls9bAAS3iKdh9j8ktDEjA8ZefISnm0DoXVkGZtiZUhvR5rRnw/e1DURFh+bVxybV/z3o7eDPZ2mdPfWQgvF2tCAhMUweV/zZdPLGhvu9R53N7N601wp9EWpDFMqhJqpVcxWdNoJtX1UU/RnwwH8fN4/cBjiUv5OAGDZrCSOWPv0jHa5XhZPOTFLu8+w4vOM1jhSDAEAeQw6RyjEo9QIcn8oKmALhSQ05o/ewYpKaJXcdvP1HllzCUo8sRxrV/OeI/x8+ro5+9lBVEFh0tn5KUWZcXmZcblJERnl+cqnNI0Z9pP6QFOdwKpl/zFhb12NcqWUZsDg0P6DvXsM9/MOdDEyb+4ETCqVFmeVR7/48vFBtEZi8FwWb9P4PQffbyEbaVbio4Wwatl3Dz+79NddtT0pNP1+E3v4DfB0C3Bo/mNAL2dEhsa/vflJ0/B9dh3nwrbbq47Oa6rD/lfh0wK8jRrWlU8rq8worxrp7arUGY1B6VE0LhsCAGAxOGr13RFIBEGvtWw8+De3ryw5deuwAaD9klPbwnA/sWmyFqPYbP7n6NzomNy09NL8/Cpxx9bk/29ib/h3cvn0PPqfVZyHWKQlV5jLFqSaEMdXsOoVfmAwpLPxkeTy6RlVP5fUncKibITiyjpeFIDBHI32YpDaODMcDHekiMrKmJerOc8IaDcEjCgQl3GEmWIJ08/8vdaG+7PEjCOvPzXOt2sbGgestzbDvV16OVgfehVx83NiU5mpPKHoXmzKvdgUX2uzBX39+2iiGQKDATdzk8jsr2lVdDa3ksmWu1drObzcynonkKdlvf1tSdGnEHByt7pSGaZUCDVT2YL2+T5tHsWAn/GWSxnCajLKEAZgTCE9subFQKp6V3FTtMv1Nq6ei0Nrc0PRSU6FhxHVgkQuYjKupyXO8VQjq8oWCgAARni8kn7x0+yMlu9EC7Li86JC4yF27jbIa9r60a4BGksGkQwIHr2cPXp9TSSrKKz+Epb6+fmX6BeJKvVDDKjk7sNaSwRJEalE+s+co2V5qhVjG6NHIU5YOXTInH4kA0hnNTAYzMKRZuFIG71kUH5q8fVdD19fj4CY/lueX7V3yenNN/4HcW+64tjay813sPeymrFxbMAQHzi0OAIDKnnwrKDBs4IK0opPbrwO/fMGAHh55eOUX0aa2qk+ezn2LjLE3VHJcC+m1/377H1jwz1wTLfAMd2A5vzks64oU41urEs3uz0vf9dico34fXA/eYxBh0hO7QhUV7Pevk+LiMj6kljQuHprJx0KEsbXg3ajsHZPHT+aI8ggoj3cqRfQCKqi4Q4AwKOcvU0fFTEO07mv2ZwUJJxMwYdYkBcR0B7arYuE63vQbpazrlSxHzL5MVKpEIUw1sP4UfAhaIQK/6taalicdTdDP2bma7cfnaB1Pc6WYEDA/T4y+Kc+Xc+GxdyOTmpGLyU2v2TR+XtdrMw2juznZgb19NzTgiY33AEA6WVVcsM9rqBE8dbZxdpccaC3pembtK/BnUr5qco1U1V53HUVv9R6wABMH/U1pp+EMhhAndiS2drlepWqtAIAsChtbihIXUQwwmGw9d0Dl714tOPTezIGO9rRVf4HlV5TdT8zdZZHFyrhq6tPpkhTwKiNKy+Vac5IpNJrqV8OxX5q+U604O7h51C64YjYVUfn9Rnrr5NFTSwNB0ztPWBqb4lYkhyRGXYvKuzu55qyWnmHwbOCEJrUAdCaK/8++Pxcuf5uU4xY0H/25glEssY50DKsXc3Xnl40fH7/f+cfL81RTtBSScTj2JdXPgyY2lu7FXUOQQ+/6N+pA6cHwrS6ZVi5mG+7verVtfADP5/lsdXLBwMAxCLxrQNPl++bBX0VHBoJReLsO0X+e2+XzFTQoQz3+Pj8+w/jPnzM6HSuf0cQ0R6uJmeUGntaK+fToBFUO8pWALY2NY8+LqjxKACAOXmROXlR43Y4DG1Kmm1Kmq3xjhtRWsucdfJmEV21arIeDutMM7I3MbSg6OnjcQZ4LBGLwaFR+G//Vlx+FJnT1lpdusVMX2/jiH4/D+x5Jyb5ZlRiTmWT0ZBxBSWTjlxZ2DdgSf/uUJ40lPJTs8qr5HKB8QpxMkQMWkmT3tuq3nBXKsOUVlp/xG9MIlD1VBy8IhrtjULEE9C6CUbSydlINisxsualQPL13jbbZkNLZmuX621sprfv89JwB5diFnPHp/erXj3Z+uG1NVmfJRCUsZlsoRAAMNHFU97Tl2rW28L6Q1H+hHtX/WjmaDg8g15dzmYt9+sempOZSW/TMzeRUBz+MEZtNywBs+PxeueukGTvNQKOgHv2dvbs7bz43+mJH9NfXP4QdjeKx+EPmd1X52s1piCt+Mo/96D0xJNw684s6j5UB4cAbt0dD33Y+vfMw9EvE6H0P7rmkt8ATwMTbVI4dIuDj83m6/8ztmipwFH/yT3N7akbR+2EGP3/9kbEwn+morFQv/o+ZOUbEbR8uOrgZFfVPE/L5Au/ftf9r187pOS2v+EulUqfvUi6du1TQWH7hCh08l+GLxItuXi/sdWORSEndPMc7OXkbWnavIWqndujA0LCYmb18p3Vyzc2v+RuTPLTL+mcRi5VAIBYIj3y+lNeFX3npKFqL13JHa4o5f6lqF5oyMdK+ZesqJwIAEgsKuvnag8A4AiERfRahflVR95jGtmUi/sFKMbbtDsvyq+PMV/QkoRURdrlehtHtDf2wUNBa138xiz06RZoYX02MfZTSWFqdSUGgaQRSG5GJoPtHC0aqsqcHjrmRHz0g8zU+PJSNALhamS8uXfwEDunCg67jQ335IgMDlN9ueWF/0xtDatdERgc5hXo4hXosmzPzORPGVTrVte5kunWi4Tqn/f0jfX+uv+Lg7f2RYuVIJLxm2+s3DJ5HxRnP4vBubLjwdLdGmdk6ZYu/dz/uLZCV4VdXbrZ/3F9xfrh/4ohPG+zGJyIR7FB4+tlr+7EJR9+8/WEasHFuyiFQjpcgZDO4S4K0lIjq4Oz+cmrmf5dHial9bC1zGikrNU2tLPh/iky+9Tptzm5UIPbOhqXLocXl0BNYVwwr68BtJi8H4mUtJLj597t/0f7+N1miIrNdbQzMdCH9FtVuZOzYTHpjdROAuwtd00aaqi5IvWPga+1ma+12YbhfR/GpV6KiG+s+gcAePIl3ZFquLCfmq9mM309xWj1rG/5A1IpSCmuP6dWipMBAHhaUBFwmFjyNZjmS1G5zHDPrqhWDLBprOAuo/H/HZ2t3jZqSwxQxlSszmoOtMv1NtaOVPmkp5am0qMBABYkct7iNSrf2tE3ZEdfFQGmbkYmO/sNVrsoBoFc7td9uV93KNNGz1YjZd0S0mPU6/2Z2poMnqVcfLr1wODRvsFaxjFqxPOLYUnh6vMKMHj0tjurdWi1y0BhkBsvLlse+EdhhprgaQDAkzNvxi0fTLPRrLi1DnHytd1yYyUGr0sNA69A1+m/jj6/9TaUzpFP4xQN95FertYU/Q9Z+cfeRXqYURVV23FolI+l6Qgv5QD3HwNDAn6gi0NkXuEUP+9fH0IKctM57Wa4FxbW7NkXmvCloL02oBPQGOSz55DO2gAAZqb6M6Y3V4KqE025+yhu8dwgiIZ7YwQi8YWPsUqN/nYWJ2ePhR53q12d1I4PHo2aFOA10d/rTWr2/hcfG+fsHnkdOcrXjUZWo7fgbk4Ny8iT/Sx/BsivpsvVZgAAvtbKcv44NMqJZpxa8tW4Tyz86p7PavgU0ZTH3VRfeVdVLI218FoVkVR0KX8nFWsJA3AAQAtj3NvlekmN1GBKGUwt5lH8JPwHKYBQXidwjD/EHMTvCJFQfGm7euEUAMDqo/OdfDVIi4cOjojdeHHZ0l6b1HqdRQLR1X8frDzyU2tsQy0GJuStt1fp1mqXMXHlsFdXPxZlKhdaaUzsm2SpVCo/YUYi4H7W5n7W5ndik3/u39OF1m6PNG0MGokAADB4/EPvP+W0rfScnHYw3KVScPde9MnTb/l8nZ2QtheDB3mePvNOCOGkDwDw8HH81Ck9/iNa8mERmSfOvScRMS5O9TXeU9JKjp19x+UKiETsL8tDRGLxroPPTankrNwKA33877+MIOvhAADnrnx8+yEdgYCTiNgtG0aR9XD7jr50sDN59S6VUccJDnSdPql7cQn96Jm3sQn52/59hMEgB/f3GD7Yu/ESZqb6KnciIyq3qJbTwNsHh8H+HDdIo2w5OqdjuXJ1CwwGgt3sg1zsjr2JPPwqQvEtoVh8OSJ+9eDA5mfwtKDJDXcWX1DOYFHJxKSicnkHBBzmZanC/vaxMpUb7snFX/vnVDSIv1eKoZfTuJqVooO/I+Br0FeHs7XL9dobKwfa5lVqcxsrqlGhg8mo5UwcuPPZ5z+gz7NuyYUF/xtk76Sxbmn7Ul1aq7aPzp3NHYEXl8MqIMTH9pvYQ9HRq3NsPSxHLR5452Co2p5vbkTM/3uK1nmxLWHFoTmtFGGPRCMnrRmxe+FJtT3p5YyCtBJrV+XT0T5ONug2SWLuIOwYNRgAsGlIv7cZuWPHurXLHtraiKyorFuz9uqhIy9/AKsdAKCnhwvq4wKxc1UV82N4Zqvup4PA4wl3H3q2Y8u4I7unyxsFAtHeIy+2bxp78sCsUUN99h17CQBITCmaNrH76YOzXZ1Mz135KOs5cojP2cNzTx+c7eZs9uz1V9HZl29T/v5j7JlDcyaP8wcAmJsZ/PnbGAtTg9/XDj+0c5rMam+8hMqdyPlSqHxC2s3WwkLDIjKtKqHdQUDAYUv7d1/UKDDmwzeLvBnclcLcK6sBAEnF9Ya7M80Ypyr90ceq/kGLweUV0+sAADkKpqElhayPVx3u6d6oKlNqaaUOY6lbjquen/wfU9RSt027XK8D1VDpEbe8jqWF+zyjUdlX7dhxZOZ3Z7UDALgs9eIbeobaSF93ZMQi8fVdj9R2wxGxC3dMbe3NTP5lBAan3pnN5wpeXApr7c00JnBMtx7D1CictoTgiT2I0E6ts7+oEF7bNmqgnVFLk2W/I7Irq9fce7rw6v2wnLz2uqe0qeGella6eOn5uPj2FN3TOcOGekPv/PBxnPpO3z/5hdUmRnpmNH0AQE9/e1ljbn5VYQl9xbqrPy07d/HaVxldGpVsZUEBAPTu7pic+lVmJDI6Z9XG6xu33Y34nF1X99WfHdjDEYtBAQCQyCY/tI2XULkTOaW1yif77k14cJsiq7y6mQjdH4zFwQFKhnIuhINCz4a/0qIaBgBA7koHAHRpFCcjQ9FwBwCklFQAAPKr61dsKk4GAEAh4BQrOgEAxBLJu7T2LB4up4pfCgAo5xXI/2UyE1o4Z7tcLwqBsDcxVGrUVFOVLxLlNq1i9F9AKFB/79ei6GkHJyo0oTRX/aHQ2OWD20DLhWxIGjANktrjs/PvW3szSsAR8FmbxrfqEkg0EqK2em7i962fphO2hr6ZE+B7YsroWf5dtoa+aZc9tF2ozLv3af/8++jHcLQr4uVpZWxMqqyEFNwZF5dfU8OmUH7wFFWpVCpXOpXb2VKplGaid/rQbHm3gqJqybfsQ/mQwuKaM5c/nD/6Ex6HPn81XB6GhMGoF6JqvERaRmnjncjhi5Q/jRSiZrKs7zNyNer/XYNCIDwsaIpedoFIzBOKmlfvNiIRqHrE8rqvNRGL6HUAgPSyeidr4wB3GZYUfQoRX8P6eqCRUVbZ381eZvfLUKngLmegu0Oygl8fAHAxIj7E06mZIW1DZM3zYaazLubvtMZ/LYVTystr+bTtcr1+1mZKud1v03IGa7JoWHpeUyKSSBTi6tmwl48SBELR7MXB/Yd4AQBuXQrnsPklRfTEmDyJVHr82hI9Mi4yLOPSyXe52eX/HJ7p4fM15ZfF5C2ZdnzUJP+n92JZddzBo3xnLwkGAKQnFx/dHSqVSrPSy/T18ZNm9x45UTfK6NqBhRC4XFn0o0muPYfgukZhkKMWDWyDzQAABkzp9fjUa7XdcpMLy/Or2kBvR07QuADLRkGeOqfrAM+nZ9+q7Zaf9jUfo6yORVOlw/tfwIxMcjelAgDcTanGxPax5drI437jZuTWP+/9eFY7AAAGA32DoGZPSyTSN29TWnU/HQFrS8PyirqycgYA4HNsnqzR1saYxeYnJBUCAKRSQK9lAwDKKxg5eZUAgI+RWR6u5gAAFptPJGDxOLRAIAqPym5+ITweTa+tj1RpvITKncjRaySLoZGeHV8kOv9BObf1x0bY0MbCopBQau4oWthFNYwyBlPxmMK3kaSMHG/L+jtWellVaS1T0cjzNG8uLmJcVw+lQI7YvOL36e3/oDXMdBYAIIAycILlMtk/J5IOpKnb5XqH+SgHCj5PyqxkauAefpTQZAl6kVBM1sefvr3sr/3TDv7zuKLs6zPbo1vRE2b0vPxk1bGri/XIOABAQKDTwQvzzRqJW5eX1vJ5wlM3lx65vOj+jaii/GoAwNHdoVPmBO4/O2/1plE2Dibta7UDAMjG6is9f3oS3/obaTsY1UwolTuDxnUnG6nJfdcVrgEOEMXRI5+26bH58HnBbbCKZ29IEb9VxV8Px2acvnH981cZzRXXHhXXqkhT+VHhCkW/3Avd9yZ81Z0n5UzWwXcRB99FqB+mU9rCcL99N/rYiTfQCgx/lwT30yBB4eXrH99wx+HQq5YO+mXTzWVrr+C/+ZMwaORfv405eSHsp2Xn5i47GxGVAwCwsjC8difqp+XnUtJLZ03pCQBwcTS1szFesOLCus23u/qoScmaMs5/54Fni1ddfP46WeUSKncih9JIRC+jTINw28OvPmlko3zvCETi1IbuVWMSJKeLYgppEZ2RpjCJqT6JSm5yEsVomcyyqsKaWvlLOAzmZt5cAVdDIn6sn7Kk3a+3nnWQ/7JA45HynwdQJ7R8wna53i5WZlaG+ootPKHo2JtIiMOTistfJDeX9tMvxBMAYGVrbO9MS00skjV6d7WVxbKT9dWnCY6aFAAAoBgRzSwplRV1AAA+T4jGIAEAKBRC3AGKc5vaqK9DnPghDYpkYfOEv027eLx9TvaVeHcrEop2e79JPdpgMzJgMJhPEKT7eNSzlga2QcfC0dSjl3MbLEQ2IkEJSar59vBcXseS64k9T8n8TwlDjfBwCXF19DCjDnV3nunfxZVm4kqDWkpcV7R6qMzT0C9Hjr5s7VXaF2cnmqmpfikEcQAAQHp6aWlZrSlNv3X31N4E9XIK6vX1xHzahK9iyc6OtEP/1mcaFRRVw+GwX1cNUxwIg4Hffxmu2MIVipYv6t+4NiQAoGeAQ88ABwBALZfH5PNJGIzSEk3tREZjTZKPmfm1HF5TKY+K3IlJPvXus9puHY0vhWUoBNzVTJsvmnMfYpQC+rvbW0IZqBiMXkyvy4AQJyND0XAvojMU6zfZmVDUVjBd1r/70y/pijeVGjZ3+vEbR2eNsmukiKKWuIISHArlYqp71TM8QjduxXa53gndPHeHNgh7uBaZ4G9roTZKp47L+/32c6gOHSmQfwHgCRqI4hGIX0/VYDAApFIAwIKVIf/8dtvW3kQgEC1ZMwT6VK2Egzr3BABAKpXuXnhyz8vfWigK2UGqxUGpeUTUJ3Tp26aSHZ69XV5c/qC2W6q6c2Ad0mukX5utZelsSq9QXT5cTm1VnUQsgSPgJCya8Z9J7lJigLNyslzb07qG+7v3abv2PP2Bfe1yenZ3uH03GmLnyMjs0aPa7g/ye+dQRMRwFxdXk+YMiIepaU/SM65O+SqGXcvjsfh8C7IaF0I3WwsUAqEoxM4RCLfef7V78rBmbnAisWTvsw9nP6ivUt4Bickr3vn0vYup8Vg/976udhAldMQS6dmw6IMvw5Xah3pD8gYphsrQ2dzInPoMp8allxTxtKAh4HCxRCLbw6uU+ltm83EyMoxIhN9HBa+9/lSxsbCmdsrRaz/16Tqth0/j2p9KiCWSL0Vl4Zn5D+PTCqprt44ZqCvD/WjWRndygK9BHyJSXycTgna63hk9u9z8nFhQXStvkUrBhlvPOELhGF/3pkblV9f+cu1JuroDrpdPEkaM71aQW5mdUebiYdF8Z4gU5lYGDXRfvHpIxzBioUYppEZl7V50atXRnxAtkN5Lisv/d9OdqvK6ZeuGWdkZnz30srSYzuMK5i4faGNvIpVId2+5J5FIYz5lde/j/L/fRu78465QIK6tYS3fMNzK1jgyLOPFozgUCllRWjtjUbBPN2201UVCceKHJuOj5HgFurTkSrXA1gOSG4JVyy7NrTC1bQsna/ehOgiig4gBVf29QCqR8rkCHBHrY2m263lYXjVdH4cFADxMSI3KVZG3OrNHK4rh/JdpRcM9P79qx87H0v+C2Q5AQIA9dMP9U6fhDo2s6uqCWoZEKgUApFZUupoYfy4q7mZhnlZZ6WJsXFLH/FJW5mduZkwgzPD1eZ3zVUOjlsu7EBcnlUo9abR+9nbN3J1xaNRoX7ebnxuU0ApNzKjl8NYMCXRr5JYuZ7CeJWWc+xBbplBoxsuS9qVQffWKDkVaaeX2R2+3P3prbajfy9HazZzqSDW0NzFU8mHXcXlZ5dUR2YX3YpNlaoyK9HK0DrCDdKsj47CWFHLht7zSiKz6smvNe9yxKKQzzSjlmwTNp+z6gc1npsoZ7u2SWlyh9JTF5PH3Pf94+n10DwcrfztLWyMDfTyWiEXzhGI2X8Di8QtrGLlV9JyKmviCEu2qgaplgf3WHFbS64o7EqnYieTjQvKFw3RgprT99aKRiN9GBi84e0exkScUbbz1/HF8+riu7oHOtsRvDwxcgTA6r/hVSvadmCSR+GuYip0JRUmeX4aNvQmTwZ079qBIJFm+fpgJrUnDYteWe7lZFSVFNbu23KMYEhf8L8TFo8kHQqkUPH8Y//F1qlgiNTU32LRzkkG7qgUYmRk4+dpmxKrPRnh55UNNWe3aUwuh2Fgq0acQ1m4dm5lacvXM+xET/Dkcwa9/TyguqD65//nm3VMqK+qYddwte6dePvnW0tYYBoOt3ToWAPDxTerH16lWPxkDACQS6bo/x+VlV1w59U47wz3lUyYUBUwvaM8zOsTSyRQGg0GxWDLj8trAcMcRsS7d2s65qw8h1wIAIOALcUTshiFBG+89P/H+s8yrcuajajdWp+HeSrSW4c7jCTdvvcvjtco9rwPi7WWFwaD4fEjXG59QwOcLocik/NhYWRieOzK3qXeza2p2vf8wzcf7fW7eSFfX87GxC/z9fw19HvrT7CvxCQv8/XeHfZjo5bEh9Pne4UNJmPo0U65IyOQLDHE4grpQCgDA4uCAh/GpSmqsn7ILxh+6bKav50QzIuOwQrGYweUVVNcW1iifJE7t7r2wX0DQ3yc0vPSOQn51bb6CrxSNRBCxGDwKxReJ2HxBMzYcGYfdOkYDwQcPC1rj3x4Bg25cOUgJHyvTlBIVsnGeTWtBKrFmSB+uUHQtUjkylcnjP0/KfJ7UPqUVEDCEI8nbDGeXyAiPpb8Nr3ra3TDEg6yDQjNtf729Ha2ndPe++kl5xfCs/PCsfAAAEYMm4TAMDq/xJ8pEj3h+3oSR+y/Q2Q0KmZH18cevLQYATP2pj2L7+Ok9G29gzR+jGzcSSVjF+k2HLiwAACTG5b8O/XLr5VokCgEAOLjj8asnCSrnbEsGzegDxXAHAMS+Tprnu37a+lEjFw5AojW+fdPMDAAA5laGFaW1hXmVyfH52zfcBABY2RgDAIypeggEfO+2+4xazvDx3dgs3uEdT4h62OpKpqXN179TGzsTAACRiOVyBJquLuNLWCqUbk5+dtrNrzU4IlaPQmRUqxeIK0wvaYP9OHaxbctyuRgspAg0IU8IALAwIJ+fM0EskdI5nD47T5ybPcGRqqwM28GRSqQwONRDtzN7nuVnlm05OqtVtwSd1vpY7N0Xml/woylYNQMKhfDtArW4nUAgik8oUN/vv014XsFYD/dAW5seVlYAADQCEVtcMtjZ6VVWto2Bwevs7Doe/1lGFp3LTaloYNiZkki2BgZOxkYBlpZq/y5pZNKuSUPhqk7NS2rr3qbl3I9LefIl/WNmfmO7c1KA168j+hmTCA7f23dWUwhE4hoWp4jOqGSym7HaqXrEiwsmmuprEJmtssSpt6UpQt1Xp4+VCpc8CoFwNoWqyAaDgU2jglcPDkTAO1DR4jj6+0v5O5+WXTTFWk+3/mWu7cZP1c90MnO7XO+vw/sO8nBs6l0WX1Bay2z8idLHY0/MHmNIxLtrlXShBQw6B4VCym7YbBY/N7O8GUd+mzFgai/o8imsWvbx9Vdme655eOIVn6uZ9VxaTAcAFBdUU80NLG2M7Z1Nf/17wq9/T5i7fAAAAAaDCQSiJWuHbt49hWxAiAzLMLOkLPllaBf/ehsauq3TFNlfIN37bHUUGaUR+iaQvM6VRW1ReaAt3e0AABQWkidRMZ8bAYcZEQkUAl4PhzHA4xr/a7XN6oCFI/eJxe2fm64dreJx//Ax48WrZB1OaGKsZ2NjZGlpaGRIpFAIBgYEDAaFRiPRaMRP80/rcKGW4ONtFfEpC2LnL18KAxrVA+pEESwKyREIAABcoRAAYK1vEFNcPM+/67/vwuZ188unM4a7Oo9xV529BIcB6DFawW72OyYO+ePuC+hBAkgEfOWg3nMCv8Y79XSwzir/Ph5TidDcKs0wwN1h4/B+zUjBqERlZEtTpZcU8bZSoWHsTDNCITQLLPmpT1d/O4tt918nNRQ7hw6FgLOk6MzIY4vrxlkswSG+BmnAYQg/Sj9dTQ7a/HoRcPjuycP2PAs79yEG4l+enQnl0PSRNkYGAAA3c+oHDSs3aUePIOfoiKx5Ew4jkXAAYMGDPfsMaDIQv83AEbFT1406+ssl6EMqi2oOrTx/8a87w+f3Hz4vmAJN7UAilvz7+52aKubSdcMsbYxiPmX9ue46AMC/l9OgkV1qqpgwAHZvvicSiq3sjIeO8Xt4M6qijIFGI4l66vP1IZKbpL6Ij5E5BU9qB7OPbKQHQLHabm0jq2/tqv7rUYdonbg82N2JqC55pqNRXV5XmFOpvl9HRfeGO58vOnz0VcvnsbSk+He18/Gx9vKyJBF19q3RenhCS22RkZRc1Ho7+TEY5Oiw8tGT1MrKQgYDAOBlSo0rKbGjUBLLyt1NqJ402tonoQmlZTyRcIG//53k5Jzqmt1hH+f4+VLwOC9T2j9v38eVlK7pA6ke3jBvZ3dzk12hYW9TcyTN2h0wGAh0sl0V0tuJVu/x7elgdeHj9yHoPqGbp6cF7XJE/JvU7JqGwQnNg0IgAp1tZvToEgBNSUYJd3MqHAZT+t12sVZfWMSSQjYk4qtZHMXGZmqmNoOnBe3akimvU7IvhsdF5xVBtC9JWEyAveVwb5dgV3uk7k6uexvVSyfF0N/4GfTroh+oq8lltPH1IuCwX4b06e/msCc0LDa/uVgCEhYzs5fvvKCuGOTXG5CmFYu1BoGA/2/jiLZZSyNGLhzw8sqHzLg8jUYxqpiX/753fdfD3qO7Dfupn1dgcxVFevZ16dm3QeD4jIUNnhUf344eP7OXd1dbsVjyy/yzs5f033tmnmKHgECngEAnAIARVW/b/mkabVUGl8Ury1NvMEGUVNc5aGhe54o28bib2bXRH0UL+W2YLj0OrY2AL1o97VhBTiUAYKTPJlnjw/itcAQ8/UvhhYMvM5OKRCKJnbPpkt9G2LmouEPFf8reuuziup2TA/q5AABunQl7cCmcyeA6uJktWD/M0f1rds3UwO2Lfxtx78LHzOQSI6re7JUhfQZ76uoqIKViaMTZ82EXL33Uejgejxky2GvgAHcnR0j35uCB/0Cc+e6tFWRyKz7Ei0SSEaP3QCwyhUYjH91fiWxx1vwQ5/WaDhkxrceSTaPkL9/fiw5/Eo8nYofNDbJX9+zBpLPZdVxaG9aNE4rFzfhWuUIRBolQGegi04rR1C+bX137KiUrJq8ku6K6lsNj8/lIOAKPQVH1iLbGFB8r02BXe3MDSMepHRypFGRXVMfkFedW0YvojGJ6XS2HyxeKeEKRQCTGoJAEDJqEQZtTyC6mxq6mxr2dbEiN6lV9v1TUscIy8uILSrMrqktqmXVcnkAkRiMReDSKgEGb6pNsjCh2xgZdrM3czKhq43k0olqgnMr8vOzqFKuVOlyiMW18vaklFS9TsmLzS/Iq6bUcnkgixqPRNDLRxdSkt5P1ADcHHIT8k/8axVlly3r/wWFq8DithIUjLWRW0MCpvbXLXs1OLzt/9BVZn8BicgcM8+kVDLWwIHTSo3N+Dtqstlufsf4bLy7T+epq2TxpX8Qj9S4YI3PK5Yx9Wq8y2Xa5WuFFAMD1vEMQE0Z1wsW/7l7afldttwspe9qycKycn3zWFWWqKWXg3sNxz8vfocyWllC4csrRR4l/IhR8E8X51Smx+T497FFoxOldofmZ5QduLpW9dWbPs4Ks8s1HZqYlFP624OyKrWMCQzwBAM9uR98++2HdzonGpvpPb0TdOffh5OOVegYEAMDUwO0ikXj13xNcfaye3Y6+dPjVhZdryTrKg9exx72snHHt+iftxhKJ2IkT/MeM8iMQvkv7AImEuzibJUAL4BMIRBkZZW5uzWnhtQ2l+VUh03o5eFltn3di9cHZRmYGFUU1GXF57gEOBiZ6AIDi7PLMhHwzOyrNyujBqddSqdSpi43/QE8YDJaXUgwAKCuo6trfA4lClOZVZicWevVy1qMQcpOLzO2paCyKXlEn5AtNLLWMAm/e8sY1XbZTU5NdhrWh/tzArnN17PrsiMBgwIFq+MNE52uKiR5xXFePcV2VKxa1AadztlngHRRbijhQQ+y0po2v19XMRLtaAf9lzB1ov11e/seEPUJtS4wXZZad/u362T9udhvkNXBaYPehXVAYDW7x9s60rfu08aNDR156s3ne34l6f2dmq+6kJQg0TC3QAjgC3mZVY1sDnlDUb/fJiPWL23sjGmBubWhu/fWGOGSC/7pZJ6VSqTyCCIVG5qaX/bH4/OKNI2RWOwDg5un305f2t3c1AwBMWtD39tmwqHfpA0Z/1dIZMNo3oK8LAGD8nMAL+1/kZZZ5B+gmQFrHhvvNW1FCCBXRGhPcz23p4v4GBu0py9VyXF2hGu4AgMys8o5guMsgGRAGTu7x+VWSb5Db2T/vDp7Re8/P59efmCeVSo9suDbx58GVRdUGxiQOk0s2JOG+PVltn3di2OwgkgEeDoflJBfdPBA6cErPPcvPrTsxryCjNOtLwcApPW8cCB0y4z9gCHfSCTS6Ufr3Mxmr2PKg5Ex7baaTDoVff4/N1//314zDLfG7S8SSyKfxkU/jiWR84Fj/QdMD3bo3mTfcxlSX0tt7CzpA05xgLdCjEDtItSztYPH5tZzvrEJTbQ3r2rG38Z+yOSyeRCoVicQSiRSB+Pq/wOMINi0633uQR/+RX8X1RUJxSUH1jl+u7/jlunySipJa+c8238JGYHAYBofisHRWX1aXhntdHffJU/UV0ZTAYFC/rB4a3E/3p3Jtj52tBsVZcnJViNy1I0gUksXgfnqWwK7jfHwUV1fDyk4s8OzppG9EinmdPGp+sKGpvrk91cjMwOtbEWayEWnUgmDZzxFP4kf81M/N374gvTQpIrPXsC7b550IntC9NLfSyll9KHMnMuhVzNy0soLs8rIiekUxvaaKyarlMuu4Ap5QJBSLJRIUGonBoNBYJBqDIpFxRjSyEZVsSNWjmhvYuZpZ2Bi1XPbhB4PN5JXkV5UW1pQV1pQWVJcV0dl1XB5XwOMKeBwhjyuQiCVYPBqLR+PwGBweTdDDmVpRzK2NzKwNzayNzKwNUZrr7jWDktUOAAhu1NLJf5auA70OvN+8dfL+ghZrDrIYnKdn3z49+9bC0TRkZuDAaYFaC8DriqqSH8FwF7S+zrWeYYd2t/NFIrFE2kzt6jqezozUNmPbz5cJROxfJ+cYUvVS4gpWTzum+G5yXP6QCd2eXI8aOslf5mKXSKRACrYdn+2lILuEQNbH3mCgpUxogS5vSPcfxEIUMpdDoRB2/D3J3u4HOVTV0HDvWEnNn0ITxi0blP2lIGhMtwGTesjbfzkyNy+1+K+fju95sg4Gh0kl9UkRiqk8eBKWXccFALDruHgiFolGWjqZ3j/xyn+QzhIyflQqSxmf36V9icpJis6tLleuc6SEgCcU8ISAAQAApQBkJDbIcsbgULbOpi5eln59nL387dCaHJT/SFSU0JOi85Jj8pKicwuzK9Vm8rCZPDaz3j8UH1H/FhKFcPG28gqw8wqwc/Wxbo1fqQ6Lp/6Xic4q6urQDhqCOsfSyfRw+LZzW27dORSq+H2rNUWZpad/v3F+6+2eI/xGLOjffA5rq0IvVx/b3fFpg7KSOGKHDhgeduA8DAZ7sXIuAMB109723o7GyELbJWKJPMZdwBelxhX8dWqOIVUPAFCcp1zU2bOrzfy1QwlE7Nbllw7eXKpnQEBjkGZWlJy00q6BTm28f53dhCQS6b0HmglrkMm4XTum2Ni0Q6JDK2FlZYREwkUiSOKgublqyn23GTcPPnt45m3X/u72HpaWDrRdy86mx+bxuYLlu6ZVl9be2B+K18NZONAAAM5dbE7+cSv1c/ac35V9hAOn9Dy45nLMm2Qui+cWYA8AGDqzz/9C/j4VuQ3KHt48jNu17qZEW11VBAK+dtfkPkO9tBuuxIs7MXs23ITY+XrkJj19vBar0KtYr+/Hvn2ckJWsXoAMInyuMC2+IC2+4N6FjxgcyjvAPmiYd+8Qz/+IBZ+fWf72UfzbxwllhTqTfRAJxUnRuUnRuVcOv0Khkb69HAeM8Q3o56pbN7xGfH6XvmnBWej9Jy3sN3tVSOvtR877p1/+/t8VLQZ26emw/ew89f2a5dDj8HMrJjbfp7KUMbPv39Dn3Hx0VkAr5GiqBY1FLfh7Sr+JPY6suZjySTc1s0RC8fs7Ue/vRFm7mo9fMSR4Uk8tSji1EC77OwufaC9QHbs+4+yeflJQ//QysasnhdDgJljD5tyITmw0rqNAs6QgkYj3TxN7DnRnM7lGVDIag9Q3JH6JzPHsapubXnb95FuVA6cs7peVUrJ91bXtp+bAEfApi4OP//3I2oHq7mfNZHDjIrKCR/hgca0ujqmzv9u4+Hw6na3Bwkj49j8n/EhWOwAAiYRbWhjmQpC7AgBwOPzqGpYhRTM9bJ0zacXgSSsGy1+isahfTy3gcwVoDAoGh9GsjZbsmCISirB4DADA3tPqz2s/yzv/dWOF/GciGb/h5HwBX4j+9o0DR8C6DfQk6KlX8nl1P3b3+pta+5ZQaOSv+6d2D1at6d7a5KaXappxkplUdOvU+4/Pk1q1AASfK4x6mxb1Nu3Ynw8HjvUbOiXAvD3UANqA2mrWizsxbx7G56arkR1oIUKBKPJNauSbVKIers9Qr5Dx3Zw828HF6+ihWW5MTlpbFHoEAKTEaqnFnv6lsKlChrvvvecJRQm5JcFeDi/iM9aN7efvZHkrPDE0Nl0ikfg5WCwd2jOrtPr0i6iUwvJlJ+4BAA7MH6VSaQoAkJOq2a/CsT3+f+tX72Kz99Xvb29+uvDnneIsZTEirclPLd696NS5LbfHLAsZuWAABt92ItxtEGTyY4BqWnehIzC9u4/iy8VBATRyg9ie4tq6jmy4k8i4ZX+MOrfv+cEt98ysDY/c/RkAsHr7+KN/Pbh1NszGkbryz7Eb5qpIPYLBYGv+mbBi0uHTu0Pnrx3af2QXPk94cueT8iI6iYxz97MZ8C0CvlXR2Yfj3fs0jfovXBDs6tKm9QXaBhqNDNFwBwCUlzHa3XBXCUbhkRGJQsjKg3992ayTRm61v7v7+cPD2Hmbx6td69W92N0btLfa0VjUH4dn+vZut+yr3DQNDPfc9NIzO59Gh2W06paUYDI4d86G3bvwcdC4rtOXDzCEVh3wu6C6vO7WqXdPbkS1sUHAquM+uRb55Fqkb2/HGcsHuvhYteXq+oZEY1NyZSnUqIPcdJ3ZfM2TEpOn3UAOi5+fXWHjqFq4uruTlbWxPpPL/2VM34j0fFMK6WlM2qllE2AwsODw7eSCcncr6p/TQ+K2lRxaMLr5hbI1eYYxpOpRjNs/1LjvhO59xvq/uPzh6r8PSnWXGVVdSj+18dqtfU8mrho+YkF/iBLmLUTA7TTcIaEYKt3B6W5nZUBQds+ROnxJppBxXUPGdVVs8evteOrpavnLB/Fb5T/PVTixxBMxJx+vkr8cOtF/6ET/xvNfCftV8eWtyE0t37Mc3RjuEok07EM69P5enpbjxnRV3+87hKZJAe2yckbHEZbRLUFjugWN6aa224s7MXs33tLaascRMFuPz/boZqvdcJ2QkwbJy8tm8k7vfBJ687NOgla1QCKWhN6IevMwbtycPlOWBCs+jH2PVJTQrx178+JOjEgrGStdEfshM/ZDpl9vpxk/D3T21qY0lXY4elhAN9yryhhMBodE1iagCzo8rgDi34JK0uLymzLcDYg4BoeHQSExKARfKMopqymorF145LbsXTZPA4mPnFQNdujk2Xb/oc0DR8BDZvYZOK33+ztRN/c9yYrP09XMtZV1JzZcuX/s+fy/pgRC+MZuIQJ+q+uxdNLGnJ09rnEjEYvZMW5w4/ZOdIJuDPfEpEIGA6p8FQwGW7Z0gE7W7YDQNEnbLyv7ETJ1tOb57eh9v93W2pAl6OH+OjW3La0llUAxVmI+ZOxZf7OmktkG+2kePld45ciryLep63ZNtrT/LpPCJWLJ3XMfLh58we8w3ruYDxkxHzIGT/Sft3YogdQWZZ4dPSzCXyRD75+bXqYofdAapCcUtiT0KzW+YLAqxxUAQCnsxY5GMTUgHVs8Fg6HicQSOBwGAIDBYHyhSCKVNhUkIyNbk1AZJw1DklobOALed0L3vhO6J7xPvX/0ecTjOK2TgpQoz6/6c/pB32CPlYfnmlj9mAF1nbQlcBhspPePIBXYMdHNcUxiQ2mL5ukb5OJg/33U8tUCjTzuVVXtb8m1F89ufd63UXurXc+A8O+F+e1utQMACrIqmrFXpBLpuT3Pfp93tiNY7XKyU0qWjT34/HZ0e29EYzKTi38ef+jUv086jtUuJ/RG1MJheyJfp7bBWk4emsVe57bAFw6R5Ni8lgxPS4BaAcPSSH98L6/5h28tOHx70dE7AqEYAACHwUJ8nKbtvrr6zKOmBnJY/PIiDeQIO47HXQnvPq6brq64kLJnyi8jdajwGPs6aUG3X59fCtPVhI1BYzt6BEUnnXR8dONxT0rRwHD/UYNkZGgUs86o077KxndN6I2oA5vuai2qRTEm/X1uvpVDh3AYCwWiwpxKlaf8fK7wn1VXP71OaftdqUXAE+799VZVOWPqkv7tvRdISCXSCwde3DjxVldextagurxu8+Lz/Ub4LN86FteaOX+Onpo5g9sgzD0lRsvMVBmF2ZVsJq/xecXq0X0AAF3svl6v7IeR/m4j/ZWT0deP79f8EjmpJRp952j6S25jjC0oszePn/HbmKjQhNDz7z4//yIWtTRsjMvi7V54MjUya+mema0RTYeBJrjRb2IPW48O+tTUCRT4ItHIQxef/W9Oe2/kx0QHhrtUClJToJ4/OthTf9Sobhl6EERU5NT9Jw33p9ejDv6hvdVuYqb/97n5Zt9KE3cEctNKGhvubCZv49zT6V8K22VLELm4/0VtFWvx7yM7eJU+dh33n9XXot9rkEjTjrx5GJ+bVvrHsVk0C0orLUEi42kWlLIiqKqXra23I5VIobvMVc8glaYnFLZqlrlGcTI0S0prZwXoBAQS0WO4b4/hvvRyxsurH19cCstPbam87JMzb6pK6L9fXq7zjFU0NMPdt7/HoOmd9ba/Y1g8QUFNbXvv4odFB6EyhUXVTBZUcdbevdtaqb6N6TTcm+fx1ciWWO1m1oY7Ly/qUFY7UBXmzmbyfp1zqoNb7TIeXo64eOBFe++iOQqzK1aMP/y9WO0y8jLLV4w7lBCZ3XpLaKREmZdZ3qpZ0XmZZYoVrLQjNb5FPnu1aJQ72y5Cny3BgEqe8L+hJ6L/Phi2ZdhP/fAkDe5EjYkKjf979hGdf2ZwBEh1hbgt/ix10r58j5VTvyN04HEvKKiG3rlXz3aT7WsbSCQsDAaDaJgy/2NfT4+uRBzZ+kBrq93S3uSf8/M7gkCbEkoGgUgo3rb0YoYmiR/ty9Ujr82sDAeM8WvvjaggPiJr69KLXPb3dxuoq+VsnHN66R+jh0xSnXPZQhw9LN4//QKxs4AnLM6vstCktLNGaK3grkhafIt89mrRMDP1OzPc5Tj52jr52i78Z9rbW58eHH+ptQRN+MOYC3/embVJhWaI1hiZGUDpxq7j6HDRTnSO//YjzXeQtH5x2f8yOjDcoUujEIlYO9sOEZfcesBgMDwezYZmZ/D+S9UoHl6OOLL1vtbD7VzNtp/5iUwh6HBLukIp82/fb7db1dXaGuz//Y6lvYmzV8eKK034lP3HovPfb9EWsVhyYNMdsVg8fGoPnU+uRZh76xnuyS0LcJeRllAolUpbKWpLJBLnZ5ZD7//dedyVwODRITP7hMzskxqVdedg6If70Vokh1zd+aDrQC/3HjpztxlbQDosrSrRIIe4k7aHyeMP83Qm45tU0GJweI8Tv6cz0u8LXRju5VANd0cHaseOpNUNaDQSouEubHEu0ffCg4vhR/98oPVwZ2/LP0/NJWoShtSW0KtY9CqWgRERAPD4auSre7HtvSONEQnFu9ffPHzvZ1SbV0Fvii9ROX8sOvf9Wu1yjmx9AIPBh00J0O20ju4W0A/3AAC56aWBgz11uwc5KS2TlJHBquMW5VZZ2rXK00VBVgV0yX8YHObg/oPkYrn6O2y8uKwsr/L67kfPL4WJBCLoY6US6aGV54+Eb1NZ1FYLjKFlfVQWanCM30m7sHpQoCm5ydPvIjqj03BvPXQQ415aWguxp5MTreXLdXxQSKjJ+KL/huF+78LHlljtHt1s/z47r8Na7TJkTve8jLLj2x/qZEICCUs1N7B2pDp5Wnh0tXXytLB2pBrRyHBEa1XUK8yu6DjB7kmfczctONtKmo9IJMLQRM/c2sjezczdz8bZ29LGkUqzaK1kRKlUenjLvafXo3Q7LZ6I0SjZoyXVkZqnuqKuvFg3LtLWi5bJ0SROxsLWWBaNnc5MYIq0rLbReCxHxDyY9btSN7qgcl/Ghj0Z607n/qPdQlCg2RivODjnbMK/wZN6anSmkZNY8OZmhK62QbWG9FRWBrn6eCftggvN2ADf3B2ZhIWUzNCJdujAuwZdjNyUpt/y5To+SBRU00rYrkUf24Z75z8c396ksrJafHs7bjo0E4Nri3LcLSEnrdSnh/2eDbeEmji05MDgMDsXU4+uti7eVmbWhjRLip6+aiNSIpbUVDLzMsoykopSY/MTInO0W1Elt8+E9R/la91EAcs2o7SgesuSCzq02klkvEc3Wy9/Wyt7qqkVhWpu0NTzD4fFLy2oLi2szvhS9OVzTlZScUuKCsmRSqUH/7irZ4DvNcij5bPJcfK0KM6rgtg5N621FCF1EuAuIy2hYODYVsm1yNaoZuq3APePVc+Gm00jIbXRSm88Fo8kLXfYptQtifHZiuAw1vwnLZbQFBMro3VnFo1Y0H/vktMF6VCfZO4cDA2e1FMnGzC3p2JwaD5XTf3UoqwyAU+oc02bTnTF3SXTm+9AxGA2DAlqm838B9GB4c6FfJZt3PHSClsD6B73Hz5/4+65Dyf+1t5q7x7s9uv+qR0neKMZXt6LSfyck5mkWUIqDA7z6W4fPLJLjwHuECtuwhFwIxrZiEbu2scZAMDjCqLfpz+68inhkw6i6iViyaWDLzcemNbyqbSGxxVsXXKBpQvBJTKF0G+4T/BoXwc3M4heRjwRY+9mZu9m1jvEU7aZmLCMF3djot+lt9CCl0qlu9fdMLc1Vin5rx2OHhZvHsZD7FxRQlcplN5yUmLydDVValxredw1y0z1tKjilz0qvZzFSrqcfxAFR3czCAow7A8AyOdkPi65zJfwcAjCBMsFhmhqMiP6efktKZCIpeLJlkst8XYqx8bQwyKrX1ULyn93OypbpU5Iv1V0soxXKJGKS7j57np+/UxGxdDDMpgJU6yWAQC4YvaOtJW/uR1GwnRpwrp1dzz0YeuuhSfe34F0CpQZl1eYUWrpZNrypeEIuJ2nVWpUVvPdJGJJXnKhkx+kWr8VhdXbZh+TiCUUmv62a8tV9gm9+OH51Y91NexTn7Y239hy0qJzTm+9s/PBGh3O+d2BgMNm9vBt7138sOjAJIKeYWlk9J8w3MWQJbTQ34NJqjW3z4Sd2vFY6+F9hnit3T0Z0WqRIbolP7Nco9Q3NAY5ZFLAhHlBhlS9lqyLxaF7h3j2DvHMyyg7teNJzIeMlswGAPj4PCknrdTORQc3ae3Ys/5mnia/SZVYOZhMXz6wxwA3JOSnaJVgcehegzx6DfJg1LAfXYm4czaMw9Je34bLEWxZfP7gneW6ivty9NAsDjsvo8zdz0YnSyuSrDuPe35WOZcjaI3aVRpFCjl6WBhhaLNtVu/JWDvNerkJ5uvvWSQV3ik6vcj+dxyCkFD76W7RmXl2G15X3JtgucACZyeU8OEwJABA5Vg/g0Ankue+jA3yVfRQBnNt176tfMgTcwbTJskavfW7Py27xhNzsQhcIiPSXc9Pt1a7DAweveHcEgCDvb8dCaV/xKMYy1XDdbK0o6+tWsMdAJASmQXRcP/4OM7Zz3bZv1Ob6TN4Rm+v3k6bphxS29jJf4rwt2nZGWUzFvTVaFRpUY1pw2yNE3ufDRvX1dxKdexi8+9qgQ6sIj5kwx333zj5EvChhi5gsT+s4X7r1PuWWO0Dx/qt+36sdk0ZPKHbmZdrF20c0UKrXREbJ9qfp+f+cXSmnkGLhHekUunVI691tStNuXnyXVhoYktmMKTqrf5nwrGHKwMHe7bQaleETCFMWzbg7Kt1437q05Jpywpr/v7fFV0Vf3VwN9coa7A1wtz5XCGU8HFzGyMos0nEkoxWqH5QXkxnQz7DQSDg9q6qH1xLuYVV/NKj2Vv2ZKx9VXFH1tjTaNCl/APPy29xxRwErKUfOSQM5UPukVAbDgCIo3/0o/Rp4YRNAUfA151eZOsOSUgqOSJTV+u6dIVkjse8VP89UFPO2Dzt8P2TryOffVk97N8bB0Jl7Z9fJi3v/9eSoK1/zz/JYmigLNl44LzumwAAHx/FTnBcKZVKw5/En/vrHgAgLTrnlxE7lwX/uX7MntK8SgBA+JP4+T02rRzyzxto5xiddBA0TbumV7PuXlV+3F2wMqQZu7z5d7WgTUNl0Jgf1k5VhC+A+gvBYH7MJ5mbJ9+d2fVU6+HDpnRf+seoDl7LUzuMaOSV28f79mqtagbdg92O3Lf48+dLLUny+/QqhVHDbnvlzYKsigv7n7dkhsDBnsu3jmm9gpd6+vh5a4cGDfPeueZaYY6W+XOxHzNvnHg7eXFwy/eDxaGt7E2gH/W0Rv3UtC8FUIKIVv09YcfqqxUltWp7psYXeHe318HOFNAoM9XaidZ0dLXUAG28yulfxSY/gz6uer6fa94eyvp9mtXP1oSWFhnsYTTwasFhN7JfjaDSluDSwtmaAYlCrDr60/I+m9X2zEnUWQiTb38PGBymtrRTQlgqnyvANFtplUIlb7689Nbh52wGZ9avo2WNtVXMg2su7X/+q4GJ3t1jL09tvvW/vTOhbEzlQKqVYVUJPSUq29bNoji7PCep0NHbSsAXHlp75Z+7q4hkfNj9mCPrr248s/DAqot7n603tTY++us1aL+JTjoESfEF/266W1VRt2ztUEtbo51/3BMKRbU17OXrh1nZGoe/TXsTmojBoirKGMvWDhWJxFdOv8/Lrti1+V6PPs69gl0BALcvhT++E7Np5yQbexM+T3jwn8cAgPycyt7BrpNm91Z8FwAQGZbx4lE8Co2sKK2dsbCft5/N7q33JRJJzKfs7oHOK38fCWXPOvBoQtcjQ6P+E4Y79Ngh7I9ouF8//qYlVvu4uYHLNo/+Ia32Lj0djj1aqbXVzhIIqticSjZb5T95N0Oq3vaz87wDtDd9RCLxq/ttrWgplUr3/3YbumCfEkgk4n9/jft1/7Q2KFPv6G5+6O7Pg8Z11XqGK0dea233K29GkzpBuem6z09NgaDgDoPD7FxNISqjpyXoPsxdw8zU+gAkDBzHEtXJX9KwllwxJ4edCgCQAqlMNKZOSMcjiEHGw730e+RxMpoaCx1DNBUDx76vfNLFoBdMY4egZjj52bkGOKjtVllco/XfphIGJmSXruq/nfgcQfjDGC3mT4vOcfSxMTDRAwAETwj4/DKpJQMdvKxyU4pykov6juuWGp2bk1zk6G2dl1pSnF2+duSuJUFbr+55LJVKCzLKjM0pptbGAICAQV5abLuT9kLfgLB265j5KwZePRsGg8HWbh2z8e8JoycHfHyTKuuAQiPWbB4t62DnRBs3vWcXf7s1m0fLrHYAwLjpPd2+lUDBYFFrNo9esHIQWR8/enKA0rsyJFLpum1jl28Y/uRuTGVFHbOOu3br2JET/P16QL1r68CSxmJREGXLBUKdyV90WDgcPl+DUJkfzXC/duzN+b3PtB4+dUn/GSsG6nA/HYf+o3z/t32cFlEWFSzWnrDwl1nZtdzm6uxmrV0p/xmHR285PnvVlKMaORoVeXE7euycQO3GasejK59S4rQMlcbgUL8dmC7L1m0b0FjUyu3jKcaka8feaDFcKBDt+/XWriuLWi6P7ehh/vIuVPsmP6NM5xWOoCi4W9gYYXFoRw+LD8/UW1GtoQiZnaJRZmr9XbafycibhcdxCEIvoxA/gz4oOHq2zZoHJef5Eq5UKg00HupP6Xer6ES1oAIBQ+oh9ftZLWtq7JWCg3RBFUtUdyLnLwuc3VDTKc3soYfhwMsFB1c5taJApJzA0f6pkWqCzqUSKauWrW+sm9C+gKE+UMLcn11432+ixpXLFP+mNJJ/UDnQ0ds6N6UYjoC7+tk9vRhWU84wsTSsrWJSrYyOvNsk758Rlyf/q0KidBah14kcOISvSrFImxBEmrk+AMDcyrCitJbN4h3+9wmRhKuuZFp+i+4zodV3gDKhVCo9sP3RotUhmCYMPBs7EwAAkYTlcgTGVD0EAr532wNGLWf4eKjOICQAYPmxe0qtCDh83wJIHnugkeEO2aL9fimv0MDFom/Q6t7BtuTqkdctCXWYu2bIhPk/poBUyPhu//tLm8rhNRzu2ItXy5gsTQdicKg/jsxYPuZgXa02xcPzMsuLcitbr9CmEtXldWd3h2o3FotDbz87z7WLlW63BIVZK0OIerhT/z7RYmxKXP6DS+GjZvZq4R6cNPG4czmC0oIajdTfm0cqkaZCsLNlxYwgetwZNezSgmpTnYaE5qRpYLgrpvy66fm56TWQp7TE2y112KLYMtd2ncp5lMZOtVIteNLXeETjRjQcY4q1NMaYQd+21pjZQypnzueo0XCETuBo/3Obb6ntFv82JSexwM5Tsz9t1672RzdcqylnUKjkN7ciffu6tWSgo7f13WMvPbo7WLuYFWSUkvQJAAAbV3MWg5MYkenZw1EqldZWMS2dTMsLa8oLqqlWhjFvUjTacCeKDP399JNtKqRRURACrVla3exKi+gAgOKCaqqZQWRYhpkFZfqCvo9ufa6qYH7rUCPvAABAoRC8ZvVMr5x+H9jfzcK6yawexUdEGAwm4IuWrB2iUeA0EgDwx9SBAIAToZEDuzhaGRsUVzPCknOhTwE95ZTH/+6LIKqlsgKqqj0AgGqijTxwx+TK4Vdal++BwWCLNo4YOUM3UsEdja6BTsu3jtFu7PHIzzKrvb+DfR9baxMiEfpYEzODBRuG71p3Q7ulYz9mtpnhfmH/cy60h38lYDDY2l2T2sVqlzHupz4VpbUPLoZrMfbcnmd9hnrLCu5qjZ2rGQIBhy5VmZteqkPDPT+rnM1s7iBIhr2bOQDA0QNqqdfU+AIdGu6sOi6U2HoZKDTSxrn9CwV+qn7Zw7CNzh71jSD50aFYThCxcKT5BLnFv1Nj4Eql0kvb7266ukKjyfUohBV7ZmyedkgsktBsjFfsng4A+HPOseqy2oqi6o0T9rl2s5++doTKxsYDqVaGhVllE34OgSPgUonU3tMSAIDGojZdWHL8t+tcJk8ilY5ZOCBkWq/lu6ZtnLifbET0H9gZKqN70M1mO8hg1bLV9mmMRCL9d9OdmirW0rVDMRjkw5ufK8oYaAySSPqq/UWvYcs7AACs7YyrKph/rrsxcLhPQKBTHYNz6cS7lC+Fl0689etu793V9v61SP/eTp/Ds7y72gQEOim+O2SMcpGKmiomDAZ2b7kvEoqtbI1nL4GU+4QEABjpEQAAtWxuN0dLAABVn3jtfTz0y8ZB+IV+3WI1G+g46ajDUVyiQQVBGu0HMdwvH3p56eBL7cbC4LAV28aGjO+m2y11ECztTX49MF1reZy3ObkAgJ+6+W3op424RP/Rvs9vR3+JytFibOzHzJHT2+JRqqyo5tU9LUPq56we3GOAu273oykLNwwvK6yJepum6UAeV3Dj+JuFG1U4XKGDxiCtHanQ5WJy08t0WAQqGUKAOwDAwd0MAEAgYc2sDaFUjEqLLwge2aWlm/uGRgrudi6mOhQj0oJo+vs3FffNcDZdKW10/Mhlq3/0AgDgiLqsADBiQX+1hjsA4OODmIT3qd59XJvpM37pIKWWLkGuXYI2Krb8dnZR44GNGxsPBADcSN8j+2HHvdXyRicf692P1ip26z3Ct/eIr8rlk1YMbmbD/wXm7L5+dvWkf2++FYrFGyf3/2nvjdMrJ54MjfyUmg8ACPK0nznADwDw89F73ZwsE3JKKhnsI8vGErBfjcnMkqodN95smTHI3PCrjYSH8PFj0tlCvkijJ8yefV169m2Q/733jLK/39PXWlEvEoVG/n14hvylHhm/5Jchiv1vvGzwwVB6NyDQKSDQCQBgZKK3bd/Uiyfejp/R07urrVgs+WXBOYjbrr9CAga99eoLaxOD/IpaLEoDpz0R8t9zRaU2mTrfF+kZGmRB0ag/guF+8cCLK4dfaTcWgYCv3jGx3wgfne6oo4BAwH/ZOaklotTFjDoAwAxfH61nmLFi4C/Tjmsx8EtkjlgsaQNFzqtHXmtX26hLT4eOEFsFR8DX/Dtx4dA99CqNI5oeX4sc32Itf0cPC00Md10Ky0AJcAcAOLh+Dflw8rSEaLi3ZFdKaBjgrkHoUWvQ1aBPV4PWkoBUSXGWelUiDA6NJeiyiH2P4b5G5pSq4hq1PfcuPX08cjumFaT9O2k99Ik4Jpdfy+YKhGIWl29AxMXnlMRnl5z630QAwLIjd7s4mHva0AAAGBRy1/x65wUKCU/MKzsdGrl7/ggyod62NDQ1ULuoWCTOiM1179Faom2tQc++LuePvn75OIHF5I2bBjWjo95w/2PqwPickuJqhqeNqa+9BnU9zEz14+Ih+V0qNIn//k5J1+S+SG0Pw123qWkX9j/XWvYbiUJs2Du158B29pi2HpMXBzu6N/hTOpv7t1IfGIDPbiJGFnzLyDHV075ymUdXW4+utknRGgS/yeCy+YXZFTZOrRs2oLW7HYtDr/hTm7SB1oBExi/bPGbbsouaDhQKRFePvlq2WctIKhmOHhbPbn2G2Fm3Uu4pEEov0SwohG8Fp5y8LN48jFM7JCetVIcV73M0kpRpb8O97Un8qP6wyNyBptsbBwKJmL5h9L5lZ9T2LM2p2Lv09Pqzi3W4eietjYcNLSq9AI9BYZCIqIxCd2taTmm1uxVV9iFys6JmFlfKDPcuDa1NnkC09fLzod1cFa12AIBxw4JHTZH8KUO3hntjl7xusXeibd3bXO0wlTRwp/nYmQ3r5qqR1Q4AMDNX/yQkIzunQqOZvzvYbH5BoXoXggwYDFhaQvos6ha07qo+nd/7TGurHY1F/XFk5g9stdMsKJMX9VNqHG+5eLzlYn2UUR/jEWMtFvQ1GW2Cbc5QsCKTAQCVLG1C9+SEQM5VV6I1ZL+VuHnynXbu9lmrQqiQv3nagJ4D3XuHeGox8NnN6PJiDeLrGuPkqcE3dnkRnaujLMOaSmZZkfqvO1mcjAyIZrFYLMlIKtJ+Zw3RKFRGI3nNHwAmnR35NF5tN2tXzawCKITM7GPlAmnaNzciLv51V+cb6KT18LShPfyU0sXe3NvO7EFEspetqaOZUXJ+mVQKpFKQnF/mYPY1d1PpgRAOh13bMD0hpyQ0Ol2x3cIJUjHvsLtQXRjfNfWGe1Zp9f9OPjjw4AMA4P6nZOhTmJnqQ+yZkaF7FeEORWRUNnRVe3NzCkmnUYMQwRN0s+i5Pc+008IDAODw6K0nZrelfl/bM/3nAY11wUhIfRJSnyNm2RM9yChDW4IrXdDc0+xgZycAwP2U1JbspNcgDwxOG+dlblrr/sHyucI3D+O1GGhiZjB8Snddb6elzF4dAtc8skgkEj+6EtGSdW2dTaEr0Eml0jwdqblDjJORZabKcHA1gxh8lRavm/qpIqG4CLJkPg6PtoImsaIrqjTJiWoNrv57nwchL9w7qLkoc+2AI+Dz/pwEsfOl7XfPbVEvRNN6QInq6USOuzUtIjXf18G8i4N5RFqBmzXV09bUz9Fi3r4b8/bd6Opo4WWr2hCHARgCDt/x07DbH758zqj/EnDwsYGybkZMzpcwjdONvjvqv0MPPPiwanSf4uo6AMAHTVRlzCH7vaprWOXlDI32933x4WOG+k7fcHNtC6mvxuCJOghVPLPr6fXjWlrtBBL2rzMtqhDU8bFxpAaPaDK7DgPH3io89q7iwe2i4yh4c7Gb8/z9XIyN9n+IuJ+sve2OI2C0+223tsf9w7NE7cRkpiwJ7oBiyebWRgNG+2ox8OXdWJFI++o2SBTC1hmSO0qGrv5bIWem1hvuaCzKyoEKZVQqtPBLteRllEH/3dq7mbdcWV8jlvb8/fexuyOfxqutJNoafH7+5c4hSGU3urWOUkrAEJ/AMVBlCa7+++CfOUe5LEiptLpCyBe9uRGxetBfG0fvast1v3cIWHTk/p9NKXrWJgaR+5bj0CgAwNwQ/9MrJ55eOXFuiL+s24HFox3MGuhHybQgMSjkyf9N6OZUX1HB0tGUoAdJPvv8ttsSrU5xvyPqoyZwaJSVsb4WU1haUJBIuAia9P2nyOxRI7W5t3V8BAJR1GcN5DvcWuHwEQpQsrOb5/TOJ7dOvddurJ4+/q8zPzm4t8+1txlj5gQ2YwGMt1ycx06rEVRYERxtCc25sqrYnEXd/TeEvlj9OHTvh4huFubGRDwSrsJmXRXYnAKMV4C9FrInpQWt62R6djtai1EmZgYDxyqLanUQpi7t//JerKa3jdpq1qdXqb1DtBd7cfI0z4QcW6KrMHeomaluDTwUTp4WUJ4cdJWfqlGcTNsHuEvEkqhnCVHPEozMKcGTevaf0tPGrY328OlJ3PZZh6E8MHgFuhqZt1ZU54qDc1M+ZVWXQjp5eHMjIj0mZ9neWX79daaMpBKJWBL3NuXtjYiPD2LYdRzQOsFCnUAHBof5DfR8fztSbc+kj+lnN9/6advENthVe1FvuFsYkf+5+SavouaPy8/tTTXQ0MVgUE5OpikpxVA6/8CG+8tXyRxNgkddv0+P+6kdj2+fCdNurIERafu5eTaOkFxu3y8EPVzfYd7N97EhuNgQ1Ke89D1+Wv5zEYNRxGjywEqN4e5vq3atxlS3ZjZ5WWFN0meNU2YBAEMmdmsDrRvtoJobdAtyjnyt8fHIs5tRLTHcHT0sAFB/S5OhE487nyuEkvRpSNXTN2wgVO/kCSmVtqaSWVFCNzFraRqDRpmp7RjgXlVcc2PPoxt7Htl6WPYe1bXHcD97r9aqTsBl8c5vu33vyHOIbv5Riwa00k4AACQDwurj8zeO2gkxyrQku/zXkf/6h3hPWjPCo6eTbjdTW1kX8zIx6llCzMtEJr1FmUWd6Jwew7pAMdwBADf2PCLq4yeuGqbbjOqOQ73hvnxEr4TcEhdLE1uqgbetZjalt5clRMM9Jja3poZNoRA02+b3wJ27GrgP9fRw9nZtGkwph0DS3uN+8p/Hd85qabUbm5L/Pj/fvOlyYj8MA0b7Ni+IUcUvfVRygS6oNEAbDzObaYxpMs6BqknFpWawdqTB4DBNj+N5XAGXzcfpVAZOzuuHcdATQuTAEfCBY7XMtW0bBk/opoXhHvMxs7KUYWyqpcyURhZnni5yjdITC6GEoDQ+W4Pu1U6LL2y54d7BPe6NyU0qzE0qvPjXXRNLQ78Bnt59XL37uFJo+jqZvKqE/uz8u3tHntfVQJUutfWw7DmidQ+4/Pp7zN064fTvGpSKkx1T2Hla9Z/Ss/tQXwtHLcWvBDxhQXpJdkJ+yqfMpPCMosxWT8fvRGt6jehKJONZDEjlUc9supEalbVs7yyjFn+HdEDqDfc74Ylje3pqarLL8PayunrtE5SeIpHkydOE6dN+tBqZ0TG5OblQU6AAAD17OMLbNphSjtahMse3P7p3/oN2Y2mWlH/Oz+9QMiCth9raMY9LL440n0NBm9QIKh4Un21GDvLjkvk62RIagzSzNCzOVy+hrUR1RV0r1U+Nfp+uvlMjugY6tVD1vLXxD3IxNNHT9LBCKpF+ep0yArKOrxLWjlQ0FiXgQSpNzWHxy4vpLfxjTInJg9LNwU3ZcLdxpqExSAFfpHZsanxBn6EtCq2WSqXQjxcIejhTq3aQ+WqKisLqp2ffPj37FgBgamfi5Gvr2MXWwdva3IFmbE6BHovPqmVnJeQnR2RGv/iSGpWl6dP7kl3TtUi51pSJq4ZXFFY/PKFZPZCcxIKcxIKTv16jWhs5+do6+NiY2ZoYWxhSaPoYPBqDQ8PhcKFQJBKIhHwRq5ZdV8NiVDGrS+jlBVVleZXFWWVFWWU/fDz0DwMGjx40s8+dg6EQ+0c8iv38LCFoXMDg2X1dutlDlJeVSqSMaia9nFFZXFNRUFVRWF1RWG1kZjDvr8kt2LuOqTfcY7OLx/bURs4MAODhbgGHwyTQvhHuP4ydMN4fo7v6ye2ORCI9dlwzVcQ+ge0mqKJdqMzxvx7eu/BRuxUt7Yz/Pje/g9tbuoJiTHL0UBMNiYShKGgTAAAFbdJ8cqoOMbPRxnCvrWa1huHOruOmf9FG76/PkI5eThyOgPca5PHgUrimA6Pfp2ttuCMQcDsXU+hx4TlppS003JMhKLiDhlqQMpBIhK2LaXqCetGYluenlhbUcFhQs5+dPMw77MF6aU5FaU7Fu1tf4wRQGCTN2phC09c30dM31sPgMGgsCoVBSiVSkVAs4ArYdRxGNauquKY8v4peob0gxMiFA7wCda8no5Ilu2bUlDM+3tcm76U8v6o8v+o/IgX4X2bC/4Y+OfMGig6SDJFQ/Opa+Ktr4Ug00tHHxszOhGhAIOoTUBikSCAWCURCgZDN4LIYHBadzapl0yv+z95Zhzd1fnH83Bv3NKm7e0uhuLvr0AETmLIB+23MnW1MmAuMMbbBhMFwd/dCKaXu3qZN467390e6UtK0uUmTCuvn4eFJ7n3v+57c3N6c+77nfI9cKpSbWq0l9h/vpG/sJlrGuHOrhNIgp/JT6XRy/9QwnKmZIpFy775bDy/qdmpuTnPwcIZD0+10OqV/aqjbzLE3uuMz7j9+dPDgHw47IhbCYvw+/u0JqzjXB5hBY+Ps/vzTCcwTgr+9KUH12ioGsZOeZzw8nanipMM3iesoGdeKnZjoQhAkdYSLo1rdwYDRsU447pk3SvQ6I9nZGY3oxED8jntZQd2QcfHODQQAGIbl4Rur9Yw7AMQkBeFx3Etyaw16I4ns/BRPab5DcTJB9ht1Dww6Y1VhXZUjVbqdIDo1/JlPHS4N4zQoAX3r9+e/ef7Xk386GY3ZywMPz5e74KXpv3+4x9EDjXpjXlpxXlqxO6zqfO4tgeVUCFb/dODh9X8tXr998frtjnY0YbwDmVXbd1wTix+QzI86gfSXXy84dMiQwRFEYpeJ2Tk6477xgwNOe+3RSYGf/fHUf8drB4CBOKqszQ58MpAWITOIghlRswKWd4JVAMDzcsZxxxPS4ATpl4ucOCo6KbBHXEt9BoVTaQ4vpOg0hixHZKmssLvO05IOKvRXFDeo5Bq7zTg8hqevjah9nKYaDabiHAc879aUOJaZ2isbco+QuICP9q4hduCpCQ8zj/12ofbeNU8gEl7a9OS8F6a6ddBeejQL10yP6hva1VZ0Mff+LL9/dnZHOho+LIpGI2s0uGRVVCrd518e/WTd/I6M2B0wGk0ffLhf5aAW9bSpKe4xxz4oAcXvUmAYtvGDg05Xh0lIDf1g8zKXyMb3IOL7hthtI9IJborPWZJTvSgB7SSnNmPGsNz6hoLGRrlWh2HY8gEOp4sx/y077xAG9zjuGVeccdx7SsUuEpnYZ3DEjXMOp6jeulCQOtzJJQWHJow7KCyDM8A9It52xhR+U/MzK+P6Oi+uUupYZmqPmXF3N+FJwR8feIXj1BpdB0EQ5KmPF4XE+f/w0u86F5X47eVBgkgivLnt+dWj3v8vy/64LOmEQiE5FLd9I61kjyMyLN2Tb787WeCgRENkhE9KH3fpfNmFjlshBMOwDWv3O+21pwyJXPfLE/81r90/hM/2sK+YZElOfTHmi5kBy47U/m63/YnC4glbts7+fftrR0+uO3vhs/NNS8kmDHv5yPEXDh6VaOxPfzoXcqDXuT5URi5V19c4UzCy2YeTS9STk95yqVEuJjbFmb9xnIHjNgkK96LR8T6T11aKdBrnv9lcnAHutuJkwGIqvhtRB9Xc8UvKcPlMpyV9HjCGzx7w9Zl3PHw65Wy0EVU48ZGRG658GJbY+yjViw38I3zW7X+F1hWF57sJ9xz34jrR/34++N3BywBw4HqOE33NmG5HTMOKHzeduXrNmYm3bsLGTWeOHMt09Kh5c/EWinMHOAPcMQz7/r19R/7GqwxtxcDRsWt/epxCw5XE/SARg0962aHk1F9upj+//1CFRNp6FwFBGlXqI/kFp4pK7A7qXPC0yQ2SCw7Ng7bEaZntkrzay6ecuac5TUyyMz5HeaHA6ROOoEhEG45yazAzVl7kfLRMDs7SS23UWUNQBGcJto7kp8olKlE9Xm2f7iAE2eXQmNRV3zz29p8rqW0/VmWKamce3zps/4ZBe79//9Ypy8YKheTRsztGHvhxzMGf/ii8DQByvXbE/o1b8tLGH9o8YM93X2Teiya93Vgz+ciWEfs3vn79KAptpgMFRft9d+H9R96aQ8H9OOpW6CxnVix7cRMx/cM/O/K6q2RSexz3HPfvDl5+afbIGpEcAC7nOFMYJT7Of0B/B+q8mM3Yh+sO3s4od2KsrgXDYNPmc7v3OJzDzucxx47ppCR9m+CcAv/xw4PHdqY5N8TwSUnvbHjEOTexSiR14qhGher5Lfstrz8/eLGi0ZlOXEJ0Ei53xJKcmiG5fLzu7/aTU7MF9Z+euwgAqQH+X8+YuvcR61yx8ZERAHC62L7jTnAqrcJxpXX7OBR53IxvEI/NxVXyujXXzuUJatxbBdYK5yRKDHpjZXG904M6FuZe4KTjLmlUCKpwnczINkJlALejLKyTOV0FrDjXgefDriq99Ph787yDHCh36CYQBBk5d9DP6Z9Of2pc+9ft5twb88OTr8x+/tLs55bHDgAAM4Y9d2nfKymjL85asX/yYz/lXr/TWAsA1SqZ1mQ4PePpI1OXbytIL5WLAMCEYasvH1iVOOzS7OcWRPbJErd3KyBTSUvfnPNLxvrR87tSyiJuUORrvz77xYk3u9CGXloT0z/8+0trk4b3jPhJ13LPu6KRScFOScq05LFHht+85YDTr9MZXn9z1+uvThs7xnmJg05GrdZ/8tmhK1edWSuYP39gF6alAj7HfcePZw/95WSEzLhZ/V76ZJ5zur+NCtWfFzPemDPGuaEtvDJzZEcO7yD++MpLzQ58Mld2U6irC2ZExbHbi1b/7dZtDGBiVOTGOTNsNgjnewCAzfn4bktZvjOOe9T9c7REEmHHz+dPHcgwGIyPr5owdnoKANRWijasO1RT0UggonOWDpu+aJBQIPt27f68O5VEEuH4nlsAsPnACyiKAsDurZfUSl1dlfjurTIMwzbtXc3m0k/svfXPr5d0WgOJTFi6Yuy4GX1vXMj/e/P5b/561jLuD+sOcj0YS58b1761DDbNP9gZ/c2S3NqwGPs5DzZxyPt07lsAgJx0XLPgDBbVN6hNWXRHyjBVDpvoTE1Zh2qmdtWM+7Qnx056bNSF3dePb7uQdbnAiZJkHYRAJAyd0W/J67NxxqUsjOzzdtqJHLFgbnjSAO8gAKhWyfKlDU9f2N3cpkwhDmfzAOCxmP4A4E1jhrI86tSKcDa/WiUV69TTQuIAoJ9nQAjLviapVyDvja3PLX5t1t7vj5/deRVnsYKO4xvqNWb+kLGLhgTH9mYtd1M8/T0+P/7m0V/Pb1u7WyZSdLU5nUdLOUjOp7vOlTeI3/vrZISfk3MA8fEB/VPDbqU74LsbjaZ1nxwsLBQ8+cSornVq8VBUXP/xp4cqHP89BoAAf4+HZru3BJ1d7IbKnN6Xvu2bk851PmXhwFXvz8FfGeTjfeckSo3WYHhq3EAKibj51I0igejtHSdGJ0SMT4rEMHjr7+N6k0msUL89d1yVSHrwZi6JSKiTKJ6bPGRQZBAAvPfPKZVOz6U3LWJuO5++69rdb5bNjPTlX8gttWpvxrB3d540mbGrBRWjE8LXLpjg3Mdsh4BQXI47AkgCZyCelmlVNQCwcuigthp4MxkA0KDsSWk6DhWzbCbgfjl5o8HE9mD8cvjFypKGF5ZsSkwN9fLhrFvz9//WzomKD1DKNc/N/yEy3j82OeijHx/78u09IZHe8x4fYdXn4X9ufLJ5+WufLZBL1Jbp/KT+YUPGxrO59MpS4UtLN42b0XfgyJifvzhWlFsTFR9g0Bsvnsj6YefzeAx2Tji/OLd2/Bwn7xIOeZ+lzuan5uKLk4mI829n7ha/qXlOO+6OaEF21Yw7ABBJhHEPDxv38DBBufDygZtpxzNzrhUaDfar0naQ4Bj/MQuHTH5slEPxBiP9wk/PePp0ddH6O+f96Ozvhs/CACMi6OXZzxNafN1yvRYAWKSmeaK2roN2QmWsCIkLeHHjE8s/WHDij4uX9qYV3nYmKMAuCIpE9wsbNDll4OSUXumSHgGCINOeGDNu0dBDP585+NPphkpnfDM7Q6AIz6971Y6857ivmjEss6w2Nsg7zMfDufqpFp58YtTtjHKcxZgsYBj8szvtdkbFmpemxEQ7WbvY3eh0ht+2Xd69J82hj9aSFc+O7fInk/Zn3NMvF37zlsMKqRZmPzb8mTen42+PYXCzuOqXFfN4zKb4h8dGpx5Oz3vzobGWtwgCHy+eDABnsopPZxXF+HuZMezTJVOKBaKfTt0YFBmUUVaLAHzxyLS04qpt59MtPRQJ7v3dWrWvlyplau33y2dtOnk93Mf1JRJRAuoTiOvPO1t2I5HT5IvnydPbmXRvVKsBIJzfprVMMgUAdEa3aL+4AwzDasqdubf6tZq+HTO1DwAER3hHxPjlZVaZEs2lhYL3V/3Z3KCmojG23VjzlIEREbF+AMD2aLoIq8qEe7ZdxswYIIhSoTWZzAQCOueRYYd33Hjxg4euns2LSQj09uPiMdg/xBPA4eqw5c5GsACAfwifwaKqFFq3DoQ3M7XdKHbfQB7bgyHHoQvhdH4q/lAZLz+Oh2fXy4z6hnrNe2HqvBemapTavLTi/Jsl+TdLSu5WimolrpqJ5/t5xA4ITxoeO3hKX79wbyd6yBLVxXn4TA2OjeR4PnRiGwAEMbihbN5PudefSxgCAHmShghOmxN/gQwOl0w7UpE3LSQuSywoVzgWwMbxZC14cdqCF6c1VDZeOZh+50Ju/s0SqdDJYCoLbB4zLDEodkBE4tDo+CHRTI6T8Xi9dCFUBmX+/6bOe2FK1uX8C3vSbp/Nri1xPuYQQRDvYH5YQlBM//C4gZEx/cO7W4bDPce9VCDaeTGzTqII4LPZdGqYs55NdJTvvLkD/9nlcF5jcUn9cyu3TpyQtPzxkV5OaU67CYPBdPRY5t87rjd04AaRmho6dEiUC61yjnZm3Itzatat+tO53LhFz4557MVJDh2CIPDuvPHv/XOKTaO+NnsUm2ZtmFKrW7f3HJtGEcpVYd48AIjw5QMAi0ZR6/QAUCOWhXh5AIDl/9ZYtfflsggo+t4/pyQqzcKhfRz+kPbw8uXgfDDLkd9qdtxvic+347jTSSSZySTTaqlM246FUKUCAA9a97qttINcojbonXnM8A9p5Q38681ggCEIAAZEIuGPU69YImHwYKVtIpeo1635e8OulUFhXlKxatGojy3bJ8zqu+Pn80q55uT+9GnzcS2VAIB/sDPrlg11UieOsoAgSGR8QOYN+wkPAKCUa4R1MkelVPRaQwk+h7h1zVQrohIC0i8X2u2nKKfGaDQ5OuWh1xrwPx92NyFIGpPab2xiv7FN6wxala66qK62pF5YIxHViUV1UlmjQiXXqOVqlVyj1xhMJpPRYDIZTIAAiUwkkohkKonJZXC9WBwvtlcALyDCxz/SNyQ2wCuwoxMWO0syT1QVElGUSSJ/MmgKAKAI8vOoeR+mnx66b4MRM0Ww+b+MXtDW4QQE/W74rLduHPvszvlhvqGj/SOdM8M72HPOyklzVk4CAEG5sDC9tLasob6isb5CKKyRaJQanVqv0+j1WgNKQIlkAolMojEpbB6TzWNxvdlegXzfEE/fMO+QuABP/86eTN1R9n0nj4iHR96a88hbc7raig6BIEjyiDhLrV9htbgoo6w8t7qqoE5UJxELpHKxUq816LUGs9lMppBIFBKZSqIyKFwvNs+Xy/Pl8nw5fqHeQTH+gVG+FMcLcXQm9xz3T/459+KcESFeHhVCyae7zv20cq7TnS57bMSVK4U1tQ4rvmEYnDiZdeZszphRcfPmDYyK9HHaBpcgFqtOnsras++WSKTsSD9kMnHlc64PzHACBsu24y6oFr/79G8ap3RzH3tx0qJnnQlM7xvm/33YrJ1XM/dcz142pj+JQFC3cOku5JYFe3JXTBy882pmg0wFAOj9K+/+Huz00hoAqBHZrult1R5BQGcwvjlnDIXklqoieGoDifT1l4VHqlRF+2t+AQC9Was1q9tpH8nnpdfUXquomp1gO6f5SnkFACT7dfFfCn5E9U4WYPdr5QefOXRn+qJBlSUNpQWC2OQgLx9OQDB/16+XFj45CgBKC+qCwrwsIph0JqW+Vmp3CLVaB4BYKlUd3nlv6oFMIY2f2ffA9mvlRfWDcBTYsmDjSQMHjQLnC9QDQFQSXscdAErzax113AvuVhlb1QO3SVtakM1EJwficdz1WkNZfp2joSxlhQL8pXm7eeklKoMSmRIamRLqqg41+hwaOaH5rUi1m8+Yh/PYjwZO/mjgZKuNwUzuz6OseiCVLXmj+c3BKcuaX/f3Cjwx/SkHTW4P31Av31Av++16+S/hFcjzCuQNndHFwclu4p4H4+PBjA/yAYD4IB9Ptn0t6nagUIgvr5ny0svbnVvfMxrNp87knDqTEx7mNWZM/OhRsQGd+0ysUGhv3io9dTrn5q1SpwNjWvLcs+NCnJp+czk2Q2XkEtXbT/wqaXTm4eSZt2bMfnSYEwdKVJq3/j7BoJBVOr0lozTCl98gU67ZdnjmgPhR8eF9w/x3XMmsk8gpJGLr+XgA6BcesDct5+U/jgTwOAQUlaq0P568dqes9kfdtSExIV6trmGhXIUgyNs7ThpMpggf/qopQ50wux04PPt/NXyyz1ifh+QGST+PEQBAQIg+1PZm+6bERqfX1H52/lKir3ck3/oSqpBIt6SlA8Cs+K6UKnKIRtwKfS1BEMTj/uei0EgfhUz9xPSvjAbzqrdnWsJX3vt+6U/rjz4yYb3RaA4K8/xgw6MWRdLpCwd98srORyasZ3PpG3atbGsU3wCPGYsGPTP7OzqDPGFWv5bBOTMfHvz07G+nzh9IwJ147eFU/RqD3igTq/BcSzZxsAyTYJCDIlc4leYpNFJgmB1fyqEwd0cddwczU7vXjLu7KROtjPT+i0zwBwCB/AeJ6iB+x72XXnrpcogAsOnoNUAQoUz1xtajAXxOtUhm6rC32ic5ePGiIX/97aQ4iYXSMmFp2YVffr3g68Pp2zekT3JwZIR3cLAnkeiyulHNiETK4pL6nJyam+llhYUCF2b3jxgeM3OGYwr37qN1qIxea3jv2W1OhB0jKLLq/TlTFuKNHLDCg0Hb+OTsllvIRMLmZx5qfuvvwf5j1cKWDUbFhwOAD4e54d8DP1o0sWUDK0Uaq/a7rt19fHTqwMggk9m8bOMu58xuBzyllwCAReSO95nrRwvF0/jhPkl/37lbIhLP2PrXjLiYvv5+AIABnC0uvV1btz0jU67T9fX3mxjt5Ipz54NfWrslDBa1pVQR24O+ad9qAHj4mfu+cb9A3vvfLW19eFCY18bd1v5661xVAHjq5SlPvTzF8nr+8nsKRRQqWac1Tn6oP36bcV4PrWkUyJx23B1UhHQ4PxVnZmp4rJ/dJHUH6qfeqZy51LHHbIcSoLv5jLvLCeZ9Uip8OtL7z1rpeq2hMNpnt/1jWiBQp52tXQUAbHLI9OB/3GOju+jRxndnNpfsPVBz3rV9/tT/rUB6j1lM7kyIABAT6A0AMQFNEyQJIa5JD12+bFR5RaNzsolWCOplx47fPXb8LgAQiWhwEN/Xl+vtxfL2bk8D2wqNVm80mTRqvVqjVyq1QqFCKFTUN8jr6qSlpQ1SWXsRC07j7c1+ec0Ud/TsHFaVU80m88cvbncu/Ss4wnvCQz1pHWpsYuQPx68evJWn0GgfHeV6yzkeeLOaDJgeADQmVZroTBwn1ZvSpt9AIRK3zJ29bNfecol0b3bu3uxcADBj2NN7D1gaRHvyN8yejjouGd5VNDoVKsPGfW7dAYZhe7ZdTh0a2TpBth2cdr4bBbKIthXQ28c3kMfm0uVSXHczR6XcMQzLy8B1r7AbJwMAPC8W34eN50Euz/EbFH7H3T+Ez2R3ixQRI2bKlhZny0tKldX1WrFYL9Oa9AazkYySaAQKn8Lxo3pGsoL6cGOiWEEIbj2W1jApg/04L+bWjmZQ+kd6/4Ui/6361v9BdhVlv3zxaLSH56mHlne1Lb24ACIAjEmOAIA3th5Vau+FOFs2dgQEgTdfn7HqhT9Ky4Qd7KolRqO5tEzoRJ+Ll/7oQjPwQKGQ3n9nDqs7Fea1mnH/Ye3+G2fznOuqoqj+23f2rvl0vivs6gxiA7x+eGKW+/qn0vH+/p2t3/d42GsHa34LZkQfrv19edgb7TQO4nIOPLbkl5vpu7NyauX3pGp9mMyFfRKfHNCfTu5JFWqVMo0TRzk9e91xzh+9u+mzwz4BHu98bV39qn3IFCKFRtJpHJadloo7lFETmRhw+zKu6ZKa8ka9zoi/VlplcYNSjuvrw1kYNTop6Fq9/Yq2giqxVKTEk0NiATNj+DVzulAIspl6rWhfzbmz9TdVRhunV2fW68x6qUFRoqy+3HgH4JAnhTvVb/h0/xEMogOPHFLNiebXCJB4jLkGk0CuPQ8AXJpj0gK99NJLF3Lvls1h0J6fPozDcKWXSaORP/pw3srVv4vFPUln2iUQiejad+fExjpZS8VNtIxx377hjNPlUS2c3pceHOE9/6lRHbbrQYBIwit8QULJSqNMY1IN4U8sVdp3XBhk8uphQ1YPGyJQKOuVSgDg0+mBHAeWm7oPOqfqp3ThnOjoqcmjpyY7dyyLQ9dpHF5hcO4UNROdGIjTcTebzBXF9VH4nGzALQQJ7dZMbUl0UuC10/avfwDIz6wcPBZvkb6aikatBm+efVeVXrJgxEzbK47tqTpjxBwQbm/USX8vP7y/5tyT4XPG+eANVhQqtra1sUc77vvLZ6qN9QvCzxPRbrFy0nEEauWGzOur+gz2pne9Smkv3ZB7jrtQpvxi3wUKsWnLZ8umumQAXx/O118sWfPq342N/6G6VggCr748beDA8K42xBrGvzPuJ/fc+uO7Ux3v8LcvjweGeQ4Zn2C/6YMOCbfjziCyfypZOzfwaQDQmXGpblvwZTF9WT37Vq7XOeOVWsRhehzOma3XdkiV39H6qfgd9xx8Ae5kKik4Cldkaky7Kvstyb9Thd9x7xE1UwFAblC9n72pQIH3caj14V8V/JktK1kVtRBF7Od9RXn/7dxA3Rm5vkJtdF6xu3tytrLk99zbS2NTeh33Xmxy73clzIc3KTWGTXd9XEdQEO/br5a89Mrf9c4qwfU4nlsxfvy47ujL0llUALh1seC7d/a6pEMMw9a/vPPLv58Nj3O+aNeDAf4Z99kBT2CAWaJUFwa1KXLyQKLXOeOV4n8o6lbgvyRa4tyzTTOOOe6OhLnjnHGPTgzEKbse2ycIQREMhxZCXoYD3m1xbg3OlgiKROAIx3cHKqPm9czvKtRO1q9t5qTgmsFseDn2UYeO0hpKDCYBQNOZZ1GHd9CMrkKg6dCicffkUm15V5vQS7fm3mO6XKPbeTHz5+M3LP9cO4yfH/fbr5b4+3Nd2203BEWRF1+YPHeOA+oTnQmdSSnMql63+i/nCi3ZRKvRv/fsNrHwP7SiYhMibnn4G6LTzbllDCIu0UAzhmUL6vdk5/x26/avN9OdNLEb4JxX2pYHfK5qptrogH6Icwg1V3UmUfNblaHyXNVMPAc697zRwVAZh+qAluXjdRwljcq6SpH9dgDx/UJw9kljUEIicNXvLMyqxq/Ljn/GPTjCm0bvmkorn+f/3nGv3cK5hlt7q8/ib18rXV9QP6NGuq5G+onln0vM6BIEahf7Kl2OwWy6VutkteBe/iPcczXeXDDWrSN5e7M3fPfYh+sO3M4od+tAXQiFQnr37VlDBndfbT6ZWPXeM1vxB4DipFEgW7ti2+d/PkOm9qREya6iTJU3iD8ef/sThcXrL1yqkEgtbwkIsnxAKgCYMOy1oycMJvP7E8b0lOKpzsWBdG2oTJns73j+SxSCw6UYnA2V6ZDjDgCRCQE3LxTgaYlfERKnECQAxPfF67gDQGxKcHmR/VAHrUZfXlQfji9lqBT300hXZaaeqU+7KcYV3I+TP8qPDOEn+9E88TQWqXbE+50nEXA9MnVnjGZNveZ2V1vhGsrkko2Z13NEDYWSRoPZBAAT9/7assGK5EGvD7gvneyOsO5ASe4NQXW5XKIzGVkkSiSXPyM8dklsChFf9eidhXdfv3wCRZBvRk2fEX5fabl8ifDnrJtX6yqFahWNSIzjec+LSpwXldiDFMzcgdFkLq5rLK+X1EsVIrlaazDqDEZzC/XwobEhU/rjLdLnNPd+V4rrRD8cvhLuw1s9c/iB6zmzBrs+0oPDoa3/dOEvv174e+d1l3fe5XC59E8+mh8T072yUa14+eEfnSuPapfCrOovX9/1+tcPI//tP2w88Cm+Ip2AT8Glu/rLzfRPzl20uYuAII0q9eXyimGhwQuSE11qo7swmZ1Z6kEJdi6qrMZ1AEiS5xsqQ9Ud4TsMUrBcX4hh5n7en7DIkQ3qy/mSHzDMxCSHJXu+Q0JZ56pmjgk6WKc6nSlcOzn0okB1TqrL9mGMzhN9bcTUJJSV7PkegxSkMlTmir9u1KTdbnidgFCDWDODWXMBAAPzHeE7LYdwzmybGI0dXQ2LTgrC6bjLpWqxUGEpFts++DNT43DPuANAXN+Q47tu4mmZl1GJx3GXNColuPOpuiTA3YiZ/ig/4to+9WbDXxXHXo59BE9jAspxideOAAoAGJjL5EcrlKdk+lKtSUJAKEySvw+tfzRnPpPUXvyk0lBTrbrQoLkt1ZdoTRITpichdAbJl0eJC2FN9KUNsHmUWJcvUN+Q6Iok+iKFvhKDpj+Wf0pHt24c7/FoCv95dxjvciRaTaVcyiKRU7z8btZXA0Cypy+deG8iLJjFbdk+Q1g3++Afltd0IsmHzhRqVDfrq2/WV5+vLvtt4ly7I/6ee/vda6epRNJP42aPCgxruWt7fubbV0+aMIyIot50pkSruSGouiGoOlSa98uEuWRCjwxc7AiVQunpO0WXcspyKgT6dktHs2mUTnXcvzt4+eWHRm04fBUALueUucNxBwAURZ56cnRcnP+n64+o1Tp3DNElJCcFvfn6DId05bsEN3ntFi4euxsY7vXI6gnuG+LBoFpdnCm5QkIpFrdudfRnbbXMFtR/eu4iAKQG+C/tlxLC5T70x/aWDcZHRlwurzhdXNJTHHeyU5PQRkOb90oEkGzRZyhCTOC/Ztki1mbE8f7Ho/Ytl+8slv0Wz1tzt/HDEQF/UQiepbI/c0Vf9vF6n0b01xrrJdpMNiVaaaiQ6wvY5OisxnVD/LaQUFat6mS26JNBvhsZpOABPl9fqJ7fz/tTJuneb5vKUJni9WHzEH291tk2W++AVEgz+PUZ28KhikLlhQI8jjvOzNTAMC821wHR/dg+wThb5mdWTnt4kN1mDpVeiu6KGfdLwttCncTl3V4Qpi8Pn8kjc+y29GQuFsi+82ItI6DOFPdthoQyNMbGi4JXRdp7qwdmzCDRFUp0hUWy3YO83wplTW59oMpQd0P4sUBtHZ6uxxR6nUKiKyqRHwxgjBjuu47QSmO+UPpPqcIFjz1OG+8m+nn775z2MACoDPr4378BgC9GTo3xaHMJpa+X39zIhARPnymhMf4MFgAYzKZfsm99cvPC2aqS64Kqwb7Wmd8tZxE2Z6WtSzvPoVC3TpzXz/u+R5SrtRVvXT1JRNGPBo9fEJ1kmby/VFP+0sWjF2vKP755/v3B41z0oXsAV3LLfz+bnlZY6bqanE20nsNCEATngsa9XwgamRTsxXWhWe0wfFj0b1v8vvvhpEvKM3UtRCJh+eMjFi4Y1DvTDADbN5wJjvAeNa1PVxvSrVnWrnB7S367dRsDmBgVuXHODJsNwvkeANAcRdP9IVOcCaZqx3Evlv6mNdUP8Pm2eQuV6M2j9gUANjlaoDoj0d3lUhIoBE8ACGROu1AzHwC4lHi5vlCuLwhgTJFo78r0hRxKvMpQcbV2+b+dtBd1YDVEW80MbZvdDh2PN8NflBQAygsF/YZFtd9GrzWU5OByiPEHuFsIivBisKgqhX1tJZz5qfij9olEQlhXyPWerndLPqUZM59vSH8o0H7Ia4PiN72xulb2RfOWfsHOBVWjF+teEelyARAeJYZDDkMRklxfIdTeBcBMmP56w4dscgiPEmd1GIXoIdE1rQgRESqXEs0iBRAQisYkatCkG8xqAKhRXbopXD/Y+x2rY0NYk7iUaMtrE6bLFG20vE7hr0QR6z8cPtV66I4b3334atS0lm9JKOHZ5EFHywszhXW362taO+7Uf+fvv79z7Yv0S9505p+TF7R+Nvj01kUzhr2aOnJx7L3f8REBoW8PHLP6/KE/8+6s6TecRX7wi3aVCkTrdp5NL652R+dKjW7cW5t1hvsCR3ks+skPnyIS7Ic53XPcAz05n+46V94gfu+vkxF+DkdzOoqXF+vDtXMvXyn8fsMpYY/NawwN9Xzz9RmREb1Vee/x1Ru7fAN5MX0ccB16aYu0qhoAWDm0zYlGbyYDABqUPaZOApnqzHSyoe2paxLKFGquSXXZXErTmgMRuTfj26ze0/zW8oJDiZfriwBQD2pypXyPziikEPg0ov+owF147LEaoq1m7TxvtINzixIt8fBk4ixKCgAVOELMi3JqjO0uEDfjqOOOIEhMnyA8wvO1FSKFTM3i2JnOL83HO+MeEu3T8cUNR9GYdNnSYjd1nibOweO4x/ked8lwjdq7AMAmhw7z+dDjX2caAES63Au1L2lNEjNmzBL/MsrvC6sDiQg1lvuwRFcYzp7hS+uPIvfygw1m5bX696tVlwCgTH40mfcMnXhfVI8ffZAfvel+qDcrmh33aM48h3TcnTa+mxPK9sgU1ikMNpbWmSQyAHyRfun7O9dC2Ny/Ji8MYlmvz9SqFJnCOgCYEWH9xDLILwgADGZThrBuZECoO4zvPvxxNv37Q1faj4rpCEwaZWxyxLH0+wIaxQr1hezScX3sJ0neu22tmjEss6w2Nsg7zMejT1gnRXcNHxbdr2/oH39d2X/gtq5jImidDJdLf/SR4TOmpRBwPB71RFACil/GoSV6nXHtc79/u3ull5/9RduWnK6/crbhmsKo+r7ve06M25o70txQRiCX1BS/JNAK1+VtdFXnHUGgrTwh2OFNCZjit+SW+Fx/3pi2Wjaq1QAQzue11YBJpgCAztgh5e/OxOUz7sHsef7MibfqXx7q/xuV4NW6gQelT3bjp1qTkErwqlEe9aINAQAOJb5U9geP2o9FjlQYSkkEDoscZTArRNp0PjUVANOZxM3ZqESUoTOJW4bK4MSgd+Z7cUmGd3Ri4LX6XDwtywvtK0LmZ1bhHDe+XyjOls3E9gnG47hjGFaYVZ06PLr9ZvgFLrskwD1PXupQrSWHyJeXGTETEbETgkxAXRbSSUZZ4/w30O5fnuJT4vt5vni1/l0AqFPfMGOG1nPhCR7LbHZIQplDfT48UDFLZ5JhYK7XpIexprjKWlcZ301QGw2HSvMu11QUSUUSrVpp0OtMJktiK2YrsINFpmy6e+P7O9fIBMKOqQ9bAmysyBM1WF4M+ntjW+OKND1mnsgJDCbT2u2nDqc5WVEePzMHJ1g57gCw71o2Hsf9ntP5xtajW06knblTtOVE2qpN+11rYjvQ6eRnnhrz918rHl44mN5FylwOQaGQli4Z+ue2Z2fP7PdAeu18b/Y7Pzzy5jeLnQ7+kTQq3n92q6Px9ON9hq2Oesy5EW1yTHBBZVS7sENXcaxu+zS/R8T6BgDIk7enikAnkQBApm0zkECoUgFAT5GUAQCKUzPu7YtIssmx8bwXbwpeMGE20mbIBG6y13s3BasvVC8Qa2/H89YAAJ3orzSU8agpCKAAGIccQ0AoA3y+yRd/d6F6/oXqefXqewnBkdxlmcL3L9csqVYecqHZbeGSaWD8eimVxQ02f+ZbUpiFy3FnceiBYbiETVoSl4I3zL3A3vOD0WCqKWvE2ZtDAUWuolSJV2PeCQxmY7Xa4WpEKn2G0yPGch+m2QoqC2aOQREiAJgxvdzgWBwOEaX50YdaXru1uJI7jO80btXXjPhn86uXjh8uy0cQ6OvtPz08dmlcSjinzVmeOw21n968AAB6k+nr25dttlEYdACAIkg4h9fWPzqpB/hpzmEym1/59UgneO0AMCgm2Idrrdt7Na+8UW7/uejeLwSHQXt++jAOw/UFmPDA5dCfenL0ooWDd++9eeToHbG4Oz7Scbn0aVP6zJ6dyuc9mPXMEASZumjQ8pen0JkUAFi2ZvKvXxxzrqvS/Lr1a3a8u+ERBO1Q6P9tSc6OqkMmzBxA83kmfPEN8Z1sWaHFv1ca1S9kfLAp9UMSSipUlP1RsU9r0jGI9GcjFgPA7+X7smQF3xT+RkbJo70HT/AZBgAYhv1Q/HuFqsYM2AtRjwfTu6ZoFBmleFJwBddG8nnpNbXXKqpmJ9gOtbxSXgEAyX49JliLSncmOFIutf0ANibooOWFL2OcL2McADBIwc0bedS+Q/x+BgAv2mCvgMFWx04KaXLNh/htsbzgUhKG+W9rPYoPfZQP/Z4Qm80hbKKQaux8MFtQXDHjHoV7Olmr0QuqxH7B7YVHFt7FFegZ3y/Eiaf92JRgBEHsPjwAQMFdO457VWkDzpAeAIh2JIXXVVRrGtzbv7o+lOHYba1G8mG0j5P1+IKZtvMUUYRMI3iqjAIA0JtwhWy1hEFsuqFZ4t3dhJuM7wQ0RsPTZ/aJNOrBfsHfj57essDqM2f2l8rENo9q0KiWxvUdFxTxzJn9/xRmhbA9VvaxvisySGQAQADOzH3iP6j8+P72U+fvlnTOWCiCjEgI333lbsuNZjN2Obd8tj1tmHuOu1Cm/GLfBQqxactny6a63FC7sFjUZY+NeOyR4TfSSk6czLp6rRj/XditJCYEzprZb9TIGJwVAXsiIVE+qz98qKUG8/ynRlWXCU/uueVch9fP5v765bEnXnH+QpIZFD+V/v1Z8qtcEvtw3dnfK/YuC533V8UBnUlPIZCvitIH8vqQUJLBbPi5dMf7Cf9jEGlXRbd/KfvnrbjnX419ek3mx/+LXhZAu6e6WKdteD7ykTh2xHHBxQM1p1a5dIIfPzyyz/6aX4S62n+qNvpS25v2mxIbnV5T+9n5S4m+3pF8a9eqQiLdkpYOALPiu28GlRV4BExaI5e490n+k9MXH+6XHMrjurBPlULr3O3LuVNkhUNeaXlRfTuOu1yqFlTbdgWsiOuLd+68JUw2LSDUs7pMaLel3YgdPGE/FsgUYkg0Lj1W1yLSubd8uEjfZv8afQ6NnAAASt19+psGk/0zbxMCQmaR2/zGCWjTI7oZc3jdyTLhDQDQdgJJB3Gf8Z3ADUG1SKMGgK9HTWvptQOAsO04lkgu/6OhEwDgq1FTV549+MWtiyEsrpV8e6yHFwCYMCxX3JDI7zHzQS5h95W7h27gCi+0QCYSOhgEPygmyMpxB4AbBZUOOO5hPrxJqTFsetfMuLcERZEhgyOHDI5UKLTnL+Rdv1GSebdS7U4dQ5sgCMTE+A0dHDVieHRIiMPrvz0IEpm4aMWYBU+Pbv1YsuqDOYIq8d20Uud63r3lYlC498S5TtaRLVSURTKDLUHqIz0Hrsn8eEXEkj7cuBviOyO9Bl4Upj0SMgcAKtW1tdqGd3O+thzlQWozgpNH5saxIwAghB5wQ3THOas6zhS/xRWqggBamDclIIQR007Lh/sk/X3nbolIPGPrXzPiYvr6+wEABnC2uPR2bd32jEy5TtfX329idPet+WWFp69jmQ8WZG523N8YP9LlfTr9sMH3cUEIMtuD4e3v0VCLS3awolAwZFx8W3sL7c1zN5PgeIC7hdiUYDyOu1yiElSLfQPbDAaoKMI7nx0e598lgY5yg9LN/bd51VVLP4zy3gEARQ0PU4ihzdv1JicLuFIIHgh05BxiIm2uQJMm1ZWojHU6k9xgVpkxvQnTmdzvLnfYeHdBITR5ZWJtm6sNaoMeAFAE8aYxWm4vk0ssqaXtMz0stmag/OO082suHvVnsFJ97j3kB7E4SZ6+WY2CHzNvbBiLqz70g4FAovhyr+16KRb4LPqopIiEYJ/4YB8fLpNJo5CJhJRVX3dk0AFRQQgCVmuNNwvt32/vOe5yjW7nxczmt28v6nqpThaLOmN63xnT+xqN5ty8mlu3ym5nlBeXNOidSvnCiacnKy7Wf+DA8CGDInk8hv0DejhJA8Nf+PChgFDbTyZEIuHtH5a+OH9jTQXeyFErvn9vn38wP3GAw4l9ANBy2b1Zu2OM9+B9NSfj2JEygzKGFQ4AGIA3hf9lnzftdkgl3IvTaEcMxH38VmZdXRwB9PGw19pqTyESt8ydvWzX3nKJdG927t7sXAAwY9jTew9YGkR78jfMnt6D1jSdc9x1GoNea8CZtfnBiXNitUZrMDw7bGBKgN+X565USWUag2HNmOHRXnwAsNry6430Hbfv/jBvpmXvuaLSfVm5ZAKhRqZ4YeSQgSGBbxw+aTZjl8sqxkaFr5uGt0xBW+E9duH7OHOKWhOdFIjXcS9uL5K4MAtXnAyRSHA63TMuJfj0vnQ8LQsyq9p13PGGRHdJZioA6M3udUnb6d/itQMAjRQb63u4eXu+wMlFUSLq/DRflfLcHdEGhQHvM6HL6YjxFjCzUCN9hc7bCgBa+Ydk+lKU2N7PXMv27RqGRnD5JVLRprs3kjx9mf8GlBvMJhLaNLMWy/MCADOG/Z6XsTwh1bLxSm3FG1dOmPHpjT+TNLBKIfsjL+PJ03sPzHykZXWndwaNWXxs5+GyfOJ59Pk+g6M9PAFAotNUyqWnq0qICPpC36F4huhZfLnvokZv+28nLsh7+cSBY5Ii8Ag1OgSXSYvy9yysuc+5apSrygTiMN8273LQ0nF/c4F9GamugkhEk5OCkpOCli8baTZjVVWiktIGy7+aakmjSOm0Ig2dTvbyYgf4e0RF+cRE+8VE+3p4PPjOugUmm/bEq1Mnzevfflgqi0Nf+/PjL87fqJA544gYDaYPV/7xza7n2w+itUkMK/yXsn8kepkHmXOp8WYfbiwAJHKifyz561T95dFeTaJgwXR/lVGdKy+OZ0digMkMCsskPY1AlRmUAd0pb3Ne0AoAOC3Ylcwd4knxE+sb2k9OBYAgLufAY0t+uZm+OyunVn5PONWHyVzYJ/HJAf3p5G4qemATT2e9UmG9LADHwhcGcKOi6vcl8/gMOgDcrq5V6fXfzJlaLpauP3Nx4/yZrbcsH5Ra0HDfrdOMYV/MmlIoFG28fCOYx5VptJsWzPrh0vUIz/ZuptYG1zkTFEEiEx0qYNQO0UmBl09k4WlZ3W5Cp93IcgsR8f5O6+HE4s5Pzc+saqdMRGUJbse9K0ovAYD7JGXw9+/HebHlWxrJ7YUerciRbGuWcaQQOH70IR6UaAbRl4yyiCidiFILpDtK5I4lgnctVLa13nxHWJ0y5IXzh89Xl/X963tfOstgNom06ldSRzydNNDSIJzDmx0Rv78kd+31M79k3/Ki0auU8kaNqp+3/5LYlI/TzuMZZe2Q8bUq+ZnKksdO7N4/YymH0vQkM8g36NvR01+5eGx/Se7+klwiiiKAWMRqAGB2RJtLcz2Xsnrx6TuFrbcTUPSpyYOemjSQgLprcSYm0NvKcQeAYoEIr+NeXCf64fCVcB/e6pnDD1zPcVPl1I6DokhIiGdIiOfYMfcuIIVSK2pUNooUIpFSrdbr9Ua93qjTG/V6o8FgIhBQCplIphApZCKFQqJQiHw+08uL7e3FYjK7PjSoSxg5NfnZt2Z6eOLKsg0I8Xz7h6VvLfvFuZhduVT93rPbvt75HIPV3tn+vOBniV7WqBN/kPt9LCt8QdA0FpGxImLJJ/mbzJjJh+r5TPhiAEAAGe7Z/0jduW9T3rUcSEZJr8U+81v5bo1Jh2Hm6f5jx3oPBYDZ/hN+LPmTQaRP8R01yst+zcVOgEXkAoDapIxgJgIAh8S/2mhfU5lBJq8eNmT1sCEChbJeqQQAPp0eyOnuZXptwvdhIyiCmR1e7qirFONx3BGAD6eOf+vIKTaV+tbEUaUiSXpVzf/2HQUAi9vdektrojz5AMCmUNR6vR+bRUDRt46ckqg1i1MdqCxWVyXC37gZl8TJWMBfP7W6tL0wFZwz7o4quLckNMqHRifj0aFqJ25HrzMKqvFWJO2qGXcS4gLJoHYgo/afnTi0+5bTQ/hfuc0cG0j1xXdFmyyvY7gLU/jPty6PSupYSVd3o5G+CpgSQT0sb/XKzXr1X3TeZpTYFPeok39mNlVimJrKfh0lxli1t8vsiHg6kfRLTnp2o6BWJWeSyHE870jufTNfX46c2t8nYEfB3XK5RKxVh7C5yxNSn0ocUCzFe9shIMgPY2YuOPJ3VqPg6TP7/5w8v3lGf3pYbD/vgK056RdryioVMqPZHMjkBLE444IipoW1F9vZQ/n7wh2bCxVvLxo3Z4h7S5KHetu4Kirq7eQU3buJfHfw8ssPjdpw+CoAXM4p6w6O+5r0HafrmsoRbxz06DCvNsv7sZhUFpMa2ka8R/vkyWqfT/vj/eTZI31sX5E6k+Hz3GPnBHkSvZpJpMwOTn0pbpJDPeCkQF634OLGt5Nmzg8Z0JF+2ofvw37hw7kDRjlmavLA8FUfzPn6zd3ODVpV0vDx//76cPMytO3FpldinrIxLid2fbL1hNDi4JmLg+8Lv4tghnyUuMaqWX9eUn9eUvNbX6pXs4h7HDvi/YQXHPoILoSCUndXbfKi+Dfq60ioA9JaviymL6tnKxoRCKiXL6ehVurogXWVeH+Q+gX6b1owa3t65q472f0C/eN9vT+ZPrF5bzjfw2pLa1qGHiEAOqPxnUljqETHXC78BrfEy4/rxFE2iUoIwKnWotXoGwUym1FMwjqZVIQrLLsjjjtKQKOTgjJv2NdzKM6tMZnMNsPTa8qFOEtP0BiUwDAbkv+dAIXg3vUxKo77idEsIeJ2Il1OueIkBmYA4FFiUj1fBLCx3qs3d0ctFwsm/S0AhOax0ai7qldtBgAy82mTMb9Fg3QMU9E8NpiNZVr5OgrzWav2eJgYEjUxpL16xkQUfSSu7yNxfa22x/O9K5541Wrj/KjE+VE2HFA6kXR41qM2+/dnsN4cOPpNGI3T4J6L2YydyrAx3f74+P7u9toBINTHxuRReYOdCYh7P0U0MinYi+tamzrI2j6zV8aMOyPI/T7/tLvHMmJt3vF/K7m8q+LmotBByR5BYp0qguVts1k7PXQrho5PcNRrtzBxbv/qUuGuLRecG/f25aKfPj684p3/UL5LW8wLWlGuyhfrG4IZUWGMHiMI4yrCYv2ccNxrK3D5wRK15tVDJxhkskqvf2P8yHA+70ppxeq9hwFgVETY3D4J/QL9W24ZFx3x/aVrGdW1P1y6NjwsZEHfJKsOhUoVgiCvHzppMJkiPfkvjsYb31lXiUuJxYrQKJcpOTDYNL9gHs7zVl0mtOm4F+fi1R2P6+u84w4AsSnBeBx3vc5YUVQfHmtDTbWqBK86SmRCQAdlap2GQ3Lvg7cH2f6KTV7dhDi/k0TUgbgvF6IyNJW29aKl2PTaAUCoybS53YqWpZEMZpVDlVOdxmyqJBDDAKCtiHazsdikv6mRPA8ABGKk3fadhRm6ZTJul3O3vE6itNbt9WDSnp5srZXpDmzOuFcKpe0fdc9xD/TkfLrrXHmD+L2/Tkb4ORyO7A6YRCqTSQ1huFfRJY7jf3ZCm9mBAHCjsSSM6fVG4nSne3hgWPby5JqKxquncpw7/OCfV4MivKYvHuJaq3oioYzYUEZnh5Z2EyLi/G+cdbjCRXUpLsEQDzrt54WzW25ZNdL6erPa8s7E+yrXjokKHxMVDgC+bObmhbO/v3jticGpg0OCTGbzkj924Te4Cp/BVoTHubK2QFRiIE7HvapUmDLEhjZRcQ4ux90nwIPv3aEgn9gUvOWQinNqbDvuuE94V8XJAACfwnVr/95UPO442lVeO7RQWtQabT/ZlimO4kxaJSJUIkozmjUAINUX26ym5HJQQqBBlwYAmMm2kSgxEiUl0LhfWN6a9Gntt+8c5LKP2Jx3AcBslmKYnEBwRrn1geROaW3rjY+OTaU7VeTbUfgsGxlNclWbJRct3HPcV80YlllWGxvkHebj0SesawrTdE9EOpUXtWfHJ7gKBEFe/XzRK0s2FeH7OW/Npo8O+Yd49hvW3iLgA0+xMvuG6JTe3PTHuSzsjbZaGs1msVrjzbROmK6Ry88Ul6r0+uGhIUm+PUxtNzLemdsLzkhrlzM+JvKbC1f3382T67TLB6XiPErSqBDVO7Pcb9MldZqoxMALR3BNXralxliSa+NXrTXxzgpBNhOXgnfCvjinxqbCbFW7kfot6arMVAAIpLn3rzWcaT+xgUUd3Kzp3vnwKHGlcBgAatSXZfpSDjm8eRcG5hL5wVvCL/H35kVNrlPfAIA7oo08SgyF4PYQIAJ5oF69UyN5DiUEARAws0Sn+MakT9cpviZQRpLpiwnkVFR3USN5FgCIlLEk+oKW7d1hksGQQyIl6PU3yORBBkMeiRRnMOQBgMlURaGMQRCSTnueSp0IAGazRKX6FTCMRO5DpY4HQEymGoP+Dpk8ACXYDiV44MmtspHRPjoponNGp9l6PFC3oW/TzD3Hfe/VrIeGJnWmy16jlnybfypdVC7SKZu1+byp7FPjX8HZg1Sv3lh45qwgT6pX+9G4DwWnPhY+DEWa1oPWpO9AAD5Meeir3BOn6nLURl0Qg/91/4eDGU3rCe/f3b+vskmD7OO+86YF3Jd5trno/P6q20KtQm82Vqga+xxuShvfM2plJMsHTw8AYDCbthRfOFx9R6CR8ymMif5JK2PGUf8Nc2zQyj/LOXpNWAwAI7yj54cMxPnBuxAKjfTepsdemPeDc36JyWT++H/bv975XFB418SYdgdOCnY+FPgUjWBfv+haRdWTe/bPTYz/ePI9FcLL5RXP7z+s0usB4MuLV14aMfS5Id0i9RYnEU457pYyQO1IAbqJOB+vnxbMcvQonEosVqAENNSlVYHwl2FqKz+1KBtnZmpHJ/A4PIZvEE9QZT++qK3oHTxK8Ba6cMY9gunGoX2oPC7JflonhRhS1LCERR2Kok0TUiG89e6zyopQ1qQs8WadSWY0a45VPRbMHMsmhaAIQWmsq1NfVxnqSCg90ePxu2Jc4eAxnIUWx12iKzhUMd+blkIleprMOr1ZoTE2RHHmR7BnuPwj0Lj3PVpQOWutGlBY9+v2cB14FHEClXILk7VSKlnj7XNBrdrG4X4qET/LYDyKolwEQQEARbly+Ud8ym4M02BmBYryEYQBACZTlVz2CZ2xWCpdw/XYgKI9UvCgg1Q3Wst/ebIZ7Yu6uBAKiUhAUZP5vkBrtT2ZxHuO++2SmoeGWsd3ug+d2fjsjW1ElPBhykMcMu1wdeb2smurYycsCsXrgqiN+mVXt9Rr5UvChgTQPbIkVd/mnSqS13/cd15zmwat/H83t7NI1FWx441m8/XGYl/avTjOV+KnPB4+/EZj6cfZNpSnJvgl9OOFAMBbd/ZwSLRXE5rEbgPoHjh7wABbk77jRmPJ4tDB4SzvEkXD9rJrebLanwcvQxFEZzY+ee03gUb6WMRwfxr3irDozQwHFuK7EL43e+2mx19evEmrcaYqlkquee+Zrd/set5Vsnc9Dg+yly8Vl6NzurjEZDabWmiwqPWGV46cUOn1NBKRQSY3qtRfXbo6LDSkj18XlIF0Dm9/DxaH7oS6aOHd6s533J3DufWBwDBPMsWVqiORiYE4NXxser2SRqVYqGi9vTUdn3EHgLiUYDyOe2l+ndlktkpzxzCspl1Ry2ZYHLpvUJddRbHsUBJKNJjdUopkIA9XLh2KMH3YK9xhAB7IKGuE7/qLdS/rzQozpi9X3CerRSd6D/ddxyFHZom3WHJY28efMSyR90S2+BcA0JsV1apLLfcazO4t3NZNQBCKXn+LSpuu1ZxsiqcneDKYTzQ3IJFTACEDAIHgTyCGEwh+FMpQANBqTpkxuVZzzGwWGwzZlo3/Neol1re4To4VZ1DJcvV9sTFqnR3PqmWMO7dKKA3qrPzUPGltpUr0df+Hh3pFAkA8x/9kbVa+rI5BtFaGaottpZdLlcJfhz6RygsFgNlB/QLoHt/mn5oRmDLEqylYM1NStTxy5AuxTbOVC0Pvm9JmECkMJqVRZ/uXKYzpFcb0AgAqgcQiUfvzbWSWtN/DWUHehfr8L1MXjfdrWpT0prI+yzl6oT5/jG/c4eo7FarGtX3mzA7qBwBzglNfu/3P8VpcustdTkS8/2tfLfrg+T+c0PUDgLpK0Uer/vz4tyda12r9L2A0G34v/8KXGoQAAgATfBe01TKzTgAAE6PvLdvtvJslVKn8WKzdjyzyYTJfPHT0UF7Bjjt3e5DjDgBJA8OcyJTIuV0+cmqyO+xxObnpFU4cFdvHxYGnNDo5MMyrqsR+8LewTqbTGCi0+9ZtcQa40xiUMFcsFMSmBJ87dMduM53GUFUqDLk/i1dUL8c5jxCVhHcVwh2QUVIKN+am2Mk0ofYZ5Y0rlMuH/Yw7RsePNy1lWvCOAtnOWtVVpbHGjBnJKJtNDvKnD4/izCWhdADgkMOl+mI8vSXznvajDyqS7WvU3tUYhRhgJJRJJ3pyyZFe1M6bi+xCCMRQvS6NyVohl33EZD4LAEgrhc1mEEDh3wAHBGXQaLPo9PmdZGi3pPX0NofRqSrhaKtEeQJiJ434nuOeUyE4kV5AJRMtzsT2Vxe73L6WKIxaACCjTQYggBBRx3y4s4K8cKaXxWu3sCB04Lf5p07WZTc77gDwaHiXPUSeqsuhEchjfe/Jhgz2igSAm6KyMb5xNxpLUQSZ4n/vzjLRP7GnOO4AMHhs/BOvTN3y2RHnDs9KK/3+3X0vfjzPftMHjv680ThbNihVABDteS/pamdmNgCsHDrIh8kEgOUDUg/lFaTX4ApE7j4MGBnjhON+80LBirfdYY6L0ah0OenlThyYOiLa1bZAdGIgHscdw7C6arGVpg1Oxz0uJdglIi1xuMswFefWWDnuDsTJdF2Au4XxPgPd4bhHMoPi2O3plsi159vaxaaOxj+QL33g4sgbdptND/6nnb00omcK//kU/vNtNZga/Bd+k7yofbyouGosuMT47gaZlKLXpxOJEQZDJols/axiMtWqVNuMhmK5/FMGYxmJnCKXfaDX32Kz36TRZkkl/zPo72CYmsP9DEEc0CZ+YNAZrZe/uIxOrdqobRXRTiXbWXe9t/v7Z2e73KB2SOWF8iiMTYXnPMgMDpl+pPqOQCNbEz8Zfw/VanEq7777FJNI5ZBoVap7i60MIsWD3GWVUCtVIo1J3/fIe1bbZQYNANRrZB5kRktZXx9qD4swm7t8RHWZ8Pg/ac4dfnLPreAI77lPjHStVd2f66KTza8RQOPYbc6TidVqAPBjN8Wt5tY3FItEdDJpZnzT02AEjwcAdQpc8Qzdh/4jnREkrasU1ZQ3BjhVrqEzuX2lyIlSZQiK9B1qQ9elg0QlBpw5YKc6r4W6SpGV416Sh+uBsINCkM2ExfqRqSS91n4Z7OKc2nGz+rXcUlOOK04G7g9w1xorqcTOltcY4tnHl8oXaJ2R+W+HZWF2lHZrpZ8DAACCAKrS36UQQxEE0RnK2bQxDjnuvXQOGGBIG3KZVpApg3mUwQDg45th2cLnb2/eSyD4s9lvsNlv/PvWh8dveihCEKoHbxOGaRCE8p8ViyQTCVr9fb67zuCWSDabqHUGq9EBgEmzE3ji3ipu7UAnkn8a9PiT13595MpmEkoIYXh+lDJ3op+jcvfWcRpW70kOzuK7FgzDPMiMt5Ksk2P8aVzLC6s/Spx/pd2Kle/PFlSJ71zDtabZml++OBYY5jVo7H9Ly/yhwKcBAMMwoa62UNGe6AeZSDDqzQaTiYiiALA/Nx8AJkVF0UhNf7l0MgkAdE5VtO1CPH05oVE+5UV4C9Q3k3Y+f87jw91hkgu5dbHAiaOikwJZHNdnfUThTsRsXTEKp+PekdJLLSESCVEJAXgWK1rnp1bjC3AHgOikJt1JvUlYI98awXvXERtdAAFBHw+b+Wneby7sc6zPgBQPOw/Dsb5Nq6MV4lcDPd5jUFIBQK3PalQ6MLfdS6fxbcHq1dHfoIjrfRgEId3/tlMnmLsbdArZynWWtpJ1dx81IuvUWADw9bCTYt6Vz1jHa7N4FOb5ia/fmPLuPyOfmxGY4tDhQXR+tfq++lIKg1Zu0AQxukv6WiCDJzdoRvnETPBLaPkvgRsAAN40tliv1rfIUhJobXyF3RwCAX37uyVOlyHEzNhna/4uK6hzrVXdHA6JzyHxuWTPKFayzNBeNl4QhwMARY1iANAYjHuzcwBgblJ8cwOLtgyZ0PNSBfo7VQXs/OE7rjbExRj0xisnnQmESB3u+jgZAIiM82+nXHFLrCpGqZW6+mo7BfwAAEER/CEudonF11VZgcBqS20FLsfdw5PF92EDgEqfVyJeK9VcKWx8tVF9AgAraHw5X7j6rmCJ2tBUByqn/qlK6XcFjS8LFDtbv62R/9agPAAAGGbMrGszTcUmI7z6DvXEFdqBh3BmwPORC/G3V2gvW7x2AKCTk+TaS+2376XzkRvEQp2Tmsu9OIQn23q6RKRwWDjBafKrbMQxBvDtBF90peN+o7HUl8axG4bfFpP8E8uUwluisuYt/1SkAcA43/i2D+pUJvolmjDzjnLriDqL9uUgfrgZMx+ruRfUfrrOLRlL7obBpn2w+XGnJWI0av37z26TNOIqq/5gcErwj+XfodqtWlN7ugdDgoMA4POLl65XVr127IRUo43x8hwcfK9UTalYAgCejJ6nzzN8kjN5Y4VZ1eWF1k5bt+La6VwnBHMAYOBotxTkIlNJwRG4FJqtZtzLCuowzH7qeVi0L42BV1HALjjTc1VyjbDuvmkOnKEy0clN6w8Mclwg+0kudUi053pP+iQAJMbzi1iv7wLYj4nUJyxttMZKL8asGM8vfFkLW7/1YT4kUp8EAKn2Op8+EfdHbOKlmKUukYYMY/h/lPQ8leBAdDIBYUrUhy2vJerD6H97wtXdYICdqPvjs7wn38ta+Hne06cETUEsVerCrWUffJTz6AfZSzaXvFWnafJkjJhhQ9HLXxU8BwDvZS98J2veO1nzzD2kLntPJMiTa7WloFrYadEyaYU2hIOjA+zMhHZZqAwAzAvu//7d/UOPfwQAKIJ4UVgT/ZNeiJ1giW/Rm42NWqXSqC1XNgJAqaLBi8JiEql8KpOCEgFgadiQk3XZq2/+tSRsSCCdd1datafi1kS/xOHeuCaujJhJqFUqjdpiRQMAVKhEBXIBk0jhU5hUAsnu4Xh6GO8XP8Ev4avcE0Xy+n68EDNgVSrxWUHez0OW+VDZMwJTtpVeXpd9qEYj8adxb4rKsqU99QnbL5j/zoZH3nh8i9HgTMxGQ630g+d//+z3p12rhddtCaQ3qcSQUUqIX3sTz4+l9t2RmXWtoupaRdOf95qRw1o2uFlVDQCR/G5R6tghYpKDQqN9nfDCT+y6+cxbrtdmdhXHdzmT8hEU4R2TjLd0qKNEJwXiOc91Vfc57qX5uNbBXBXg/m9veCfvywrqvPyatH3NJjOexQFoOzPVaFaUiN8nohy9sYFGaioJhCJUGunep7N6S0Q5BJRtMEnEmrNBnOdwmt0MjUD5OHnlBzk/58hKHD22mSH85DWxj9AIjj04BfM+KROtrBCtAQAi6hHq+YPTBvRilzuSi9myq0+Ef8AkcoS6mua6e3QCK5k7fE7gc0SEdLzu933VG5+L+hwAiAjp+agvqtSFm4pfX5u40x2hMr20JNLf80zmfbG+BpPpTmntoBi3Z7/oDMYL2aWttyeH2inD12V+0r7K9C9yjz8dNTqS5Y0iqN5sLFUIfy25xCRSno0eAwBnBXmv3b6X2f1FbpPa6wd9HpoV1BcAKATSL0OWbyg4u7cyXapX+9M5K2PHLYsYgdOAW6LyZ65vbX77U+G5nwrPAcBLcZMei8AVRGu3BwSQ9f0W7ii/vr/q9onaLCJK8KNxR/vGckg0i/0/D16+PufoH6VXEEBG+sRsG/rUtHNf4bS/u5HYP+x/H8394jUnk/Hz71R+89buV79Y5FqruiftZKNaEcTlbJg9460TpwQKJZdKXTNy2NiI8JYNjhcWA8CIMFc6T53GpPkDflpnowBC+5zef/uRFybSmS6b5XUIlVFytPbb+cHv29xbVSq8c80ZP2ySrVKgriIqMeDknlt2mzXUSFvqo5fiC3BPSHXltcf3Znv5caxm021SXihoXqNoqJXizAZumZmKICQT1hTMKtacpRFDgrmr6xR/6YzNqRetspDux5c1r1F9FMNMZIIzCdNMIv2T5FV/Vx7fXXXaUWV3FomxPGzmRN8hTozLoKQm+F/WG6sBgEwMQLp0/u6Bx2C2COhRqQRGEP3erCKf4senNPlnA/gTtpS8gz8btRcX0i/Chj7skZv5neC4H7mZb6XgDgAMCjk+2E595a75izVipk9zjiwKHfR8zLiW2683ltwWl1teT/ZPmuxvZzGdSaS+ljD1tX9LI1nxZWp7XuBgz4jM6R/isfbA6Bec7gFFkMVhQxaH2b69+tI4X/V/uOWWa5PfwWNS92Tc7H7VZcIdm845d/i5Q3cCw70WPzfOftP/EqPCQy+teEqm0XJoVKubuhnDlg/ot7x/vx7quI+d2ffXz48ZWuXUt49Srtn/++XueZ389cNpPOElVhAI6Nj7NVJcSxQ+AUSj0SQUyHwCmgrMdcmMOwDE9gkW1tlXxW2ZGFNbgVehpeWpoJOi9Kb6POFKH8ZDHEr/OvlfWmMdipCJKKedHlrCpqTWyH71Zj6Es31rCAi6NGTqRJ/B+2rOnalPUxntZ8V5kNnT/IbPDBjFIDof4oIAgULskTeNHkeKx6gCxe0v81fEcwYN85wZSG9SjlIZZecadpco7+pMGgzMJsyEYWakd36900kJ96eRSZr7NRmP3Mx7ZsqgAD7eW4ETaPSGn45da719ZGIY2V59m65x3PUmk85ktKq1pDBoq1SilhLsvfQ4Hv3fxJryxkvHnVSj//O700Hh3iMm/yeqZuAHAeDSbJSEQBFkcnRU59vjKthc+pDx8ReP3nX0wL2/XZ71yDAGy4EyGScFP6qNMiOmG+K5MIAWc6jmSxNmUJlkk32f51OCrot2M4m8RM5YI6b/q/y1x8K+Pt+wVaoXGDDtaO9lXpQQADha+63erKYR2kwbqixuuHjM4c8CAANGxXp4Mp04ECfhsX5EEgFPGFtdpcjiuGNmDI/mD8+L5fJatnF9Q/DcQFrmp9ZW4gpw9/b34PDuqQOjCDnRZ2vz2z5+1quFff33t/MWADDMZMSUPNpoPKO3ZxiV90zE3CfCZ2fLSrJlxaXKaoFGJNbLtGa90WwioyQOmelP9YxihfT1iEniRKLOJoa5HDOmB0BQxHZwaft79SYpghBJ6H1XvgnToggZeYCkCcko9ZHQN2o0JTcaj20ueWOcz6JR3nMB4K+Kz6gofVnYe2wSr1Kd/1Pxm11t6X8UCok4LiXycFpey40ms/mz3ee/fXoW4rYlkM/3nK+X2kjtmzrAvshe1zjudCJ5qFfk1pLLZJQYzfbVm40Vysa9Velak2Fp19VL6qXjIAjy8mcLGmqlBXdtpFzYBcOwL177xyfAIxq3hl0vPZq5y0c64bir5Jodm84+8YrtpTZbYBWqu0tCPqETuZb3MwJeBoBCxdUCxZWhlEWJnDFHa79N5IwtVqRFsQZVq/P0Zs3swNfF+tqz9VvmBb1brc4FgNmBb1So7qaJ9toc49cvjzlXSHja4sFOHIUfEpkYGu2Lp5qSoEoMQwAAqssb8eipu0oIsiU481OrS4VGg4lIIkArPZy2iHZpzdQG1YF65V4/1mKcs6QKQw2L1J4BRISQwo1O4Ua31T5N+EMYvW+z157euFmiL/Mgh6V6Pm3ZG8uZzSa3d+fUGMWX6z+dELAej8F4qFEeI6J0P8aEtvaiCCWAabs8S43qWJ3y5FD/+2QxCyWbApiT2WS3JGp3IQG0iIeCVkayUvZWbxjlPdeIGSpVBcvC32OTeADQqLMOS7OEtpvBjELvHLzbmTMk0cpxB4CL2aUbjlxdOd0tHum2M7f2Xs1uvT3E22N4fHtl1Cx02XPt+tQF80MG7Km8+b9b219J37mzIi2RG/jXiGeTuL0eW8+GTCW99+OjzXljjqLXGtau2NYo6HnKmL04QXRSoHMq/nt/u1yUXY27OTLFb9XRum8P13ypNSl1ZtWhmi9OCTZly84ZzHoAYBL5GGAqoyRXfiGBM1akr6pW5+yv/vRiw++elGAAkBoEPEoAAPDI/jYHuHAk88ZZ61s/HqKTAvu7oWCqFVGJuHzW+lqp5QVOhdb4fqHOWtQmkQn+Fne8fUwmc+W/FWFbK9DbpFnB3SV4M2Yl+WzzpE/C01hjFOdIduHv3Gb7gV4rW/rlNeob4/0/sXjtrfd2GkazSqA6ozU1Va7VGOvqVKd1pqY1EBOmFqjOKA3lrXeFsR9GkXur7gp9Sb36AgYulk85dDUn9amvU5/6esF7v7u2Z5zkyW+WqXLURrnKKKtUF/DIPgBAREhMIqdUmWXCjDWakgsN1nMBPLIPASFkSa/ozVqZwbFaXRlFNdNe2zJq9cZd59srEoKfLj+H7iY1MjA10sYdcsuJG1/uu2gyu/KaNJuxbw5c+nq/bQ3Wx8f3xzPH32WOO5NIfTFu0qExL6ZNeffm1PeOjn1pXcrcKJadkPxeegQenqy1Pz1OoztZP1ksVLy/YptWo3etVb10Tx5dPQFxfD3SbDJ/9fou/CpGgfT4eUHv+dNj70iPFyvSPMh+E3yfDWWkNDdI4IzJkp42mLUckjefHORDjZgd+PrswNdHez8OABySt0RfCwBSgw15FrlE9eNHBx39CBaWrrI9W+la2lJTsaKhpkmbBafaT7yrA9wBgEQmRsTbfjqyouLfYB7cjnvXzAqJdcXXhF/XqG9eEqwrV14AgPTGn87VvXeq5lWJrklT4nrD1+fq3jtd81qDNqd1ewDIluzYXb7I0l6qL7/a8KXCILgkWFckP2a114LVEJfrPz1X926G2JVVnywI1OcIKD2j4Q0TplMba/PE35BQ9h3hewazEgBqlSeJKPNu44cKfbHVrpYoDWX5ku9QhCRUX3G5hV2L2ijfV7Vxff7TXxU8L9RWLwpeY9k+N2h1luzq2uzF+6t/fCjweeL9AUU0AnNmwDOnBH99nLvs97KPHBrxr1O3BWKFUqP76aCNEOpebPLCzBE2f4X+OJv+5He7c6scrhVok9zK+ke++nvradtSAbGB3rMGJ+DppzedvBe3EBbj9/rXi99fsc254IGS3NrPX9n59vdLnXDpeulZhMf5D52QcOWkjXXD9ikvqt+07uDK9+fYbakxyQ/VfElGaXqzZpzPk0SUcltyWG4QEhAyldAUYhvDGrq55JnhXksAIJAeV6a6va/6YwCIYA5I5k4IoifelZ7aX/0Jh+yL3B9hbDaZ17+8UyZuT4+/LWKSgwY4VYjKUXDmpzbUSS0vyltVOGoNmUqKSMDlYTtKXJ/ggkz7sXZVpU0z7gI8haIQJDLBlaEy+OFRIhM9FpXITwzxfgkAGjRZBrN6jN9aub46rXHDeP9PALA69e0pQd9RCU2ZwS3bN2+R6JoEi7jk0KHeaxq1uSN832q9t/UQSR6LAZAxfh/UqW9nS3a49tP5MSZ40YaItbfl+gKpNttgVtSpTutNErkuDwACmFM8aYOEmms1yqMtd/FpA1p2ItRcD2LO9KIN9aQ9aNWgUnnjUnk2MumjWCkvxWxofrs2aadVg/688f15450Ysfk3k9gDC/N1Fclhfg+P7Lv9QkbrXRklNYvXbx8eH7pgRJ+B0cFUssNus95oupxTtudq1pXc8rbaEFD0rYXjUHwOT7d23I1Gs1qtU2v0RoPJaDSbzGaj0Ww2mx2XbeiOxMe55Tev+zBwdOzTb0x3Qu/PwtVTOVu/OrFsje34yF4eJB5ZPeHamVyzyeEVySN/3wgK95716LD2m9EI7AXBa+8bMfRLqzYklPp81LbmtyO8llg1mOb/os3ON607lH65EK/F97N0lTM/zE4QGuNLphD1OjsCPg01UssLPJmp0UmBRHvqB84RmxIMv9ufea0qEQKApFGBZ3XOP4TvUDaz+5DqKwWau+fq3gMALtmyZIEM9Xn1suBTMoE1yOsFCsFOwXNHh1AaajnkIABwRyyNyawGAKNZTUBoRJQewJgSyGoqs6BWHGgOhiEg1Ja7rCAgVCNm6cdaHa8XR1k6ITWnvF6rN/xv/siutqUnsXrm8IzSmjxbpUwB4HJu+eXccjKR0D8qMDbQO9jbo3XlJgDAMNDoDSqtvkGmrBXJi2sbsyoEt4trrFRrWvP89KFJob44Te16x10qVVdUNlZViQX1MpFI2ShSiERKmUyjVut09n5mejRnT73e1Sa4ndmPDqsubTjyt3XtWJz8s/l8cIT3uNluVMrrpTsQEuUzd9mIXVsuOHHs5k+P8H04wyclutwqPOz55eKhv5xcjx4wKqb/yM6YbgcAAgENi/GzmzIuqpeZTWaD3iSotp/u6Y44GQs4yzBZZtzrqnBmpnZl9hQBITW7pFxyMJ8SPcL3jZYNfGhJPgGf5Uv3FcoPJXksbtneCayGqNdkCjSZAKA04EpdcAiR9rbSUK41NbLJUQxS8J2GtyW6LBOmTfZ8u2Uzb/rwYulvzbu0JmGlfI/SUJ4v/i6c84gfY9zthtfkukK1EX/iSi+26RPpf/SzJ7vaip4HlUz89ulZS7/8u8GW2IsFvdF0Na/ial5FWw22X8iwOW3fPpP6xSwbP8B+u3/pAsddqdTm5Nbk5Nbk5tYWFQkUyt4n7AeZFe/MqqsS375c5Nzh37y9xy+Y7w7xil66FUtXT7h6KqemApeuX0vMJvMnL25f/cGcSfMcuPG5hD++PbV94xnnjqXRyXiCfFxIVGKgXcfdZDKLGhRSkQJPhJv7/iq9/T14XiyxUNF+s5ryRrPJLOgJjjuXHKY2Cs/WvRPFnhLEGFqjvnm27h0ACGIMjmJP05pkFwUfkVC6wawe5LWydXudSZYh+q1em2UQawPoA2I4M1t23nqvNy3JaohC2ZFzde+ySH6IS6Ukg1izglizzJgeRcgAQEAoqT6fN0s6BrFmWZrF8f4HAC130YkBsbzVsbzVzV0N8v3RjBna0o7spZdOwJvL/GX1/Ke+3y2Q2Ln5uJBh8aHrHp3sUFBw5znu9fWyS5cLr14rysquNjm+Jt5LD4VAQN/8ZslLizZWFttegWofo8H0wfO/f7PreZfLRffSrSBTiP9bN/fVRzY7UcDIbDJ/89YeUb384RVjEbQzkiL0OuOPHx08/k+a0z08/tJkb3+u6yyyD05hmYZaCc56Ri4vvdSSmD7B107ntN/GaDDVVYvxLA4A7ih/N0FASJMCv25+25e/vOVeKoEzMeDzdtpTCJzB3v+z6nNm8C/t7LUaYoSvG2XCLV57MwSkzZCkdnYBQK/X3kuXE+TF3friwhd/PthWzIxrmdo/du3SiUSCY4/TbnfcMQy7dr344KGMm7fKnPhJ7uUBgMGirv3p8f/N3+BcAp9MrHr/2W1f7Xiuq6rcdxCpQvPUu9tnjkk6fCHHYDA+vWD45OFxAPDX4Vtqja66XpaRV4WZsT8/f4zDpB06l/XnoZtanZFEIjwxd8iUEfEAcOV26W/7rm/5cLGlwy9+PcNl056c96BVPEgcEDZ10UCnA6v++O5UxrXiV9Yv8Pb3cK1hVpQV1K1fswNPFHhbxKYEz1jiTLH6jhCdjEsMsaFWUlFkPzM1KNyLzaV32Kg2ietr33EHgKqSBjwz7igBxalU00svvfzH8fVgbX1x4fo95/dccbKUJB6IBHTF1CHLJwx0QoDDvY779RslP285X1YudOsovXR/fAN572549PXHfna0vr2FiqL6T17cvnbTY6iDD6bdhGqB1INN3/nlsrJq0ZPvbu8bG+DjyQaAvacyv3tr3tqVU6UKDYdJA4C+cUEjB0RymLTyGvFT7263OO5D+4Z/99eF/LL62DAfg8F05nrB1o+XdvFHcg9PvTY9705VaZ51ORKcZN8se27mtw+vGDtj6VAyxfU3N5VCu3vLhT2/XnLuMrbAYFFf/mxB56wMtCQ43ItKI9vN42yolZbh0IJ063Q7AMThK8NUVSrEIykTHOFNpdlQp5UptZfull7PrSisEjZIlSqtnkomeTBp4f78oYmhUwbFsui2JwsKqoSLP/gTAJ6bPfSJaYMAIL2g+tDV3MziGqFMZTZjPDY9PsRn8qDY0X0j2leKaJAqj17LS8urLKsTy1Rao8lMo5C8PZghPh59owKGJ4WF+N57EDWbseErf9AZjAGenIOf3DenbjKbR67aoNUbAWDKoNiPnpzScm9Oef2j67YDwMPj+r68aHTLXRgGF+6UnM0oultSJ5KrTSYzj01PCPUZ0y9q4oDo9o0/ej3vnV+OA8D3L8wZmhgKABKF5tDVnDPpRXVihVyl9WDS/PjsAbFBEwfGRPjz2+qnIzYAQGGVcO/FrLS8ygapEkURXw/W8OSwuaOSAzw5JGJnhBU49CW2xunr0EJWad3jn9gQCxqeHPbtqtk4P0KXn8NuBYVEfGfR+Cmpset2nimrx7Wm5xBxQd7vLZ4QG+jt3OHu+j7EYtX6L46k3Sy137SX/wbx/UJe/Hju+petRa9wcutiwc+fHnnmLduiBN2fCUNjASAskB8d4p1VVGdx3FMTgqNCvAGAy6JZmlXUircfuWXGMARAqdaZTGYCAUUQWDSl356Td956ZtKFW8VxEb6Ww3sWf5TvHu870o/a3q2KQiO9t/GR1XN/cG5xBgBUCu2W9Uf3bbv88Ipx42b3temuOYFSrjm2M+2fzeeVck1H+kEQ5JXPFwaEerrEKodACWh4nF/u7TbTqiwc/OOqUmE/7yghNdQ1ZrVBVGIggYDaDarc99tlFY4sqdYB7nK19osd50/eLDQY7ysFoNbq1Vp9TaPs0t3SzYeurXtyyqD49h5RyurERpP54z9PH7h83/pAnUheJ5KfuV00KC54/YrpTJptx+vPk+kb9l/VG+57DlRqdEqNrrRWdC6j+Kt/Ljw9Y/AzM5vWZ1AUiQ32ziyprWmUqTR6RovLO6+iQfvv8+TdUusk1MJ/1/0Twu5TrigXiN/ecjyv4r7lI4vxp9OLfjuatn7F9BAf+0tYlny+i5ml7/56XKHWtdzeIFVmltT68FhtOe4dtOHHA1d/PZpmbpGVUaIRldSK/jmX+driMV4cpl3jO4ijX2JLXHUddpAuP4fdk/5RgXvefPTorfxfTqWVCVzjvod6ezwzZfDk1NiOKF27xXFPTy9f98lBqUztjs576bmMmdG3uqxx+wYn8/n2/34lKMJ76qJBrrWqc2h2QTAMa/6Lpd/vVkoVmje/OfT7p4+E+PMkcvXUZ35s3jV1ZMK2/TcUKu3h89lzxid3ltWu5JHQeXiaeft7vPXtkjce39KRTBhRvfyH9/f9sv7IiCnJ42f3i08NJTi1VmPQGzNvlJ7ae+va6dyOzLI388jqCYPGOFMp1iVEJwbaddztpoRacPeMO4VGCov1K86pab+ZpBGXta0ddyaVcqe4ttlb8uQwwv35LBpFqdXnV9bLlFoAkCg0L204+M/7jwZ4tVkHurRO/PmO8xavnU2nxoZ4M2lkkVydW15v6fxGXuV7v5348rmZrY/ddT7z610XLa/pVHJ0oBePTTNjmFiuLqkVqf5dGxl8v8cWH+qTWVILAEU1wpQW5R7vFN07VzVCmVih5rHuxTLlVwqbD2/emFNev/LrvXJ105NPmB8vyJuLAFJRLykXiAGguKbx8U92bHl1QTuT5RaEEuWVrLI1Gw9anD8ei+7Bpik1eqFUadkyLMl2IfcO2rBh35VfjzalmhBQNCHMh89mKDS6vIp6lUa/duvJh8e5V5TMuS+xGZdch9FBXr+/+bBUqZEqtTKV5mJm6c18+2UQmunyc9idQVFk+sC46QPjMkpqDqXlXcgqESmc8WyZNMqI+NDZQxIHRgd3vDiN6x33Cxfz131y0GjsTT/txQZLV42vKW+8cMTJUswbPzjgH8JPGRLpWqs6gWOXc+dOSCmrFhVVChMj/Wy2UWv0CAJ8LgMA9p667xRRyMQpI+N3Hc8orW4c3i+iMyzuGL+V7ZAblDqzfk7AlChW2OHaU6frL62JeTaI7g8AtyVZF4TXiAixUSeeHzQjkXOfKmLSwPBn356xYe2BDtqgUetP7rl1cs8tKo0cnxqSPDA8LMbPP4TvG8gjkmwLkOt1RkGVuLaysSS39u6N0vzMSrva5/gZOiFh0YoxrurNCaJcpKzC5tIDw9y+aBDbJ9iu446T1pmpKIosnZC663zmrOEJY1IiW7pERpN5++nb3+25hGGg1Rt/P5n+xpKxbfVcUNlQUNlAJRNfWTRm5rAE9N8IKLFc/e6vx6/lVADA+YySnDKB1VS32YxtPnTd8nrZ1IFPzxhMbiGKb8aw/IqGC3dKCqqEfSLvi85v7qewqrGl455RXAMA4/pFnbldBAB3S+pGp9y7URRUNgAAi04J9m6auparta/+eMjiMSeE+b772ITIgHvfaX5lw1s/HysXiOUq7as/Hv773SVkUnvewp2S2r9O3wYMFozp8/D4fsHeXMt2vdF0Paciq7TOx8PGrG0HbcgpE2w9dtPyekBs0AdPTPbmNo1iNJl3nMn4ds+l7advt2N2B3H6S2zGJdchhURseXWpdQb8jnuXn8OeQt+IgL4RAdii8UW1/n9EKgABAABJREFUwvTimoLqhsLaxhqRTKayveJHIRF9uMxIf8/4IO+U8ICUcH9HM1DbwcWO++UrhR+uO2B2qlhmL/8FEAR56ZP59TWS/DuVThxuMpnXrf7rm13Pd0mwgdNQyES5UrvgxV+NJtMry8e3Feji782ZOyFlySvb6DTStFGJAT7clnvnTey7+JWts8f1cW7yuDPBAMuWF74b/yKH1FRKZrr/hEr1fZHrZgxbFb28Sl27t/qoleMOANMXD5FL1H98d8ol9mg1+tuXi5o1SREU8eAzaXQKhU6m0kiAgVaj12r0GpVOKlK5KYc+cUDYK58v7NpKwK5SVonrG9IJHyQ2JejwdhfUbCeSCGExNiqbzBudvGBMHxvtCeijk/pX1Ev2X8oGgBu5dtYoAGD9ihnDEkNbbuGx6etXzJj1xq9ihRoAzt8psXLchVKlWK4GADqF9PzsYVanE0WQ+FCflrPjzTRvLKy6L3nsbnEdAAxLCssuF9SLFVktHHczhhVVCwEgPsSneaBfj6YJxAoACPXlbVozj065T9ElNth740tz5727Ta3VlwvEB6/mzhvV3kLf9ZwKBIFPn542vn90y+1kImFkn/CRfcJtHtVBG7YcuWEpxxji4/HNqtktS1oSCejSiakYBt/svtiO2R3E6S+xJS68Dp2gy89hzwJBIDrAKzrAq3mL3mgSK9RqnV5nMJnMZjKRSCUT2TQKl0lznxmu9AAqKkWfrj/c67X30j5kCvG9jY/6BDgp/aGUa957emsHQ407GZ3euGzO4H++Xr73u6cskjIAsGR6/zefnmjVctXSUQc2PP33F8uWzhiw+5snWvroVApJpzfOHNM1lYYcAgHk6fAlP5X8saF4q8poe2HRMvVOJ9K0Zp3NBoufH7dkpVsKi2JmTCxU1FQ0lubV5t6uyM2oKM2vq60QSRqV7vLa+4d9+PMyVwXcO01gmKdLpJk6p65CXIprRgmL9iXZqlLefsrjtMHxlhcWz7IdhieHWXntFugU0th+TWuDRdXWBQqap9/UOkNNo7T9IVoS7O1hiZi3+OIWKgQSyxNCXIh3YqgvAFjCaZr3WsLf4/99eNDqjfsuZltePzdnqJXHbMHHgzltcNPNyuI7ts+s4YlWXnv7dNAGmVJ7Javc8nr51IE2C9EvGpfCpruxXK7TX2JLXHUdOkF3OIc9HTKR4OvBCvflxwV5J4b4Rgd4Bntx3eq1gwsdd7MZ+3DdAbXafunpXnrh8plrf3rcaR+ipqLxo5V//qeqAWAYbD9ya1ByqNU0fLclhhXxauxzUaywMw2XbTZAwP6U7dJV4xc/N87VpnU2if3DPugGXjsAIAgSEY9Lzb193FcztSX+IXy2B6Pj/UQnO7POEPDvspjBaNLfnzhoxeSBsW3tCv43pVLeaj2dz2E0B22v+mYf/tgGBIG4EG8AKK5pNP/7nGmJkyETCeH+fMvUfm55vfHfO6QlTgYAEv6d/c0sqVVqdABAIRFHJNueDgeA1JjA5h5U9vSIFoy2MW3cDh20IbuszmQ2AwCCwKgU29GDJCJhYDwueSLncPpLxA/+69AJusM57MUJXOa4HzycUVraGXr1vTwYhET5vPHNEqflHTNvlGxYu9+lFnVfTl3Nn/bsj9fvlK1Z1masbbdCYVR+mv/Dt4VbbkuyUj2SFUbVb2U7CxUlu6sPn6m37ce3xSMvTHj0hYldG2HSEfoMjvjg52U0etd77Rai8ZVhagcikdBpVUhj++DSnm8f5wKE7gtIbXcdxuJG24Ty7xSmTZdrzaLRllEqG6TPfrn74Q/+3HH2jkRhfy0xIdQXALR6Y1WD1LLlTlEtAEQFehIJaGKYLwDoDMbmWJr8fyVl4kObZtyz/5WdCfXjtQzLtsKL2/TgZMawOrG8HZNoFFJUkFc7DVrTQRuKa5rKhPny2O2oJYb5ubdyn9NfIk7wX4dO0E3OYS+O4poYd73euO33Sy7pqpf/Dv1HRD/z5vQfPzzo3OHHdqYFR3jPfmy4a61yOVwW7drfazrSw4ShsRY1yZ4Ci8h8PXZlyy3Lwha2fNvPI6mfRxIA8Mker8U+335vDz83NjjS+4tX/7GrQd7dmLl06NNvTu9WOQnRSR11hSPi/cnUTqpwGZcSnHY+v4OdtP+YUVYnvpZTXlzTWNUglSm1CrVOazAajCadAW9SsifHyWWBQXHBP74076M/TlUIJABQWCX8/O9zX+28MDQxdNbwhFEpbQrAx4c1TZwXVQktOol3imsAIDbEBwDiQrxRBDFj2N3SOkuAdUGlEAD4HEZzhmijrElutaCyIfWpr1uNYIO2kvAs8Fh0u2rrVnTQBpmqyTnms9srBObh5qAFp79EKzp+HTpBNzmHvTiKaxz3c+fzZLKeFHPcSzdh5tKhNWWNB/+86tzhmz89EhDqNWCUdWpjLw8YwyYm+ofw1674vb7GfrWd7gCJTFz5/uyJc/t3tSHWRHV4xr1zAtwtxKZ0dI2eQiOFRNrODkwvqP52z6WcMvvVptqHZis4Gyf9ogN2rX30RFrB32cycsvrAcBkNl+6W3rpbmmAF+e5WUMnD7LxxJ7w78R5UXXj+P7RYoXaMvWeHO4HAHQqOdyfX1zTeLe4dtHYFAAoqGoAgMTQe9mxSsefgY3thiYSiQ4/nXbQBo3OYHlBbff8d+TbwYlzX2IzrroOnaD7nMNeHMI1jvvho3dc0k9boChCpZKIRAKKIgQU7fyig724j2fenF5bKbp1scCJYzEz9smL27/a+VxolJ3M/V5cjgnToAgZgTbXuAHAYJYiQCCirI6PEhbj992elZ+/+o9zl0pn4hvIe/3rh2OSgwDgtri0H68pfjdbVrm9/OLHfayr3l4S5pYpGx4NG91Wh3MufbZvxGsusc0vmM9k0zqS292ZjntMchCCIlgHBA8iYv1txuPtv5y97vfTlhhxFEWSwv0Sw3wDPDkcBpVJo1DIRKVG9/LGQ86bjhsCik4dHDd1cFxxTeOhq7nHb+RbpqJrhLK3thy7dLf0wyemoPf/5PnyWDwWXaxQl9SKACC7tMnnS4lq0hxMjvArrmnMLhcAgFCqtMiBN8/TA0BzJqiPB7NPJK5nOU+2C/INWtJBG5q9SV27BRYsMdzuxokv0ULXXofd6hz2gh8XOO4KhTY318kS5S3x8+OGBPODg/g+PhxPTyafz2IxqWw2jU4nk9oQXe7lAQAloG98vXjNoo3lRfX2W7dCo9K9/8zWb3ev5PBc/LvSS/uUSzf4MKYxye2VE6pXHm5QH+/n+6dLRmF7MD78edmZ/bd/+viwolvWd0MJ6JzHhz+yagKF1vSLuLn45KaBz7Z/1Aiv+BFe8e63romoxICMq8VOHx7fL9R1ttiBxqCERPqUFzo/GWkzTqZOJP/sr7MWbyk1JvD9ZZP8+dYKrbWi9kK63UFkgOeL80eunjv8wp3SLUduWDJKj6cVRAV5PT55gFXj+DCfy3fLSutE8G/uKY9ND/TiWvYmR/jtvZhVI5TJlNqSf+OYE1rMuHv8GxoR4sv75Omp7v1gbdBBG5qlTsTtFsSRui7cHA8OfYldfh12z3PYi11c4Ljfzih3WkONz2MOGxY1aGBEQnwAm90bR/Ufhc6krN38+P/mb5A0Kp04vL5G8sFzv3/6+1M2Rd96cTkqQ7HGUIlB01+91lir0GdxKKlkgicAGM0KifY6EWVzKf0D2UsbNef+PQ6T6e5ojXVcSj8K0RcAlPpCANAaq/m0kQhCtOrHapRmxs3u12949MYP9l8+YV+irjOJSgh44aO5EfFNs56lyvptZefy5TUvZ2wFgPUpjwGARK96K/OvRp3ch8pdm7wIAWR31bWjNen9+RHPRU0BgGxZ5e+l5wkoKtYpfGke7yctbJbfKVEKvsw7+HbiPH9ah3LFohIDnXbcfQI8eF7Or584QWxKcEccd5s1p07eLLRkizJplK+fn8WwJfgjU3aNs0JA0bH9IkenRLz589FTtwoBYO+FLBuOe4jP5btl1Q0yg9FkyT1NaVHiJzm86XVuRX3Fv6XaE1oIiifdq+IkxDDoktzvDtoQEdAk51LXKFdp9Da/RABwVaV6h8D5JXb5ddidz2Ev7eCCrKn8gjonjgoL9Vr73pwd25/73+pJQwZH9nrt/3G8/T3e3fAomeKk552bUfHNW3tca1IvNlEbSkskX6EIWay5CABaY02J5EsiyslrfNNoVpgwTVbD8wBmrbHa6qfYjOlV+mIiSs8SrrJsyRH+T6q9bjQrAUGs+rEaxQoPT+Zb3y1d9+sTcX27hU6Zfwj/xY/nfbPr+WavHQDCmT7vJi7woDC/6Pv4F30ft+SoCbTS95MW/jRwhVAnL1M2AMC8oCELQoa17K1IWfdB0qKfBq5o0MosbUgIIUdWtanoxKcpSzvotUPHyjB15nS7hbiOhbnbnHGvbZQ1dR7i3Zazkl5Q3ZFxOwiKIk9OH2R5XSuSmVtNjVmmz01mc51YYck9bVlFNcTXg82gAkBeRX25QAIAgV5cyxYL/aIDLWESUqXmSlaZez9MG3TQhsQwP8vflBnDLt4ttdnGjGE381wv0YgTu19il1+H3f8cdg6f7jqXW+XMgn9X4QLHvbrasacxBEGWPz7y55+Wjxge0630Fiw8e2Z/yC/rLf/OVzt/R8sW1adu33CmsqT9ZrmihpBf1v+Zf8fpgR4YYlOC13y6wGnhv7MHM3ZsOme/XS8dQ6y56secw6MN96AOBoBG9VmjWS5UnTSYJQp9nkx7m08b6UWf5Meci9x/e0EQEoIQ5bpso1mBgQkASAR+IPtRX+ZMBAhW/ViNYpN+w6K+2vHcR78sj3GFaKBzBEd6v/rFwp+PrZk4tz8ebdNolj8JJQKAB5mhNtmuPNW6jdak/zhndxI3hE1qT/wBJ9FJzuenxvfr7CeljjjudCbFZonlZpXGZmETKxplqm0nbjk9Lh4M9jS5Feqmy4NFo7ZWJmkOWM+rqK8TyeH+GXcASAr3A4CSWlGVUAr3T7cDAI1Caq7W+dn2s22dBwsYZicz1Tk6aIMHizYkoSndYsvhGzbVV45cy22QOrOKi5MOfoldfh12h3PYHdhx8c7i9dvnf/LHH2fT248a6ia4wnF3ROcBQeCN16YvXTLUZqJGd+DzEVPOzn3ilf4jXdKbEevN6nCAkVOTl652vljm79+c7G7hEw8eBJRmMqsBwIRpAYCA0n0Y06L57/b32+VBHUhAaUaz7Qp/AuU+k1kRxl1JIfhY4l9QhNyiW+t+Wo7SDqnDo7/55/lPtz01Zkbf5shyd0OmEIdPSnr/x8c2HX5xzIy+bbnsCCA6k6HlTBsBx3Np6zYogv4+5IUsacUpQWZHzLbg7e/hdEJI58+4B4Z7MZxdj41KCLQ5EdAsZ15WJz50Ncdqb3pB9ROf/WMpZe8+dl+4u+zTHbvOZ9YIZa33ZpXWfbjtlOX10EQb2cA8Ft2XxwKAs7eLAYBCIsYE3ycnnxzhBwAlNY3VDTK4PzPVwrIpA4O9uQBQK5I//MGf+y5lNXuZFtRafXph9cb9V2e99WtehVvmIztow/JpAy1fb7lA/OIPB1v6l2YMO3Q155M/z7rD7GY6+CV2h+uwy89h96GotvHLfRcnvP3z/zYfPJtZ7I6HVVfhkuRUB2KwFi4YPH5cQscHdR8sMoVFpoRLrCtUO0oi3yd9sR2B6l5as/i5cTVljWcPZjhxLIZhX7y20zfQIzLBBeUhe7GJF31CjvAlpT5fY6gCAB/GtNzG1+W6uyZMG8N/n0PpW6v4J1/0NoaZgznLBMpDakNpqeTrIPZjNGJwuexHranehNm4Y1j1YzWKXfoMjugzOEKjmn3x2N3T+2/n3q4wu+G2SyCgSQPDx8xIGT4pCU/dXxRBxvkmP3HjBz+aR2sxGQAwYeaPsneVqxpURp1AI30ywvZTK4IgBAT9qM/il27/xiMzU3m2axziJyox0AlxHhqDEhbta7+dS0EQJDY5KP1yoRPHRrWxtjC2X2SAJ6emUQYA7/92ctf5u7HB3kwaWaLQ3C2pKxeIAeCxyf0vZ5U1Z3a6HAzD7pbU3S2pAwAPFi3Ul8dhUokoqlDryurEzf4Ti055bs4wmz0khPoKxIqLd0oAIDHcl3j/06NFGrK0VmzJEkkMs/7iWHTKN6tmr/h6T71YIZarP/r99Lo/TlsK8RhNZrlK2/4UuEvooA0pkQFLJ6b+cSIdAG7kVkx/7ZeEMB9PDkOlNeRX1suUWgKKvrRg1Ff/XHCT/R38El1yHYrl6lqRXKnWKTU6pUavUOuaC7hWCiRbj99k0ihMGoVJJTPpZA6DZlVNqcvPYXfDZDafzyo5n1XCZdKm9Y+dOSghJtCxymKdgAscd43GgLMll0N/dKnte1AvznEk/yOdWUEjcAEQAMDAjLS9imLEtASE3E4DADBhBgQARbpSt/WVzxe+8vlC++3cxoSHUic8lNqFBrgDV30oIsru47PFjBmaL5JEr29MmAZFKJZLK87zUzOmQxEyABLh8VKEx0uWZlwCL5nSB0GIzVdgis8vzd2iCLVlPyhCthoFDzQGZdK8AZPmDVAptNk3y+6mlWbeKCnNr+uIniCZSopNDkrsH5bQPzS+Xwi1jVDUtlgTO7P5dSInuNl9b37xXpL1pd66jUULkoKSNvR/2vFPYIMPf17mkn6c4+NzFxenJId6cHG2f/rLh4K5XAA4W1KaLahfPWxIBw0gEwlfr5y16tu99RIlAOSUCVqqaKMI8szMIU9OH6RQ69znuDOo9x78JAqNRFHTuk1EAP+Tp6YFeHJs9hAf5nPmdpEluzGllZxiYpgviiAWIT8URWKCbJR3DfH12P7Oko//OHM2owjDAMOgTiSva/WJOUxqO2U1O0gHbXhh7kgUQf44kW7GMJPZbPGhLTBo5HcfnTC6b+S3uy+5SdCwg1+iS67Dv07d3nr8ps1dlQ3S7/fcV6nam8s89vlTVs269hx2W6RKzV/nM/46nxET6DVrcMLU1FhutylE5QLHXafD67iPG5dA7aySe27CaDbvKc4+UJJXKGmU6DTeNMaEkKjX+o9kkO79nL966fjOwruW19+MmjYn8r4VBoFa+f610xdryhGAsUERS+JSnDcG0x2vXuNH7xvBGs8lhwBAmvDHQV5tTvNniLaGs8bxKVFW23Umud6sYpH8AKBEcZqAkCNY45y2qpf/Alb+NAGhAQBmxiw1FlDE9s98y9gYm1j6aWsU/DBY1EFj4waNjQMAjUpXXd5YW95YU9FYWy6qr5GoFFqNWqfT6DUqvU5nIJGJVBqZSiNT6SQKlezhyfQL5vsF8XyDeP7BfL8QPrHteuy9OMGbYxwIRBSqVFtvZbw7foxrbYgI4O98/9Hd5zMvZJaW1Yk1OgOTTvbmMgfGBc8clhAZ4An/iiq6dtxmZg1PiA/1OZ9RnFVaVy2UieRqrd6AYUCnknx5rNhgn9F9I0b2CW+n7mZLecc+9we4AwCdSo4I4BdVNwJAuB+/rRo6XCZt/YrpJTWiY2n56QVVNY1yuUqLADDplCAvbmyI96D44CEJoWR3/gl0xAYEgdVzR0wcELP3YlZaXqVQqkRR1I/PGpEcvmB0Hx8eCwACvTmWsqYup+NfYpdfh9DV57D7U1AtXL/7/Ff7Lo5MDJ81OGF4fCgB7eLkTMRpJcdmpkz/Eqfvvu7DeUMGR3ZwuM7haFnBirMHtk2aPzowzGrXzIN/BDLZqT4BXArtel3lP4VZj8b1/XDohOYGKoO+Xq28XFvxztVTVo67zmScvG9rjVL+dNKAIBbnfHVZRkNtnUqxbtjEpbEpDlmoNckqVVfLFOfiuLMD6QNRhFitSiOiFF9aHwBQGYUYmBu1BR7kUA45WKovlxtqBOrMCPYEPiVKaawXavN9qUk0Ik9nkuVI92Jg9qLGBTOGFMqPY5iJQmBbDnT+DPby3+OnH04/s9L5FIVeuj9P7dmf5OtbKZUOCAxY2Cfpi4tXqqQyjcHw8qjh0Z58ANifk3c4r4BCJIwKD1uQnNi6wS830/++c3fjnJnRnvzNN255MxmzE+J0RuPiv3fteeRhq/Z5DcIN124UNYr6+PmOi4wgEdBttzI8GfQaueKFYUOGhHRZUnIvvfTSks0lew/UnHdtnz/1fyuQ3hmlFVNWfY2/MZ9FnzYgbubghEg/vvtMah8XPDew2VT7jQAAICiwo0Jm3YGDMx/ZOHbWEwn950YmfD5iylD/kBMVRS0bMEjkcA4vmmvjS91bnFMqE380dMLLqSMWRif/OHbWAB8npdnMmBEBhIiQSf9OUlIIrHRRU+xBjfrW5frPySjjcsMXjdr8m40/oUCqVt8AAIVBcFO4iYKyLtZ/qjerjJhOb1a27KdUcc5yoMHs9hjHXnouZSUNZSUN1y4XGo1mALh1o2To8OjmvdVV4nOncgrz6wCgoV526Xy+WKQEAGGDvKFeduVCQVWlu4IQenEflVLZrPjYL6ZNXtgn6XZNrUqv/3bm1DfHjvrq0hUAkGg0f2Vkbp47a8PsGQuSE1s3AIAnBqT2C2iaHp6dEHsoLx8AzpWUjYsMb90+ztvryQGpQ0KC1k+dNCk6EgCYFPKX06d8MHHcjkw3zkH20ksvvdhEpFD/fjZ93se/L16/fefFTJnajnyCO3CB4+7rYzsCrzV0t8XJdSFxHl71aqUJ38LFldoKFEFmRtwrNjktLMa5celEvhc1jkHy9qP3RREiAHhR4wgtQgvCWeP86ane1Phy5cUo9pRAxkB/eioAVKqu6M3KcuUFrUkq0hYyiN4ccpAHJcKP3tcSKB/BHm85UGlscM62Xv4LfPTu3ju3K9QqnUUhisWmbdvSlMCkVGo3fH3Cg89oqJfV10m3/HiWxaJ++clhlVKXcavsm/VH6Qzyt+uPqlW29RB76bZQicSQf2PTS8SSW9U1Lxw8+vWlq5F8HgBUSmVRnvzmwIDWDazwZjIxDIQq1eG8glkJcXbbA0CUJx8A2BSK2qB3xwfspZde/mtMGxBHIzsclplbVf/JrrMT3tr8yq9HLueUmTuQSeUoLohxj4jwycrGVSMAfzR8d+Zuo+CPvIxMYZ1Qo1IbDDqTEQAwfJXfalUKHpVOJdw77b4Md5UhJPwbT0xAyEazBgCMZi0AkFBaOGtcFHtyc0sEUKyFbGXzgdDhMKqeiN5sqNM2CrUSmUEpN6hkBqXcoLS8Vpu0BrPRiBkNZqPBbDRiJoPZaMLMRJRARAhElEhCCESUSEQIJJRIJ1DZJAaTSGcRGU0vSHQPEsubyvOkeBCQblfBwFG4How58+/VAoyJ82+uXMtgULke9Fs3SmfPG3D5Qr5Kob10IV8uUxcXCQBg9Lj4vv3D0m+WNTTIQ8O6XcK+XeQGlUgvk+hlEr1CrJdJ9AqJXi7Ry7Vmvd5k0GMGvdmgNxv1JoPebAAAAoKiCEpAUCJCoBDIZJREQck0AoVJpDNJNCaRziYyPMhsyz9vigeX3KmlSR2ipbpiBM8jwcf70ykTm7cEctjFIjEGTbVeWzdozcz42L3ZuWqDIYDNttmeRCBo9PfkpdsJF+6lp1Mo/TNb/KMXre8Iv+//vYj+c+jNhiq1QKAV1WvF9VqRWC9XGFRyo0phUOvNBiNmNJpNzT86JJRIQclsEoNFYrCJDD6F40Pl+1I9/ah8P5pXZ/7K9OhftHWPTtboDafvFB1Oy7tZWNW6VFY76I2mUxmFpzIKPdmM6QPjZg1KCPN1e2iJCxz3pMTA/QfS8bSUyzV+ftyOj9iFnK8ufeLU3gS+z4rkQZFcPodC3ZB5fUfBXfw9IO2+dRqVsSFXul+qr7zVuDmeO7flLn96/wzxVpGuWG6oBYBw1riLgo+F2jyjWTvM52UCQvKixt0QbmjQ5gzwfMZF5vQYJHp5oaKyWlNfqxHWaoR1msZGndQioIYfg9loACO0UU+nNSiC8skcb6qHN4XvTfXwpXqGMPyC6b40Qk9akiKT27x7IAi89s6s8lLhR+/smTKj7+jxCROmJFt2nayTNvv3Dp7mLgADTKARVWkE1eqGKrWgSl1fpa5XGh1TVjZiJsCaCrUocBxLRkk+VJ4vlR9I9wmm+wbTfUMY/t3w2ugX4H+5vGLlgcMAMDo8bF5SAp9On5+U8OTufXQSeUhI0OKUZKsGUo32uyvXbtfUfnfl2ojQkIV9kiZFR07csm318CE2OwSAKE9+vVK58sDhhxLju/Tj9uJ2qlWnTZhWoL6mNyvIKLurzekkTJi5RFmVLSspVFSUqWprNUIzjvIvlh8djUkHoBLqbKSNklFSMN03nBkYzQpO4kS6O1jcUjOu50Ijk2YMjJ8xMF4oUx65mX84Lbe4tbZRuzTKVVtP39p6+lZSqO/MQQmTU2NYNHfdtF1wrgcOCCcSCUZ7JcQAoLRMGBPj1/ERu5At2beICPr3lIXNMjIaowPLCH501p2GWr3JRCY0JcjXqWxXq8EDlxwy2Gu15TWD6D3A8+kBnk1qcdHsKZYXAzyfBYDJAV+0VNYb67e2pTQknxI1OeBzmwc+eGhN+iJlZaGiolBeUaCosHnLczdmzCzUSYQ6SQ7cqzKNAOJN5YUy/EIZ/iF0v1CmfzDdF+kh007CBvmhvelVFY2//nRu9rwBer1xxx9XGQxKYDB/9PiEzz86mJ9Xq9MaXnhlaldbah+hTpIvL8+TlxUoykuU1QazjWqCbkVvNlieEG6Kcy1bEEACaF5RrOAoVnACJyKcEYB20fzW/kcXt3zbWplxfnLi/OTEthpwaVQrfRgaiXRpxZPtdEgmELYueKj57diIcADwZTF/njvbCft76c4EMsZLdUW+9KH/Ba+9QSu+Ic5OE+Xkyku0JtfHfenNhmJlVbGy6qTgGgBwyaxkTtRAfuJAXgKD6HpZQ2r3m1lwDi8O8/Hx/R8f37+gWngoLfd4ekGj3LFkv6xyQVa54Iu9F8YkR8wclDA4Ntjl64QucNwZDMqI4dHnzufZbZmdUz1lcnLHR+xCDGYzi0xp9tolOs3lmgr8hw/1Dz5cln+gNG9+VNNv29FyZwqLOIGVsh4Robaz98GjRtNwU5xzU5STLSsxYvYfMjsfDLB6raheK7ohair+yiDSYtmhceyweHZ4DCuUSnBMQdzdfPLVw82vvbzZy58ds/zZez7ZypcmG40mi/zr2x8+pNMayGQigiITpzYVOX9yxdhONrgtMMCKFJVZsuI8eVmBvFysl3e1RdZggFVrGqo1DecabgEAnUCN54SnesT158X703perFE3wR06GF3IzwPe6ekXQzR3aTTXRp2yBwmxXna2/ub5hvQylQ3Rd/ch1SsuCm9fFN4mIoQkbtRo79Thnn1d+JvSDZcEO0hMoFdM4KiXZo+8ll9xOC33XFaJVu/AJI7OYDyeXnA8vcCHy5w+MH7moPgQbw9X2eaa1Y15cwfgcdwvXy588YVJ3VkUWW8yNWiUCr2+RCYGgCJpow+dySKTvWgMCoEIACMDQq/XVb537fSYoIhapfzn7JteNIZIe2/522g2N6iVcoOuUNIIAGVySZ64gUmieNLoNCJpblTi5qybb185WaWQBjI51+oq7wrr2jKml46TIyu90njnpjinViPsalscRmXUpIvz0sV5AIAiaBjDP4ET0c8jrg83iox29wctIhElEu/NClO6XwEHqV6RLslLl+RlSPLlhp4koKQ2aW+Jc2+Jc38q2eNP8xrumTLSu18Yo7dacC+9dFMwwNJE2YdrL2VIChwNxXQtRsyUIcnPkORvKt49wqvfVL9hUSwX6D4zCN2lOJFrQVFkWHzosPhQlU5/5k7RoRt56cXVDgXB10uVv5xM++VkWp8w/1mDEyb1i2ZQO/q85AIddwtvv7vn6rUiu83WvDRl2pQ+LhnRHRwszVt17lDr7V+MnGqZIzeazetvXTxQkivSaoJYnCcT+0d7eM47vL1k2ctEFAWAy7UVS47tbN3DWwNHP500EABqVYq1189cqilHAMYFR7w3aNyIXZvfHDjaUR337snxk1mffXk0NMTzt81PdKEZYr38bH3aKcH1as0DKIxDRkmJnIj+vPhUXnwgzUZBxF7aAgMsX16eJspOl+SVKmu69hfUtQTSfSb5DhnnM5BDYna1LT2D3hn3XjoBvdlwou7awdoL3XbyKIkbNTdwXH9eXEciM2+Isj7I+dmFVkEn6rg7hECiOHor/3BaXqnAGUVjCok4rk/krMEJA6ODnY6gcZnjLqiXLX9yi1ZrJ+Cbz2du+/WpB1IXshfoBo77TXHusbrLt8S5Jhz5PQ8APlTeQF7iCK9+8ZywnhIQ3yUUKiovCW9fEmZ0SVZDp0FECEM9+8wNGhfJ7C1OZIf/oONuNKtL5XtrVOflhlKDWYkCiUrkc8gR3rSBQcwJVIKnVXszpq9RXahVXZDoctXGegyMJJTJIoX5M0ZFsOcR0fsmWa/Vv1atPE0n+k0NOYjYUppWG+uPVkzHwJzEXxXLfdyyUaC+eqluVctmNKL39JBjbX2EU1UPS/WFI/03+tAGVSqPl8n3yfTFBrOSQvDgU5KjuEs8qbZnBnUmaZHsr1rVJZWxxmi2kSPe3+udMPbstsZ1AiNmOlZ35Z/Kk90w+q41YYyAx8Nm9Oc5mQKeIyt9NfMbl1rUTR33ZnKr6o+k5R1LLxArHJMrsODrwZo5KH7GoPggT66jx7osEdjXh7N65YT1Xxxtv5lIpPzs86Nr35vjqnF76QUAMMBuiLK3VxwvUVZ1tS2dSr1WfKj24qHai14UjxFefUd49Yt2xbrnA0OZqvZiQ/pF4W2B9j9R78mImSyRrMncqCUhUxM5EV1tUS/dBZWh5kLdCpXhXmi1CUwqQ43KUFOruqjQl/fzeqNlewzMJ6rmKw33aT3rTFKdKaNRm1Em3z8m4BcKgdu8K5K9oFp5Wm2sE6iv+dGHtTagQnEYAzMCaAhzWvNGKoHvTRuoN8t0JqnOJDZjuMQe5PqySsWxcsW95XGNUVhtPFOjOtff+51Q1kyr9gpDxfmap7WmRgCgEb2pBJ7KUIuBGQBQhMQmhTFJQWxyOJ6hcXJZmPFL2YEGrdiFfbqVMlXNe9mbkrlRT4TPduKxn0Wiu8Oq7kx8kE98kM9Lc0Zezas4nJZ3PqtEZ3AgCF4gUWw+fmPz8Rv9IgJmDU6Y0DeaTsEbUOpKBZ/Jk5LzC+oOHspov9mlywXf/XBq1fMTegV5e+k4GGBXGzP/rjjRybk+3Q2hTrK3+uze6rO+VP5Ir37jfAf9l6No5AbV6fobJwTXqtX1XW1L13BXWnRX+m0/j7hlYTPDmb3h771ARuNnKkMNGWUn81/wpPUloyytSaIyVAvUV2vVF8LZD1m1RwD1Z4yuVp4JYk7woQ9mkUIQICgNVQXS3+vUlxSG8lzJ5r6erza396Klssnhcn1pqXx3G477EQDwpQ+hEe+tDHApMaP8f7S8viX8sEy+H89nyZNs0ZkkvvQhMdxH2eRwvUlRr7meLd5oNKtvCz/zp48iE+6rC3mj/m2tqZFBChjq8zmXEgMAGqPwev0bjdoMAkIdE/ALEXWZ31mlrt9UvOuOtJNkJ1zLXWnR/25/MT1gxKOh0+kEqv0D/oVNZLjPqu4MAUVHJISNSAhTafUnMwoPp+XdLql2KJDldknN7ZKaT3edG983ataghNTIQLu+sYulN1evnCiTaS5czG+/2f4D6TKZes2LU+j07iWU0UvPolRZ833RjkKFA8I+DzwCreifqlP/VJ1K4kZN8R06zCuFiHTfdHCXkyUrPlZ35WpjZufLOHZDbkvyMiT50/yHPxo63R0acL30IBo06QAQ67GsOSCEQuBxyBH+jFH94HWbNUUSeSuS+S+0jHuhEb08aSlnqh+V6PJqVRdaOu4AEMGen9H4WZ3qssZYTyPeF+Qg0t5VGCoAoPV0uBPoTJIAxpihvp9bzKYSPNnkMBLKutnwngnT1qjPh7FmNTeW6gokulwASOattnjtlg8ywPv9Y5WzDGZFteq0S6wyY+Y91Wf+LD/aPYXLcIIBdqjm4hVh5sqoBYP4STiPYpH+o457Mwwqec6QxDlDEuvE8iM3847cyi8TOLDeotEbDt3IPXQjN4DPOfL+8vYbu9hxR1Hk7TdnkkmEU2dy2m957nxefkHdCysnDhzoyvWpXv4jaEy6vyqOHqi5gKdWxX+TLGlRlrSIXbJ7vM+gKX7DHuzENYVBdaYh7VjtlQcyHbkjYIAdrr10ufHO/6IXD+AldLU5vXQZZAJbY9RKdQW2dtqe4iMgNuZcEUD96MMlujyNscES+tK8K5Q1PUv8vdGsLpXvT+DdV86vXHEYAMgo258xsgMf4h7J/P9ZmR3MnHSrYS0GZrm+tOV2mb5JNsOTltJyO5MUSCHwdCaxQu+CqZ9ajfDLgj/z5WUd76o7INbLPsj5earf8Kci5uARMSMgKJ1AVZu0nWBbN8ePx35y0qAnJw0qqm08fafoVEaRQ2msNSKZ3TauL3ZFIKCvvzbD39/j9z8vt79eUFcnff2tf1JSQhbNHzRgQBjSGzrTCgyDs+dzT57OKSqpl8s1dBqZx2NGhHsNGxI1bEgk5d+IKJlMM3vBd9FRvj/98Nit9LK/d90oLBIYDObgIN60yX1mTEtBURvntrRM+M+etIzMSrFYRaUSw8O8J09InDwxqfUXkV9Qd/pc7t2sqpoaiU5vZDAoIcH8MaPiZkxNaSn51w5Hj9/94pvjBALy5qvTx4yK6+BpuS7K+rF4V6NO2sF+/gvIDaq91Wf3VZ9bE7t0jPeArjbH9VSp6/dUnznfcKt3ir0dpHrF+9k/TfYb+kzE3O6vJdqLOwhhTs2Xbq1UHteZJDHcR33og5yu3E0legIABmYzZiQg95bNiSg9hDm1RL67TLE/nvdUs09vxvRVypMAEMyagiIuWGZnkoKZpECrjShCohL5GqPQaL5P3dUSyw4ArYcmICQAMGKaDtpzrfHuVwV/Pnhu69G6y1myojfil4fQ7ZfO5JCZas2DdgY6QpS/Z5S/54qpQ8oE4tOZRacyigprXKMs5JYqtQgCjz06PC7O/9P1h6VSO/m2d+5U3LlT4efLHTMmbtjQqNgY/14HvpnPvjxy4lQ2ANDpFG8vlkyurahsrKhsvHi54J8/n6Pcn8pQWSU6dOTO19+fIJOJPB5TJtMUFdd/88PJ9Izyte/MtnLHDx+98/X3J81mjEBA+XymTKa5m1V1N6vq7IX8j9fOJZHuBVfk5dc+98IfltdUKsmTzxRLVFnZ1VnZ1Wk3Sz/5cJ7dT7H/4O3vNp4ik0kfvjtnQP+wjpwQvdnwU8me43VXO9LJfxACgvblxna1FS4mR1a6p/p0mijnQVJ1dCvH664WKareSXjSi+KyUiC99BTieU+rjYJK5fF6zY16zQ060SeYNTWMNYtJai8TUWWsrVaeEeuylYYqvUlqNGtMmM6EtVnpM5KzoES+W2NsqFNd9GeMtmysUZ03mBUAEMqa4ZLP0tprt4AAEQCsbggsUojlhUxX5EVLbd6uM0k1RmHLBk5gxszbyg/vrjrtdA/dnCp1/ZqMr16OfXSwvbAZNpFRB42dY1XPIsyX95TvoKcmDaoRyc5mFp+9W5JZWuuQGLwVbnHcLQwcEP7rlic3bDx95myu3cZ1Aun2v69t//sah0NLiA9MTAiIjvYNDfHi8f67gVPFJQ0nTmWTSISPP5iX2jfU4nhLpepraSVSqcrDw/rMaLWGb344+dwz42bP6EskEsxm7MSprC+/PXHpSuHBw3dmzejb3DLjTsVX350kEtEXV42fPDHZMmt+63b5p58fuZVetmnLuVUrxjc3jov1nzg+MSrSZ+TwaG8vNgAYjabde2/99Mv562klmXer+iRb3/dbPiTs3J226edzLCb1k4/mJcR1KEmuTtP4Ye7PFareklUOM9gzmUtmdbUVrgED7Hpj1u7q0/ny8q62pedRoqx64fbnHyU939MzVn84cvXnkzf2vP5opB+/q23pGRAQyiCfdZGchQXSP2rVF9TG+nzJbwWSbQGMMcn8Fxgk6+sBw0x3xd8WyXZgmAkAUIREJ/owSZ4ElKo1ihSGcpujsMkRXrRUoSa9RL6n2XG3xMlwyJEelI4ut1ogIg4kbPCpySxSiMJQkSn6apjv1zSiNwAYzerbjZ9gYCai9EDmBOfM0Jr0n+VtTRNnO3d4T0Fj0n2Us2VJ6JSHgye30+yB+YlxHwF8ziNjUx8ZmypVai7llF3MKbtRUClXO7xM4UbHHQC4HPpbb8ycOqXPxh/PlJTiij2VyTRXrxU113JisahBgTwfH463N9vbi83h0DkcGodDY7NoVCqJSiWRye79CF2IWKIEAJ4Ho3+/0OaNXC59ysQ2H3zHj4mfN6e/5TWKIlMmJZdVNO7ac3PnnrSWjvvmXy5gGPbkspHTp6Y0b+zfL3TF02M++vTQwcN3lj86gsG4p7X/xiv31LsAgEgkLFow6MKlgvzCupy8mtaOO+XfL+WP7Vd/3XaJz2N+/smCsNAOxVjfkRZ+mvurwuiMYGovU/xsiDz0RHJkJd8W/l3TG8jeAWQG5Rt3v1+X/Hyv1vt/ED41eajv51qTuFJxtFS+T2Eor1adqdfcGBPwC4cc2bJltnhjofQvAAhgjI3lPuZBjW8OfSmSbb/T+GVbQ0Sw5ws16fXq6ypjLYPorzWJ6tXXwEVpqU6BDPL5+ELt0xJd/rHK2RxyJIqQ5foSvVmOIuSB3mupBJ4TnUoNivezfypSVLrc3G4IBtif5UdFOtnzUQvaKhjSW/oNP1wmbcag+LF9IjNKa3dcyLicW+7Q4Z3h9fZNCdm8admZs7l//nW1ssoxNWWFQpubV5ubV9tWAwRByGQigYASUAQlICiKK+S6O7Dnn1XtN4iO8qVSSfUN8vVfHXts6TAfb7bdPocPi7baMn5M/K49N+vqpIJ6ma8PBwAahPL8wjoAGNsq1rxPUhAAGI2mvPza/ql2YloCAjzyC+tUKl3rXXQGGQB+2Xrxz7+v+ftxv/h0kZ8vp3Uz/FxoSP+q4M8enarfhfjTvPpwo7raCtfAIbO6bQHCHoTSqH7z7g8fJj0Xw3I+SKAT+PP8bV8P1vg+D8jV232gEnjR3KXR3CWVyhO3Gj4wmJUZjetH+29ubmDG9MXyfwDAi5Y61Pdzq8ON5vaCwgMZY6kET62psVx+IIG3okp5AgMzghBCWFPc8Vnw4EGJHen/47ma5WbMINUXAgCN6B3AGBPNXcImO1PrQKiTvHn3h//avehY3RWFUf1K7KM2lco4pN4Zd/tgGGRXCC7llF7Nq8itqjebnQmY6aTpagRBxo9LGDc2/srVol2707Kyq+0fgw8Mw3Q6XCUbehxcDv21NVPXf3Xs2Im7x09mpfQJHj8mfvSoWDqtzeQeP1+u1ZaQ4KZ15JpaicVxLyltutfMX7KxrX4k92cmaLWGs+fz0jPKKypFMrlGrdbr9Uaj0QQANsO0GHTKjn9u/Pn3NRKJ8PXn/2fvrMPbOJo4PKcTM9iWmZliO4njMDNzmmJKKXObMrdJmb5iUkjTtEkbZma0Q2ZmkmSLme6+P+Q6sizbsi3ZTur36dNH2pvbXSny3dzuzG/usAXY9JgDjee+K/1nMI65x8zwG3XbFFUNpPmMECRekub290RuebQW/es5376X9Ggsu1dpJx7l7/M5i0e6Kkg3SPdBgpkzVKaKQvnPMkMuAN6arqq3NNnKi/rSR7U/TWbsTDUOQdBw9qIC+U9V6v0J/Edq1IcAwI8+ltKjhW23YLBKL4heRIA4zv8bb1paL3trMspfzv76P1LTzYFzTdeNVtPrCQ+299255P5fcc+sqEsPd57/0L9gGJ5VWnvsRunJnPJmlbbrEzqlT+NMEARJGRKs0Rjc6Ljf3kwYFzskKWj7risHD+dev1F9/Ub1tz8cXzAv7e6Vo6hUJ9IQ9kmlNigUEoIAjoPB0PJ4Y1sjRxAkMKDDBDX7zvPy6958b5dcrkUQJCLcOz7Wn8WiUijEzCuVdXXOZUoLixvPXSgBALPZ+tum8y891/OFliOii4Nee28gIugU4Yj+noU7WRI0ZdBxdws6q+G9/A1fp70koPRqQ8xDNMhU1RJ5f8/iNsGKGxFACYiTO74tbZSAkO1FZoiElhwqvcWxhFmT/lqj9mznw4WzFxUqftZZGhu0Z21efpib0lJ7Rplyq94iDmXNc4vXvib7K/GtUxLV7WTJ8j8q/O3luFUo0ibAYSCsuH997MIfDy/r71ncBMfhekX9oavFR6+XyDW9FS9qpY8cd7PZevZcyZGjuVevVVmtg8Lb3YDHYzy4avyqe8ZeuVa1/2D2uQulf269dO169Tdf3NVeirHVO29FrzfZFsVp1JZ1etuCPYLAxg0PdinBaTSa33h3p0KhS0kOfv2VuQL+zUfqN9/d2ZHjLpVq5s1OHTki4s33dh08nBPgx73zjpHd+Mz/cr75xtclWwa99t4wymuIQ+hhTa30rfd2/frTAz3uM+tKZWSEj316tEqlf/XN7f/78q4e91lQ2PDTL6e+/GRll5Zx7LB4dniBqqJLy0G6RGFWry38Zd2Qp1yv0mUwWX4/efXgtWKRXIUgiJDDTI8Oun9KupB782e27ULuP+dzKsUyEhFNCfN7dMbIxBBfh346sfn1+JX9VworRDIA+Hz3mc93n7G1PzRtxBOz2ywAG0zm9/8+fiKnTGs0BQo4K8amLBmVPKhL1h6FseS86NkAxiQhLZ1NjqCgXAw36SySOu2xcuU2AAhqm6BJQblccrTCVFKp2uVFTfFnTEARit4irtYcLJCtJ6Mco7WzZyoa0TuAMbFOcyxf/gMAUFCeL32MRz9g55isSgCQGfOUpnIWKcTpA4wrqC26N3O//y977TYuNGd/XvzHC7F32+/l8vrWcf/pVObFshoMx4P4nPcXTysVS9efyiyoFz+6cRcAfHvPfAKC/HDy8oWyagCYGBuxauzQ7NrGn05lEQmIVKPz57I/WjYTQeDvzNyDOcVWHBseFvjkFCf7Sz2jvFG6P6vwwJUikVztrj5b8bjjrtYYduy4snvvtS51IQfpBBQljBgePmJ4eEmp6Lk1W4pKGk+eLpw62bGcSl29LCa6zQ2y+t+kgoB/19fDwrwBAMPwsnJJVKQQOiU7t9b2D/fKS7PtvXYAkMk73O4JCRY88+Q0AHjlxdnvfrj7541n/P253ZVvL1HXfFq0adBr7yWznKWl9rJmwq6911Y/OMHecWezab3x2rvL4qDJBfmDjrt7KFRV/lyxa3XEYhftX9986ERO+cKMhHDfJK3BVFzfdPh6yeOzbt7w1m47seVs9riE8JlpMVqjaW9mwX1f/f3j44uHRgS4aJMa5h8o4FSKZd8euDB3ePz4xJYifeG+jrEWb/55BCUgS0cnk4jovqzC9/8+TiKiC0YM1plygtEqr1Btr1Btb3/IizokWfC0Q2Oq90unGx6z4qZL4lcBgIAQMdwCAHxqYrrPu4dqFnU+XCR7WZ3mmK3eUwhrllNfWWbIy5N9Z8Y0ZkxjxrQmTAEAekvTnqrJRAKDRGCSCEwf2vB43kM9+cB2hLDmVKp3q0wVR2pvLsciQKCgXD41OZqz0l4msiNMmPmdvB9rdKJeTub24JTkiheFuyrsZsJxH6vK7L5W8OmKWXH+PjZdxSihYO3S6dc+bfj+3gU2g2vVDdeqGzY+uAwAVm/cOTQ0AACKG5sOPHcfmYje/dPf5RIphYTuzy767cGlCAL3/7w9r06cGNiFU9Q5MrXu4JWivZmFRXU9UVAQsOizh3ftKXnQcbdYsH+2Z/615ZJGM6jJ7zaio3wTEwIvZ5Y3ihTtj546UzR5Yrx9y7ETBQDg78dtzW318+VER/mWlIr+3Hrprdfmt+/EHr3eDAAIgvB5bbz2unp5UXHXsowTxsWKxMofN5xa9+kBH292QryrCnRKs+b9gvUm7PbMXugzAmk+Sc7SUq1WbO3H+yqqmrhcxutr5nI4NADY+Mf5U2eKiEQCi0l967UFSpXus68O+/lyyiskrWb1DfIfN5y6dqP6/XV7KRTS9KmJc2YOOXo8f9/B7IZGxT+bH2sd4v11e8USFQA0NirmzBpy391jAKCgsOHHn0/p9SYmk/rCMzP8/bjnLpSu/+U0i0mNiXFcke2EEYLEQLqwTue4iT9Iz9hTfzqOHTbO26UogkvFNaNiQ95YflMxFsNxwr+Pgtcr6reczb5n4tDnF7QUyLxjbMqc9379aPvJv1+6y0WblHB/mxkARPl7TU3pMDmVSib+9vRyMhEFgMUjk2a8s2HXpfxBx709PEpsus97jbqzCmOJwdpkwfQIQqSgPB4lJog5LYg53b4Aqg0vauqUwE2F8l+a9FeMmAJFaFxKSBBjWiRnOQEh0ol+OktntwBv2lA2OUJlKoeO5dv11max/nK7ZtxoVRitCtubbik/doQJU3DJ0Q6h+ThgBqusQXuqQXs63eedENbsjk4HABzwz4o2Fd4uhVHdwrbaYwE072m+Ldvp3L5dcf/mrnk/n71SL1euGjtsfIyTRJ1yiTQxQGi7MiUECItFTdG+XnH+3rbLhYBJ15pMtXJ9jVTxwC8tT7NaY4cFCjrHaLacyi3fl1l4obDainU7qISEomMTw+ZnJIyJD0VdUFjxlONeWiZe+9HeqqpBNf6es+/ADblCNyojMjzM27ZEarFgFy6VZufUAEBkhJPnwnMXSn/ffGH5knQKhYjj+KEjubv2XAOAZYvT7c0eXz3puTVbbF7anStGhoZ4AYBKpW8QKS5eKkNRwj13tizThod5AwCO47v3Xlv8r9DktevVn311yMVs6BVLR4hEyt37rr/29vbvv7rHz4/b5Sk44J8WbZIauy78O0jnzOhABbK2TvbumwtDggW/bDz7++bzTz42BQDmzk65587RCALrfzl95HjeiOHhefl1LzwzIyiQ32oW4M97982FDz766+svzw0Oasl7njo5YWha6OonNtoP8frLcwFAJFa+9tb2BXPTAMBksnz5vyOff3QHk0k5dabo62+Pvv36gs++OvTdl3f7+XG/+b4bFUwQQBYHTvqq5K+efS2DtOe7sn/SeLFMIr1Ly6QQ38slNZtOXVs4IoFJowAAwW4D59C1YgBYOjq5tYXPoieH+l0srpZr9DwmzUUbF1k5LtV2GwYAHpMW5sOvc6FguI0oVvAIQZLKrFGZtSqzRmPR38b7ewSEFMKaFcKa1a2zOOTIDOGHTg/NDtnnwqBEAOBRYjlk549eAYwJSyOudmtKU4M6+6t3OqtMyZvV6v1MUvAw7zfY5AgiwfYjx62YQWOpLZBtUJurbkg/C2bOQDoOGNtac+Rc841uTfW/wP9Kt/pRvWzLQxwyk4AQMLyPYqGDBJwPFk9T6g1zvth49tXVAIAgiMFiaV1HiPb1OppXagsVzqsT2Zx7B7c40ofvx2WtX7UIJSAWK+a0xnwn2ELY92UWHLleqtE7UdjrkphA73kjEmYPi+V257rnEcd9/8Hsr785YjYPivf1CrFE9cdfF3/ZeJZMJgr4DCuGK5U6o9ECABPHx40cEdn+lFX3jPn197N//HXBy4ulVus1GiMAjBsTM29Oir1ZclLQ6y/P/eizA8dOFBw7UUAkEgAQm0oMAEyZdHPNPiiQP2VS/LETBf/74fi2nVd4PIZIrJTLtQlxAXNnp/y44ZQrH+Spx6dKmlQXL5evef2fb7+6m8Wkdm6/r+HsNXmhKz0P0gkkAnGKMN3pIV8h2yY3NHpk1OdfH7Y1Xs6qOHo8n04jN4oUozIiAcBXyAkK5DuYuY7JZHl/7d4Xn53J5dIBoLKqua5e/syLf9qOCvjM6hqpjzfb9iw3ckSki6UebEz0Gb6par/MpOrurAZxitqs/aPqwCORXRdCfu/O6e//ffzTnae/2Xd+QmLE0tFJw6Nu6sFXSxQAMPf9X9ufKNfobE65KzYuEuzNtX9LIRPNFouL5070GTbRZ1jrWxxwlVmrNmuVZq3K0uLNq8zalv9aWrTa29q/dyMqU6UtTqb/5NsBAOq1p6rV+1GEPMH/BxrRcbWLD4lUVHC64VGTVamx1LJIoU47uSzN+6PqgMfnegtixbF1Rb99k7aGT2YjgLBJDIXJ/SHd7cFw/L7128hEFMPxlRkptkYCgsxMil7+3V8BPPaXK+cMCfIbFhZ474a/cRzGRoemBPtl1zruEQXxucvSkx/4ZRsBIeA4/v29C6gkl7zi2ibF3syC/VlF9S6vFNjDY9JmDYudn5EQHdCT+jbud9w3/n5u46Zzbu/2P8jM6clGoyU3r66+US5pUiMIcNj0lCHCaZMTJo6PcxqlPH1qUkyU79ZtmcWlYqvVGhUpnD1jyNzZKe1jmieMi42P89+5+1rmlYpGkdJqxXyFHD9fTsaIiAljY+0tX35hdmJC4P6D2fUNCoVS5+/HXbxg2LLFw6trpD/CKVc+CIGAvPnq/Kdf+LOkVPTmOzs/WbuMSOxwYUNikG2s3OtKtx4CAURA4QTShd4UHp/MFpC5fAqbgdIYRCodpdGIFBJCRBGUSEBRhGDFMRNmNmFmk9Vswi16i0FmUinMarlJJTep5CZ1o6GpQd9ksPZwA643jPFKYZGcFx5uFfHEAbf9NOrqZL/9fu7X9Q/QaeTfN18wmy0A0Lqp0mrWLb7839EZ05NiY/xaO/EVcjZ8v6rVoKiksbXb9pnWnUMiEOcFjP+tX38qdJQaSPcRkLl8CkdA5vDIbAGZwyWzKAQSmUAioyQKgUwiEBFAWn4kmNmImeUmlcyolJqUMpOyVieu0NTLTANic2l/47mZfqNDGH6dm3mxGV8+OK9SLNt9OX9vVuHh68WTkiM/WzXHtlhlizd9eclEYrsNXy92y6/RFRsXoVM61MbtLgggHBKTQ2J2LiaH4ZjK8q83b/PsLa0ufutbrdbiNgWJW5RK9S4AQBFKcP/JtwNAs+E6ALDIYe29dhskQksQaftgIRtNRvnnxX/079MaEUEDaD5BdGEQ3TeILvSi8OhECg2l0lAKDaWgCGqwGo2Y2WA1GjGTwWpqMsrFBqnIIBXpm0UGqdgg89z8FSb1usJf1yY/iSIEHondN447AUE2P7K8fftrcyfav314QvrDE26uXg0J8vty5Rzb69YXC9LiF6S1CTDuBKXOcPhq8b6swpzKnlRwRwmEsQlh80bEj0sMJ6I9LzrkZsf9ry2XBr12d+Hvx31s9aRunWIyWUakR4xId6mihI83e/WDE1Y/OKFzMxQlzJ+TOn9OqkN7ZITPycNrHBpnTEua4aywK5VK+vF/97oyq58rdumtPdly6jEIIIF0nzh2WAwrNJIVFEgTUlFXvQEighJRlI5SwYk4502ajYp6vaReL6nTSco0tRWauj74jJ1USxVLlBWVTeFh3hcultkSDzRaI5NJodPIJpPl4qWyYUNDnZrZYNDJCoWuNVTGKfsOZiMIzJk5pLUlLMRbozHk5NYmJwXhOCgU2pAggVisspUGu3K128Gjs/zGbK050me/FgqBHMkKDKb7BdGFwXTfYLqf6yqKtvur7XUgzcfhqNqsLdfW5yhKrsuLStW1/eUiYDj2Y/n2D5OfcMU4TMh/Zt7YJ2aP/nLvuU0nrx64WjRneBwABHtzL5fUpEcFRfh2+PNwxQYABmbxAQJC4JJYXYbzWnFMZdb86+K3rNYrzRq1Rasyays0dbf3ZpHOIqpQ7QCAMPZ8MqFXdTx6ie1XpLdIMNziNEHWNk8ygU0n+rc/iuHYJ0W/a/qpYncw3XcYP34oPz6RE9G57hODSGPAza2qOGgT862x6PKVFfnK8nxVRZm6xu2lDPOV5a/lfutF5shv01+1xYqdy6/cm1lwJq/SbO3Jtxfl7zVvRPzs4XF8VtfhiF3iTsf94qWyDb+ccmOHg3QX3Gk9pFuHAlVFn8UR0lDKUF7ccEHCMH68p7NqvChcLwp3CLelri0OeJ1OUqquKdPUlqirSz1wJQ2m+yZwOnx+G5oWtnVbZkWlhMuhv/7yPACIifYLC/Ve/cRGBoMyNK2lmmZwkMDBzMbypSM++fIQi0ldMC9t2uSEDz7aK5aoFArdi69sjY7yfej+8TiOf/3t0fAw7yef2wwAozIi7liWQaEQ33tr0bc/HtfpTDiOL1k4bOb05GefmvbSq39zufQM15427WEQaTP8Ru2sO9ntb8dlhFRBHDsslh0axw4LYwQ46Ba7CxaJkcKNTuFG3xM6R23RZUnzj4ov5SrK+t6Dz1aUZMry0vmJHRlYMcxixSj/7iYTUcL01OhNJ69KlBpby+xhsf+cz/np8OV198yy36XRGc10Csl1GwCwBX02ym9JVwBFCDwym0d27rN+X/bPvoYupNBvOXQWEQCOAFFhKs5u/sKC6cgEdlyvBWF6iR99bLFik9EqPy96Lp73EJcSjSIUADBYZTJDbrlqu0h3HgCiuXc5deu31hzJV5b38Zz5ZM4c/7GThMO9KR3WWukWTCJ9hCBxhCARAIyY6WJzzglJ1nV5sRvj0XMVpe7qakCRVy3am1lw6GqxUtsTkRUOnTpzWOy8jPj4oF6J1TjgNsddodSt+3jfLe43DtLP9E0cYRw7bJpvxljvtNZF0D4GASSILgyiCycJhwOAETMVKCtylWU5ilJ3OfGdLLcHBwk++dCxRAWCtKSTtlJTKyUQCK+86ERpYVRGpC0I3sZraxwlIxAEObLvhfYnxkT7fv3ZnfYt48bEjBsTY3u9cnlGR3PuiAUBE/fWn3HvYw+XzErjxabx4lK5MX0scAYALCJ9knD4JOFwkUF6RHRxX8PZPg662Fl3shPHvVmlW/Dhb2Piw8KFfC6DJlFq9l8ppJCIk5Nbfg+p4QH3TR722/Ertc2KsfFhTCpZrNReLauLDfR+a8VU120AINiLG+LD234hl4Si/gK21mBKDvFLjw5yMq1BBgD5su+r1DdzQwkIMV34LrX/qqXa8KYNjePdXyj/RaQ7b/PRUYSM4RYcWnxWBAjR3Ltjeavan1uprf+r5lBfzjaGFTI/YMJo7xTX6yp0FwqBPMFn2ASfYQqT+nTT1QMN5+r0PREuvL0RydX7Mgv2ZRZW9agGHIGAjI4LnZeRMCEpnIS6/5/SbY77Tz+dVKsHZR9vB0olKwK5b9DI7pFUs2Kq7LrEtOCaLi2LVFXZihK3DNoRKbyYlcEzEzjhHh2lu1AI5FRebCovFgCMmClfWXFFVpAly2/QN/WsQzKBZHsk6CUDfwPHi8Id55N2QpzVy36ICBrPCR/Ki0vjxYUx/QdCkIYvVXBP6JxFgZN21J3YU3+6zyKCchSl1drGjiLdOXTqzLTYrLLa03kVVgzzZjOGRgSumjI8xOfm0uCz88Ymhfj+debGplPXzBarF5uRGOI7d3ibKFJXbAgE5OuH5n+66/SezHytwezFpgfwB2KF10FsMEgBdKLQYJUREZqAOiSe9yCf2uETYF+SyH/cjz6mQrVLasjRW8VWzEhAyBSUwyQFe9PSgpkzmSQnT4MYjn1Z/Ke1rzRShFTBI5GLO3lmdjtcMmt+wIS5/uNOSq78WX1QZJD22dADFq3RdOx66d7MgqtldT27+4X7CuZnxM8eHtfddJ1ugbjl3lxXJ7vvgfUu6gMOYuPE0Zfd1ZVSqV+w7GsA2Ljhwc4jj/sAnSnfZKnm0lt0x1x33D8q/O1M0zUPzUpIFTwRtTyNF9u16YChTi/JkuZnyvIKlBXdWlSeLEx/Lqa35ZB6X2C1b6jWNj52dW3PziUiaAovZoxXykivZFeUEPsLhUn9bdnfF5qz+2a4GX6jnoxa0Tdj/TfxRKjM+uFv+NN6olAxiFO21x3/pWJ3HwxEIhCXBE5ZFjyVTOg0U8qTWHDrMdHlP6oPDKgg9R+HvRZId2eESUdgGH6xqHpfZsGJnHKj2VVZKntYNMqMoTHzMxLal4j2BO5Zcd+x6+qg1z6IDaX+CAHptg+kNGs855fM9Bv9UMRCCsFtAhR9QyDNJzDQZ2HgRJ3VcFmad7bp+jV5oRnr+rLitFpqdwkOErR67SeqKnLEomdGdFEOulqpCOFwXTFwsUNXCGH4DePHX5EVuH4KEUFTebFjvFNGCpIZRDeUd/E0XDLrtfgHTkuufl++TW3usGKxuzghzrovbB5rAD/JDDKIR5EalX9WH+yDgUIYfq/FPxDQLmG9jyEi6Ay/UaO9hvyvdOt/UK5+2hvrm1U9ua4SECQjNnh+RsLE5Ehyx1p5bscNjrvVih0/nt+1ncsIhZzAAJ6/P9fHh8Pl0nlcOoNBodHIVCoJRQkoSnClstR/Cg6H1l7gpXO0pht18ncAx3TmPCJB4Mt+zJt1n1J/vFH5hd5cFOXzF5MyHAAUukNi9Y8xwp22s2pkr5JQbz/OswBgtFTVyl43WCoRIPqwH/Bm3mOyNtRIX9aariJAlmq3AECc3zEAQBCiWPWjVLvFiikFjBX+3Jfaz+eM5JrbEzQBAEUIqyMWz/Yf6/ae+xI6SrVpTuushovNOWebrl+XF3X0dYUy/GPZTsrIeZomnfbX7Gtvj+tQB6lLgx6zOHCyi457BDNomm/GBJ+hA3l9vSPG+wyNY4e9nfdjta4nSmSuY8LMx0SXFwZO7Nq0d2z/8cSmTw8kpke898cj7SVrB7mdEBvq6nRlDYZqhalZZZGbMaMVtxAREolAYRG5XLKXHzU4kB4hpAYNhEC1Xyv39IGG7yivIc/F3NVfqVbtYZEYr8Tff1yc+UPZNp31PxT53AOvPdSHN3dE/Nz0eB8us2trd+MGxz2/oF6t6dW/MYIgCfEBaakhQ4YER0UKmV0V6Bmk99TJ3/FlP8GhTZZpd8q0O7xZ9wEAhzaZQ5tc0HizmDmHPrVW/qbBXEIlRWO4XqHbF+d3BAAAsIrmR0P4H9PJSVZMWSiaQScnMcipkT6/V0ufo5JihOzVrZ3guAXHjfF+J81WSUHjBD5jMZXkKCFytvm62z8jAsizMXfZ11i51aGj1MnC9MnCdK1Ff6E5+7g4M09Z7qA90klaam+40tjw7JEDdWrVsyNGjQwMfv7oQZPVKtXp3pswJZLPL2xu+ibrUom0+YVjh6aERcyIiPrk4rkapUJnNq8ZNTZa4OVgQEZR+w5HBQb3Zm7J3KhoVnCJusNwLDaJMdFn+FTfjDCGE8W3WwgfKv+TlGc+LPj5hoezQS5Ks/vAcT+3/4ZRb7p6ulCr0jM5t96j1CBdIjbUZsqO5youKcwuhVAziZwEzvDh/EnBdOfFVvuAYnX1KckVjw6BALIyZMYdITMGwlOKA5OF6YmcyDdzvxtMWm0Pk0aZlhq9ICMhOayLehcexQ2Oe3Z21+HLHRHgz5s/L23ixDgBvx+eWv7LYLiegNjKlVNw6DD6AgHUi7miWfNnIO9tuW4vkzKChPoCgNFSpzcVljfdDIA2misZZEet91a8WasAgIT6UIihZqvIwXFXm7UFyorefygHHopYeDt57fYwiLSpvhlTfTNEBukx8eXj4kyJQQYAFALZQx+ZRSZ/MW1WibT5m6xLowKDP586EwAOl5ceKi99gj8izsv7odRhu4oL3hk/GQCuNjZoTKZvZsypUsg/PH/mp9nzHQxOVFU4dNjL6S0OnLy20LESJwJIKi9mut+oDEGS51Qa+hgGkfZO0qPv5P3k0erChaoqlVnL7qCAl7sYMzulsrBh2IS4Qa/99kNsqDsk+jNf2b3EcY1FeVl67LL0WDgjfobfHaGMfshK+rlil6eVWB+PWuahFRa3IKTyP0l59s2870s7Xg35T0FAkOHRQfMzEiYPiaS4VlrVo7hhBqVl4h6c5e3NemDV+KlTEgc3SPuFQO4bldInaKRYHDcG8t7txNKLeUdh46wA7qvNmr/8OM/824wjCDEx4CICLvlDKKFVVg+BdtfEbEWJ2y+Uw/nx8wMmuLfPAYgvVXBXyKw7Q2ZmK0qPiS4ziTQPBW1H8QUAwKZQdGaz2mR889RxDpUq0Wgi+E7k3srlsiuN9U8e2gcAkTznenD2HfZ+eqO8hvjRvBr1zba3VJQ8WZg+z3983+Q29TFEBH01/v5Xcr7x3G0Vw7EsWf5kYXrXpr1g8epJi7tZY26QgQ8O+HHx9uPi7Va8J3l+Niq0Bd+XvTlCMGWu/32kPkxPuiYv8rRw+wPhCway126DTWKsTX7y/fz1nt7cG+AEeXPnjYifmx7vy+traeBOcIPj3tCo6O4p48fFPv/sjMGQmH7EYC7l0ecF8d6GrrbqSKgfg5ImUf9msTazqeNsjRRiEJUYJlb94Mt+HAD0pgIqKRJByACAElgma123JpOjLOvJZ+gYCoH8VPRK9/Y5cChW7itR7TdYVUtDN9taEEBsFXwcLDVm0bHG13EcoxO9pgd8bGus02YKqJG0buorE+yesI9XVoRyeU+nj/wjN1usbSlwTUIJrS54BI+f4OXz8ZTp9j3YGzh02HsICGFhwMTvyv7xpQrm+I+b5ptxS2Sd9hgaSnkn8ZGnr33SZOyJzLArXJLmetpxH+T2w4QZ/qj6vEjthtBHHPBL0qO1urJVYa+wSe4pRdQlm6s9W0vkjuAZiwJvjYdVGkp5O/GRN3K/y3X3DXrgw6CQp6ZGzctISIsI6Nq6z3GD497crO6W/by5qU8/OX1wob2/waWavxW6gwBWMjE43Gs9CfWqlj6nNxcZLVXV0udIqHcA7w1b9Is36+6Kpkf8OE/befmEcO+f6+Tv5NVn4GCmkiIjvH9FgAwAXsx7KqWP59VnoCgvztelxPxSdbV7P9ts/zH8DmoW3gbEcOb40VMO13edjlylOeNDjR/l85x9Y4FiR7r3o9113O0Z7h/wR+6NBrWKghI51JbMqmi+l0ijeezg3iVxCZNCw8/WVD12cC8ATAwNWxqX6GDQ46E7YapvhheFly5IGIBho56AQ2I+H3v3K9nfeGhb/7q8yIxZSIT+3xce5FbBhBk2VHxQpS1yY5/1+srvy998NOLdPvDdr8oKi1RVnut/inDEXaGzPNe/2yERiK/FP/D09U/F/w2VdwSBYZFB8zLip6ZEU8k9vPQ1NCr8/bhunRfI5NqPvzq07u3Ftrdu0HGfMftTk8nVHbGhQ0M/Xrv8thcQMJutCAJEl+WBcBx3/TvplrFTNMbL9fIPo4XbEIQEALWy18jEYPt00r7EimOLz7/gisqhixAQwu8j3u2o2LineXnRFw+/uyQ8sU1Fj00f7T28+TyKEu57fcHExW5YxVSZ6w7Xr2ldcQcAiSE/s+l7C6Yno8wxwpeICPWc+BO5qQLDrUySMJgxegj/TpW5LrPp+zpdJpcUjBIoUeyZsRzHoqeD3Fr8UrF7e91xD3X+Scoz8ewuqpWpZNqd609ePpYnqpHqtU6qRD39yR0z7hjZ+vbKqcI37vre3kDgy/njyntOO3/3gfUXD+f6Bgt+Of+m04teU4P83oy3cQy//9V5Sx+bYn/o8tG8I1svFV2rUsm0NCYlNNZ/woKh01ZkuH5Z9hy3pY47DvjGyo8LVM7TOvlkH39aqC81WEAWUlA6hUAlEchmzGTE9AarvtnYKDbW1usrFaZmp6cH0iMei3yPiHhW6fzVnP95rghgIF34ddqLt5wqMQBU6xqfv/55n9WAa6XPdNxTnvwiQMCZOyJ+3oh4f36vPAeZXLtp68WnH5nStWk3u7V33N2wmoJhrpYWIxLRZ5+acdt77QBw/GQBjUYePzbGRfsf1p969GFXNRy6ZewUi1WKIGRAEACwYmq9uZBJHdnlWR5CbJC60WsHgERORH957QCwbsezDi1N9fKdPxz//fqHTC4d90y5AytuuiD+fFbQV2QCs1J98qLky+kBn0wLWJcr/8to1QzzeshmxiYFTvH/YEf1qgl+b3LJIZ6YySB9zD1hc8433/BQ1cMydW3njntduWTN0q9lEhUACHw5XC+WuE6GWTEAIJLQ4Chf/1DvkOg2FUl4XqyUMdEquVYl0yqa1RZzZyKw05ZnXDycK6qR5mdWJI5wlKICgBM7ruAYTkAJk5fcfB42GcwfPbHxwqGc1ha1Qpd7qSz3UtmhPy++s3E1z3sAhaveNpyR7G3vtVNR+kjB9CHcUf60UFc6qdNX5CguXJIeMVj1bdp15Yca/5zjf6+7Ztueck2d57x2MoH0ctyqW9FrB4AQut9Lcfe+m7fe0zm7/cWGp5YOjQzsmWf61ffHFEqdwWi5e3kGmUzctOViRXXz2s8PjB4ROW50NI7DF98dVav1JpP10QcnBPjx7N8G+vPOXiw9dqqASiGJJapnHpsaGixY/9uZBpHCYDA/vGp8WIjXx18d0ulMbHabyE83OO4sFk0ud0kFc/SoKH9/bu9HHAg0ag+JdSdTvD/qyECnM509XxIf6y8QMAFAIlEVFTcmJgTy+QwAqKxqqq6WUqikiDDv6hrp6JGRtrOamtU4hheXikJDvIIC+Q5vASDrSmVHxvZ9+vh05rly6NNUhjMFDZMQhAiA8BkLePQ57vpmuktrQqG7yBAkubfDXtJUL+MLOUwuHQAQQk+uDY9d+PtYQzGKIIWLX3dqIDdWKM21+2qftL2lE3tVPbdeq5h48BuHxucTJ62OdTWhSmU23HXq92qN7JnEiauiRvRmMgOcuO3vW3F8in/Md6OW9csEiAh6d+jsT4p+90TnpZoukl8/fvJ3mUTlGyx4Y/2D4QkBACAVK9c99lve5XIKjfzpzmdoDEeN6ojEwLVbnrC9/vLFvw7/dbGT/odPSuB5s+RN6uPbMp067se3ZwLAsAlxfLsr3idPb7pwKIdIROfdP27M7BRhkEAqUlw6kvf3t0dLc2ree3DDpzueJqCDxUDcidzUdFi0xaExnT95pt9KBrEbyyiBtPBAWvh473kHGzdnyk7YHzrXfGA4f7KQGuiG6TpjZ92Jro16yoPhC25pLdp0fuJMv9EHGs/190Q8wrCoHv6ocByu59R8sXYFj9uii7V80fAjJwqe+Xf379ylUjaL+tzjUxtFym9+Oj5zapL92w/fXAQAZBLxledmFZeJ/th6ccGcVJ3e9NbL8+oa5N9vOLViSToC8PYr867n1GzdcVOgyQ0XL67LSl6jR/WbMqvbEetOGiydyemcv1hKo5E/+Gif0WgRiZU//XyaxaJ+/PlBrdYoEit//u0sn8/4a+slGo3MYlF//b3l7+HqtarPvjrMoFM+/+qwTmd0eAsAHRlXVjXZ92kzMJkyFbJH2s8NAWIwf12C/5l4vxPxfsd92U/2/gsxm64qZA+1bzcZL3R+osQo6/3o9kQyu9AW1GsM37285b601+5MXPPwqLc1Ch0AbP/26KZ1ez9+5Je7kl++M3GNSqbVKnUzvW9+e09N+fD66cJOerh8JPepqWvnBTyRf7ms1WzNgs8/efRXca30oZFvPTTyLWmj4vKR3Gdm3Hze+3bNX398vK+XHxkHnEnyWxTyq+2/GQGf9qY3MkqMZHsLKAy0p5tjBXJRkVKst5r31+b1ZiaDuMJ4n6HhTI9kUJWpazs5WpFfX5pTAwAPvDbf5rUDgEDIee7zOwFAq9Kf3dfbDEWUSJi0aDgAnN13w2R0VB8qya6pLRUDwNTlNx8OLx/LO7f/BgA8+/nKh95cGDc0jO/DjkoOvvuFWU+uWw4AhVcrT+662suJDeLACckOC97mH2i2/91Lgh7pltfeCoPIXhL06Bz/e+wbMRw7Idneq1l2jNKsOdvk/loiNhI4Ebd6EUAAuD98vjelj1KEbxUQBJ5/cvrHXx368LP9TssZ1dXLQoMFAODnyxGJlQ5vbTZCHzYABPrzRRJVTa0sJ7/unXV7fv79bEiwoFGkCAzgA0Cgf5tv3g2Ou7ePq9uO4eH9XNfXXeCASfWXOrcZPzZmWFpoUkJAeYXkwsUyjcZw5lyJUqkrLRNbzFYmg+Ljw6bTyCwWNTbGj0S6GXY5cXxsWmpIXKy/pEnd/m1HxmKxyr5Pu4n0c2CSRvVx5wZKs8a9I4Yxu1jY+OnNbUqp5sfzb23O++j9v59i/vusvO/X00uemPpHzrrvz7zB5nemYO20hxHTkr4++oq/3Y+cxqR+tOu5F767zzdYsP7iO+svviPw46ZPTdQqdaXZNQBgNlnO7Lo6beWoXn5kHiXcZFWL9NkAAIDrrZ09C5EJDINV0YmBN5V5YNojF+c+V7D49U3j7+nEsiPieb4xHCGDSF4a2qG0/yDuAgFkRfD0ru26T61O3En9yMrCetuL+OFtwmn8Qry4XiwAqK9o6v0cbE65Vq2/eCjX4dDxbZkAwOYxMqbe3GTbt/EcAIQnBNg8/jZdLR3BETAB4NSg4+5WjJj+mrxNyP5Y79njvef1sttx3nPHebfZCs5VXNZbe1KavkuOiS97onQ3ACCArI5Y5Ime+xgaSnkgfEF/z2LAkRQfsPatRQmx/vsO5QAAkYgajDevmSFBgsrqZgBoFCl9hRyHtzYbmzBjXYPMT8gJDuJHRQjfenneWy/Pe/i+cb4+nLoGuc3eflA3hMoMSQrOzHSpeg6H40GBNgumrVT9LtYe05prADAy6sWjJEfzn6YTWzZBFMbcOvVOmeGq3tIAgNFJIYHMeaGce5C2Ty/1mn016q1ac5UF01FQAZscE8Cc68uYZjtao/67Tr1TbSqx4kajVXqgMrH1xJmh2YhdkRe93gQAer2ZSiXRaORJE+KmTb1pjOP4hYtlzz87o/0HIf+by2zLG3Z425GxUMh22idmbVDIHrFa6yiU8Uz2iwCg0/5h0O8GsJLJI20tWvXXRuNZAAxFQzi8zwFAo/7SZDwDABTqVAbzUbPpqlbzA5e/HgAUsocYzEdI5KFq5XtWa63VUoNhcjb3fQKBj1mbFbKHMauYgAZw+d9azMUazTdmc45ceg8A8AS/OX1QVJndeSEmE0h0tAuZ0cwjue9tfZJCIwOAT+BNcZWUsTG2pFJ2V+XAOurBFRAEWbB68r5fTj371T0XD9yITg3tbg/HG17XWqRas/hg3fNCWmKaYBURoUz1//BS0zcmTAeAJXKXRXNmd3R6Mv+Os+KPKARWPHdRJLszhw8BYBB7EpTJJlH3Tn24BycO0jMyBMk8MltuUrm3WxzwCm1dR2HuVmtLdhOZ4ngfIZGJAGDQuSGbLSTaL3pIcEl2zbFtmePnp7W2WyzWU7uvAsDEhcOI/65lWC1Y3uUyAEgaEdm+K4SABIR5K6Waivzu6dUO0jmFqqtm7Oa/NZvEm+a73C09T/NdkaO42Fp11YKbC1VX03jj3NK5PYcbOwvZ6g1TfEdEMIO6trsVGOuduq/hTJ6Hde5vIZQq/Yef7afTyDq96fEHJwJAWIhXU7PmrQ93T5+SOCo9YmR6ZObVqrfX7jGZLY8+MCHQn2//1taJTK794NP9UpnmmUenBAcJsq5VvfXhbgDIGB4+c2rSgaM5b6/d4+fLIdjF2brBcU9NcTXLzdxpHlJvMFnllxrv0ZgreZQhoZy7AEBtKm02XEoivNNqU6H8tVl/3os2SsiYhONmke5EoexTC6aL4j1mZ/NLkexzDiU+iLUEAURnrm3WX2SSwlsddwYpLIi1BAdrXvO7DFJoOGdV67kI0sYrzcmrq62TSaXa8DDvAH/euk/3FxY3Go3mZ5+ajiBISanYiuHVNdJFC4YePZZXUyvd8OuZhXa3JadImlR79l53amy14q19rn5oAv3faBkMU/K9dwAg0qbZVMtCBIgG/U6+1zYARNa8zGy6QSKn6HX/cPjfk0iJABgAmExZZlMW32s7AMild5HJTmKUcdxsNBz1Ep7BMKW8eQmFOtVsumq11vO8tiIIWda00GIuIZJiubyvmoxZPEFnAbhGrMMlvR7QpdcOADjmXJaH5lBYAEHATsNHp765EdZRDy4ydcXIrV8e1Ch0R/68MOvebt+EJvu/377Rixo7J+hbh8Yk3h3tLYMZo4MZA738xyDdAkUIU4Uj/q496vaea3Xijhz3wIgWwYeKgvrkkTfDIFUybbNIAQABbtpinbY8oyS75tqZInmTiufdEnqRdbxAJdPajrZayiRKg84EALt/Ob37l9MddahW6NwysUFslKnbRMQN402kENyzSEcmUIbzJx0V/9PaUqEpcLvjnqcsr9dL3NunDRpKuSe03/LHPME9oXNeyv6qv2cxUOCwaR+9s8S+hURCP/vgZr4TgsAzbdWuHN4CwJCkoFV33rwj278GgJefdaIf6gbHPTra18eHLZF0vdijVhtadwfcS4FsncZcGcN/NoLzQGsjhpsJdupRiYLXUQIdRVqcs0juI6fqZtZqtts77vWafWSUN8rvr9a1cxy3YnDTsxRQhwuowzHcmNf8LgX1CmItdjqfGdOSZkxLMputtrAWCoX41mvzjUYzmUxEEOT3P86/8tLs6CjfnbuviUSKB+8f/+D941tPtL14+IHxABAW6m3/FgA6MrbvMze3dkR6SyIXkRQBgAIAkRhrtVQB4FZLpax5+b+fTgMAXMEvWvV3Vmstg/kIhTrFYi4hkYbYYmxIpGSzuZBEsqs7jVsBAEFIZMpohexBAKAzH7QdIZESbTWYCKiXrWdXcK+kDEroOvpr2OSEf74+/MxXd5MpJGmjgi1gkpwpttJZVBqTmn+5PDEjMud8SUNlU3d76AgylTR5WcaeDSerihpGTE92+bzbX45pkB4zzXekJxz3ZqOio0NxQ0MDI3zqyiXr39319q8PC3w5AKDXGr95ZSuO4TQGZewc9wRKTVgw9Kd3dpqM5hM7rrRWWj2xPQsAwhMCWsPrAUDnLMy0Pa17BYO4BZGhTRJzAscxSKk3JHLS7R13h7HcwklJVtdGPWJBwMTbrKJIAicihRv9Hy+n2u+4wXEnEJClS9K//e5Yl5ZVVU1Rke5X5bRg2kbtIQYp1N5rBwBCW81XctuKM0QCk0WOkeov44C1RstQUIHGXKEwZvOoLevZCIKi0MPFA/tgdACgUFrmkzIkeN+BbCaz2GAwzZzuHgmUjvq0mMsArACIxVyIsp5AACWgAXyvvwBQwM2AoACAoqEc3hcYpmgWj/fxyyaRYjWG/QA4AJhNN5jsKQjCxKzNAAC42WxpKa6BYc1M9itEop3UA9JeIJmA4wYAzC3ZFK6gt3S9O7/6g2Ub3tr+UMZbVouVxWN+vPs5p243giBPfHzHx4/8jBLR1PFxI+y+Vac9fPbkxqqC+oYKyWdPbOT5sB9+d0nM0LCO5jDvwYmrx7wz696xKNHVb6bHqaKDeBIEBoZEmh/NK5AurNN1ljHfA5o7rsyKIMia/927Ztk3Zbm19495NzTGj0wlVRU1apQ6Epn4/Jd3uUt1kcGmjZyRdHr3tePbMm2Ou0apu3wsD9outwMAjd4iYnPvmjlz7+04HfB2/0tSmOr31L1+T/ivrhhXa694UyLoRJfyDkX6wnNN65cEf27fKDO1Wa52UfnRRYTUIASQViFCh7F6jxXHLjRnu7dPGyQCcc6tn5NqQylKpnPWkmizAWBx0ORBx91djB0ZNXZkt1Vb3FMVb/bMIb9vOqdWd7HakZdfP3VKYuc2PUBtKsZxq4DaxVO+FTfWqbdLdGe1liqzVWXF9RhuAgDA8dbreDTviUzRwxcb7xFQ0wNZC30Z01DEUc6s9yQnBSUnuTnoraM+iaRohewxq7WeQp1sc7LpjLtlzcsBCAA4T/A7glBkzYsRhAKA0Zn3AQCJPJRMHilrXgw4TqFOIpGHAuAE1E/WNJ+AConEaGhZqsdUijUABBzXc3lfdzAvApU2VyqZhRKDbCHy7SET3FlTQ281WnAr0ckjxE0YbNrTX9zl0Lj48antLSctHTFpqZNIIac9PP+Nc43hhBGR6y++49BIoZGNetP0O7sRskIioABQq5X/XHLxjKhcolfTieR4ru+SsJQ5QZ39WUmN2k1lWacby2q1cr3VzKfQk/kBC0OSJ/vHuNGBseJY3PYPHBpXhKe9m9ZhtH0PZvja1X3/VF4HgGMznghmOnc1ipTieUd/AoC7I4e/keKYRtKzb+NAbf7fldcLFCKdxSSkscf5RjwUM8qfzqGgRJ3FnbFevWEYL94Djruik6ORSUFrtzzx/PwvzCZLRUE9AHj5cUfNTF708MSQaD83TmPasozTu69VFjZUFjaExfmfP5BtNlmIJHTiwmH2Znwhh0whmYxmmVjJYHswpep2Ike+e4zPw3TouWCIwXoz9IiGMlDEndV2CQhKJzK1FnX7sdzCdXmRe/OsWpngM4xLvg0rBqTyYoPowlp3X2oGcR33/IFRqaQnH5/64bq9nZudOVv01BNTUXcL6JoxDQAQCZ39hZgx9cXGuzWmMh/6hDD23VSikIgwi+SfK4359mZcypBxgXsrFD/XaXZLmzILpOsiuA+Ece5D+mrB2L2QyelkvmOdThp9GY3eRnNa4L3HwYbBepLBsteIRLj87+wNtJqfyJSxdMZ9AKBWrTWZsmj0Za2uub2PzuY6OnMOuLcmBQ54vV4SQnen0+B2cBzf/t3RoRPj/UK7UemQTiRflFQ+duFv7b+eosmkvyCpvCCpPFxX9MWIRURnYUJH6ovWZO3W2jmXYr36aH3R0fqiscKILzIWsUldZwW4BhLN9pGbdHKTzuJyUbbuznBxaIrNcd9Vk/NU/HinHe6sym417s1YNqw49tzlnQfrClpbarXyzeVXdtfkfjdyGY9CH0COOz9uV/1J9/bZ1PGKOwDIm1TvPbgBJaFr/3jCqc66u0gdG+Ptz2tqkJ/ceSUsbt7ZfTcAIGNqEpvXRv2JSEITMyKunS66dCRv9duLXd/Ouv3AATva+EmzsQLDsRn+rwgooQBwufn3UvUZAoJSCKxZAW8YrZpzTetrddcPNXxIRMhxnOmJ3Fnw77K6GdNTCMzJfs9ySP7l6vPnmzZQUZaQ6qSqIAY3/97JBHddT25CRG7eI6y4O0MrAeBc8w33dtjK/IAJHuq5f0EAme0/9oeybf09kX7AYsXKGpurxHKxQi1V6Qxmi9FsweyEQ0bFhswcFttJD27BbU/GUyYnXLhYeup0USc2SqX+8JHcWTOHuGtQG0QCHQCM1s6kx6pUf2hMZWGce+P4L7Y2EuROPj4V9YkXvBLDf65Re6hC8XOR7HOjVWp/lid459TJpQmJ8d79WbC6W1CoU1SKNUbDSQArgcCjsnquBE9B3VzFukrTMJAd91M7sn587W9hsOD1X1d360S91fzUpW0UlPhA9MghggAygViqlPxceqleqzhcX/hx7rFXh0xzHKux9KlL2zAc96Gx7o4YHsH2ohPJtRr59qobN2T1Z8XlT1z859exd7klCAdFkH3TWj5RnVYxqV0JJ6d0d4ZpgsAwlqBSLd1ZnfNk/Pj287bi+N7aPACI5Qjjub69GcvGJ7nHbV67P53zQPTIaI6P0Wq+Kq39oyzr0QtbnT4s9RfxnHD7oAK30PmK+55fzzQ3KqYtz/Co1w4ACAGZvGT4lq+PnNt/Y/kTU7PPl0Bb+fZWFj408drpoqYG+c8f7H74rYXtDcwmC47jZIqbLzsDDYWpfqrfi/60xBz5nquyrdP81gBAEnfOCK+7AZDzTRuKlMdS+YvnBLy9uXL1DP9XeeSWDVsrbjop/npR0CcUlFmqPn1K9L9ZAW+eEH2xLPQbDsnvtNgxAx4AyARK60K41uJmaSMA0FhuauGRCO7cA8cBz5Lld23XfVK40b2tuIRb9Op1Jt12wNUoOYPO+YBADAFb1Ap3nUHzvdVcgBKj6NxPUNLNME6j5gej9lccU6CkRBrnbdshpSiVznnPqP3ZYs4hoH401hoSbW7npwBu1ilfM+v3AEKjMh9DkDbPYxN8hv1cscu9+WkDmZomxbEbpWfzK/OrRSZLZyIrbBrlVnLcAeDZZ2ZUVTdXVXVWCPPX386OHRPTVmi8t7DI0QgQFMYc+2h1BzSmcgBoFYcBABy3asxVHfWJIpRA5nw/xowzdfNq1dsdHHcEbJEYbrtBbsy+vjH7eoK3z9KExPmxsRyK+xct3AuRGM73+qdrOxfgkty8mXhVXjjeZ6h7+3QjExYNn9BOYdoVNGYjn0LfMflBf3pLhvcI75C5wYlLTvxSrZH9Xpa5MmJYKPNmIofOYlpzZQ+G44k8v80T7qW1PiD5hC0PT1uTtWdndfYlSdXemtwFIa4nyLqEiyKSPZvh4tCUT3OP12sVWU3V6d6OklbnxOXNBi0ALAlL6f1YNRr5xtLLABDA4O6Y9ACP0iL5P843cl5Q0pITPytNLmVD9g0UAjmA7uPeaBm91ai3Gmmoc29JLdcBQNH1qqrixsAIHyKxsxC1XjJ12YgtXx9prG7eueGUxWLl+7CHTYhrbzZsQtz0O0Ye/uvizvUny3Jrp6/ICIwUkkhEtVJXXyHJz6zIPJ7/yY6nQ2MG7rO9W2ASvfxpiQDgRQ0v17TU7KvSZhYpj5MINJW5MZzpvHxEs7FKbqrbVvO87S2DyJeZapgkHw7JDwDCmBlNRkc1QBaR2+q4W3Cz1qJmEN12VddYlPar7CwS1109A0CJukZhUruxw1am+/W2OodB/anFcIIp2IQQvI2aHzSyu9jeJwAhAYBe+R6d9z8CMdig+kwre5gtPGvz5Uy6LSbdVgb/ZwIaYNRt1kjvZPucQgh8ANApX6Fzv2CQh5p0W3SK59iUUQhB0MkpBs33FuMZptc/CMFLr3oHs7a5qrCI9BH8RM9tVgwczhdU/X7iamZJjTM57l5hbbcvjSAIwbVFNHc67iwm9fNPVj7z3OaaWmlHNlKZ5oO1ez58fymhR7XfnUIisIX0iSLd8QrFzxHcm8U7cdyCA25LUaUShQBgsIiA0rLeX6782Ywp2/aE6y0NNOJNjQIECAhCaP8wgCBECuqlNVdhuImAuC3SI79Jkn/qxIdnT0+LiFyakDg6KNjFf8VbGh9q91TMu+SKrMCKYygygJZC3cV9USNavXYbHDLt2YQJz1zegeH4zursZxMmth7aXpUtN+oA4MNhc2nttjVeSp68szobAHZUZbvdcXeRns1wYUjyF3knrDi+qzqnveNui5MhEdB5wW3Svns21s7qbCuOA8DT8eNbvXYbEWyvuyKH/1h0vgcf3HOEMwLcHubeieM+ZWn64S0Xa0pEj05e29pIQAkcPiM2LXThQxOTMtroqRdfr9748T6d2qBV63Vqg03PUSZWLU9+hc6k0llUBouWMjp6pbMCF/6h3okjIvIul+/46QQATF6STugg6vLJtctpdMruX07nXirLvVTW3uA/cFkFkp0go20TRm6qu9S88a6wn8kEembzH1bcsRJtqzmbJLwz7MfW92JDcesXRnAWv+5F8W0yNrS+LVFnp/LG9PoTtFCsvmH/1ofSu2XstmRJPbLcTiGQ0/m9S+fDzUbtz3TedygpEQBonNfMot0mwx4ybTEAkOnLieShAEDjvK4U/W0xXiBSxgGAQfM9lfWc7RQq8wmj5kez4TiZvhQAyPSlJOoUAKAwV+vVH1vNRUTK6E5OMem2UJgP2lbfaew3zPr9DhMc65N2ezvuFSLpB1tPXC3zSM0Hjd44+bWfjOY2WxZ8Fv3Iew8RXQgmd7Nzw+XSP/v0js4rpGZmVbz97k73arrHe71GJwYUy7+62HBnoeyTYvlXN5peOlYzXvvvmnoAcw4ChHzp+2WKHyqUv2WJH6tQ/sKntlmXxXHsZO308w0r8prfLVV8Xyj79Fz9Ep251iYM74A/Y6bRKr3UuKpU8V2J/Ju85nfd9VlMVuu+kuJ7d24f9+uGLy5eqFUpuz7nVsaH4mbHXWnWnL9NLyhjhE4CEib6R9uiO640tRFKO9FYAgDeVGYsx4mUk4DC8KYyASBbVu+RubpAz2boTWWO9Y0EgIN1BXprG+dDbTYebywBgMn+0Vxym9zEno11pbkGAAgIMsXfSWjvJL9oFz5lnxLBDHR7nyasIw8PlDJNeHyAQyNmxeRN6ouHc9cs/eb49jZCezKx8vrZ4uIb1XXlEplEZbFYAQDHcZVMK6qRVuTX514qK75R3dFwU5eNAAC9xtj62ikokbD6nUX/O/zS7LvHBEUJaQwKASWwuPSYlJAFD074bOczLibObvny4Kphr9vrwHaCVql7ZfGXrlj2F0ZMQyEwyQS6FTdVaG7WG6KgdJ3lZiaDgBJqtGrrdTkAAIDrLHI+OVhlFqvMIgCo0V5p33Mwvc0fQo7yghunna1o01sIw8lfYo+5Ii/o2qj7pAsSqGivVvQway2OG1BS654SkUCKsZqLbW8IxFDbCwRhEghCq6UaAAA3Y5YqnfwJRUOQ7T8cU2DWlgsaSmz93ggIQmvRa+7wFAtmbUCJLWonBDQAaafSMYwX715hiQHFphNXV3y02UNeOwAwaZRJyY53c5ladzrPpWKm7lxxtyHgM7/9+p4vvz58+IhjhepWzp0vefLpTa++Mjc4SOCWQamoz+iAvyuUv4q1x6tVWxBAKERvIWMShdgSNc4mxw3z/bZE/r9yxQYCQuJRU0f6bVKa8mWGm7WvEYQQzlnVrL9Qr92HYQYyymOQwlJ5n/kxnFSXjOY/QyBQGjWHyhXrUYTGIrv/Ft6gVn+Teel/mZcygoKXxSdMj4yiEt3/79XvCN294g4A22uPj/VORW471Tf7SJhWaCgpkMGr1sgqNW12uvLkjQDQZNBEb3uvkz71VrPeam6/CN0H9HiGi0OHnGos1VpMR+uL7FfWD9blG60WAFjSLi21Z2OVq5sBwI/GZpKcLDmHs9xz+XIjvjQvt/fZUYm0T5/edHx7VkCY9zOf3BES40dlUAAAcNyoNzdUNf311eHaMvFPb++YMH9oa5LoyBnJB+s6UqDqmmnLMxz0HzshPD7gibXLurbrmBXPzKzM77fHWrfjS40RUML+qnqMQmAEM27W70vjLzsu+pyCsoZw58VyphIRypzAd86IvzNhegAshb84gTNjku8zu2pfoaGcMKaT7z+KlXxYtKX1bb4yq0JTEM6M7/2cS9TZRapr9i1xbLeFQWot+nKNRzyzsd69r2Bgu3nZx2fYRVY42y3BAQPAGYLfieSbUTo3q7kjTkSWOj0Fbyub6niDoKLkVF7sZWmHbt4titlqfefPo/syCz090LyMhINXix0ad17MmzzESdVnBzziCFIoxDUvzk5OCvruh+NarXNd7ZJS0cOP/Dp/XtrKFSM5HDfodpEInBjeMzG8Zzoy8KaN9aa1EVVlkaMCmQvsGpBY/vMAz7syHIpQOh/OXeAAF2trLtbWsE6dmBcdszQhMVno2/Vptw4MIs2P5tWo7yw1oruUaWqPii5P83X1Hn+rwHDmPgIAh0wFAJVdvLUVx1UmvYvdmjFr3zvuvZnhZL8YHoUuN+p2VufYO+47qnIAwIfGGt12a6LHY9m+Ui6Z7tSS6TZBHrfhRXZ/hTunKWgXD+Uc355FppDW/f2klx/X4WhMagjPm/3Kiv+p5NqGqqYgD5Tv6GNwHP92zRa1XGs2mh94e3FAuI9DC1fAtFn+8/Vhi8V6x3NO6h32GVxyQKuIuz8tcVHQJwAAgMzwf7W9cThzZDhzpH2LkBq9NORL+5ZI1thIVsvdc5hghUMPwfQoAVkoNd2M0fqn7vtHI95lk3ouMQkAclPT9rof7VsCaOF+VFcrtXdJnrIcw91fiouGUobzE3rZCYEYhCAMq7mAgNqShi2YuZRMW2o7ilkrbS9wTI1hIpQYCgAIQiEQQ63mAhJlotM+29PJKQTU32optUXg4Fiz04qKQ3lxt5njbsWwF3/ZfyrHMYvDE4yICRZymWJFmy/2QmFVs0rrxWZ0dJYND67gzpyRPDIjcsMvpw8eysGdBfabTJZ/tmXu3nNtzOioaVOSUlKCyd0pP/lfQ200bs7N2ZybEy3wWpaQsCA2nk+7TYSKo5jB7nXcAeDXyt1DeXECikcq9fYXOI4jzuJzbXJUbQ+1/MklcP3eSpvZebcMovuLFbhAz2dIJBDmBSduLM28KKkU69VCGgsAarXya9JaAFgYktxOJ6eHY3Wej4QiCAFBMLdnLfUCAYXr9j6NVifLe/lZFQAQFCVs77XbYP67HNNRJPqtxaWD2Swu/YmP7xDVNP/42t9vbXrMoeWF/91HJKK7158wmywrX+i6dsFtxljvObvqf259KzWKvit744Hw17wpPUwCbjRU/1KxVmlus4s4SehEJqjH5ChK3dhbK0N5ce6IISFSmI8aVOsIaACCCo2a7wGhkGnzbMdMuq1EygQCMcyg+oxA8CNSWtbLqayn9cq3UWI0kZyOYwqL8SyJvghBnK87dH4Kmb7CqNlAJKcjBB+Deh2Ak7zzoXwn2eG3NG//ebRvvHYAICDI2ITwbedz7BsxDD9XULUgo4sHP886ylwu/YXnZs6bm/rLb2eysiqc3uBMJsuJk4UnThaSycSkxMCkpKCoSGFkhNDbTVX3bj9KpM3vnzm97tzZKeERyxISx4aE3uo1NWPYIWearnVt1x1UZu2HhT9/NOTpzosx3VqozUbb4roDNm0Tew1yFCGwSBS12WjAzCl8xyjkgUAvZ7gkNGVjaSaG47trch+OGQUAu6pb1n4WhzgKzvZ4LBaJIjPqlGbnq/U6i2lAee0AwCOz3a4IaXIaKoMAADQ3KiwWq1MxmYObLwAAk0MXBrk/Fq7vqSuXBMf4AYBvsJe4Ruq0pbKwvqFS8v7fT/XvVPuFdMHks837pUZRa4vMJP68+Lkx3rMmei+gd0dkRm1RHBdvvyQ9iuFtEuEimAmJnA4TG3pAntJJ4nLvSea6J26WynoCcINGejfgapSczhT8Af8qYZAZ9+mV71otBSgxmsH/sdWrJtMWA6bXq97HrDUIwiWS00n0JZ2P0tEpVOajmLVG07wEEDqV9RSRXNX+XF+qQEgViA0dipHcWmw7n7P3cjdyHshEtHNpyC4ZERPk4LgDwOXimn523G1ER/mu+2BZdXXz1n8yj5/I7ygt1WSyXL1WdfVale0tg0Hx9+P6+/N8fTleAiaPx+TzGTweg8WkMhgUCuW2WptfEBt3pLxMZ+4wCaw9Fgw7VFZ6qKxUyGAuio9fGp8Qyu3VvmQ/MsRNVzoHilRVHxX+tibuvtvGd6/USNv7nTqLqUGnAIAIVpv45niu7+Wm6kq1VGHSO2RqDhB6M8MYjjCB65evaNxT3eK429TWh3oFhToLPe/ZWGEsgcyoa9Ap9RYzjei4ilalkXVrzn0AEUGpKFlvdR6g2DOcJqeOmJK4/YcTSqnmnVXr73x2Rnh8AJlKAgB5k7r4etX+TeevnCwAgMWrJ3lUI7LPCI72LbpSCQCimmZhsMBpS2Ck8Jkv7/78yd/f2fwYjTngwqg8ChEhLQ189KeKd+yDT6y45bRkz7mm/ZHMpATOcH9amC81yGmFJr1VKzbU1usr85SZldqC9hEsNJSxNOgxN6YtmTBzlbaha7vuM4Tb7Qr2HYBS2Wuo7DVODqDhVO99Ts8hM+4iMxzlNDi+19u+beOeOj0FEDKd+xlwP7O9ozBWOR0ukRNxezjuIrn6sx1nOjEQsOjjkyISgoXxwUIhl8mkUchENOXJL3oz6PCoIAQBh8WfrJLaLk/sO/c3JMTrpRdmJSQEfPb5QVfstVpjaZm4tMy5tBmRiDIZFAqVRCETyWQimYySyUSUSCAgCEJAUAIBQZzGFAwg3ntncevrz6fP1FssR8pKdxUVnquptnZnGU+s1Xyflfl9VubwgICl8YmzoqLppFss1zuMEeBD5UsM7neDLjRnryv49aW4e2+P/PdTjaXtHfdjDcW2H8xQryD79kl+0ZebqjEc/7P8ymNxY2Hg0csZLglLyb/eWKKSlKgkKBDKVE3grFpqb8Ya5hV8tbkWw/HjjcVzghz13c6K+mhTtVtQCG523DFn6/dJGZErnpy25ZsjV04W2Hx0MoVksVgxa4vLRUAJi1dPWv7EVDfOpC+RN6m2fH6w5HrV72t3D52UMGV5xtWTBWsfXG8ymh98ezEApE9LcmhBEMQ32OvOF2d//uTGV395eKDfgdxNODN+tt/dexs2OrRbcWux+oZN1REBhEFkU1AahUAlEcgmzGS06o2YTmvpTEwdRYh3hz7PJ3emVtddyjV1Ftyd0nY2eGR2IP2Wz+hwnXh2+HFxZn/Pwg18tvOM3uR85TQuyOf+aekTkyJcEWrsFlwmLcrfq6S+TZxws0pbKZKF+Xa2Uelxx91qxWpqpeXlkrJySXmFuLTUPRrDFotVodTBbaSUSCMS58fGzY+Na9bp9hQX7SoqzJN077vKqq/Pqq9/5/TJ2VHRyxKS0vxupQojI/iJexs6e97tMRelOc/f+Pz1+Ic8IV/Tx2wqy1wQnGS/oqw06b/KPw0AKIIsbBsisjw87afiC1Kj9tvCszEc4WR/J9sa+YrGQDqX00/r8b2c4ZygxLXZR0yY9XBdEREhAACNSJoV6FzLomdjLQxJ/qnoPA7wZf6pscII+0Nivfq30svd/ch9ABklQTe27nrOvWvmDJ+ccPivi4VXK5sa5EaDmUwhsXkM/zDvpBERExcN8w+9ZUpBt4fnzX507fJH1y5vbXlsXZukTARBHFrWbn8GAIaMiRkyxp2ShbcQY73nGDHDEdHWjgxwwDUWpX0l1C4hEch3hzwfyUzq2rQ7lKg7VB3tDUmcriVBbifiOGH9PQU3UCmWHbtR0r4dJRAemjHioenpqMcqZMcE+jg47gBQJpL2teOu1hjKyyXlFZLyckl5ubiqutm9ku23PV50+v2pafenppXLZTsLC/cUF9apulFEWmsy/Z2f93d+XgSPvzQhcVFcvBe9s9yUAcIY71QPOe4AUKGpf/LaR49GLpno05OSpQMEDplmwixLTvxyV+TwNEEQFSWWqpo2lFys1yoA4J7I9GBmm1gpOpH8Rcai+89uNmPWRy9sHeUTNt430pvGtGCYzKgrUzVdbqqu1cr3TVvdkeNuxTGNpWXt1mA1G60WCtr1FcOK42pzy1lGq7UTrclezpBDpk4JiD1Qm39eXG7bc5gZGE/voGhrz8YKZ3mtjBi2ufxKjUa+4PiGB6NHRrG9zZg1R9awqTwTA9wmbtPld9KXkJ2VyPEQ8cPC4ofdDnfuQdzFFOESHslre91Plg4LPHUDHtn7ntAXAmjhve/KgRJ1TddG3SfZbXEyHcLxdYyKBoAapSKYw7W9PlFZkSsWP50xsr2Z2wmiCSkEckeKsbcKf52+4TTK4fUVkxeO7F0hra4I9XES4Vwt7iL6wG2X+F9+O2Pz1yWSbniZg3RCBI//wqjRz48afaW+fldR4YHSEqWxG/XVy+WydefOfHLh3MTQsKUJiZNCwzz31Nh7EjkRgXSh24s+tqK16D8t2nRcnPVIxOJbdCtzin/MzMD4Jy/9813hWYdD0wPiXkya0v6UDO/QjePufvbyDolefUFSeUFS2d6G2LbEbJ688cWsXWqzUW026C03b73fFp79tvAsiYCySBQmiTI3KPHphAmtR6VG7T2nN9nO0lpuXsR3VmfvrM625YYySZQM79APh83t5QztWRw65EBtfo68waZb1V6+vfdjvTJkmkivOt5QUq9VvHP9Zpgfh0z9cfQd3xeePS3ySIpbjyHdFlFhg9y6DOVPCGZE76hbX67J63EnBISQIZg2028lheCR/cBKrUcU+mPZ/fAc26TT/nr9+lsTXFWBdCMEhBDG9C9SVfX90O4Cw/Cj150st983ZZinvXYACBU6WVmvksjbN9rjNsf9j83uLJY2SCsIwPCAgOEBAW9PmHiismJXUeGJqkqz1dVNDCuGHasoP1ZR7kWnL4yNX5qQGMkfoBEjs/xG/1S+w6NDXJcXPXZ17Uy/0XeEzOCSbjHZoqFeQeN8I/ZPfWR98YWz4nKJXk0jkuO5vkvDUtqHX7cy3Cv4+IwndlRnn2goKVSKbcvDfAo9nOWV7h0yMzAuvG1Kq9ZiKld1KM1pxqwyo05m1DXoVA7tpaoOC0xacUxh0itM+hq6k+tRd2doz2ifcD86u1GnAoAQJn+YV3BHlj0ei0xAvxu1fG9N7raqG4UKsd5iEtLYE/wiH44ZLaSxItheA81xH2SQfseb4r864q1Sdc7ppj2l6pxuyRyRCdRU3pgJ3vMFFE9VLLHg1nqdxO3dEhE0qNerQhiOrzl62IrjZ2uqJ4eFr50y7c2Tx5UGg9FieWXsOJsExScXztUqlTqz+aXRY6w4/r/MyyXNzS8eOTQlPGJ6ZBQAXGmsf/bwwXqV6tmMkSODurgq9pIIZtAt7bjnVDXKNY66YTwm7eEZfVEHxumKe02TovOzbittltsbEopOj4yaHhmlNBr2l5TsKiq82lDv+uWwWadbf+3K+mtXUn39liUkzomOYZB7VZPZ7UwWpm+q2u/evLr2WHFsX8PZY+LLc/3HLw6cxCJ1UelgIPDdqJsFIAMZ3HfSulfbhYIS7wgfeke4SxUHR3iHlCx5o3vzA/ClsXtwVivdmqE9BAQ5PetpT4+FAMwLTrKv9NTKy8lTX06+VfMvByYXmg/ta/h9QeCD6fxJ/T2XQXpFFCs5ipWsNMsKVVdL1Tn1+kq5SeLUiUcR1IcSGMyIimYNiWGlkgmerSxRr5N4IjM1iC7svYKZSKNRGA3r5y74+vKlSD7/aHkZl0p9b+LkWpXyvdOnfpo7/1pjg9Zk+nrm7CqFfO3ZMz/Onf9g2tBdRYXvTLj598IkU76YPrNE2vy/zMuedtyD6bd2RcgbFU7Ehe6ZNJRO6YutSwHLSSSzSttFbMWg437rwaFQVyYlr0xKrlOpdhUV7i4qLJd3Q4/luqjxuqjxvTOnZkZGLU1ITA8I9NxUuwWTSJ8XMH5rzZE+GMtgNf1Te3Rfw5mZfqMXBU7ikdl9MOgggwziCkQCkdhppH6jvuqLkhc/TP6TiHR4c3XFZpA+gEPiZwimZgimAoAZMynNUo1FacZMVtxCJJDIBAqLyOOQ+IQ+FO2t1jV6ottQhhsqZvixWESE8PKxI3K9/q7kIf8U5EXxBQAQxObYst3KZbIrDfVPHdwPABF8J9K3ABDNFwAAm0LRdkdjumf0fpOhfymodRKgOyEpon2jJ6A5ezzQdaBv08qg434LE8hmP5E+4on0Ebli8a6iwr0lRc06V/PkdGbz9sKC7YUFIVzu0viERXEJvkymR2frCosDJ+9rOKu1uFqdvpforcYddSf2NpyZ5DN8UeCkWzT2fZBBbidGec0Y5TWjc5sSjZP8vB7YDNLHkAhkL4qfV0/LqboLDyVThTPd4LgjAEar9e0Jk6hEIgBE8gTXRY0AUKtSBrLZABDB58d7+3w8dXrrKSQCqm/roBP6UIo0hH4r6de1p67ZUePIi83oXNTFjVBIRJRAsGJtChfojIOO+3+AJKEwSSh8ddz4s9VVu4oKj5aX6S0WF8+tVig+vXD+i4sXxoaELo1PmBIeQUL7rWAKg0hbGjTlt8q9fTmoGbMcFl08Iro0jB83P2BCKi+2L0cfZJBBukuJOtstNoP8N2k0dJjG0xtCGf6970Si1QLAS0cPm63WSIHguZGjz9RUPXlgn9FqfWXMOABI8/M/W139+IF9ADAxNGxJfEK0QCDSaB4/sG9xXPykMPcr8HQOl8yioRRPx7h6DrHcsYZAhJ/zfQwPwaCSVbo2sTE6YxcqPYOO++0DiiATQsMmhIbpzOZDZaW7iwov1Na4WMvJiuOnqipPVVXyaLSFsXFL4xNjvDrMCPQoCwMnnRRf8dBWZifggGfJCrJkBUF04Vz/8ZOEw2moZ+MsBxnkFgUH/M3ce8OYcfeHvWJr+V/pqzW60oWBD40UTAMAnUX9dv79433mzfa7GwAKVVd/rVz3YPhroYy4Q41/5iovaSwqFok7lDduuu8dth7qdOVfl77cOsSiwIcyBNMcxr2hOH9ZerRBX6W3agHg1ZyVrYcmCxfZunLFphWlWXpU9E+x+rptPons9CnCJXTizbT1a/IzW2q+eSLqA4NVd0y8vUFfhQPuTwuZ5LM4jp3W+29ykH6hUe8Rx90ta89/5eY8NHTYyMAgK4at2P43AmAfvG7DQeqRjKK/L7xZz3FSWLjNffdlsn6et6D3U+oSIVXgoTK0fUD75W0Oo0/LHhMIjtsjaMdCajYGHffbEDqJtCguflFcfLNOt7ekaE9xUbZI5OK5cr3+l+vXfrl+LUkoXBafODcmlk3pU/+ViKBPRa944caX3RIicCO1OvF3ZX//Wrl7kjB9lt9otyyi3Ja8n3Pgz4rMl5Nm3BPRF9n3gwwcEED8aCFiQ0tpbituadBXIYDU6spsjnujoQYAAmhtpPHkpuYjone0VnUsOw3HsSptsclO/tmb6n9v6Etaq7pAmVWguuJ0XAbKimalRLNSzjTt1VpU031XtAZGhzJiXLexITHUf1/+ps6ijmINiSP7NBqqzzUfKFJffyLyA3vfHQBOS/bmKS+HMmKH8SfITJJi1fXfKtc9FPGG26sCDdI3eGLFnYigfIobcqWmRkR+fvH8zsICldH4YGq38/X7hVvacTe2C0/gMvq0IqGhXUQ7ldyFZz7ouN/OeNHpq1LSVqWk1SiVB8tKDpeVZYsaXXSHc8XiXLH4/TOnp0dGLk9IzAgK7rOguVh22LyA8bvrT/XVgE7QW437G87ubzgbxw6b6Td6rHcqeWDLYxcrRYAgMezBMP1B+oIAWli1ttiEGcgEaoO+yoKb49hD63TltqMiQw0A+Ld13A+LtiRwhi8MeIjw73qSGbu5vU4h0BI4wwFAb9V05LjbVEoA4IrspNaiGu8zr33iqSs2Nv6q+VpnUT8Q/mo0K8XWckS09Zh424HGP5YEPWpvmau8NC9g1RivFjWni82Hd9ZvOC3ZM+i434oYMZPC5Bgd0Xu8KFwE3HCTjPf23tAny+Ru5JauSk4mogZTG9/daHY10rj36Ixmh9EBgEnrYrV04FbkGcSNBHM4q4cO37H8jvMPPPz+pClTwyNc1II0Wi17iovu3LFt6u+/bsq+ofN8irqN+8PnR7NC+maszilUVX5e/Mddl17/ruyfck1df0+nQ964vueP8sv9PYtB/isE0MJwwMWGOgCo0ZXSUEYCZ7jEWGfCjAAgMtSQCBRvSpvdKgywOf73EOx2gUkeVv3rhAptQb2+IoGT3uq1A8BEnwUkAvm64pwVb3Mr9aL4jfaa2fo2XTAZAaRe76SA1yADH6nRMRnRLfjcys5rLxGQOf09hZ5Dpzj6Qop2su6eo17q5Nfoy+uiyMzgivt/C18m0yYlacGwHLEoq6H+dFXVpbraLk+skMvfOnXi04vnVyYmrx42nEv1bBAYEUFfjb//yasfqS0Dop681qK3LcCHMwOmCjMm+gwbUALwKrO+QNkYw7m19XQHuYWwraaLDbVB9MgaXakfLSSAFobhWIO+MpQR26iv8aeFOCxABtMiPVQFswdUaAoAIIwRZ99IIlB4JG+Jsb7Z2CikBrW2RzAT7D8LihDpRJbBOiAuTQOEYvUN2ws2ketHC+3PqXSF1KjwRLc+lC4cd4VGv+NC3oXCqkqRTKUzAgCLTgn04sQHC0fHhY6KD3Fa2lxrMJ3OrThXUFlYK5EoNAaThU4h+fFZiSG+8zMShoTffDbGcHzMC9/qjOa7JqW9sGh8a7vZah3zwne2VeSfn146NOqmAPTp3Iqnf9wNADtfv7c3OioCyi3suHux6TJ1m79lqbrv/rSLap0UAgsQdBFzNei4/xcRaTTnaqqvNNTnScRVCoXrJ6qNxh+vZv2Zl7N66LBVqUNpRA/+frwpvJfjVr2V94MnKmX0mApN/Y+a7T9X7EoXJE4RjhjGj+8yj6QPOC8px1zLQh5k4IDhmBEzmzGLETOZMLMJMxutZjNmNtpeY2ZT63/WNm+NmNlkNZvw1nbb6RYTZjZaTX3z9yKkBqEIUWSoBYAaXWkcK82XGowixFpdeQgjRmSoGcof73AKl9w/+e5OUZiaAWBvw297G35rf9TBKWcSHe+jbgmKuJ34ueID24twZvwjEe94aBStRV2kvlamzlWapVqLmoCgDCJbSA2MYCbEsFLQTrX/W5GaPLLi7k11UgKzlbN5lS//dkBraKMWIlPrZGpdTmXjltM37hifsmbpRIez9lzK/2jbKYez1Hqjut5YUt+840LenRPTXlzc8odGQJDYQJ9r5fUldW2KWBdUi1tjP7IrG+0d9+K6JgBgUMkhws4m3yX8W3nFPciLW1LfJuehuK7JaLZQSH3hHmeWOFk2jQ7w7vwst83sqScGywcOdEqkzQdLSw+XlxU1d1id3hXURuOnF85vzs35eMr00cEerMqWwot5NubOT4s29VeiakdYcOuF5uwLzdlcEmu8z9DJwvQIZj/Usboirf6t7GKRUtSgUwDA9upr26uvtR5dHTPu6bg2cgR6q2lj2aVD9fk1WhkRIcRyfFeGp88ISGjfs+uWDlxuqnzk0mYMx/83YsVYYVRvP+EthdqiU5jUCrNaaVIrzBq1Rau16LUWvcai11n0BsxksJqMtv9bTSbMPKCeSLsLiqC+1KAmY4PeqpUaRUHCSBQh+tNC6/TlClOzCTM4ZKYCQF9W2HEBHADi2cOcaoqzSW1WHwkwoGY+oJEaPSKRbsHNJ8U7TzXtsc+LsFGivnG2aR+DyJ7gM3+M16wu3XcPOe6drLg3ylQv/rLPYLIgCIxNCE+LDOAyaBartUGmyqsS3ahoMFmsc9Lj258Y7iewee1hvvzhUUFhvnwqmSiSqc/kVRTWSgBg88lrSaG+M4a2ZF0nhPheK68vrm9zf7dVBmVQyVqDKaeyjVxbUZ0EAOKCfHqp+84h9X8RmB4T6e91PLvMvsVstd6oaBgR49mKswBgNFtO51W0b08O7UKeyG2O+4L5t0b6838QkUa9q6hwV1FRidSdqfSNavU9O7etTB7y6tjxnlt6n+AzDAA+L/7DimNdGvc9CrN6d/2p3fWnQuh+E4XDJvgM86b0aumiW5gxK49MH+kdXqaWZMvqwpheaYKb15pEbpsIY6lRc//530tVEhaJOoQfaLRasuV1V7KqL0jK30mda7+C6LqlAzdktY9d+suK41+lL7tdvXYccLlJ1ahvbjQ0N+qbxQZZs0khNSqajQoT1kcZIAMEf1pYja6kUV8NAMH0KAAIpIVXaAuajPXQLjN1oGFzzSNZSa0pp4O4BZVZZsHN7q1Wa7Dqf6tcV6Et6MRGa1Htb9iUo7h4T+iLHFJnUR+eyEwFAH7H5bcPXS22JSC+tGTiHeNTHI5qDaZLRTUJIU50BRJDfF9cPH5kXEi4bxtl8UdmjVz3z4mtZ7IBYNu5nFbHPT5YCABKraFJqfHmtDjT18sbAGBBRsLmU9ezK9tov9hW3BNCehtjyfa8476r7ttIVmoYI5FBZB8Tb67U5I32nh/PdoOgWVqEk7JZ+7OK+sBx359V5KDgDgAMCtn279gJg6EyrlKnr0EAAmge/7d0Fyar9XB52T/5eRdqa7obR5Hi64cD3qWIJA6wOSc7TyL+ed5CPs1T0asTfIYxiPSPCn8dyCUeqnWNv1Xu3Vi5L5ETMUmYPtY7tQ9k4Ed6h4/0DgeA38svZcvq0gTB76XO68j4tWu7S1WSWYGJ76fOp6IkABDrVY9c+nNb9bUYju+d4ek9sLSnUNm4+uJmE2b5bPiSib4xTm1uRRQmdZmmtkrbUKMT1epEtTrxQP4d9iUBtLAbinMNhio6yhRQfAEgiB55WXZMZKglIKivXYy42yERyABgwSxEtEMHsXObCGbCMfG2MnXuoOPuXnDApUaxkNpmB9KMmVCESOhpVOGm6k8799pbqdWV/VD+1uOR7zOJHQZveChvikmkd3RIqW1xzhKducgMKnlySmRH59450Um5AASBZxaM3XUx32i2FNoFSSf+6/0X1ze3Ou43KhsAYMGoxL/O3JBr9LXNiiAvLgBo9EZbZmSis2eGbsH2fMZXkTqLQ/bOUZxeGfJKk6HugfD3t9R84hbHPSXcn0Ym6dtqMu7PKlw9c0SAwIMhQHqT+ceDF9u3j0sMIxO72OIbdNxdZXP1+gBayF0hD/b3RLqmVCrdkpe7s6hAYXB8mOscBpk8PyZ2ZdKQeG9vAMiTSDbl3NhXXNR5HdZskWjR1r/+WLTEVpDZEwznx3+S8sx7+evFBpmHhnALOOC5yrJcZdkPZdtGeQ2ZIkwfwoseCOGwBYrGM+JSPoXR6osDgJDGXjd04cIT339ffHppaBqZQOyWpQ0SAQWAcnXTg+c3aS3Gj4YumubvZM/3FsJgNZWoqwtUFSXq6jJNrYc0KG4D/GmhZsxUos4Oore4HYH0CAzHitU3hJRA9665OiAg+zboqyq1BXHsDnd6O7eJYCYG0SMLVFeuyc+k8ca1thsxvcwoHuDplQMcqUkkpAaKDXWZsmPlmnyJod6CmxFAGES2F8Uvjp2WxMlwGqHklEzZiVJ1TjdGN4o2V3/xcMRbHV141Wat6725DpPUoePeWonzhwMXP75/NoPqkqRb59DIpGBvbmlDs9ZgslgxIkoAgCBvLptOVekMJXVNY+JDAaBSLFNo9CwaJdLPK9JPUFLfnFPZaHPci/8NhU8I7u2KOxFBPV08NZKZMtFn2a66b/99CESpqHueFigk4uSUyH2ZhfaNVgz7aNuprx6e37sYos74ZPspsULTvn3W8Lj2jQ4MOu4uobNqa3RVAbQBIVDYETqz+UBpyZa8nGuN3S47muDtc0dS8oLYODrp5u020cfnoynTXhs7fltB3ubcnEq5vKPTa5SK1Xt3b1t+h+diZsIYAV+nvfRp0aYsWb6HhnAjRsx0UpJ1UpLlQ+VPFY6Y6pvRlyE07TkjLgWACb7R1LarjzFsYTjLu0LdlC2rG+4V2i1LG0wipVYrv//870qz/oO0BbMDb0llayNmyleWX5cX5yhKK7T12ICMyxpo+NNCEUBK1dkTfRbaWnwogWQCpUKTn8Ib293eitTXDVatwaqz6b2UqnMBgIrSKQR6LDvVwQnLEEzNVV7aXP1FMncklUDXWTWJnPREzohu2dwZ8syP5e9sqfnmQvMhP1qIFbcqTM3VuuJk7qjlQY/34AsZxEadrjxHcfGa/Ix9Iw64xqLUWJRV2qLDoi3p/CnTfVcwiF3I3uGAnxTvaN/OJ/vwyN4YjsnNTbY8Y3vKNflZshPp/MlO+/TYinuHe87Th8b8dPBybbPifEHVrDd/Xjgqcf7IhDBhb+Uj2f8W+LRiLY47AMQF+VwuriltaHHKbQHusUE+CAKJIb4l9c3ZlY2zh8fBvwHuXCbNvysNE1egE6keddwJCGFz9YcEQLfUfASAVGpzdRaVuzpfODLRwXEHgDN5Fd/uv/DEnFHuGsWejcev7LiQ1749xIc3Jr7rIMNBx90lClW5Ay0/0p48iXhLXu6e4iKNydS1tR1UInFOdMzKpOQU3w7XP9gUyv2pQ1elDj1eUf7VpYv5TU7UiwCgsLnp9ePHPps+o3tT7w5MIv2txIf31p/5tXLPrRJPLDHINlcf/LP6UCovZobfqAxBcr+o0FRqmgEgnOlE1iOc6VWhbipTN9nccdctbeCAP3rpzyaD+tn4KfODhnhm+p5CZJBeluZelublK8tv6VTRfoFMoHpRfJuMjUH0lnwGAkIIoIVXagv9qaHd7e23ynX2z0u5yku5yku21+uStyBtE1ujWMn3hL5wQrIzV3EZAyuXJEjkOEZwdWnDJwufjv74tGRPvjLzquw0kUBkE/lpvHEdOXyDuMgx8bbODTAcuyQ9UqK+8VD4G7Ygq44o1+RJTW2yXX2pwcuDHw+ghbe21Okrjor+LlRdtTc7KvpnKG8C6iwfWtPnoTJkIvrDk4te23joRkWDUmf47diV345diQ8Wzs9ImD08tstqOzVNijO5FYW1ktpmhVJr0BpMBrPFZLaYLE4uWQkhwsvFNcV1LQ8ztgD3uCAfAEgI8d1xIS/33/zUoromAEjsKpzaRegoVQoe3JxcGPikytzMJnkhgKgt8izp4cm+K93V+dDIwKGRAVfL6h3aNxy+bDRbnpk/xqlSZ8/AMPzrved+O+a8xtx9U4a5ssbfF457vVgRIOTat3y1+dSiyUOCfHu+BilVaD/ccOSzFxa2tlRqyz4pfnum74Kpwtn7GrdfV2SpzSoemZ/OHz1NOJdkV/ayWlf5UdEbQqrfW/Gf2PdpxsxP31gFAN+l/WFrKdMUHRMfrNNXy0zNAHBBeuqC9FSr/Qzf+fP8l/b4I/QetdG4p7hoS15uR850J0TxBXckJS+Ki2dTXArFRgCmhEdMDo/4Oy937bkzKqOTZ+udRQX3paQmCT1YvBMBZF7A+BRezBfFm0vU1Z4byL3ggF+TF12TF/HJ7Gm+I2f4jerjBXidxQQANKKTLVoakQQAWouxu5Y2Ps8/JjGoAeBAfd7dESOoHcccDxzq9ZIzkmtnm65X67q9N/UfZ+f5vD0X8pVa/Y637wOAF2O/djB4NPLd9mfFsYd+POSfzntel7y1WzNJ5IxwWGLv0gbH2iy+WCyYSY3M8F05069DDyCNN84+kKaVNxM22L81GswkMpFA6P+gOLdzKre8QiS7f+pwt/csM0m+LXv9qah1neiElqnbrEoSEdID4a9ySG0yNQNp4feFrTnYuPmUZHdro9IszVVeSuGObt+nztK9CFJXoKJkYqeiSQECzm/PLT+bV/nHyWuZJTU4DgU14oIa8dd7zq2ckPrAtHSnVe4lCs0HW4+fznUiPIISCAQEaZ+9Zot7qZLITBYrmYjeKK8HgKRQv9b/l9Q3601mGpnkrsxUGzTUs6VdEEA4pBaRRBaRN0m4wr39Pz1v7L1fbGmfDLjpxNW8atGLi8fHB7nBsSmoEX/w9/H8aufKS7GBPvMzupZugz5w3KUK7ZbD156/p40s3dN3TvDQcNW6ii9KPxAbGoLpYQKyd5W2fH/jjnJNyRORL/UgM8aCW5hEViwrsdFQV6ktE1L9Ihg3s+5C6OGdnOtRrjY0bM3P3V9S3Hn0eXvIKDojMmplUnJ6QE/kCxGA5YlJY0NCH9qzq9CZpuS3WZd/mNNhfqS7CKb7fp763K66U5uq9hux7m0y9C8yk2pLzeG/a4+O4CfODRg3hBvdN+MyiRQA0FucfFc2T91m0C3LVr7NuOPPiszzkvI3ru/5ZNhit07cnagtupPirGPizHJN1xXHBnHKwtGJw6IDn/52V39PpCf89N3x1U9Msb02Gi2vPPvnkLSQSVMTg0IEnZ+oVum1WqOvH7cjg02/np04JSEiyoNrFv3FhKSICUkRHupcY1Fuqf1mdcTbHcWj1+nL7d/GsYc6eO02EEBm+t1Zr6+0j4a/Lj/j1HE3eOCW0clyuz1jE8PGJobVS5V7Lxfuyyyoa1ZqDab1hy6fyinf8PRSDqON7yvX6O/+9C9bGHSQN3feiPjkMD9/AZvLoNEpJJRAuPvTv3KrHAUkbOo0GIZXieV+fFZNkwIAUsP9ASDSX0CnkHRGc2GtJDnUr1Ika7XvPXSiZx33Ck3uFdkRE9ZS0/Su0Nfd239ymN8d41L/PH29/aHr5fUrP/5zTHzosrFD0qODnT5idY7JYj2XX7n9Qu75gqqObFAC4bXlk13U5ez2DA6eKzh6sYhMIo4aEjZ3QtInvx1TaQwms/XJleOCfHnnrlccOJNPIqGiZtVDi0dxWLRfd14qr2t+74dDY4dGTBgeBQB/Hriy83jOumfnRQR6OdgbTJaiCtGDi0dJZOqPfjlmW1D/fuu5eonCYDQ/umJsRKDXh+uPaA0mDtP5r6RAlRNCD38/8SsmkQUAMlPzFyUfFKnzzjQfm+A9rbsfNpaVGMtKBIATkkOV2rIIRkz/JqfKDYadhflb8nLLZN3O0Qzhcu9ITF4an8DrtfyLP4v199Lly/7Z2t53P1peJtJofJkeF4dCAFkYOHGMd8pP5TsuNGd7ejj3guHYRWnORWlOMN13fsCEScLhZIJnF6oj2N4AUK52ogfaEhvD8u6upY37o0ZP9I0ZKgheeuqn/XW58Vy/VZEeCQrsDQWqiv0N58433zBj3XvQHcQVcisbv9p5Vmc0s2iUN+6cEujN/XH/pWNXS4gogU2nfvTQbC6TtudiflZx7Xv3zQAAlc6w+J2N+99/oLiuyeHEbo1bWy3VaAxCX05JUeOwEREoSijIq2uSqBKSAr192E0SFY7jpUWi4DCvoGDBlcvlo8a0PCcrlbrL50vpDHJMnL9fAA8AJGJlcWFjQlIgX8AEgLpaWWlRY0AQPzrWT6XU796ehWF4TJz/iFFRTZI2ltVVzY31coe1/H7niR93jYgOul7R0KzSfv/YIgaFvO1C7qGrxRiGDY0KfHzWqM92nTGYLNmVDZOSI4/eKFmzeGJ6dNB7W49XS+R6k3lUXMjjs0YBwJaz2Xsu54+IDn563hgAyKlq/PloFkpApGqdP5/94d0zu3QzOCS+gOxLRekW3Kw2K8TGWocEkgpNQSfx6M3GNo5pGLPDvD0EkLn+935e/HxrS5kmz6kwpdHqfsedgXbjrhog4DwyK2P1zIzTueWf7TxT26QobWj+dMfp9+6ebm+24XCmzWufkBzxyQOzSajjir7V2a/Ol8fis+gyta5CJFVq9bbhvDgMACAgSGKIb2ZJbX61iMugmq1WcN+KO9mTyegAcELy11z/R2huSkh1ylPzxlyvqC90VsoUAM4VVJ0rqCIT0WFRgbGBPsE+PFuOrwM4DnqTWWswSZSaBqmqrKE5t1p0razeQbWmPY/PGZUU6uq/Rfccd4Vav+NY9o9vrbA9Fpy+UsZmUl9aNaWhSfnF7yc/eX4BAGA4/s5js8rrmn/deen9J+esnD3s0LmCF+67+We5ctaw8pqbboG9/YwxjnoUuSUNOoPp/Sfn1Irk3/x55q45wwCBD56cc7Wg9s8DzoOElgXdw/w35YVP9pofsOyXym/PNPXEcR8g4AAXa2u25uUeLi8zWbsXiYsSCFPDI+5MGjIqONiN+7gMMvmnefOn/v6boe2SPw5wqa52QWzXadFuwZvCey3+gWvyog3lO2/FsIcaneib0i2/V+2b5T9mrv+4HpexoKJEAFCbO9wCnuQb83n+sdPiEr3VRENvhsEUK0UV6mYumT6EF9hdS3vYJNo3I1bccfrnz/OPxXJ8bSKV/Q6GY+eab+ysO1Girunvudy2mMyWtVtO/PjMEhaNcvRayUdbT37zxMIlY5MenpWBIPDNrnP7LxfeOTltSlr0N7vO6Y1mGoV09GrJhCGRAND+xG4NveWPC6lDQ7/+9OC4iXFajWHsxLiaqia+gPXua9u+WX//9SuVp44XLL0j46uPD7z70TIWm7b+2+Of/u9uALBaMARByGQijU4GAHGj4ucfT86am/rZ2n2vvr0QB/zbLw4vv2ukRKyMjvUzGs1ajZHDo9PoZLFI8YudpUyq+eWHE3MXDs26XD5pWqInvt4eQyYSP39gru11bbPi4JWiDU8uRRB4+H/b82vEAJARExziw1XrjS8umnCxqDo9OujlJRNIKIph+Iy3Nzw2cxSCwIqxQ1hUclmjtLXb4vqmPa/fRyaiq776u0IkbdVLcQBFiGO8Zo30msYnt1nQNWHG6/Kzx8XbFOabfZ5rOtCR426wtlGAEZA7Wx72pQZHsZJbF93NmKlGVxrOaONU4IB7Ij+KSOh2iS4EgQnJEQkhwgXvbdQaTCeyyxwc96ySlqvW43NGtffacRwaZM6zM+ODhefyK6vEsialBgBSwm8W9EgO888sqS2oEduEDn15LAHLpb2CLiERPBu+wSV5C6meFeOmkolfPTz/rs/+kjgTe7FhslgvFFZfKOwwTPfP09edLtt3zvS0mFVTuhGN1r3vukGiDAsUtC7m14jkYQECAPD35jQ2t/yGwgMFAMCiU/RGl/48nNq3Rm5VNcqyi+tf/2YfAIQG8BskqmBfHgAE+XKd9kYhUEMZbfb1EtmpCCAiQ4PGomZ2lcM+0JBotdsL8rfm59You532EcBiL09MWp6Y6E33yENqAIt9X0rqD1eyHNr70nG3kcaL/d/QNUdElzZV7/dQcQ2PojRr/qo+tL32+FTfjMWBk4TULjbu2xPJ8gGAi00VIr3Sl+ZEejac5T07MGl/Xe7r1/Z8kHZTnf3la7sA4KHoMRSU2F1LB6LZwg/T5j+b9c9zWf/8M+HhQHp/quhgOHZScmVLzeEGfa+KBA/SJWUN0hqx/KHPW0LYbWt75/Or9l8uZFDJdc3K8ckRAECnkDLiQk5ml81Kj9ufWfTMwrFOT+wWVot10rTEK5kV6SMjr1+pJBFRlIiWFDVoNUYMwwFgwuT41GFhV7MqJRJVTJw/6d89br6AGRsfUFoiGpIaAgAXz5dq1Yazp4tUSl1ZqSg5JYTLo1+5XLFgyXAA8PZhBwbzvbzZQ1JDdm3LsresqpBMmzlk2IiIzEvlncyzX0i1KytTIZLVNClWf7vd9tZWjJPHpCl1BgqRSCGhRovFaLZ8vP2UzmQmE1G13ojhmNM0+rhAb5vINJ9F1xqdL11TUfpD4W+0ioTaQyZQRgimJHFGbKj8oE7X8qWJDDXV2uIQuzDUVgxYm0RSFqmLq0oCe7h9tEy9rsLBcTd4YLkdAJxmwbqCN4cZ4sMrqBHrTWYMx+0jJXT/ekQsZ9mr5wsqFRq90z4TQ4Tn8ivrmpU2Nyol4qbjPiTMDwCK65qjA7zBfXEyAED2sONuwS1/VX/kQw22RVW5Pcbdhg+X+fNTSx/6ZptI3neOxOj40A/umdEt3cnufdd+3uzKeimOg22MMH9+XlkjADQ0Kf28WhSFHGJ0SERC5x68vT2NQtLoTABQ09CiPBjqx48O9Xn94ZYn0RvFddeL6mwjOu2NS+Y5RMtRUSqTyFJbVFJT063iuGM4fqa6akte7vHKCivWPWU6FEHGh4bdmZQ8PjSsl3WMu2RxfEJ7x72o2Z31WV2EgBBm+I2a4DNsd/2p7XXHtRbnV7SBjAkz7284e7Dx/ASfoSuCpwfQfFw/N1UQNIQfmC2rm3P820SuP4oQ5CbdirDhy0JvKli/OWR2rVZ+sD7vnKQsnutnxqy58nozZp0TlHxvxEj73ly3dGB6QMKDisYNpeeevLTlr/EP9lei6rnmGxsr9w667H0DDuAvYG957a7Wlmqx/Pu9F7e9eQ+DSl5/4HKr9sXcjPiNR66kRgYo1LrkcL/8arHDiT2AQEBQAgIAOA5HDubodKa77x+Xc6MGx3EAaPXUO5cEo9HIE6YkTJ2Z3Nqy5o35VRVN77+x/csf7gMABEFsHTpYNtbL9XoTABgNA07kyv7iH+7L9+OzfnhsEYGAWKwYgYCcLah0uDlkltYqdYZP75+j1BkOXSvusFtn8hqtLriNZUGPOfXaW6ETWfeEvvhJ0dNmrCXTvUJb4NRxd4irISFdKKBHMtvI0YoNdQ4GHhKPInW64r7l9I30mCCH6qc28qvFJfVNABDhK3C4XwcIOHXNSgA4l1+5ZEyy/aGS+qa3/jjS0XC2upv1UpWtKmfbFXc/AKiWyCtsAe69VnBvheThaM9U3kSP9t9KkDf3t2eXP7t+T0cxM+5l1rDYd+6a1qrm6SLdc9x5bPrc8YnPfbKDTiUNTQheOGnIpZyq177ZZzJZnlw53ukp4QFeTXLNq1/tnTUuYUxquFKj37DjYk5pg377xRHJIQJum9iA5Cj/P/Zlvfntfm8e0/YjTor2v5xb9epXewFgVErYnPGJe0/lvfbNPn9vjlOv1GnVDzKBAgDGW6HeYb1a9U9+3t/5+SJNtx/4hAzmsoTEFYlJfqw+ej6J4PF9mUyRps2+klzfb04zFSUvD542y3/M9trj+xrO3IoVLjEcOyHOOim+Mt5n6B0hMwJdc98RQH4ceeeXBSdOioqvSmuoKCmQzvWitFnCZJGov4+9b1P55b21OTdktSQETeYFLgsdOicoyeFZ13XL9jwTP7lIKTonKXvt2u7Phi/p7sfvJeWa2h/Ld+QrB9zy521MpL9ArTdeK61PiwrAcZCpdWq9kUWnMKhkk9lyJqc8Iz7UZjk8Jvi9zcd2nM2dnRHv9EQBu1e79v4BvM2/nWuWqAx6RzdaJtWcOJJXW938y48nFywZbgtPb2XClIRP3t9TVNhgNJiffnGWtFm9ZdMFBoMSGNziacXE+f/07fGCvLq7Vo2ztxwzPvbDt3eWl4kbGxS9mbmnCfLiLhmd/NC321CEgOH4/1YvaG+TFOK74XDmEz/s8uIwov29AcCKYW9sPlIpkmkMxka56pGZHT605yhvFoD0o4V2qfYDAFySYBhv/EVpi/dZrS1x5YN06R16U/1RhGjFWwI4ZSZH38tDJRo6X3H/51zOun9OBnlxUyMDwn35XAaNgIBMo8+tajydW2GxYgBw75RhDmfNHh57ubgGAD7ZfrpaohgaGcCgkiVKzcXC6sNXS8gkdHh0UFaJkzx7W9h6eaNUYzAyaRT7cCYOgxrsza1pUpzNrwS3rrh7epUwhnXz+7kiO+rRsXx5rN+eXf7x9lPbz+d6bhQiSnh01sj7p6b34JtrWUi4DbDJQXpThO8kfOZw6KWcxzQW1ZrYd206MB3JQWotmhdzHgE7OchWTkgObav7Y5RggoeSUy0YdryifEte7tma6vYCT52DAIwODrkzKXlKeIQb1UZdZNWuHaerq+xbWBRK9iP9X75EbdburD+5p/70rei+2yAghCnC9DuCZ/hQe1uq47bHYDVtqtq/p+H0YO0kt/N6woMjBS0Lfi/+tK9JqSmubUqLDEiO8F89OwMACqrFn247rTOYMBy/c1LavJEJr/96sEosZ9LISWF+CII8Pq8lX/nbPRf+OnFt+1v3Cnms9ifOH+WSFFonmM1WIkpAeiTLaDSYyWSi7VyLBbNYrFTqTTfRYrYCAJGEOljaDtnaXef7sn/2NZztwSQ7Yf3wN/xp3l3beYD/lb5aoyu1vZ4sXDzd16UwhkLV1V8r19lee1P8X4z9qr3NS9ltBJdfifuOR+7iM35S9FSTsSXfyYca8ELMl/ZH5SbVXZfcLEgCAGm82PeSHuvo6NIPN5U2dLgRTUQJj80edf80xxBnDMdf/e3goatOdj94TNoXD89rlKlf+e0AAFz+4kkKqc0i7PTX19sSW0fHh377WJvUkTc2Hd57uQAAEATOfPyY0zicHvBd2d/7G865patWfhz2WiBdKDU2Cih+YsPNPKWTkq0rgl9071hOuVJa98HW45Vi99drjwvyeWvl1NjAbuyr23O7FWBSmGUYjtkrPxqseo1FBQCCf//gbaF75nYZKrJ2Bdj6jFE//9Ss63ZVCD6NtjQ+8Y6k5GCOk7DmvsGL7rhIputmESgPwSIx7gmdszhw8t6GM3vqTyvNHaabDFgwHDsiunRCnDUvYPyK4OmMjivz/cfJUZR+UbJZYnD/5XUQBz55eE77xvgQ4S/PL7Nv+eD+mU5Pf3zeqFYn3umJvYTUTQfaHoqdm04kEojENosg9q65vaXDof8mKsvNotr+tFAXz/K1yzXUt01C7Q1csner466zOF72rf2x4v7Dk4sPZhVdKaurEsualFqDyYIgwKRRQn14w6IC549McKpPQkCQdatmjU+K2H0pv7BWrNGbGFSyP589JiH0rolpXCbNh9Nh6dCEEF+xogwAhoT5OxxKDvOzOe5BXlx3ee0A0OVmbI/Jkh2a4bfqr5p1wfRYW4vIUOmhsRwYFhW4/dV7Dlwp+vlopk09s/eE+vBWz8yYMTS2N1sUt5vjbsbMpZrCGNbNlZsc5TUA8KMGtAa4M4lsAFCY5UbMQCHclJXMVd7oqFsSgQwAeqtHKq4BQHe99hEBgSuTkmdERrVPNu9jGGTHoEMqaQCV4GEQaSuCpy8KnHRYdHFn3UmxQdr1OQMMC27dUXfiqPjynSEzZ/uN6UE5gtsYC279o+rAttpjA7mw8SCD3N5ozDdTzhgo28WzaOjNgCU3Ou7293Qj5ii05aEduc5VZQQs+l2T0u6alNaDnmcOi5k5zEn0PwD4C9g3/ves00OfPzS3ow6Xjkle2jZi3i147sY0w28VAAznTx/tNd/Wsr9hQ6dnuBMCAZmTHjcnPe56ef3ezMLTueVSdU/8QCaNMjY+dMHIxPTo4N5HFd1ujjsA/FP3x5ORazgkLgBITU17Gv4GgLHeU1oNuCSeF8Wn2SjZXf/30qC7bU+KZZqiY5J9HfXpTw0AgCJ1ntwk5ZG7LfrhLjgU6qK4+JXJyRG8gRI70T53lknqIn+o7yETSHP9x832G3NBmrOz7kSRqqq/Z9Rt1GbtD2XbDjdeeCRyaSLHU/VQbi3kJtUHBT8Xqvpo9WWQQQZxCooQLXjLDjYGrmZ/2lvi4DZ/mkS4uYrcGuzeCuKZUGzPrTffKnj6G2j12gFgonC5R8dySmpEQGpEAL5iSmlD09Wy+uI6SUlDc71UqdQ6V2GmkIhCLjPS3ys+yCclPCAl3L+7Gaid4MRx11oMi899qLEYAOC7YY8lc0PdNVgfEEIPN2KGN/OfDaGHI0Co1JZZcHMMK2GcV5vSrfP8l/5S+e2ppiM5yqs+FD+VRdGgrxspGFegylWa5e27DWdGhzEiK7Vl7xasCWGEEQDVWNTjvCePadut50j19VuZPGR2VDSVOLCetQztSrcyyANoxd0eAkIY45UyxiulSFW1p+H0+aYbHlIY8ByV2oY12V9N8814IHyBi7X6bldK1DXvF6yXGrstkzrIIIO4FxqRYTS1aBLYAlNdQWu5KcBAJjiJ2WjvdrsCity8ReLt1tedalz2Hgt2i91KbmnoaL/JAyIIRAd428Q0bZgsVplapzOajGarFcPIRCKVTGTTKFymB0NbnXiBDCL10IR3RQb5knNru9ud2qwnEVAq2m9rrgSE8ELMW/satt1QXNFY1FwyP50/erpwHqFtCNow3kgKgXJEvL9OV11uKfamCJcG3j3BZ9rXpeucOu4III9Hvrin4Z8cxbUyTQmZQBKQfdgkj0eWM8jkBTGxdyYPifXqn6yjLtG3c9x9GB4vm9pLYtmhsexQWfjCA43nDjVekJtcvdMMEI6ILmXK8p+IXD7Sy/07nrcEWbKCtQW/GD1QurzfIRGIVAKZilIoKJlKIFNRMhWlUAlkyr8vaLZDKJlKoFBRMhUlU/59QSVQNFbdY1e6fd0eZJDeQEeZCmjJEKvVlaVwR7tyVr3+pvqTfdhMK64/A9hjsbsskAmOFdYJ4BnH/VZbA7rlWF/+ShxnRAp3ApPI7e+5tIFMRH15ff0g0eHybc8ilr4o3jVRmDzWu7fiAD3GjJnpKGNZ0L3Lgu7t3DKJk5bEcYw5ezrqlY7s6ShjRdB9K4Lu6/0kXSHRx+eOpOT5MXH0gRQy3h6J1jE2MZzXn5V3XIdPZt8VMmtF8PRLzTn7G8/lKEr7e0bdQGFSv1+wYbIw/ZHIJXTU8eZ0e3NScuWL4j88lGTmCZhEuoDC4ZJYHBKTS2axiQwmkc4k0ZhEOg2l0lAyDaVSUQoVJVMJ5F6GiuLGWynWX6M1Tr/3m/PbXujuife/tOnhO8ZkpIZ5YlaDdBc/WmiDvsr2Ok95ebbfXQQXChLlKi63vpabmq7KTw/ltRGVbu2zFSPWtdawwc6G0u7a6KFQbOug4+5h7g9/v1Kbe1qyDQNrFDM1mjXUld/Y7Yo74y4wHL8iK50o7N9VwFvpvtUeGpE4JyZ2ZWLyEF+3VUbwKHUqx0WRW8Vxt0FE0DHeqWO8U+t04kOiC8fFmSqz29KkPM1xcWaBquKVuFURzKD+nksfcVpy9bOiTQMzFZWKkv1p3gE0nwCaj5DK96EKhBS+gMIhe7g0ySCt4BjeMy1IF1k59sPVr8wZP8v5Pc7Tow9YQujRV2WnbK/lpqbzzYfGes/u/JQ6fUW+KtO+ZWfdBh7Z277Q6TX5aYez7KNrOkJqFLW+pqKO8YSeCpXpUVTPIK6DImgkM8WfGp6nvHBdfvKS9EC6YEY8O6O/59U/dNtxPya6sbHyeJ1eKqRy5wWMWBE81vYI+9iV70rVDXqr6ZXsjTbLe8MmPxQx3c3zvX2JEghWJiUvio1nUdym0ORpcID0gAAH4flh/gEd2XsOg9FMJhEJHdw1Oz9qI5AufDB84X1h8y40Zx9uvJCtKB2Y3qEDjfrm565//njUsmm+ndU0dTsXj+aXFzbc9dTUPh1UmvNZ8QDy2r0o3ChWcBQzOJThF8rw96HyB3PU+oaOUgxXz/vy+91Po+5LAusW/Tt6PxLJTEQAaf3D3N+4iUFkpfHGdWQvMdRvqvrUQeDFhBk2lL8/xnv2EO4oBsrKkp/MVlxwOLHRUB3B7Gw/32DVS03i1rdeZD8HAxLBI0lit0eM+4cFa1J46bP8Fvf3RJyQrThdoLxERRlD+VPSBTMw3Pp71XuDjrtLXJaWfFy4/cW4RXHsoBpd07qCfyyY9Z6wSQDweeqDRswy+/TbbyetHO0VDwDE//BGRnfZumT58IB+8Hd7CQLw5YxZ/T0LAICNWy9OGhsbFea8nEHnR+0hIug477Rx3mlig+yY+PJx8WXxgFcHt+DWr0r+qtQ2PByxqC8dRw9XynOkRF3zceHGfo+QCaH7JfOiEtkRCZwIHtlV5bvbknkPfr/t+4d0etOcB7779NXFGalhq178/eNXFl2+XvnH7kyj0UIiofcvHTVjfDwAFJQ1frb+uFyps1itE0fGPHt/S1o/ESX8uSdr77Fcjc4wZ1LS6pVjAaBOpPhs/bHaRjkRJSybM3TR9BQAyCtp+PiHIzqDeWhSsNMyjVKxqraiqe8+/0AavX/xovhFsYaUqG/Y3mK4dUvNN9fkZ0d5TQ9jxNHQlhLOOOBiQ+01+ZkLzYdNdkKNrbVOLbj5lGTXKcmujgYqUGaN8ersjlOsvo7ZRa3YS8XbIBNIBITgdlHI/0iMu86qJSJEp5nEnq58p7UoFwQ+3poLQUDQVJ47pUGsVkmz/Hmh16YB26E93XPcf6s4ujho1FTfVAAIpHvND8zYVX/J5rhT0ZboTAqBROu/5NRblFvRa+8NOA75xfWSZnVSXIC3gAUAtQ3y4jJRoD8vNtIXALQ649WcGhaDkhwf2CzTFJWKkuIC+DxGk1SNYXhxuTg0SBAcwAeAqlppvUiBYS2LPeImVatx+6OuI6Ty7wyZuTJkRrai9Jjo8kVptsE6oFMh99SfbjYqXoq910NLSu3Ju1L56YtbmkXKx95a0FgrK82tu+upqc0i5Tdv7Hhn/aqdv57l8BmT5qdZLNY1d/7w2dZeFdNtNirezf/J1K5oWt9AIZBTeTEZgqSh/Dg+ud+KnQ00osOFZdVNkmZ1+pDQG4V1Q5OCNTqjN5+ZkhA0Nj2Sw6JV1UlXv/anzXH/a/eV2ZMSF01PMZutTbKbZXEsVsxksv719f1SufaOp36eOSEh0I/3+qd7Xnlseky4UK013PfC77HhwtgI37e+2Pf43eMnjYrJK2l49LW/7GdiMlqev/OHmoomAJiX8qatce+NdwkooTin9vdvjpXm1VksWHiM32Ovzw2PbVmFdYh7WTLi3ec/XDJycrzJaPlh7b4rZ4rVSr1Bb6IzKVPmpz36WoswtqhO9vydP5TmN3gJ2fc9O33cjKRORvfclz/QGO89t9Vxt1GivlGivoEAwiCyaSjdglu0FpUJc1LHeprvsmptSYHqSpejlGvya3SlwfSojgzONO21fxtAd5IFQSGQ3F5O+/ZYce+Sf2o3pnLTk7nD2h8yeuzifEy8eYrwThrKcshgHsLtcEvntqd79/hyjShXWb2p6qR9owW3Di6uD9ItzGZLVa1UwGO+vnb3j5/epdEav/rp+J2L0yVNqthIX4PB/OqHuxbNSm2UKIXe7A2bz82Zmrzum0NvvTDnyo3qE+eKViwY/tl3Rz58bZFUpvlp05kFM1MuX6ucMj5OJFH+tOlsq7FUprU/2oN5IoCkcKNTuNF667ILzdknJFnZ8pKBE6rhwIXm7Lfzf3wr4eG+Carm8pkvfLKiNK9uy/cnxs9JcTg6ddGwL1/9Z9L8tJxL5aOmJvZmICuOrSv8te/FfwgIYRgvfqJw2AhBIoUwuBjhSEK0X0mFpKK2ednsoZt2Xi6vbooJFwJAdb30rz1XcBxHANFojVYrhqKEOZOTPvnpaHGFeNaEhCFxgfb9LJmVCgACHiPQjyeRaogoWl7dtGbdzlaDmgY5h0VTqPSTRsUAQGK0f4Af174HMoX4zbYnirJrn73j+z033rUPVmFy6BNmDXnmvUUkMvrzp4e+fGPH1/908Qy5c+O5svz6n/Y/SySibz32u18Qv9VrB4Dtv559fu3SuJTgw9uvfPbqtiHp4Rw+o6PR/ztEsZLT+ZMzZccd2nHANRalxtKhbKs3xX+M16wRgqnflLxsH+ViTxInQ2yolRjrccD/rP5qdcRbPLITmbWTkp21urLWt0SEFM0a0t6MgpLd7rjrrM7FvG8ncMCL1Xmp3HSnR9uXoncXEkMNAFRqc1N5E12x1+i2aXW7EIRCo05iMVZKFa9gmALHjTzOGyRiuM5wVKv9GxCy1VrHZb9IpYxplj+PYxoCejM3T65ca7FW45iOy3lVrf2NgHDNllIi6mvF5Az6QofTHezJpNj2HbqdbjjuGI4bMNNDEdNn+rd53hogXnsYI/K7tD/6exaDuASRhBJRQlGZSKszYhjOoFN4XHrm9apFs9MAIK+oPmNo2PhR0QCwfd81jdZw+mKJUqUvqZAAwKQxsUOHhFzJrpY0q67n1syYlJieGnbpaiUAnM8stzeurG6yP9obaChlsjB9sjC9ySg/Ic46Jr7coB+I2+I35MXv5a9/K3F1H/xV+gbxASAg1EvScFNBtXVzg8mhMdg0lVx7+WThikcn92ag36v29XGVJR6ZPdtvzHS/kZ5bXzdhpldzX30o/KEYlvOyiAOfxCj/s1llJZXiJ++dsH7L+YIyUUKUv1Ktf/3Tvb99ek9IAF+u1M154Dub8YiU0L++uv/slbIfNp/1EbDeeXZOaz9M+s2ddxzHcRxHiYQdP6y2T0qpFynsh3YaKuOUgBBBQEhLybyZS9PX3Lsex/HOq/CU5NUnp4dRaWQASB0Zeflkof3RKQvSRkyIBYAlq8b+/tXRqlLRkBGDBdEAAOYHrGo0VNu7zl1CR5l3hz5PIlBIQFkd8fYvlWtFhhoHG19q8KLAh8407ZVI6gFAZhJ/Vbpmks/CIdzRHFJLIUKZSXxSsuuy9Jj9iTHsFArBiZY21QMP4RqLp6qqA8DppsNnmo7KjM1UlBpAC1kadK+Q6m87dEpy6HTTEbmpmU/2niKcM8qrxbV1iFY/0Lj9hjzz1fiPbG8Pi3ZdaD6pNCtsEUo0lP545MshjAgAMGOmjVXf5SqvEhFiHHvIsqD7aCgdAL4sebdOV23EDOsrvrB1Mt13wRz/pa2TNGGeSs/1oQZ/X/aCwiT5vuym/NSjkZ86NbZiMrVmo5/PbgACAOj0hwgEroC7zmKpkSnf9BH8BgA4YD78b03mIqX6SwShIIB4CX40GM8r1T8AgNGUheMab/4PZkuFXPkeSvBmMOYrVB+zmQ9LFa87nE6ljHGw57Aec+jQE3TDcScgSCTTv1Ij9qE4v5kREAQBxNLfQaiDDHwOncjT6c2rVozKzq/FcZxAQF57ZlZldfNbH+/57qOVFApJo21ZEaHRSJPGxs2Y2JKQdFCsJJP//dHiQKGQ9HoTABiN5vbGDSKF/VG34E3hLQ+etjx4Wr6y/LDo4rmmGwNNTfyavOi70r+fir7D0wM11soAoL6q2TeQT6WRtWoDANRV3nyemb5k+NmDOVYLxvPqubR/kapqe63jMp7n8KbwVgRPnyxM75uIIyIysOqpdYv4aL9ft12kUkgkIhobITx+vmj1yrE6vQlBQMBjAMDOwzdajYvKRZGhPpNGxoQFCh5+9c9OuvUTcoL8eJt3Zd69aAQAlFU1hQTwfb3ZbBb1xIXiSaNiiivEtY1Oqm04RSHTbPnh1I1L5TqNAcNxi8WKYTiKdpqnHuaVd6XSbLKgKCHvamVraI2N0KgWva//s3fW4U1eXxw/b9yTRuvuToFSoLi7Dhg+xdmYbwyfDxkbMNjYkDHc3V2Kl1J396aNe97fH+kqadombdIWfv08PDzJfe9735s0yXvuued8D4JBiGS8XGpl3+2rCx5DnOe1en/OL+YEvQAAhyCY7fFpTRg6i8Bd6vvDnbKzj4TXK1TFCCBMPDvCrl9//ngSltyDM/hW2WlDILVcKzlbuPds4V4qjkHBUhU6uUmPfj/eWJPXpeIoABUtfZWmUehUZoYeHNx47tI/d789tszRszbnqrJUtGnJnrWHljbsny5NOpl/4B3PpfYkZ4lWlCpJYP23XLldduV80bE3XOa4Ubyy5emH83brUG0fXjOCAY+Fd6+XnP/IbzWf5HC37NqJgn9XBW2i4qp/om+VXR4kGPWJ39pKdcXe7G2Xik+Od5oOAAu9P9foNV/EzZvrsTiY2QUa/HYpbLbnMFgwY7BgxpnCHWMc5zXbWavNIeD94D+1fo02g4DzBQAczlWrzTM0EvB+AIDBMPV6mUabi8N5AoDhfwDQaNKVqodlwvkAgMf56PVVGAwLQYgYjF3D0xv2bzigLWj0tqHT66CBOunbnkO+itvrnsXvxw/Ro2iWtFiH6oc5VKuh4xCsE4VzqeipN80eAYSMJXCIliVvyeXq4hJRWZm4rExSVi6Ry1QqtVat1qpUWp1Oj6IdNEShZaxb0xFzt9sGJ3u7PYcflJVLlEoNABSViP499pBKIRrC1oP9nc5cjvtpyyUURefN7rvpj6tJqUUqlfbjBcY/SX2jfNZuOJueXVZYIgKAQX0Cvtt8vqaz0VHrEsT0CmJ6LfB+42bpk4tF99OleVa/RIu5VPzAicKf5NwqP3ez6HX6nz85KCwTL1w13t6ZfXTnrR+X7efYMzH/WUWBXd2P/3178EQTAZFmokV1v6YeaJvYJAqWNN1txGjHPm1jshMwhPVhpp1GrwpUMkEiU/aL9AGAsADnc9fj/b0EBDxu4vDwWct2U8iEkf2DnOxZhs5nrr28/SgNh8VSyITP5w9tYlgMgvz4+YTNu69PmL9Dp9W7OrHXfzURj8ev+XD0TzuubNt3u3uoW88Ic2+K65b+S6WRvv3zLY6Akfg89+MZjfrAVMrq5f209/t/GZMxo9/3VAbZN9h5dn3pJCKpU9yzUQgY4hyPz2Ir710pOVyuKmqsGx5D7M0dMVgwyahAEg7BD+BPGMCfoNGrEQTBIbVvNZsg6GLXt0Z00oBMK5Y1UqQphBnlTvU3eYiBp5r/isxHqpWz8M0X4pn20aishHzzh1XplAgCDDyLS+RziXwPam18/8XiE4MFo7uzowGAT3IoV5VeLD7ZrOGeJUt3pXoafPbd2b0P5+0qVhZ40ar3/dwonqMcJgOAPcmpK7tXprS6vAkBQ0QAAwB4BE9sUNYKAOTWjj4yIorTjMCoARzORa1JBUABEADA431UqmdUAK02F4erEU2uDWbDYZ1VqgcAoNVWb/Xg8d4EQgjXrnpjoaLyswYXqRcLZ9RfqXpoNKAtMHGL2pRy8kzBI8PGx5KnO3AINpjltqXrfACI5gX+EDZnT9a1vVnXcQjWlcqb6V4v6mh54JSNKSfnxGxi4qnvew8f4dC12RmkpZfExuakphWnphXn5wtfL+O8E9OEBTn/+PVELA5j2PJ2EDA/nDdYq9GRSHgAQBD46oMRarUWj8chCKz5dKxSpSEQcBgEGTGoOlp63uzqxJSfV03WaHV4XLWro25nPB5rdNTqkLHEEQ69Rzj0zpDmny+6e7P0SQfJYd2VedqN4tCNHdh81xbRc0hQzyH1dNnW7XzbqI9Op5dLVd37m759msPJ/Bs58kZv/1YkihOy2Gfq/7lKTAv4Z+Ncw4OhfQKG9qlOI1k8u//i2f0Nj2eMr46I/fT9IZ++b2xS0KjEutWX/v5pluGBo4D54+cTjDqH+jvt2zS3ickYgsv1On1NlLlapU16nvvtzrc4AgYAFGSX1+1PphIV8mprozi/Uqup9lKVFFSWl4h3XviYwTJWAbfo6q8QudJKV5p1QnIRQLrYRYexeuXIU9IkcTnyVImmSq6T6FE9FUd3ILl500NCmFE1UjMmwZuKZhnjOCdN8kJsqrS5ERyi/QTndxs7SsdZ8Gc1H6lGzsLTt322X1QhUcnV0z4e5dfVY+sn/0qqZGql5t21bzh5CRqetWnpHoVUybBr9N0IZIZHcfpvSFntRvGM4vTrzo7GY/AAINWKJRqRK6V2BetG8bqgOS7SVDLxTf0p7UlOzysfVqor7AicONFTPIYgINXuKblSawekYKlKnbkhQAqtbaP8ecTaxJgnwivd2KbXJ1gMl06dVlI+E4NQSaRoOnWWQnmzrGIeCio75sqG/UnEHlL5gbKKeTicK4JgAYBI6K5Q3iqreA8AyKTmnV9G/WnUaUYD2gIThvsyv/HL/MY3dkIvbkAvbqN5fiEs9109PjTnwrGxObfupDx4kF5a9ooVnO/EKuDx9T7TOCwGV/+GVxsSA0AiNuXlMrLLjTrbzmqvixfNeYnPtHc8x18reXS24Ha+orQNLtoEKKCbUv/d1vVLJr7lYSqt4cbp51eOPRk1o2eL7RixRnY474p1Z9UQHIJ9x3P8WKd+TfQpVhYfyz+WJElS6VRMPHOIYMgw++oKFVdKrlwtuVqhruASuSPsR/Tj9QOAJ5VPYipiSFjSE+GTSc6TlDrluaJzYaywBV4LDGctfr5YrpWjgH7o82EYqzZ/7uv4r4fbD08SJz2reoZDcCHMkFlus8jY6jjdM4VnbpXdEmlEhmovFCzlY7+PPak23JB9tbB3YeNw2NsXXvYaEiSTKLgCJoGIY3FocQ8zQ7p5ZKUUH/rzZt3+fqHOF48+iejlg6Loju/P1nxQiWSCUqGe2usbACBTCBG9fT7+/g0ypZnA6IZXt82rtD5lSumetEcruliz6AoGwXhQAzyoLZEEaAwKlvae54odGWuaSHUFADaB/57nChqu0fefjreJ4S7RylEUfXEn+cfTn7J4dAC4f+453Y66eMPM4pzy7V8eXL1/sdEpCQ/TEQS++nveizvJx7ZcNjksAsgUl7lDBGMeVty+UHTsasmZZb6r6HimqWRQFABMajWq6ohvRnMHZkpTVycsI2PJdnjOu54f0nC1DguT3nRzsF16boWqiEN0KKmT/JAujW3McAcAGnU6jTq95imH9V3doxTSEAppCADgsA4GrUau3S9GI7AYtd4EGnUaAPDY2wHA0N/odKP+Jge0Om0dYalSaa5cTTh+8kl2fedHJ528BlCwpDGOfUc79nlemXK64OYTYVI7StBUqSWbUw+sDHqvXa4+YGyXAWO7tGaEg7mXZNrmK5y3Bh7RbkXQu03Xna3SVH2b9K0rxXWx92I7vF2+Ip+Br77PXSu9dqLgxCy3WR5Ujwxpxr7cfTpUN5A/EABeVL2Y6z7XkeR4LP9YL26vT/w++T75+1x5rivFFQC2dNmi0qvmP53f8HL7cvYNsx+2ImCFUC3ckbnjdOHpqS5TAeBBxYNLJZeWByy3J9nfLL15MO/gj6E/0nDtsyqzHZ9eu3gmNSXCwWHv2Mk4jGVLPjqTvHjVuN2/XP5tzUlHN862E0sB4OPvJv/+7emju+64+wiWfTPxy7f/run/zscjNq04Nn/sL2Qqcer7/cVVMgBQyFSfzv5j6erxkf39MRiMqFK2bum+M/8+mPJeU0u7xq7eEdjw8kaerFKu1XwSMrBAXnU8O46AwRbKRUuD+vXkuydXlWxNupsqKv388elBjr5Dnfzr9vdl8gDgvbsHQ9mOudLKblzXqZ6t+lK3EgHJZZnf+pP5f8WLHjb8acUh+EjOoJEOMwhNWp8M23xrpFo5giBLf5n9y9LdNBZ1/vfTCtJLXP0dAcDejVuSa8LgKckpd/YSAIBJZ3xd7Aic4Q4TBgpGrkv45JHw7iDBKBaBTccxcuQZ/owQQ58ceaYdgWPIJSVhyYo6zvJCRb1Izlx5xmLvL33oli2rMAgGAUQPppMYRRqpyfbW81h4cbjDWwdyf3ClVG/eFivbVKvA1jxKzdt99XHdlm0LJzZ9StsZ7igKly7H/fnXrcrKV6akfCedtAAEkAg7/wg7/3xF6an8m1dLHraXAPnDipfXSh4NEpgW8OrIiDWyi0XGdROtiyOZ913oYh6xmQiBm6U3EUCW+iwlYogAICDV3mJPF54e6TCyJ6cnANiT7MtUZacLTxsMdzwG35vbW6gWHsk/0p/X35Xiyiawy1XlBsMdADBg2ip1p7pPcJoAAI5kx56cnunSao2OdGm6B9XDgeQAAFGcqL05ewsVhb5031a+CR0KFOBEcqIORR/k5+WLRe4si4M3hk3qNmxSvZyKrtE+Oy98XPP0dOzamsccAeObP96qeTp2Rk8AePEwU6vR9R1RLe7Os2c6u3MlomobaP+dr+oOfvRhvc33hldvd55V5Mu06l+iJmZLhT++uDrFs4seRTf0GJ8qKtuWdKcn392fJXjHN+pU7stVXYY37P977ykAkCut/Dp8qBuN3d6vBgCAjmPNcv+4Ql2SLH5WqMiW6yQ4BM/A2zmS3IOYkSRs8950toWpd2ZSoRIBQFAP76ADS87+ffPi3tsufg7JjzMBoDinXODKbXgK34Xz8n6qoUNjw8ZWPVLqFM4UdxKGnCfPkuukPJI9ACCADLMff7boCJvAdaN4Zcszrpeen+w823CWJ833YcXtIEa4IR4mS5rGJlRPQKguL1eVMgksS18gFsFyiYJHFXccyS4IIEQMiYGvHkSt19juHjfc4S0A6M4e1ps7ztByrnCnja7VLmSXCO8n5Vh0ShsZ7ukZJRt/uZic3Bbhqp28Wtx5lpGVXzF7bFPG5bOkvIiAptyiNXz929k3hnYJ8+sQBa2cyfxFPlNmuo88U3D7dOEtW/uPTbI763QvbhgZa2L/tCNzuuCWTeV6XCn234YuZpsR1J4jz/GgehAbbEBLtBKxRuxBra3w4knzPFV4qkpTBQAGXzgBQwAAOo4OADgEp0Gbv7fVHZCCpSh01Z8ZR7LjY+HjCnUFh8B5XvWcgCE4kI3Lub/qIAAT/APPpKZEu7q5MFntMgdHN45Monx4I7lbX1+VQvPwZvKDa0mrt81ul8m0nkxx+ZPy3A9jjgOAF4MLAD5MHgAwCESZ1sT3q2F/ACDj8B3Eaq+BQxD05o5o6bksq86lmlKVUFwh/XnBXxQ6SS5Rvv/tVGdvwdNr8d+9vUOt1Ly39g0AqCwVH9xwLvVZ9p5vT3YbFDRkeu9L++5+9/YOezduY+W6cAjuZunFcnWpHtWxCbwxjlNDmdWpg/34wzAI9nzR8Up1OZvAHes4LYpTvS803H6CWCPanb1Fq9eGsCKmuM69WnzWcIiBZ9mTnNYlfAIAGATDJQjGOk0NY3U35zXOdJt3JG/3D0lfUrG00Y5Te3D6GNpt526vocZqB4ABgqm2vlxbIlVafKdrC8P9/IUXv265olbbSuazk1eaPhFefSKaEULeceTejpXTrHVFPYqaqQNtfs8mYOJpM91HTnQZeK7wzrH86xJNm+44CdXio3lXZ7mblZLfQdCiugtF92w3vh2B8W3oInOsdgBAwbTst1qvBoC6UleGxwZjHYHaUwwlpc2k4QrBwADegDRJ2mdxn1GwFDaBvdh7sWE9YITuFVfj/XnQ8J8HDW/HCfDsmZ/9NGX35svffXyASMS5ePI++eGNsB6vaiKBJ4MbyLL/oXt1AakbRWkYMP4w4zFYuVZjsr8BpMEprzTcRvSsW0mJUshwp607/EHdxkU/z6j71I7PWPDjmwt+rNXq/XjrW9AkwcyIYGZEY0f78Ab34Q1u2E7Ckme7L6jbEsnuAwA6VLshZVUwK+I9zkd4DF6r1zyrfLgne9tPYX/gEHyN0LuBkQ6TapTgDXjSfD8PqBcybqCNq+NRsM2r97xCyDqa4a7Xo5s2Xzp3PtamV+mkI/Dj31dyiyoVKk1UqPv7k3vHpxftOfUQi8UIRXIHLmP1wpEIArtOxjx6mQMA0RFeM0Z1A4CjV2LP3Y7vFuS2aFofAGh4VmZB+d5Tj5KzSj5efwIAfv54PAZBTl6Pu/IgWa9HuwQ4vz+5NwDsPP4g5kUWn00XiprPgv/+/u3lvas9E1VKpUStcmEwjR437NlKKFjSGy5DRjv2PV1w61j+tbb0vh/Pvz7SIZpjm9uVLXhY8bJKI7HR4DgE+1Xg2+ZXVnImO98tv6vWqwn1lS7YBDYDz8iSZQUzq5WOsmRZbAKbYsZmfcvIkmV96vepP70plR6lqZLynVhEn2EhfYaFtPcsrEMEx/luceaSB8cAoL+DN5to4sPpw+SVKCRLHhyb6B46wMGnbv9J7iYqj77q2KiqWqlSaIthrUuBIrdQkfex35qaHNYgZviZwkMyrbRpLZqmqVBbX3DZiEzpyyfCy2p99X1zpvvXtr5imyFRWPyjbUPDHUXRH386e+Vagu0u8f+AVq9PrahIqygvkkpFSqVSq9XqdbZOePxmoIlFfNN8NHsgHofV69HxH/z53qTeAJCWW3Zk/dt4PHb+2kNZBRVSufJFasG2r6cCwLKfj4X7OQV5O0weEk4jEzPyayP8jM7ycuaunD/8xUcFGz6plocrKKm6dD9p2/KpCAJLvjuSmFlMJRPuPc/4a+0MQOHNz3YbTSyrqvJlWYk70y6ULwCA27nZQzyqHfyVSsWel7Eoioby7bvYO+z97/FAd0+kfs8iqQRF0ZdlJT5sjieLDQApwvI0YQUZhw/gcB3p5gZNkrHEqa5DRzpGH8y5dLbwtrZ+nQQbodZrThfeesvDdDmSDsiV4oe2G/w9r4mBDAscqAP4A66XXt+WsW20w2gGnlGmKlPqlF3tuiKAjHYYfaLgBJfI9aB6ZMoyL5Vcmu46vfkRAeC/Ehk6sz8A5eryMlUZ67+g0sZQ6donm6KTDsvSoL51nw5w8AEAezLjz+jqPUwCBru77/TG+gPAicHv2HiObQqLQCdg8FaPyS5RWbmoky3gEPh4DOFm6aUoTl8EwZQoC84UHnaheLTGagcAocrmhvv10gNjHOc3rSL6iiLtUIb7zxsudFrtLUat051LSzmbmvogL1epbesoI0sNd7VGu3HvDYVSQ8BjJXKlXq8HAD93vkHz0Y5JlivVWQUVAR72hqADfw9Bel5ZkLeJIF2jsxp2yCqoyC+uWvr9EcNTuUJdKZJ7ufAwCAIIeDhz6nYWq1Sr7lxfEBFZKBUbDHcmifT9/dsHx08BAKVWK1GpOGQyFY9XajQ1jw3n1u15Lz/3TFry+126f3Xz6s6R46tUyvUx994L7/pzzN0/R4636L0CADqO8p7XhFGO0dszjj4VJjV/Qqu5WHT/TdfhJKz1a31bHblO+bwy2UaDBzA8RjlGW3QKh8D5KuCro/lHN6Zu1Og1dgS7EfbVwbVDBENwCO5kwUlD6Plk58l9uH2aHfB4wfFLxZcMkTa/pf+GRbCOZMe1QWubPouJZzqSHb98+SUAYBAMn8if7Dy5q51xoYz2SoPupJNXBQQQAYmdJy+x7rBCldjM4qntCBVHe9/zo3NFRy+XnNLqNUw8O5AROtJxciuHLVdVWWN2TcHC8wT/Fdl9zehAoTLHjj++eCnORoO/3qAARxLiN9y/VyZ/ZeR3niTkiaXK7z4YI5YqrzxIMTRiMPUiI71ceDcepRlCgpMySnqHm/Z6Gp0FAAgGUam1NeHmHk4cey5j8xeTMRhEq9NjMEhuYWVGXpkeRQEgt6jefiWdSOSSKbdzs+eEVquYhfHtCdjq31YHGt2TZWdPo0c5uQBA3cdGPQFgjI9/b2fXu3k5hVIJHoNhEImOdAaVQGCRWih860jmrQ1ecKfs+e/pR2yd3CPVyq+WPBzt2LxZ2e48qoi30UYEAsgC78ktCNh1Jjt/6POhyUMD+AMG8AcYNXaz69bNrhsA0HC0Xd13GRq/D/ne8GCi08SJTqbVvr4J/qbu0/FO48c7jQcALar9JvGbcFb4Up+leASvQTWPhY//yPxja8RWo8Ljqnat//WipHhffOzjwoJSmUyhNb2ESJi3lIKvV2khes+fBZJ6MbJ0AjHufWPRawMrb13752UsAPwzbnK0i1tjM3nrzPGbOVkAcHPWO24N8ly1ev3RpPjzGWnJ5WWVSgWdQPTjcEd4+UwLCq37lTew6ta1vS9je7u47Rs3WaPT/Rv/4mx6SmZlpUStsiORQ/iCKYHBwzx9oJNGSK78M1G4zY0+piu/mdVpm+FA4lndcEcBLVUKHck86w5rdfwZITUKktaiWGnz3QYtqj2Q8yOf5Gr4AR8osFrOW7sjVXYMj3tKavGO+qUuOjETsUr14cXzN7NfMZnSQC/7XadiPvr5OJdF8zalewUAwd4OXQKcF35zCEWhZ7h7iI+jTqdf98fF7AKhTKEuqRC/M7GnyRMxCDI4yu/tFf868BjffzDWScAaPyh08XdHsBhEj6IbPp3g7sTuEeL+3uoDjjymE59V91wEYOPgESnC8kUXzxyb9GbDwREE0f+XX1j3cUOI/93RUUA9WHYoil7JSv++fzP1pZulD69LKMtnY8q+J8LEVg7VNJeLH7wShrvt3odhDj2blmzvsOTL8/MV+V8Hfl2TuhrKDD2af1SqlRoFzyjaL8b9t8cxmx7eayKKj0kkuTKZ2AYrcx6FWi6Xq3Rm7StO8g8yGO4nUhIbM9wrFPI7eTkA0NXBsaHVnlVV+e65k5mVtSv8SqUipiAvpiDv7xfP/h49wdPOhIJKhrCiSqmceepIQlltbbUyuex6dub17MzJAUHtm1PbiUU4kE3fpFpJlqyg4xvutqANDPcudsb+kdcGiaIDeNw1Gt03357SatsiePcVxc6OGh5mYtNHolLNOnH0ZYmVPQFtAItO/nNVPbM42Nvh+w+qg6prHswZ22PO2B41fbBYzOoFI42GangWAHw8Z2DdPqP6BI3qE1S3Zf6UaBPFbADyxKLfnz2iE4iGm3GRVPJP/IuMSuHPMXfnhHbhU6hhfPvv7t96Vlz4ec8+dR8b9TQaVqvXx5eV6FA0vVL4Va++VHyrQlCYeNrq4Hn7cy7uz7nQmnGaJkOaX6yssCdxmu/arsSJ0mwxLALIJOfm61d3TLhELgFDuFpyNZobjQBSpCw6ln/MnereMOS9XNV8QXhbcCEjbePDewDgy+Gu7DMgjG+vQ/VPiwrX3rmRI6oCgB0jxw319DZ57ok3pgOAXKOpVCrmnD6WUdlUkl+YwN7Ljp1RKbyYkfZN/8FknImaymfTUnR6PQBM8g8yOlQgEU8+dkCoUGAQZLiXT383DzaJXKFQXM5Kv5aVkSOqmnbi8Llps3gU41DaYpn03XMnEspK/TjcSf5BbkyWwdw/mZIEAEeTEro7OE8JDDbv3eqknbGV4S4t7M0Nt8XITZNXVvXBlpPH18xt+0sbKFLavJ5mkuihN72LBzWYimNcLfn3dumx3rxxgYwoW1+3DegQoTLHTzwpKGyfm0dHhsWkhIW5hoe5hoe5urmZ/tX49MqlV9Fq78i4MJhr+w5S63SG3XkHGv2zqOjPomqjnIN4/N2jJzZ8bNRz8n8WwOc9+wDA5scPNgweEcIT7Hn5/FFhwQC3Wu3tloEAMsNtBJvA2Jp22HbFVu+Vx3Zw47VQUVZhmzynCLb/q+sMo+FoS32Wnig4cbborCHOPoQZMt5xfMOepcr2+e39/elDACDhcLvHTHSgVYu1DXT3dGEwRxzYo0PRQ4kvGzPcDVDweAoe3zBSpSGT/IN+enBHrtFcycwY62tCY+dESiIAELG4Ud5+Roc+uXpRqFBgEWTHyHGDPGpVaKcEBv/94um6OzfL5LK1d278Nmx0w2GfFhVO8g/6cdAw7H/yoFMDQ6KcXL64fhkA9sQ97zTcXxXcKDapgZApy7fFsB0ckUbaBhrHyZLHTAIvrurWdLcvy5T573h+czD359fDcG//5FSRSLFvv23rHb5CMBjk0BCXLuFu4eGu7m68pgXBT6ckX85Ib6upmYCAxUY4OEY5u/R07ojhBN/9cOZq/VznE0c/YDLJzZ6Iw2Carp2Or2Mr4M2wGwCgp5PLgYS480SSXKN5w7+Fd+vPvzz0+EnWmNHhyz6o3mQf4dCbgMFvSvnXRrb7/fI4cwz3qyVmiboMFvRovpOFpEgsKyBnPmMcjbUyXi2CGEFBDGP/cUPaRZNOrtHEl5YAQJSTS43VbsCHzQniCeJKi2NLrFZ9b4JfwPqYu3oUPZmS2NBwzxFVvSgpBoAhnl4MYj1R/CdFBTEFeQAwPTisrtVu4O2wrocT41Mqyi+kpxZHS+2pNKMO9lTaN/0HY+v/jk8JDNn+7HF2VWVSealMraYSXoH8707cqY62GDZTWmCLYY0orZL+ePB6XplIq9WNjw6ZPaQrAOhRdPWey6kFZXo9+s3bI7wdOffis7edvq/T693t2cunD6JTiABw80XGH+di9HpUq9OvnTss0E3wMqto8/E7cpWGTiaumDnYmcfKK6tatfuSK9+u7mhNzMfq2QIm8aaFD+BPOZm/VaNXYxEcBsGSXheFmfYvwHTgUIxM9n8tJEynkUJDXcLDXMPD3Tw9+GZW79Hp9T/du2PjqZmGT6VOCQru6ewS4ehIxLZRJd0W0L2bBwIgEitKSkQ5ue0svBXp6Bzp6GyLkQcJIivV4l1Zp20xeJokR63XEDAmogvqsinl35rHhkwgo4UEBsE4kLi2MNwzpTZxWVFx5K52AUaNGo0OEMDjWqgCYZXiXFanVNUOhnuFQm74fBhZ7QYc6fS40mKhQqHSaa3yC2NPo/d0dr2Xl3M7L0eoULDJ9VbvBnc7AExsECdzJq06b/6NANOL7f5uHikV5ToUfZCfO8Ev0OjoeL9AEs54/giAP4ebXVWJApTJZR3TcNejmjzp+RzJaZkmX6WrJGCYZByfR450pg1lEau/F1JN3uXcsc60YZGC7zNEh7LFx6WaHCyGzCV1DWDPYxJ8Gw6LorpsyclcyVmxOl2Hqqk4Rwdqf1+7uQRM80LpWr3ifvGScsVTHjmyl8NmLFIvxb9UEZNedUCoitPqpUQsm0fu7suawyDUZgDLtYUXc0Y5UgdE2W/IEh/PFh+XaLJRVEfDu7nSR3uzZiDQlLOGgaeyCPQqtZWLRZSpKqVaOQ1nq0oOBtbsvdwnxHPD/HAAUP5X1zK3tGr17KHh3k6Hb73Ye/nJh5P6fLv/6j9fvMlhUPdfe/bL8dsrZg4BgF0XH6+YOTjAVaBUa3FYjFqj/f7A9R0fTqZTiFeepv546MZviycAQGxG4dIJ0TWjrZ07rIn55MistiZvAgyC+TfnOwxgD+b+CIBkyV7KtW1a9clGKNVaQ1yfRVjTUFOpNBcuvLDigHXB4bBEIo5AMDHhysoOpL6yaOHgoUMsdsFeykgvlDT1IxLM5/dwduli78ClUFgkUs39b/DeXbo6+ZQzQ8PG+tW6oKRqdZVSWalUpFZU3M/NzRObCEJQarW9Xd16ONnEDLUiQwYHDxkcDACxL3I/+mR/e0/Hhkx2GZwhzb9d9szqI+tQfZokN4jZTJ3ao71/NjxAAEmT5GxK3T/XY0wAw4OGo4g1shRJ9v6cCx/4mitYbhFZskJbDBvO8mtYvvTyg2QyET+whwmLpCFiqVKqUDnyai2SrftvL5lhneJcVqSkPTzuNcJKlUoTZcXK5XIAwGEwBOv5BSb7B93Ly9Hp9WfSko1SUE6lJgMAj0Lt6+pudNbz4kIAwCJIANd00JTjfwuPzCoTEUdd7E3HV/D/C4hXtLlurzmgqO5u0YJyxVMEMDSCGwnLlWtLKlWJlapEPaqpMdwNiNWZT0tX5UjOELFsOsFLpskrlF0vkd/t5bCFR+5et6dWL39Q/EGZ4gkAwiB4YBCiVJOTWrU7V3ou2uF3BqGpHxkdqjRY7QJKzyj7TVik3sZIfMXm1KrdAAgZx6cQ7GWaglzJuXzp5e7875xo9XSKxerM52XfZYmPErF2dLy7XFsiUqe+rNgoUqd2469r+m1xpzrGqlPMeQMtIkOaH8Yy6yelZej0+qdpBb8uHm94SvrPIuKzaOHeTgDg68S9EZv+Mqso0E3AYVABYERkwJvf7jN0m9I/7Mud50dEBkzqE8JlUhPzy3JLKt/bWK2tzGVSTY7W9JTaJkBogvMSsaacgecigEi0lY8rLg2yt8k9qI1pgaQMWNdwv3otQSJVtn4cBAEvT0FgoKO3l8DNjcvl0rgcukHb2yRDR/yk1Ta1ZOkR6fXpx8ZJkDVoNFqlSqtSaSQSZUmJqKRUXFAgTEoqKiquasHkf91ymcWkREZaViL7RHKjSho9nV0+7tU7wsH01h4Rh5NramXXOBRKN0enxobKE4t2PX924OXLugIOYpVqzoljG4aNGOVjw5+bTixisc/UZEm2LcIeksRZzRruZGztffTPzJMz3Eb05UXUHBKQ2HpU/3v60V8jPrX69AoVpc13spwIO9PVRuVK9a3HaUHeDlw7GopCfFphSYUk1M+Rz6aXCiWoHk3JLg30ssfjsUcvxepRNNDLvle4J4LAw7jsPl2r30aFSvMsMc/w2HC0pFycmFkS6uvIYbXpZm6JskKqbb5ysNWhE4iGhNFHhfkStYpOqP38FMukBhmWLvaOVtyeGOblTb1FkKnVJ1IS6xrusSVF2VWVADDeLwDbYD/E4BzRoajPtk1Njy9WmriRCRoEzxhhu+yU1lAsv1uueErFO/V1/IuMExgaFdqSQtl1AaW3UWexOk2pLe3tsE1A6QkAOlT1vGxdruTck9IVQ11P1bWwX5T/WKZ4wiT49LBfT8O7GjonVPyaLtr/oPjDQc4HcRjTH34dqrxftKRc8dSe0ifKfj0GqbdHkSs5l1q1m4p3ihT8YEcMBgAU9KlVexIqfn1S+rUdKYiCq10+STU5Mk1eF95yD8YkAAQATava97JiY67krC9rdl0PfUO8aS6xldY33ONFGTY13A1uuoaathQivm6fupuBdT+Wo3oERAd7nHmQMPeng9+9MxKLwThyGAe/ntn0aE2TYZttUiMQQJj46vU2HWfXhBykHkUlchUgwCCTOt6eqDEtiJMB6xrup04/b+UIvj72o0aG9+rlzWE38xNZFwIBr9U2tWrR6/VstsV30CqR/MWL3Dt3U2MeZsjl5q6K5HL1VyuOLFk0ZNzYCDNPUWi1d3NyTR6a3y3yk169m9iRJ9U33BWapsqvuDCYK/sNmN8tctWNa5fqxNOrdboPL5wjYLFDPJsx6TppG6g48nueE75N/MvqI6dJ8yzqnysv4hONi+pxiKwcG7jGdai+zDaFPMLtjJMUDdx5kjFpaPiabRfWfzoBQSCroILDon656fRf62Y8js99EJs1dkDImm0XPntnsFShsqOTyf/dzxhU0pYDt7d+PQUAEAAyES9TqA9eeNor3LOoTPz7oTtjB4R898elNYtH0ShEk5e2BbbLEGiW97p0++L6ZaFCseD86TX9BnnZsVGAlIqyr25cMQi6L+gaacXLkXH4kV6+R5LiX5QUZ1dVurOqP6IGjRcwpScDAFK1ufdILWrCE0RuECfzSqDSVQAAg+BTY7UDABkn8GKakMcFgAD2fIPVDgBYhNiFt7JE/sBg6LvQqkuPyTT5uZKzCGBqrHZD51Dup5WqhArli0zxUV/WnLrDIggeqq32pWWKJ47UAZGCHzFIvbA9FPRJlb8DQARvlcFqBwAEMH6st0pkd8uVz7JER4I4S+ue4sGc7MGoqR+E+LBm5UhOi9XpZYqnTRvuvnSbVPN5UZUyw22ELUY2gMNiwjwdTtx7OalPKADIlGoqyUR0Vqin40+HbpaLZFwm9eKj5KiAauHUMpGUx6TNHNy1Qix/kVE4pX+YRKF6llYQ4eOEoiCUyDkMy+J8NHpttm22SZvgifBKN7YJIeaMoootZ+/FJOcq1BoAYFBIg8O9F4/uzaY386IO3o61xTzNobiyJfFaVvslKiysSs9oeY5CeJjru2/3Cwxs1FvcBAQCVt6km0mpbEk1QRaT0q+vf7++/hqN7ubt5KNHH6Wlm/UC9Xp082+Xq0TyObPMqtH4sqTYpIbxpIDAz3o3M4JRzKW8ScPdAJ9K3TZ67MYH97Y+qs1B1KHokvNn90+aEuFgk3T7TiylFzcsiOmVIMqw7rDFCst0u/hE9sXiB8Es7xofDwropaIHfJIJretWUq6q0psymFoJAYMXNDLbAT18I0PcXiTnp+WWBXrZ47CY5MwSqVyt16MA0Lerl+GoSKp0tbfjc+gRgdV52wFe9jXB8SQivkuAyw87L6+YPxxB4O6zDKlcdetxWpVEkZpdWnNKG5Aszm6zaxkxNTDkZWnJv/Ev7uXnDv53FwWPR1EwmOwYBPmiV9/WKy8ZMck/6EhSPACcSEla1qMXAOj0+rNpKQAQxOP7cUwod1HweJVOyySSNg8b1fTgjqaC9V9R2KQwBDDFstsplX97MqfiG3GE12BPqXfTwSIEe0p0juR0meJJjeFeLL+Dgp5NCq2x2mtwpY+uUL4olF0zMtzxGKoOVd8vWlqmeOxEGxLJ/x5pUGRUrEqTaQrwGDqP3K3BqwgpVz6rUBnH4rrSjP+UTIK3WJ1uWK40gR/dvekOLSNFnKPUqW1ao3r1nKE/HLh++OYLFEVH9wwyJKcawaSSvp4x+MNtp3R6vROX+fWM6hCjb/ZdKygX4XEYLpO6bu5wIh63Yf7Y9UduyZVqPYrOGBQxrlfzGfB1SZfmafS2jRCrUBVxiA4lylrnZro0tqHhnllcMWvDAbmq1gQSy5XH78c/Ts3/99M3GZSm6iT+cOSGdedsa6xmuN+9n9qyE+l00rIPhvfvZ3ov2xyIxGaS7VpmuNeAx2OHDAoaMijo6bPs37dfy8wqM+esPXvvymSqhfObF/EwaCAYwaNQ1w4c3LDdiBYY7gCAAHzcszcGkN8exdQ0qnW6pRfOnpsxi0lsYSnQjkZ2dvnR44+fP88pr5AQiXg3N86ggUGjR4bjcLXhzks/3BefkD9qZPjHy0zUT5FIlZPe+E2r1a1YPm5A/3rBoBKJ8sjRR/cfpBUWVQGAo6Nd3z5+kyd2p1BM/GQ/fZp9+OjD5OQitUbr5Gg3ZHDwpIndTSZs1GWS80CrG+4lFlbKmOsx5rvEvxNEGcFMbzqeItXK40UZZcrKLwLmWndiACDSWDlXzIATmd9YtVSFUg0AcpWGTMSfv50gV6jfmdQzNjkfRVEAkClqjyIYxGDNm2Tf2UeDe/rZcxkAQCbhh/T0H9HHOLWxDWhHjzsAfNN/sFStPpWaRMTiVDodDsG4MVmRjs6zQ8ODeYLmz7eQSCdnZwYjXyw+lVptuN/Pz61QyKERdzsA8KnUSqVCrtVEO7tim1Saep1gELyCOEsThL8lCH9LqdrpSB3kRh/LI3eDRr4UdWNRDNDwbgAg19RGREjUWQDAIJjQ9zQ0itXGgdE4DPVJ6fIyxWMOKTxS8IPJ5FGROh0ANHrJ8QzT+9VqXZVRC53gbtSCxZAAQN9c9WUukcUmMIVqK4vPalFdgiijK9s4Fd6KOLAZmxeNr9viwmPViLiHeztt/3ASAPQIcO0RYBwFvnnROKOWQDfB359MaXa0xkgS27xY5GPhxeEObx3I/cGVUm0lFitNXHT7hZi6VnsNeeVVOy4+/HRih8tHag1WM9zv3WuJ4e7jLfjumzc4HAsCYxpCbM4AUrTOcK+ha4T7H9vfPnX62Z9/3TRnMXD02GMsFjPvvWYqfmUITYQyzwwLM2dn1qj+iJmGu4EPonrGFhfdya292RdKJN/evvXTkKZSyF8VTp95/uuWywZji0wmKBTqhISChISCixfjvv/2DTu7arfT8GEh8Qn5N28lLVk0uKElffNmklaro9NI0b3rhS2mpBR9ufxIlUgOAEQiHkXRzMzSzMzSy1de/vzDNAcHVt3Oh4883P5H9YKeQiFkZZfv+PPGw0cZXG4zXr1ITjCPaFdm1ZI6Eq1crlNSsOauzXpxw37r+vmpgpuZ0vwqjYSJp4UwvccHDvCktWRzrGnEthEDdqE0ajXGphTkFFVWVEm9XLgSmXLXiZhSoVTx36///dismqM6nf63/bfi0woXTOtTUiE5fvVFTqFw+6G7k4d1qRTJL9xOlEhVj1/mvj0xakhP/3XbLyZmFClV2s/eHtxEco51Ues1NtLkMZO1d26cSk3q5uD0x6hxdqTmdVpbCQIwwS/wt8cxOaKql6UlIXzBhYw0AMBiMCbF3QGgu4NTSkW5Rqd7XlLUzcH6H+AOiy9rjgOlb2rV7nzppVzJ2VzJWQbBO4SzTEDpZdQTAUxDR7jBFNaitZnHWlQOADjExF8Zh6EAgFavQEFf1zrPEh9TassAoFIVX6F4ziWb8BNr9VLDCCZFbMDUogKHtDyNJJDpebestfG9DYmtSrGp4d6hiKuySb28ugx3eAsAurOH9eZWrzrOFe5s2O1pWqO/ftdi0zoNdxPI5ar4BIsVTMNCXb9dN9mkh9IimvVcttLjXhcMBpkwvmtEhPvqtSdycpqPOjh0+CGFTJg10zgHqC45VVUNG8f7m/XNJ9Y37puOcTcCgyA/DhnWb/dfGl2tc+J4UuI7Xbr6cVtYWE4slK6a9tumy1+27HRrEfMwY/Nvl1AUxo7pMnN6Ly6Xrtejz55n//rb5dS04hWrjv2ycabB796/X8BvW6/KZKp799OMfOoAcOlKPAAMGBBQ1/wSCmUGq71rV/eF8wd5uPNQFBITC9ZvupCTU75i1bHt296qceonJhXu+PMmAPTt47d44WAul65SaW/dTv7l10uquGbCzRFAIjnB5wqtrBMqVIspZAs2VTyojh/aRkPGCIltEisbi+oZ1TdoVN8gjUZn+OOG+zuv/2QCFoepSSkZ2Tcououn4aivO3/jZ9XFuQQc+oKp0QumVkcUcFnU/T/PrTvyN0tHK1UaAgHXlnqRT4VJar3VfugsJUdUtevFMwBYHt2vDax2A5P8g357HAMA59NTg3j8q1kZANDfzYNDNh3SOsbXf1/8CwD449mTbqP+jwx3AKATPLry14RyP82XXswQHRSr0+8VLe4u+MaFVk+2AQW9DlVj6yeM6vQKqG+mGxJPDea7EVq9DACwCMnIp67VS0M5H+tQVYJwS0zJxwOc9lHxxlJmWAwFAMg4QT+nXa15sWYSyvSxheH+tDLpHRhv9WE7IFpUFy9qo+IzNVY7AAwQTG3YoUrWqDJKmagDCQ9aBetsFyYlF6HN5h7Xx82N+83aSa232gGAQGw7w92Amyvn9y1zevVsKvelhl177ly6/LKJDuUNIvT5VKoLo3kpXGgQKiOzxHAHAHsabVJAvT19PYr+HdtyIUIGm9buVjuKwrbt11AUBg8K+nDpMINjG4NBunX1WP/TmyQSPjGp8NKV6r8IhULo28cPAC5fiTcap7CwKjGxAABGDAut2753390qkdzVhfPdujc83HkAgCAQFOT07drJGAySmVV27XptoagDBx+gKOrmylmxfJxhJkQibuiQ4MULB5vzlWmoPt56VDqL9adiK1OO5V/7I+O4oaypRCNT6VuSC980GtvYnU3Hm9ZdkuHx2BpTm4DH4nGYekdxWPNF30lEfBurvN8rj23LyxlRJq++NZ5JTSmRSfUW3g5ahhuTZXCcX81Kjy0pMsyhsTgZAIh0dI52cQOAK1npP9y/bVI+uUgquZlj893/9gKPoXkwJg92OeLLegsATRRua9hHpjH2XEo02QBAqWNnNxYPAwBidQYANJSDdKIO9mbN9LN7x40+Rq0TPSj+wGDi18VwlkyTp9Wb0BW1OmEss+7glpIjK8qRt4W0ebuTIs5WWH43aRl58lQAUOikd8tOykwpuDOpjXqjmjj0imIlwz3JsrRiIhG/bs0kKtU6egvNhsooWyS40zQkEn71ygn9+poVmr9h0wWDCWiShuLHjckMm5hGfcNdrLL4W/RuhHEa0Pm0VGV9QeKtn/57ce+dL8atXxC9+uDGc4bGfT+entdz5aK+az4fu15cIQWA64djPh3104zAeiqBD87HLu6/bmGfNe9HrUx9ng0AyU8yPx310+L+674Yt77IvIQBi0hOKczPFwLAtCnGFYL4fIbBrX7xUlxN4/BhIQDw+EmmUUGAK1fjAcDNjevnV7s/q9ejV68lAsD4cRFGURCOjqygQCcAuHe/evdQp9M/fpIFACNGhGGx9b5rgwYGNbtTBAC2iEhR6iz4Oog1ss9ebF7+cuuuzNOnCm6KNFIA+CPz+B8Zx60+MRslOZkfF1SXIT39oyNeGZElLap7JExovp/NCOPbe9qxAeDvF0+jdu3w2rrRY8sGjy0bvLZujNi5bdqJQ/vj43SNW/M6vb5SqcgTi9Q6HQDoAc0RVQkVCrWumUjlSf6BAJBeKTyU+BIAWCTSYPempHh/GTrSic4AgB3PHvfZu3PVrWt/xT7dE/d8y+OYz65dGrZ/d6/df+yPj2tihNcCxJM5GQDkmiJoIGFZJL9V96kOVZXI7wFAXR13B0pfBMFWKhMMNn1dciRnAMCB2r+xa3fhreCQwsXqzEclX6JQb+3EIvpTcI56VJsjOWnxa7IcZ4qATWDYYuRbpU9tMWxHI6aiKY+kdblddhQAzhf9TcCQLhaZ2JDp6t1oLZquXq/b9pp1DPfEJMviZN59p5+zk7HGXItp1gDSavVNC723DBwOs2L5uN69ml+1a7X6VWtPNFYoStmgbAeTZK6pQcHXi3EXqyzW0fe0s3Nm1PvxkqnVz4qMV2I3jj5cc3Dp73dXT15SncQ56q1+2++v2Xp7lX9Xj6uHHgDAwClRX+2aZ3TioU3nP/hl9rY7q3678bVnsItapdnyyb+r9i/ecnPFqLf6b/vM+qWUDMtIMpng4cFveDQ4yBkAUlKKdLrqj0R4mJu9gKnXo1ev1TN9rlyLB4ARw0LqNmZnlxm0QQP8TSjrOznaAUD2fzFU+QWVarUWAPx87Y16Eok4c74CPKJdXVV1q2CR4f5HxjGRWvJz+IcnojfUNHZnBz23gQSyzgaSMgBAsvYb2AGJrUyRadvCSdkYWlQ/JyS8oXS6HkUrlYqHBfnLb16Zfeqopr4hrkPRyL+3B27/1Xvbpoid2/ru3ZlRKQQAmVrd/5+/uv61ze/3X3x//6XrX9ueFJm+xYzy8TNUozuWlAAAY3z88dimdkU4ZMqJN6b3dHYBgCKpZO/L2G/u3lx9+/qGh/eOJMWnCisAAI99rfJWs8RHcyRnNPrazG8dqkyr+inGEB0AAQAASURBVAcAGESfhimqqZV/lSke/ddT/bxsnUpXScYJHKm1yVpknMCLMRUF/cPiT6Wa3JrOceU/C5VxJBzPizkFGgGD4KPsN1LxTsXyO/EVv9Q9hAAmmLMUAOIrNudKztU168Xq9AThb4YoeSvSpZEKD63EFuXzOiBtabjjEaJMK1LqpJGc4USMiWC894f3IJkyBUkE3Psjomw/wTbFOjHuaWkWCEE6O9lNGGciMaXFEJsLlQEAhVJNp1l/uwSDQb76YsySD/dlZjZTOKaiQvrT+vPff/tGw0OqBl4lBtFcU4NWv8J2mVyONiYW0DhRzi5HE+vZrE8KC3u51NP56jWqC5FMAADcf27mx1firx9+QKaRirLLe44Ia2zwMe8O+OHdPwa80WPk3H5sATP1eV5BevFno6trc7IFZkUEWYQhZ5TFopgMVTAo+mu1eolEyWJRAABBYOiQ4L377l2+Ev/G5Gq16fiE/MLCKiwWM3hQvTq4wv9WXwsW72lsAlJJ9fJJLK62pVimCvEwGGaFAtNwFOtuR2qb01uoyyNhwkd+MwMZ9byYfKKd1dUYAACHsUkeJ65Bst3rx6XiB+149ZelJfMvnC6UiF0YzOFePo40usF6RgGUWm2hRHwpM71QIr6fn/tv/Iu5YXUEQ1C0JsamMTQ6nVChUDVSlJROIA719D6Tlmxw50/0b17Mh0eh7h8/5W5ezqnUpCdFhaUyqUqno+EJLgxmMF/Q3819oJtl5fM6OEJlXI7kzFNASFg2CcfXoxqZJl+HKrEIKYz7mVFnEo7HJobeKZxHxTsRMHZSTbZGL8UghG78tUb1TYM5H8i0BUWyW5dzx9MJ7jiELNFka/VyItaup/0veExTnmwi1q6n/eabBXPSqv5hELzc6LXhy860YXJtsaHcUlz5z1S8s1YvU+hKtXo5ALjRx1vtfQEAgO7soGslj6w7JgAUKcpTJTm+dDerj9xxyJIVFiqsv2HeGBQc4++sleOcFgCAylQklY8jd8+yaZtP33mcmm9wEBBw2Ehfl6Vjo30cLc7Zm9InjMdsed6z+ZSJZIfvGIucNosVDHeFQl0hlJrff9asaAzGmtGfzYbKAIBSobGF4Q4AZDLh27WT3p33t0zWjHX18FHGufOxo0aGGx9osIPc0JRvDCPDXafXl8lkfKplH7hgvsDIcE8uN/5CGqz2GgrSS/75/tQfMWvJNNL+n89qTMkwGRg0tWfk0NAr++8tG/r9Fzvfw2KxAlfutjurLJphS2hkW97kdv2wYSH//HsvI7M0I7PUy5MP/8XJRHb3NCrdVaMJSKeTkEaCmGn0/z5p/13MZEcszizHXssiPZoAb4l9rNXrGnqspVoFEWN9oWJbjAkA7Ziy2TYUKyselLdbdIdco3n//KliqaS3s+uesZNMyiwu6BrZ/5+/5BrNtezMuoY7FoPJWvxxKyfw67BRvzany96QaBc3Q7x7s6zpN2hNv6ZUfZvt0L54Md9EEKxQ+VKuLRapUjAIjoxz4JMjvVmzaHjjIgNavbyH/U8ZVfuzJSdF6lQsQnKkDghgz28o84JBCFH2G3Ml57LFJ8TqVB2qoeAcHBh9fVlziFhOs7NiELwiBT88KPrgedm3NLwrh1Rb/taXNUdAjkoXHShXPhGp07AIgYzlMyl+TtRBDVVlWkmEnT8OwVrkyzCT6yWPX2/D/UbJ47a83GjH91BADcK+k5yXmuzj58zbtnCiRqcTShQAwKaTm95/a4JZAyJceKyWTtYCskqE7WO4FxRaIFfHZJIHtEKy3STmxApbPT+1LgIBc9GCQT+tP99szz/+vBnd24/JrOdqJdavfgqNFNw2CZdibKNnV1VaarjbkY1dv/liE8kfdZGK5FQmhUwjqVWamIuxXQc0mhBWUVzFsWdNXDRUWCpOfJgx5t3+UpH85f3UkF6+KIpWlUns+FaOMjSU3a2skqGoCYtZKJQCAA6HodNrDWIHe1ZYqGvsi9wrV+K95g3UavU3bybDf+HvdbFjVQtWbP1tTrOxLnR69RsrEimgQR0eqdQsP7oatfJHF4dY8K0PYnqeLrgZxPDEY6rPQgG9UHSvsVqkrYFom6olr73hfrLgBtrYOtX23MvPKZZKAGBeRPfGxNF5FKoHyy6hrLTK7F+2TqwFixgQwTPXUaJDlQhgvFkzvVkzm+2MAMaNPsaNPqbpbv527/nbvdew3Z4SPcHLdCw4k+jXlb+6iTEpOMeJXqYFYSJ4q8x/vVQcOYjp9aKqhVVomuBqycOZ7iNpOMsKkb4q6FH9rbK2juOvKcdBwTVlM+CxWAGrVQrjAMCitZE0Fp3ckkhOKwTzFRRYYLgPHhiEM1uZwUyaVZUB2+Sn1mX4sNDu3ZovDSiRKv/adcuokU4w/suZf3sTNLDRUyssq7ADAHYNQupLpM1sofhGuHsEOi0ZsG7llM1d+lVvT//0/s5v5mwXVUi+mrhx15pjhsZfP9z7ftTKRX3X5CQWDHmzF4FEWLlv0e51Jxb2WbMges2jy9b3FAYFOQGAUqlJTzdR2cqgW+rrY2+ULTpsaAgAXL+ZhKLw7Hm2RKpkMMg9o4wrjHh48MlkAgCkpDSvG+DszDYksKamGc9Ep9Pn5Zn1l5JrrWzrWBQ0/7bn+JdV6e88XrM++R8AOJx3efHTHxNEGXPcRzd94vUjMT8t+NvwWCqST/P/WK3SgCE1eczPiwd+88WEjUXZ9TZ2bORxbzPdg3ZBplVcLX7YfD+bUSSpDp4WUBu9WWr1+kKJBAAs9Sl00ta0iRyQRSx6cMj/+NpHZdk2Gr8Xt9E4z9ag0KnOF92zxcgdgcfChHJVVXvPwlZgMRgaqY0yo1p2IWt43C0x3Hv2NFFrrZU0WzkVbOxxN7Bg3qAnT/9qVuPvwsW4N6dFOdizalp4VEqJrJ6h3KzDuwZHuvHS82WpBfkGBkgNKj3JtfXerkU/zzDqgCDI538aO1E+++PdhoOvOWi8q+XbxX3Dhc8tnaT5eHsJfLwFaeklBw8/XLG8XqG4khLRzVtJ8J+ZXpd+ff1/3XKlvFwSn5B/524qAAweZGKRicNhBg8KPHM29sDBB9G9fZr+7OFwmG5dPR7EpJ8//2LCuK51I8Tu3kuVy5tfTKKAynVWNtwZeAu8ER5Ux9+6fn4493KcKI2KI6dKcsNYvtOC3hc0Io5eQ59x3XZ/e1IuUVLopHtnnkWNCCMQ8WqVZstn+3848RGNSblz6um2Lw6sq/PxIGGa/yK3AIOEpTmcf5j077Xn/37VFqL11uJE/o32XZnU/ASdz0j15ZiIJdXq9StvXTNoZw1oUvKlXdiT+GxbXMzDaQsb66DUaQce27mp76ge9rW7ZlKNOurQ7xK1CgCOjpreXeBszqFOOiDRvPAdGcf0NsiMP1Nwa6LzwNcyx+Zs4d32noINYVJJbablSyLgsBiMSWnaJrCC4d6YWEpDiER8SHCDiIFWQzCjNqG1iqc2gbs7d/DAwCvXmhFl0+n0Bw7GfPTh8JoWRzojvrRebmuBRCxSKZnE5oObPe2MozUe5jdT1qchUrWxBdlQ6ObVYvGiIcs+/vfGzSQqlThrRm8ej46i6PPYnF82X1IqNd5eguH1pdkBgETC9+vrf/FSXExM+v0HaWDKuDcwZ1af+/fTM7PKlnywb9bMXsFBzhQKUSSSl1dI4+Pzbt9N/eLTUc7O1XbttKlRMQ/Ts7LL1n17atGCQVwuXavV3X+QvvGXizgcplmxo1Kl0OoiiQy8ZV5PexJnqe+bll4FT8D1Hdft1snHI2b1uXH80YxPxwBAdlJhQUbJZ2PXG/qw7eulJlNwNtmdLFOZqEz8elCsrDiWf61959DH1c2ZwcgXizc/epBZWTncy8eFwcRjMQqNtlgqiSstOZuebPBEBHL5UwOCmx2wo2HwxRDqZ4bQ8IT4mR8USMW9Dm836t/EoU46ICw8PZTlE2sDmSyhWny95PFQ+9dN0iRbVvi8Mrm9Z2FDWNQ2ipMxQCMTRI1XjzKJFQx3g4iHOfh4C2xRANwcj7tCYdtQGQMzZvRq1nAHgKvXEua9N6BGxt6gf2xEYmlpz/q6LibhUCh2JFJlndCaXJEoraLCh9N8elANDQNjcEjHEkS7dj3x6dMsqUwlk6kqKqpn+9mXhxh0EoVCpFKJvXp6R/euTZ8KCXb+6ouxP/589uy52LPnYslkgkajNVjJHu68b9ZNMvk5HDEs5OKluAsX46pEci9Pvo+3wORk2Gzqzz9O+3rV0fSMklVrTjTsULf6TEiw81tz+/696/at28m3bidTKESVSqPT6bt38/D2Fhw4GNP0C8+SWVYhoVloOIpV9CVr8oSaYNRb/dYv2hU1LKwktyLYEHSEogJX7rZbK0325xOtJhFblxLla2u4/5FxvN0j+IlY3M5RE945e6JAIj6TlnwmzfQdfain90+DhrU4V6wdIePw96fMN3moiRpbbVx+q5PW0I/X1RaGOwAczrs8gN+tJkHo9eBI3tV2TKppA+zMEDL56MVHTmQnAHAmO091MVHJ1SQijWhX9q4PfT6s20gnE9vBcBeJzNUP9vIyoavdesyJcW9W8sUquLpwwkJdX8TlNt1NqdRcu544dkx1Hr0/18T+8ouSEnMMdwAIFdjfysmu23IsKeGL6L5mzRgAAOJKjKNrmG0V4GUmz2NzLjaoPptWJ3CcQSfVNdwBYOCAAH8/h0NHYp48yS4rlxCJeF9f7oD+AWNHd2ls9RgS4uLkaGdItm6YlloXd3fuX3+8e+Hii9t3U7OySmUyFZ1O5nJogYFOffv4uTjXW4nNnN7L19v+yPFHyclFGo3O1YUzbGjwpIndb91u3mmRLrF4/6RpBCQLVnQAcLn4wVD7nkaNCp1qQ8o/XweaiIyqi4M7j0Qlnth+tf+kSIMCj3uAk1Qkf/kgLaSnD4qiVeUSO15trBcdTyVjiVYP/MhXlKr06sYC6MtFsjX/XI5NL3TkMPqE1AZyXH2WdvVZWlSA646zMSKZYtaQrgvG9AKAu/FZO84+yC6uJOCx0cEeX88YPPTzP46umsNhUKas+8fXmffNW8NjknL+ufJ069KJ1n0hRjwVJj1sQx3lJvDjcK/OeOtYcsK1rIzkinKhQqHR60g4nB2J7M6yi7B3GOHla35RuU46aWP68Lr8kXHMFiFnRYryEwU3prgMsfrI7UWuvPi1V6k3x+NOw9E+9m2tIlb1UJabW1Yx3M31uLu5WaymaQ4EfEcx3AFg9KjwZg13ALhxM6nGcA+3N67OAwA3s7Pmd+vesL0h4Q4ORob7wfiX87tFssyr4qTT629kZxo1ml8Bqm345KMRn3w0wtKzHB1Zyz4Y3ny/Ovyzx7iAFADkFAiXrD4klihZDPLJP6p9b0Qirkgiw7KJJ37+oNlhIyM9IyONo3sHDggcOKAZ2ekHFVZO3nUkW/Yd3JJ2SIvqRjpE17QUKsrWJfxpZuT9qLn9fpy3c+uNrw1PCST8yr0Ld3x9SCFR6lF0wrzBw2b0rtufT2RbvVq4HtWnS/KCmKbLoH63/xqdTLz68zyhRD5/0zFanRz/R8m5jhzGiTVz9SgqklW7J5x5rM+nDQxw5VeI5XN/OnjxcYq/Kz+toIxEcMBhMEk5JQCQklcW6GZ6u8ZaSLTyLemHbHoJiyDhcDOCw2YE2yTPr82QadSzLx8hYHB/DZlIweEBIPTfX8UqJQrw95BJg1xemUq6LYCGd2lMp8VSKlSyEzkvbhanpopKZVo1DU8MYNrP8Oo2xDHAqGeurHJ32oP7pVklSjEOwfBI9HC282iX4F78pnIhdKj+40fHLxYkjnAOXN99IrbV+8NkLLEvL8JGxRAO5V4axI/kEK1fsaRd2J11xhb5AB2KFkjKHM0/WqYqU+lVbzi/YfDEG7Xsyt6l1CmpOBNxqjSyxaoMVoiIkEjM1i7ktFajxyTmFGAyJxHQKvSM8jZHNifuZV5NiJErk8VroOr4tLDATG2ZPq7uRi1ilWrtrRvmnAsAZ1NTihuEytg3LhDxf4ibE/v0nwu+XDisja9bpCjPtnaojAfVsuLPn/jP3pF+7EzBbcPTp8KkD5+vp+Eom7t8as7pJArBPcDJ2bt2aeob7rbh7Gfbbq3cfnuVkdUOAPzmcl5bRpI4y2S7Tq+//TJz7rDuRDzOgc0Y1zvI6Ojicb1JBByFiHdgV+8MuAvsgt3tsRgMn0Xr5uuSX14V6CZIyy+PyywK9XLA47AimTI137aGOwrohuR/Sl/fEKA2xrAdJNWoZ106wiCQdg+dZLDaASBuxtLE2cvadXavHvszH6+Pv5oqKvVl8oc6+TtRWDFlWUtijpzMreeGyJCUT7i242DWUxaBPNDBL4ztrNBpjufE3inJaGJwHYp++vjExYLEUS7B67tPar3VbmC4Qy+rjNMQpU79V9ZJGw3exjyrTO4gu3w2xc4Mj7tUK92QumFD6oarJVfTpelKnXKB14I3Xd48ln8MAIxa0qRpALDAa0F3OxPeWJrlipBW8LhrNOYWL+By6K2/XEPI5OZj3KVt5XGnUAhhoS5Pn2U33Q1F0WfPcgYOqPZA9HVzO5aUWLeDDkVvZGdOMKMQYLi9vR2ZXKmoF7B0MjnJnWW3tEczaTGFEolJEz/C0bHZ63Zia84XWT9z34tmmcZFX14EAYP/IWmXFtXpUN3urDPDHHou8H7DTKmE83tuj5prQdSWvYWRPGYSU/Fyssvghu1VUoVej/KY1ctUbv1SeXwWrWGpuNiMwl0XH5VUSjEIUiQUT+4bFugmuBOXJVepg9zsNVpdQnZxan7Z0gnRYDOO5F19LGw+l6YTMyHj8FKNeualw45U+q/9xuDqq9FjO6PVLWSGZ6Q/U9Df3rem1tvfaQ9+ennlr9T7411rVQEOZz2VadUrw0dO9+xW05gkKuYQTXglDYsrHYp+9uTE+fyEsa4h33cdb8U/jS/dzYvmkiG1cmiigVulTwcLIiPsjDccXi3Ues3v6UfaexZtAZPafMRB3VCZO+V30qRpv2f8DgCOZEcAKFIW1W0pV5Xbk+wBwPC/EXTLQ2WssFrVaM0u80mzSeQ0xYz1ivnSN60nsrtZkmfPY3NqHg/wMHHKuVSzqkJgEGSsr4maVr/E3P/g4vnKxt32TwsLJx8+YLJDpNPrKWE2bM5vuYVCANj6z61hc34zZJEuWX341sO0xLSiZeuOjpi7ZcisXxd8fSAtu7S5werx5GXu4Jmb7z1pyldkERKN7IK1ZYARQPwsL+YXxQlZGfT+3uyze7LPLvKZssRnmjlW+9VDD97vvQpPwA2ZZoEry9J1hZkki7Mr1SYkVlk0MgaDVIirfxwqJc2k66g12kW/Hh/Wze/g1zP3L58R6e8KAIFugpzSysScklBPh2B3h5dZxVKFSmBnEycFALyoSv0n+5yNBv//BIfBvHv1eKFUvLnfaFwjNaQ6MR82kTLEMaBuheY53j2wCCZTUl63m96UXE8A055PMvHdIWJxehT98unJc3nxE9zCfrCq1W5govMA6w5Yl/XJ/5ivS9sx2ZV1ulBhXFL9tcTSUBkHkoMrxXWB14IFXgsmO09u2MIhcEqUJQBQpjLxBrYgVKZNPe7mlDhtAWRK8y9b2IaGe2CAWdEIiYkFNY8HeHhS8Hij+qm3srOKJBIHevMWwJTg4D0vTIQnnklJvp6VOdjTa4inlwuDyaNStHq0UqF4UVJ8OSP9bm5Ow1MAgEkkRThYubJ0B8HHnZ+dL3R1ZKdllYb5O+cVVro5sbPzy309+Fqdfki0/5cLhuHx2K3/3Pp+26W/f5rV7IAGZZWE1KLlP5/6atHw3t2sFgV7KO+y1ZOl3KkOdDO0IBvauL50129DF32X+DeLQK85akdoqnzd4Kk9B081zmptFn9G81XMWgAK6LWSRw2d7lgMpk+w5+7LT1bOHCySK8/FJOIb1DSoi0qjU6o1rnw7AIjPLo5JynHl2zmwGRK5SqZUuwnsNDr9139f8HGyVSJmsjh7XcKfr2uM6d+bL2enla7d0nzNTuuSUVURHeiWIRJ+++jm6qhBbXz1/wewCIZDpJYqJTpUXxPcMtol+N/Mx2tizydUFU3z6OrHbCq6jIYjrnp+9nTuy8nuXdZ2GW0L0Z4+vIjdWWfKVBbUpTEfkUb6Y/LuH0KXYDqYYpuZPBYm1gRMvn4c/Wp23acOFrpdvGne8aL4relbASCMFRbNjW7Ycqf8zu8Zv3OJXEwDd3n7JKe2u+FONcNwrxQ2UwrUinh58REEabYSU05uuUqlMWhZknG4QZ5eZ1LqyYzoUPRAfNxHPY3jgBsSwOX1d/e4mW0ikFemVp9KTjqVnGT+/KeHhhKxNpevkmkV+3MujnTs7US2idaQSXw9+Dn5FWh3b7FU2a+HT2pWqR2TolbrHPhMAHBxqJYjHDckbPHKgygKzd4d8Hhsek7Zp98fX/bOoIE9/aw1z2Rx1sn8m9YarYZQlm/znQBmxnxtsh0B5JuEnTVPz/X91TrTqoMzhU/FkWVac4WqzOdM4e0JzgMbRsQunzFo9d7Lgz7d4cRlTukffuJufBOD0CnEDyb2Xfb7KQCki7fj7CFdlWodADhw6AZLwtOBXVAu6h9mkyzGDGn+yvjfX+9CsO0Cj0xd1WPQBK+gKecPeLM4M/3D23tGrzx3StIvFiQmV5WUq6RyrVqp02r0xnZCGNt5e683v31x8UDmkwOZTwJZ9m96dh/vGorHmNjQ25P+8Ej2cyyCzPKKtJHUJhbBjHPqvzPThMKvVUgQZfyTfW6OxxgbjW87smSFPybteo0lIL0dLA7RXBu0tu7T8U7jjToYtbzj8U5jQ7VPjLtOZ677R2t2UI1FmOVxF7adx51Ewrs4s3ObK2iv16PZORV+vtUxT9OCQ4wMdwA4nBD/QY+eWDN2bz/u1ftOTrau1QWrCVjs3PAurRzEHHSo/mTBjVMFN8NYPiMdo6M4odZKM2oCXw/Bk7icgpIqPofu485/npjH59B8PPgAUCmS7zkW8+RlrkyhQvWoVqfX6/VYbDNTUqo0n353fECU7/B+zWcjmIlMq9iQss8Wv5I9OU1pXNbwdVAzOo+2wxDM88wG1T3KVVU3S58MEkQatXOZ1C1LJtQ8ndy3OgZ3cITP4AifhuPMHtJ19pCuRo2/La4eAYMgd35ZZLVJ1yFHVvT1y622WNJ0YiCUa7+p76glN8+4M+yiHWsjyrR6fc3/RhgaTVY9bOLQ640eRT96dOxiQSIDT+pr7z3I0Y9JIFOxhG/jLko0xmvOvgLv6CGLbhanHs2OvVWctuLZmV1pD7b3etOValzS4Uj2swEOvjeKUhfFHDoy4F07AsUWkx/h0Pto3tUqjcQWgwPAkbyrAhLHdomwtqBCJVodv73TX2A76O0SKoPHY9Vqs4o7qszrZilUSvPrFYlUKZOpamoe2Rp7B2azhjsA5OXVGu5Rzi4ednZZlbX7dN0cnd7v2g1jXsxlEI8/Jzzi7+dPWzbhGj7rHd1Q4sZ2oIDGVqXGVqWyCYxhDr2G2/fiElm2u5yvB//YxeepmSV+XgIfD/7h80+d7e18PfgA8NXPp6gU4qYVk3ls2suUwvnL95szYFxywdjBoScvvxg3NMwwTitR6zVrE/6wRSghHU9tTBLRiJ4c47KybUkAw8MWhjsA7Mk+04sbZpX6U23M88rk75N2vUJW+5VTz5Pi8vKyy/Kzypevn7Zz06WSwso1v870DXJKfpn/z9ZrqYkFWq3e09d+4ZejvPxMBObFPsxc8+G/n//wRlQ/fwA4uvvuqQMxEpHCO8Bh3qcjfQJtkj0/wt33o4jeC66fPDlmpheTs/7pnT/jHyt1WgB4/9oJHAbjw+JeHD8XAFbGXD2YEqfSaQFg6oWDOAymG9/p0Mg3mz70/8DlwqSLBYmuVLuD/d9hE2vN62/iLprsj0GQgQ5+Ax38ihXi7+MuXypIXPX87K5o4zDFH7uNH+MSsiH+2p+p95bGHNkVPcsW2QgkLGGyy2DbOd1RQLekHcJjcA09CB0TmVaxKn57uaqqvSfyOhPh7fzpxH4WnWIFw51IwJlruKtsY7hTiXg8ttmIncLCSh8fEym9toDHbSr8t4aCglozHQF4p0vXr69fxSDIYE+v97t2tzTQ/PPe0c+KCmOLWy6DPcTT6+0uxt7EtkGoFh/IuXgo93I3u8ABgm5RnBACpnmxIEtxd+ZUiuSZueVBvg48Nk0kVuQXV/p6CNQa7cuUgk0r3uCxaQCQV2iu0F54oPOSOf1pFOKXP538+6dZTHqrSiWr9ZofknbHi6yW4VqXvryIVyK8MpIT/G/OBVuMXKES7c+58I7neFsMbjvOFt75I+OY7lWLa795IW7D7neP7rm3asm+b7bNvnkh7tT+mE+/nURnkvuPCP1w9Xg8AffXpku/rD7524EFNWcZgiCS4/LWfXTgozUTDFb7pRNPL596tnrzDJ4988KxJ8sX7Nl56gMGyzo+1zmBEXMCI2qeLgyNWhhaLcb1Sdc+n3TtY/KstVGD10aZ0Clq+tD/A8miEgAY7Ohf12rPlQqlDdztRtiTGRsjJ3Y7k/a03EQhFAGJDgDLggamS8puFKWujT2/NmK0VSdezSjH6OP514SmctmtAgroL6n78RhcX15E873blVKlcFX89lx5cfNdO2kF7nw7d75lVcOtcCM3P3LddlWQOOzmdccLCqtsdPWG8HhmJTeUltX7dZgUGPh2l4grs+ZuHz22BemheCz2r7Hj/VtaobCvm/vGYRYXObIuelT/SBj/Y9LuGQ+Wb0r5N7Yq1boRIxgMYsegJGUU+3oKAMCOSUnPLvP14BPwODaT+iw+V6PVJWcU7z3x0KJh507u6ePOX7HxjF7f8tlWaSRfxv1mO5XcYfbNaIOa5Hj+9SvFMYbHYo3sq7gtE+5+vDL+d7HGVrFn3jQXgW3U3AHgRP6NZ5UW5Hu0L1pUty398O/pR145qx0AHF05Hr724T087bi0gDCXgDCX0uIqAHBy5QwZ14Vnz2SxqSMmdctKLambDoQn4LJSi1cu2bfwy1F9hgYbGg/vujv9/f5e/g4MFmXqO31RFH142yYF6jtpPY5kJgDUFZCRaFSrYk3oIF0pTCpT1ss9i68sVGg1fHKjd08MgmzoPtGXwT+c/eyfjEfWm3UtBAx+httIW4xcgx7Vr0/e28FzPdOleR/Fbuy02jsmVvC4E8yof2SgosJWGaIcLq24pBmtpfyCtqtXYmZMjtEbQsTivu7bvzXXtSOTD06e8tGlC9ezjIuhNs3ssPAV/QZ0HMViuU55teTh1ZKHHCKzH69rf343awkF+njwHsflcFhUAPBx55+8/MLNiQ0AyxeP2PTXtQOnn3i6cr9aOHzpmsM1p3y39eK9p5lSmVKr0w+Z9SuNQly5dGSXIJeaDggCK5aOfPfzfVv/ubVkTv8WzOqlKH1jyj7bldTxobt60Vya79eAqyUPBwt6GB7/mXk8R14012PMxaL7e7LPLPGZZtU51tKbG348/7otRkYB/Sl57+YunwhsIxhvRdKleRtT9uXIrFxHts2g0ogAQCDg6EwyAGBxWI1KCwBVQtmBP2/FPsyQy1R6ParV6vR6FIut/uVRKtQrFv8TPTho0OhwQ4tWoyvMq/jhiyM/fFGrIV1aVNW2r6YTcxns6L858cbN4rRZt/cEsOwrlNL7pVluNHY3ruuT+q70rUm3U8Wl3nSeI4VFxeELFeIXwnwE4MPAgU2MT8ERfu817Y0bO3+Iu+RF5zZdY7VlDHPoebbwTpasoPmuLUWH6rdnHE2V5izxmWaLveVWcqP08Za0Q0pdG5Wt7MRSrGC4MxjkIvN+RisqbJXzYY7HPSPDMmXu1kA0bxeiskpu9UsziMSdY8efTE7acP9egaT5/b6+bu7LonqF2bdREJGlVKhEx/OvH8+/ziexe3CCozihwUwvM6v/mOSzeUNrHi+Y2XfBzOryQD3C3Q/+Vpv3ffNAbbnErxYNNzlUzbkAQCUTDvz6dgvmo9CpdmWdPl9416Y5+5OcWyhyV6oUGpZMQrX4VunTZX4zBvC784ns7RlHrTrBetjOcAcAiUb2RdxvP4QutZ1fv5VoUd2BnItH8q68io72GpD/alcZaYCsW7afQid9t30Oh89IjM39aM6fdY8mxOaOmNjt/NHHo97o7uXvAAB6PQoorNs6K6xOfQws7hUI+vr/hE2k7O07Z1PC9ecVeS+E+QIyY5J7+CL/fn+l3Tcy3N/ziz6Z8yJFVJIpLUdRsCNSBjr4zfHu0Z3bTK0JJwrr1x5T3rr7z4cPjx4e8I47zcqLcASQeV4Tv4j7zbrDNuR6yeMcWdFXge/YqPBcCyhXVW1JO9RZ362DYwXD3Ryj2UC5zTzubDPmkJ5eYqOrN4Ro3i6ETNZodaRWMt4/YIyf/63srMsZ6U8KC3JEohp9AyyCMEmkEL6gt6tbPzd3H05H+clomlKl8EzB7TMFt6k4cjd2YBQnpBs7kIJtvsJZh0Wt15wrvHsk74pIY1utUkcyrzc3rGXnYhAMEYMHgGslD+l4ah9eBABwiMwqta0W4QDgx3CzJ3GKlc2nd7eMUqXwi7hf1wTPd6V0uPXqY2HCrszTOfJX1dHeNGqVNvFFnsFqB4CCHOM/cUiE+/ufDKfSiWs+3L/l4AIGi0Ig4hxd2Jmpxd2jzRIz7aTd8aJzt0RNMWpcHNBvcUC9DLxRzkGjnIOaHW1rz6kNG7txXV+OX96aSTZNCMunLy/idtkz213CQIY0f+GT76e4DpnoPLB9Xe86VH+p+P6uzNNyna3Mkrbk74z5fozo3ry2LgrRNljBcGezzRUhyc+3VSSAvaD5ZNDCokq5XE0xQzuy9ZgpBWO7oH8AwCLIQA/PgR6eAKDT66uUSoVWSyUQWCRSRwmIaREyreJW6dNbpU+xCMaH7hbG8gll+gQwPYiYtvjLWoVKtfhKycMzBbdslwJVl1nuo1qclupOdbhZ9pSEJZ4quDXCobdhr6NSLaHgbLhkQgAZ59R/R8Yx212iVCn86PmGD32nR/PaQvzUHOJFGXuyziSKLQtye7UgEHEsDvXF46yQru6ZqcUH/zId5jv9/f7pSUXffXroux1zMBjM9Hn9t/903s2LH9zFTSJSPH+YMXBUGMlyDbVOOjGfed6TnlcmS7TW3xU3QqVX/5N97kpxzPteE3uYp9hrXTR67ZWSmKN510ps5ivpxLq0qcc9J9dWHwsXl+bdxigKCYkF3bvZpDSjERqNWfo5SqVNZHYagsVgOBSbCN+2IzpUnyzOShZnHYLLOATrx3APZfmEMn186K4dU/JPqVM/r0y+VvroUUV8m0VB+NBd+7TCNp3hNnJ1/I4zBbedyPyJztWxpwmiDDeKbWvrDrXv+W/OBakt75oKner7pF0DKuLf9RzPIlhWKs+KoIA+FSadKrj1CmXNtoZP1k3a9v3Zo3vuunsLPloz/ov3dzfsgyDIp99OWjp9+86Nl9//ZPig0eEqpebPDZdKCirpTHJQF7fBY8Lbet6d/J/BwtPf85q4MWVf21yuWFmxNuFPf4b7aMe+fXhdWhMOaj6VavH10scn82+0jQupE2thBcPdTAUVACgsrNRqdTic9T+RLs5mhavGxua0jeGuNE/4UqezSUWq/0O0qC5BlJEgyjgAFxFAnCh8H5qLD93Vm+biSXNuRzseBTRXXpwgynhUEf+iKk2t17Tl1RFAFnq/gUDLt1jCWL5/R64qUpb70FzxmOqfiwCmRzQv3DpTbAQSljDCofeRvCs2vQoA3Ch9/EgYP8VlyEjH6DaOvBKqRZeLYy4VP7BuUvIE5wE4BNcGb10TDBnXZci4LgDQb3hIv+EhANBnSFCfIUEA0LWX919nPqzpeebxqprHb39Qm39CoRJ3nvqg5unIyd1HTu5u+4l30kktgwSRd8tiHwmbqqZsXZLF2cni7J2ZJ4bb9xos6OFA5triKlUayb2yF3fKnsWLMqyVW9WTE6oH/cOKtnuvXnuE8otsSnV+XZXiOotcm7RtBcPd1dXcIGm9Hs3JrfDytH6JewcHFhaLabaG6/MXOVa/tEkqK80SyzO/6Gwn5oMCmi8vyZeX3Ch9AgAGO96FInAk8RzJPCcyz5HMZxMZrTFnm0CL6goUpXmy4hx5cYokO1mc3Y51c0Y5RvvSm8n0ahY7AsOOUC8UrW0qNI116ney4IZGb/NdKZlWsSvr9OG8KyMceg+xj3ImW/8Hqi6FirLHwoRHwoSXVWlW33gZ49T3Xc8Jar3mRP51LdrpF2hrNHqtTKeQa5VynVKmVci1SplOUeeBUq5TyrWKbFmh1S/9c/IeFp5BwZGoOBIZS6LiyBQsiYojUbAkSvVjMhVLIuNIbePNfT340G/64qc/tLFDukotOZh76WDuJUcyrys7oKtdQCjLp5WxoCXKimRxdpIkK0WcnS7N11v1lyeY6bU86J1cWXHbG+7PhKefCc+INCUEDJlP8hpsv4BDrNZP0+rVZwt+SpfEYBG8B63rEIdFREx1XHeS6OaD8oOV6kIGnh9mN7w7ZyICmF9TpkxwWelCCU6XxBzPWzPOebkfI7pQkXQ0d9VSv8ONT8FWVCqu1hjuZdKjVjbc3VwtWBQmJhbawnDHYjEODqxmY+hTUoqFQpn5QfktxkzhS6TDyC++xtTY8XUbiRiCA5nLJjBYBDoLT2fiaXYEBhNPY+JpBCyegODxGBwBg8djcHgMDotgdKheh+p0qF6n12lQrUyrlGkVcp1CqlWINbIKVVW5uqpCJSpTVZYoKzqIGIgjmfeWx7j2nkXLYRMYE5wGHG4rz7FMqziad/Vo3lVPmlMfXkQYy9eb5oK1RskqFNBCRVmGND9ZnP1EmFigsJW8VXd24PueEwGAgMH7MdwSRK9zuHwboNKra0xtmVYhq36gNJjmMq2i+lAdG70N1pmNkSoxUbfIJAQMnoIjUbFkCo5kMOX/e0ym4EiUOkZ/zSEylmgjT0cHh4mnfew/++u4rTZV/WqMQkVZYUHZmYLbOARrT+a6kAXOFIELRWBP4lBwJBKGSMYSyTgiAYNX6zVqnUapV6v1GpVOI9ZIS1XCEqWwVCUsVQrz5aVVGlvJCdBwlE/8ZyOAOFMEeAyuLb8CefKXN0p2jnNeziW6yXWVObIXdHytOfpUeCqSO3mWxy9iTdnZgp8elB3oL3gXALKkTy8V/TrUYYkD2Veoyr9YtFmPaqO40+xJPmXKTBdKcIE80Y7gVKhI8mNElygzHchtnRav1OaUiHfJVLHZwlUAoEflOn29P58VDHc6ncRiUqpEZkWjJiUVjPlPoNe6eHnymzXcURS9czdl3FibVyzLyzMrmp9ItE4WuVpXllb+VZDgz+a7Aii1uSScq1Wu++qi0quzZYW28Ht1EHAI9jP/OSSs1RL4Gq5GrGLUNs00t2E3Sp+UqSqb72o9MqUFmdICACBjiX4Md3eKoyvV3oUi4BJYLAK9aeUHPaqvVEvKVJXl6qpyVWWJUpgpzc+UFrSBUIM71fHzgLdqspBDmD6dhnsNKKBKnbrW1K4xvuu4w+Vapay+jd5BVuBWR63XqNWaKrDAkkMAIWOJVFw9y76+lV/dUvdQB1QobwHhLN9pbsMO5FxsxzloUV21+6njpY8u9Z3GI9oBABbBuFLsM6T5bXZptV6BAELDsVkEexbYO5ID6h51IPtG82YBAIfoGsgcUKCoTiK6X74/gj02kDkAAOwITmHKEc8rz0dxp9mTfUuVmQCQr0gIsxuRKr4HAKXKdHuST5u9IgMknJsjc5FaV8qljgcABMGT8fUWD1Yw3AHAzY1bFWfWcj8hyVZFDfz9HG7dTm62242bSbY23FEUsrPLm+8HQCC09ZalWldWIN7txV5p6Yk34zL+ufZUq9PHZRX1C/H86d3RBBz2XkL21rP3dTq9hz17+ZuDqqSKlXsvufLt0grKdHr027kjvB05APAyq+iXk3cUKg2dQlwxfbAzl2X9F9ZJfd73muRDt8LyTKgW/ZZ6KF6U3tD0PNf319aP3zREDOFdz/HfJ+2y9YVMotCpYitTYivrFemk4sg0HBmPweMRHB6D1aGo2uDl+s/jZd09aDMRkNhrgxfUzeUIYfkczL3UZhOY8Ne/40IC5ka25KdVrtaE/7zlhzFDJ4Y2Lw5oPl/E/SbVyGrc4e3iMX1tQAGV65RynRIsEULDIdgaUz6A4bHA+w1zzhIKZRt+Pv/t92Z1bhtmuI3IlBbYrqz1q8tkl8G9ueE1Tz2oTm1puHvSuoewhu7LXmZP8g21GxrIHIhDan1V9mS/msckLE2lqw5gLlNmFcgTY8oP1R1Kj2odyD4x5Yd0qLZMmTXRZdW9sn90qLZUmRnFtVWpwSbAY3lOzCUUQoDJo9Yx3P38HF6YZ7jn5wurquQslvUVTvz9zZK5iHuZl51d7u5uk5wPA1nZZRKpWQ621nvc08q/1KEyHMYOAADQ9IrVWn2VHlV52H1BxrsDQIZwjUYn1KEKV+ZCDELMFW2Vq9NSyz9jUwZxKcPMv9CPR278+9l0Np2ycMvxGQMjCDisUCL/5uDVfZ++yWFQ/73xbNPx228N7R6bWbh0fHQXL6fDt1/sufpk3exhao32+0PXd3wwmU4mXnmW+sPhG1sWTmjlq+6kaYY79BrlGG2Vof7MOJEgzhjj1NeexP019cBin6mZsvx75S++C11slfGbJZrXJbz4vpH13I7ItIp2TFowCYtA/yZkEYfIrNsYyPDAIdj/5zD3BFFGuyyiOqlBi+rEGplYIwOAV0iutyEIIJ/6z172fH2evO2qwXR8IuwC5nqMqdviQXOENnyHEECGOCyK4k55WXXlbum+h+VHpruvp+IM5hAQMCbEBlBANXplH/7sYOaQuu0YBGdP8q1Q5ZUqM9hEZzKWwSI4liozylU5bR8qY6Axqx0ArLPZHRjgaGZPFIXHT2yygevrY29myPjxk09sMYEanjzNMrOnnV2rou3FqqeAIP68X7nUEQBQIb+KwzD9eZs92V9nVX4PAABolSLGi70yiP8HnRhOJQQ4M95lkXr6cn+yyGoHAI1Gh8dhAQCHxaAoAMDLrKIgVwGHQQWAkd0D7iVmAwCfRevi5QQAPk7cMpEUANKLKnJKK9/ddGTqd/t2XnyEdrq9bEwkO3iht3H1kxYTL0qf5zVptvvoofZReAxukCByofeUsY79juVds9YlmmWZ7wwG3uZ5Ka8oVBz5m5CFjmSeUbshzL3NpnHinRktc7d30kkN638+v27NyX/23jU8Xf7lkb177v7w/ZlzZ2MNLX/tvLlu7cnlXx3Jyipb+fVRAHj/3b/i4vIuX3p5545t1/ZkLHFN8HyjNP3/Z5zJ/C8C5hplPnhQndp+JnQ8rxdv+nveO7WoOkHUTMltBBA+ybNcmUPHc+v+AwA6novHkDKkj5zIQQDgSPZPk8QQMVQarn2KVEpVzwFAqxcVif9QaDLqHrKOx918wx0AHj/JGjI42CrXrQuZTPDw4GVmNp/4dflK/Mzpvfh8W30Db9w0V4+Zx22VerRSk0/GeQAAGecOAApNFoXgDQAknLNSawhJQny436RWfInDML3YX+MwzCZGa5rF46Jn/3zAjW/HZVC7+7pAnZLmAID+Z49T6uwhGNpQFBw5jENfvZ4FzDoaQUyvLwPfsmL0uVSrqDEKGXhqpVrMJ7EjOcGfv9hsrUs0C5fI+tR/zsqXv3dGOxhBxZHXBi9o7Gb5qoS5d6bodwIA8fH5CAIrVo2PfZ5z5PAjACgsrFy4eLCTU7UDNSEhXy5Xr1g5viBfuGP7dSwOK5Op7B1YSYkFlZXy8RO62nqGAhJnbfCCz19sfj1qi7YGNoG5LmQhFUc2avdsW8M9VXxXpZcLSN4EDKVEmabUSewIzduivXkzT+St45S5+jJ6o4CWK7P1oAtiDgIAe7JvsuhWH/5cAHAk+8eUH7Yn2zzAvaBC9DS9XnzR2B5BAFAo2urL35kjXEsjdsmt/NaP/3dNB+sY7lwunc9jlJaZJZn05GkWitrkx7pbhLs5hrtarf1j542vv7KJ4EZqWnFKirnlyrmtM9yJOEeR6hEAKLV5AEDBe4tVz4EKSm0+CVf9/WEQuwbx/yiS/FssOezMfA9B8Dq0JRv9mUUVbw+NHBMVWNMS5uH40+Gb5SIZl0m98CQ5yt+0e8/bkSORq56lF0R4O6EoCKVyDv11KwXVQQhheq8KnmfdhDA+0a5QURbA8AAAexInXpQxkMRW6dRafZvGYETY+b/pNnx/zoW2vGgHh4ajfBOysIlMBluHuat1urCftuj01eEow/x9fps0uubozH+O2FHINS1iparbhm0/jxs+LjgAAC4np6+/cbdQJPbhcb4Y3M/obnArPeuXW/fTy4UqbbVCRZSby96ZkwEgpbT8x2u3n+YV4DDYAT4ey4f0t6MYWw+dvIoUF1U5O7MBwOm/qixEIr7GageA3NyK+Jf569aeBABXNy6CwO1byf36+z9/mqNSa+ztW+6WMh9PmtPKoPdWxm9v44ocHQoqjrwuZAGfZKJ4Dh1P5RCZFSpR28wEg+CfCk9VqYv0qI5JEPTlz/Wh92z2LG961ETXVQ/KDsSUH8IgWDbROYpTvUftQPLNkDx0ogQCgCM5oFJdEMQc2ORgVuBhSt7aA/XE0wyGOwZD1ugqdHqRgD5TonpYt4N1DHcACAt1uXItwZyeVVXypORCi5z0ZtK9u+fho4/M6Xn9RtLQwSGRkZ5Wn8O+f++b37nur1ILYJK6l0iPJpctJeJcEATDpgyoVNxOLltqiHEHAI2uMrX8UyyGqtPLPNhfAgAF76PWlSSVLRZQJ7IpFnwiNTrdnxcf7rv+TKnRTO8fMbVfGJNKWjF98AfbT+n0emcu8+s3B0sUJhKXiHjcxnlj1x+9JVOqURSdPjBifE9rpqB1YqAbO3B54DtWl3Hoxg56LEwYJIgEgGhel+0ZR5MlWS8qU/0Z7ta9ULNMdxueJsl5LExs4+t2TOh46rchi7xozk30sXWYOwGLTfryA6VWK1OpFxw5bf6JKaXlS4+fHRXot27k4CKx+Muzl+tGOWYLKxcePbOkT9SuiNCE4pL5h08v7tNjXq9IAMirEr2591Ckq/P2KeNkas3P1+8sOnpm/2yrBYZ10o4IBMy4uDwAKC6qMrQYefdcXTnePoJPPxtleHr7VvL5cy8+/Gj4y7g8QNpOviaE5bM6eN6a+D9UenWbXbTjQMGS1gbPd6c2ar95Up3azHD3pvfwpvcweehtr+11n/bmzezNq93296JFetEiG57Vize9F2+64XFuPkb4YEmvd0Zab77wxV/np/YPM4QT1yBVms74xmHYSSXTPTjfAoBOX680kNUM9+7dPc003AHg1u1kWxjuoSEuJBJeqTRrKfzDT2f//ONtDptmxQk8fZp9916q+f1bL2nvy/2x3oCc1XWf4rF2QYKddVswCCFYsNvSq1x/ka5QaU6vfgsAlGrtmNV/T+0XBgA9/F3/9Z9e041FI59YOdfwuIuX046lkwyPA10Ff3/UeXO1ISMcei/wfsMW+oxvuA6uySob6RCdLy95WBHvSOYt9plq9Ws1DQLIV4HvrIzf/rIqrY0v3dEwaMg4UwRNd2sbNXcSDkfC4QhYCwSydj96JqDTfh43HIMgAIDHYpedOF9z9FZ6NgGLndc7EgHo7eHWx8vtcW7BvF4AANvvPaISCL9OGm24HJtCnrbn0P2s3F4e/+/6tq8BIaEuFy7ErVtz0t6BicGY2JEPCnJ+8jhrzeoTANCjh1d4uOu2bdfs7ZkMBhlt29ypMJbv2pAFq+O3K3SWiOy8+tBwlHUhC32b1CvzoDq9Pu6VNonikylNrwDd2WsAUMMkvLgb6h6ymuHerZsHgoCZX59bt5MXzLP+BgQej+0S7vYgJt2czlUi+ZdfHdmw/k06zTp1zisrZT+uP2fRKd5etq3RaC2kCpUhMxUAUvJLuYzOTMGOAhbBvO05brzTABuNz8LXRnNhEcwC7zfM1HSzBQQMfnXQvBUvtyWKX4HQbRvhRXNZEzzPzCS5jhnmnlRSFunqjPnPoRrhXM+JI9eocdhaww2PwWqQ6michzn5UW4uNYuEYAcBApBYUtppuL8efPb5qLpPf9/xllGHOXP71H168NAiAHj7nX62nlhDgple34cuWZ2wo0ptq8JGHQ0Wnr4uZKEnrZkodo/mOrxClFRKPv/rXFGFOCrQbeHoXgDw54WHMUk5ANAv1Gv24K4vs4r2XH26/r3RAPDJn2fnDO4KAH9deozDIBUSuQOb8e3cEQgCO87F3EvMFrBoQomJekdSU6EKAKDQpOZVrSfjvV1Yn1XKr/JotXdeqxnuLCbF18c+JbXYnM6lpeKk5MIAf+s73fv38zfTcAeA9IySz7889N26N1ovTymTqb5acbS83ILvsJOjHc1Ka4amKZXJYvLzCsTiCoUCAKUTiR4su3B7e1cmy8wRhnX1uxOfNWf9QQyCEPDYtbMsU6TpxEawCcwvAt4KYlo/4qvDQsIS1oTMXx63NVWS095zaQci2cGfBcypq9feNCFM74PQdmruTVA3sbhCJu/mUnt3Z5DqvZy+Xh6bbz048CxuUlhQSkn57YzszwdVm2tVCsWp+KRT8fWy/0sl9TaRO+mkbfChu24M/3hl/O/5/wcakS4UwZrg+QJS8/oqbZyfalPEctVfy6YAArN+OjCym3+VTBmbUbhz2RQAWLz1RBdv0680Nb/s5Oq5BBz2nY2HM4srsBjM7fjMfz57E1CYtG5Pw/4ShWmPe27lj27sFflVGwCgSnHDJoY7APSI9DLTcAeAq9cSbGG494n2++XXy4pG3oiGJCcXzVu4a/XKCa2ZTFFx1arVJ9IzLPv2du3qXvepHkW/uHp5hLdPP3cPjDVSd1GAy+lp2548elliemLebPb0kLA3Q0KI2GY+BkQ87ud3Rzfdp5M2ZgC/2zyvSfT/P51ECpb0XejiH5N2PxaaG5v3GoAAMs1t2Ay3ERZVng9keraXmjuC1DPWhbLanHg2hSxW1upyVCnqaXQE2fOXD+m/6sK1by7fFNBp83t3nxoRajjEIJGiPdzm9a4XnMruTE7tpJ0QkNgbwpf9nLz3yWsTHGKKMJbv8sB3GmrImMSRzCNg8K9H8q67wM4QteXtwM0rF5WJpEFuAoN1FugqSCso83GsrQik/y9N39+FR8BhAcCOTpEr1VUypY8jF4MggICXg4mVj6yRGHcshkLCuZs8ZM2g2H79/M3vfO16olZr/dsJiYTvE22ZWn5ZmWTx0n82bb4kElkst6LXoydPP5u3YLelVjsARHav5yh9kJd3NDHhndMn++7aueXRwxKZ1NIB61Islbxx+OCCc2cas9oBIF0oXHvrxpC9ux/kmVU8q5MOAo9otzp4/if+s/8PrXYDZCxxVfD7k5wHtfdE2ggqjrwq+P2ZbiMtstoBgIDB+9LbTs29LlwqtVBUuwP5OLdW78xfwHucW6D/L7AytsBYhuvEy8SPB/RO+GLp9UVvz+sVWfOae7q7pFcI/fjcAAGv5p+Abs08pU46sQgajrI6eF4LvpuvBAggE50HmlR+bAwMgnGjmlUNs+OTVSzU61E9iqYVlrvwWD6O3IScYhQFFIWEnGJvBy6FRKiUyAFAq9OnFVYYzsJg6tnVzlxmWmG5HkX1KJpdUtnwKtJGYtyJONds4SqFJjOz4jMyvp5Za02Pu4c7z82Nm5NTbk5nsVhx915af0tsfTMZNjTk8pV4i05BUfTM2eeXr7wcNDBoxLDQgABHk8kxdSkvl9y4mXTy9LOi/1LgLYJIxEV0ca/bciyp2n1YKJFsfHBv88MHgz083+vaPcLB4u9AbHHRu6dPChVmrUPyxeJZJ46t6Nd/TlgXSy/UGohYvD/DPVmc3ZYXfdVBABnh0Pttz3HmB0vYjlE31p8b8IlVhrpVkpwpLX3Lq6/5pyCAvO05zo3q8FvaQY1ea5VpdEzCWL7L/GbwiC1UoAphebdLSkBfL/fPz1zaevdhT3eXtLKKPx88qdlInBsZcepl0uenL73RJbhEIt129yG2zh6jSqtNKi6dGxmBNsgNWxjdY/xf/y4+emZaRCidRCwSiW+mZ301pD+L3BYxh510YhIEkDfdhgcwPX9J+bdMZcIye0Wh4ygf+8/qzrZYBc6D6pQmeR28gZ4OnC/+Pl8sFEcHu7sL7ACgq4/zu5sOA0DvIPdQTwcUBT6L9taGQ1wG1aQ3HQA87Nk9A9zm/nzQkct05rEadmhMVcaF9alE9ZRKCCLhvejEemUKrGm4A8DA/gG79twxs/PFS3G2MNy7hLt5evLNEXQ3QqXSnr/w4vyFF3QaKSzM1c2V4+LCodNJFAoBi8Wo1VqJRFlaKs7NrUhKKcrKKm1NInvfPv4kUq2ClUytvpReTytDp9dfykjv7uRsqeGeVVk59+RxscqCbHc9iq65eQOLYGaGhll0rdZAxBA2hH/0WJjwb86F1+NLbmu6sQNnuY/yprm090SsTz+Bfz9BS34KBgkiPWlOm1L2Z0jzrD6rdoeAwc/1GDPWqV9rnHmhTJ9DcNmKszKT8aGB+SLx4ecvf7/70F/A2zh+RI10TICAt2nCyE03751PSvXlcb4dNeSLM7UzxGOx/bw9Pjl14ZNTFwCARSZFe7qtHTGYRiQ4MRlH5r656ea9j09eUGg0fDqtl4crEWflu1gnnbSAcJbvtm5f/pFx/EpxTHvPxQr04AQv8p7KIbZEHf/1CHPv4uVkpNsIAG8Pi3x7WG2oHoLA928b60UaclXrPlg8tjeM7d3YhaSNh3bTiV2NTHYDVv7JG2CJ4f74SVZxicheYP26CdOnRX3znQW6wkZIpMq791Lv3rPijIwZOSK07tO7ebkKrbHXEIsgY/z8LBpWrdPNP3faIqu9hjW3bvhyOJFOTSlDW53u7KDu7KC4qrTj+deeCJM6S2OaJIzlO9t9lD/Do70nYoJ0ScmPCWdXh04UqqV/Z9zCIhihSuZAZn0TPhkBZGf6zZjydADoy/ef7Rn99oM//+753s+J5zR63VfBY9+N2bkz6t3DOQ9P5z+L5Hot9RsKAC+r8hqO80vyxUJ5ZYGiUqRWfB40ug+/9nvhQXXa1OXjo3lXD+RefJ1c793ZQe97TawpW9tiApi2VXOvwSgxBwFY0idqSZ+ompZri96ueTwiwHdEQO3m7+UFcw0PUIB3Dpwg4rD7Z0+hEgh6FC2Tylacv7r93qNPBkYDgDubtXliPe2RTjrpIFCwpA99p/fjRWxPP5qvsNh12EFg4KnzvCb153dr8Qivk7BMG9CYqoxSm50r/FalyydinV3tviLhaw0AKxvuzs7swADHxKRCczqjKHry5NP5NtCF7N8v4K9dt1sWxNIGuLlxw0Lr6ZeZjDLv5eLKo1gWxPxLzIO0ioqWzUqn13925dKFmXPIbe7BCmX5hLJ8ihTlF4vvXy15+P8jsNUsYSzfN92GhzC923siJsBjsPFV+TvTb67vOp2JJwvV0lRx8Yl+HxIwuHdidmZKyyQaRWxlzp9R7wDAksd7I9juLAJFolFWqeVqvVaqVbIIFACY4taDhiOmS2vvc0bjuFI4t0tTjvf9QKxRzHv4d12r3QAWwUx1HdqbG/Zb2sF4UUZbvgm2wJHMe89rQiQ72CqjETEEX7qbraNlymVyXz63+X7NkV1ReS8r59S7MwMEtSsWTw67SNz5m/AaotJL/0obAwD9BMuCWGPbezrWoYud/9ZuX54quHkw55Jcp2z+hA4DDsGOcuwz3W04DdcqnT2PxsszddKQxmLccyu/c2OvJOJcVNq8HOFaX/6fNYesb6KNHhVupuEOABcuxr01tw+RaOWyZxgMMmtGr5/Wn2++a3swZ1a0UcuDfBMb/WP9AywaNquycuezJy2fFkCuSLT7+bMF3U1UFGsDHMjctzzGznIf9awy6Wbp04cVL5W6/8fSdADAxNMGCSJHOPRuvcPVdih1mrUvT4xwDGPiq/OW/BkOBAwOANgEqlyrypSWBTKdDGEeAUynVElxEMv5UUUGGUcg6HGPyzODmaa3d4zGwWOw3dkenzzbDwBvujda0dqZIvgx7INnlUn/ZJ9/RcUi7Umcqa5DBwl6WLeWlo3C3M8kJDsy6BgM5mJSWlaFcPVwK7hg7Bl0KoGw88GTt3pE0IhEoVx+KTk9Jjv310mdqladvDLgEOwk50FD7Xsey7t2tvB2x6/ThADSmxc+x320Ve44VByZT2KXKoWtH+q1R6vTqzSmN4oxCJGIcwEAIs4Fg9TLarO+4T6gf8DW36/JZGZ9UiVS5eUr8WNGWz8tctjQ0LPnYs1fQrQZXp78fn3rhfOWy+UN3eQIQD83d4tG/un+Xe1/gkRGsMnkWWHhvV1cGURiiUz2IC/vaGJ8udxELYA/nz15q0sEqf3CRnEINpIdHMkOVunVT4VJMRUvHwkTJJr/C6lmBJAwls8wh169uGE4xIJSlO0CBsEciF708dP9FwvjhjuGGlrqdvChC64VJxjCnxKr8vvwfJV6zf6sB0McgjV63an8Z7M8TYf9YRqYrUK1bLHfUHdq8z7dCLuACLuAhxXx/+ZceIUC371pLmOc+g7gd7dF+VsbhbnvexybXFqOoqg7x27jhJFR7lbIviDjcX9Pn7j51v23DxyXKFU0EjFAwNsyecwQv4646dRJJ01Ax1HmeoyZ4DzgdMGt80V3xR3yLoZFMP353aa4DGm2ErNFeFCdOg13c2gsTgYAcBhWftUGMt5brknDYetlvlrfPiMS8UMGBZ08/cyczu7uXA7HJmJeCAIfLBk6f9GeNi6G3DQIAosWDjYKBk0sMxEM58/lcSkWbFcllpVdTjddCj7K2WXrqDF2pGrhBV8Ot4+r2/xu3ZddunAjy9gPV6VUnktLnRQQaP6lbQQRQ+jFDevFDdOj+jRp3vPK5OeVycni7HYRpbYpJCwhnOXXgxMSyQ5iEejNn9AxQACwCObHLlOXPNnLIdJIWON9sxCWS1e2+3sxf6EAvXk+oXauMq0qpjz986DRar32h4Qz33eZokP1q+KOZ0lLZVpVsaLqfR8TXluZVqUH9Lv4UxjAKHTqdWGTXanN1AHpwQnuwQlOEmddKn5wp+xZh926oWBJ0bzwEQ7RTVcRbyU2CnM/NHeadQc00MXJYff0SbYYuZNO2h4mnjbLfdRU16E3S5+cL7rXcZQYOETmEEHUcIdeLVasagJPqtPDipdWH/b1o7E4GQBwZ6+tlF9RarNoxC525Hp3RsQWdm1mVtm77//VdJ/QEJdpU6N6RHpZo9ZQo2zZdvX4iVZFj1iXMaPDl30w3Khxz4vna27eMGp8v2u3L6ItUMdbeuHc2dSUhu2hAvuDk6eY9KBrdLrJRw42FHrv6+a+e/xE8y/dlqj1mjRJboI4M1mclSbJFarF7T2jluNI5oWz/CI5wWEsHwLGytFirxP/Zt3HY7BT3HoAwJaUK25U7hhnC/boFDrV7bJn10oeJomz9ajpLak2hoajRHKCorldIuz88Zi22N36NPaXFkfLfB30bk9OaPP9Ohhj7nzYQf7cnQBAIMPz5/APjRpfyxj3psmTl1wreXS77GlJOzmkyVhid3ZQf37X7uyghnub1uJeeex3iX+3cpAd3Zabvw9QJbW4Dk9HIK2o/L1fjxo1xv62DAAyK75gkfvSiVF4LDu/aoNYGWPPeIdNGQ42MtwB4LMvDj15mtWwHUGQPtG+06ZE+fu3hUS/RqNb8sE/qWnm1nO1KQ72rD93vEWhGCtwr755fe+LWKPGv8aOH+Bhbin7fLF4wO6/dA3+lHgs9vyMWV527MZOTK0oH7Fvr9FpBCz22byFFPwrYEoK1eJ0aW6WtDBHXpQrK8pXlHZkXREqjuxHd/NjuPvR3f0Z7vTWJQD9/5AjK/8u/jQZS9CheiaB8mXQGCquJTL2Uq38WWXyU2HSs8qktl/ykbFEP7pbmJ1fOMvPh+7yWpZr6aTtOXXs8cF/7h84+UF7T6Ql/B8a7jVkywofVsQ/ESamSnLaYBtZQGKHsfx6cIIj7PxfSz9R+JJN7T0Fq2Ew3J/ldxPQZ8vU8b68P1LL5vvwtqaVLfTl7QBbhMoYmDa1h5HhTiDghg0NnvJGDydH6+/LNAYej121cvy8Bbul0nZO7qZQCN+sm9TQageA7Kqqho1+XAtyRPbFxTa02gFgVmhYE1Y7APhyuP09PI0CZtQ63YuS4p7Or4BeOJvAMATEG56igJYqhYWKskJFebGyvExVafhXqZa0se8NAYRDZDqSeY5knhOZ70jmuVAEjmRep7nWAtyo3B093m6+X3PQcJS+vIi+vAgAyJEVpUvzMqT5mdL8TFmBTGtlbw0CCI9k50Tmu1LsvWkuPnRXZwq/86/fyauCVKLE4bF1i420MWJN0cncD6XaUgbeYZzLRjre3tB+OPvdclXGWJf1zpSuaeJriaJzFapMtV5GxjLtyUGhdm84kBuVY8qW3k8WXSxWJip1IjyGzCF6+tAHBTBHYBAcAKCA7kwbpdErxrtudiRXbzHpUPWfaaP0qJZJcJrhsa9mqETRuZvF6x3JoeNdN7fsBbpTHd2pjlNdh6r1mhRxdoI4M1WSmy0rKFVWWkUWmYDBe1AdvekuvnS3UKYPn9SUJdBJB4RJ6uPEXJpZ8YUeVWIQPAJYHIZhOGQrwz2ii7uPj31aWjEA0OmkcWMjJo7vxmK1g4vRwZ61Yvm45SuOarXtFhuNwSDLvxzr4W7aFi+VGees0AgER7q5sc5qne5wgolKsWQcbn635vVhRvr4Nox0f1H8ahjuRiCACEgcAYnTpf7aUI/qxRpZpUZSpRaLNFKJRi7RyqRahVQrl+uUSp1aoVOpdCqVXqPRazV6rQbVavRaPapHAdWjKAooAggeg8NjcDgEW/cBBUti4ulMPK36H4HGwFHtCAwHMve19Gq8NrhRHdyoDoME1V+QEqWwSFleoaoqV1VVqKvKVaJKtUipU6v0Go1eU/PBQBAEh2CxCAb731+fiiNRcGQqlszE09gEBpvIZBOYfKJd5wegk1eaLRsv9hkQ0LuvZYVErIVIU3gqd5lUW8oiuIxz2UjFGWelC1U5qeKryaKLNS0ybUWG5Ham5M4A+0/9mSOM+mtR1dXCbzOltUVmVDpJofxFofxFkujcSKfvKTg7BBAu0adIEVehTK8x3EuVKXpUCwAidYFSJyJhq8vOlCvTAYBPtkIFSQIGH8LyCWH5GJ4qdKpceXGxorxEJSxVCoVqsVQrE2tkUq1Crddo9TotqtWjKBbB4DE4HAZHwhBoOAoTT2XgaRwiU0DiOJC4DmSuA4lr9UiYdW9uvnvikeHxt6c/6zY0zPyjnVgMgk0tfRcQXFrZAgBErHyg0VWHV9kwvHLalB5/7rw5eVL3kSPC2nHhDgDdu3msXjl+9doTWm07hDxisZivvhjTM6pRVQSZ2jg7wYfdTO5dXS5lpFcpTewnTAoMMie9NdrVRFZcZuVrlQ+OQTAsAp1FoEOnvmwnphCQ2IJOj9T/DUK1ZGPKwW9C3mvviXRQUD367ElWnwGW6RFbC5G64FTeMqm2jEP0HOO8noIzsUX/tOIfha7Kldo9nD2NTXBT6aV5sicPy//W6OW3Sze703qTsIy6/a8VfZ8pvYNBcCGsCV70fgy8vVRbni29/0y4v1SZcrFwxQTXXxHA8El+RYq4ClWtJ6tYEQ8ATLyjSFNYrEh0p1XL0Vao0gGAR7L+wsYQU+dHd7P6yAYOrz8zZFYfOwGrBed+tP29uavfuHvy8e5Vhy092omleHF+UmuLCTgHAESjKy2R7HdhfWw4ZEPDvX8//759/LBYW2U/WESvnj7Lvxz77fdn2tjvjsdjVywfF93bt4k+Mo2x4W5HJpt/icMJJnK3EYC3u0SYc7qASmOTyUJFvVCBHFGV+RN4Dbh2J3nNz2cAoF8v33VfjGvv6XQg4hLzF39xAAACfR22r5/Z3tPpxLacPvToz42XFn05avh4s349rMuMYRuE5dILT1e1/aWb4HlR0eT9BwJ4vLOzZ7X3XJpBLld/9fEBPB677qepBmfZjSsJ+/fcLcgX8u2ZI8d2mTwtCoNBAODtN3+fNqvX45iMB/fSyGTCmAldZ73d1yAUsWzBnoy0EoVCvfrLI4Zhp8+Jfuv9/jadOQLVdoJIXXAy70OZtpxH8h3rvJ6INb3zrNBVedL6DHdaA4AAAAU4dgQ3IoZ2rfgHrV6VJb0XUMfpni19kCG5BQAD7T/zZQwxNFJwHD7Jj4G3v178U7EiIVV81Y8xlE/yA4ByVW0RtyJFPAAEssY8KNtRoqwx3NFyVSYA8ElW8Li3JXKxYvfqI5EjurTMcKcyKVQmxdnHdIJi00c7sRwMAVftasRj+c6sD2sO2NBwRxAEi+1AMZ39+vrzeIzVa0+Ul7dRET4He9aqleN9feyb7ibXaIxaGERzc++KpdIHeSbEqvu4ubuzzM0lcGOyjAx3kxLvnXTSyWsPDo/F4ztiDYGYioQrxY/xGFyJsnKO+/AwO++fkvZrUG2VWrrUd7IrRfBr6lEanpwnL+UQmGKN7KvAWX9nnitSVih16nc8R7lTHQBgY8ohuU7JwFlWkbqDgyAIAMhlqq8+PkCjk1Z+O5lAwAHAk4cZv/x07oNPR/oFOOblVmz84axOq39zdnXxhK2/XH5/0aDZ7/ZLfJm/+efz9g7MoSPDAOD7TdPVKu2kkRu+WjMhqrcPAOBxNv884DFkABCp80/mLZNpy+3JQaOdfyRgmvoz9eTPh/pJIz6MQdeLf0QBrVRn122PrzoFAFyid43VXoMfc/iDsj8Uuqo08fUaw12ozjKERwJAsSKeiuO6UXs8KNtRrEgwnCVSF2r0ciKWzsS/Ylu4z6/H69ovZrgTa2EFd/gIvy/yMstacOL108+XTvyt9RMwn8AAxx3b5oaH2VAyuYb+/fy3/z63WasdADQNqibRzTbcTyYn6U2lpb4ZHGLmCADg0CCevlLxSiorddJJJ61h7NTIE3e/GjSqgwan6gH9ImDmB76TzxU9QAD5PGDG14FzJjj3vVsWBwAooAP4EXpUP8m5n1ynTBBlyXWq5YGz53uP25V1HgASRFkA8HXgnL788PZ9IdaFSMTJZaovlu3n8Oirv59isNoBYN+uO+MmdR84NNjJhR3V22fUuIgzJ57WnBXRzWPUuAgXV86wUWEDhgSfOlatm0wi4UlkPAAQCDgymUAmE3C2X8gRsFSJptjga3eidBnjvL5pq51JcG5oNGMQHAXHBgC1rtbxpEd1RYoXAOBIMSFpigDCJDgBQLkqHQCYBCcihqbVq0TqAgCoVOcqdWIeydeO6I7HkEqVKYa0UUNnvg3iZGzHX18ffCfkk3XTNwPAvK6fDyPNMPyra8dr1dp/vjk2N2DZKPrsGV5L/vj8X5W8g1bA+D+n3Qpkthd2dtQNP0+/fOXlHztvVlbapJKZqwtnyeIhXSPczexPwxNEqnpB6lqdubH4RxNNpKVyKJTBnl5mjgAADZUfFY3U4O2kk046aS/cKfYAQMWRFTqVTKv8Le0YHUeuUItdKHxDBxqOTMDg6XgKAOTJS+NFmd8m7gUAV4oAAIqVFc4UHgA4kZsvwfsKgcNhV31xpLREvHHrbByu1hmXlVGa8DL/wD/36nbWavWGPm4etW+Cl7fg3u3kNptwQ/So9kz+ZzJtBQFDHeH0DR5Darp/Y67u//Rham+gcl2FRq8EgLjK43GVxxsbUKUz6MMiXJJPgfx5hSqdRXA2uNh5RB8EEC7Rt0gRJ1RlcYie5TYLcLcd/SZFdR8aduf4w9Pbr3z8x/v27tVfGcx/wcwoiq57c/PzG/HjFg5zC3DKScw/ufVS2vOsny4uRzAdKHTCfLgMahtsFrUSjVZXLrbYELWO4W7TIkpWB0Fg2NCQ6N6+Bw/FnD0fKxJZzbvs7SV4443Igf0DLIrspxLwRoa7QmscPGOSJ4UFmZWVDdvH+QVgMRZMoGF5Jo2+czetk06sz8PbqSs/+PfbrbOCu7ju3nLtztXEqkoZm0MbNDps7qJBdXuWl4j37bj5+F6aoUOvAQEz5vVjMI3TzW9eennxxLOM5GK5TEVnkp1c2f2Hh4yZEmnRUKmJhUtm7Kh5unT56FGTu9cdQaXSTB30MwGPPXD1U6Mft8unnm9YfXLSrF7vfzTMosk/uZ++b8fNzJRiEhnfrbfP20sH4wnN3GWROneamIoEJzJ3lvuwM4X3ylWihp1dKHxvmtMn/m/WtPBJ7LiqTAAotrz2DdKBb3K5OeVdunvk5pT/sfXqwg+r/wqoHlUoNXPf6z90ZD1Pc41lX1eqoSYypL24XbJZpi0HALVedq90ywD7z5ru36xlX0Nd73sT6P9TUueT/AvkzytUWV70/sWKlwAgIAcAgIDsX6SIK1EmcoieFaoMeNU87t5d3AEg40UOAPh29XIPcjbqcP/Uk5hzz1Yc+CB6QvWvB8eR/fvHe2POPes5pqsVZ5IrrHJls1p27s2UzPjCksUDeprTefviSd4OFuh8tAupBeVTfvjH0rMsMNwf30rZ99uV/KwyPAHXvZ//B+sm1uyg3b+ScO5AjEKm7j00aMGKcQQiDgBEQtn2b0/HPsjA4bGDJ3SduWQwFosRlkk2fXU08Vm2wIkd2b82sUOpUO/88VzMtSS9Hu03MvTtT0fgCbbdDaBSie+83W/WzN7XrieeOx+blFzU4lpUbDY1urfvwAGBoSEtkVCkEYgA9cLuzYxUOfDSdEnhqUGNCtl20snrwa2y23fK7km10h9Cv23B6S9F8a4UVya+nvSEVCvdlPrrisCvrDTHRikrFn0+b4+4St492gfVowmxuSplvbV6blbZJ+/sEovkXaO8BI52WWnFJw/EPL6X9sved2vMXxRFf/r6+PXzcTQ6qWsvb6YdtaxY9OJxVkj9vT5zhnJx46ze9KaoSv7gZnLMLRMFmIlEfPTAgCtnYp8/zOzWq55A1s1LLwFg4Iha69CcK96/kbz2k4MEPK7XwAAanfT8Ueayuc0U2zYimOl5pvBeqaqSgMHRTNUyC2J6PK1MWZewGwAiOYHD7CNDmJ4Xix5+k7jHnsSxVCkPj8GIlMpN9+5fyciokMsd6PTxAQHzI7sTG3g95BrNrqfPzqWk5IqqsAgmkM+fGR4+ys9Yn0Cl1QZu/nWEr++WMaMTSkp/ffDgaWGhXKOxp9FG+/l9FN0bAF6WlIzf9+/8yMhFUT1+ffDgYmpasVRKxeO7OTl90KtnIL/aacrm0BZ+MHTwsJCPFu11deeOHt8VABAM4uUtyMkq4/EZYIrc7PKaxxlpJU4utapKGAwGQUBn9sZv61HoKruwp2EQ7NOKf5NEF+wIbuHsqVYZ2RA9DwA9uO8G2zUqPFCzbqkJcweAUmUKACIgBwGAgBQIAKWK5EDm6GotyFfKcG+WOycekajEXmO71bREDAoGgBe3Eq1ouJdLZf/EPF8+coC1BmwCFtXc1V07QicTWnCWBcaxgyt74cpx3kFOVeXSj6Ztu3k2dvCE6j9ncmzu9rPL1Crtinf/PvrXrekLBwHADx8dcPHk7bn+uUyq+u6Dfw9suz5zyeAtq07QGKQD976uEkq/nLuTSqt+Z7d/c0YuVf556ROdVrdmwd6Dv9+Y9YFxHoktIBBwI4aHjhgeKhIpHj/JfPI0KzOzLC+/QqVqKlYEi8Xw+QxfH/vAAMegIOcAf4fW+GM4FApU1GvJFZtwIBkhVCjOpZm4xYbbO/hwLFtlShroUVrksO+kk7anH6+vP91/U2oLq59cK7k+1fUNI8OdhqO1gdUOALu3XuvZ33/p8tH/Y++845q8ujh+sncIgbD33nuoiLj31rq1rdbVOtraVjttqx1aW1tta9177723gCDI3nsTAkkgZK/3jyBCCCEL1L79fvwj3Oc+914ieXLuuef8DvLFB03NcN/05dkWrmDjn/PareRDO+4f3fVg7++3P1rfZnxcOf3s3rVMn0CHjdvnUczarBOJRCaTyvUdikDC9R/sAwCtLUKNhjsADB0bdPty+oMbWR0N92auID25zNHF0sP3pZREjzPKZPLtP15BAGLz7nd8Ah0AQKFQrP/wePLjQmT3T55+Fv79LPwBgIGjqZQcfw9d1bHDaq+3AOBLvwUAoOqwwGW02iCfdnDA64VUoZh18lRVMzfA2trJzCy9rm5bYmJqbc3+adNQHR7+jQLB/NNnChsbqThciK2dSCZNq6tLrq6Orwj8YeSIrl8SDfzWpOrqhWfPmeHxvgxGs1hU2NikJhWQzWTOPXU6m8n0tWLYUakFjaw7JSVPKirOzZ3jbfky3MXLx3bt15N+/Pa8nT09LNIVABYsGvTt56edXCwHDvZRKpTlpSy5XDF8dFv6U1pK2aWzKaGRrrlZ1Q/u5Kz+dGz7UGg00s6BfudGlpuHNQKAQMTSLciGvW860s9ySQh9BgC0SOqKePcSWTtpWEcX8gDjRyahLVAIrFwp4csacciefwuVOc4RV8iVUo6kgo5zVt1lQ/AHgAZRvlQhaJWxiGhzMtrK+OW9PtSU1Iv44jEkdemkFnarqabIr2f98zCpiNn0+bmbQ33cR/h5bL0TX8VuFkqlH48Y6GlloVTCunM3pHJ5E1/wzfhh7gz6pYy8q1kFODRqkKfr9PAAAHheWfvZmeu1zbwVQ/r3c9PmKjUn66HO96ogEwypAq6H4e7g2lY/yMKaGhjlVlf58rRx0oIYAglHIOHGz+1/8VD8nPeHNdRy0xOLv/5zPhaPweIxs5YP+XXtqdnvD016kL/93EosHmNlZz5yWkT8zWwAkMnkd86n/n3pQwIRCwBjZkad2HGvbwz3dszMCMOH+Q8f5g8ASqWyntnMYvEEAolAIBGJJAgEAofD4PFoMhlvZUW1YlCRpov68rawSKyq7NhS1dwskEq7hp535EhmhkSuIaBFr7RUFTyxWK0Fi3rdI8N6CdV/a3OL8OL19CdJxXUNzQKBhEzGe7pZDRnoPWqIP1prEFRzi/DyrYzEZ6XVdVweT0ihEFwc6TFRHhNH9VzKIL+o/vHTouz82orqJh5PhEAiyCScs4NFWJDT2OGBjO6/ODdtv3H1dhbDknJ23zIAUCrhSVLR1dtZpRWsJg6fTMRZMSghAU6jh/q7d1MCTKmEOw9zbz7ILSptaG0V0WhEPy/b8SODosNcTRgjWNJaerLqtFghJqKI77ousMJZPWY9yePlL3F7DwD4MsHnWV/+Gry5UlCl1g0ADlccdSI6Pm1K5sl40fSoCXbjNE5xoeZSMvsZCoEmoYkfeCynoMkA8JyTdrH2skKpkCvli90WEVHEk1Wnc1vy/ynZjUFgBjJiBjMGAUBCU+KDhkcNYtbvIVsAgClq2F261wZvXSWsVigVS90XOxDsVaPdqL8lV8qLW0tCacErPN9HI/Q+G1TIlUs/HtXRSMV1+PPIel5RnFcXM8y3o4k8892BZw7G37+etfKL8aqjzvNHnwLAJ99PabfaAQCLRWM7nFXqOJQuhES5mluQE+7nSyWy9uPQx7dz5HLF0A7BGLrMmJ5cxm7kDRjio7LaAQCJRM5fNiT5caGOi+l7chsagmxsHi9erNLqrWlpmXPyVHxF5dH09AWhoe3d1t64WdjYON7H++eRowgYNADU83jvnb9wMivLh8FYEBqiNmw5h/vxtetfDxk8MyhI9Y3CEQr5nXXGnlRUWBCJF+fNVbnYBVLpsosX4ysq/3qatG18pw9C7GCftxfFbfjq7LZd7zo6W/Qf6PX9pplHDzw+figejUY6OFnMmh/T3nnqzOjM9Mpdf9/F4zAz5w1QScq08+kXE7b/dmPpgl1UM8K7S4eMHKMhs9OEtIe+DLVd2yKrZwpzb9dtnOr0pwXOzciRkQi0HTGoip9S3pow0GoFEtHDHzwFY4NHmTVLaxvFxQql3AbfdnxNQluS0Qy2pFwlFsnA/avc7QCgVCjNLKkrt72r1m7tZLKEEB8bxrsDwi9l5n09bigApFXW8sWS32aMrWji/nLz0Z9zJiIQsGnaaAC4k1d8O7eIHhl0PDnj6HszkR32xmQcdvP0MUUNTTseJGkx3MkE3BvhfyThsQgE6BvtocdXTu7zipM77zfWNyOQCFYtd+zsfu2XzOhtCeDmlhROYysANDKbCSQckdy2mbC0NuM0trIbeAq5wuLFyR2d0faC3cCTyxWrp//ZPiCBZMguxFQgEAhbG5qtDa1vpvOxVDenZApFck31YBfX7m4RSKUHM9K6ttPw+AneeivL8iTqhjsZY8jxzb8AIh6bmVv9zaZL7A6JyxwuP/l5WfLzsss3MjZ9M82Mqnkff/N+zh+77rbyxR1v5HD5aVlVJ84/+27txEBfe403FhQzf/rjemmFujQTWyJjc/hpWZXHziZ/vnr04BhtXxUcDl+pBKFI8tVPF1PSy1+2Nws4zYKCYqaXm5VGw50vkHzxw/m0rJdbR1Yj72Ej72FC4agh/vOmR2uZVHekCumhiiNrfT4hoojJ7JTD5cfWeH8YSY88XX1WrBDjkLhk9rMw81AA6NpNNUJiU9LHXquxSKxc2W0CxhCruEn2ExCAOF11NqExYZTNSAC4UnftXZe3XUjOEoUEhUChEKhVnh98nf3tMvfFtviXfuIBFv39qX7rcza0txS1Fs9wnO5F8bzbcP9a3Y0lbosA4EjFsW/9v6ZiqL8U/DbKZqQBVjsAeAfYa3nEZaaUAUBgaKcKLDg8xsrWrKq8saayydnditPUWlPZ5OTKcHTR9rWqy1A6rhmJRA4eHXj+aOKz+OIBQ9oeMg9uZAHAkA5WnS4zFuXWAoB/SCd1Lw8fGzQapVCYoNh7L/H1kMHtFTbsqdRPY2NXX716ND2j3XDPYTY8KCuzIBLbrXYAsKFQtowZPe7Q4T+fPp0VFKjmE2kSCGYEBswKevkGmhMIXet4fB43qD0whojBfBQTE19R+ay6GgAmTYucNO1lQsKs+QNmzX/pqI4e4BHdObSpHRwO/dWGqd39sv5Bjv8ceAUFqlAI7Bi7jWcrl/OkzKs1n093+kdjASa9CDZ/q4qf0iprSGTtjLF6v2sHuVIKoEQh2r71rPDelfzkitZEALAlvIw7tSb4l/AelLcmgolqpr4Cuvc32rpZl2ZW9hsXisH1UbnM0kZOakXNx6euAYAbgw4APJF449X7VAKuoYXvxqBXsZs9rCyQncMZPKwsAICCxwm6RAp0xJz0BrjbAQCJQBCxWL5YP/UeXb91JGLZlwv3rvx+ytCJoQDw4+qjHa9yGltdvAAAmhpazBkUALCypQn5Yj5PRKLgAYBV32xuSaZbUZAoJKeRpzL0m9ltthHdioJCIf++tNrWqecYj5/nb7t79HHHljMN+8wsNZdpMKC/Sfh8zA8pN9PHLx2xeseSHjt7W2j46j2bm6PFcD+Q/lxjHPxM/8CumaY9UtuiLmxPwelhuK+a+PuCNaMj4jQ/yB5fyzj9z/2y/Lo/Lqx281OXAlg3958lX07s2t57aF9tE5f/xQ8XWnhCKgUfFepqbUUVi2UZOVVFpQ0AkFtY99Mf13/+WsO33fmraVt33lG9dnWyDAlwJJNwTRx+UmppE4ffyG796OtTWzfM0Gi7WzEo1XVtScZO9nRvTxsGnYxAIMqrGpNSy2RyhVAk2fDrVWdHC9funR8yuYLN5X+/5UpaViUCAW7ODDsbmkKhqGO2lFc2AgKiwzX4rhRK5Rc/nEvLqgIABAJCApy83K0BlKUVjc8zK2/ez2nmmSZ1u1pYUy+q/ylvs+pHM4wZAOBRuAAz/1TO8wEW/ROaEmc6vqWxm4pw81AsEgsAqO59ZpncrISmp3gUvkHMCqOFqBqHWQ39u2TnAIt+g63iaB0G7BFzrLkXxRMAHAkOqeznqkaZUoZGolXLUGnDGYCVrbZlsOpbAOCfLTf+2XKj61V+qxgAGhtaehxHx6F0Z+jYoPNHEx/czFIZ7k0sXnZ6pW+Qo63DS9NKlxm5bD4AmHc+REIikSQKnmc6qQDTQsCgQ2w7VZYZ4uaKAChmszlCocrUflBWBgBD3dzarXYVPgyGB51ezGan1dVFO6gnBc4M7OGMFIlAjPL07NjiTqcDQJNx1TYMTenqdYho87H2P56rXNkqbbhe+9Vkx99RCKNMSSdSlK/Z2Lzmaxmc0yxxoa/ZWHOsExKBFst5XEl1nTCrgv90iuMfdFzbF67KcFfVbFJFyKiwIfiV8B6UtT6BNzbA3cyCAgDsek7X5NRBU6MfnXl6acftaR+O7diuVCpNmJmNQaOEkrY4ZDdLcz9bqx+mjGy/+qCwzIlO+2BIv+PJGQ08vr05tYTFVio7yZ8gdVsMjfwGBLirIBN6zXCXiqVikdTe2RIACjKrnicU27u+9N5dPBTvHeQolciuHEuMGekPAJY2ZhGDvPf/emPJunECvvjkP/dHvRWFQiGj4nxO7364euM0XrPg7oVU1ZErGo0aMS1i35YbqzZMIVMJzBoOt7HVJ0Sz2nrEyBBAIFoaW5gVrMq8mh5Xrm//vifA2rpr7dIbxUV5jSzfLs54AKhsbv77WXLXdgwK9XZIaNd27fAlklpei1qjXqVbtRM7Njh2bPDbsZozCH8+usxUE5mEpymlADBysN/Hy0cQO2SNnLmcum33PQBIeFZSWML0crfueFdhCXP7nnsAgMGgPlsxatSQl896iUT2x+67l29mSiSy77dcOfzXwq4xM+ZmxNlTIpFI5Kghfnadz3kqqpo+/OpkE4cvlclPXUxZu1I9Zrcjv+24nZZV2T/CbdWSYfYdxmFz+Nn5NVSKhgfZ5RsZKqsdh0X/9NWUiBCX9kvlVU1rvz+rekNMgdISa7kh4Fu11oGWMVfrrnuRvXhSngfZvYxfprEbAKisdi3Ui5jnai7+FLgBj8JfrL0sU7R9PcRY9g+hBT1ujN+Q++Ny9yUeZF2VUvHIl07xdht9usO073N+sMFb0zA0X6qBXjftqlOqLPl+cd72mhwZFgwKvLC6evxC1WUo3fHys3NwsXz6sEAklOAJ2Ic3s5UK5dDOoiXGzPialNnWiDWZomYxkLBYOpHYJBBUNTerHpilbDa8sKrVcLOgF7PZRY1NXQ33HivlWZHJamGTOBQKAOSvreltNBY4t5F2X1+r/oIpzL1fv3m47ZdGDhhn/TEGScjknKsVZNQKMjR1efmfq9J55EgqCSiaGfbl/5cqP5UrqYI3sGaqioCBPjgCdscnh6d/OA6Lw/A4rROXt9nNA6dExk6N2v35sbLsyoCBPkqFsrakPuFS6qYbX1ja0wFAKpay67mCFmF1YS0AVOTVWNiaE6kEc2saFo/RfrV9AR4MC2ZL64cnr0wO8Rvs7RZfUvHhySsAMMjLdWqof7iT3fHkjLrmFiwabUbAW5CI08L8lx05T8Rio90cZ0XqEa9l9oZ43AGATMAxufolEuhquJOohEWfjvnu/YMACP9wl+kLY9vTNwkk3MhpER++9Se3iR8z0n/6ojhV+2dbZv6z8fKCIT9jsOghE0LmfjAMAFZ+P2Xr56dnD9hg40AfP3fAzdNtBujyLycc2X5n5ZTtLRw+3Yo654Nh3Rnuw+cPGj5/EABkPMj5ZOi3Pa5c3/59DwqBGOPpdTSz09NErlSuuHblyJTpatWR6ltbF14817XYKgBM8fG1IeudQlTQ1NT18W9D0mec11goTQM9rTbQ1/6Lj8aqfUlPnxD+JKn4eWYlACSmlKoZ7n/te6CS3l/+TlxHqx0AsFj0muUj8wrri8samKyWq3eypo3XUEx+0dyBGhfj7GjxwaIh32+5AgCq2bXw+GnRoP6e36+bpLZ4ujlpUH91UQsVx88/U71Y9k5cR6sdAFwcLTasm7T440MmMQ/sCfYCuaCAV+hN8VKCskXKUyWG+lJ99pUdfMB6GGM5QEs3XRDIBUQ0EY/CSxXSNE5GoFnbfwRXwqVhaaNtRjZLm4tai1WGOwFFaJHyOobK6EitsHa83biBliZIm+sOVTBhSJTblDn9uuujShZkMXvIYtdlKL0YOibw0I77SY8K40YFPL6Tg0Ih40Z2+oPXZUYzcyK88Lu3o1QoeS2vqbsdXtjKahDQaAAQvngaq2LTCZpyk4hoDADwNR3u93i8ScQYEo71puNM6jfA6v34hr8KW+7QsE4RFupJk3qBRKAGWq3wMRuTw71UK8holTXIFGIsimSGsbclBLhR4ug4l/bO7Ua5NcGv4yAMvBcSgVYoZWS0FQFFM3gxxeyf7SiziRjnnru+QCJvzGv8Mth6Z89dtWLlaPH1iQ8PfHvqr48OIJFIJ1/7dsMdgUB8eWTVxR23bh588PDMUzQWbeVo0W98GMW8zRiIv5jy04KX8cy71raFXazZvXTk/EHar7a3Y9GovW+/PLJWE3a0o1GPvddJTWhaWMC0sJfRSoO93QZ7uwGADZX8z7zJWn7TNyVUBgDIeL0jw/V4IkxbNGjaokFd2889/w4ABozwV2unmBE//UVd0YnOoGzYs7D9x3Gz2yJosXjMwk/HLPx0jO7r+Tcx3stbzXAHgDIOZ/zxI++Fhg9ycbEgEJuEgvtlZXuep7R0ySUFAAwKtSLKkO/mwqbGro12lB6spbznFdu+PCPki0MGeLTn6dZWNP71zbna8kYUCjl54aDx87QZN0n3co/+cbu8oO6nI0v9I1wBIOFm9pnd9387s1LV4c+vz5pbUuauHqlx2LO7HwhaxXUVjZnJpUqFcsf1T6jmxO4WoHG13fHu7AEaD+Ni+3mqTGe1YPTKarYqQJxmRpw0JqTrjUgkYsKooK3/3AGA2w9yNRruWhgQ6a5KXmE1qkc0qYHBoNYsH6HjSSIA5BXW1dZzAYBIwE4cpaFYppe7daCfQ2ZOtV4L1ggWiV3lueJY5QmRXKQA5SjrEYMYAwEAAYj+FtG3mLd/CtyopVtXthf/zZVwmyTsXwp+8yR7TLaf6EpycSTYr8/5nogi+pv5tvfcX36IJWahEGgaxmyJe9sTZozt6H1lB0ho0jCroTGW/QHgn5LdTZImnpT3S8GvLkSXQYxYjfPKlLJLtZdv1t8SKyQjrYcPtx5q/JujRnCEy9FdkJFcqsX2tbSmWtnSKkpYddWcjpEqBgylF0PHBh3acf/xnZzgSNe8rOrIAR5m5p0qXOoyo4evHQDkZFRO6xCNXV7SIJXItKjKvFpEMg06Y4LOljoZi4UOdnxHVDY9WZ8QxF5l3/Hlr3oJAAA4JPl97/vdXQ02nx5sPl2tcYbLHi0Dznc7oeWqJc49zvqjHldFQltoXBUKgVnmdbvH23vEg77O+EEMJnJUcKSmpz0AIJCIyR+MmvzBKI1XB8/oP3hGtwLq2q/2PbQ3QVJGhQGKkP+PW/nXkCh7hyBrm0xmvVo7Ryj8JeHJLwlPehxhbmCQA1VX32RHUms1hA+5mWs7vVXIFT+vPrJo3fhB44LznlesmfEnACgVyh8+OPThzzM8Axxam4UfjP/NM8DBu5tjEwCIHuoXPdRv2agt7S39hvv9/d35iqJ6Z08bsVD66GrGjmtrtAx75UjCT4eXfvb73BYOn2pO7K6nxtV2BwGPDQvS7AixfpFLzescGfzsRSZoVKhLdxos/t5tQfwFJUyJRIbVp0YBkYAlEnB8gVgmV0ilckz3MiCRIS7mNG11wtXIKahTvQgNdOxu2PAgZ5MY7gDgSnL50lfDN9Y0hynTHKZo7zbfea5ay0oP9SQzBCCWuWtIKfnIa1XXxlBacCit07fXMnf1VLx2hXgviudan08AIJXzXKQQbw76CQAkCsmnGet6xXCPdPXyt098WHD3asawcS8XKeSL62o4bl42qh8nz47e9dvNX9ef/37bXGKHVNfGhhbLFwIAOg6lO7YOdJ9Ah5SE4sQH+V3jZHScMSzazdyC/PRBQUF2jXeAPQDIZPLDO7s14F4H6ltb5UplR+XHVolEFd/oaNaWaaDS4S1mN3W9XRVF46EpiuY//k1kMJdScYFCWSUNF2FHeSu3ca1CKZHKm7wsviVh3AGgsmVfLe9EIOMvEtYTAArZG6RytlwpcjFbSsWFAEAJ5zeRrEquFLrT1pCwnvmNX8qUfAyS9kp/rTePN0LEXYUBipD/Ge6vBQiArwbFzTh90rDbzQmE1f0M2ewqAR5VVHRt99KUL9sOs4bTzG4dNC4YAHzDnO2cLQGAWc0uy6/7bsn+9m7VZSwthntXkCjkqBlRN04kLf160sOr6QFRbhY2ZvWVTd0NGzLAQ5XVSjUnaVmAxtV2h7MjvTuXfLtpK5N1UjXJL2rbbrl0n1rdbk/L5Qo2l29jpUeKJHSI/dVeI8zbw1rL1a6UV7Udtjg7dLtyR3tjJR3+TQjkQswLGZkKQaWZPqmuevHFz299tuTA5q/OXTqZ7OppLZcrWHXNuRlVg0b6f/J92yZnytx+2WkVCffz3xn/e0SMJ5mCZzfyCrJr3H1sv906W6+hnsUXtfJEglZRZmo5ADx/WgoARDKeRMJFDvRUi6QfOjbo703XTh14gidg+w/WEOnb44xoDGrF5+M2fnrq0/f2Dxjqi8Ohc9IrZTK5i4dVZamGA0CTsKVAm0L/J94/ar9dLJMlVVUNcHr5QLtbUgIAHhYW7RlBwzzcNz9+fK+kVE3MN4/FKmGzaQS8Wnrrf/z7EMoqvehfEF6EwfhZbgYAluA2S3CLZLYcAJyoC/mSdtlTJUeYFGpzEItqewI3i9PkSr4/Y6tAWlHM2eRs9h4gEAGWv3NESZXN+/r+13lzeSNE3FX0bqiMvhQ9L72y83bW47ymGrZUIqMxqFZOliFDA0a9M8TWrZOFUVfKvHv08fO7WZW5Va1cARaPsXG1Ch0WOP3jCYzuTYpegsduPbP1cuKllLpSJgDYudvETu039aNxRIrmv4PU25lnfrucn1wkFUntPGyGz4ub+uE4bE+i3V2JsLMf7+V9pVBz9RPtfDd4qBnOkP1lHovFEvDVGjEolC9Ds+C3RlSWrhIAjUYdevwl0ogMszGz+q0Yv3Xh2nE3TyTNWTVC+7Bqgno6LkB7qAytS0n5HmFz297AXYce7zr0WHtnAOC1im00SfBJZfK0zMr07OqySlYju7W5RSQSSyUSmVgi07GEIbWbP9FuV8ITqV6Y07r9ralvTm5+HxBNj8zgZm7I/REBCAwSs9htUS9NZOtg/vfxZWcOxcffy7t7JQONQVkwKMPGB4+Z8jLOColEfrNl1u3L6TcvpT19WCAWSSlmBBd3q45+bh2H+mbVMYXi5d/Yk7u5T+7mql5fS1mPQnX6yMSNDNi55UZtFXvImCC8pkNeXWYcOMzv+z/mHN39MP5uLo6AiYzxfO/DkUd2Pug9w30wo00ro15UncZN6mcxmIqhtcpanjU9jmWM1H6vio33HxyYPs2KRAKA6paWLU+eAMDc4JfvtgedPsHH53J+/rqbtzaNeqnj/un1GwCwLCqqa5nV//iXgUIQ2q12mYJXyP4ejTQTyxpIGI2C9Agfy+/zm75CI6le9C/RSKpAWsoVpeawPgIAEsZdKK0mol0AgIjWIyD+/5N3R0R2/DHQ5Y3ZJJNfk1AZpUK567NDZ3670rGRVd3Eqm7KSSgYPKNT6DOrqukd71UKuQIAEAgEgYwX8IRlWZVlWZW3Dz38I/4HR+++0woseFb85fifmlktAIAj4pQKRWlmRWlmxe3DD36++bXafgMATm+5tOuzw6rXRAqhPKdq99rDydefq7Kw9eWHocNzWA1lHI5ed80KCBzvZaA01aOKsq6NQdbW2gswWdmbU2mkR1czBo0LLsqurilvBAAbB7q9i+XpXQ9mLh8KAKV5tY7uVhh9YkIAwNLGzDfM+dKheE4jLyzWS69hu+upcbXdgdNzwQAgEOgn5CRXaLDCL1xP3388gcNV30TphfbiUF0RiduCcbWE7uD7StP3jQCLxK7wMCo4OHqQ18HEFZvy/wTQXEOqHYoZ4d2Vw99dOVxLHwQSMXJS6MhJbVpSRbyyY5XnY/391Lr1ONT11PW6LR8AgEYnXUvpob8ui4+K9YqK7ZQzvfqrCau/mqD7SvQigt6WLLEpf+0HHl/SsW0nbxHmA3eWbIqx1LZUABju7l7O4QzeszfIxhoJiLS6OolcPsDJaW5wp2ChDcOHVTU3Xy0oeFxe7m9tLZHLMuuZUrl8kq/vonCT1Y3/jzeCRuEDAtrZlbaihndcLGNq7GOGCwuy2lHDO17LO+Vk9h4R40bB+vlatp3/cEUpXPEzABDKTBOv+C9m9UTN2VCvP69LqMyB9SdUVnvU2LCpq8d5hrlicJjG6qbsJ/mV+dUuAZ3CJxiOFkNmDzSzpAycHOUV4Y4j4oStojuHH/394T4eu3X/V8e/Ob2mNxbZFXY9V2W1h48IWvbr2y4BTkqlMjexcOuSfypyq9dP2fx3yuaOhQbznhbuXncEAGKn9Xv/93ct7elioeTR6cRtH+zOfKSfMaeCgsMdmTJ99tnTlc1cHW8Z5+n1/ZBhBsyl4lpRUdfGOOdu9eNVoFDIddvmbfvizP7NV0NiPCMH+wAAAolYv+vdnRsvLYjZKJPJHd2tvtuzCIOFH1ccrq1oZDNbflxxiGZJ+eD7qa4+tgDw66cnygvqaisaf/3khDmDsuTLiaoAmHFz+//wwaE5K0aoDui7G7Yr3fXUuFoT0i7vOKi/Z3elSTtiSVdX7Pltx+0L19NVr12dLQdEurs7MyzoZAoZR8BjcDjMnGV7RCINGW9GgnthlEul3ZY00rjN+I//eHNhS1gU9Mt0ICKK3CRp6PGu4R7uIz08fk9IuFlUzBYKbcjkyX6+y6Oi1KozUnC44zNnHHj+/EJu3vPaWgwSGWJrMysoaJKv7xulvfUfJoCGC69pOSqS1SIROAzSDACkCm4Z989m8fOyZgEdP5BBHJHbuBaNJMkUfE/6OgAww4WyhU+yWasAwIIQZ0ueVtd6Npv1IQHtgED0St52KnMVU3Av2na/BT6y597/0QtQXodQmYbKxpObLgLA2MXDP9q5tL3d0cfe0Udz5ch1h1Z2/JFAxk9YPrKqoOb8tmtp97JMvsLuOLLhdDOrxdHHfsOldariYQgEwn+A9/cX173rs6osq/Lesccj3x7c3v/EpgtKhdLJ1/7L4x+i0CgAwBGwIxbEyaTy3xbvMGwNthTKhVlz1t6+ebu0RHtPAhq9duCg+cEhBn8f5DWyshs0uAHGdC72oRG/cJd/bn6i1mjjZLF+l3rB5C/+1CzjteaXWRrbI+J8zmd3ijfVOOy0xYO73quxZ3erNRW0F4VUQwOd9FWMAYDUjAqV1Y5AwNqVo8cO11SNpXf0mikvChtzu696w9OzRs9/qJHCzjhTfVUBCrlC/oHHO25kZwBQKpU7ig9WCGoUoFjpsdCRaFfEKztaeU4kF5PQhCVu86zxjI/S128N+S6Znbaz5MieyC0p7IyS1opw8yC1bgDwjJ1+vPICCU10J7u84t/2TcCN5H28cucw64lmGPMWafPdhkuuJM1iqSpCbW1L1nyser1+6ND1Q3tIR8aiUEsiI5dE9mAG4dDo9mG7I9DaWmMfXe79j1dCpN259td4tF24bSeVGwyS5kX/qmNLsPUutRFcaZ3MIV/Ln0y9xv94vbChU9xt9YsJN73hfv/4E7lMjiPiFm+aZ8w4wXH+57dda+XwZVI5unslDVOhkCtUBVYnvT9areSvnbu1X3+v7Cf5CReftRvucpk85WY6AIxZOAzVWUtk6JyBf67cIzHURUrD43dOmPSoonzv89SE6qquLk9LInG6X8A7IaGqaEuDOZWd3bUx1MbW3fw/6QM98PG0ufs4HwCKy3r223XlzsM81YsRcX4arXapVN4e02Ja2nNSK6o16GCoaC/p+h+GcaH2xhL3eW4kJ7FCgn5R87VO1LDMY4EPxeNW/cNLtbeWuM3dW3b8a78PSWji06bUfWUnP/ddwcBZNEk4BbxSJ6J9nbChQlDtRLLv2k2sEO8uPbohYK013vJA+alX+8u+Ecx2Wnqqau+Wgi8USgUSgfSjhs5xer3KwP3Hf/zH/w9xAW5xARpTILrF9IZ7XlIRAATEeJP1UabritkL9T2FXAG9b7iX51QJWoQA4BPt0fWqnYdN9pP8ityq9paaonqVae4VoV6IEUfA2nvalmX1UC5HO4OcXQY5u7SIxRnM+koulyeR4NFoCwLBh8HwpJsgYVcil18syOvavjg8wvjB/6+IDHVRvYhPLtFX6hEA6lltZWsDfTWfR2Xn91a5X1+vtvSd55mVUplco5alqbQg/28ZaT14W+GegYyoYVax5tg2FRo6luZD8QAAJ5J9Mju9SlBbJ2J+l/ub6qo5xgwAXElOlfyaCn51jGVkUWtpBb/aleTUtVuNoN4Ca26NtwSAMPPACv5//189QMXQ3nNbo1DKW2U8MpqCRPT6l8t//Md//IcJMb3hzmFyAcDKSZvonhpymTz+wrOUW+nl2VXseg6/WSAVSSW942XsDk49V/ViRfTn3fXhcV7mDrY0tVXDoWmS9qNa6FdLvDuoOFyskzM4mT6jXAnKE9NndG331CoE+R9dcXNmhAc7p2ZUcJsFe4/FL38nTq/bsS82pZxmQderCqXy8KmnJlilJgJ87K0sKQ2NPL5AfOVm5pRxoWodauq5yc81pC/3DXK5orGZX9/EY7J5TDaP2cRjsluaW0UiiUwkkYolMrFEJpLIxFKZUqlEo1AYNBKNQqJRKBIBSyHiyEQchYijkvAMc7KVOcXKnGxFJ9tYUAl9m247iBEdZh7wgJX4dfbmVZ6LvChuAIBHvQxqVIJSCUoGzmJzUKczdDeSc6WgBolAeFHc7jIfc6TNNAy1azclKNuLAaONtkGlMnkVk1tW21TLamayeUx2K6dF0CIQtQrEQrFUKlPI5HJQAhqNwqCRRByWQmp7h23oFBtLqqsd3c3ekk7VW5qp70EiUFQM7dWugS+UPM0uzyquK6xk1TU2c3hCkUSKRiJxWDSNQrCiU5xtzH1crEO9HZxt+kKVtaiKlZpXlVNaX8Xk1je1CEQSiUyOx6KJeCwRj7WmU5xtzZ1t6P5uNn5uNroXevv3IZHKyus4qo+J6gHV3Cps4Yt5ApFEKlN9TDBoNAGHxmMxBBwGj0WTiXg7S6odw8yOQbVjmDlY0d6Ij8n/IfeLS3+8/ZDF5zvSzC4umtcbf+cXs/MOJqedWzjH4BFMb7grFEoAQOhcAK8it/rbqZurC+sAgGZl5uBl6xHiiifheOzW5OtpJl9ed6iWDQAUOhnRzX8VpUONwHZFbY19+yC2Ry9aJZIBB3bxJGIAOD1tVoStPQ6F1i7WrgsimWz40f2/jRgTZefQ9epfKUlHszMahQJbEvn67LeJmiqB/zv4YOHg5Z8eFUtkx88l8wXiRXNi1AohiUTS9Jzqe4/zZ0+JdO0sJO/tYZOYUgoAN+7lvDUxgkTEdrzrt39up2RoENo3CQgEzJwcuX3PPQDYceCho715RIhL+9WGRt43P1+U6aZEaRJkckVxdWNeWX1eGTOvnFlS3aj77BKFTPJip9/UrE2ch2FOdrahO9uaO9uYezoxfJytSfqrcekOR9JsjjUbbzu8WdJSyCtRGe5qOBLtBTJhXkuRL9VTCcoWKc8MQ3UjO12tu+NL9XQg2FYL68loksZu9gTbRjGbJW5i4CwyuLkGrLCG1ZyaV5VVUpdTWl9a09j+JNSCRCqTSIEvlLC4rV2vmlOJge62gR62Yd6O/m42PdYq7mNkSumt+gvp3KdCuWBDwI5yflGjmNmuOdM3pORVnr6T8SSjVCpTzwuXKOQSmZwnEFcxual5bWe89gyz0f19Jw4KsLU0pMqedljc1gsPsq48yalrbOl6VSCSCkRSAH5lPedZbtsxMoWEj/JzGhfjNyDY9f/Egq9iclPyKrNL6rJL6ivq2AqtJTWg7TMiawZRdx2s6ZQgT7sgD7tgTztPRwbKCBll06JUytNZn9Xxb9qSRoUwNiMQKJbwybP6ZUGMjXR8RAH79yZRklTBw6OsbUjDvWgfoJCddiBCWU0xd1ejMEEsb8QgqXR8pAdtKQXbnjinvFXRn4RxibFri/4v4PxRwt1tjg/rb3tI1ZLH3lLWfCDO4apAVqX7vKbi+5v334+JfiskoFkoem3/tk1vuJtZUgCgsfuo2Y4oFUqV1e7s5/DJvg98ol6GqaTezuxLw532otbg9sQf7T17VgClvNAGaW7kOXa52srV4D19hZCx2MwlK2p4LQMP7jbhsEpQAgAGqWGXklxb/evTJ9tGjQ9gWDUKBf9iqx0APFytPl89ZuNvV2VyxaUbGVdvZ3m6WlkxqCgUQiCQ1DGba+q5Ki32qePVvdrjRgQeO5cskchq67nz3987aqi/DYMqlSnKKlkPEwpbeCJ/HzscFv0806jIq+6YOi703uP8nIJakVi6Zv3pkABHbw8bBAJRWc1+ll4ukcgmjAq6fDOzN6ZWoVRCfjnzUVrJ0+zyokqWpIsdY3JYnFYWpzUlr+39RCDA0drc18Xaz80m1NvBy4lh2of1rtIjDaJGNBJNw5it8HxHYx8sEvOJ97KD5aeFCpFSqRxrO2yI1QAGzqJWyJxkPwqJQCpB6UJ01NgNj8K95zrnx7xtVDQl1DxAx1XJ5YqU/Kr7KUWJWeUazTVj4LQIHqWVPEorAQAKCR/t7zQ0wmtgiBtef63V3uBSzfFqYdlI6yknq/YAAAVjdrRiR1fDvd/CrbrsYSgk/N2/1Iv4aiGntP6PEw/TC/WLf6thNe+99HT/laTR/X0XT+5vzzBN5S9Oi2DvpaTzDzK77h+0w+OL7j4rvPus0NaSOnN46FvDQ7orGt2X+J3fcHHYUk+qpjIZBqFQKNMKqu+mFCZklteymk01rAomm3c7qeB2UgEAEPGYmGC3EVHeA4JcsJhX+TFRgiKdtbaOf9OOPDaY8TMCXm4nGgSP8tm/IgBJx0fKFUK2OLWs+WCLJD/aZm97H644I7l+qUzRSsMFmuNDRbKGev4tpuBemNVvVsTBAACAMMP6csVZSlCoBueI0hCAbBHnKJVyBAIFADxJARpJJmGcBLIqHec1FQqlsra5JczBDgDMCK9vDRPT/4l4R3gkXX2eHZ8v4ovxpB5kborTylS+9tU7lnS02qFD7Erf4BroTCDjha2igmcluhjuDl52GBxGKpYWpZYGDOykMCiXyat6LS7ZGFCm3j4S0Jgnb6sXileRXl/nQjMf7+kNAC60f3/1zaGxPhZ08s9/XFfZ6PnF9fnF9Wp9MBhU1zgNawb164/HbfjtqkQia2S3Hj2T1PFqRLDzhs8nXbiW3kuGOwqF3Lx+2roN57LyapRKSMuqSst6mcgxeUzIR8tGxCeXsDlGCcx3RSKVPcurepxW8jitVKPXts9QKqGynlNZz7n5NB8AyARcsJd9uI9Dv0AXDwcThI2t9flArcUGz9ga8p3qtQ/F42u/DwHAjez8XYC68NGeyC2qF9/4faR6obFbtEVotEXbhnCy/Wjt68krY156nH0rqYDH79YXaEJ4fNGd5MI7yYUEHGZwuMeUwUEhXppzOfqMNG7i575biCiSynCnYxnNUsMzsHl8EZPNs6b3HBspkyv+Ov34+M3nPTpru0OhUF6Lz72TXLh4cr/5YyKNPMq4+iR36/EHLcb9GdQ1tvx+4uG5B5kfzxk8IKgHHeE3iLLapgsPsm48zee09IUPTiCSqox4Ih4bF+Y+ur9vvwCXvvT2IkBVRVGRwVpXx79hTx4fxPixo9UOAPX8W9bEoaFWvyAROAAQymoe10xrEiZxxRk0XDAAyJXi5w0fyxT8MKvfbEhtRc244syk+vfSWWsH2V/Co60BgIrzbxI9E0qriRgnpVLeLM62Ig5mCu61SArMcH4A0CLJN8P6ASB0nFcNpUKJ0P+joVAq3zpwnNXKVwLMOXIKhUCM9fP+asRgAGALhBtv308sr8IgkVOC/FfF9lOJwPr+9PvF9+Z7MSwA4FxmzvHnmaffme338x+/TBz964N4jkAYZGezecIoawoZAFit/M+v3npeXWtvRh3soV8qaldMb7gPnhVzeMNpQYvw4PoTS7e8rb2zgNemQ0fpLG6tVCpvHrxv8rVpAY1BDZsbe2Xn7RObzsdMjsQRe9hyoDGo8BFBT6+kXtt7d9KK0R2rdcZfeNb+e/3f0iQSkrG9GIHwGhLs73Bkx6L7Twrik4vziuo5XIFEKiPgMdYMqrsLIyzIKbafJ0VTIdK4AV6uzpanL6WmZlQ0NPIQAGZUgreHzbBYn6GxPgDg15s1yChk/PafZ9+6n3Prfm5JOauVL6bRiAHedhNHB4cHOwOAi6OFCQ33Kibn9N2MK49zWoWvo9Bkq1Acn1Ean1G67eQjWwtqTIjrwGC3CD8n7GvgUDQGmVxxKyn/2I3UwkrWK1mAUCy9npB3PSHP1c5i3piIMQN89a0XZioQgEB1SAYQyvkktFEpScVVrB4N90Yu/7Ptl7JL6oyZSIVEKvvr9JOn2RU/Lh9nblCctFAs/XH/bdVO1SRU1nM+/O38jOGhH82Oe31CPgxAqYQnGaWHrz3T90jEVAhEEtXHxN3Bcv7YiFHRPn3zfiIROCUoMllf1LZecyBPDmR8r2a1AwACgQq0/FZlPQMAAW1vRxpTyTvdLM5RGdB1/OsiGdOWNKrdagcAGi7Ijfp2EXdHectRH/rHAGCG9QOAFmkREePUIsmXK0WOlOlMwT2uOMMM5yeWsyRyjhnZX/d51dj7w8X3vp6s/zuAOPvuHADw+nHr8fkz3Cxeaut9dOGam4X5/Q8WtYolq85d+Ts+aWVs/+7GUSqVR1MzTr89i4jFrjx3+a8nSd+PGQYA62/cpeJxCauXNvEF7xw7S8Hprd3eEdMb7o7edhOWj7r0140zv11hVbMnfTDaLcgZiUJy6rkVudXPbqZNWDbKNbCtBpOLvyMShVTIFae3XFr192IcAQsA1YV1e9YdyX5isseKjsxfPyPhUkpZVuXqgV/N+2q6f4wPkUpoZrU01bKzn+Q/OZ/06f4VDl4vnfEzP5ucdPV5eXblD3N+X/7bO5b2dJlElng55fdlO9EYlKz7oja9x5/Pnp7IzWoQ8KVyOQBQcbhDE6cHW9tov2t/xvODmWk1vBYHqtnS0IhZ/m21AFvE4uDdfya8s2RrUsL1kkIlwLvBYWuiY1RXQ3b/1SIWKQH2jp8y1OXlDnLBpbNp9bWtEgkAuP75KwBM9vbdOmJsNos54eSRa7MW+Fq2VSnKa2SNPXHo0ox5gVbqJWn7mGGxPsNieyjMFB3m+ujSp9r7oFDI4XG+w+N89V2Akz19zfIR3V0NDXTUMvXalaPXruzBz6odJAIxemjA6KGaAy1+3zjTmMFVKJTK+IyyU3fSknMqDHU49jV1TS1n7macuZtBImAHh3uMivaJ9HN64+wSqUx+4WHWgSvJLM6rPNlop6y2acPemzvPJyycED1pUEDfv58BZuHHKnaOsZ0GAI1i5uXa46Hm/YwZsKiqMSZYmwutisldueWsaWMtUvOq3t1w/K/PpusbNsNpEaz+7Xx+ueZCnsZw6k5aURXrl1UTqST9YgyirvxybcT7ljjShDv/+NCsf4mYEt9Quq8ocW/M3If1RdvzHpa1NmGRqDgbzw2h41WRmRyJ4KvnV1IaK6QKuQvZ4sfwiT5m1gDwiFmyLPEERywIottvCp9sTdB1S6ZUwr2Uwl3nE8tqdYry7W1Kqhu/3XXjn7Pxc0aFTx0a3NuOAzSSnN34XU3rFUfK1ADLb7ta7QBAxfpiUZ2kovFoWwCQKtoeLGzhMwBgENSjzhjE2CLujiZhm8qCGc4fAHiSQhviMI44DQFIC0I0AW3HFWc6w+wWSUF7H13mrSltKMqssndjeAY5AUDqw7x+I1+qKpcX1FUW1uMIGJoFxdyKWpxV5eRp4+CuRzBVbQsvsbzyr2kT8Gg0Ho1eHhO99vINLYY7ACzuH2FBIgLACC+PC9l5ACBXKO4XlZ5fNBePRtubUacH+9/ML9Z9DV3plWiq5b+9I+KLbh148PBUwsNTCWpXh86ObX9txqC+tWbCyc0Xbx188OhMIsPRktvQzGO3EqmEX+6s/3zMRhG/k1vu3rEnqXcy+M0CfrOgqbbtfPPz0RspdDKRSiCZEftPiIiZHGVYf7oNbdOtr9dP3lSSXv7d9C1dfy9lZ0n1gIE+73w/a//Xxx+dTnx0OpFIJYgFErlMHjEqxCPU5cTPFwx79wzmQkHenvTUs9Nnu9LMj+Vk/vDkwYP5i8zxBO13HcpK35qU8H3csCAr63Rm/TeP7koVivmBIe0dPrhxebKX79KwyCahANWheFv64g8EUqn/zm1qA+4cO1GphK1J8Yk1VaemzgIANBIJAAEM61Ab22PZGRsGt1UXP5OX40W3eOVW+3/0KkolXE/I3XUh0eRBon0GXyi5+iT36pNcGoWwfvHomDcnJOBGYt6OM/F1TSaOYjeeBjbv54N3jt5IXTkjdnC4BgXe3mOy/byz1Qc35a9TKOU/5K2JpseNsZluzIDFVdoOMeqbeO9vOs1k84yZQiO1rOYlP57c89UsWwtdM1ZZ3NZlP52qYnJNvhgVaQXVq7ac+3vtdCJej+NWf5ptQTMTb26PRiJzOHUAkMetD6DZAoATif5NyBh/mm2jiD/r4b4rVdlTnIMBYF9RIg6Jih+7BgDS2FXOpDbD7l5dwanBi4ho7Kqnp//Of/Rd6DhdFvA8v/qPkw/zyky/mTGS+ibeb8cenL6b/um8of0CXXpvovLmw1W8swhAulDnabTaAQCPUrd3X/Rs88SI5A0AgEerOwpVLUJ523ETCeOERpJ5kiIA4IjSSFg3FAJnhgvgijMBoM1wx7403LXMy28R7vj67FsfDG+o4agMdwqNtHfjxU2nVwIAs4p9aPOVqUuGHth0OW5iePKd7GnLhm1fd3L9vsVEiq57y/oWHgmLJePa/p5tKORGvkAql2NQnbZSHdNh7Khtn0cMCimTywGALRTKlUorcltcCYNslFQ69JLhjsagPt33wai3h1zbezc3oYBdxwEAMwbV1s06akyYS0CnZM73fp7nFeFxftvVqoLa+rIGug1t4NToeV9Nt3Ky9Ipwz3zYSSch/X7WrQMP1KYrel7a/ppCJ3c03PXt7+LvuCvztxt77z05n1SWVcFvFlDoZAs7ul9/r9ip/Ry81CMW5nw51SPM9dzvV/KTi6ViqaOP/cgFcVM/HPfodKKub5bpeF5fG2RtoyqfNNnL9+sHd4rZTZGa9F46sv1Z4tKwyMnevgDgZk6vbOFuf/a0o+E+wMFpQVAoAHQtzITSFElGQGMAAI1EIREItZzUBYGhXz2883lMHBGDkSsUFwvzloT+Jxv/byYlr/KPE48KKgwpTfUa0tIqMkngex9QXMXafPjeqzrx15EqJuez7ZcGBLl+On+oqRIuewSLxM12WjLDcVGLlEPFmKOM1tAsqmrs7lKrULzylzO9YbWrYHFaV285t/erWRQdnNxcnvCDzWd6z2pXkVtW//HvF7Z/Mk33dNUAc9uCZqZSqQylO6Y2VTZLhPnN9aPs/QDAldJWtMSaQImydK7kt3nf7Ii0a9U5d+vyh9p6R1q+lEt+z2uABY4EAMPtfC5W9pxVz24R/HHi4fUEDSVNXh+qmNxVv54bGuH58ZzBVjpkUxgyBe+MFXFwg+BBKnPlALsTWJSGtDSErp+UHk9UEWZY31ZpKQBwxVmWhH4AQMMF1fNvSRUtPEkRBkkhYl5aiVrmJVLwNEty6oO8SQvbVJi9gp0wL5LgZVIZiUpg2JkTSHg8ETtoYljIQK/nj/JZdRxnSs95jCrszKh8iYQnFquCW+p4PEsSUWW1o1EomaItsKKh9eV5ZldZQjqBgEIgGlv5dCIBANgCY0OpezF/OSjOLyjOT5eeg6b3GzRdw2Hlr/e/U2v5ePfyj3cv130N+vYHABwBO2nF6EkrdI09iBoTGjVGXSpkyOyBQ2b3qb4YAHjQLa4WF9TyWuwo1NtlxXg02t28h1JNbKGwUSDoGEsTbG37R3Iik99qTWrbHYZa6/on3iPjPLw2PnlwqTBvln/Q/Yoyrkg42VunvxB9MSw9pVcRCyUYLBr5pgVaGEx5LXvbqUdP0kt77vrmEB3g3B7NXFPL+eKr0wf3LXm1S+qKXK7Ydzlp/+WkvpTyNIaEzLLZXx5cOXPQ9KEhfZaQh0KgzLGm2YNVMjkSmbxrMINSCV/vuFZR37u1h8vr2N/vvfnLqknau8nkirV/Xi6vZffqYlQ8z6/+6/STD2frWtEigGb3oL6QL5MEmttJFLJMTk1+M3NNwHAAeN5UtbPgSb2wBYlA1AqaZ7u1OXpmu4abYfD7i55+l379HY9+i7wGqKQX7Aht2z8MEiVT9hCteie58OeDd4xMz+0z7qUUPc0u/3jOkImDdBWP0p1gxo925PEF7K0lzXufN3wUbbMHgdDbOFR51kUy9YMLkaweAAiol4aEGc6/ouW4VNEslNXScCEAQMMFAkCLOLdVUkLtECejHQQC8ckf88sL6n5ctu/XCx+pXbV3s1IqlE9vZ63ePCvtcQH2hTKEXrGaNhTyIHeXX+/Hrxs+iC+W/BOf/FZIWyiOuwX9Wm6hjxWjitt8LjPXvHsVGhQSOdjDbffTlI1jhzeLRBeycrEoo2zv/xcz4v+Buf5BAx2dBx3eG7bn7z1pqf+MnUQn9BAnI5JJoYMmfftrlddcBR5tst0dBoWa5R94LCcTAM7l58Q6uViRjD0z0sie9We6u8Tj8OsruvWQGYYuYx7dfLks97V2f5oKhVJ54Ery7K8P/cusdgCYPDiw506vlOoG7rvfH9t9IfFNsdpViCSyXw7fW/Xr2T4Q8bhWd5otMeUTQC5XlNVoCIw+djM1PrMv6pc9fF5y9l6G9j6/Hr2fVtB3VXWP30p9mlWuY+dAc7uyVnY2pzbUwiGY7pDBruFJxbYEqlguWxh/ZJxDwMVhS88PXdKP0SlEbayD/4nBC/cPnHeq/PmFyrZfX0ctV4FIun7X9S/+vvKmWO0qBCLpxn23Nu69JZHKTDsyDm0NAF701VbEwWxRSnbTRgMGsSQMAIAG4UO19gbBIwCwILwMbaDi/OVKsardHB8MAGY4fwQC1SzJ48sqaFhdDff6yqZta0/cPZPs4G4NAKxazoGfL1eVMA9uusJuaJHJ5MVZ1QXPK05su2VMQc9fJ47hSySD/9wzZd/RMAe7FQOjVe3fjRn2sKQsdMtfq85dea9fuPZBvh8zjCMQ9v9j53snLswNDzF4MSpeC2Hd/zAVGcz6I5Om97PvqiyvGVsK1YJAzGDWxzq5tI9gS6ZQjUt51sK8gOB/UpNT6mrulpf+OnxMb0yRei+n35i2ZPPGWo5CoSxOr3DysXXwsGlht17afV+pVHqFukSNDGTVcArTyv2j3c2tzACgPLcGAOorGiOGB3BZLQqFsjijwjvc1cKGpnYVjUE1VLNV96LQqI5jIhCI9kuqYSsLamvLWLpoQv8LYLJ563ddf57fdyZCn2FOJcaGuHdsUSqUm3+5WlLGUsgVX3w+wdWFAQDJyaX7DjySyxVOThYfrR7V3CLctPmqg715j93a/fdZ2dUHDz3ZsnkWAGzbfsvdw/revdzmFuGQwb5zZ2tLirqfWrRhz63XU65HF5KyK+atP/LzBxMCPUx2yteV+w1Xh1lPMO2YxVWN3s6dInHLapt2nHli2lm08Ofpx3FhHpY0zX6QB6nFPVr2pkWphI37b5/b9K4uquR2RDOeVMSXil3IFlKF/JNnyd5m1gAgVshEMqkzmQ4AmZyahIbS9siZxIYyN4qlNYFiSzQzxxJlCj22qRX1nE+3Xeybw4fe4NLj7PwK5qaVE00eXYYAZChjc0Ld3CreGQrW04U6V6/bbYkjijAu9fy7dfwbtqS2mAWuOKu85TAKgXemzm7vqRKWqePfRCPJZIwbAKAQeArGq0mYJFcIzHT2uNs4Wbz/w1syiRxPxAIAw878nXUT3lnX9uk+tvXGmt/neQY5Xtr/yMqeHjnUDwAWfjFR+5iFX6h77s0I+F8magjBCLazufze/PYfZ4UGAUDe5x+2t0wN8p8a1Pa7MMikPbOmtF+aHRak4++okf887v8eqnktlc3c9hCXrkgVCgDo+IxDAKyIiN6Z9uxCQV4ph32+IHdvRuqHUQN0nFHl1dProWlDpgx39fj+8X08Gj3Czb3nG/SHYk46/PMl1eu0B3nbPjpMpOC3fXxEwBOKhRJBixCLQxNIOGZl077vzpLNiL+tPMhvEQLAjwt3ZjzOF/CESCQi7UHenm9O40m4X5btlYikalc73stltbSPCQBqw1YV1e/fcB6DRafcze6NX1bF3eoSl0Ob2v9dqyjQ/d5+Z/52P7zZNMt4Vjjn68P/SqsdAMYP9FdTMKyu4YwZE7zz73fGjws5eSoJALhcwW9/3Phx41u7dy7087Xbues+AGTnVOvSrTvu3sv9ceP0PTsXznwrWku33RcS126//OZa7SpYnNalP528/Din96YgoskIMHFETlG1en7qzwfv9kE1sXb4Qsmfpx5rvMThCX/Yf6vPVtJOA5t38rauJRTtCGZ2RDMAcKcwqgXcAHNbAKBi8J8Gjng/8UTMtd/2FCYu9Hy5a01jV027vzvk0k9jbv0VYG47zTlEx4kSs8rf/vbom2u1qyisZC1Yf6Q3MlhQSGKE9Z9YlHle06ZGoX6peggEOsxqKxZlntbwSXztrHTW2qS6hYm1c+VKcRDjBwL6ZQEHVX5qozDeHBfcrtdOwwU2ip4CgO6hMgCARqPwRM2Z0EEDPG8cS9j346Wa0obAfn2aAd/b/Odxf92RS551bURhI7s2MogkT7rF0CP7AACFQDiZ0T7rHzva3RMA1j+6dzInSyyXAcDs86fQSGS4rd2JKTMB4J3gMDQK9XtyQg2vxZ5C/ax/7Ay/nkPofn36ZE96qkgmA4Cl1y6ikUhPusW1WQt0+Y0WBIXMvXB6TkAQzrgwr+7wCnXBdKjRGDclMiTO9/mDXFYNx9nHzt7D2tLOPGig98Vd9/jNgvgrz1uaWksyK4MGepsxKJOWDmu/sf/YkLDBftmJRaXZVT4Rbh2vPr2R0X4vl8VrH1PtUklmZXlezYhZA8KH+j+7k6VxtXmchjGX9xfMXWPMuxHKsNs5eApbLLxQmpPErOr5BlOjUCp/O3r/1J30vp+6z5jUJbTU0pISGOAAAG5uVk/iCwEgN6/G28uWTicBwLBh/kuW7Z81q5+O3bqbd+AATxwOAwBotGY/i0yu+H7PzRuJr3WCne7I5IoNe2/WsLjLpsb0xvhjbKbdrD83znYmEmEyv5WasMzNp/l9GZei4kZi3oJxkW726nlNvx2939z6agJCDlx9NjkuUJfE2d0xc1QvkAhE6oS17e2LPPsv8tRwyvS+z6D3fQapNeZO+br99VTn4KnO6iLflx5l/3TwjvyNiiLrDp5AvGrL2V8/nBzp52TakQlo+zCr35Pr30tr+HiA3XESxkX3eylYz4H2Z0q4uxoED1sk+Rgk1YY0wo22SOVi7wDCDOvXJEruKMROwwdV8k5hkGZEtGlqtAVEuwdEm9g5KJMriusay5kcJpfX1CIQSWViqaxjSbUBPs5jInqQljae/wz31x0J/wAAKORMpaIJhfaSy0qQaGciXd1wl8rlU88cG+bqvmvcZBwKJZbLrxYXfHT72lCXFVgU6rtBQ78bNLS7KeYFBM8L0FDIgIrDla1Yo/GWNf0GrumnLft27YBYgFiNl0gYLABM89FjV20MWHx7SooSABBIhFKhBAACCRc3NWr4rJffCtjOZU0FPBEAiFrFeCJO7aravdUlTOWLSBi1S3UVLCFfBABigUTj8h7Xlhv9KwIdRxjl5AUApc3svjfcJTL5+p3X7z4r7ON5+5IwHwcnG3WlBQLh5Z+E6tHdSU9AqUe3jj5gobDTnwoOr15ttyMSqWzt9st9E0vdl+y7lMRpEa57e7jJ01XzeVmFvOz4xjtmmJcyWZ/7/mLMmB2FZaQy+Y6z8caMZhgKpXL/5aQNy8Z2bEzNrzJhoSV94fFFlx7nzB3dQ/hv33Dkesq2k49e9SpMiUgi+2jrhU0rxmsvI6CdcGt1QWcAoOPDR7u8PC1hEAaOddVwYuxOe8+d9p5aIx5l5W/xlb/FV9rnjbbdp9biQJ7sQJ7csUWveXuVShb3TnrR45yynIp67SdpVALuP8P9P4Bg/hcACDnLCJYnAVAACiFnVddu+U2NBU2N56bPaVdgHOLs9kviE45IqCV45pVwqTDfk24RZtMr1UBZNewr+x5WFdUf2Hh+4mINexXvUJfd68/kPSuZ+9mELe/vK3heJhZKVm6Zh8Gpfxae3c6qLq5n1ze7+Kk7AAZPi+p4b/uY734zVe1SzLiwnxfvLs2urusme/VR7ZttcrUKxZ/+cSk1/xW4+fuSSYN0Skv197P/8687TexWCzr57r2ciDAXHbvRaEQ2m89rFVHI+PgEXbdAYonso60XUvIqdez/ZnH+QaZYIvvmvVFIkypEhdCiQ2jago4MgNMiYLcI6FQiAFx6lP2qShbcfVa4auYghnnbA1+hVP5+XD1TsI85dz9zzqjwPhML6o6DV5P/Ot13KQd9hkQq+3TbpR/fH9/HxRD+f4jPLT90LzW5sNLkdQPlXWKMEQiEjtnVpjfc/9h+C41GjRsT7OLyZggevxEo5PXtoWAKuQYjyYFKxaPRBzKfv+UbgEQgitnsLU+fBFpZvz5Wu0AqbRQK8hobjuVkbBo6qpdmYdjT3/16yrtft2WBjJjTFq+/cP001Qv3IKeNJ1cBABqL/mLfUrFQgsVhVNqRP5z5sONQw2cPiB4Z1G7Qd7yKxWM63ts+ZtdLGBx64+nVMokMje30Wbtcnne0MD2XzWyRiAHA++iv7ZdWBPb/JLTTKXBWU/32zISUhupWmcSJTJvi5r/YLwqLMkR/+mFN6R+ZCblsJhGNibN3WxsWZ9g4Khq5/NW/nivSWoDmXwCFhB8W6alLTyqV8PFHo7/6+oxcrrS1pX384ehWTbIVXbsRidi5s/sve/+AuTkppr9nTQ23x7lUAn//VqtdxbWEXBQK8dXCUSa0/ExutasoqmJF+zvL5YpDVzUEN/YNMrniwsOsxZPbjvtuPc1/5SUUqpicZ7mVUf4mDufQi5O30/6VVrsKmVzx1T/X/ln3VoB7L6Z0/x9SWt/0w8l7qcW9EvPWKhQP+3KXuLM6EJ1CvLVhMVoHzWiE0qT7CJFIOmX6NrFYCgB+fvbjxwYPjvPFaz3qfdNpYre2tOgqp2/FoJJIhgi2iHlbZaK7SIyPQpqPxg3CUT/r2udJVcVvSfGF7CaxTGZDJsc5uX4UPcCCQDRgut4gpa7m7Utn8Wj020GhqyK1iWO8Djw89wxHxPYbrSGCyCQ8rivPbqoHgN25z9giwZqQWFV9WQAIt3KIsnpZNutWVdH7Dy9gkahhDh50PCGjsT69sTbKyuHwiJldw+J/SLm/Ozf577jJY529u056q6po2YPzWCRqlJMXFYuLr6tQpT3UC3gl8zX8RWmHxxct+uHEm57mpQszhod8Mq/bSLNXglIJX/1z9XaSHlnIBkCnEh2taXYMMzIBR8BjCDgMHouRSGUiiUwolgpEEiabV9PQXNfU0qtxwzNHhK6ZO6T3xtdIv4Vb9VKCWj0rbu7o8JtP87/+55r2nkQ8xsvJysPRkkrCkwk4oVjK4rTmlNabZANszzA7t3kRAgEKpXLm5wd0VJHHolHujpZeTlbmFAKFiJPJFc2touJqVmZRrUhirPLghFj/rxf1lqemR24+zf9m5zWTu0vboRBx1hZUazrFmk4m4bE4LBqPxaBRSJFEJpbKxBJZUzO/vqmlvonH4rb2nrYYnUrcv36O7jV0/0M7h++lbr8cb0B++dzBoZ9OG6xLz88PXLueqv4A//W9CcOCez48MbHHPSGxSPxCLzM3tyY3t+bPv+8MHeI3bmyIt5d6Idx/B6mp5T9vvqJj5wnjQz5arWtpp47gKB9hCBMVsgokeRkSrfn/daCj80BHZ42XXgcibO1zlmoI8nk9iZuqIf3XhMTausTaugDA6eIstkiwxD9KY3IqWyRYE3+VjMGeHzPfldoWkrs1/ckfmfFb0h5/GaGHNSNTKL56egsBcGLU7BBLOwCQK5WL75+9V12C0t+fKZXJP9l2qS+tdiwaxTAn26i+Iy0oJDwWj0PjMGg8DoPFoKQyhUQqk0jlLXyRKm6hkcuvauCyODzjv7Mnxb128u37Lyf1htVOxGODPe3CfRzDfBzc7C2Juvlc5HJFbWNLZlHt84Kq1PxqkweKnLyd5mhNmzFcvc6dYciU0lv1F9K5T4VywYaAHeX8okYxM4JubL08ldmtXUdlUKj7xEEBA4JcNTrVqpic47een7ufaYx5V8NqziqpDfKwu5NcqIvVHu3vPGFQQFyoOw6r4fkjEElvJ+XvufjUmOKvTzLKFEqljjEApiW7pO77PTdNa7UjEQg/N5tIPydfF2tfV2trnUuZiiSy/HJmbml9RlHt0+xyoRHK4l1htwjWbL2w56tZRLxmiZX/0BGpXP7dsdtXkns9139iP/+uhvv5xOxXYLjfvZer1iIQSK5cTb9yNd3dzWrcuJDhQ/3I5J5zzN8gBsZ44XBosVgnt8Sdu7lLFw8hEg1xuiuVrYDAI9FuSqUQgeihstJ//Ds4U5LNk4g/Doltt9oBYGXwgONFGUcK0z4MiSGhdX1Mx9eVNwhbRzp6qqx2AEAhEB8GD7xXXaLvqpRK+H7Pzd7WzcBi0D7OVn5uNn6u1n6uNo7W5gZ89YslsuoGbnF1Y0FFQ0FFQ35FA0/Pkit+rjaejgy9J+5NEjLLdp1PMOGAGDQqJth1QmzAgEAXlP7FfVEopKM1zdGaNm6gHwCU17GvPsm9lpDL4rT2eK+ObD3+0N3BMtxH1woVWrhUc7xaWDbSesrJqj0AQMGYHa3YYbzhnpBZ9um2i9kldRqvejoy1r49LMhDW2KPo7X5Z/OHTRoU+Nn2S3WNLQav5GFqcZCH3bEbqdq7eToy1swdEubjoKUPEY+ZFBc4Itrnx/23bhm6UeS0CHJK6ntVm1/zvDzhur+uSE0nyhnm4zA2xi822M2casg5Nh6LDvGyD/GynzM6XCKVPc2uuPk0/15KkalOq4qrG7/+59qvH042yWj/n8gVik/3XX2Qqfd3ogFEeztZ08hMbqeHZEJeeWML35LaQ2FKUxruYrE09Xl5d1dLShu2bb+1c9e9QbE+48YGBwWa4BH8OkAkYgf097z/QKf9mVAouXkre8pkvbPsxbxf5ZIUAEBjo4Tsd4kWJ/Re6H+8gSQzqwAgxrbTQQoagYy2drxcnpfOqlO7pIUsNhMAIqw6fU/7063RSKS+8XJ/nXnce1IVFBJ+YLDroFD3AUGuBJyxUXY4LNrdwdLdwXJUPx8AUCqhpKYxraA6vbAmJa9Klzqdk+JMX2DcGKqY3K//uaYwkReRiMfOHR3+1rAQGsVkvgAXW/oHbw1cPj0mMbNs14XEvDL1EugGIJcrPv/rysFv5xofDJDGTfzcdwsRRVIZ7nQso1mqUzyJdrg84cPnmr/vR/f3/fLdERpd2l3xdrY6sH7u0h9PltcZeJz1KK0kyNMut6xeS5+JsQGfLRiqS3UkACDiMRuWjcPjMJceGViM4klGaR8b7gqF8su/rzYYcVDQDgaNGj/Qf8bwEHcHk6XtYTHoQaHug0LdmWzeydtpZ+6mGx+SBACP00vP3c+cOsSo4j7/z3x77HbfWO0AgEQgYv3dzsRndmxUKJRPcssn9+tBc8+UhvvztApJT398YrHs9p3s23eyHRzo48YET5oY9i+IgB821E9Hwx0AbtzMNMBwl4mfkixPC5pmAwINpqgeUsNteVBQmlfHKmI2snj8VrFEIJFiUEgSFkvCYR3MzZwtaO5W9AhnBy9rS5McciqUyqTSqviSiqzq+somLlcoksrlODTagkR0sqAFOdjEebkGOdia8EC172c0OUxhKwBYEdQzjK2IZACoF+jxtdQk4gOAJaHTVh6FQFCx+GaxrkkaAHDzaX4vpd+FejvMGRU2MNjNAKevjiAQ4OFg6eFg+dawEKUS8suZiVnlCZll2SV1Gk1hAg6jsvhfE4Ri6afbLvIEJqiyhEWjpg8PeWdclAlN9o4gEYiYYLeYYLf7qUX/nE0oq20yckAuT/jZtkt7vpylowXcHQhAoBAvE7KFcj4JrWu0gwGMH+j/9SL9kmvNKYRtn0ybv/6wYfrrFfWcT7dd0tJhwbjIFW9p1urtDgQCPn97eGlNU3dHCtrpjVJB2vnr9GOT5G0PjfBcMSPWwYpm/FAasaZTVs0cNGN46O/HH9xLKTJ+wG0nH/YLcLYzdVFVA5ArFYEXvweAtAlfdQ0EVYJy/uP9NQLu2cFL6bgeHMx9w5n4zMtJ6jEjWsCiUUYWWYv2dlQz3AEgqaCyTw33xKfFuneurmYfPho/eVKYLp1bROKI3/7uWopWxYJjZz4fFudr/cqOsyPCXfF4jEikU8haUTGzuobjYK+uCa0dBAL1QhdaDmDUydrdvJI9j5+lV2l4/soVCpFU1sQXVLK5CSUVqkZzImGgp/PEEL/+bk4og3TZxDLZyeTMffGpzBb1o3OBRCqQNFdxmuOLK3Y8SHKxNF8cGzk51M/IgMi+n7GX6G5NBueUdx0QrU8ZGhandfPhe4ZN3R1IBGL0AN85o8K9nPr0I4xAgK+rta+r9cKJ0U3N/PspxXdTCtMKqjtGGI+I8n6tYkb/PPW4tMZYCxgA3B0sNywb62E6D6IWhoR7Dgx223k+4ci1FCMPCgoqGn45cu+rhSONGSTALPxYxc4xttMAoFHMvFx7PNS82+pXRhLp5/TVwpEGPFpsLChfvDti7fbLJl/SpLhAfa12FSgUcv3i0bO+PGhAaEdeWb1crui9Dbka8Zllh6+nGDkIg0Zev3h03+jh2FhQfl4x4VFayXe7bxi5LReIpBv23vp77Vuv5RfaS3hS0fOmSgAobGH2YxiuQ28q6jm8X89pk/m3oBDjAt39naz9nKytaWQyAYdFo0JWbjVm0khPRwQC1B6Kzwp71lY25QcpKVm/I4bYgd64bo7Cc5kNN/N13X0emjPdGKtdr7k0gsWiIyP0+Mt7oLN7vh00YSK/caZcVsJvnI4hvKXv7SqaWgXv7j+74tgljVZ7d3AEwssZ+YsPnpux85gBk2ZW10/+68hP1x92taG7Ut7I+fL8rdm7TlRzDM9v6/sZew8bIgU0edYbhPz2qzpCxxEBoEnUKThEoVRyJXq42zfsu6VvjLh2QrzsD30379vFo/vYalfDwow0fVjwjrVvXf9j2Sfzhvi5tmXSTx78GqWlZpfUnb2XYfw4s0aGHfx2bt9Y7SowaNSKt2L/+XyGjYWxvu1Lj7KTciqMGWGy/Tw8irApf51EIf4hbw0BRRpjM93IVWmEQsStN0KEfki4Z79AF5OuCNwdLD+dZ7g+j7ON+bgYv577dUEkkfWZaKxQLN108I6RgwwKdT+2cYGa1V4n0lyLAwD4MuFXWX/2OGz7CM/Y2ccq1NWHBoW6H/x2rvEZNan5VafvakuSfh2gYPBhFk6OJLqv2WuhYvnr+UdCiWbfq6+j1S+Lxt/csPib2cOnxQT6OlrRKUQs2nAZ5XZoZIKnnfpzuLGFX1bfQ5icyQz3mloOi6VfPNnIEd0Gj94tLKluNjw7Ry9MMlfMAJ1knlU8fKR3fDCWOIdA+4Vg9iOB9juGaMjXTBWnefauE09LDT89jPV00feWK5n58/acKm/UL4Q0s7p+2o5jGfrsLl7hjEaCR6MBQKrQfOLW38YZABLqO1kqMqUiiVmJQ6GDLfVQagqwsAaAlIZOGaWF3EaJXNfDvnP3M59mles+o3bMqcQNy8bu+mLmqzXZ1TCnEGYMDz2wfs6pn95ZPSvu9ZFGlskVG/fdMtJjjUQg1r09/OM5g03yraMvIV72+7+Z42G0XfLTgTvGKHJgkbjZTku2BB/81n/7luCDs5wWY5C9cqiydGqMlc6SIxoxzDXeHUgE4vulY3SMa++OmSMM1PbJLtEWc29Cdp5PqG8yKrR99siwX1ZNMuusosGRtFyueWDMsLqM4GBF2/nFDOMfOzvPJ5okoK73QADiSOzCmyNWmWFfvdJGGZN9J11D2TsUErlsbP8jn8weEeKpi7y6AXg7WHVtLK7v4VjVZKEy6Rn6WYSWlpSQYA15dXUtvK+v3UmrqcOgkKfSswDg2pK3AQCNRO5NSj2VnsUTiacHB3w8OAYA7heXbn/8tLCh8eCcaeGOL8tb7k1KbRWLKznNyZXVCqXy6uIFNAI+s7b+25v32HyBVKEY7eP59cghGucyQBoPAPpFuyMQuoril5Q2qIom6jODEkCMQNKViia5pAmF1SnEqB25QvHhiStVmpzK9jSqI92MgsehUahWkZgrEJY2cvhiiVo3JALxVoR+3sdrWQVrz9zoamrgMWgva0s6iUjAoDkCUS23pZLNVevTIhQtOnjuzLI5LpZ6xBT1/YzG40wxz2U3JDGrhzm4d706zT1ge2b8vtyUiS6+7cIyf2YmsIT8+d6hZIwe8kQDbV0s8aQ7VcUZjXXBlrYAIFMofs/QtS5JdQP3jxMmq8IY4mX/w/vjGLTXpTpYVzZlPSngNs6F16JaOwAcvJpsZJAMBo36bsmY4VFeplqSAViYkXZ9MWPN7xeNkSSqZTXvOBv/8ZzBht1+h3lpuPVEFAJljrUEALlS9oz9uJ+FiXXibS2oU4w+rvFyYoT7OJqqLPG4gX7Ge3M9HRnezlYG1HUqre3WXW1CiqpYJ249N2aE96cPfGd8lFpjGb/mZOWNCkHd74VHouiB/S2DthYckSplzRLeco8ZjsSXDpQz1bflCsVMp1GHyi/XixpFcsnbLhOdSbZqI2CQqLyW0l8LDjaIOHOdxwbRXn4qyQTctk+mrvzlbE6p4VsdHl906OqzD94yVivp/4TjD9M12m5fzRo2pX/vihO4WGmwNyqYPXjcTWa4Z+ppuMcO9NJoIdtSKXtmTVl7+aaXleWi6JffmjKFQiyT3Vz6DquVP2rngSmBfq4W5kM83IZ4uI3bfajrOMeeZx6YPe3XSWM4AiGNgAeAvUmp04L854YHS+RyJq9Vy1wGQKUSPD2sC4t0/aSlpJSNGqnHY13IWa2Q1yKRbacqBPo/ei3vaFJGbm2nRy2NiF8cGzU+2NuKom48KZVQ29ySWlETX1wRX1zR1CoAgBgPZ3uaHnoOObXMz8/dVLOhB7g7L4oNj3RxwHSu1lnf0nrqWebhxLTWDhsGvliy+sSVk0tn43VzEfX9jCZhrlfI9YqClY8ujnX2oWCxzWLRSCev0U5tz3EqFrdt0MT37p0dd+XAcEdPOo6Q0VSXxqoNtLBZFzZY1UemUDysLWuVinkScWZTHQDcrS7mioUULI6GI6jU4gEAg0RtiB7x/sMLM28eG+XkhUehU1g1UoXcm8Yobu75O/WPEw9NJTw8d3T4irdi+yzgVTsyheJ8Ye5bPq+XdIwaVUzu/ktJxoyAQMCGZWOHRuhxMNhLkAm4bWumLt902rA0RxWnbqeNjPY2zDH5oOHacOuJ7T+iEOirdadMbrjPHROBMcWxxrShwSYx3NEo5JIpA4wfBwAGBrsZYLiX15pAukc7CqXyx/23jVHBf3dCdFerHQBcSfZTHIbdb3i2zL0tTvVj7/kAkNiUkdiUoTLc0QjU5dqHMoVsltOYvJYyoVz0mc+7tULWvrILX/ktVhvhGTubiMav8X67gl93supGR8MdAMgE3K8fTp7/zREWt+doz+44cfv5zBGhlrQ+yvtsErduy7v/oL6wWSK0J9ImOQW/6zEAhUDKleoZEdFXf+ZJX8Zb3h75oT2RpnFMJSgvVmacqXhe2MyUKRVOJPpYh4AF7v3wKFMqmigUyttpGtzt7wyP6G2rHQBcrOldG8sbeviwmM5wz9bPgzIoVkNlR+3MjwgBAAaZ5GxOq+fxXC20eUb7OzuqAt/NiW0HMdODA9bfuJtb3zAlyC+ig3veVISHuehhuKfqZ7gr5NUky3MGrQsA4NzzTjJeDArpxJJZdt0Y4ggE2NOo9jTqxGBflTDL5Yz80QF6fOWLZbKPT17rmHCNRaO+nThsSqjmXGkbKnnVsAGTQ/2WHr7QMcqlkNm49faTz8cOfg1nNBUDbV3+GTzl76zE65UFcoXClkQd6eSl1uHiuAV/ZMQ/ri1rlUocyGYfBscs8Y8motseXi1S8aJ7ZzrecrYk+2xJNgBQsLisWR+2t49x9t47dPq2zIQblYUENHqwvdvnYUP+yIzv0XDPLqnrTupOLxAI+HTesOnDeqserQE8Z9b+nprwmhvuey4mGilfsGxqzOtgtavAYdFbVk9697tjdU0GxigqlMpfjtw7uH6u8YsRyPlShfoBo5FgMeixMb4mGWpgiBseizZeKzAuzEP3UkHa6RfosvfSU33vqugpbNd4rsXnGuOlHtXPZ9nUGF168mXCnSWnyWhik6TZgWCtaizn19aKWN8FvA8A1UJmbnPp5vz9AOBItNY4iBPRFgBIaIJIriGmhU4l/vjB+OU/n5IZqvIulsj2XExc9/Zww27Xi0ZR6+xHe2oEXFXkOk8q2pZ3L4NdTULjWqTqOVRrA0YxRS0cieBUWapE0e0ftlyp+DTl7I2aHAIK60FloBDIwhbm77l3b9fmHRj4NgltSDEcjWSW13Fa1RdpTiYsGd1bOesd0ehxr2Rxtd9lGsO9uVnIZOqR22duTjJAx52Ca/uvQgCix5gUElY9bDHWzfnG0rfvFpb8+iDehkLeOnmsvgvQTlioy/GTuj7OMrP0c6IgkQxQSgBhSCxmE19QUN/JMls9bEB3Vrv6vAhEf3en/u76Zdbve5KqFovy87TRYwJ6OKN3otP2vD110p+HOwbqnHyWtWRQlAW5h4IXfTyjUgml9U3tdwW5GBWSOLqDi10j3jTG33GTu7tKxxHKF6zVca6hDu5DO8fk/Nhv1I/9eihI/tcZXSNqtIBAwLq3h08Z/HppDD+qKn/VS+iBKibHSNX80f19350Qbar1mAQ6lfjbR5MXbTwhEBloNOeVMR+llQwK1RBg1h3HKv7hSJsEcv5fxT+0NzaIav2opqnJ2k7/QBcywTSGBR6Ljg5wefhcD8U2jUwfarLdsq+LFRqF1NegZHFaBSJJ72k0KRTK/ZeTDb7d3cHy6/e0qXaiEah2C/sZO8eWwJjtNOZa3eMmcZvlY0+0WuU55/fCI9/4L3MgWLuRHVZ7ze1uBABA9CTrHOxpt2Bc5D4jjtouPspeNKlfH0Qk/pJzq0bAjbJ0+bPfbDIaBwA53NpF8Ye7Wu0AMNW57eN2pSpLi4D4vqKEGzU5MVbumyOmmWOJAMCVCD5MPpXcWP5L9q1vQyaYavHppbVdGxcMDScaXUVEFywoGiyNlp4UIExjuBcV67fNjYp0Q2gNJafgcdVcE6t8ZNcxfawZY3y9PCwtZhx8WcDIVHMFBNijUEgdpbJYLJ5eYe5KkLU2xCExAQhAgZ6hMsxm9eO2CBdt1fKMpFUs2R/fqWjf1DD/Hm1oFfY06gdD+m2+8VKVSSyTHUx8/vEIbbF6fT/jFwevMbmt9BcfuS2Lxusy1xtKUk5Fap4JDuu7s9oVSuWhnLRT+dmlXDYCELZkyizfwCXBkaqreU2sX5IfJ9dVyxSKIIbNmsiYaDtHAHhWX7P85sWf4kZ+ev+GDYm8d8zUn5Me3asoGe3m9cvg0e3invX81k1Jjx5UlvGlEh864+PImMFOrm3reXjzfmUZk98KAC7/bFE1rgjr90lU2389Fom8U1GyJflJKZfNIJImevh+HDkAg+zrtM69F5OMOf23saCse3uYCddjKtwdLFfNHPSzEQIgO88lxIa4656UNM3x7SJebpWgNMgs4kUbwszSPMBMv5ShHokNNaW8XaSfo5GGO4NGDjNF0VkVWAzaw8EyX/9omdrGlt7TMrr5NL+KaWA0DgaN+n7pGO0Z205E2yZJ8895e4dZR/uZuV2re8QSsTFIDBnd9i2AAIQ13mK209jfC4+s812Yxsn7OW8vAETQ/Ydb91MbQceFvTs++npCnsFldOVyxcWH2e9N6l3PcYtUeL0mBwC+DZlAfuEI96fZLfKM2Zpr4KdbJJfuK47HodCbwqeqrHYAoGGJXwaNnXTv7/OV6WsDRxFQptkE5lZpqBA3OFAPj4AxaCwyKOhG36Yd0xjuhYV6G+7aO8wJC/rw/LW4P/fQCPiLi+Z1123t5ZuFrMYKNnftlVuWJOLnw+OC7brV2TidkX27oBiNRJJw2I1jX54f6ThXj+BwGDdXRlGxrmUC8/JqB8bomiiGI39g6LpAKDVNaLKOXErP44le+hVQSOT7Q/R4cEwL8//jToJY9nIjfjWzQLsZ3fcz1nF4Bz6aqfsUbzR/m8LdPmN4aHe+9k/v3zhXmPOWT+D7odE4FCq9oc6W1Hamn89unHb+mLeF5cbYETgU6kJR3twrp/eOmRLn6AoAjULBhaK8HwaN+OLR7ZmXTo509fgkKva7+HvTvfz72zsBAFcsmnbhGAaJ/KJfHA2Pv1iUv/D6uf1jp6puXxwcucA/9Ldn8Zms+gNjp6lmZBBfhoQyBfwvHt5aHhrtTKU9qS7fkZZExWKXh/ap67qKybnxVG/12I58/s6I10qKviNTBgfdSS40uFBOURXrXkrhsEidn6JIQoBZuD3BOZbRwxGTkUT761rPWBfCjba5Y0PdTKvq7WZviOHeyGntJcNdoVTuv2K4Z/q9Sf16TNvFINEbAl5+C28O/rjjVRKasDFwBQAE0TyDaJ4AMMdZ/UhfbYRIegAAWOJo3/gv625SHBb90ezBn23XVk5LOxceZi2cEG2wJqkuZLCrZQq5C9nChWzRsT3W2sNgwz2dXdUsEYZZOKnVZvKgMnAotFguy+PWh1mYRmK/ulHdb2tJJbnaaAg97w1wGDQKiZQrOjl8BT2lk5nGcC8u0aOoNRKJiIhw1d7HzYJ+6b2XNjQVj+tYfencwjmqF5smaH7+asw0/W70sO9Ga/A8qc1lDL6+drob7vkFdbob7kiMFwJh4IEXjagut5RQUuFsQTNstB65mN6p9li0q6NeWa1UAj7Y0Sa57GXKRC23pYbbomWQvp+RQSVJZPJXoqnXxyTnVBpfsj7Ey/7D2XEaL2U01J0tzFkZ3m9NZNtOaYSLR/vVX5MfEzCY4xNmqkQzx7h5Tb9w/Nsn9+7PXqTqsMA/JNrO8XZ58d2K0i/7D0YhEFuSnxRz2SrDfU9GCpPfenfWQmcqDQCGu3gUnWr8NTleZbi70+gAYIbHY1AoP0sNmlwckfDohBkx9k4AMNTZLaW+9m5FaR8b7vsvJxvjbh830K9/Zy3wqlLWunf3tHAFZnTSkfvr1PpnPSvb/t3FnZdXaz8RNRUIBHy1cMSsLw8aHMO963zikAhPvaqnLXTVXMjPVNhaUk0VTa7C1d6CgMMYkxquV0CRLjjbGiK9xeLyTbuMdu49KyqvNTCG3taCOndMRM/9XhFxYR5u9hYGK0o1sHmP00vjwnrRf1wt4AKAE0nd0u0u5VQXSngsAHjeVOl34VuNHZo1BeEYBpOjLh7qbmuhsWcvQcJjWwSdYmMEXWT91DCNsENVlR6fGQ93a0pnhdR/Db4+drp3LivToyCFoGm+/stpw8XCnIzr5HLbfjdRX6VzHeEIhFk1nY5f4rxc9B0kwF49m+dZWbepz3084yd7r3yy90oTTzBpw4GPdl9S/ajvdG8Q5x+oF2TWF3Mq8acPxncngvu4ugIAZvlodsbHV1cOdnJVWe0qxrh5lTVzKlvafCS2ZCoAmOMJ9hSqSsiVgsWKXhyePK4u96EzVFY7ACAAImzss1j1YrlOZiIJg1VZ7SpcaeaquJo+gycQ30oqMPh2LAb9/jT1gyNHN8bRh59/tHFad3ehMci+sdpV2DHMZo4wPFKlrLbpSXqpXreQ0Ka0qrvi76ZHdQVdQCIQHo6GO6qRSESIl4ljI51sDDLcOb318Tl01fDo9uXTY15nFwwCAfOM21ecvW+Cqm1aEMmlAEBAqx/rEYzQfmmVigHAmkCNs/HS+I+ONZlaTlf3thmpTw3UruchqJ7KmZvA465UQnWNHoZ7oP5pqW8Knh6a88c1UlGph64tEqnBI6gjKCRimK9HR7c0RyCcsfP4RyNi3goPNG1ZgZTyGrW8YT87Pd4TFdZdFCormrivyYwLhr0uwt59AIcnfJRmrJjM6lmDLMy6fciyRUIAsCZpOE2SyOUCmdQC3yl3x4JABAD2i/qvGBQSABAAeNTLR5kS2v4gmoTCal5ze/x6OzyJBEfo+dFnRey0bASAAoyqf6Qvt57mS6SGy4lMGRzIMNfvmC4w0vXv86sMntEw5o+NOHMvnS80MEv1wsMsvTzKzVL2zfpzdaJqufKlUM/HXhsMm70rvi56P396xNORkVVsoHqmlyODiDdxmp2VuSGbH2PEDbVQXMUyIG5HhbuD5ah+ptH/4UoEq54dORSzRJfOmZyqP/Jv7e2/SJfOo/v7bjv5iMsz0MecnF3R3Coy6zVvqUqcUSxXN3/F3SvG9IhqGxBs7vB71Axj1qYLHaNkVdBIfVoTStQloh2P7eHryQSGO4vVIhbr8T8UHPSvNdydnCx0z0+tr2+WSuUYjE57fRQ2QsI/hMJGIhBIAECi9RPTXDQw4mpWfkcdAJ5I/P3le3sep7wzIGxKmL+aS95g8urUH6BOFmb6DkLpIsjAFXT7zOrjGY0UkHmzuPIkR2qcCmG4j+PYAdpqpJvh8ADAEvLb49rbwaJQJAy2SSjo2Ngo5AMAHU9kCno2Amg4PA2H/2rA4C6T6qT40ZeOZ41cepzdc6duwGHRGhWpu6Ohjvvx7H9auAIsDn0m6Zv29vSnJevfP3Qy/ks8oe0R8cvaU0ql8rPNMwHgzL7Hl44k8JqFHn52S9aN8/Q3RGaXSsLPHhm256LeCoMqEjLLWJxW3bcoRyp2oBHoSPNYFLJXyjW490IYt70VzeB7gzxNr31spV/1wDZ61MowjMuPcwy+d9aIUFN9ymlYoo5Wu76gUcihEZ7n7ht4+KlQKuMzS7U/h41BFRJTyVc/w2cKDS9I70axBICiFgP3Y3qBRaPUQvXERrhL9EUglnYNFOxRk8oET64aPQsr+PrqEU/yZoFGo+ztzCurdApHUyiU1TVsVxedStnJJPEAIBPfU/1IpB/Qa2Ge1hYrh/bfejterb2W2/LjtQe/34mfEOw7Ncw/yMHYQ95SlvrZS9zm3UaOCQBcYbdP/L6fEQC+PXrrmzkj4nPLvz16a+agkCWjXy+tPVNx8WGWMbejUci1C3rQM+lv57gV4Ex+zspwDfnEcY4u96vKhDIp4YVo/fXSQieqmRPVTBfDfZCjy9HcDG+6pTm+Ww8KEY3p4+xtHSmpbjQmu2BcjJ+Wg46uWNnSjjxYl/Qg/5e1pzq2B0e5UaiE5Af5g8YEAYBMKk96kL/2l5kAcPNsyq1zqev/ms+wpV0/lfzV4v27r35ENTfkCHv2yLBD11IMO15QKJSXH+csnKjrZ7CCX7IxcAcWaTIdaDVc7UwfIGvP0NsZ0U5vnADo9afVjsGHKlqQyxU3DBVLpZLwo/v34G5vELX8lH2lis+WKuVTHcPfdh8IAD9lX/Gm2l6vzeRKBKPsAt7ziLtak3G2IqVKwL49/NP2ezM5Vb/n3RLIJRQM/pugSY5E+r36vG35t6kYvD9Nv+ClkdE+BhvuAPAkvRcN92BzBzQSVcpjVfHZjh0i3RMa9Ith60iEhTMVQyhrbUxjV4XSe9fVS8Rh1UxnbhdZ996jpkmDpKFNTydaJgiTaGxUD+3Xgrk5SXcNxDcRFxc93C1Mpq5bUiL9QMd/BixsyaCo94f00+hdEEikJ59lztx5fML2Q4cSnnMFhvtFmC29chjK7z5Xo+9nBICqxmYkAnHwbsq5r95OKjBQE+M1J62gurLeqESIcQP9Xex6yM2PsnUY5eq5NSX+q8d3bpQV3S4v2ZGW9OfzNufrJ1EDpXL57EunLhTl3SgrWnbzYhqz7qv+uha5XBISScPhZ146eTwv81FV+YWivO/i7/2ektCxT5i1HVsk/CHxwePqiltlxXlNemSe9CqXnxjuRwSASYP0qO+mBQQSETc26PHNNt9/anwRCo0Ki/EEgNN7H81ZPsTd145KI85cMlipVCY/NDAin0LCG1Mf6tLj7B4re7RDRlPECg0lb0wCFoO2tjB9DL2thR7Z9mq42pteHwONQhoQftMqMP3bHp9ZxmkR9NxPE+Nj/XE9xSR8k3E+ytLtTNyKi4NXz3R5uTm8VpOxPXLe6UEfvOM+EADG2QdvDu+kMyZWyH7MvvJH5NwTscvfco78OfuqUC7ZkHXxz6j5BjjmQ70dzKk9FDPRwtOsCh0DAQzADEsYZecHAN+kX+bL2v6LS3isnYWPDR4Tj8Is9Y4FgLUp5wpaXvovlKBMaaq4UWPUs1ENyy5vbBPPwL8oA8iv0nCqYN/T590koTJ6GO49RoFH/rFjw6jho31eTZG//tt3fjl88HhfzYEoCqWyR/kCW1ua7tPp/tbJJc87/ojCGpLOtXJo/yhXh+8u3S3rJjO1uKHpp+sPf7sdPz7I+92BEe4MvZ/4nO5jWoxB2f3Xct/PCABIBCK/usHewsyMiNdL0eINwshSqUgEYsFYnXKq/hoxYXdGyvmi3FP5WWgE0pFqtiioLZHAjUY/N2XOpqePvnx0W65UBFhaHxw7LdbRRcc10HD481Pnbn0Wvy0lkSXkm+HwfhaMxS8U4lVM9vIr4bLPFuTsz3pOw+G/6D/Y10KnQ7De5rYRaakejgxfV5P5WYeMD1kzb6dIKMETsE9uZceNCUShkDKpvLayadOnJzd9erK9Z0Mt1+BZJsUF3Eg0UPiyltWcml8Z4auTPNx4u5n7y7YOs5pgjrVsj4ayxZvGq2fHoPbGA4FuZqDRhkCAS+9IZFBJeIFIv6MqvqHFtrRw9Uluz526YURUDxGncqXieVP5X1FtyhD4DtmWQ218VT+iEZqDXYt5zAp+46LEvaofLXGU0laWDd7MgWgOAIOsvAtb9EhaQCAgzNvh7rNC3W/pSKtQnF5YE+7bW67rzwJGPm+qTGKVDbv5uz/NtlUmzuXWjbH3T2dXVws6GRu3a/Mq+exWmbhVKhLIJACwPe++FZ5CxuBIaNxbLmHYFwFs73j0r+SzT5alTL33j5eZtSWO1Cjm1wq4PKlovGPQaHvNNdENwNGSVljTKeGwoJollspwmF4JpVMjuVBDjRQv+x6+g0ywMr087q6ur8WXomGM2XPo2qL5KKS2Ywpraz3ONBubdH3rJK27AEAJcoUsH4n2ItL36j5LR6JdHS+tWHA6NWvnw+TufNVimezs85xzaTmj/b0+HBHjRKfpPn5fBoe9qhkBINrHad3+a1sXT5TK5UbWon9tScgsM+b2IRGejtY6SU+gkcjloVHLQzUHZHuaW+wZM6Vre6SNffmyT1Svv4kZ2t7+dH4nUWQ6nrAhdviG2G7rfiMAPoka2F50qZ0dIyeqtfw+bFz3v4SJKaluNEaCY3JcgAkX4+FnZ21HS36QP2CEf+Ld3A073wEAhUIJStiw852gqJdFOVBow49ww30cHa3NDa6h8zitVEfD/UjF30pQ7in7tWPj1pCjhs2rhjGucS0Y7G21oVNNnpmqgkrC1+v8/aWCLzSxx10ikydkGfiYsrWg9qj/o0pz17gPw/dY/UcJdgTzU4NeCrfncGvaq6VitFoRGgk1wnAHgOcF1b1nuDPwlJNxi7fl3XvALExtqrQn0j72H77Avd+KpBNqhvveovhMTifFtktVL0VvxjoEYF+cgSAAsT54/DAbn+NlzzI41SU8lhmG4ESiD7Bym+hosjLAAOBhZ3k3o1OBM6lcnl5aG+1tGp14LYilsofZGgKKekylM4HhzuboIc5qp4P+6+vpwWTyWkubehbPsdHLcNd5z/OyVKpSJuSu0H2KrqBRyNlRwdPDAy5n5B9OTMuv1xwboFTC9ezCu/klSwdFLY2L0r5daUdNchqLRo3yN8HhibdNt/u9vp8RAN4bGfXeyDZDc/9HvZ723vfUNbWU1xmoi6xiwdjInjv9RzckZVcYc/sQI8JONA84PuTJrRwKjUgxI/iGOAEAFoe2c6KX5tdFxOpajKJHhkZ4HjRU1y8hs+yjOYN16flbyBHDptAFm94x3LFoFBGP0dfDDQC2jF5ZDwDgsXrvBwxW6++O9IIasaFjDons+TOCRqCCzB3PVaZOd44EAL5MTELrmhrhQbHiSYWp7PJwuosSlGwx35XMqBVyawVcOyItgaV3KdxQb6OSjHO7SZi5+Czn6+O3VowZsGSEUZlalnjy96Hqzo4d/eaotZyIe0+vYQdaewy09ui5nxGEuWt4Y68+y+8Dw/3qs/yWLpHJJBzWz6mH81ITGO48nh4h0Q4OPRvuZWzOlAPHCliNHpb0H8eMCLCxBoA8JmvF+St7Zkz+/NqtrDqmJYl4ZsFsBpkEADKF4teHTy5k5/HEkihH+29HDXWi0aBL3EvY1r83jRs1wssdAMQy2cY7Dx6WlnOFIqFUSsZhpwb4fT1iCABUc5tnHj6ZXc+0oVDWDI4Z6+MllslmHjlZ0sgGAP9ftqlGy/lsNUrTDsOKoUeAY3Oz/mEeCLRCboJUawwKNTXMf2qYf1pl7emU7OvZBSJNrmuJTL79XmJyWfWfcyfqojyD6yyIiwDE5uljjF/tazWjGpUsrouVIarGrzOJmeXG3O5qZ2HCUI3/QxKzyw2+18uJwaCZOI9oyPiQM/u2mVuSh4wPaW+cvXzozp+uOHtY+4c785qFaYnFQyeEtIvPGEBMsKvBhntFPaeW1WxnRBKnSbCkmUxeWg0iHmuA4d5LGwkAwOP0Nh5kMhOHWSflGL6/jfLTySzbEDL1h6wrJyuSFUrlRIcQVXJqV75IO1Mr5HIk/GVJB3zN7Ff7jMChMFsj5/ySc10gEyuUynluAyY7hn0VOGF58kFzLGmQld7bXRdbuu6adV3JLze2jt6/lRA3OwIWI+ysyXj1Wd7SMdH2+ivU6Y5QIt15PbFr+6AA1x4LC5jAcG/l63H+ZW3V8xtxLC3z90ljHWlm2x4nrjh/5e7Sd1XuXmZr68/3Hq0bOsiVbp5T36Cy2gHg90cJD0rK986YYkki7k5KXXjy/PX3FmBQ2n7z/c+eZ9c33Fz8NhqJXHLmohONprLaAWBPUuov40eF2tudzshee+VmPydHOpFw4Z256bV1bx06kfPpKu2+ZypVDwXQ1lZd9zxCdlsAgELRiESZUt4r1Mku1Mnui3GDL2fknXyWWVCvQV0+qaxq9fEru9+e0mP4JqlzcXWxTCaUSAn6+2Z0p+9nVGPntcSf3lGvbv2mY2SczOj+PqZayf8hEqksraDG4Ntjgt20XN365dmkh/n8FpFMJp8a+R2JjP9001tBUW7//Hjl4bXMVp5QJpVPjfiWSMGv+nZKVFyb18PGwdzZw/r2+dQ/Tr3fPtSwiaFikXT3L9eY1RyKGcE/3GX4xFCDlw0AQR52VBLeYNHAhMzy6cN6PkOXKaW36i+kc58K5YINATvK+UWNYmYEXbNBpi+9argD6F151KYXMmVVEHB6P2PV6robT5Kh+1skEhHipdPXqC2B9meUemH1zwPGq7X8GDq9673+ZvYHBnRyMA+39R9u2xacvdBjkK7LBQAADBrlwDCrMFQwoKmZz+K2mnxL/y8Ah0EPC/G4ktwpwUauUGw68+CPJZN6LwDkl7MPmJoqG4yN7LmwgCkMd52tTwCg0XqO1Zse5B9mbwcAa4cMOpv1T2JF1UBXZwAQy2TvRIaF2NkCwACXtu2yVC4/mJL2+6SxftZWALBuSOzV3IKreYWTA7T98ll1zGgnBwIGAwAxLk53i1+GGU0N9Bvi4QYAi6LDf3sUX8Bq7O+sR2SYfoa7znseLLktDx2BJCPRps/cJeOws6OCZ0cFJ5ZU/vMwKblL3dCEkopjSRnz+oVoH8eGSsmv6xR708QXOGB7cdvaxzPuu/1s4YjIPy49aW/Jqfy3eTJkckVKnlFSOSP7/We4G05aQY0xdZcGBLlqufrRD5prpi77YvyyL9TNkY78dmxZ18axM6LGztBDLV47SCSif6DLTUPV/RKyynQx3C/VHK8Wlo20nnKyag8AUDBmRyt2mMpwpxsh/aEdAwxl6E2PO1qra0wjMpMKm3BaBEVVBmpA+bpYE/GmKV3Sl7jaWxhsuANAXhmTEarZcH8945P7jCn9A9QMdwB4lF3619WEFeMH9MaMB++mnEvQUKbD2cp8oJ+2B7gKExjuQoGuqeI4HJpI7PnTogp0AQAyDmtFJlVyuQDOqhZfK/XI4+rmFpFM5vOiHYVEejIsCht7KErqSjd/VlUjkctRSOSzqpqOw3ox2vQckQgEAYNp1SoL2BUsFo3DYcRdiuhqpFXnKCMUNsQk2p090t/dqb+704OC0m8u3mHxOjl4dj1KnhUZpL3SqpMFTa0lr47lYN6Lhnsfz+hmQweApILKuYPbnItJ+f82OciS6kYDDuXb8XezMUZ2uis/fH1u0vTIgGBd98+JjwsrylizFsSYfOS+IaPIcHc7FoMO6Cnl7nUm1NvBYMM9Na9KoVB2rR+uRho38XPfLUQUSWW407GMZqlRsqcdMUazTzs6ZhmpYU7prRqQqJ7e566YVpEwObdSdw1QNQI93shiMo5G1OECgKIqVnc1hjEo1J3M4r13k4vrmgg4TKyv60cTBlpS1I+PmNzWHbcSn+SVc1qFllTi0ACPpSP70Ugva7JWNzVfTsl9nFdW3dTCF0ksqcT+Xs7vj+5vZdZpw/Awt3Tlnov/LJka6ma37Vr87Ywi1YDjw/1Wju0VQ1k74R4O4R72qcXqD949N5PEUtmHkwYa9unTiEKh3Hb5yYE7KRqvvjM8QpdNlAkMd91rK5JJOhXdVXT+OCI6ZHVju+zyVXpeHcX7FN18mkUdCtsuHxCVePzsgO27qHhckK3Nh7Ev/1bwRmsAEYlYHQ13kW7dAEDAXtgu3y5kL3uZq9o7DPZ2O71szuxdJ+qaX6bPsnj8jOq6cGdtJ4z+tlZqLZnV9SP8ejG5pI9nHBzoDgCTov3HvTjPSsgzKo/wNaSg0qgkiugAZ7WWezVLNfYcar/TmIm6o3+sV3/TZUz2PYWVhmvJezszUFq31q85PQp9aEEollbUs3usf4QABKqDhJ9QziehTRZPQtXtO84AUChDnKJm5N4y3JH6mzIKpVIXSWUdySmtN/heD0fTV7ftA+gG1b1qR4sK0IOc0vTy2n6eTpOj/fNrGi6n5KaX1Z74eE7HmuKlTPa7f51q5ov6eTs50M0KaxuPPk57nF92ZNXsdtv90MPUE08yfOwZMT7OBCwmpaT6XFL2s+Lqc2vn49DqllUdt+WvHQnNfFGsr6tSqUwrqxW9ulp4qyfGvr31RFfj8fC91OyK+k+nxfk5miBrK7eS+cOpuzkVmk/pfRysJvXTSebSBIa77hknGIxOh2sVHK7qBU8sZvJanbR6Tx3NqEQsJq+h0YFmBgByhaKkkT010A8ASFis4EXCQTW3WSp/ucGobm6p57XeWfoujaDrc1a15ZIrlT3+DpieEgvaMShZR6GQaxD+NDnWVPKX44asOHapY2N2DVO74R7pql4Q7nFR2ZqRpjmGfk1mBICZg16eyH8/b2SvztX3FFYYVYQo3EfdgR1ssQIAKltvAYAtcSASga4XPMUge/gSOrz3UcrTYksrKofddvJz7cLz+3dyFHJFUJjz24sH52XXnDj0BIVCcth8axuztd9OQSDg0pmUW9fSQyNcF70/TONdGkd+rSgywnD3c32D3e0A4OFgicOiDZYKyS9v6NFwDzALP1axc4ztNABoFDMv1x4PNddQtdcwes9wNyA0BQBoveZx7/FkQyNKhRIM2oF0xZiPiYfDm2m4G3eew2R3a7g/L63ZtmjiYP82f/zGM/dOJWTsuZv80fjY9j6fH73O5Qt3LJ46wKfNNfP3jcR/bj39/crjb2eOULUsGRE9Z2Bou1qDTK5Y9PeZtLKahzmlI4PVnSnbryUMCXD/evqw9r8lk+sO6U6Qq+3sQaHHHqZ1vZRWUjNn87GBfi4zYoOjvJzwPRXt6opEJn+SU3Y2ISs+t7y7Pigk8suZw3Tc1prAcJfLdfW4Y3X7hc9k5sS6OjvTadseJ9pQKf2ctWV/o5DIJdGRvz58Ym9GYZBJu5+mYNGocb7eABBka3MqIyvGxQkANt592PGwg4BBi2TSyD92AAARixno6vzLuNFErRmNTjQzNBJ5Na9glJdni1hsQ+k2yUPH/Qno9tbJxIli3ha5NKuV2R8AlEoRhjBBx/GNZLC3KwaF6rjhaeL3UFHM1ozibWPZMcO1oL4xs7o+yKG37Im+nxEA+GIJ6YXGjgkP0YyhpvVmveBBuNVPxg9VaITHHYNGBXU5hrbABwJAWuPW4Q77VC1WhPC71Yt9zd/pbpzqyqak+MLtexYpAd6bvQMAams4925l//LXAgQC1q48UpBXCwClRcx9pz7AYFAfLz9YWcZydmNMnB5BIuPKS9t+ha53kUg4tZFfK3gCcV2TrgWVu/KmG+4oFNLbySqzuNaw2wsqG8YM6CG1a7L9vLPVBzflr1Mo5T/krYmmx42x0ZBZaBgUoq5ygfpimJ+69zzurzwq2uAAdyQC4Wb/RhruFsZ53Jnde9xDXOzarXYA+GB0/zOJmVdS8tsN99SSmrzqhuFBHu1WOwAsHBq5/37K1ef5X04fqpIDsaSQOgbYoFHIiZG+aWU15Q0aotEUSsUnkwZ13AEaYBObkFUTB6aV1uRpKmUKAE9yy5/klmPRqAhPBx8HKycrc0dLWtduSiUIJVK+SNLQ3Frb1FJc25hVUf+8uEZNtaYrH4wfEOii69PbJIa7roFmCt2Syn8YM/ynew/zGho9LOl/Th6vUXWxI8sGRIlksoUnz7dKJOEOdvtnTlVF1KwdEvv5tVtj9x4iYbHL+ke1l9jkSyRzjp7+ftSwoR5uSASCLRB+cO7y4efpS/tpU542w+O/HzXst4fx62/edTanXV44v7ueaJ0Nd1087mhcfzTurJCzimD+GwAAIPsm2B0AUEgkFt3JcMd3Oe3qytRQ/5+uP+zYsutR8p9z1BVeTUjfz7j8r3OHPp7Ve+MbQL3ggUhmAp1QpdLwb0QA8Hez6a6KuFTBa5XWkDH2AMCX1okV2gKLa6rYru7WCCQCAeDixgCAyjJWbTV73ao2EW4hX4LDY9y9bFT7ZHNzkkBTsk3Xu7hsvtrIrxXG+BEBwMdFPXLsjcPHxQjDvbznjwAWiZvttGSG46IWKYeKMUd1U/nSADBolO7HrX1D720kXi1MNs9g9SELGunVGogGQzJCaxW0etx9HTo9N8zJBGeGeVkDu4knsKAQAeBZSRUAhLl1Om/HY9F25tSyBnYli+tuo/mky5JKAgCxVIOPMsDJhqSDxnSfgcei/1gyad6vxxs0ib2okMjkCXkVWuJjjz1M0+i2186oMO93h+tR+cQEf75YLFrnkO6ez0GerV4OAIPd1fNqfa0ZRes+0ngLCoFYExezJk49F82aQt43c2r7jwvCQ1QvsuqYUrl83At9d1sqxYVuzhWKACBxZadg3Ocfvd/xx7eCA94K7rkkoVznoH8ddzIAgKN8YJL/LL1o4LXyO+fmMrpkq3RlSpj/n/ef8kQvBXPu5pVcyyoYG9hDfWmD6fsZGdTeEn0zDCUoWMJkCsbF+KFqWFy+0PDK5FpilIMsPrhbvZCAtkYA8GX1EYx1WsaxtTcvK2EqFUoAqKpsAgAnV4aVtdlPf8xFIhEymQKFROTn1vYYz931rqrKJrWRXyuM2TUhEGDatOBXgo4FdzWi+2ERCoEyx5rY7WqkXWVyUCikdi2BNxdj9rfW9N6SyOxtsDr7BDUiEElahWIyQcNejtYlxItOIZQ1AKdVqDLc67k8ANh84eHmCw+73t7+5atQKG+mF97LLi6ub+LyhQKxVEtpc1tab0keGYwVjbx31VuLt5+p5+hXFdgYYvxcflgwWq8jLBPYgjicroa7jt16G2dzGk8suVdcGufmIpTK7peU3ikq2TV9kqnG1z1AE6NzIiwSbbgNyhOJKXhD/C7HkjLUWvztes7PoOBxSwdFbbn1uGPjVxdumxMJ/d31LkWmy+L7fsYQN7tTjzNC3OxVx3wetj2E1XZHkyi1kLOXI86UKyVkjJMjZaK72TxEhxMVjji7knexSZQqkNYBKEgYZ0fK+I59yltOV/IutkiK5EqxWN50sTSk/d6JrqkI/b2JpTVG2bJazqDtSYOtnaNbpOUASirGBY3UFq/p5GIZHuW+esl+Gzuanb05ANjZm4+bErZ25WEkEqlQKjdu0XDiIZcrtmy8VFneKOCLG+pb5r83yMHJQu2uriO/VpTVGv7+W5lTsEbn1r9yHHSo9dEdPIG4vonXe+Ll2unL8hG68Lqtx4QYs799kw13Yz/dnBahRsO9K+ppmkoAgDh/NxeGhmemFZUMAFK5fNnOc8+Kq92tLeL83RwszCgEXH5Nw967zzROYVi+dW/jyKAd+GjmR7svdRczY1rGRvh8N2+kvhtsEzzl8ThMC+hUAVTy6jIPOmJLpfw6YfRvD+NXX7iKQ6PdLehbxo/up49Yu3bEOhwsqOguqMC0rDx2GYFATAv3H+7robtmzuWM/D2PO33enOg0PzudDuLfiQm7ll2QW/vy714okS49fOHD4THz+oX0WBUMAAQS6aPCsgvpuWUszs2P3n3dZkwurAKAxzltVYq2L5vc4/hdqW69/rzhSxLGyYkyGYXAN4pScpp+Y4vSo6x/hRdKSsXcgw3CBCtCfxviEKVSVie4l9P0m0wh8DFvE9UmY1ydqVOVSnlG4w9kjLMH7e328REIQ5xtDexuTwl1wdWOruUqGkmg43quLqHi3WVD3oUhHVtGjA0eMfZlWrBvgP3XP7ZFJ7e/WLt+sto4andpHPn1oYFj+PvvYJxa3GuCgxEedwCob2p5VYY7Tv9ior2KYdLvbwTGyJm/wYa70YFY3fm/2a3qJlwTTwAA9BfJzSo9x36eTnMHdVtk7UJyzrPi6v5ezjuWTGmPXJfIXgurTy9szCkHPpq5+eyDs/FZvTcLGoVcPrb/whFRBqSLmCJURuenlVgsE4tlr8PTbYyP1xif3hKM08Nwx/fFg1WhVD4rq3paWolDoyNd7Ad6uoQ523sw6Br9MSKpLKm06lhyxqNC9dqZSwbpGoOFQiK3zhw3a+eJ9rwCAJDK5b/cfHTkadrkUL8YD2c/W6uOC+CLJZVsblkjp5DZmFRalVXDVJXZs9PtNK2PZzTMUu+IRM7NaNxgQQgbYLOz3S+e2vBFdeu1ev5DG9JgVUuQ5edoJBGFaDvH9DZfcqdqfCXvfLvhbkmIsIQIhVKc0fgDHmXpTJnaZSr9YHUf3qcLbva6Hj7ksHf70xcbM1dfsuL5r0W8qgsDNxFQvRs03GiE4W5vhK/69cHOkopEILpT9e0RLYG8vQ3+NfNw41+Dr9pegmXEx+TYzdRjN1NNuJg3iO7CAXKqOmlrNvEEVY1caxqZTm47F43wcIBbkFRUpcVwL6prBIDRod4d800LanooqvN6gsOgv541fEy4zw8n75Yx2SYf39fRav2cET4OBqYkmSJURh+3cUNDi6OjNp/cm45QKNE9IqhvPO7tiGWyJ8UVT4orAACBAAeamRWVTMZjSVisTKEQiCW1zbxKNldjfbsB7s7TwnuO72/HiU77Z/7k9w6e6xh6DgB1zbwdD5J2PEgCABwaTcHjxDKZQCKRKwytpfGKZsypYPLFkghPB4lUbkCqUw3/pkwhcKPO7RjN4kAeU916rV7wqN1wx6E6fVjQSBIV68USJitBgeidHOUGI2L7rOkU3esRNooyDZ7oX4wxHnftrsSU9PJ/9j+squGgUIiZU6LentW/xwEnzPmzhScEgImjg9d8oC57qv2qwWDQKAszksEbSGPeQCMx3iFqWt5oRX/tGGO4/z8j6kbbJLuS+TC3NM7PTfXj3zcSFUrl+PCXp6NRHo4BTtYPckqupOZ1bOeLJdVNzd52DACwNqMAQHVTc/vV/JqGkwnqAbdvEBGeDme/WHAtJX/v7eSyetOY7y5W5kvH9Bsd7mOMLpMJDEciSQ8XVAPrX264NzToIeX2Cg8flEqo4jRXcZp77goQ6eKwbba2cugaCXKwObxoxspjl7qbRSyTiVtNeY7WZzP+fTUho6wOAMLc7Vf+c2H3Kr3l5LjiHABIZmrItxbLXz4g5EpxJe88U/CkVVohlbfIlEKFUgIAoFRC78QHGvON2F2IwrVKDe+PQGp4/ZR/KzK5gsPrQXFVC1pEuwVCybebLocGOa1eNlwokFhb6XSQdenoCl6raOmawwZcNQYzMt5ww/3Vedx1FwLuG9Cvh1Jtb2DkweD/Ld153OP83FbvuzTI182OTsmpYmaU1zkxaIuGdTpj3zx/3Ht/n/ni6I3jT9K9bBlyhaKOw0svrx0V4rVx9igAGB3qtet20v77z5jNPFtzSnkD505m8fhw34vPcvrid+sdkEjE+Cjf8VG+aSU1l5PzHmaVNBn0iCYTcLF+LpP7B0R5ORkvpWoCw5FhqUfEGItluETxGwFTH8Od2CdaXcYIC6CQiDnRIWtGDuxa9kwXvG0sz74/d/ONR2efZxt29G1rpl88Yt/MmFpcvXf1jKV/nkWjkIYVIpEqeADgbjYfh1KP6CVhHNv7PK59hycpsSHGuZvNxaOsMUhSDvt3rjjXgBl1xBiHZXcywzikWbT1t2qNT5nrDZ7o30ojl29wFXcAoHUv2l1e2chrFb09s7+Hmx6HswgEUCn47uw/7VeNwcyIskGvMFTmdfO4G/Zoev0RiqXGKF/9P9NdjPs3M4anl9XuvfsssaCCgMNMjPT7aHwsubNIg4OF2ck1cw/eT72bVXwlJQ+DRjKo5AkRvlOjA1Ud7Olmu5dP23Yt/n52iVQud7Oy2DB75Lgw3/vZJb3+i/U+oe72oe72ylnDi2pZqcU1BdUNhbWNNU3Nzd3IkuIwaGsa2cPO0s/RKsTNPsTNzoQSTyYw3K10c96oKC9/IwOedIfJ1MNwZzD6IkvmrzkTL2bknXqWlV/foLtZgMegh/m6L46N8rYxSjSNgsdtmDxibr+QfU9SbuYUSXTTyrQgEwd7uU4J89deqPVVzYhEIFXvpEKhlOus6dkRNJIMAHakYXR8SHd9SpuP8SQl7mbzAyzWdJi6d09pjPG40800C8W4UieQMerJ3wS0URrqhbyq01V383mVHEkLGU2wwplHWfiNtxtIw3SqjNYo5h6puPGMnceVtNKx1AGWgXOdR1ExJH37dKWMX/tJ+p9ypXxT8AfeFL3FizTSaJwfUUu1HQ5XAABk8puh6q1lB9IjRmZXG8PrFpqC/Jd63P+LkzGYrqVjJkX6T4r0B4ARwZ4jgj21325GxK8aF7NqnLr0djtBzrZ7lqufrz75YblaS5yfW+ZvmtW9X3MQCPCyZ3jZv/zyksjkbJ5AIJaIpXK5QoFFo/FYNJWAM+Yh1iN9bbjnF9QZP+PrTHEJU/fOer11BkPAYmZFBs2KDOIIhM/KqnPrGqo5zdWcFhaPL5RIRTKZRCbDoFAkLJaMxzqam/nYWvnbWQ3yctVeSlYvfGwYm6eP+WbCsMeFZakVtfn1rBpuC1cglMjkWDSKiMWQcTh7c6qLhbmntUWEs4OntYECi30z4+hw7/e2na5q5L7z+8m3YoIMWB4N61cFlxtFKVoMd560FADsSCPaW5RKeatEY+kHFAAowdg8AYlMbowrqzuPuxt1ctfGGJtNBk+Uzi36InMHHoWNpPtRMaQmcXN+S8XxitsT7GI7dqsUMD9J394i5YfTva0tLMpaay/UPHrGzvs99MN2u1yXPl2pEbI+z9whVch+DFpmKqsdAFoF4p47dY/GUJnvf7n8LK1CFYw+c9EuVePhHYucHNpCFlPSy/ceeVJcxiISsHExXsveiSMarUfe3ZjjZ29fu2p0bH9PvkAyfta2mH4eG7+YDABf/XDBwc582btxWn4RHeEJDKzLYzyvSRHldv6tIu7/xckYjLHfEP/RBSwaZWPe1zpFpjDc9XEbFxUzlUolokuMD0coDN+5o/TDj41ZybyzZxaEhIx09zBmECMp0GdnYsXo0wIE5kTCSH/Pkf497Kp7DzIOOybQe0yv1UXqsxmnxQRGeTuW1rPdbOga6x73iAN5bB7nz5Lmw/ak0SSMQ3u7WN6EQZKRCBwA4FFWACCU1wO07Q2KmvdLFBrC95EINA5l2SqtUCglSIThVpfuJQg0or0it1TBS2/cVieIBwAbYnSwxWocimbYRJdrn8iVik1BH3hS2hz5SlDWCBvNOpvam/IOt0j5GwOXRtB9VC2Hyq8frbi5t/TyR96zdO+jBkvMXZfxd6tMuCFgSYCZm2G/gka0FCvRBYqmdKMPFg2VymTPMyo3bbvx56bZqshGyxdprM8zKz9df2bs8MClb8dxmwW7Dj1eW3H2jx9nGRNloWVMDzer0gpWbH/P/MI6Go2Y9+JpWVLOGhLr0z4CtUs5GN0RvTrR4X+rofy60aqpRvJ//Mf/DyZ40OjlNhYKJWX/3mgZqVReWqaHaH/feNz7GKWCJWL3rLz+piOTK5AIhMHSNFiUWbjVDzKF8EHNzHTW9wWcnZmNP8XXLblZMUIkbyvB40gehwBkVuNPBZxdxc0Hn9avKOLut8CHaRzQgTxKLG96UvteAeefPM5fGY0bDViVkYY7SaukTErDT2ZYt1GOR0c6HqFhvVJYPxo8kVKpBICO+38EIBwInWJvsppLilurB1gGtlvkADDTaRgOibnfkCpTynXs0xEMEs2Vtq7L+Istafna791QcxNLymosDK47GJSGGGsLOsnGyoxGIwIAw5JiY2VmY2WGRrc9+fcdeRLga//pylEhgY6DB3pv/GJSZk71o8RCY5ahZUwvd+vSikYAyCmoHTLQu5knbGxqFYokdUyul/vL4m7GWMBG/g0bg/E5Z/+hCxLj9rf/oRdyWQW7cRqz1rOhLlDAP9TeLhEnNjLjDHPiN9T5i4RXTLfG/ztMYLg7OtD1cs8kJf0bMhU0kptX0zWGTAv/SsP9/4G/ryZ8eejG7bSiLw5c//tqgmGD2BAHx9kftSEOYgoeFXJ31/LvKJRiX/oKHKotaMcM5xNts42Ati3i7ivk7AFAxNodcKJM1jiaL32VJ22hRMEu5O4taz7Jk6jL8OuCkd+I2ityt0jLvWizcShzPIruRZvdKq0xeKI4q1AA+Dxzx/HK2xyJ5mTETG4xAASauXdsxCGxVni6WCGtEbB07NMOBomWKeRfZv5TK2pa57sg2sLf4PV3h5FGJ0bP5EipTJ5TUBsd7tre4ubCYFhSnmdUGrwG7WN6uVuXVTQCQG5BrY+njZsLI6+wrrS8kYDHOti9zNLW9xfpiJGnFsbQ9ST5P3qDV/hf/H9IK28rAIphk2hhdQtPmNjpGgINvaRu9h9aMYWOOw7j7GRZVq5rCeIn8YWzZ/Xr2o5Bof5OTjqblyuRy9cMiJns4wvwv/bOOr6pq43jz7037kmbpu7eAsXd3XXANnxjxtj2jrm7wRxmbGxjOAOGDHe3Ai1Qd2+TRhqXe+/7R7rSxpomLZrvZ5/3bc4959yT0tw85znP83tgdfpljclUqlJerKggSHLf3PlCBuNGXe17x45VqdV8Bv2V/gOGRtmeVl+oqHjr6OFvx45PFotLlcp3jh0pUSgxFF3UtducLl0ajMYJ6/+an9Z1043rKoNhZmqnl/o5TbZoE6fP5LvfGcPQiHBvI7mdYVK9BSiftBQgmIQklBTmZNyUSeP+j8Srjao3GKLfAcAgX4jRuhCWUozWizDfbN6fLvgONx6xGdK8P4X1sEn9BYmXkYSOxnsVpSQAgFH1ChBaBPWq8GGmtGbStnXRAtHR2Yva53fRAZzPKVv30sPWMjHzv9r0zPh+ns3Do8V1D/jURQcJa4CENcBmSDh3kn1PDKEni55LFj3n2UqsmLzz+LquyI0AxYDXMzA/ANBbZCh4bpwNFnfVxRt+L97zR/G/f5Xs6+vfaWbYcJtYc6lRAQA/Fe74qXCH/QxaXO9mnyaYGP2znL8KNBUxnJB+/p08XrwLvNw4USltc8TodCaCIG0kXPg8pqrBrUrYHswZHyOpqFJYLER2Xs2TCwYnxgXm5NcESfhxMQHNjV5vDHefO/a+x8vHlI82gVtKaIzBKGqrUUGj9/UPOHJHluSjfRQqEuID3Tfcc3Kr5HKtSGQbDmvGcSGTeWT+wnx5/bRNG3uFhAZzuQCwLjPjr2kzvhkzTqHXCxkMndn8+M5/lo8aMzAiolSpnLl186YZM6OEjcYiFUWPFhd9e/7c2qnTg7hcgiSX/Lv7s5GjUgMkKqNhwvp1qZKAaKGooqFBb7EcmregTqsd8efv05KSo4VemZtWTp9pwxFzZIQ/rcMKMJFAUJkTTeovaezHjSrHunskXoox3qVSIgHAqHqjTf1xUzqQGrpgJWEpNqk/YQhX46bLAAhduAo3nSM0v7hYW3a9FAFI9PNKVOTOEiT676iEhEDh/XNsYvDS4+7S3urk99Sh8gUiRhIAKIy5PcVvenOvsUF9hwZ0P1J76d/qs6elGWekmQ+FDXssemJTB6vsTx+/lBCmAwFEPxrfzT5NNJi11xR5nQWxmcqCX4t2PRkzxZv1O8RLVyKljfYum0XHMNTGTFc16FMSgj1eg+s5Q0OEVCp2PavCbLZEhPklxQUeP5NnNJmbx8mAd4Y7SYLJbHG9h/RxT+PzuN8e6utGWSxFJKkzmS5rGr4CALHkFEaJxPHKeukEklAAwpAE5TQfUlfdhSf4SKtZbTFnolgwl/ea1UlPkuYG1esG3U4EYbG5zyCI50ksPqC9DPf4hKD9B6+72Zkk4cDB6w6d7pMTkwAgTuSXLBZfqa4K5iYAQL+wsGSxGACETCYAZNbWcOn0gRERABAhEPQLCz9RWtJkuJ8tL9+enXVk/kIBgwEAFQ0NOTLZE7t2Nt2iWKGIFooAYH6XNAAIYLMjBYIajdp7wz03t7q21q16RlYSE4K8vKNrEISPIHRABC2bm0WkIUyUEtla/2ZDmvUnLYW46ZJR+SwAoJRYACDxcpQSDQAoFmk3QwtePX4gyU/8+ZDRbXgzdxkmi2Xmp39FSkSFNfV8FuPV3/cCwOcLx93pdXmLtx5fl6EyQax+I8P+rDfcQADpKX6ThvFddHYHBkYbH9x/fHD/a8r8FTnrt5Qf6SlK6ixozE33o/MBIE0YPzVksLMZ3OnTnJXdX5LQhS9e+3Z7xfF4bvjQAMf5Bh7jpSvRYYy7CygUtHNK6PnLRXNmNj6Ni0qkUpk6rZOtdmd7zYkiSGxUwMlz+YnxQSiCJMYHrVl/BkFgWLPMVGj70YENRpPPcL+fuYNpDA8UfgEHAUAunUxjDOVwX2hqx7CQgMCrRsMhpWKp/agG5at84bdUWg+9bqNK8QKN3h9F/bSaVSbDCZF4O4r6q1Xv4ngbxPd82NNuHvc29f9nV/rMh3rZq96S/8mMkyQg/8VOsaktMt4QQEjnauS1Gk2P4OAvz57+cNgI60wUFD312GKs2UFsg9EIAFx6kwID4k3Rkya2/5Pepv7x8R1ruLcAYQGpBgDC0jzBwGV0moMhzXIBKTEoNZXOX36rBQvBTRcAgMDLXcyqMhpuyGqT7mV3OwDMG9b9Ti+hQ/DScG81p5CBiULYg7y5hUPSBHHzo8atyNmQ1VDSZLh3EcSuLz2Qoch3YZS706c5fjQeFaW8k/LYkvQVX+duimQHRrE9d07bg3lXMYcgiLZKiT8+Z8Dzb2z64rv9o4amKBt0v/x5KjEucHC/xqRbswXXao0WgjAYzQ1qA5tFaz6/s6uu54yPkZw8mzduZCcAiAjz02iNeYW1Ty5o8fsnPM35tnK36an7aF/M7pXm8HFHYLJm0hkjAYDNeUrd8LnFnE2jD9BrN7E4T1CpnQCAy3/Xl5nqJe1juMfGSBgMqsFgdrO/VKo+eSp36JAkm/Yd2dlzunTJl9dny6RdgxzbtZ0kEp3ZfKKkZHBkZKlSeaas9NlevZuuTkhIGBwROW/Hth8uXnimV+9QHj9SIPzl8qWne/YCgGypNEYk8ugttkK9XHPseHabhiQmtG234w0YtbtZ85NR+RyCSgBxyy3neghG644bTxoVTwMARh9KYc3EaL0sui1GxRKEEubiFqcqSoh22SfdUbrGtLks1D0BpY0uWxvMLjOzVabCHMVfelwK//0BDAn5wbMb3VQVJ/EiUOSWfZbbUAYAItqtsKUugrh4bvi5+htHai8Pl/Roatfjxmq9LJoT4mYfe8R0wRvJ81/P/PH9G7+t7L6MQ3FcdsoD6N7FzpnxNhvuqUkhX34485c/T7707lYWkzawT9xTCwdbJ1n916l1W85bu1VVKw8eywKA91+dNGRAguurLuYEgPiYgO17riQnBAMAiiDxsZKcvJqI0BbZPl5aZj53+/2NLwn4boZCbTo9QxGESZAaAAuOV1IojTrUGBaCIPdGJbi7lvZ5wFGpWI/uUW2K8F6/4ezgQYnN5Wji/fyVRsOwP363EPiHw4ZbA9ztYVGpqydNee/40dcPH+LSaR8NH2Fji9MplNWTpszaulnC4U5PTv5l0uSPThzv/9tqC0HECEW/Tp7i0Vtshe3bL1va8mXD4zFjWoZ1ti90/icAQBesBABrKipD9KdNH6b/Hhf9AaHZDGneHwBoXNvKZ3TBCmfruVhdsTrjclZ9XaW6AQA251zfnHMrturZbn1e6tUiBZOColqz+bv0s/uK8qo1GjaV2jMo5IUe/VP8bWORdRbzbxnp/xbmlDaoMBRJ9guYl9p1Qswt4XZn2a5G3JKw+hsAKHnqJWfLftBwLQvTKq4d9udr347hTRPQ26HMwns3f0UAEngRYrqQJMl8TXm+ujycJRkckNa82xvJ81/JWPVFzrpdVaei2ME4SUiNiixV8SBx15cSH3G/jz1pgrjHoiasLtr1afbajzo9ibSljvyPAAB9KUlEQVSTtIKXFqfZgjOcmP79esac2P2yw0tpqWE/LH/Uvn3x3IGL5w60b3fnqrM5AWDsiE5jR9xK7f32Ewdi+Wbck2rEVlAU8emp3994ub/10aEgiMPqaWRLtdR2q+34YNJuH4B+fWPbZLgXFUt37b4yZXJjyIGQydw/dx4ANHefA8Di7j3sx6YEBGyd6eBxv256Y61dHp2+b84868/hfP4vkybb3r1Zpaddjzj+gnGf6hrlth2X2zSkT+8Yb0qc3HOYcFzEYA4IichTyK7WVkcLRD0Db7kzO4ttDx8oKPrI7s3XpbXJfgHBgbxcuexQSeGpitJ/ps1JFN1Kb5fpdY/u3pIrl/Ho9K6SIIPFcrW2+mJ1xemKkk8Hj36Afr/tBN07w9Hkcu+KABbLt62G7Rmzw0eclmZmq0ou4zksjC6mC+dHjpsUMpCOtgirC2L4/dD9pb/Lj56RXT9Se5mCYH50/nBJz7FBfdrUxyEzwoblqctPSK/+UfzvwqgJ7fK+vPz9t8l3cDfjzRtxtnXxcd/g5cfEx22HgmEhuDkf6IMBgCCkJHnP174143hVfUO9WidX6zQGk8lsMVtwQBAaBaNRMB6LIeIy/bjsYBGvIyy9dvsA9OkTiyCuos/t+f3PU8OGJvN4nle3vkv44ccjpjamy/Tv17HlS49UFHx46YhUrw3jCvZOWIj+t9n9LvOMhSBeTLvlKjtXU/r2hYOV2oYFid1f7TbERaOb7Ci6uSb70u7xC5o3DgiNGBAaAQBrMtOv1lb3DAxxnZyaJavzY7J2T59rdbFrzeYnD/xzuqJ0Zfr5lSNvGUkvH9ufK5dNjE38YshoJoUKANVa9aK92zdlX0/yC5if2rVNK/fhrcfXZW6lgB4rM1zzZ6R5cwsr00OHTg8d6k5PLoW1MGqCa8PanT4ruy2zb3wjef4bMN+dZbiJt6Ey94vh7s0b8cXJ3Pd4uTd7enp/Bv0B9fgmRjiQz7oNMNmztZpfqPTeGBqgbvgEvNACvlOQJGSV1V4prLhWVJVfJauoV7mTikPFsDCxICHEv0t0cLeY0PgQW1VNz2i3Z5yAz0pODr55sw1FVdRqw/Iv9374/vT2WsMd4eSp3DNn2yDfDgA0GqVnj/aslG7PuxcPPdup3+y4LkqjAW12RPVcZ1vF+r6BEYcnL1525t9WG28zb/Qd3BQYw6ZSl/UccLqi9GL1rczXG7LaY2VFfkxWk9UOAEFs7tfDxo3Z+ud36eceTupM8y5o+0HDy29EZzJte8tmAACQRHHDHiZFTEEbg8LHhf/tze3uP7w03O8bmTxvZEN87tj7Hi8/JuP6J0tEjgNxfbhDg+ptg24nSapI0lxbFYeiXJ7gCzpjhIshbM4S3FIml05FEDaH+7yF5qo+4K7ifhZCH8Wb0dU7yeD2IqeibvvZG0czCmQN2raONeN4UU19UU39vvRcAAgW8YZ1iZ3WLzU60KsaPu35jBs2JLlNhjsAnDmbv2XrhZkP9W69611JRaXiixV72zqqe7dIBqMDd/wESVZqVD0CQgFAQL8nBVNRBBkb3aKefIxABAD1el1Ty7HSYgAYHhHTZLVbSfQTxwr9ChT1V2uregd7Lmx390CSOAG3fJAYQu2genVeeitVGoPD9kFBX3sz7YODlxsnlcYQ1oGJM7cPZ39I7uALgL7v8fJjojOY2mslDwIi8U6bFh7/Qx7/Q4edA4Iymr9sUnlHEBpf+DVf2PhFwOLcvdUVm3M2u/Snfecyi6vba8IqecO6Y1fWHbvSMy7sqXF9u8d6qHLRns+40aNSf11zQq9v26di9W8nYmMl3bpGtuNKbg8Gg/m9D3bodMa2Dhw7pnNHrAcACJKcum9tnU5DAszcvw5F0IlRSe/2HAEAGbLqZWf2VGvVk6OTP+kzxrP5dRbzx5ePHq7IJ0hyYmTSa92GWl3adXrNK2f3Xq6rDOXwh4XGtDpPq0hYHFZLc5xOwQAAbxaLVaSSw38GvQ0xAlGBoj5PUe+Z4a406TEE5VJbyXzHSdJEWJhYi3USJIm2t+jBhdpXq7S3atSNifiXRWlPFcImvDR66lWOHRIcahgAaMwVV6TLAchBwd8ZcHm19rS13UcTIp5XAjUqjecVT+8qlF68EQHnno+99OEaBs0rt5e2jSaKjweQcpnyo01HLuSWddD8l/LLL31bPjg1+vWZwwKFbT7/ac/sexaLPnJESltH4Tjx5tvbMq+7Ev++CzEazW+8tbWoqK6tAyUSfr++HRXgjiLIznHzz81YAgBbx8y5PHOp1WoHgC7+QYcnL54V59We4f2Lh5VG/dEpTxyevPhGfe3K62et7W+eP8CjMS7PXPrbsOl7S3JcT+IOTGrrj2at2QQALEc9rY0ak4cP6N1lN548s7nVbqUa+bc3Ttg0fpHZzlWgSSCk+kvtO6czGDSKN94seYPOxdXLdZ9E8SbqcRkAMDBhrnKjxze6X/HyBF+p9txRfVfhzQ5ELOS040p83IUIvdvf6tzWrfbxYLLj3I2Zn67rOKu9iRM3imZ8+pc1iqZNtLNs1pRJnhSmMRrNr7+59fq9Y7sbjebX3/r7WoYn/66TJna9R/VkLASxrfD6C2kD2BQan8Z4OD7t39IcALCQxNGKgqdT+zAwSgibPzO2o84TbLB6xHVmB09hq03PpdHsLzXhcKCVubE9Gc386GUaxYGKHKVJ7/AlAOSppHKjDgBO1RQOD26M8KnRN1TpVAcrc4vV9U3d9pZnHavOr9K1ocKu0phlJhrc7+8l4rbv/ptw5nG3YiLUYZymOEjEJ8ZsD4tBYzFc/dG65v7xuKs9fyMBPsP9fsfL/a1ad5/sb320OyQJX+44+f6GQ3rTbdrdafTG1//Yu3LP2TaNamfDPTLSv2tahAcD9XrTslc2/bv3WvuupyOoq2t44cX1166VejCWRqOMH9ul3Zd0e6jTaywkMfnfP5M3fJm84cs3z+9vMBkAQGHQ4yQpYTZ+XwawbtMXZ6zQDwAKlPX2lwoV8qYOFAQFACNum+5WqXHLGs5R1n5z8wSHSnv10i6dxdT8pd5iRhA4W1e8pfiqgMYEAD6N+e3NRh/82drit9P3cqi0t9P3aszGSq3y6xvHxAzOLzln2ZQ2GGe1uvPud/aeAJHn/3yuDXcKyjQTauvPUv1VCsL2+Eb3Md78/uVqVyce9xAKLwx3n8f9vofPYXhzMFgrV7fjYnzcT3y69ehfR9Nv/31/PXDhqx0n3e/f/nk8ixYMWvrCXx4MtFjwL7/en5Nbs3TJCNrdmmCUfqXko092qlQefq+MHdP53pW/DGByKAi6b+JjEVxB83Yhg4khSJ1eK2KwAKDe4Mp6YFAoAKA2tTkxwJ6RkTGfXzh5pLRIZzE3D4jPrpcWKuVCBrOrJAgAREwWANRqNVqzmd0sruZoaZE7dzlclTcntkc3v9CCBtklWfl1eVXTy+uKqhxlXUGDbPWAxqoCnUXBNOzWn+74sOR+AVFnaour9Q0UBOPRGMEsHptC49Pa8Dcg1V9wv7P3eOOwrKhVurjaxW/pscpnNObK/WWzzYS6f5DTcl13IXX16mlP/AwA3TuFf/vezI67kUTILamSeza2StqGk5y7Fq3e1KD13CfqM9wfBCQibmmNwrOxtfU+w90KWaE5VK7ZpzTmGHE5AEFFeRxqmIjROYg9xJ/RtbkEwonKhfWGa93E70TyptYbruYr18kNGSZCzcBEAay+CYJFbGqos7tI9ZertEfrDRlac4WF0FJQJosS4s/sFs2fxaVGtmnFmbLlBaoNABDDn93F/1X7DmpTcaFqY53+gt5ShyAIkxIoYfaNFTzqTlbYmkOXtpzKaLVbc+hUCp/N4DHpNCqFgqEkSVpwwmCyNOgMSq0BJ9pQSG7t0fQAAWfO0G7udG5/+zglJWTwoMQTJz0MdP5377UrV0ueXzqqV8+OFUxsK2qN4dffTuz591qbtOqbw2LR588b0Hq/uxUKij4U2/nzK8c/6TOGT2dUaJQyva6rOJiCoMNCY3++ef6zvmOVRsP2whsuRBjjRP4AcLqytFqjDuJ4deIZK/SbFJu4qyDnlWMHlg+9peP+4tG9APB01150jAIAgWxOOI9f1qBafuHUO/2HWjNHL1ZX/HzNrcBxDpWuNhsBQG02sim05i+FdJYfg+1PZx+rzh8a5CBvocmIJ0mI4okIkjxSlf9Rj/Huv0ecNNQb2vYo8ZIAL0Jl1DqjTKn1Fzh2pfsxOg0P/U1lKgQg+bQYzFf12hHeeNwr6u4Hw72iTunNcF+ozIOAxM9zw73GZ7gD4KThXPXzdfqLzRuNuNyIy+sNGQXK9WMi9jIpthpVDabCQtXGTNkKEhpNUp2lpqRhR7l6b5/ArySsfvY3OlX1lLTlXcyEVmXKU5nyihu295J8Gswe5uaar9d//Z/V/nAX/1fsO+Qr196Qf0eS/ymwkaA2FatNxUUNf3cPeDeMM87F5BnFVavciFcJFwt6xoelhAfGh/iH+PGFzlPhCZKUqrQVMmV+lex6Sc3l/PJaZStlp77ZeaprdEhKROvSYB3i2F782JAzZ/M9rn5XXa187Y0tgwclPrZwUGioA82Q2wyOEwcP3Vj963GlyquT6Ecf6Svge5VV4w1vnN9/rqasTqchgDxXU5oslKwaPAUAnju163p9dY1OgwKyvyyvV0DY5/3GOmwEgHd7jfjm2ukJ//6uMOgDWJznOvfvKg4GgI/7jH757N7uW74P4/DnJXbblO/U1uwRGNJVEnS1tnrE5jWdxIEUFJUb9HOS0x5J9iQy/uNBI8saVHsKc05WFKf6S0w4nlFXYybwKXFJj3e+VXP35V4Dlx7e88eNKwdLCqIFQqlOmyuXPZSYerK8pFZr+1mq0Co3F10tapB9dePYgrje0yI7v5O+91RNodZi6u4fFs8XN70cG5qUpah5pfPwly7uDGbxeVTGhsJ068C5sT1tprUQxE1FDU6SBWrZq52HuxktI9OnE+RtTaXy0mFZXFXvzHAHAAyhiehJ3sx/3xMaIPB4bKV3Ju9dgpeGe6Afr50W4uPuxZsw9xr57UsZumvJlv9itdojuJNDOaOYlAASSJ25Um7IrNadZFND7a12AKjQHjRa6kWMzrH8R7m0SJw01uhO5yl+x0nj+ZplI8O3syhBNkMkrL71hqsSVv9AVn8eLY6G8gy4tEZ3ulC1mSBN6XXviyN6U9HWwyZvylfmK9cCQCz/kc7+L9t3KFJtuV7/NQCImT2ieA9xqGE4aVQZc3OUvxks0su1b9NQoYTV1+HkBEl+vPmICwc5j8WY1i91Yq/kmCB39ddRBJEIOBIBp3ts6OxBAAA3S2v3XMradT5La3Qsm2HBiY83H1n/8iOt5n91iOEeHCyYMrnb39u8ksI4cTLn5KncQQMTHp7dJz4usL3W1iaMRvPefZlb/r5YW+utKytQwp8xzdaY6zhK5r1m0+JMAvK7gZPcbAQABkZ5rfuQ17oPsWkPYHL+HH4rfuDReKclSxGAP8ZNX37x9JGSwss1lXSMEsbji1ke7me4NPqWybPXXE//Jy8rvaaKiqFdJUEPJ3WeEp/c/C9/Ymwik0r9+erFrPq6S9W6SL7gnf7DFqR2nbtnq73hHsoWLOs0dFmnW4U5v+kzzYhbrP57HpXR/OVrXUYAwFe9p1h7Nh84LbIxmeHlTsMAYGXWqS96TUoVBv1VcOmStGxIUKw7b7BWf1sD3AEg0M+rY5DiqvqeyeEOLxlx5U35rzJDJgLgz+ySLHyMjgm8udd9SXy42OOxap2xQWvgse/J0g1NVHpxbsBm0nyG+4NAiFjg8djSagVJwgOeG1+tOw4AgayB3QPea2rk0+KC2ENS/J7DScexagaL1J/ZfWDQzwjSeKgupKcI6clnq5/DSUOWfFWPgI9shkTzZkVwJ9MxYVMLF6LEzF4sSlCG7Asz0VCnPx/CHu56tdnyH3MVvwFALP/Rzv4v2XfQW+qu138FADZlm/wYaaGc0QfLp5hwVabsixHh2xBHiZ37LufkVcoc3hpD0XnDuz8+uheb7rlsgJWUCElKhOTpcX1/3nd+44lrhKPYjazy2gNXcsd0T3A9VUeFki+YN/DM2fzqaqU3k5AkeeJkzomTOYmJQcOHpQwdnCQS3Y6ENpKEGzfKjxzLOnY8W91OCmvPPD2cSvVV8QQA4NMZHw0c8dFAx4XWOosDS55y8MmkYxSH7TQMeyqt11NpvVzfdEREzIgIW4H59RPdDVamYxQXL92htzhic9HVfbRsvcU8IzLNzVF1utsa4A4AMaFe1WQuKHf8+AOA87VvixgpPQJeByArtSfP1741OHilN/e6L4n3riZ5abWiU6yt0+veoszTEAgAiAsTP+AG2QNCQoTn+1udwVRRpwiTCFvver+DII7lSTDE6eY/SfhEk9VuJZA10J/ZTaa/Uqk50lX8ls1YCsqkgIN4klDOqAzZFwCgMZWAI7MOQxvnyVH8mq34BQBiBXM6+y1zuKrihq04aaSgrM7+th1omCCGNztb8bPaXKIw3BQxOtkP33TymsNphRzmN09M6hLVnlVTeCzGy9OHDOsSt+y33Q4LVmw8ce2OGe4sFu3N1yY+/+J6HG9DeL4zcnKqc3Kqf/zpSOfO4d26RqR1CU9MCKZQ2lkSR6nUZWSWXcsoO3euoE7anqdp48Z2GdA/vvV+Pu5feorDe4odu6KdYcDrG0z5HbQeZ4SI+RwmXaP3MHv4am6Fs0sGXN5J9JT1ZxE9+UD5o57d4v5GLOAIeSyFS0V8F2SX1N7rhntWSa3HY705r/BxD5Ec5dUhfF6Z9AE33P0Z3dWm4mrtiSz5qnjBAoobwSoAgCIUP4aD4/RA1iCZ/gpOGpTGHD9GmjtT0TE/BFASCAvhWIuMinIAIF/5V5Z8FQDECeZ28nvR2Ww1ujMAIKJ3drjl4NIaEyYVRgeGe5lUeb2kxn4Uj8VY88LMKEmHRGt3jw1Z8/xDC77e0mAnTppRXFUuVYa5PFPqQPGW5OSQuXP6//HnqfaakCDIa9dKrTqMdDo1MSEoMtI/MsI/MtI/NFQkFLDbpI9uNFqk0oaSUllpWX1pqSy/oLa01Kmz0BvCwkTPPuPYu+zDhwvqbq8QZBPxEeIrOU7tb9eU1ijqVVo/voOvAQEttsFUzKNFAYDKVCCgdVQZsnudhIiA89dLPBubVezgG+gewmCyFDk5s3aH+HCvzit83CsIeawAEbfOU2HH3NK64T0faFdakujJGt1pvaUmR/FrgWpjGGdsOHeCH6MVrWomRYIiDioeNonDaMyl9oY7Tppqdafq9JcaTAVGS72ZUOOkASeN1gxXZ1ofVIRdoTlgDVt3bbWTQKhMeQBQpz+/vdBpmC4AmAgHYXjnsh1Le384d3QHWe1WogP9Ppo7+rmfd9pfOpNdMluc5mJsx6ouznmk3+XLxTduemgEuMBoNGdklmVk3iqBhCAIn88UiThCIYvJoFGpGI1GoVIxDEPNZtxsspjMuNmMqzUGhVwjV+h0unZQJGwVCgV7643JDIZXJZp9PJjcZiHIJuLDAzw23AHgSk7FyN4tTvr2l80CQEjA95fNZlEDAUituSaQ1dvh8G/XHN3675VFM/stmtVv8+70zbsv6/SmLsmhLzw2LCiAbzCaf/jr5NEzuSazJS0l7PmFQ0MCBTYzaPWmM5cKz18tyiuqq6tXG00WJoMq8eclxwWOG9apU4Krc8/qOtWmXZcvXCuR1qtpNEpYkHDEgMSpY9Jo7sW5nbpYcPh0zs28KrlSR6WgAf68Hp3Dp4/tGhrUBvdefLj4gTXcc0vrCMJD2S4AiAvzedwfFJIiJR4b7pkFVe27mHsOBuY/PHTjTfmqUvU/FkJb3PB3ccPfXFpULP/RCO5kFHFsGVIQx9loVKwxM8pM2OaMVWtPXJN9orc01phHESodEzJQMQVlKYxZLlaoMhXckH9vNexdhO4AgJlQ31KScQlJ2pZzAYBrxQ7+GAYkRw5O7XBhw0Gp0YNTo0/csFWmziiunj0ozcXAjjXcURT54L1pzz6/tqpK2aE3AgCSJJVKnVJ5d5Ugef65UXGxrYv73K9ozZUyQ7rccF1jLtNZKk24Gif1ACSGMKgol0UN4lDChYwUP0Y3Hu1Oqn/ipEGmT5fqL6vNxRpTqZFQ4oSOIC0YSqcgLAYlgE0NEdAS/Rhpfow0mwi/joAgLRpz8e3PTLWS4J3bMj2n3MZw7xf4eVsnKS6X7dh/7fs/jllfnrlcWFYlX/v1gve+3nP6UqG18ezlwuIy2frvFtKot55je4/d+Oa3ozp9i7R9jdao0UoLS6W7D1+fOaH7cwuHgiOOncv76Lu9RlPjw91osmTlV2flV+85cn35m9MQBFwowSpUurdX7LqWdWvDYzJDcbmsuFy2ff+1Jx4Z8OiUVtIwmvAmDKC0Wq7Vm9hMb/OorKzKO1SkqY3mSJbEj2yXCQGg3qj+4PqOb3vMc3jVm40HhqExoe5qPvi410mOkpy4UuDZ2Mz8Kp3BzHqwHWo0TNBV/Gai8PGShu0l6p16S63aVHxV+lGBan1vyXIezTYlDABIcGIf33oytoh6qNOfP1/zIgkEHRPGCxYGsQezqaHW9FCSxHcU9bCb6Bal6p0AwKaGas0VOYrVfFpcCMfJU+i/u4dxxiSJnnH5lh1krpfWOkiqedQ9PXXvmTOsm73hXlzTSimPDq9zJBCwvvh09tIX/lIoXFVVvC9ZtHCQszqpJly1p2SIffu4iIMMirtOI5w07S4e4FAuUEhPHhq63u2VQqXm8IVaW4mlYPbwPoGeVMkx4apS9c5S9R5nIdoEqTETGp2lWgZXStT/AACHGhHGGRPNf4iOtcNX777S0U1bfCsBzN4Dgn+y76kw3ixUbarUHMRJBwpNFkJvAb0Br1casyvhMABQUW4Yd2wM/+G2Vo5wjQlXqUx5KmOuypSnNOWpTUUuVCD3l7ZBCb45Nhn3zvAm8QsATl4tfGXecLRZkiCPFtnWSW7mVV+9WTFldJfoMP9/DmYUlcnKqxSfrNx/+lLhxBGd4qMl+47dzMqvrq5TnTifP3LgLYnJyFA/q9UeGerXNSUsIlTEoFNrpQ1n0ovyimoBYMue9OS4oBEDEm3ueD236r2v91hzclLigwb3iedzGTKF9tSFgpzCmpc+2k7BMLMTiVuN1vj0mxsrqhXW+w7pGx8UwDOZ8Kz86sNncsxm/Me/TgKAm7Z7z+RwDEM9yw4iSbicXT64m4MvXQ84J8tf18/VF2G7cymrrPVOTugUE9R8C+fj/iY52vP9rQUn0nPKB6bdXbVi7ghMiiRJ9HSi6Mk63bk85Vqp/qLaVHyu5vkRYX/b+7nNTuLRTURjTiAVbSFKdrP+exIIDKEPDvmdQ41ofokAB87vlgsL7BHwvpCecrxyXoOp6HLdOxxqOJ/uIGuTivGs4fI4aeJQw1xPa0+N0vbchs2g9Ypv8zye0T0mlMdi2ES619otyYbb8ZgLDhZ89vFD/3tpg07nWL3yvmTa1B5zHnFQj8AKDeOzKME6i+0ZjcqU577hrjTedGbeqUx5OGnCEHcdbypTrn2jkJ7s5vAmzIQ2T/l7oWqTs4wTZ2jMpdmKn3OVv0fxpiWLnrH5/HuP0u4N6i211+u/rtAcaNM8ZkJdpNpSrPo7gjelk9//rAk0HqAxlyuN2SpTnsqYpzLl6S2eJ+S1O9Gh/nwOQ6XxUE9JptReySnvkdS2TFwb6urVk0Z2fumJkQDQr0fMQ0//QpJw6FT21DFpyxaPAIAhfeInP/4jQZAZ2RXNDffkuKDnFg7tlRYZ2dL5umhW/69/O7J931UA2Hkww95wX/HzQaut/OjUXk89Oqhp3zF/ep81m8+u2eKqNseKXw5ZrfaHJ/d8eu6gpk3L1DFpj0zpueStTQ0aw8/rTw3oGRsR0nrQJJdF7xQTdC2vstWeDjmTUWRvuB+vzdpXlcHAaDUG5avJE6M5Ac9fXpsiCK3QybsKI6aG9QSAlXkHK3VyPW5eGj8KRdBNpeeqdIp3M7f19IuaENLNpkMMV2Izg+sJY7iSD6/v0OJGPtWp9qvJgl/2wnDv2ynS47E+7jm6JoQy6VS90cMyFxdulPgM9yYQQCWs/hJW/2zFL9nyH7XmyirtUfuKRXpLHU4a7A16tanY+kNzfxZBmqzBMAGsPjZWOwC0+pUXyBogZvYCgL6B3x6rmGMiVOdqXhgauqG5smTT4rm0mAZTvsJ4A4C08fq3itZga5cmhooxtJ21T5yBokhiqPhiXnnzRl1rf9W3aXFxcYEfvT+dxWqfA9y7n5HDU5Y83UpCqpDhwCy25li4Sb3hmrNLBGlRugwgs0FpdGS4O1qhC2p1Zw+Xz8hV/NZWq70JgjQVqjYdLJtcrT3u2QzOMOHK5j74Ov35I+Wz2mq1N0ECUdKw/Uj5Q0qjhxWCz9f872Ltq7mK32p0p+4qqx0AUATpkxrpzQwHzzv4c2orw/s32taBYl5sZGP0zsThjZoAQj4rLEgIANV2NRZmTugeaRcygSDwzNxBVo9sbpHtLzwju6KwVAYAkaF+Tz460EZScOHMfvHRTgPeyqrkR87kAEBKfNAzcwejLQdHhfk/Prs/ABAEuXn35Vbe8394Y4OedRIfT0Mp73ee/kLCmDWFxwGgQicfG9zlg84zrEZ2hqJMZzF+mjb7xcRxP+QfiuKIX0+ZFMwSvt95utVqt+lgP4PrCTMUpYDAZ2mzRwamOlv5lexyg6kVP5wLvPyj9XFvQaNgvVNtzUH3OX6l0KGQ9gNOHH+O9QeNudzRddKhQnGN7iQAUFAmn34r5bdJDN6he6tKe8zNJbGpob0Dv0AQTGepOV+zjHAUpx7EHggAektdja7NaigWu7PNYD9+WyfxhmCRbQCPGW8lZP82Ge4AkJYW8e3Xc/z87v961DNn9Hrt1Ymtygk79GerjG2Q/6s3OC1QCgByw3X3p/La405my386U71Eb2mH3DgjrjhX878b9d85zzj3hKZNUZn63zNVSxwmmLcJnaXmVNXjbfo93yv07RzpzfCjl/OdRZW4T3PntNiPCwAogkQ3C+MR8FgAoNW7e47HoFPDggUAoNObbB7W5680eozGDElG7T66CAKjBjkt+Hr4VI7VAJg8qovDT/3A3o36OReulri51H6do9zsaU+dXF1QLrVvD2IKACCc7V+tVwIAA6OGsW5tb0q00muK0tevbfox/1Ak20GSg30HmxlcT1ipV0Sw/QEgjO00Fs7ZlsMdBFxmQqRPUubBYmCa5yFhdXL1pZueH+94j0KmeefZv+7IrXHSaMAdazfJjY1fZ0zM8acpW/GzTVhptfaE1RQJYY/CEHpTOxXlWkuiKoxZVgGZJtTmEmtBJTcRM3t19nsJAOoNV6/JPrXvEMN/xHoOcFX6idbsUFmBdNIOLLptqoP3tZbaBNNuAUxaK9kXtzUiMCY6YNX3815/Y2txiYPvlfsAFEWWLhk5eZJbaQ0Ceop9o6otut2tGO7GTDfnMeEqm4hwAGBTQ6moWzUISSDS694pU//r5u3cJE/5uxGXdwt4x2GpMw9QGXMDWQNqdCfTpe/aPEc8xkxoz9W8MDR0PYtyZ4r7dhB9O0W5zsV0TYPWsO9s9qRBTn2r7iDg34qp4LBoAMDjMinYrT8GayUHi6UN/5RcTmMpEIIgoNlUecWNf//JcY5F0OOjnBqFmTmVrseKRRxrzHqtrMFgNDPsHtMObhce4Mdn16s8PLk6eCE31k5fpUInB4AyrSyEJQIApOUmI5ItTuAFv9tpmrM57TvYzOB6wquKkivyEgCo0juur0QQ5JGLbThvtKF3SoT9jsvH/c2ALlEognjsON996oY3Pvt7FyNef6B0opjZM4DVh09LYFLEAIgRl0v1lwpVGwGAhvKD2cPsB1JRntKYfaJyfpxgPp8WS5DmGt3pXMWvAEBBWcn/len4DySYPaxUvVttKr5S9368YAGDEmDE66u1x3MUvwIQNIxvwt11n8XwZ6tM+SUN20satvNpcTH82c2vMjC/bgHvXKp9Q2+pPVIxM4I7xZ/RjYrxcEKvs1QrjTl1+nMieqfejnL2uEy6umXdklYd3u2Lyc7JxWe1Uv36dqfyBIh5330z58OPd168ZJtIe6/DZNLeemNS3z5ulbIHACE9CQCxcSprzCUEaXYolWqD2lxiwpUuOrjvCVaaHMR7uO1uJ6/UfdCq1Y4gGBMLoGF8GsonwGLCVUZcYcTrXY8qVe+koMwu/q+6t5JWUJpy9ZbaS7VvO5OOQgBlUYMYWAAFZeKk0YSr9JZaM9FKmogRl1+pe39A8I/tssi7BCGXmRQZ6I3Ex197L00YmOKxLYWiSHMb3QqN5kDPh3R0LFNRrThzuSivqLayVqlS67U6k8lkMZotZrPjf3qFqlGNKsDf8WbVT+j0qLBW1piYNef53531aaJBY3DHcEcQGNwtZvsxd/feNvx7Ouupaf1t6lrUmzRvZ2yVGdWvpky0H9JFGH5elv/q1Y0A0F8cPym0e1s7tNp/Z3n6a9c2hTCFmKN6jWczi6VKWy059/EFuD+ACHms5OjAG4XVng0/fqWwQWvgsV0ZSe8/v/7dbx995qGVT782oaZSwWTRzh3LNptwpVzz7JuTwqPFAPDOs3/Fp4RUV8hTu0UWZldxeMzyEqmfmNeg1L32+UwA+P27QzUVcoPetPD5UZGxkq/f26HXmnh8B/VEbxskEHX6C3WOFIepKK934Aoa5iBcxI/RRcTolCX/4VLt683bMYTRJ/BLpp33KsXvean+ss5SXareVare1ewW3H5BqwpVG9sUrZrm/7rGVCIzXMmsX8GjxYiZPZtfDeOMRQC9Iv3AQugKVRutO5AWMBx7AMMDhFXyFgU3NW6f4rYLKq1tOll4QCvywXcgB5/Npn/2ycydu678vPqYweBhZsndRudOYa++PD4oSOD+ECrKZVNDbI5vCNKiNhfzaa3XhpC7dLcDgN5Sq7fUMSmtHx+rHAa4OzoQsCdbsdoq2+QQKsqL5E0JYPb2Y6RRUNukNJ2lRqq/VKHZX6tzmvlXqNrEo8VG8aa7sxjXyPRXztX8z0w02LRTUU4oZ0wIZ6Qfw77uGqky5tXoTheoNhhxpwpNdfrzVdpjwWzHIoMOSfV7zoS3siW4Iv2AcKR109n/JRoqcP9eTXBpbXAv9e8S5Y3hXlqjOHmlcEh3d/exNmB2VjsAuLMNkMo1K34+dOZyocM5nfnnmh5EDJrjR6L9aWYT2rbk3LuvFTNpUKrHhrtUqTmbWTygZe5dN2Hkk3HDm17ay8U0v+qwj00Hm6utTvheZ1ef4l2nbri46homnTqku6+e14PI8J7xHhvuJrNl44ErT05zqiEBABQKqtUYAkOEudfLFfXaSQ/3HjAiBQDOHsk6c+RmePQQAKgulz/1yrjgcD8A+O7DnUPGdv5z5eGpc/v9+Nm/AJB1rUyvNb7+xazKsvpfv9w/Y8EABJA3ls/KuFi0be0Zz1buJSxKUP+gVZXaw0pjts5cbSG1JJBUlMOlRklY/aN5M2iYwOFAE6FMFC72Y6QVqNbLDZlmQsPA/AJYfRMEi9jUUPv+DMxvWOjGXOVv1drjOksNilCZWICE1S9euIiB+SmMN9pkuKMIpXfgimMVj+os1RdqXx4ass7mpqGc0QHM3kUNW2t1Z9TmEjOuxlA6E5Pw6QkSVr8QtuO0w5ggv/M5LWowVdZ7G0bbJsplSpuWuGB/10PumHjW5EndevSI+vTzPVlZHoon3CXQaJTHFg6aMb0n0nbnopCeYh93pTLmu2O422WmIgyKv8HSIgZJbrweQrH9MrbHYUaswA2Pe53+fI78Z4eXMISWJHoqmjfL3l5vgkUJjOBOjOBOlBuuZ8i+UBgdf3NnylaImT05VK9USgDAiNfb+PgRQGMEjyQJFzsPCkL49AQ+PSFW8GiW/Id8pdOQxBzF6jYZ7oGsQa32uSb72GEtmmD2UBbFVRWhdmF0n8TV/5zzZoY1uy8M6hZzOwMYlA26J19bX1evBoDQQMHYoakp8UFBAXw+l8lkUDEMfeK19Vn5Dr7mGfTGJ6HRSXKki5B9FoNq3dK98tQoOr2VJ6qQ7/TjYENyVGBsmNhhtLo7/HPi+oB7RzSjXqU9fc3zM9jhPeMfcE3uB5YJA1J+3HbGZPYwp3nzoauPjOnOZdGddQiO8D998ObAUanXLhQZDWYOj/nFG39zeYz6OnVYVGM0Gp1BtVrtVjg8Jo1O4f73SS8vlt68WvrpK5sBIDxaXFupCI30A4CQiFaMs44EkbD6SViudiwOsUa3i5k9bbzdLqBh/E5+LzqsexrLfzSW/6h9+6Qop448OiYcE7HX5e0EicLFicLFbi4PAHrFh60/dqV5S36VzIzjVKzDC7YAgM5oLqiyDT3o3ZoY5Z1UvQ0JFn739ZwdO9PXrT+jUunv4Eo8Ji0t4vmloyLCnaZbuUZIT7bfcapMeQCtC3XbBLhzqGFB7ME2lqXckBnCbt1wdyQpgwjoTrPxrFgIfXrd+w6DxVmUoD6BX7Y6QxMiRqdBIb+l173jcP+Nk4Zr0o8HBDveIXgMFWX3DlwRwOzjTmcMYXTye5FDDb8q/dhhB6UxW2nMEdBtRQbvXcIDhd0SQ70poZpTUvvP8evThnZux1W5Zu22C1arfWCv2A+WTaRSbJ+8OOHY4W3NcwUAmUJjX4oVAJQNTh9Q/iJORY0SALqmhIUFt6FCaqtMHpT65Xp3tRdsOHWtsKBCFhvaaBwMkSQPkbRZ3fW28de+y/baDu7jZTaFj3sXPocxolf83jNtkFBrjkZv3Hgg/YmpTk3Y2KTg/dsuP/fOpBtXSgGBCydyg8NEc54etmfLxfraxsNb166JsChxTGLQix80JnvcuFJyPb0EAGoqWymyczdyP+rw9IoPo1MpxmZ7P6PZcqWgsneCt75CdziTVWzzrcSm03q2ZrjfPlUZx7dHkelTe6xf+/T8uQPuLbHIhPjA5Z/N/mr5wx5b7QDg0LR1VrSoOSZCpTaVtJwq0d5H7k6YO0Ga1OZim0YuNcKaD+6CbMVPDjVk6JhocMga9612KxhC6yX5NIDZ2+HVOv1FF+E0HoAh9P5BP7pptTcRxZsRyZ3i7Gql9pC3y7rLmDrEW5v7h79PK9S3b0+efr1RJuLx2QPsrXaShBqpbaCUlbj/ck+z8x1HBxWU2GZvN9ElufG49upNhwJqnjO2XxLN7l24CUnCLzva8yPTcdSrtNuOthL454IwiSAtPqQd1+Pj3uKh4WneDF+/P71a5vixAABxycFlRXWSYCGPzxKIOKldI66cK/j63R0l+e5q+CanhQcECT5etvHjZRsP/nMltVukxUJ88vLmiyfzbLJQfNwRmDTq+J625srO8zdvz923nraNh5zQO4neWiG5u6LOHItFmz9vwJTJ3TdsOrd3X4ZWa2x9zJ0jKlI8f96AQQMdVPBqKwJ6sn1+qsrYurSC3JBhM0pAT7SPSlcas0gSRxBX3/0NpkL7ZM1W42QMuKxQtcm+HUGw3pLl9kkq7oF0D/jgSPlMh0KNeco/PDjac0aa+HURo5MHAzv7v1SpPWwmHGTR1enOp4iWer20u4ihPeK8qcQEAA1aw7ebTry3eEw7rsoF+v9KaXDZDs6+z18tUjlxnPfuGrn+n4sAsO/4jZkTu9uH9xw541SZfuTApL+2XSBIctOuy6MHJ9OdRMl7AI/NGNoj7sB5D2sFnLhSkFcmjQ/3qg7ubWDtv5ecRSi5w4QBbmXj+LhfSYkOTIqSZBd7WA1DbzR/+ufh75Y51lMKDBH+dfBlAJi/tDFC+qu1T9j0+X7TreyO596eDACvfzELAD5YOdfaOOfpFgotyz50qt3k444wd2i3f87fIJpFpu6/kvv46F7Rge1Qx90FZ7JKbEovUTFsztDWZQnvsMe9OXw+8+knh/29+dlXXhqXnNThIbxthU6njByR+u3Xc35b/Vi7WO0AQEXZ9qHbBrzeiDtWTGvCXghSQE/iUMNsYrVx0thqRSfPSi/lK9c6zJuM5E7xZ7qlhukQJiUghj/L4SWp/lJTeTYvCWD2iuBO9mwsBWWHcx2IcgCA0pTrrJDtPQqNgo3r5218xd4zWf+e9vAgu60ESwTWH85dsQ2YLiiRfrpqv7OBXVPCrbLxhaWy3zbaZoztOHDtyg2nks+RoX5jhqQAQFmV/NVPd9QrHGg4Kht0O/Zfq3Xu2HPG/PE9Pc4RIEn4asOxu/xwu6Ra7o27nUGjTBnsyQ7cx/2El07389dLPA628XEfEBUoenhQWvMWgiDfWnvA6GnuhDvUKTXvbbA9pX9kSNcwf0GrY+8Kj3tz6HTqmNGdx4zuXFwi3bc/89y5gsqqVqzYDgVBkKSk4OFDk0eOSOFwWhHX9AAhPVljLrVpVJnyA5i9XIyyr5kqoCUCgJCeZCPwJDdkuo5acVJ6yZUTCydNJQ3/2LejCDVB+JiLge4QyZueo/zNoWJjhfZgEu1JL+cHgBQ/r/zi4dzxDqSmAEgSV5tL+LT7St1ixvAumw9fJRwmybrNZ2sPx4WLb4Prd9SgpMuZpQDw7Zpj5VWKLsmhbBZNKtdcvFZy9EwulYp1Sw13aIIjCLz85Mjn3t1CkOSf286n3ygb3DuOz2MqlLpzV4uv3SxPTQguKJEanFSifnHx8OJyWXZBzeXM0hlP/dK9c3h0mD+DQTUaLXX16qIyaVGZjCQhNWGexIncpDNiw8TDesQfueShwPmVnIodxzNvZ5pBmyBJ+HjNQXsZY/eZPqyLkOduvq+P+5WxfZP+2HOxrMZzU2H5uqNJUZKo4I71sPq4a1kyof+5nLKimlt5olnltct+3b38sQmtlkPygCp5w5IfdkhVLY7u44L9nxnf153hbfa4f5r94sHa7S46mAnTB1nPFmqyXfQ5WLv902wHWcbNiYoUP/PU8L/+fPKvP5989pkRvXpGt6rY0I4I+KyRw1PeemPSP9ueX/nt3KlTuneE1Q7OwtxdRssQpEVhaBGAxaQEWvWb7MXXmwqhOcPe444A6jrJslp7zKG6eTB7KIviuAaN+zApAf4Mxz77au0JLycHABGjk5DuVSobnxaPIo7zMXTmKm9mvgsJkwgn9Pc2FMFosrzy/S5Fg65dluSCMUNSRgxIBACT2bJp9+XXP//nuXe3fPjt3gMnstgs+pdvTZ800qkJm5YS9tZz46hUDABu5FatWnvik5X7f1x38trN8oQYyeevTQ13nnjKoFO//2DWmCEpCAJmC37+SvGGnZfWbD67/p+Lh05lF5bKSBJQFLFO3laemNrXG2We7zafrJW3Ijx6p9h65GpGvucfGQaNMm+cu+oWPu5jMAx9ZsYAb2bQ6k3LvtnZYKeo7eMBgUWnfvPEJAGnhbj+6aySuSs2ZpZ4qDfqEJKEXRduPvzF+uLaFtnJAg5zxWMTWo1ut9L+prC1HgoFabeZQ4KF06b2mDa1h9mMFxXV5RfUFhTWFhTUFhVL21EGnsNhxMYExMZK4mIlsbGSyAh/D+QdPcChb9t1/VSVKQcnW6QBNNnZAobtbHKDaylossEuloZLi7aTM29BhcZxFmYQe7DLe7mLkJ4q1V+yb1cZcy2EzoW+pDuEccZ5MxwAUITKo8UojQ62ps7qSN/TLJ7ad/+5bG/cogBQJVU9/fnWH199qEP9oyiCvPe/CQN6xv579HpeUZ1GZ2QxaUFiXp9uUbMm9ODzmP51rgR6Rw1KSokP2rT78sVrJdJ6DY2GhQeLRg1KmjI6jYKhEaF+TQVW7WHQqW8tHfvwpJ57j12/eqO8Rtqg0RlpVIq/kB0V7t81JWxovwSxyGkVJxdEBfuN7J3gcaS7zmB6+6e9q16ZYZ+te2fJK5Ou3HLKmxl87nYfTQzrEdcpNuh6gec2VkWd8tWVu79dNs3jjPD7mMEhrVeXu9cJFwvWPP/QE99vkzXcCncsqK6f/9Wm/slRDw3o3C8pwhuNSKVGf/Bq3saT14prbAWF+CzGz0umR7RWd6mJ9jfcaSj9neSV7T4tAFCpWEJCUEJCo0+XJMmaGpVUppbJ1DKZWirTyGRqpVJnNJlNRovJZDGaLCaTxWzGKRSMRqPQaRQajUKjYXQ6VShk+/tzxf4cf3+e2J8jkfADAtp2hN1eCOiJCKA2ooquDfd6/TX7Saw/2G8DNOZyE65yWAUNALTmSjNhG5LrumYqCYRUf9G+HQFUwurvYqD7iOy2H023VhpzvImhh3baXTAwxyeqFqLDncq3H4mIO31Yl40Hr7Te1SVFlfVPfbb1x9ceErk0tp5fNOz5RbbVtt95fvw7z9tqpH773kyHM4wYkGj1u9sTFMA/ve0lF3cPCRQsW+y4Tse7L4x/94VWdFpjIvyXLmiDnL+bLJ7S99DFXI8Dlq7lVX725+G3HxvdvqvyhnqVdtk3/xi8yEn1udt92PDcrMGLP3YgmeA+6dnl//tqx4rnJ7souObDBWdlN9aVHsBJAieJVxIfieeGAcBfJQdOSq9hCMalMN9KWXC+/uY1Rf6rSY8CgMaiW3Txs3V93qGhlOyG0tVFuw24kU1h/i9+ZjDzDujcRwf6bXj5kdf+2Hul8FZ9IZKE0zeLT98sZjNoXWNC0qKCYoP9IyUiiYDjOopGpTVUKxoKq+vzKqXpBZVZ5bUOn+FREtE3T0xy32oHzwx31OuUVgTawZmNIEhQkKBNxUo7iFLtZTE9hkXxRMKZgrI4tAibtEu1qZAEAnHye6432mWm0hrNFBYlkI6JbGp8yo2ZgayBDqdyEuDuynBXGrMcxsmwqaE01PH2oK0wncfbqM1F3iW/BnofzAMAVNSx6xQn78+T1gUTe+88eV3n9QFXcVX94o83L39uUnSIL5a0DYQHCh8d3f2vfZc9nmH3qZuRQaK5d4elazRZXvp2p5cBPHPG9vC52300p0tc8JDuscfTC7yZ5FJW2XMrtn394lQO02lVprsflcZwKatsRK/WKzm2L5vKDv8vfmYcN8yImzC00Tk9PrjfnMhRCCC/Fe05XHt5XFCf34r2GHATA6Mdr7vW378TDaWYCMv3+X9/0eUZDoV5UnptVf72jzvbqve4Zu6XDhLPXIAgCIaiGIrQKBiNSmHSqEwalUWnshm0gSlRORV1OruMJq3BZLXgm1rYdBqXRecwaBQMo2AoCaQFJ0xmXK03qvVGN3Nb33t0ZJusdnBmuEuNNQdq/i7UZGksaj5V2Mdv2AjJlKarRsLwZ8k3WQ1XaSi9v//I0YEzmgzxN68/psd1JJCPR7+SwrtlYJFAHqjZdkZ20EQYk3ld/ekt5AKvKM4cqt0hM9YKaX59/IYPEY9HkbtI7qZVMhU7BwQ8wQIPa68I6ck2hjtOmjSmUi4tymF/h5IyzWer0Z1uflVuuO7McHcoKeNaC1LhKEQEADjUCBej2gQV5Tq7pHOkHO8+rvck7kNxInLvMKf2PkDIZS6Y0PuHv0+33rU1ymsVCz/Y8MbCkaP73GPFqkiylUorHcoTU/sdv1JQXqv0eIbvt5wiSZg3/g7b7hq98cWv/7lZ5NUHOTJItGCi45oPPh5kXp477EpOhZeh6hn5VQvf3/DJkglxYXe7lKo91/Iqtx/LPHopLyJIdPsN90khAz7O+mu4pPv44L4irDGK4ZI8+3DtZRZGr9bX9/VPZWL07sKEM7LM4ZIeR2rTF8dMBIASbXWFTrrsWmOwhh+tzREQ10u8eqR4htZo0hodyOu1iflfbQ7zF/RJDO+bGNErPsydHaNjw52BMvhU0dzI53gUQZE2d3P5zyHMyCRemvXqKen+icGPjg2cWaLL21r+m4gW0EvUGH7wcaffTITx1cz5NhNekp88UrtzRtiiKFZCjjpzT/UGIbXxHCRHnbGl/NeZYY+HsWLqjFWby34mSLz5PqGjWVu0cF707wXq00dqvnwybnuh+mytIbefeNHx2u/96TF5Dcf0uCqeN6Sn3yMl2ovnpH8QJC6ihw2TvEDHOEpT5Wnp6nLd1f1Vn1AQWhJ/dKpgXI0++7R0tZnQ01HO8KD/8amtSFsK6Mll6n9tGlWmPIeGu9ZcabC0qIJOx4RMSkDTS0eGu9Mwd3uxSBSh8OmuxC6dycxzaO1muNOcG+5Gi21x4DbRfruLB65wxrxxPY+nF2QVt8PDUW80v/3T3is5Fc/OHOii2Phdgs5gPn4lf/+5nL6dIh8e5VWYljfQaZQ3Fo585vOt3sg7rtx6SqXRL501qP3W1TYUDbqlK7bllUlb7+ocBIE3Fo70BSLff+yt3n1GduL5+JcD6BIX3RrMqj9Lflsa50DfQizgvL5gxOur9ni5ktIaxcL3N7zw8JAZw7t4OdXtobq+4fCF3N2nb5ZU3cmCrCMkPXqLkg/UXHzuyrdvJM9N5kVW6KR/Fu/7tddrLIy+rvSgmbAAwKjAnpvLj6byY1RmTTIvEgBIICUM0c89Xr6Di7+DlMuU5aeVW09noiiSGhG49sXZrvs7Nty5VMHE4EesP/vTA09K91Xoi5sM93hup/7+IwEggBFcqMk+LTvQZLiDk0CaM7KDXYX9eouGWkflqjNkxsZyCQdrtg0Uj+4m7A8AYnpgP/8RZ2SHbqfhzqNKNBZptf6mPz1aYaqQGQsDGI371NyGo5NDP6agdIK06HDl0ZpvZkesZFFEV+XbTkt/GR74ooAWMiHkvfXFT44JfkNICwMAnDQdq/1uWthyOsbJV584XrNyctgnrhfg0A2sMuWHgoOYVLl9nExLXRp7f7nCeMNZ4I29x51Hi8WcSKZY0ZhLHLYXKNcVKNe5GNguWEivynCyW9tE+XAGiiLvPTFmzjvrTO0kbbvjeObx9PwlDw2cODD1DnqynaE3ms/fKDl8Me/k1UJreaBeybejArYLuieGTR7U6Z8TrZdDdsFf+y5X1KneXDSSx+4QmSwXZORXvfPzXhdVKt1k6pDOvlKp9yXjgiZW6r0tPzy8Z/y4fsl7z3qry26y4F/8deTI5bwXHxly17re61XaI5fyDp7PvV5Y1dYtfaFCPnzDrZTTkVGxq8d5WN7k1nqMKj86f0bYEIVJnaUqSeZFaix6DoXJwugmwnJedrO7KAEA0oRxX+dt+bf67EhJ4wFgJDtIa9FfVxZ2EsSQQCpNGiHNqf/uPoYgyMzi1hOsHRvuRsJwvO7fmw3pCpOMIAkDoUsmujZdlTBuPTSDmRGZKgcCIDbUGautprmVQEZYk+FepS8v1uYdrv2neX+cxDGX9T7bkQBGnMxQJDMWJvCG1eizpcaiZH6jxRzD7U9B6QCAIpQafZaEEc+iiAAgkT9iQ7FjQXGZsURhqvi7bJn1JZsianUBjvNTnTi2XWSmWhEybLUOzYRWbSrm0WJs2k2ESm8XedJqzVS9xamwxm3AyyByOuZhOJMPAIgMEj0zvf83m9pBlNOKQq3/aM3BbccyFk3sPbBrjDeih+2FTKk9nVF04krhpayy9tqitCPPzR507nqJl9Hhx9LzbxRVv/v4mF4pt2krguPEb7vOr9l9wcuCAAAgFnCenek48M/HfcaOyq0yo9SIG6eGPhTCDAWAtSVrDISejbWizvTy3GFXcyuq673dIgJAenb53HfWTRyU+sSUvmKhJ6pQ7Q5JQm5Z3dmM4jOZRTcLawhPz+ACOdyvRoxVGPSZdbU781zpd7vPN3lbqw31FATzo/Fmhg8DgAReWBQn6Jn0r9gURjdho0sUAWRoQLcdFSd/6/WatYWOUt9LXfRjwT863ECS5LTQwWOCfLFwTnFsuG8o/aHGWDEr7IkwZjQVpa3Ifa35VZJsYWK6mWnavFuTWCQJpIkwjA2a2Us0pHnn22a1A0AAI15mLEYADWQm3VDu1VrquVTJf+u8dY7f3GNtlbx0AsmjSh6N+tn9BWAIg0uLajAVNm90JizjIMCd1sJwZ2B+TEqAjXktN1y3N9xVDmumtma4G3Cvjrm9xOZvr61Q2yl99l5Bqz9osuQJuc+214SzR3c7cbXwam5Fe00IANnFtS9/tytEzJ81suvEgalspqsDn45AZzBdyam4mFV2KaussOKuFvTkMOlfLJ20+JPNXm4qpArN0hV/j+6T9OS0fiHijv1QnMksXrX1dEF5Ozw3MAz98Klx93TWoA83KdTkG3DD4uhn6gy1f1dseib2+QJNPgA8Eb0kV519sGafi7FsJu2Dp8Y98/lWs3citlYIktx54vqe0zeHdo+dOaLrnTrtKa9VZuZXpeeUn7teUq9yUJ65rbCp1GkJyQBwoqykvQz3Dzs9btOCAPJ60lz7ngujxi2MaiHNHM8N+7qrV7URHxwcG+7Z6msTgx6JZicCgIU015taWIG1xltCOZX6EnHLTFOHiOmBlfpb9UFrDI1f/AggwcyIGkOFgNq6Z7qDCGDEXZX/Hczq5EePlJtKGZjjrIggZvLx2pVai5xNEeWqjoSzuzddomMsnUVhDZXxo0cacW2lLjOE1RmA1FmU7qjNCOnJNoa73lJjJtQ2aZpmQttgsk2Zty/hJKSn6i1Hm7fIjZmRMMWmm0OnvmvDnSAtFsKrYJU7C4o8WCJfbOYoNoxqxwlRBPn46fELP9jQ7jV9KqWqrzYcX7nlVK/UiCHdYwelxQi4zNaHeQRJQlmt4mZh9fXC6puF1fkVMhz3akN4O0mKkryxcMR7v+z3ch6ShP3nsg9fzJ0ypNOcMT2C29t8J0lIzyn7Zce5a3mVrfd2j/89PKRbYmh7zebjbqbGUF2gyVtd9AMABDKCAUBmlEoYgQDgOgLeSpe44HceH/3Oz3u9yQlpDo4Thy/mHb6YFxPqP7R77KCuMYmRrS/DGxq0hvxyaW5JXUZ+VUZ+pbzjC9j5uFdwbLj70QJy1ZmdBb2NhH5f9VaipVZGvvrmadnBeG5qiTbvquLcQ2EtqtzjYAEAmyH9/EZsq/g9hpMUyY4r1GTnaW7wKALrpTGBD/1e8uVBemhnQS8SiGp9OUESPUS37zCURw1UmCq6+81GACVJUsyw9UxbYWC84YEv7q54iwCcTw0aFvi/pkvdRDOP1HxFx7hdBJMS+SMnhL5/svYHE6EHINJE01P4Y1pdg4CeXKrebdOoMubbSB/KDZk2ETV0TMSm2n6TiRipVdqWhrvBQVys0k4LEkVoPFqci3USLQs/3XPcx4Z7lWwek97fYLpkwWtDxBtRhKPU/K7WbWHSB/jz37T2kau/0xlOARBUSoRE+BUAqLTr1LqdADiT3teP51ZikL+A/c2LUx//eJNW7202vT0mC376WtHpa0UoiiREBKREByZHBaZEB0YEiTwOpDFZ8Nr6hippQ2GlrKiy3vqfztD+i79tjOuXnFtS572yPgBYcOLvIxnbjmZ0SwybOCBlaI847xWsq+sb9p7J2nPqZqXUVbmrtjJhQMrMEWntOKGPu5lARlA4K2J+5C0Prh/dL1+TCwAyk1unN6P7JNbWq1du9arIlz2FFbLCCtmvO88HiLg9EsOSoiRJUZL48AAGzfOqOGYLXlOvrpY1VMtUZbXKgnJpQblMqtS047J93E84/lN7OPzpreW/fpT1HIfCGxowkUcVNL/6SMQzVxXndletp6K0YZKJPf/LTN1bvfm49F8zYQKANcVfYggmYYS+nPA5APT2G1pvqttVtc5MmFL5PaaFzD9cu9M6KpXf/bGolw/Wbj9UtwMDSgAjaHiAtxkSbeWJuG3WH6aHr2hqHCKxPbUJZ3cLZ/9gPzya0zea07fppYQR/1DEN21agMP6qQ2mAjvD3TZORsRwUMJdRLdtVJuKLITWRsTQ3uPOp8WjLkveEmS7lar10e6gCD3I79emlwLOQgzlGc23Km6qtVsD/X6kU1MBCAAwW0rUuh2h4r8BkErpTIPpGoOW5s6NYkL9P3t24gtf7eg4RzVBkNnFtdnFtQAZAECjYAEirsSPG+jHlYi4HCadTqPQaRQGjUqjYBacMFtwM46bzbhGb2zQGFQag0qrr1fpqmUN8gZte3nd7h6enz24oEJ2KausXWYjSUjPLk/PLv/490Mp0YHdE8O6J4XGhwe4mcBKklCnUN8orL6cXZ6eU94RuhbJUYGvLXBcGOs+YM3ei/+cubHq+WlhAQL7lw8IDWbV3urdJdqinZXbU3ip/fwHZjXc+LlwJQCk8rv09x8Yx0k4Izv1S9Eqf5rYTcHoeeN7Vtc3bDtq+73ZLtTJ1XvPZlmzYFEUkYi4jf/5cYVcFp1KsT6jmj+gLBbCZLZo9CaVRq/SGKz/K1Vq6pVaj0PVbwMV6oaVl8+fLC+V6rR8Or1PSNjSHn0SRI3CgBaC6PX7Tyqj4dyCJwNYLWwMnCT7/PGzTKc9M29xMPdWLIPGZPrp6sV9hfnlDSoGhZImCXqqa89+oV6l3Ox+Z6E3w+8tHFtp4ayYZQmfOrz0etJXANCZ38v+0rigWeOCZjkchQAyPmj2+KBbGjc9mwnRJPO6JvO6Ohr3oMCnxyMIZqMC3mAusulmH+Dux3AgViVkpNjMRgIhN94MYN76VyNIs9pufiGjNZlz515PAT2JgXV4qTP71FsfTTDorWTzBPmtUWh+MFvKhdyn2IwRJku+2VJcKW38zBJkGxw8vVMiXl8w4qPfDnq+3LZgsuAVdcqKOuXtud3dD4oiny2Z8ORnW9sldrwJswW/lld5La/yt10AAFw2IyxAECYR8NgMBp3KpFOZdCpBEHqj2fpfvUpbVqOslKo6NJE30I+7/LlJ97H+46JxvfIrZc5ePiDwqPzZ4XNmw5ymlonBU236LIi0DaFulZfnDJMpNSeuFLbe1QsIgqyWNXivmHQXcrW2et6ubWqTsYsksEdgcI1Ws68g72BRwQ9jJo6IjAEACopOjk/6PfPKrrycx9O6Nx97prxUqtP2Dw1vbrXX6bSzd2wpUsoj+YLhkdH1ev3ZirJTZSUfDxn5SIoDR6SbhIkFAAB4Ja5cAoADKsGEvzrsSei3kLq/gVRi/gddN7YBQokrFmN+Wz0Z23Y8P9zx0Y5gCJ1HjbZJSFWbbAxrUmG8aTPQj5HmaDYGjxZrk3uqMNxobrirzcUEaftd22pmKoY49cDFCeaFcVoPClIrtNoGfWDEHahmfN/Tapo4lRIpEX6NE8rS2sHRQRk0ShwFCwkRbwTASNKMtDEjfNLAVK3e9M3G43exq+h+hstmrHx5+uKPN3lTlck1aq0hq7imXcT7PUbEY616ZcZdIujhGf+ezz5wKZdOxfqnRk3un/ru7/tNFlyu1r3+yPCooDuW3PWAgKLIJ89MeOOHf09c8aqi6oOJwWJ5Zv9ujcn4w5iJ42IaNWGu1VY/unPr8wf3Hn5kQRCHCwDTE5N/z7yyIy/LxnDfkZcFANMTWwQUvHr0QJFSvqR772W9+1sDIK9Lax/avumdk0cGhEWE87xKtiEMBxFqF5T3vos+KHMmSetNKBa32tgGUMFts9oBHGl7+7gj2EfLNLQ03DXmCjPRIiMQRajO1BtF9E42LQrjjeYvVUYHqjVuGO40Z7WHLERjnntdhfz0rnRFnQoASJLMulh4YvslWZUCABrkmp2/HDm04cyFA5kkSTbvKatS1FXIz+65UpF/J62E+wYSLDXypQrNao1+b438GZOlEICokE6vkD5UXf+YgL0AAKiUSD5nboV0VqV0ZqXsEbLtCQwPj+r27uIxGOZ7jNwZRDzWD68+FCa5b0VOhTzWyldm3NNvUKnR/30845tnJy9/auKUAakIAh8sGvPZE+MfHtb16FXH0mE+2hcqBftsyYR7rlTz3cCegtxqjXpcbHyT1Q4AaZKgx9N6aM2mP69ftbakiiWJfv43pXX58lsVEvUW88GiAjaVOjbmVuJcvrz+WGlxlED44n9WOwB0EkseSky1EMTW7BZWStsg6nDFE6TuT8J4FJfPIrSNyn6k8QRePwWXTcSVzwPRhiMR+4G4bBQAkIYDlroeACRpOESovwQAUr8Tlz9skTYqnpN4KS6fRahexesn47KJpCXvvwkP4/KH8fqHLDWxuOIJID3Ps7qrv3FJvMogHaWv6YTrtnTQLSzatfrqKH11lFn9ZQfdwk0EdmEqRrze3OzvTGm0rSghoCc6K5ZkH/sub2m4q022R4cYwuDaSUbagTAwxy4iIy4HgNoy2Zr3/uYI2F89+4e2QW82Wcpyqpgc+ofzfgAAo96ka9DTGFQmm15bVt+859XjWd+9sJbFZX734l869T0sXHOnCPZfS6Pe+mZCgBIo+j48YH9k4JlA0Q80SgwAGhawK1S8NVS8TcRrTK3msWaGiv8OEW8JFW9FEE9UXMb1S17x/GRvErN8eINExP3ljZlRwX53eiHtj1jI+eWNWbGh9/bpXKVUFR3s12SjaPTGt9fsX77p2L4LOUZTO4gV+nAHDEM/eHLc3HE97/RC7jHOVZYDwOBw2yLuQyOiAOB0+a0cG6tbfUczWckDRQVas3lcbAKTcivf/UxFGQD0CQ7DWobdJvr5A8ANaa3na0UDMOEvCGsOypyKiTaj7CcBAIh6vOFtTLga89+NUNMI9WfuzuZwIBYCeA1pvoJQEkhLMWnJRqipAIAwJ2OC75qPJk3pCPMhzG8nwppNaFdbG/GGDzDBSsxvK0IfgLIXgctKl628V49H3gZw/U7Skg+kxqz95U6vpcMR2qk6Qkunu5txMv9dsjXcDRZpc3H3BnOxTQcBPcFhdVUbmBTH6p86Sw0AnN+foVXpz+xOb5BrCjPLqFQKRsXyrpZoG/QETohDRCGxksjk0M4DEi4caNETAAZP65k2OCmxR7S0UtHqMny0lY2f7Zyf8EJVYRuejFVFbnXu3zlq5Sszbn8lTh9W/Pjs1W/Ous+KiUYGi359c3ZE4D3sa7cS5M8rrpY3hZOdyiwOEwtenj20V1LYHV3XAweCwNKZA19fMIJ6/yZLtDu1Wg0AWONhmmNtqdLccixOiU/CEGRnXnZT4OSO3CwAmNEyTqZaowaAjVmZkau+bP7fmycOA4DK2M6ydaT5GkLtBKgYAFDmZMLkbvVAhwMRSgppySHNOQhjIpivkZYcq+HuAEyC0HoAAEJJAPw/u4s0AVj3MFRwVQuode5yPxny3/+14ZNGmNItmu8w1kyMMb5jVtUhWBVdbOLO1aaiJutcYedxFznKTLXCoUbQUL6JaCHHpjDeZFICmma2GeJQ2cYeNjXEfgsBAGpTMQAw2YzB03uOmN3P2nhw/Rm9xjDn1Uk3zuZZv7oQBCUJwr7noQ0yGqNxX076gqY7gIdfm1x0vQ0iJPIa5T/f73/m6/nudO4cG7zug7nv/Ly3HUW7fbgPj81Y+cqMD389cOB8Tuu973p6Jod/vnTi/VFoScRlTeqf8vz3O5h0Ws/EsP6pkVuPZ9TIG2hUCo/FAAB5g+63vRdultT8uPNs35SI/qlRzV9O7OfWY9mHm0wd0jkuTPzaqj117V2J4r7G9hvZ/htazGIPCo88Vlp8qaqiV3BovV53pqIsjMfvFdxCrtoqnpMiDkj0E9vfJoIvaL81W2nu12+TXeFgIEJNJS25gKAILY3UbQa8DjDH7hIEYdsPR7nLcPkMwCIRVIzQ+rRlMbbc1YY7xpxs0W8HQkrh/q/13v+BGw7gxpOod7+X2w+K0Hi0WKWxxfduM487qTLafiU7lJRpQshIrdWdad6iNGYHs4cCAEFatBZbA8tZuLwNfHpihcZB2nWDKY8EYsj0niue+T03vdioNy39cm5QlHjjij3SKoVB1xjOldAtcvU7W7MvFj766sTmPd25tY/2giTJlc/93iDXmg2mxZ8/GhIbCACrXvhDKVUbdcaHX5tCZ1LXf/JPyc3y5Y/91Hdi9wFTWj9iDvTj/vTazN92nf9t13nvK9v7aCs0CvbhU+MSIyUrt566h+pJ2TNnbI8lMwbcT4kTUwakThlwyzO35tUW2msiHuvl2UNfnj20qcXmpY/2JTUm6K/353z024FT12y9Vz5sCOZwAaBaYys4VqNRA0Awp0W1yhmJqcdKi//Jy+4VHPpvQZ6FIKYnJNukxAVxOACQJgn6ePDtUHdFqN2g4QMg6gANIPS7UNoArwZSU0nd7wi1J0KJIyyFgArathpLAcp+CmFOa9soR9zVhjuCBTHEbZbmIUynO2IxtwEBPdnGcFf/F9CiNpeaiRZVjlmUYNfyiyJGZzvDvVFnRmsut5GeBAAhwy3XjrMEVjOhVRpzhIzkN9Y8adSbaHQqgiKd+sUnbnyOQsUQtPHzG9M5/KMtzwMAhUZp3nPkI42JHYvene7OMnx4w7nd6VwRZ+n3i2pKpD++uPb97ctIkrx2PGv5wbcEAY3P4hn/G39kw+lnv13g/rQoiiye0rdXSsTbP/1bU+9zaN0BHh3TPTlK8s7P+9q9tO1tgM9hvLVo9OBurWba+PDhFUIu88sXpuw8cf3rjSfu6VpsHc3AsIgt2TeOlhTNTGoRE3K0pAgA+oW2CPcaGRXDpzP2FuZ9MGj43sI8BGBaoq1R0T8sAgDOVpRZCIKCdvzmHBWg/I9xxZMAFsDCMd5HAIArnwW8lsSrcMUChNoN5TznsNF+IIKFkpYilP0kAAZAIJTG8GZctQzwSiDkuHwBQk1FWA85XgxpJjSrQPs7kHqEvQBlzXHczQ3uasPdA0iinjDfq4fFQnpSScsWrbnc+oPSmG3T2bW7HRwJyyhNjZNozKU2lygom0uNcGeRInpnFKERjhKia3SnrWY9nXkr64JKt/0bozRLZGze08dtoyKvOjwpBAACI8W1pVIAQBDkhR8e/+rJX7hC9tNfzuMI2a3N4ZQuccEbP5q/Ztf5zYeumiy+9LvbTdeE0A0fzfti7ZF7K2xmUNeY1xeM8ON7/ofnw0ebmDy4U7/OUV+uP3b08n0o70NvD8GAsTHxUYKzB4ry9+TnTohLsDZm1Nb8lnGFSaHO69Si/A4NwybEJay/kbG/KP9SVUXP4FB7bccEkf/IqNhDxQXvnTr6Vv8hDErjIs04frysuHdwGI/uVYAcyrZV+kdo/TG//s1bMMFK+4H2jfYDAYAScKmxv2jdrbF8W2mTJjF4hNYDE60FANJwEEgdJj4CAEDqLdLhPsP9FoThqJdR/3cQ+yhznaWGBAIB1L7KqYvMVCsiRicApPlvw2CRGnEFHRNqzLaxzgJ6ojOdRxsoKFPM7Gnjy7dSrt6bJHzCnUl8uIfjfxHvcwDCk0KyL+QDQE2JVBLRGGuY0i/+gx0v7f758L41xx5aNoFKwwxag2fzs5m0pbMGTR/W5fstp45csv3T9dHRcFn0D58aN6pP4oq/jlbX3+1FYcRCzguzB4/snXCnF+LjgUMs5Hz27MTz10u+23yyoOI+KXoVHy6eMTxtTF8HchfN+bcgT2U0qE3GLJkUAAoU9SsvX+DSaVwavaskKEogBAAKiv44ZtKjO7c+e3DP6muXIwXCOq3mYlUFgiDfjBwXyuXZzPlQYsr6GxlfXjiDk+QMO3e7leXDRs/brV53I2N/UX6yfwCXRqvRaPLk9WqT8fS8xV4a7nctJKlukpEhLdmId9UqXRvuOK7fjRsOEOYskpACaQKEiWBBKCUOpffGGGMQNMDpQONpwnCEMGeQeBlJqAGhI6gfSk3EGKMx5mQX9zWpXsN1m20aMeYEmuB7p6s0HiWM5wlLNmnOIonGattm9Rdm9Re275bzFJX7qpNpMAAgLLm4dj1uOk3itQAEgkpQWg8Key5KbcW93S7waHE2zmyCNBssUiZFojLZG+6tLImKcri0SGvOaBMNpnwxs5e94d6qgntzQtgjHBruGnNpje50IMvdMDIfrqEgLAvo7NstpING1yhqVRs/+yfvcuEf727pMarLyLkDLx/M/PiR70wG8+LPHwEAlUy9/LEfmRymXqN/8os5ABCRHCqrUnw4+9tRcwf1Hu9JYeNgMf/TJRMyC6q+23Qys6DKgxnuHtLiQ7on3mMyIAPTonsmh/+x58KG/ekGUwdWNvUYBo0ye1S3BRN6sxjU1nv78NEx9OkU2Ss1Yu+ZrF93nq+SqlofcFdCo1KGdo+dMTytS1ywO/2fO7gHb+YDKlYqVlxoDDN+te/Ap7s1lmtM9PPfO2vuyssXjpQW3ZTV8emMMTFxT3frlSqW2M+ZJgmKEYoKFXImhTo+Nt6+AwAIGIy/pz28/mbGrryc9OoqM4GLWeweQcGjo+MkrPv2wA1ljMeNx/D6hwBBAWgo39Y6bRNODWgSLzXJnyAsLe1FUkNa8nFLPm7Ya1Z9yJCcR1Bb/WDCeMqkeoXEW5bRIXUkrsPxctxwCNWspvmtdWb0t1r90R6L5kfCdLmto2zvi3IsunVm1fsAt77hSLwU15fi+u1U7jIKZ4mXt2gVFKHwabE26jE6SxWTImkwtaj6RkFZPHoctIaI3tnGcFeZCsTMXpr/InCacFNSxkoYd8z1+i/NhG3CCgBkyX+QsPq5Iyvpo1VoGN+AO3ACmXBlW6cSSvjPfD2/uUSMTfA635/70c5XmrdQ6dTP9r7e1hvZ0zk2+Ne3Zt8orN586OrRy/nmeyp4hsWgje2XNGNYl5h7U02cQaM8Na3/jGFpv+48t+fUzbsncolGpUwZnLpwYm9fbIyPuwEUQSYMSBnXL/nA+Zy1ey8V3jvedxRFeiaFj+6bOLR7HLstoaeFz7zoZk8Jm/Ph4OEfwnB3Oh95ZGGrfWgYtrBzt4Wdu7m5gPsBhOEwRMcznBjupNkoX0RaigAAwYIx+lAEkwDQSEJGWLIJUzqQBozez95qBwCEEk7iUgAAhIXReiDUJAQVkYScMGcRxlMAQFhyTYoX6H4bHN6Zyv+UynuTJBQkoSCMp83q5a2+Byr3NZJs3CXjhgPWak0YczrGHGfTE8WchnETxnO48TgAgVI7ofT+CCokcRluOEDiZQCkWb0CoaZi9MGtLsZLBPRkG8Nda67i0qKbS7ADgIie6o5xLGJ0KlXvbN7SYMwHAK0Dj3sbDHcMYUTwphQo19lfUhqzC5UbYgWeB2/5aIKK2h5EWlEac8TMe6ySSGpMUGpM0P8adNuPZW4/liFTalsfc+eg0ygDukSP6BU/oEt0u4SK3ln8BezX5o94fHLfjQfSdxy/rtG3s1hymxDyWNOHdn5oRFch15OCXz58dBwoioztlzS2X9KVnIptxzKOpxfctY4GGgXrmhg6MC1mRK94EY91p5fj47bi+DsJN560Wu0YfTBN9KttN9KIG485dZljEVTuCwglBqMPA6RFuBJhPGOUzwfACdM5wpyDUp2UIEY4CMZBsDCScKsQD0rrfmtplkLr5wy1LsBtcONRAApN8BXGnNzUSOW9YlI8ixsOAIBF8+NtMNyF9GSbwkg6S1WDscCmmwsF95bdbMswNZgLCdJssw2gojw2NRTaQoJgYUnDDgvhwPy6If9WQE/2Zz5Im+mOgUUJrHfULtVfjBPckwKaIh7r8cl9Fk7odTWv4sSVwpNXCu+qCOxAP27v1Mg+qRH9Okcx6fdb8Ia/gL101qDFU/sdPJ/zz4nrNwqrb+fdMQztnRIxcWDK4G6xlPtI6tHHfUm3xNBuiaENWsPhi3kHzudk5FUSd0d1kSA/Xu/UiP5donulhN9/zygbqvXy7/J23Wwo0VoM/nT+yu7PiOm22a72LLrwdYGmCgDYFMa+wR96Nvm28jOby06s6/sKDW1h/bqe3M1bu8knWZvT5fnbBrxlf8mx4U7ijaojGGOsgz4IHWOMcXE/CudZh+0ovT+FNcOi2wwAhPmyU8P9DkHlvtDcagcAAAqV/xFuOAyAW88ZAOnY8pD2seZacyUVta1b1mpmqhUeLYaCspub12pTsc5STUILmWeHRVtdQ8dE8YIFWfJV9pcI0nK25rm+gd+ImT3aOq0zZIYrfoy0By0Cx4/ZtVyzz769VndWYy7jUMNv/5LaBQxDeySF90gKX/bo0Pxy6YkrhWczi3NL626/cwtBIDRAmBoTmBoT1DM5PDJIdJsXcPth0CiTBqVOGpRaJVUduph74kphVnFNx+nusxi0Hklhg7vFDu4W46ut6+PegsdmTBvaedrQzgq1/lxm8ZnM4svZ5YqGNqcYeQOKIjEh/l3ig7vEhXSNDwkQ2RoD9zGfZW8p00mXxE3kUVhSo8odqx0AfujxrMqs/blg77l6Wy0+9ycngUQQBCdxGwPY9eRu3tp7HBvuCNaY3IAbD2GsmW7qjbgDQu0MsBkASEfBu3cShEFhL3DQjPqj1ETCfBPAQuJVCCW6Q1fBo8ViCA1vlp+qs1QhiI3BiogYtlKPDkEAFdJTpPqLTS1mQlNvyLDp1qbM1CbiBQuqtEftdSoBwEJoT1c/lSxaEs+fhyCe15fWWarL1HtK1bu05orJ0Rcw5MHSjvRnOD61IIG4In1/YPDq+2AnExcmjgsTPz65j9mCF5TLsoprsoprsotri6rqO8Ka5LEZkUGiyGBRZJAoLkycHCXhPqjWZLCYP398r/njezVoDZeyyq7lVV4vqM4vl3q/ffIXsFOiA1Oig9LiQzrFBHlQSmljyRkqis0Id1VET2XWvZi+9rc+T3mxUlecX9OGqn+3gZ9em3mnl9CCdx8f8+7jrvx39xNCLnNc/+Rx/ZMBoKRKfi2/Mru4Nqe0trCi3mRuz7RvBAE/PjsiSBQXJo4N848N9Y8J8b8PovU8gCCJTGXxnMhhowO7t967GQyMysAEXKqrSLxWJ58RNmBGmAOZDdeTu3PrdsHxHwRK728NTMcNR4z1s6icpSh9QLuY7wgq/O/HOxlnaQ9K7QaI4zQpBG3MSyNJdbvtYJyAIBiPFq8w3mhq0ZhLbZIRebQYex+8M0SMTs0NdwCo0Byw6SNwr/SSDShC6Sn55FjFHIcBMySJ36z/rqxhV7xwYShnNIa4q/FkIXT1hqt1+gtS/SWlMffeFff0Hh4tmkUJ0lkchDTI9Fcu1rzSPeADCnqfRDdSKVhSlCQpSjIdugCA2YLXytW19epaubqmXl1T31ArV6t1RoPJYjRZjGaL0WQ2mCwmswVBEAqGUTCUgqFUCsakUzksOtf6H5sh4rEkIm6AkCMWcgL9eHzOA2qmu4DHZgzvGT+8ZzwAWHCirEZRVFlfXquw/toVan2D1qDWGU1miwUnCILAUJSCoVQqhcOk8dgMPochFnIChNxgf15EkCgq2M/7X/LDkbbyyfbwqayOs9p9eMniVX+/NGVwQkiLsvY/7Du349wNDEWemzhgXPdEFz1d8/CKDc+O79c/KbIdF+w+kcGiyGDRlMGdAIAgyWpZQ3mNorxOWSfXSJWaeqVWpTVo9UaNzmg0WywWwoITJJAUDKNSUAqGUSkYnUbhsuh8DoPPYfI5DD6bGSDiBPvzg/x5gf48GsVzV9f9hNKsxUmCR+2QL7gOnby9cGFtOvG4I1yqYLlJsQRIA2G6ZJTPQ7BwCmsaxpyOYO4FQ5M63HiMMKUTljzAZSSpAtJAkkYg7y57vQnUlSu96YN0OwqJCxnJzQ13vaVODy1C0lsVgmyOfRkmeyXHNmWmNodLjewtWX62Zql9HVYranNJet27GbLPAph9/RhpPFoMixJExbgoQsUJo4XUWQidhdDqLbVqc4nGXKo2lWrMxQR5N0rX3QmQOMG8DNnnDq9Vao8oym/GCuaGsEcwKY4TTgjSbMTr9RapzlKts1QHsvrxaK2LEd0NUClYaIAgNEBwR+6+ufDa1qJMpUl/ePyTzdsVRv3ik1v+Hjnf2cA2dbsLoWBodIhfdIgD1QEvWZ61K54XdKA6U2nSjgzqvDB6CADcUJZ/n7dfbzFyqMw3UqaGskSbS8+ek+VV6OQ9RNGvpUyxjj0rzfsp/xBOEpEc8WvJU7hUxr6qa/9UXKrQ1f875LWmW0gNDV9k76rUyc2EZXJozzlRAx3eot3fmg97Vi+ZYdNSo1SvO3Zl/3uP8ViM5vHi9j3vIVAECRHzQ8R8V2dDPtrIN7n/HKvLVJo0APB93q7v83YBwOCATh92mgcAb19fW6ypWdf3lgbahzc3XlcWb+n/hveTA8D/rv6SLm8syHVyeOviKO4jNap+Lth7vj5Hj5tiOIGLokf38WsRLn5DVbIyb3e+pkpI40wN7UfHnOYwOD2CwejDGOL95obPccMBAILEy8zqb8zqbzH6IArnKZTm4g8Vt2hWmTU/Q9vVpu8kKOdOr6CRVgNX3MxM/a+zbX6qDXRMyKIEuj+hDRJW3x4BH16ue9uZ7Q4AFkJfpT1apT3q8V0eWCJ5U3MUq4243OFVnaUmU7Y8U7acRQlkUMTWcxiCNFsIrZlQm/AGE9FCk5hNCblXDPc7y6yYtD4BEY+d3GLTLqQz3THH3ez2oLG/KuPr7vMZGNVC4gBgIixfZO1c1fNxLpVxpOb6iuxd33RfMCui36yIfjsrLmWrKq2jFCbNZzf/+b3v03507saSM9/l7nszderY4LRefjHzzrXIsfngxraB4sTlXecAgAE3O7vF7X7bPgAAoEau9uezeSwGAKCIV0fX3o1+ICBJcsWb28wmi1KuefatyeHR4neWrI1PDa0ul6d2ixg7oydJkqs+3q1W6UxGy+PLxoZE+P3wyW6VQms0mGcvHpLYOQwAfv/2YE2F3KA3L3xhVGSsA9X2DmJW+KDxwb00Fv3zV36aHT54ZGA3AGiv+JNWJ/+8yyKlSbO25MiuyvPtckcrDWbdksurMAR7Jm4Cj8I6XHv1tYw1n3d5rLdfY+G5emPDi1dXhzL930ieBQA7Ks6WautsUmObcBU7hWARNOEPpKXYotuA67eRhAKAxI0ncOMJjDGWJvgCEAfGrkmxxCrDAoBi9CEofRBKjQPUH0F4gLBwwz6z6jX7UXcBd0sYWauGe5s87nRMyKaGas0VzjoIPApwb04YZywVZV+oeQW/W49T7l0whN5V/Nb5mmWuQ4Z0lhqdpcZFBx/e80/JjU2F18rUirNTlgLA30WZ52pLvuw7CQBUJsPIf38+NWkJHaPYdCtVK166sDuKK8pR1OEk8XW/yfF8MQAcqsj7NecCThJXZJXDQ+JWDZhGQ+/AEfnRc7nrdlwsLJX++vmcuMhb5zbPv79l+thug3rFtmm2Ra/89cTDA/p0jXJ4dYgkmYFRAYCCYABQqK4t08qeurjaetWf7jj877qyPIkf4kfnAsCY4LQ5Zx1X4sNJ4qq8+Jvujfsl643cvMXtpEGumZXw0j7pTzbtp3alb/3uQHFW5bcHX4tOdbfU13MjPpn3xuQewzw5MtUaTd/tPn3yZrHJgnOZ9LUvzOKxGH8eTdcYjBUy1eWCCoIkt702D0ORAa/9kPFtY8T/wys2PD9xQJ+EcGcznLxZ9NP+8/lVsl+WTO8aHWLt9twvO6sV6jqlZvLHfwDA6mdnBPA59j0BoEym/GTr0TKpEkOROUO6zRrQ+GWXUVL94ebDWoOpd3w4ch9Z7ueP3CzLr5v51ND2nRZBkJc/mQEAZ49knTl8M/yJIdXl8qdeHR8c3niYdu5YNpfPfPatSTWVip8+//fdbx/NuFT0+W+PC0SNAcNZ18r0WuPry2dXltb/+uW+d7+7fRLPQUwRAKjMWgAQM/hxXLfqSbXX5DSUEsAQCKjtXF9iS9lJqVG1ru8rIUw/AOgvTi6+UPtb0f4mw31r+SkzYfk8bZE1TXaAOGXG6Y+dzda6tYpQoqi8N6m8V3HDEYt2LWE6CwC4YZ9RXk/322QTh4Pr91itdgTl0URr7QuO3gfpdB0NlxaDIQycdFxtno4J2yonIqJ3cmG4e5aZakMga9DQ0L8u1L5qU+/Jh/cEs4cmi57Okv9wpxfSgjUZ6X/nZI2NiVva40E5JZ4Smdo/MGry/jXWl+PCE7/IOKazmFkU6r9l2aNC4+kYxb4bAKRLK17tMrSHOGxdfvov2edX9JkIAO+nH9w5eqEfgz3/2MZFCb3uiNUOAMP6JgzrmzD96V9uw70YLU9+SSCDmML1/Ze6HtXSO+t0+0oCCXZRoW7ewgWF18urS2UDJnhSObhNDJzUfeCk7vO7uXXc3y58ueOkxmDa8fp8Bo1SrVBbfeEAsOV05i9Lpn86b6xSqxewGWrnqv8OZxiUEj0oJXrap2uburHptN+WPnS1qPK9jYd2vrmgqd2+J0GSL63Z897DI5PDJA06w8zl65PDJJ0iAgmCfPXPvS9OGjiqa3xGSfWCb2xrq9+79Bme0me4h6GqLtBqDKs+3s3lMeulDWFRYgCgM6hNVjsAVJbIwmMCACAwRFhbqUAQ5Ll3pnzz7nYOj/nUq+M5PGZ5sfTm1dJPX94EAOHRjkMxfbjPRXleDCfIarUDAAJIZ37UrsrzJsJidavnqiujOUFN4jZ0lJrCD89XO6447r6bmYIxRmOM0YTxlFHxFJA6wnQRN57C6IOad8INexp7s5+2t9oBgCSVbt/xAQUBlE+PlxsyHV5tNfTF4RCHqoJWPA5wt4FHixsWuiFb/lOBagNBmttlziZYlOAHecuXKFxMApEj/4W8LVkW7rCoS3c6RpEb9Hd6IXcMFoU2MDDqYEXulMjUf0puvJbmtGpEIJPbQxwGAImCgAMVjbWoTQRORTEAoKDYfZOB3SZXaAxHorYYrsqLu4qiSCAVJq2I5uAIt5MgfEXWbplR7U/n7q/K6O3n+BCAgmCdBOH/VFyeFtYLAHQWI4tCd/MWLji3L4PJdjex/g7ghe/5xM2iH56ayqBRACBIeOssold8mDVVVMBuJTjB2QweUyVvyK+SPb96V1NLaZ2iU0RgpVyl0OhGdY0HgC6RQWFigff3spJ5ofCvbw5iFNSgM3361xNMFn3jqsNXTucDQJ/hydMfH5xzrXTzj8cwCqqQqSUhwpe/fBhBEPtR+zadP7HnGo6TnXtHz31hNAC8u3hNl76xWekl8rqGj/9YXJpfYz/P7nVnD227lNYvbtHL4wDA4b1+/WxPbYWitkLeoNQ+/c7U3sPc0m6+cCI3ONxvztPD9my+UF/XAHafzbDogJzMcgCoqVRIQoQAkNI1IuX7uXs2X9i/7fKMhQPDosQxicEvfjitvX7VHQd5d0jsu0Zp0tQYFIOOvGzTrrXoaTQuAMiNDX4tJSm5FKe5s22OD0HpA6mcp83qLwGANF+DloY7iTfuD1BamsPhhMlWi7C9afrrvIcTHIX0ZGeGe5viZKy41o5sF4+7FQxhpPq9EMmblqP4pUJz0HvzHUNowexhEbypAcye7ahJei+SJHzSn9H9ct1bekttR99r0Z4d/ULDL1dX1um0f02azqbSNtzM3J2fg5Nkn+DQF3s7Vvyw7/PG8UPFSoXOYh4cFmltWZV+4XR5KUGSEXzBF8NGOxx1DzE9uvPPWed6isPkRl03/xBn3VjUWzKmTd8xL3cZMu3Qn1FcUQCT00cS2Y6rmvT4j3//uFinN0147IcVb0zv0zVq4ctrv3h92oWrxet2XjQaLVQqtuihfmMGu/XBv5pVvvznQ+//b0JcZEBFjfLL1YfLqxUUDJ05ofu00WkAcCOv6oufDuoM5u6dwtsUu0zHqMu7zvk651+txUgCOTui/6RQB9JsfCrrjdSpy66sxUkihCl6PWUKALyTuaVGr1SatEsvrUnkhyyJHw0A73Sa8UXWzr/LzpMkOT6k25yogW7ewiHSSsV3L67LvlxEoVL2rzsNAD+ffhfF0G2rDunUhuoSaebZPJIgfzz5Dk/Ezs8o++n1zXWVcg6ftfDtKb1GdgIArUo3I/bFpqiY50Z8svDtqTGdwig0yqZv9h3edN5sMs9/ffKwh3o7W0NVsXTVqxurCuswCjrlyeETFg0GgOxLRd8tW6/XGNIGJaKo509FkiQdbrTY9Baqu0hj58Y9gsZwywHvbAZvlkTB0APvPe76fXkZIt8EgRNfvrL5qy1L/CSNBlNWeklWeskXG54CgHce+y21ZxQAFOVU/XroFSqN8vLDP5QV1IVFi21GVZfVH9t19fP1TyEI8vq8X/Iyy+M7hwEAjU55a9W8ptvZzBMRJ5k4px+byyjJq3HWJyTS/+Kx7F8OvKxR6V+d85ObVjsApHaN2LPpvLRaSaVTuDwHG7DegxPSz+Z/8tImk8myeNmYBoVu+Zt/s9g0ndb0xMtjASA5LfzK2fyPl20EgJ4D40dNaZsmY8eBAGJjp8tN6juzlLbAo7J4VNaSuIk27Zz/rHMhjas2t8gLtcbzOMSjwO7/5BEB7HS1/1P9c1j0lLSU4saDntzRbRCk8bNEWMo69EYdigsveJsyU63waQkYQncYgM7A/BmUNuhwuQOHGt4j4KNUvxdK1bsrNYccCr23OoOY2SuA2TuA1dt94cv7HjGzx+jw3RWag4WqDQpjVpvGYghDQE9iU50alzbQKdhPYydZfy5VKXfmZW+aOgsBeHTn1oy6mi4BttnMDvu8P3AYFcNwkhywdvX/evdHALblZH0/anyKOMAqK+HOzHczfSWRb1zcu7Hw6rRIt+oqNCdfJXs6ud/0qDYPbJX4aElBqbROpu7VJfJadkX3TuEanVEs4qSlhA3sFcvnMksq6p98c0OrhjsFQ8+kF67Zcu6btx8K8OcSJPnWil2vPzM6IVqi1hoWvLQ2MVqSGBP47td7lswdPKxfwo28qqff3OhstpeTJ9k3JvFDfun9hJMRt4yzXn6xvfq2cLR/0NmBqHkQU/B1d9ucYJe3cIU4RPjh5qVfLv0zMjF4+pKRzS/t+f3Ep9uef+WnRQ1yDU/E1muN7z26atn387sNTa4qlr40YfnyXctCYpwm81lMFr6I8+v598tyq18Y83lq37iAUAdaNyRBfrzolxe+mRvXJVyj1C0Z9lFcl/C4tIjPnvz1sXenD5rcPftS0bIJnqteDEiO+v3wpfceHkmnUupUGgGb6VCIkM2gs+m0q0WV3WJCLhdUlMuUbZ3BfUL8+OFiwe9HLj02shcA5FZKoyQiGgULFvEELObBq3mjusZnldeWSt0qqd4q9XUNPAGryf4GgLKC2rhOYdbdSGxqaHFOdWRCYExyCJVGAQCBH0evNTgcVVVa/8b8xlQKvbbxqzale4tkD5t5HC7Jpg+FinXuE/PRkrUAMGXBQPffWkCw4Ku/Wihifb/5meYvEQRZ8kYLI/LDH+ZBS+Y8M9z9O942/Ojc8/U5RsJMR6kAoLHocxrK73JhRwDo5Zews+JcDCfI2VLjuSF/l5+WGRv86TwAMBLmHHU5FWlLcqpFswqhxGL0wfaFQkmizqJtDN9EabaRfyg1mTBdBgBc9zfGGNtiIF5qVDwG7R1EYQNCbTR5ccNeEn8WwSI69HYdRDh3Qjh3QnvNhiKUydHtmR/tDgzMP0GwMEGw0IDL6g0ZCsMNtblEZ64y4PU4qccJA4JQKCiTgrAoKIuO+XGo4VxqBIcWyafFMSneJrCPjbDVqm9fuorf7Cp+s0Nv4RAUoYZzx4dzx2vNFfWGDLnxusqYZyKUZlxtJtQEaUYRGobSaSifQfFnYGIONZxLi+RRY3i02DZVwuoZdMvEz1fUl6qUc3Zutb7Umkz2/e37GHHL+6eOac1mOoY1GA04QVBQ9Jdxk3++eqm8QfVE1x7DIqLdmfmO8Mzp7XV6dZVWNf/Yxm7i0OdTBwLA/87tqtSq6o26ecc2pooCX+kyFAGYGJHye+6lQ+NvmYY23WZFpzm8hZnAV948vSbngh63LEzoOTeu3RxaKfFBeUV1ReWymeO7/7XjQmGpNCFaAgCllfUbd10mSRIBRKM14jjhujRS+o2yfcdvbvr+MR6HAQA1dQ2FpdJXP9vR1KGsSsHnMpUN+mH9EgAgNT44JEjQLm+hQF0byHSrSuIdIW1ggjV/lCfiAED+tVI2j9ltaDIABEeJ0wYlXj5604XhDgBDpvcCgPCEoJjU0JzLRQ4N99ry+uKsivfn3kpuqSis4/lxVDLNoMndASCpZ3RwlOfBx69MHfzlzpOTP/7DQpACNuO3pQ85NLsRBN6cOez1tfsoGNonIXxwSozrGd5efyC/SlYuU769/qAfj/XSlMGdIhzvxh32/Hbx5OXbT4x+91cLQUQGCFc+OQUAw1D08/njPth8+Jvdp/vEhw9Mdpz93FaEYm6DQquQqoViLgCQJBmZEHh6/3XrsVheZnmvoUkAgGGI61HhsZKAYMHHvz+OYqjFgmNo48cKaXluYDOPQ+z7qOo1C5aNDY1uZ//avUs//+Rt5Wfev7F+QnBvjUX/d/lpJuVWMBtBEhqLQWsxqM16kiTLdFIuhcGmMJ3Js9hAkKQWN2gtBqVZCwBl2joOlcmmMKybBNeTu746O3zwsdqMpek/zAgbKGEIVGZtdkM5l8JcGD3KeuuZ4YP+qTz7yrXfHo0ciiHorsrzqPPwYMdvBjedI9QrAKGj1K4oNQFBxYDQSUJNWvJx43Eg9QCA0vqhtF42AzHmwxbtOgACNx411s/EmBMRNAAIJW66iBv2AGnCWDNxna3IWgtIHUmogVSTRANpbpQzJ/E6wnQBEC6Cchv/FxxbISg1GaV2IszXgdQZpOMozCkIFg5gIYkGkqjFGGMxxmhXd/fR3jAw/xD28BD23bh3v3dhU0PZ1NBw7vgOmr/5CXic0C+Yy1s7aQaGIBaCcHhObd/nRFmJ0mD4YcxEpcGwOz/X2i2Cx18+bLTSYBix8ffLC592Z+Y7wg8DHER2ft3Xgc94WefByzoPdt2tSQy+hzhs3bBHAOBARa7WYjo24WkA0OPmobt/bEfDPTUu+NSlgrzi2qXzh6zedCaroCYlLlil1r+1YvcfK+ZFhIgUKt2Ex1rPdZbKNZ0TQ37ecOrlJ0YCAEmSGAXd/tOTzcMYKmuUzYd4+S+YoSj9PGsnAEgY/CdiR3gzVYfCbFlhCkGcRNkiCDSLJ9GpmzlZ/+tPkk7j1EmSpFCwtVc/QZvtr6pLpM37eBMqw2HS35090qZx/jAHf4fjeySN7+EgSMPhDB8+6vgbtmt0SPPMVGc9Q/343y528EFLiw7e/rqtS9hLKBTs+U8e+ujZtVQaBbfg7/60MDEtolPv6Fce+QmA7DE4MalrRM610lZHBYX7jXu4z+vzfkExlCSI91c/Rmc6VeBuAseJr17ZXF5Yp9MYpFXKR5fa/iYBQK81EgT5/dvbUAw16EwvrZgdEulv3+2Boqco/qXE6VvKTr59fa0fjTsjbACCIFvLTlmvbqs4Y5VmtzLn3BcAEML029jPLTHDw7VXP7p569hwzvnlAMCjsvYMer/VyV1f5VFZP/Vcuqbo4B/Fh+QmNY/KiuEEzw6/FWruT+etSFu8Kn/3J1mbBFTOtND+g8Sd/io54nCdTgowWc1i0kiYzhMmB85ajD6EKvzOPuwYpSZS+e+bVe8B4ITpEmG61HwQlfs/Cuc5g+EoScgc3tcoG0uYc+zbCdNFY/3s5i004Y8Yw3G9ZZrga2P9wyQhBVJn0W1oubw2Z3b68PGAE8EXPJrS+dGdWzEEIUhyzYSpBAlvHj+UK5eZcbxAIX+lzwD7Pl0kgSsvn1+4Z3sAm5Po5w8ABEnO/mcLDcMIkpzXqavDmZmU1r/w7gPUJiP9Pw9QtqJWzGhP6bHk+KDf/z7HoFOpFCwxRnLkTM6TjwzU6U0IAn5CNgDsOHDNnXlG9E/s0zXyhQ/+Xrv9wrxpvYMk/LAg4fp/Ls6d1hsACkqkESGiQDGPx2UcPZs7rF9CblFtebVXMQxdhBEb+j/nzQztDpvLrC2vd90nLi1CrzVePnqzx7CUqmLptRM5D784DgBYXAaTw7h5oTC1T2zmmbyq4ls295EtFyYsGlyWW110syKxu2P/cWC4f0hMwNbvD856YQwAFN2sCIsLDAj144nYJ3emD5rcPT+jrLKozuFYH27SbUB8twHxzVtmPTVs1lO3Es0T0yLeXNm4YWj6wX7UiGk9Rkzr0bzl/dWLmr90OM/LXz5ssx6bPjt+P9m1f9yER/sBwB8r9mVfKXlwDHc+le2s/tGkkD6TQlqomT0UNrDph6afPZh8VGC3UYHdnI1yPXmrt+ZT2f9LmPq/hKnOOnQWRP3cs8UDcEpoX4c9EceuAlKH63fjpnOkJY/Eq0lSCyQBCBPFQhBaGoUxEaW7SiMjzJkW7RrCdIHEZYDQEUyM0npTWI+i1E4AYFI8gRsOUThPUbmv2gw0SkcTljwXMzdBE/5gE4rTYvmE3KL9nTAeIyylQOoRlAOoP0pJoLAXorQWny6Ldq254V0AoHCepXKXOZzNJH8MNx4FALr/dpTa4bpgPnz4uL8x4JZl53bV6tUIgtBQytvdRiQK2lNwbe6LfwzuFff47P4HT2V/smr/wb+W0qiUlWuPHzmTy2LSxg1J2Xk4c+O3izAMffvL3RU1iqIyWVAAX8hnLVs8IjZCDM103DVa4zNvb3x4Us+xQ1KqalXf/nE0r7gOtxDhIaIVb0xj0KmZOZVf/HzIYDT37BxRr9ROG53mTMf9XqQ8v+azxb+qlVqukLPq2JsAsG3VofL8mhe+mdu8W+H18h9e21RXIWfzmPNfn9R3XJq1/ejWC398/A9GwboOTlLUqSY9PjSmU9irU74aNKXHkc3nLWZ83uuTrMmpnzy2uqq4rjSnShLmJxDzlnzxcFRySE2p7Oe3thReL7eY8bC4wPc3LGGw6FkXC79btt6oM6UNTlTUNUxYNNgzHXcfdz+VxdLv397GYNFxnOAJWM9+MO2u1jjycbtwYrj78OHDhw8fPnz48OHjbuLB1cb24cOHDx8+fPjw4eMe4v9I+C2rndGj2QAAAABJRU5ErkJggg==",
          "x": 0,
          "xanchor": "left",
          "xref": "paper",
          "y": 1,
          "yanchor": "top",
          "yref": "paper"
         }
        ],
        "margin": {
         "b": 0,
         "l": 0,
         "r": 0,
         "t": 40
        },
        "template": {
         "data": {
          "bar": [
           {
            "error_x": {
             "color": "#2a3f5f"
            },
            "error_y": {
             "color": "#2a3f5f"
            },
            "marker": {
             "line": {
              "color": "#E5ECF6",
              "width": 0.5
             },
             "pattern": {
              "fillmode": "overlay",
              "size": 10,
              "solidity": 0.2
             }
            },
            "type": "bar"
           }
          ],
          "barpolar": [
           {
            "marker": {
             "line": {
              "color": "#E5ECF6",
              "width": 0.5
             },
             "pattern": {
              "fillmode": "overlay",
              "size": 10,
              "solidity": 0.2
             }
            },
            "type": "barpolar"
           }
          ],
          "carpet": [
           {
            "aaxis": {
             "endlinecolor": "#2a3f5f",
             "gridcolor": "white",
             "linecolor": "white",
             "minorgridcolor": "white",
             "startlinecolor": "#2a3f5f"
            },
            "baxis": {
             "endlinecolor": "#2a3f5f",
             "gridcolor": "white",
             "linecolor": "white",
             "minorgridcolor": "white",
             "startlinecolor": "#2a3f5f"
            },
            "type": "carpet"
           }
          ],
          "choropleth": [
           {
            "colorbar": {
             "outlinewidth": 0,
             "ticks": ""
            },
            "type": "choropleth"
           }
          ],
          "contour": [
           {
            "colorbar": {
             "outlinewidth": 0,
             "ticks": ""
            },
            "colorscale": [
             [
              0,
              "#0d0887"
             ],
             [
              0.1111111111111111,
              "#46039f"
             ],
             [
              0.2222222222222222,
              "#7201a8"
             ],
             [
              0.3333333333333333,
              "#9c179e"
             ],
             [
              0.4444444444444444,
              "#bd3786"
             ],
             [
              0.5555555555555556,
              "#d8576b"
             ],
             [
              0.6666666666666666,
              "#ed7953"
             ],
             [
              0.7777777777777778,
              "#fb9f3a"
             ],
             [
              0.8888888888888888,
              "#fdca26"
             ],
             [
              1,
              "#f0f921"
             ]
            ],
            "type": "contour"
           }
          ],
          "contourcarpet": [
           {
            "colorbar": {
             "outlinewidth": 0,
             "ticks": ""
            },
            "type": "contourcarpet"
           }
          ],
          "heatmap": [
           {
            "colorbar": {
             "outlinewidth": 0,
             "ticks": ""
            },
            "colorscale": [
             [
              0,
              "#0d0887"
             ],
             [
              0.1111111111111111,
              "#46039f"
             ],
             [
              0.2222222222222222,
              "#7201a8"
             ],
             [
              0.3333333333333333,
              "#9c179e"
             ],
             [
              0.4444444444444444,
              "#bd3786"
             ],
             [
              0.5555555555555556,
              "#d8576b"
             ],
             [
              0.6666666666666666,
              "#ed7953"
             ],
             [
              0.7777777777777778,
              "#fb9f3a"
             ],
             [
              0.8888888888888888,
              "#fdca26"
             ],
             [
              1,
              "#f0f921"
             ]
            ],
            "type": "heatmap"
           }
          ],
          "heatmapgl": [
           {
            "colorbar": {
             "outlinewidth": 0,
             "ticks": ""
            },
            "colorscale": [
             [
              0,
              "#0d0887"
             ],
             [
              0.1111111111111111,
              "#46039f"
             ],
             [
              0.2222222222222222,
              "#7201a8"
             ],
             [
              0.3333333333333333,
              "#9c179e"
             ],
             [
              0.4444444444444444,
              "#bd3786"
             ],
             [
              0.5555555555555556,
              "#d8576b"
             ],
             [
              0.6666666666666666,
              "#ed7953"
             ],
             [
              0.7777777777777778,
              "#fb9f3a"
             ],
             [
              0.8888888888888888,
              "#fdca26"
             ],
             [
              1,
              "#f0f921"
             ]
            ],
            "type": "heatmapgl"
           }
          ],
          "histogram": [
           {
            "marker": {
             "pattern": {
              "fillmode": "overlay",
              "size": 10,
              "solidity": 0.2
             }
            },
            "type": "histogram"
           }
          ],
          "histogram2d": [
           {
            "colorbar": {
             "outlinewidth": 0,
             "ticks": ""
            },
            "colorscale": [
             [
              0,
              "#0d0887"
             ],
             [
              0.1111111111111111,
              "#46039f"
             ],
             [
              0.2222222222222222,
              "#7201a8"
             ],
             [
              0.3333333333333333,
              "#9c179e"
             ],
             [
              0.4444444444444444,
              "#bd3786"
             ],
             [
              0.5555555555555556,
              "#d8576b"
             ],
             [
              0.6666666666666666,
              "#ed7953"
             ],
             [
              0.7777777777777778,
              "#fb9f3a"
             ],
             [
              0.8888888888888888,
              "#fdca26"
             ],
             [
              1,
              "#f0f921"
             ]
            ],
            "type": "histogram2d"
           }
          ],
          "histogram2dcontour": [
           {
            "colorbar": {
             "outlinewidth": 0,
             "ticks": ""
            },
            "colorscale": [
             [
              0,
              "#0d0887"
             ],
             [
              0.1111111111111111,
              "#46039f"
             ],
             [
              0.2222222222222222,
              "#7201a8"
             ],
             [
              0.3333333333333333,
              "#9c179e"
             ],
             [
              0.4444444444444444,
              "#bd3786"
             ],
             [
              0.5555555555555556,
              "#d8576b"
             ],
             [
              0.6666666666666666,
              "#ed7953"
             ],
             [
              0.7777777777777778,
              "#fb9f3a"
             ],
             [
              0.8888888888888888,
              "#fdca26"
             ],
             [
              1,
              "#f0f921"
             ]
            ],
            "type": "histogram2dcontour"
           }
          ],
          "mesh3d": [
           {
            "colorbar": {
             "outlinewidth": 0,
             "ticks": ""
            },
            "type": "mesh3d"
           }
          ],
          "parcoords": [
           {
            "line": {
             "colorbar": {
              "outlinewidth": 0,
              "ticks": ""
             }
            },
            "type": "parcoords"
           }
          ],
          "pie": [
           {
            "automargin": true,
            "type": "pie"
           }
          ],
          "scatter": [
           {
            "fillpattern": {
             "fillmode": "overlay",
             "size": 10,
             "solidity": 0.2
            },
            "type": "scatter"
           }
          ],
          "scatter3d": [
           {
            "line": {
             "colorbar": {
              "outlinewidth": 0,
              "ticks": ""
             }
            },
            "marker": {
             "colorbar": {
              "outlinewidth": 0,
              "ticks": ""
             }
            },
            "type": "scatter3d"
           }
          ],
          "scattercarpet": [
           {
            "marker": {
             "colorbar": {
              "outlinewidth": 0,
              "ticks": ""
             }
            },
            "type": "scattercarpet"
           }
          ],
          "scattergeo": [
           {
            "marker": {
             "colorbar": {
              "outlinewidth": 0,
              "ticks": ""
             }
            },
            "type": "scattergeo"
           }
          ],
          "scattergl": [
           {
            "marker": {
             "colorbar": {
              "outlinewidth": 0,
              "ticks": ""
             }
            },
            "type": "scattergl"
           }
          ],
          "scattermapbox": [
           {
            "marker": {
             "colorbar": {
              "outlinewidth": 0,
              "ticks": ""
             }
            },
            "type": "scattermapbox"
           }
          ],
          "scatterpolar": [
           {
            "marker": {
             "colorbar": {
              "outlinewidth": 0,
              "ticks": ""
             }
            },
            "type": "scatterpolar"
           }
          ],
          "scatterpolargl": [
           {
            "marker": {
             "colorbar": {
              "outlinewidth": 0,
              "ticks": ""
             }
            },
            "type": "scatterpolargl"
           }
          ],
          "scatterternary": [
           {
            "marker": {
             "colorbar": {
              "outlinewidth": 0,
              "ticks": ""
             }
            },
            "type": "scatterternary"
           }
          ],
          "surface": [
           {
            "colorbar": {
             "outlinewidth": 0,
             "ticks": ""
            },
            "colorscale": [
             [
              0,
              "#0d0887"
             ],
             [
              0.1111111111111111,
              "#46039f"
             ],
             [
              0.2222222222222222,
              "#7201a8"
             ],
             [
              0.3333333333333333,
              "#9c179e"
             ],
             [
              0.4444444444444444,
              "#bd3786"
             ],
             [
              0.5555555555555556,
              "#d8576b"
             ],
             [
              0.6666666666666666,
              "#ed7953"
             ],
             [
              0.7777777777777778,
              "#fb9f3a"
             ],
             [
              0.8888888888888888,
              "#fdca26"
             ],
             [
              1,
              "#f0f921"
             ]
            ],
            "type": "surface"
           }
          ],
          "table": [
           {
            "cells": {
             "fill": {
              "color": "#EBF0F8"
             },
             "line": {
              "color": "white"
             }
            },
            "header": {
             "fill": {
              "color": "#C8D4E3"
             },
             "line": {
              "color": "white"
             }
            },
            "type": "table"
           }
          ]
         },
         "layout": {
          "annotationdefaults": {
           "arrowcolor": "#2a3f5f",
           "arrowhead": 0,
           "arrowwidth": 1
          },
          "autotypenumbers": "strict",
          "coloraxis": {
           "colorbar": {
            "outlinewidth": 0,
            "ticks": ""
           }
          },
          "colorscale": {
           "diverging": [
            [
             0,
             "#8e0152"
            ],
            [
             0.1,
             "#c51b7d"
            ],
            [
             0.2,
             "#de77ae"
            ],
            [
             0.3,
             "#f1b6da"
            ],
            [
             0.4,
             "#fde0ef"
            ],
            [
             0.5,
             "#f7f7f7"
            ],
            [
             0.6,
             "#e6f5d0"
            ],
            [
             0.7,
             "#b8e186"
            ],
            [
             0.8,
             "#7fbc41"
            ],
            [
             0.9,
             "#4d9221"
            ],
            [
             1,
             "#276419"
            ]
           ],
           "sequential": [
            [
             0,
             "#0d0887"
            ],
            [
             0.1111111111111111,
             "#46039f"
            ],
            [
             0.2222222222222222,
             "#7201a8"
            ],
            [
             0.3333333333333333,
             "#9c179e"
            ],
            [
             0.4444444444444444,
             "#bd3786"
            ],
            [
             0.5555555555555556,
             "#d8576b"
            ],
            [
             0.6666666666666666,
             "#ed7953"
            ],
            [
             0.7777777777777778,
             "#fb9f3a"
            ],
            [
             0.8888888888888888,
             "#fdca26"
            ],
            [
             1,
             "#f0f921"
            ]
           ],
           "sequentialminus": [
            [
             0,
             "#0d0887"
            ],
            [
             0.1111111111111111,
             "#46039f"
            ],
            [
             0.2222222222222222,
             "#7201a8"
            ],
            [
             0.3333333333333333,
             "#9c179e"
            ],
            [
             0.4444444444444444,
             "#bd3786"
            ],
            [
             0.5555555555555556,
             "#d8576b"
            ],
            [
             0.6666666666666666,
             "#ed7953"
            ],
            [
             0.7777777777777778,
             "#fb9f3a"
            ],
            [
             0.8888888888888888,
             "#fdca26"
            ],
            [
             1,
             "#f0f921"
            ]
           ]
          },
          "colorway": [
           "#636efa",
           "#EF553B",
           "#00cc96",
           "#ab63fa",
           "#FFA15A",
           "#19d3f3",
           "#FF6692",
           "#B6E880",
           "#FF97FF",
           "#FECB52"
          ],
          "font": {
           "color": "#2a3f5f"
          },
          "geo": {
           "bgcolor": "white",
           "lakecolor": "white",
           "landcolor": "#E5ECF6",
           "showlakes": true,
           "showland": true,
           "subunitcolor": "white"
          },
          "hoverlabel": {
           "align": "left"
          },
          "hovermode": "closest",
          "mapbox": {
           "style": "light"
          },
          "paper_bgcolor": "white",
          "plot_bgcolor": "#E5ECF6",
          "polar": {
           "angularaxis": {
            "gridcolor": "white",
            "linecolor": "white",
            "ticks": ""
           },
           "bgcolor": "#E5ECF6",
           "radialaxis": {
            "gridcolor": "white",
            "linecolor": "white",
            "ticks": ""
           }
          },
          "scene": {
           "xaxis": {
            "backgroundcolor": "#E5ECF6",
            "gridcolor": "white",
            "gridwidth": 2,
            "linecolor": "white",
            "showbackground": true,
            "ticks": "",
            "zerolinecolor": "white"
           },
           "yaxis": {
            "backgroundcolor": "#E5ECF6",
            "gridcolor": "white",
            "gridwidth": 2,
            "linecolor": "white",
            "showbackground": true,
            "ticks": "",
            "zerolinecolor": "white"
           },
           "zaxis": {
            "backgroundcolor": "#E5ECF6",
            "gridcolor": "white",
            "gridwidth": 2,
            "linecolor": "white",
            "showbackground": true,
            "ticks": "",
            "zerolinecolor": "white"
           }
          },
          "shapedefaults": {
           "line": {
            "color": "#2a3f5f"
           }
          },
          "ternary": {
           "aaxis": {
            "gridcolor": "white",
            "linecolor": "white",
            "ticks": ""
           },
           "baxis": {
            "gridcolor": "white",
            "linecolor": "white",
            "ticks": ""
           },
           "bgcolor": "#E5ECF6",
           "caxis": {
            "gridcolor": "white",
            "linecolor": "white",
            "ticks": ""
           }
          },
          "title": {
           "x": 0.05
          },
          "xaxis": {
           "automargin": true,
           "gridcolor": "white",
           "linecolor": "white",
           "ticks": "",
           "title": {
            "standoff": 15
           },
           "zerolinecolor": "white",
           "zerolinewidth": 2
          },
          "yaxis": {
           "automargin": true,
           "gridcolor": "white",
           "linecolor": "white",
           "ticks": "",
           "title": {
            "standoff": 15
           },
           "zerolinecolor": "white",
           "zerolinewidth": 2
          }
         }
        },
        "xaxis": {
         "visible": false
        },
        "yaxis": {
         "visible": false
        }
       }
      }
     },
     "metadata": {},
     "output_type": "display_data"
    }
   ],
   "source": [
    "generate_word_cloud(\"John\", df, pos_tag=\"VERB\")"
   ]
  },
  {
   "cell_type": "markdown",
   "metadata": {},
   "source": [
    "### Sentiment Analysis (Books & Chapters)"
   ]
  },
  {
   "cell_type": "code",
   "execution_count": 36,
   "metadata": {},
   "outputs": [],
   "source": [
    "import pandas as pd\n",
    "import altair as alt\n",
    "\n",
    "from nltk.sentiment import SentimentIntensityAnalyzer\n",
    "\n",
    "from IPython.display import display, Markdown"
   ]
  },
  {
   "cell_type": "code",
   "execution_count": 37,
   "metadata": {},
   "outputs": [],
   "source": [
    "# import nltk\n",
    "# nltk.download(\"vader_lexicon\")"
   ]
  },
  {
   "cell_type": "code",
   "execution_count": 38,
   "metadata": {},
   "outputs": [],
   "source": [
    "df = pd.read_csv(\"../data/kjv.csv\")\n",
    "df = df.astype({col: 'string' for col in df.select_dtypes(include='object').columns})\n",
    "\n",
    "df.drop(['version_name', 'version_abbr'], axis=1, inplace=True)"
   ]
  },
  {
   "cell_type": "code",
   "execution_count": 39,
   "metadata": {},
   "outputs": [],
   "source": [
    "sia = SentimentIntensityAnalyzer()"
   ]
  },
  {
   "cell_type": "code",
   "execution_count": 40,
   "metadata": {},
   "outputs": [],
   "source": [
    "def analyze_sentiments(df):\n",
    "    df[\"sentiment\"] = df[\"verse_text\"].apply(lambda text: sia.polarity_scores(text)[\"compound\"])\n",
    "    \n",
    "    sentiment_by_book = df.groupby(\"book_name\")[\"sentiment\"].mean().reset_index()\n",
    "    sentiment_by_chapter = df.groupby([\"book_name\", \"chapter_number\"])[\"sentiment\"].mean().reset_index()\n",
    "    \n",
    "    return sentiment_by_book, sentiment_by_chapter"
   ]
  },
  {
   "cell_type": "code",
   "execution_count": 41,
   "metadata": {},
   "outputs": [],
   "source": [
    "sentiment_by_book, sentiment_by_chapter = analyze_sentiments(df)"
   ]
  },
  {
   "cell_type": "markdown",
   "metadata": {},
   "source": [
    "#### Sentiment by Book"
   ]
  },
  {
   "cell_type": "code",
   "execution_count": 42,
   "metadata": {},
   "outputs": [],
   "source": [
    "sentiment_by_book.rename(columns={\"book_name\": \"Book\", \"sentiment\": \"Average Sentiment\"}, inplace=True)"
   ]
  },
  {
   "cell_type": "code",
   "execution_count": 43,
   "metadata": {},
   "outputs": [],
   "source": [
    "# sentiment_by_book.to_csv(\"../data/sentiment_by_book.csv\", index=False)"
   ]
  },
  {
   "cell_type": "code",
   "execution_count": 44,
   "metadata": {},
   "outputs": [
    {
     "data": {
      "text/markdown": [
       "### Sentiment by Book"
      ],
      "text/plain": [
       "<IPython.core.display.Markdown object>"
      ]
     },
     "metadata": {},
     "output_type": "display_data"
    },
    {
     "data": {
      "text/html": [
       "\n",
       "<style>\n",
       "  #altair-viz-b7ee7dc0248b446f9711ed06f32fa283.vega-embed {\n",
       "    width: 100%;\n",
       "    display: flex;\n",
       "  }\n",
       "\n",
       "  #altair-viz-b7ee7dc0248b446f9711ed06f32fa283.vega-embed details,\n",
       "  #altair-viz-b7ee7dc0248b446f9711ed06f32fa283.vega-embed details summary {\n",
       "    position: relative;\n",
       "  }\n",
       "</style>\n",
       "<div id=\"altair-viz-b7ee7dc0248b446f9711ed06f32fa283\"></div>\n",
       "<script type=\"text/javascript\">\n",
       "  var VEGA_DEBUG = (typeof VEGA_DEBUG == \"undefined\") ? {} : VEGA_DEBUG;\n",
       "  (function(spec, embedOpt){\n",
       "    let outputDiv = document.currentScript.previousElementSibling;\n",
       "    if (outputDiv.id !== \"altair-viz-b7ee7dc0248b446f9711ed06f32fa283\") {\n",
       "      outputDiv = document.getElementById(\"altair-viz-b7ee7dc0248b446f9711ed06f32fa283\");\n",
       "    }\n",
       "\n",
       "    const paths = {\n",
       "      \"vega\": \"https://cdn.jsdelivr.net/npm/vega@5?noext\",\n",
       "      \"vega-lib\": \"https://cdn.jsdelivr.net/npm/vega-lib?noext\",\n",
       "      \"vega-lite\": \"https://cdn.jsdelivr.net/npm/vega-lite@5.20.1?noext\",\n",
       "      \"vega-embed\": \"https://cdn.jsdelivr.net/npm/vega-embed@6?noext\",\n",
       "    };\n",
       "\n",
       "    function maybeLoadScript(lib, version) {\n",
       "      var key = `${lib.replace(\"-\", \"\")}_version`;\n",
       "      return (VEGA_DEBUG[key] == version) ?\n",
       "        Promise.resolve(paths[lib]) :\n",
       "        new Promise(function(resolve, reject) {\n",
       "          var s = document.createElement('script');\n",
       "          document.getElementsByTagName(\"head\")[0].appendChild(s);\n",
       "          s.async = true;\n",
       "          s.onload = () => {\n",
       "            VEGA_DEBUG[key] = version;\n",
       "            return resolve(paths[lib]);\n",
       "          };\n",
       "          s.onerror = () => reject(`Error loading script: ${paths[lib]}`);\n",
       "          s.src = paths[lib];\n",
       "        });\n",
       "    }\n",
       "\n",
       "    function showError(err) {\n",
       "      outputDiv.innerHTML = `<div class=\"error\" style=\"color:red;\">${err}</div>`;\n",
       "      throw err;\n",
       "    }\n",
       "\n",
       "    function displayChart(vegaEmbed) {\n",
       "      vegaEmbed(outputDiv, spec, embedOpt)\n",
       "        .catch(err => showError(`Javascript Error: ${err.message}<br>This usually means there's a typo in your chart specification. See the javascript console for the full traceback.`));\n",
       "    }\n",
       "\n",
       "    if(typeof define === \"function\" && define.amd) {\n",
       "      requirejs.config({paths});\n",
       "      let deps = [\"vega-embed\"];\n",
       "      require(deps, displayChart, err => showError(`Error loading script: ${err.message}`));\n",
       "    } else {\n",
       "      maybeLoadScript(\"vega\", \"5\")\n",
       "        .then(() => maybeLoadScript(\"vega-lite\", \"5.20.1\"))\n",
       "        .then(() => maybeLoadScript(\"vega-embed\", \"6\"))\n",
       "        .catch(showError)\n",
       "        .then(() => displayChart(vegaEmbed));\n",
       "    }\n",
       "  })({\"config\": {\"view\": {\"continuousWidth\": 300, \"continuousHeight\": 300}}, \"data\": {\"name\": \"data-66a2cbdcb13d0cb866f7e5e814a6eca4\"}, \"mark\": {\"type\": \"bar\"}, \"encoding\": {\"tooltip\": [{\"field\": \"Book\", \"type\": \"nominal\"}, {\"field\": \"Average Sentiment\", \"type\": \"quantitative\"}], \"x\": {\"field\": \"Average Sentiment\", \"title\": \"Average Sentiment\", \"type\": \"quantitative\"}, \"y\": {\"field\": \"Book\", \"sort\": [\"Genesis\", \"Exodus\", \"Leviticus\", \"Numbers\", \"Deuteronomy\", \"Joshua\", \"Judges\", \"Ruth\", \"1 Samuel\", \"2 Samuel\", \"1 Kings\", \"2 Kings\", \"1 Chronicles\", \"2 Chronicles\", \"Ezra\", \"Nehemiah\", \"Esther\", \"Job\", \"Psalms\", \"Proverbs\", \"Ecclesiastes\", \"Song of Solomon\", \"Isaiah\", \"Jeremiah\", \"Lamentations\", \"Ezekiel\", \"Daniel\", \"Hosea\", \"Joel\", \"Amos\", \"Obadiah\", \"Jonah\", \"Micah\", \"Nahum\", \"Habakkuk\", \"Zephaniah\", \"Haggai\", \"Zechariah\", \"Malachi\", \"Matthew\", \"Mark\", \"Luke\", \"John\", \"Acts\", \"Romans\", \"1 Corinthians\", \"2 Corinthians\", \"Galatians\", \"Ephesians\", \"Philippians\", \"Colossians\", \"1 Thessalonians\", \"2 Thessalonians\", \"1 Timothy\", \"2 Timothy\", \"Titus\", \"Philemon\", \"Hebrews\", \"James\", \"1 Peter\", \"2 Peter\", \"1 John\", \"2 John\", \"3 John\", \"Jude\", \"Revelation\"], \"title\": \"Book\", \"type\": \"nominal\"}}, \"height\": 1000, \"params\": [{\"name\": \"param_6\", \"select\": {\"type\": \"interval\", \"encodings\": [\"x\", \"y\"]}, \"bind\": \"scales\"}], \"width\": \"container\", \"$schema\": \"https://vega.github.io/schema/vega-lite/v5.20.1.json\", \"datasets\": {\"data-66a2cbdcb13d0cb866f7e5e814a6eca4\": [{\"Book\": \"1 Chronicles\", \"Average Sentiment\": 0.06484108280254777}, {\"Book\": \"1 Corinthians\", \"Average Sentiment\": 0.1202254004576659}, {\"Book\": \"1 John\", \"Average Sentiment\": 0.17546666666666666}, {\"Book\": \"1 Kings\", \"Average Sentiment\": 0.03589901960784314}, {\"Book\": \"1 Peter\", \"Average Sentiment\": 0.2788561904761905}, {\"Book\": \"1 Samuel\", \"Average Sentiment\": 0.03545123456790124}, {\"Book\": \"1 Thessalonians\", \"Average Sentiment\": 0.2695426966292135}, {\"Book\": \"1 Timothy\", \"Average Sentiment\": 0.26406814159292036}, {\"Book\": \"2 Chronicles\", \"Average Sentiment\": 0.11061836982968369}, {\"Book\": \"2 Corinthians\", \"Average Sentiment\": 0.2652396887159533}, {\"Book\": \"2 John\", \"Average Sentiment\": 0.35930769230769233}, {\"Book\": \"2 Kings\", \"Average Sentiment\": 0.0022841446453407536}, {\"Book\": \"2 Peter\", \"Average Sentiment\": 0.1694983606557377}, {\"Book\": \"2 Samuel\", \"Average Sentiment\": 0.003819712230215829}, {\"Book\": \"2 Thessalonians\", \"Average Sentiment\": 0.2171468085106383}, {\"Book\": \"2 Timothy\", \"Average Sentiment\": 0.2254156626506024}, {\"Book\": \"3 John\", \"Average Sentiment\": 0.5036571428571428}, {\"Book\": \"Acts\", \"Average Sentiment\": 0.06933406156901688}, {\"Book\": \"Amos\", \"Average Sentiment\": -0.0646945205479452}, {\"Book\": \"Colossians\", \"Average Sentiment\": 0.2927073684210526}, {\"Book\": \"Daniel\", \"Average Sentiment\": 0.22988291316526613}, {\"Book\": \"Deuteronomy\", \"Average Sentiment\": 0.06646538060479666}, {\"Book\": \"Ecclesiastes\", \"Average Sentiment\": 0.03088648648648649}, {\"Book\": \"Ephesians\", \"Average Sentiment\": 0.25910451612903224}, {\"Book\": \"Esther\", \"Average Sentiment\": 0.07942634730538922}, {\"Book\": \"Exodus\", \"Average Sentiment\": 0.049276422093981864}, {\"Book\": \"Ezekiel\", \"Average Sentiment\": 0.04871681068342498}, {\"Book\": \"Ezra\", \"Average Sentiment\": 0.1486632142857143}, {\"Book\": \"Galatians\", \"Average Sentiment\": 0.1510006711409396}, {\"Book\": \"Genesis\", \"Average Sentiment\": 0.09511793868232224}, {\"Book\": \"Habakkuk\", \"Average Sentiment\": -0.17394285714285715}, {\"Book\": \"Haggai\", \"Average Sentiment\": 0.10426052631578947}, {\"Book\": \"Hebrews\", \"Average Sentiment\": 0.17451782178217823}, {\"Book\": \"Hosea\", \"Average Sentiment\": -0.0285989847715736}, {\"Book\": \"Isaiah\", \"Average Sentiment\": 0.01573893188854489}, {\"Book\": \"James\", \"Average Sentiment\": 0.1565787037037037}, {\"Book\": \"Jeremiah\", \"Average Sentiment\": -0.07569215542521994}, {\"Book\": \"Job\", \"Average Sentiment\": -0.00316607476635514}, {\"Book\": \"Joel\", \"Average Sentiment\": 0.03098767123287671}, {\"Book\": \"John\", \"Average Sentiment\": 0.033967235494880545}, {\"Book\": \"Jonah\", \"Average Sentiment\": -0.02396458333333333}, {\"Book\": \"Joshua\", \"Average Sentiment\": 0.0443758358662614}, {\"Book\": \"Jude\", \"Average Sentiment\": 0.163424}, {\"Book\": \"Judges\", \"Average Sentiment\": 0.0018766990291262167}, {\"Book\": \"Lamentations\", \"Average Sentiment\": -0.1425974025974026}, {\"Book\": \"Leviticus\", \"Average Sentiment\": -0.051914318975552966}, {\"Book\": \"Luke\", \"Average Sentiment\": 0.05815699391833188}, {\"Book\": \"Malachi\", \"Average Sentiment\": -0.001549090909090907}, {\"Book\": \"Mark\", \"Average Sentiment\": -0.006631563421828907}, {\"Book\": \"Matthew\", \"Average Sentiment\": 0.03438674136321195}, {\"Book\": \"Micah\", \"Average Sentiment\": -0.04070190476190476}, {\"Book\": \"Nahum\", \"Average Sentiment\": -0.11130851063829789}, {\"Book\": \"Nehemiah\", \"Average Sentiment\": 0.08072783251231527}, {\"Book\": \"Numbers\", \"Average Sentiment\": -0.0472917701863354}, {\"Book\": \"Obadiah\", \"Average Sentiment\": -0.1469952380952381}, {\"Book\": \"Philemon\", \"Average Sentiment\": 0.305892}, {\"Book\": \"Philippians\", \"Average Sentiment\": 0.2774}, {\"Book\": \"Proverbs\", \"Average Sentiment\": -0.002561530054644808}, {\"Book\": \"Psalms\", \"Average Sentiment\": 0.1268207232832182}, {\"Book\": \"Revelation\", \"Average Sentiment\": 0.18597648514851486}, {\"Book\": \"Romans\", \"Average Sentiment\": 0.157635103926097}, {\"Book\": \"Ruth\", \"Average Sentiment\": 0.08829764705882354}, {\"Book\": \"Song of Solomon\", \"Average Sentiment\": 0.33303418803418805}, {\"Book\": \"Titus\", \"Average Sentiment\": 0.2743521739130435}, {\"Book\": \"Zechariah\", \"Average Sentiment\": 0.030487203791469193}, {\"Book\": \"Zephaniah\", \"Average Sentiment\": -0.10114339622641509}]}}, {\"mode\": \"vega-lite\"});\n",
       "</script>"
      ],
      "text/plain": [
       "alt.Chart(...)"
      ]
     },
     "metadata": {},
     "output_type": "display_data"
    }
   ],
   "source": [
    "display(Markdown(f\"### Sentiment by Book\"))\n",
    "\n",
    "chart_sentiment_by_book = (\n",
    "    alt.Chart(sentiment_by_book)\n",
    "    .mark_bar()\n",
    "    .encode(\n",
    "        x=alt.X(\"Average Sentiment:Q\", title=\"Average Sentiment\"),\n",
    "        y=alt.Y(\"Book:N\", sort=books, title=\"Book\"),\n",
    "        tooltip=[\"Book\", \"Average Sentiment\"]\n",
    "    )\n",
    "    .properties(\n",
    "                # title=\"Sentiment by Book\",\n",
    "                width='container', \n",
    "                height=1000)\n",
    "    .interactive()\n",
    ")\n",
    "\n",
    "display(chart_sentiment_by_book)"
   ]
  },
  {
   "cell_type": "markdown",
   "metadata": {},
   "source": [
    "#### Sentiment by Chapter"
   ]
  },
  {
   "cell_type": "code",
   "execution_count": 45,
   "metadata": {},
   "outputs": [],
   "source": [
    "sentiment_by_chapter.rename(columns={\"book_name\": \"Book\", \"chapter_number\": \"Chapter\", \"sentiment\": \"Average Sentiment\"}, inplace=True)"
   ]
  },
  {
   "cell_type": "code",
   "execution_count": 46,
   "metadata": {},
   "outputs": [
    {
     "data": {
      "text/markdown": [
       "### Sentiment by Chapter"
      ],
      "text/plain": [
       "<IPython.core.display.Markdown object>"
      ]
     },
     "metadata": {},
     "output_type": "display_data"
    },
    {
     "data": {
      "text/html": [
       "\n",
       "<style>\n",
       "  #altair-viz-de4f9732442b43248c9b7be8671708ee.vega-embed {\n",
       "    width: 100%;\n",
       "    display: flex;\n",
       "  }\n",
       "\n",
       "  #altair-viz-de4f9732442b43248c9b7be8671708ee.vega-embed details,\n",
       "  #altair-viz-de4f9732442b43248c9b7be8671708ee.vega-embed details summary {\n",
       "    position: relative;\n",
       "  }\n",
       "</style>\n",
       "<div id=\"altair-viz-de4f9732442b43248c9b7be8671708ee\"></div>\n",
       "<script type=\"text/javascript\">\n",
       "  var VEGA_DEBUG = (typeof VEGA_DEBUG == \"undefined\") ? {} : VEGA_DEBUG;\n",
       "  (function(spec, embedOpt){\n",
       "    let outputDiv = document.currentScript.previousElementSibling;\n",
       "    if (outputDiv.id !== \"altair-viz-de4f9732442b43248c9b7be8671708ee\") {\n",
       "      outputDiv = document.getElementById(\"altair-viz-de4f9732442b43248c9b7be8671708ee\");\n",
       "    }\n",
       "\n",
       "    const paths = {\n",
       "      \"vega\": \"https://cdn.jsdelivr.net/npm/vega@5?noext\",\n",
       "      \"vega-lib\": \"https://cdn.jsdelivr.net/npm/vega-lib?noext\",\n",
       "      \"vega-lite\": \"https://cdn.jsdelivr.net/npm/vega-lite@5.20.1?noext\",\n",
       "      \"vega-embed\": \"https://cdn.jsdelivr.net/npm/vega-embed@6?noext\",\n",
       "    };\n",
       "\n",
       "    function maybeLoadScript(lib, version) {\n",
       "      var key = `${lib.replace(\"-\", \"\")}_version`;\n",
       "      return (VEGA_DEBUG[key] == version) ?\n",
       "        Promise.resolve(paths[lib]) :\n",
       "        new Promise(function(resolve, reject) {\n",
       "          var s = document.createElement('script');\n",
       "          document.getElementsByTagName(\"head\")[0].appendChild(s);\n",
       "          s.async = true;\n",
       "          s.onload = () => {\n",
       "            VEGA_DEBUG[key] = version;\n",
       "            return resolve(paths[lib]);\n",
       "          };\n",
       "          s.onerror = () => reject(`Error loading script: ${paths[lib]}`);\n",
       "          s.src = paths[lib];\n",
       "        });\n",
       "    }\n",
       "\n",
       "    function showError(err) {\n",
       "      outputDiv.innerHTML = `<div class=\"error\" style=\"color:red;\">${err}</div>`;\n",
       "      throw err;\n",
       "    }\n",
       "\n",
       "    function displayChart(vegaEmbed) {\n",
       "      vegaEmbed(outputDiv, spec, embedOpt)\n",
       "        .catch(err => showError(`Javascript Error: ${err.message}<br>This usually means there's a typo in your chart specification. See the javascript console for the full traceback.`));\n",
       "    }\n",
       "\n",
       "    if(typeof define === \"function\" && define.amd) {\n",
       "      requirejs.config({paths});\n",
       "      let deps = [\"vega-embed\"];\n",
       "      require(deps, displayChart, err => showError(`Error loading script: ${err.message}`));\n",
       "    } else {\n",
       "      maybeLoadScript(\"vega\", \"5\")\n",
       "        .then(() => maybeLoadScript(\"vega-lite\", \"5.20.1\"))\n",
       "        .then(() => maybeLoadScript(\"vega-embed\", \"6\"))\n",
       "        .catch(showError)\n",
       "        .then(() => displayChart(vegaEmbed));\n",
       "    }\n",
       "  })({\"config\": {\"view\": {\"continuousWidth\": 300, \"continuousHeight\": 300}}, \"data\": {\"name\": \"data-576ba5dba338dc0a790f3b1af45c83a5\"}, \"mark\": {\"type\": \"circle\", \"size\": 100}, \"encoding\": {\"color\": {\"field\": \"Book\", \"legend\": {\"title\": \"Book\"}, \"sort\": [\"Genesis\", \"Exodus\", \"Leviticus\", \"Numbers\", \"Deuteronomy\", \"Joshua\", \"Judges\", \"Ruth\", \"1 Samuel\", \"2 Samuel\", \"1 Kings\", \"2 Kings\", \"1 Chronicles\", \"2 Chronicles\", \"Ezra\", \"Nehemiah\", \"Esther\", \"Job\", \"Psalms\", \"Proverbs\", \"Ecclesiastes\", \"Song of Solomon\", \"Isaiah\", \"Jeremiah\", \"Lamentations\", \"Ezekiel\", \"Daniel\", \"Hosea\", \"Joel\", \"Amos\", \"Obadiah\", \"Jonah\", \"Micah\", \"Nahum\", \"Habakkuk\", \"Zephaniah\", \"Haggai\", \"Zechariah\", \"Malachi\", \"Matthew\", \"Mark\", \"Luke\", \"John\", \"Acts\", \"Romans\", \"1 Corinthians\", \"2 Corinthians\", \"Galatians\", \"Ephesians\", \"Philippians\", \"Colossians\", \"1 Thessalonians\", \"2 Thessalonians\", \"1 Timothy\", \"2 Timothy\", \"Titus\", \"Philemon\", \"Hebrews\", \"James\", \"1 Peter\", \"2 Peter\", \"1 John\", \"2 John\", \"3 John\", \"Jude\", \"Revelation\"], \"type\": \"nominal\"}, \"tooltip\": [{\"field\": \"Book\", \"type\": \"nominal\"}, {\"field\": \"Chapter\", \"type\": \"quantitative\"}, {\"field\": \"Average Sentiment\", \"type\": \"quantitative\"}], \"x\": {\"field\": \"Chapter\", \"title\": \"Chapter\", \"type\": \"quantitative\"}, \"y\": {\"field\": \"Average Sentiment\", \"title\": \"Average Sentiment\", \"type\": \"quantitative\"}}, \"height\": 1000, \"params\": [{\"name\": \"param_7\", \"select\": {\"type\": \"interval\", \"encodings\": [\"x\", \"y\"]}, \"bind\": \"scales\"}], \"width\": \"container\", \"$schema\": \"https://vega.github.io/schema/vega-lite/v5.20.1.json\", \"datasets\": {\"data-576ba5dba338dc0a790f3b1af45c83a5\": [{\"Book\": \"1 Chronicles\", \"Chapter\": 1, \"Average Sentiment\": -0.0944}, {\"Book\": \"1 Chronicles\", \"Chapter\": 2, \"Average Sentiment\": -0.07212727272727272}, {\"Book\": \"1 Chronicles\", \"Chapter\": 3, \"Average Sentiment\": 0.0}, {\"Book\": \"1 Chronicles\", \"Chapter\": 4, \"Average Sentiment\": 0.0457906976744186}, {\"Book\": \"1 Chronicles\", \"Chapter\": 5, \"Average Sentiment\": -0.02835769230769231}, {\"Book\": \"1 Chronicles\", \"Chapter\": 6, \"Average Sentiment\": 0.02714074074074074}, {\"Book\": \"1 Chronicles\", \"Chapter\": 7, \"Average Sentiment\": -0.060015}, {\"Book\": \"1 Chronicles\", \"Chapter\": 8, \"Average Sentiment\": -0.013935}, {\"Book\": \"1 Chronicles\", \"Chapter\": 9, \"Average Sentiment\": 0.05146590909090909}, {\"Book\": \"1 Chronicles\", \"Chapter\": 10, \"Average Sentiment\": -0.33532142857142855}, {\"Book\": \"1 Chronicles\", \"Chapter\": 11, \"Average Sentiment\": 0.06983191489361702}, {\"Book\": \"1 Chronicles\", \"Chapter\": 12, \"Average Sentiment\": -0.054232499999999996}, {\"Book\": \"1 Chronicles\", \"Chapter\": 13, \"Average Sentiment\": 0.21817857142857142}, {\"Book\": \"1 Chronicles\", \"Chapter\": 14, \"Average Sentiment\": 0.10198235294117647}, {\"Book\": \"1 Chronicles\", \"Chapter\": 15, \"Average Sentiment\": 0.1589793103448276}, {\"Book\": \"1 Chronicles\", \"Chapter\": 16, \"Average Sentiment\": 0.31427441860465116}, {\"Book\": \"1 Chronicles\", \"Chapter\": 17, \"Average Sentiment\": 0.20347037037037036}, {\"Book\": \"1 Chronicles\", \"Chapter\": 18, \"Average Sentiment\": 0.08367647058823528}, {\"Book\": \"1 Chronicles\", \"Chapter\": 19, \"Average Sentiment\": 0.002794736842105265}, {\"Book\": \"1 Chronicles\", \"Chapter\": 20, \"Average Sentiment\": 0.00257499999999998}, {\"Book\": \"1 Chronicles\", \"Chapter\": 21, \"Average Sentiment\": 0.06526666666666667}, {\"Book\": \"1 Chronicles\", \"Chapter\": 22, \"Average Sentiment\": 0.3115}, {\"Book\": \"1 Chronicles\", \"Chapter\": 23, \"Average Sentiment\": 0.0797625}, {\"Book\": \"1 Chronicles\", \"Chapter\": 24, \"Average Sentiment\": -0.01860322580645161}, {\"Book\": \"1 Chronicles\", \"Chapter\": 25, \"Average Sentiment\": 0.08016129032258065}, {\"Book\": \"1 Chronicles\", \"Chapter\": 26, \"Average Sentiment\": 0.23134375000000001}, {\"Book\": \"1 Chronicles\", \"Chapter\": 27, \"Average Sentiment\": 0.06044411764705882}, {\"Book\": \"1 Chronicles\", \"Chapter\": 28, \"Average Sentiment\": 0.25151904761904764}, {\"Book\": \"1 Chronicles\", \"Chapter\": 29, \"Average Sentiment\": 0.4670166666666667}, {\"Book\": \"1 Corinthians\", \"Chapter\": 1, \"Average Sentiment\": 0.2890516129032258}, {\"Book\": \"1 Corinthians\", \"Chapter\": 2, \"Average Sentiment\": 0.44139375000000003}, {\"Book\": \"1 Corinthians\", \"Chapter\": 3, \"Average Sentiment\": 0.15445652173913044}, {\"Book\": \"1 Corinthians\", \"Chapter\": 4, \"Average Sentiment\": 0.1744666666666667}, {\"Book\": \"1 Corinthians\", \"Chapter\": 5, \"Average Sentiment\": -0.052838461538461536}, {\"Book\": \"1 Corinthians\", \"Chapter\": 6, \"Average Sentiment\": -0.01655}, {\"Book\": \"1 Corinthians\", \"Chapter\": 7, \"Average Sentiment\": 0.2747175}, {\"Book\": \"1 Corinthians\", \"Chapter\": 8, \"Average Sentiment\": -0.07736153846153847}, {\"Book\": \"1 Corinthians\", \"Chapter\": 9, \"Average Sentiment\": 0.11547777777777778}, {\"Book\": \"1 Corinthians\", \"Chapter\": 10, \"Average Sentiment\": 0.07543636363636363}, {\"Book\": \"1 Corinthians\", \"Chapter\": 11, \"Average Sentiment\": 0.027805882352941173}, {\"Book\": \"1 Corinthians\", \"Chapter\": 12, \"Average Sentiment\": 0.2013258064516129}, {\"Book\": \"1 Corinthians\", \"Chapter\": 13, \"Average Sentiment\": 0.05713846153846155}, {\"Book\": \"1 Corinthians\", \"Chapter\": 14, \"Average Sentiment\": 0.163895}, {\"Book\": \"1 Corinthians\", \"Chapter\": 15, \"Average Sentiment\": -0.11713620689655171}, {\"Book\": \"1 Corinthians\", \"Chapter\": 16, \"Average Sentiment\": 0.29315416666666666}, {\"Book\": \"1 John\", \"Chapter\": 1, \"Average Sentiment\": -0.19041000000000002}, {\"Book\": \"1 John\", \"Chapter\": 2, \"Average Sentiment\": -0.023737931034482764}, {\"Book\": \"1 John\", \"Chapter\": 3, \"Average Sentiment\": 0.09237916666666666}, {\"Book\": \"1 John\", \"Chapter\": 4, \"Average Sentiment\": 0.5926428571428571}, {\"Book\": \"1 John\", \"Chapter\": 5, \"Average Sentiment\": 0.3025666666666667}, {\"Book\": \"1 Kings\", \"Chapter\": 1, \"Average Sentiment\": 0.14289622641509434}, {\"Book\": \"1 Kings\", \"Chapter\": 2, \"Average Sentiment\": 0.03916956521739132}, {\"Book\": \"1 Kings\", \"Chapter\": 3, \"Average Sentiment\": 0.09013214285714287}, {\"Book\": \"1 Kings\", \"Chapter\": 4, \"Average Sentiment\": 0.17346764705882353}, {\"Book\": \"1 Kings\", \"Chapter\": 5, \"Average Sentiment\": 0.2602}, {\"Book\": \"1 Kings\", \"Chapter\": 6, \"Average Sentiment\": 0.009797368421052633}, {\"Book\": \"1 Kings\", \"Chapter\": 7, \"Average Sentiment\": 0.13976666666666668}, {\"Book\": \"1 Kings\", \"Chapter\": 8, \"Average Sentiment\": 0.26048787878787877}, {\"Book\": \"1 Kings\", \"Chapter\": 9, \"Average Sentiment\": 0.09056785714285713}, {\"Book\": \"1 Kings\", \"Chapter\": 10, \"Average Sentiment\": 0.30101724137931035}, {\"Book\": \"1 Kings\", \"Chapter\": 11, \"Average Sentiment\": 0.09497209302325582}, {\"Book\": \"1 Kings\", \"Chapter\": 12, \"Average Sentiment\": -0.0970848484848485}, {\"Book\": \"1 Kings\", \"Chapter\": 13, \"Average Sentiment\": -0.12908823529411764}, {\"Book\": \"1 Kings\", \"Chapter\": 14, \"Average Sentiment\": -0.18760322580645164}, {\"Book\": \"1 Kings\", \"Chapter\": 15, \"Average Sentiment\": -0.09423529411764707}, {\"Book\": \"1 Kings\", \"Chapter\": 16, \"Average Sentiment\": -0.2831264705882353}, {\"Book\": \"1 Kings\", \"Chapter\": 17, \"Average Sentiment\": -0.09257916666666667}, {\"Book\": \"1 Kings\", \"Chapter\": 18, \"Average Sentiment\": 0.004619565217391307}, {\"Book\": \"1 Kings\", \"Chapter\": 19, \"Average Sentiment\": -0.0025238095238095263}, {\"Book\": \"1 Kings\", \"Chapter\": 20, \"Average Sentiment\": 0.07778372093023254}, {\"Book\": \"1 Kings\", \"Chapter\": 21, \"Average Sentiment\": -0.2095862068965517}, {\"Book\": \"1 Kings\", \"Chapter\": 22, \"Average Sentiment\": -0.0414}, {\"Book\": \"1 Peter\", \"Chapter\": 1, \"Average Sentiment\": 0.391224}, {\"Book\": \"1 Peter\", \"Chapter\": 2, \"Average Sentiment\": 0.11154}, {\"Book\": \"1 Peter\", \"Chapter\": 3, \"Average Sentiment\": 0.2243090909090909}, {\"Book\": \"1 Peter\", \"Chapter\": 4, \"Average Sentiment\": 0.25894736842105265}, {\"Book\": \"1 Peter\", \"Chapter\": 5, \"Average Sentiment\": 0.4897142857142857}, {\"Book\": \"1 Samuel\", \"Chapter\": 1, \"Average Sentiment\": -0.04622857142857143}, {\"Book\": \"1 Samuel\", \"Chapter\": 2, \"Average Sentiment\": 0.027333333333333338}, {\"Book\": \"1 Samuel\", \"Chapter\": 3, \"Average Sentiment\": 0.011752380952380955}, {\"Book\": \"1 Samuel\", \"Chapter\": 4, \"Average Sentiment\": 0.08194545454545454}, {\"Book\": \"1 Samuel\", \"Chapter\": 5, \"Average Sentiment\": 0.16611666666666666}, {\"Book\": \"1 Samuel\", \"Chapter\": 6, \"Average Sentiment\": 0.31274761904761905}, {\"Book\": \"1 Samuel\", \"Chapter\": 7, \"Average Sentiment\": 0.14574117647058824}, {\"Book\": \"1 Samuel\", \"Chapter\": 8, \"Average Sentiment\": -0.059668181818181815}, {\"Book\": \"1 Samuel\", \"Chapter\": 9, \"Average Sentiment\": 0.18713703703703702}, {\"Book\": \"1 Samuel\", \"Chapter\": 10, \"Average Sentiment\": 0.18333333333333335}, {\"Book\": \"1 Samuel\", \"Chapter\": 11, \"Average Sentiment\": -0.042326666666666665}, {\"Book\": \"1 Samuel\", \"Chapter\": 12, \"Average Sentiment\": 0.080416}, {\"Book\": \"1 Samuel\", \"Chapter\": 13, \"Average Sentiment\": -0.04078695652173913}, {\"Book\": \"1 Samuel\", \"Chapter\": 14, \"Average Sentiment\": 0.03663653846153846}, {\"Book\": \"1 Samuel\", \"Chapter\": 15, \"Average Sentiment\": -0.08821428571428572}, {\"Book\": \"1 Samuel\", \"Chapter\": 16, \"Average Sentiment\": 0.015073913043478271}, {\"Book\": \"1 Samuel\", \"Chapter\": 17, \"Average Sentiment\": -0.014587931034482755}, {\"Book\": \"1 Samuel\", \"Chapter\": 18, \"Average Sentiment\": 0.20190999999999998}, {\"Book\": \"1 Samuel\", \"Chapter\": 19, \"Average Sentiment\": 0.08527916666666667}, {\"Book\": \"1 Samuel\", \"Chapter\": 20, \"Average Sentiment\": -0.06973333333333333}, {\"Book\": \"1 Samuel\", \"Chapter\": 21, \"Average Sentiment\": -0.1163}, {\"Book\": \"1 Samuel\", \"Chapter\": 22, \"Average Sentiment\": 0.08749565217391304}, {\"Book\": \"1 Samuel\", \"Chapter\": 23, \"Average Sentiment\": 0.15974827586206897}, {\"Book\": \"1 Samuel\", \"Chapter\": 24, \"Average Sentiment\": 0.15658181818181818}, {\"Book\": \"1 Samuel\", \"Chapter\": 25, \"Average Sentiment\": 0.013650000000000002}, {\"Book\": \"1 Samuel\", \"Chapter\": 26, \"Average Sentiment\": 0.013748}, {\"Book\": \"1 Samuel\", \"Chapter\": 27, \"Average Sentiment\": 0.022650000000000003}, {\"Book\": \"1 Samuel\", \"Chapter\": 28, \"Average Sentiment\": -0.133164}, {\"Book\": \"1 Samuel\", \"Chapter\": 29, \"Average Sentiment\": -0.003836363636363643}, {\"Book\": \"1 Samuel\", \"Chapter\": 30, \"Average Sentiment\": 0.055903225806451615}, {\"Book\": \"1 Samuel\", \"Chapter\": 31, \"Average Sentiment\": -0.35433846153846155}, {\"Book\": \"1 Thessalonians\", \"Chapter\": 1, \"Average Sentiment\": 0.44715}, {\"Book\": \"1 Thessalonians\", \"Chapter\": 2, \"Average Sentiment\": 0.36374}, {\"Book\": \"1 Thessalonians\", \"Chapter\": 3, \"Average Sentiment\": 0.29634615384615387}, {\"Book\": \"1 Thessalonians\", \"Chapter\": 4, \"Average Sentiment\": 0.14453333333333332}, {\"Book\": \"1 Thessalonians\", \"Chapter\": 5, \"Average Sentiment\": 0.20674642857142858}, {\"Book\": \"1 Timothy\", \"Chapter\": 1, \"Average Sentiment\": 0.30622}, {\"Book\": \"1 Timothy\", \"Chapter\": 2, \"Average Sentiment\": 0.37694666666666665}, {\"Book\": \"1 Timothy\", \"Chapter\": 3, \"Average Sentiment\": 0.24983125}, {\"Book\": \"1 Timothy\", \"Chapter\": 4, \"Average Sentiment\": 0.27711875}, {\"Book\": \"1 Timothy\", \"Chapter\": 5, \"Average Sentiment\": 0.07869999999999999}, {\"Book\": \"1 Timothy\", \"Chapter\": 6, \"Average Sentiment\": 0.36487619047619047}, {\"Book\": \"2 Chronicles\", \"Chapter\": 1, \"Average Sentiment\": 0.3343176470588235}, {\"Book\": \"2 Chronicles\", \"Chapter\": 2, \"Average Sentiment\": 0.1614888888888889}, {\"Book\": \"2 Chronicles\", \"Chapter\": 3, \"Average Sentiment\": 0.2309764705882353}, {\"Book\": \"2 Chronicles\", \"Chapter\": 4, \"Average Sentiment\": 0.1963}, {\"Book\": \"2 Chronicles\", \"Chapter\": 5, \"Average Sentiment\": 0.20438571428571425}, {\"Book\": \"2 Chronicles\", \"Chapter\": 6, \"Average Sentiment\": 0.17781428571428573}, {\"Book\": \"2 Chronicles\", \"Chapter\": 7, \"Average Sentiment\": 0.3020227272727273}, {\"Book\": \"2 Chronicles\", \"Chapter\": 8, \"Average Sentiment\": 0.10882777777777777}, {\"Book\": \"2 Chronicles\", \"Chapter\": 9, \"Average Sentiment\": 0.25013548387096773}, {\"Book\": \"2 Chronicles\", \"Chapter\": 10, \"Average Sentiment\": -0.04926842105263157}, {\"Book\": \"2 Chronicles\", \"Chapter\": 11, \"Average Sentiment\": 0.14331304347826088}, {\"Book\": \"2 Chronicles\", \"Chapter\": 12, \"Average Sentiment\": 0.16543125}, {\"Book\": \"2 Chronicles\", \"Chapter\": 13, \"Average Sentiment\": 0.02087727272727272}, {\"Book\": \"2 Chronicles\", \"Chapter\": 14, \"Average Sentiment\": -0.05374666666666667}, {\"Book\": \"2 Chronicles\", \"Chapter\": 15, \"Average Sentiment\": 0.159}, {\"Book\": \"2 Chronicles\", \"Chapter\": 16, \"Average Sentiment\": 0.12032142857142857}, {\"Book\": \"2 Chronicles\", \"Chapter\": 17, \"Average Sentiment\": 0.039073684210526316}, {\"Book\": \"2 Chronicles\", \"Chapter\": 18, \"Average Sentiment\": 0.003058823529411764}, {\"Book\": \"2 Chronicles\", \"Chapter\": 19, \"Average Sentiment\": 0.22283636363636364}, {\"Book\": \"2 Chronicles\", \"Chapter\": 20, \"Average Sentiment\": 0.06411081081081081}, {\"Book\": \"2 Chronicles\", \"Chapter\": 21, \"Average Sentiment\": 0.20593500000000003}, {\"Book\": \"2 Chronicles\", \"Chapter\": 22, \"Average Sentiment\": -0.37329166666666663}, {\"Book\": \"2 Chronicles\", \"Chapter\": 23, \"Average Sentiment\": 0.19956666666666667}, {\"Book\": \"2 Chronicles\", \"Chapter\": 24, \"Average Sentiment\": 0.05285925925925926}, {\"Book\": \"2 Chronicles\", \"Chapter\": 25, \"Average Sentiment\": -0.005235714285714282}, {\"Book\": \"2 Chronicles\", \"Chapter\": 26, \"Average Sentiment\": 0.14918260869565217}, {\"Book\": \"2 Chronicles\", \"Chapter\": 27, \"Average Sentiment\": -0.0023777777777777872}, {\"Book\": \"2 Chronicles\", \"Chapter\": 28, \"Average Sentiment\": -0.011888888888888886}, {\"Book\": \"2 Chronicles\", \"Chapter\": 29, \"Average Sentiment\": 0.04354444444444445}, {\"Book\": \"2 Chronicles\", \"Chapter\": 30, \"Average Sentiment\": 0.30602962962962965}, {\"Book\": \"2 Chronicles\", \"Chapter\": 31, \"Average Sentiment\": 0.28523333333333334}, {\"Book\": \"2 Chronicles\", \"Chapter\": 32, \"Average Sentiment\": 0.2157151515151515}, {\"Book\": \"2 Chronicles\", \"Chapter\": 33, \"Average Sentiment\": 0.03555200000000001}, {\"Book\": \"2 Chronicles\", \"Chapter\": 34, \"Average Sentiment\": 0.05684848484848484}, {\"Book\": \"2 Chronicles\", \"Chapter\": 35, \"Average Sentiment\": -0.10401481481481482}, {\"Book\": \"2 Chronicles\", \"Chapter\": 36, \"Average Sentiment\": 0.0554608695652174}, {\"Book\": \"2 Corinthians\", \"Chapter\": 1, \"Average Sentiment\": 0.3835}, {\"Book\": \"2 Corinthians\", \"Chapter\": 2, \"Average Sentiment\": 0.2553058823529412}, {\"Book\": \"2 Corinthians\", \"Chapter\": 3, \"Average Sentiment\": 0.48766111111111116}, {\"Book\": \"2 Corinthians\", \"Chapter\": 4, \"Average Sentiment\": 0.2522}, {\"Book\": \"2 Corinthians\", \"Chapter\": 5, \"Average Sentiment\": 0.17904285714285714}, {\"Book\": \"2 Corinthians\", \"Chapter\": 6, \"Average Sentiment\": 0.19874444444444445}, {\"Book\": \"2 Corinthians\", \"Chapter\": 7, \"Average Sentiment\": 0.09746874999999999}, {\"Book\": \"2 Corinthians\", \"Chapter\": 8, \"Average Sentiment\": 0.3985625}, {\"Book\": \"2 Corinthians\", \"Chapter\": 9, \"Average Sentiment\": 0.30816}, {\"Book\": \"2 Corinthians\", \"Chapter\": 10, \"Average Sentiment\": 0.26293333333333335}, {\"Book\": \"2 Corinthians\", \"Chapter\": 11, \"Average Sentiment\": 0.003030303030303031}, {\"Book\": \"2 Corinthians\", \"Chapter\": 12, \"Average Sentiment\": 0.38732380952380957}, {\"Book\": \"2 Corinthians\", \"Chapter\": 13, \"Average Sentiment\": 0.37525714285714284}, {\"Book\": \"2 John\", \"Chapter\": 1, \"Average Sentiment\": 0.35930769230769233}, {\"Book\": \"2 Kings\", \"Chapter\": 1, \"Average Sentiment\": 0.052561111111111114}, {\"Book\": \"2 Kings\", \"Chapter\": 2, \"Average Sentiment\": 0.109548}, {\"Book\": \"2 Kings\", \"Chapter\": 3, \"Average Sentiment\": 0.028944444444444446}, {\"Book\": \"2 Kings\", \"Chapter\": 4, \"Average Sentiment\": 0.05492272727272727}, {\"Book\": \"2 Kings\", \"Chapter\": 5, \"Average Sentiment\": 0.31452222222222226}, {\"Book\": \"2 Kings\", \"Chapter\": 6, \"Average Sentiment\": -0.023690909090909085}, {\"Book\": \"2 Kings\", \"Chapter\": 7, \"Average Sentiment\": 0.051395}, {\"Book\": \"2 Kings\", \"Chapter\": 8, \"Average Sentiment\": 0.010617241379310355}, {\"Book\": \"2 Kings\", \"Chapter\": 9, \"Average Sentiment\": 0.08681621621621623}, {\"Book\": \"2 Kings\", \"Chapter\": 10, \"Average Sentiment\": 0.05323888888888889}, {\"Book\": \"2 Kings\", \"Chapter\": 11, \"Average Sentiment\": -0.043761904761904766}, {\"Book\": \"2 Kings\", \"Chapter\": 12, \"Average Sentiment\": -0.04396190476190476}, {\"Book\": \"2 Kings\", \"Chapter\": 13, \"Average Sentiment\": -0.109428}, {\"Book\": \"2 Kings\", \"Chapter\": 14, \"Average Sentiment\": -0.0921689655172414}, {\"Book\": \"2 Kings\", \"Chapter\": 15, \"Average Sentiment\": -0.09980263157894735}, {\"Book\": \"2 Kings\", \"Chapter\": 16, \"Average Sentiment\": 0.095405}, {\"Book\": \"2 Kings\", \"Chapter\": 17, \"Average Sentiment\": -0.13120487804878048}, {\"Book\": \"2 Kings\", \"Chapter\": 18, \"Average Sentiment\": 0.24806756756756757}, {\"Book\": \"2 Kings\", \"Chapter\": 19, \"Average Sentiment\": -0.07062432432432433}, {\"Book\": \"2 Kings\", \"Chapter\": 20, \"Average Sentiment\": -0.008638095238095238}, {\"Book\": \"2 Kings\", \"Chapter\": 21, \"Average Sentiment\": -0.21065384615384616}, {\"Book\": \"2 Kings\", \"Chapter\": 22, \"Average Sentiment\": 0.032355}, {\"Book\": \"2 Kings\", \"Chapter\": 23, \"Average Sentiment\": -0.03773783783783783}, {\"Book\": \"2 Kings\", \"Chapter\": 24, \"Average Sentiment\": -0.136985}, {\"Book\": \"2 Kings\", \"Chapter\": 25, \"Average Sentiment\": -0.0773}, {\"Book\": \"2 Peter\", \"Chapter\": 1, \"Average Sentiment\": 0.31680952380952376}, {\"Book\": \"2 Peter\", \"Chapter\": 2, \"Average Sentiment\": -0.08850000000000001}, {\"Book\": \"2 Peter\", \"Chapter\": 3, \"Average Sentiment\": 0.31296666666666667}, {\"Book\": \"2 Samuel\", \"Chapter\": 1, \"Average Sentiment\": -0.13137037037037036}, {\"Book\": \"2 Samuel\", \"Chapter\": 2, \"Average Sentiment\": 0.01206875}, {\"Book\": \"2 Samuel\", \"Chapter\": 3, \"Average Sentiment\": 0.020684615384615385}, {\"Book\": \"2 Samuel\", \"Chapter\": 4, \"Average Sentiment\": -0.1870166666666667}, {\"Book\": \"2 Samuel\", \"Chapter\": 5, \"Average Sentiment\": 0.009328000000000008}, {\"Book\": \"2 Samuel\", \"Chapter\": 6, \"Average Sentiment\": 0.14842608695652174}, {\"Book\": \"2 Samuel\", \"Chapter\": 7, \"Average Sentiment\": 0.2913137931034483}, {\"Book\": \"2 Samuel\", \"Chapter\": 8, \"Average Sentiment\": 0.03802777777777777}, {\"Book\": \"2 Samuel\", \"Chapter\": 9, \"Average Sentiment\": -0.03056923076923077}, {\"Book\": \"2 Samuel\", \"Chapter\": 10, \"Average Sentiment\": 0.02783157894736843}, {\"Book\": \"2 Samuel\", \"Chapter\": 11, \"Average Sentiment\": -0.22026296296296297}, {\"Book\": \"2 Samuel\", \"Chapter\": 12, \"Average Sentiment\": -0.1437516129032258}, {\"Book\": \"2 Samuel\", \"Chapter\": 13, \"Average Sentiment\": -0.11044871794871795}, {\"Book\": \"2 Samuel\", \"Chapter\": 14, \"Average Sentiment\": -0.010809090909090907}, {\"Book\": \"2 Samuel\", \"Chapter\": 15, \"Average Sentiment\": 0.11177297297297298}, {\"Book\": \"2 Samuel\", \"Chapter\": 16, \"Average Sentiment\": 0.030839130434782612}, {\"Book\": \"2 Samuel\", \"Chapter\": 17, \"Average Sentiment\": -0.0575551724137931}, {\"Book\": \"2 Samuel\", \"Chapter\": 18, \"Average Sentiment\": 0.08411515151515152}, {\"Book\": \"2 Samuel\", \"Chapter\": 19, \"Average Sentiment\": -0.06271627906976743}, {\"Book\": \"2 Samuel\", \"Chapter\": 20, \"Average Sentiment\": 0.02688461538461539}, {\"Book\": \"2 Samuel\", \"Chapter\": 21, \"Average Sentiment\": -0.11931818181818182}, {\"Book\": \"2 Samuel\", \"Chapter\": 22, \"Average Sentiment\": 0.046013725490196083}, {\"Book\": \"2 Samuel\", \"Chapter\": 23, \"Average Sentiment\": 0.07621538461538462}, {\"Book\": \"2 Samuel\", \"Chapter\": 24, \"Average Sentiment\": 0.11046800000000001}, {\"Book\": \"2 Thessalonians\", \"Chapter\": 1, \"Average Sentiment\": 0.38214166666666666}, {\"Book\": \"2 Thessalonians\", \"Chapter\": 2, \"Average Sentiment\": 0.20218235294117648}, {\"Book\": \"2 Thessalonians\", \"Chapter\": 3, \"Average Sentiment\": 0.12128333333333334}, {\"Book\": \"2 Timothy\", \"Chapter\": 1, \"Average Sentiment\": 0.3940444444444444}, {\"Book\": \"2 Timothy\", \"Chapter\": 2, \"Average Sentiment\": 0.19306923076923077}, {\"Book\": \"2 Timothy\", \"Chapter\": 3, \"Average Sentiment\": 0.16774117647058823}, {\"Book\": \"2 Timothy\", \"Chapter\": 4, \"Average Sentiment\": 0.1702409090909091}, {\"Book\": \"3 John\", \"Chapter\": 1, \"Average Sentiment\": 0.5036571428571428}, {\"Book\": \"Acts\", \"Chapter\": 1, \"Average Sentiment\": 0.09037692307692308}, {\"Book\": \"Acts\", \"Chapter\": 2, \"Average Sentiment\": 0.1929744680851064}, {\"Book\": \"Acts\", \"Chapter\": 3, \"Average Sentiment\": 0.20575384615384615}, {\"Book\": \"Acts\", \"Chapter\": 4, \"Average Sentiment\": 0.10072972972972973}, {\"Book\": \"Acts\", \"Chapter\": 5, \"Average Sentiment\": -0.06291904761904762}, {\"Book\": \"Acts\", \"Chapter\": 6, \"Average Sentiment\": 0.1945}, {\"Book\": \"Acts\", \"Chapter\": 7, \"Average Sentiment\": 0.07427833333333332}, {\"Book\": \"Acts\", \"Chapter\": 8, \"Average Sentiment\": 0.11868000000000001}, {\"Book\": \"Acts\", \"Chapter\": 9, \"Average Sentiment\": 0.04493023255813954}, {\"Book\": \"Acts\", \"Chapter\": 10, \"Average Sentiment\": 0.140975}, {\"Book\": \"Acts\", \"Chapter\": 11, \"Average Sentiment\": 0.2531966666666667}, {\"Book\": \"Acts\", \"Chapter\": 12, \"Average Sentiment\": 0.05861599999999998}, {\"Book\": \"Acts\", \"Chapter\": 13, \"Average Sentiment\": 0.08152307692307693}, {\"Book\": \"Acts\", \"Chapter\": 14, \"Average Sentiment\": 0.10567499999999999}, {\"Book\": \"Acts\", \"Chapter\": 15, \"Average Sentiment\": 0.1648170731707317}, {\"Book\": \"Acts\", \"Chapter\": 16, \"Average Sentiment\": 0.035535}, {\"Book\": \"Acts\", \"Chapter\": 17, \"Average Sentiment\": 0.04990588235294118}, {\"Book\": \"Acts\", \"Chapter\": 18, \"Average Sentiment\": 0.15448571428571428}, {\"Book\": \"Acts\", \"Chapter\": 19, \"Average Sentiment\": 0.013760975609756098}, {\"Book\": \"Acts\", \"Chapter\": 20, \"Average Sentiment\": -0.010773684210526307}, {\"Book\": \"Acts\", \"Chapter\": 21, \"Average Sentiment\": -0.0744025}, {\"Book\": \"Acts\", \"Chapter\": 22, \"Average Sentiment\": 0.007233333333333339}, {\"Book\": \"Acts\", \"Chapter\": 23, \"Average Sentiment\": 0.018534285714285715}, {\"Book\": \"Acts\", \"Chapter\": 24, \"Average Sentiment\": 0.11931851851851853}, {\"Book\": \"Acts\", \"Chapter\": 25, \"Average Sentiment\": -0.07698888888888888}, {\"Book\": \"Acts\", \"Chapter\": 26, \"Average Sentiment\": 0.06897187500000002}, {\"Book\": \"Acts\", \"Chapter\": 27, \"Average Sentiment\": 0.025347727272727272}, {\"Book\": \"Acts\", \"Chapter\": 28, \"Average Sentiment\": -0.05886451612903225}, {\"Book\": \"Amos\", \"Chapter\": 1, \"Average Sentiment\": -0.3602666666666667}, {\"Book\": \"Amos\", \"Chapter\": 2, \"Average Sentiment\": -0.2056875}, {\"Book\": \"Amos\", \"Chapter\": 3, \"Average Sentiment\": 0.016526666666666676}, {\"Book\": \"Amos\", \"Chapter\": 4, \"Average Sentiment\": 0.03790769230769231}, {\"Book\": \"Amos\", \"Chapter\": 5, \"Average Sentiment\": -0.04960370370370371}, {\"Book\": \"Amos\", \"Chapter\": 6, \"Average Sentiment\": 0.15796428571428572}, {\"Book\": \"Amos\", \"Chapter\": 7, \"Average Sentiment\": 0.10919411764705883}, {\"Book\": \"Amos\", \"Chapter\": 8, \"Average Sentiment\": -0.0831857142857143}, {\"Book\": \"Amos\", \"Chapter\": 9, \"Average Sentiment\": -0.20366666666666663}, {\"Book\": \"Colossians\", \"Chapter\": 1, \"Average Sentiment\": 0.42339999999999994}, {\"Book\": \"Colossians\", \"Chapter\": 2, \"Average Sentiment\": 0.13014347826086956}, {\"Book\": \"Colossians\", \"Chapter\": 3, \"Average Sentiment\": 0.21623599999999998}, {\"Book\": \"Colossians\", \"Chapter\": 4, \"Average Sentiment\": 0.3960777777777778}, {\"Book\": \"Daniel\", \"Chapter\": 1, \"Average Sentiment\": 0.17639999999999997}, {\"Book\": \"Daniel\", \"Chapter\": 2, \"Average Sentiment\": 0.33065102040816324}, {\"Book\": \"Daniel\", \"Chapter\": 3, \"Average Sentiment\": -0.05467333333333334}, {\"Book\": \"Daniel\", \"Chapter\": 4, \"Average Sentiment\": 0.39784594594594597}, {\"Book\": \"Daniel\", \"Chapter\": 5, \"Average Sentiment\": 0.27477741935483874}, {\"Book\": \"Daniel\", \"Chapter\": 6, \"Average Sentiment\": 0.12580714285714287}, {\"Book\": \"Daniel\", \"Chapter\": 7, \"Average Sentiment\": 0.2401607142857143}, {\"Book\": \"Daniel\", \"Chapter\": 8, \"Average Sentiment\": 0.22765185185185186}, {\"Book\": \"Daniel\", \"Chapter\": 9, \"Average Sentiment\": 0.032059259259259267}, {\"Book\": \"Daniel\", \"Chapter\": 10, \"Average Sentiment\": 0.3195571428571429}, {\"Book\": \"Daniel\", \"Chapter\": 11, \"Average Sentiment\": 0.34055555555555556}, {\"Book\": \"Daniel\", \"Chapter\": 12, \"Average Sentiment\": 0.09759230769230769}, {\"Book\": \"Deuteronomy\", \"Chapter\": 1, \"Average Sentiment\": 0.06865869565217392}, {\"Book\": \"Deuteronomy\", \"Chapter\": 2, \"Average Sentiment\": 0.00559459459459459}, {\"Book\": \"Deuteronomy\", \"Chapter\": 3, \"Average Sentiment\": 0.10267931034482759}, {\"Book\": \"Deuteronomy\", \"Chapter\": 4, \"Average Sentiment\": 0.10813061224489796}, {\"Book\": \"Deuteronomy\", \"Chapter\": 5, \"Average Sentiment\": 0.12857878787878788}, {\"Book\": \"Deuteronomy\", \"Chapter\": 6, \"Average Sentiment\": 0.19417600000000002}, {\"Book\": \"Deuteronomy\", \"Chapter\": 7, \"Average Sentiment\": -0.002438461538461543}, {\"Book\": \"Deuteronomy\", \"Chapter\": 8, \"Average Sentiment\": 0.19415}, {\"Book\": \"Deuteronomy\", \"Chapter\": 9, \"Average Sentiment\": -0.15932068965517243}, {\"Book\": \"Deuteronomy\", \"Chapter\": 10, \"Average Sentiment\": 0.29849090909090914}, {\"Book\": \"Deuteronomy\", \"Chapter\": 11, \"Average Sentiment\": 0.242834375}, {\"Book\": \"Deuteronomy\", \"Chapter\": 12, \"Average Sentiment\": 0.19650625}, {\"Book\": \"Deuteronomy\", \"Chapter\": 13, \"Average Sentiment\": 0.08107222222222221}, {\"Book\": \"Deuteronomy\", \"Chapter\": 14, \"Average Sentiment\": 0.2719068965517241}, {\"Book\": \"Deuteronomy\", \"Chapter\": 15, \"Average Sentiment\": 0.18883913043478262}, {\"Book\": \"Deuteronomy\", \"Chapter\": 16, \"Average Sentiment\": 0.2335909090909091}, {\"Book\": \"Deuteronomy\", \"Chapter\": 17, \"Average Sentiment\": 0.001835000000000009}, {\"Book\": \"Deuteronomy\", \"Chapter\": 18, \"Average Sentiment\": 0.15562727272727273}, {\"Book\": \"Deuteronomy\", \"Chapter\": 19, \"Average Sentiment\": -0.07285714285714284}, {\"Book\": \"Deuteronomy\", \"Chapter\": 20, \"Average Sentiment\": -0.27624}, {\"Book\": \"Deuteronomy\", \"Chapter\": 21, \"Average Sentiment\": -0.09051304347826086}, {\"Book\": \"Deuteronomy\", \"Chapter\": 22, \"Average Sentiment\": -0.2189866666666667}, {\"Book\": \"Deuteronomy\", \"Chapter\": 23, \"Average Sentiment\": -0.014632000000000011}, {\"Book\": \"Deuteronomy\", \"Chapter\": 24, \"Average Sentiment\": -0.05808181818181817}, {\"Book\": \"Deuteronomy\", \"Chapter\": 25, \"Average Sentiment\": 0.03287894736842105}, {\"Book\": \"Deuteronomy\", \"Chapter\": 26, \"Average Sentiment\": 0.3571}, {\"Book\": \"Deuteronomy\", \"Chapter\": 27, \"Average Sentiment\": 0.13114615384615383}, {\"Book\": \"Deuteronomy\", \"Chapter\": 28, \"Average Sentiment\": -0.05643382352941177}, {\"Book\": \"Deuteronomy\", \"Chapter\": 29, \"Average Sentiment\": 0.0701103448275862}, {\"Book\": \"Deuteronomy\", \"Chapter\": 30, \"Average Sentiment\": 0.255775}, {\"Book\": \"Deuteronomy\", \"Chapter\": 31, \"Average Sentiment\": -0.07969333333333334}, {\"Book\": \"Deuteronomy\", \"Chapter\": 32, \"Average Sentiment\": -0.1011}, {\"Book\": \"Deuteronomy\", \"Chapter\": 33, \"Average Sentiment\": 0.4300206896551724}, {\"Book\": \"Deuteronomy\", \"Chapter\": 34, \"Average Sentiment\": -0.05953333333333333}, {\"Book\": \"Ecclesiastes\", \"Chapter\": 1, \"Average Sentiment\": -0.03924999999999999}, {\"Book\": \"Ecclesiastes\", \"Chapter\": 2, \"Average Sentiment\": 0.16568076923076924}, {\"Book\": \"Ecclesiastes\", \"Chapter\": 3, \"Average Sentiment\": 0.06557727272727273}, {\"Book\": \"Ecclesiastes\", \"Chapter\": 4, \"Average Sentiment\": -0.16756875000000002}, {\"Book\": \"Ecclesiastes\", \"Chapter\": 5, \"Average Sentiment\": 0.07317}, {\"Book\": \"Ecclesiastes\", \"Chapter\": 6, \"Average Sentiment\": -0.1047333333333333}, {\"Book\": \"Ecclesiastes\", \"Chapter\": 7, \"Average Sentiment\": 0.14500689655172413}, {\"Book\": \"Ecclesiastes\", \"Chapter\": 8, \"Average Sentiment\": -0.11937647058823529}, {\"Book\": \"Ecclesiastes\", \"Chapter\": 9, \"Average Sentiment\": 0.12259444444444445}, {\"Book\": \"Ecclesiastes\", \"Chapter\": 10, \"Average Sentiment\": -0.001994999999999991}, {\"Book\": \"Ecclesiastes\", \"Chapter\": 11, \"Average Sentiment\": 0.1512}, {\"Book\": \"Ecclesiastes\", \"Chapter\": 12, \"Average Sentiment\": -0.11194285714285714}, {\"Book\": \"Ephesians\", \"Chapter\": 1, \"Average Sentiment\": 0.5444739130434783}, {\"Book\": \"Ephesians\", \"Chapter\": 2, \"Average Sentiment\": 0.24665}, {\"Book\": \"Ephesians\", \"Chapter\": 3, \"Average Sentiment\": 0.4023285714285714}, {\"Book\": \"Ephesians\", \"Chapter\": 4, \"Average Sentiment\": 0.144603125}, {\"Book\": \"Ephesians\", \"Chapter\": 5, \"Average Sentiment\": 0.11143030303030303}, {\"Book\": \"Ephesians\", \"Chapter\": 6, \"Average Sentiment\": 0.22744166666666668}, {\"Book\": \"Esther\", \"Chapter\": 1, \"Average Sentiment\": 0.20082272727272726}, {\"Book\": \"Esther\", \"Chapter\": 2, \"Average Sentiment\": 0.24865217391304348}, {\"Book\": \"Esther\", \"Chapter\": 3, \"Average Sentiment\": -0.01882666666666666}, {\"Book\": \"Esther\", \"Chapter\": 4, \"Average Sentiment\": -0.15037058823529412}, {\"Book\": \"Esther\", \"Chapter\": 5, \"Average Sentiment\": 0.32871428571428574}, {\"Book\": \"Esther\", \"Chapter\": 6, \"Average Sentiment\": 0.37935}, {\"Book\": \"Esther\", \"Chapter\": 7, \"Average Sentiment\": -0.09154}, {\"Book\": \"Esther\", \"Chapter\": 8, \"Average Sentiment\": 0.013705882352941175}, {\"Book\": \"Esther\", \"Chapter\": 9, \"Average Sentiment\": -0.13848749999999999}, {\"Book\": \"Esther\", \"Chapter\": 10, \"Average Sentiment\": 0.3889666666666667}, {\"Book\": \"Exodus\", \"Chapter\": 1, \"Average Sentiment\": -0.009286363636363633}, {\"Book\": \"Exodus\", \"Chapter\": 2, \"Average Sentiment\": -0.02764}, {\"Book\": \"Exodus\", \"Chapter\": 3, \"Average Sentiment\": 0.2945272727272727}, {\"Book\": \"Exodus\", \"Chapter\": 4, \"Average Sentiment\": 0.1478225806451613}, {\"Book\": \"Exodus\", \"Chapter\": 5, \"Average Sentiment\": -0.1861478260869565}, {\"Book\": \"Exodus\", \"Chapter\": 6, \"Average Sentiment\": 0.03173333333333333}, {\"Book\": \"Exodus\", \"Chapter\": 7, \"Average Sentiment\": 0.143452}, {\"Book\": \"Exodus\", \"Chapter\": 8, \"Average Sentiment\": 0.01665}, {\"Book\": \"Exodus\", \"Chapter\": 9, \"Average Sentiment\": -0.022005714285714285}, {\"Book\": \"Exodus\", \"Chapter\": 10, \"Average Sentiment\": 0.01552413793103449}, {\"Book\": \"Exodus\", \"Chapter\": 11, \"Average Sentiment\": 0.11687}, {\"Book\": \"Exodus\", \"Chapter\": 12, \"Average Sentiment\": -0.02098627450980392}, {\"Book\": \"Exodus\", \"Chapter\": 13, \"Average Sentiment\": 0.11017727272727273}, {\"Book\": \"Exodus\", \"Chapter\": 14, \"Average Sentiment\": 0.12366451612903226}, {\"Book\": \"Exodus\", \"Chapter\": 15, \"Average Sentiment\": 0.14192222222222223}, {\"Book\": \"Exodus\", \"Chapter\": 16, \"Average Sentiment\": -0.011152777777777777}, {\"Book\": \"Exodus\", \"Chapter\": 17, \"Average Sentiment\": -0.015018749999999997}, {\"Book\": \"Exodus\", \"Chapter\": 18, \"Average Sentiment\": 0.20357777777777777}, {\"Book\": \"Exodus\", \"Chapter\": 19, \"Average Sentiment\": 0.077896}, {\"Book\": \"Exodus\", \"Chapter\": 20, \"Average Sentiment\": 0.09099615384615387}, {\"Book\": \"Exodus\", \"Chapter\": 21, \"Average Sentiment\": -0.08031111111111111}, {\"Book\": \"Exodus\", \"Chapter\": 22, \"Average Sentiment\": -0.15476451612903225}, {\"Book\": \"Exodus\", \"Chapter\": 23, \"Average Sentiment\": -0.1078121212121212}, {\"Book\": \"Exodus\", \"Chapter\": 24, \"Average Sentiment\": 0.15199444444444443}, {\"Book\": \"Exodus\", \"Chapter\": 25, \"Average Sentiment\": 0.07624}, {\"Book\": \"Exodus\", \"Chapter\": 26, \"Average Sentiment\": 0.01031081081081081}, {\"Book\": \"Exodus\", \"Chapter\": 27, \"Average Sentiment\": -0.005752380952380953}, {\"Book\": \"Exodus\", \"Chapter\": 28, \"Average Sentiment\": 0.12930232558139537}, {\"Book\": \"Exodus\", \"Chapter\": 29, \"Average Sentiment\": 0.0016195652173913034}, {\"Book\": \"Exodus\", \"Chapter\": 30, \"Average Sentiment\": 0.007755263157894736}, {\"Book\": \"Exodus\", \"Chapter\": 31, \"Average Sentiment\": 0.11838333333333334}, {\"Book\": \"Exodus\", \"Chapter\": 32, \"Average Sentiment\": 0.013748571428571435}, {\"Book\": \"Exodus\", \"Chapter\": 33, \"Average Sentiment\": 0.18912173913043479}, {\"Book\": \"Exodus\", \"Chapter\": 34, \"Average Sentiment\": 0.07100857142857142}, {\"Book\": \"Exodus\", \"Chapter\": 35, \"Average Sentiment\": 0.13792285714285715}, {\"Book\": \"Exodus\", \"Chapter\": 36, \"Average Sentiment\": 0.07125789473684212}, {\"Book\": \"Exodus\", \"Chapter\": 37, \"Average Sentiment\": 0.04486206896551725}, {\"Book\": \"Exodus\", \"Chapter\": 38, \"Average Sentiment\": 0.12975806451612903}, {\"Book\": \"Exodus\", \"Chapter\": 39, \"Average Sentiment\": 0.11024186046511629}, {\"Book\": \"Exodus\", \"Chapter\": 40, \"Average Sentiment\": 0.05276315789473684}, {\"Book\": \"Ezekiel\", \"Chapter\": 1, \"Average Sentiment\": 0.1657714285714286}, {\"Book\": \"Ezekiel\", \"Chapter\": 2, \"Average Sentiment\": -0.044340000000000004}, {\"Book\": \"Ezekiel\", \"Chapter\": 3, \"Average Sentiment\": 0.07204444444444445}, {\"Book\": \"Ezekiel\", \"Chapter\": 4, \"Average Sentiment\": 0.1059529411764706}, {\"Book\": \"Ezekiel\", \"Chapter\": 5, \"Average Sentiment\": -0.18365882352941176}, {\"Book\": \"Ezekiel\", \"Chapter\": 6, \"Average Sentiment\": -0.18665714285714285}, {\"Book\": \"Ezekiel\", \"Chapter\": 7, \"Average Sentiment\": -0.2628518518518519}, {\"Book\": \"Ezekiel\", \"Chapter\": 8, \"Average Sentiment\": 0.09079444444444446}, {\"Book\": \"Ezekiel\", \"Chapter\": 9, \"Average Sentiment\": -0.03244545454545455}, {\"Book\": \"Ezekiel\", \"Chapter\": 10, \"Average Sentiment\": 0.14369545454545454}, {\"Book\": \"Ezekiel\", \"Chapter\": 11, \"Average Sentiment\": 0.123312}, {\"Book\": \"Ezekiel\", \"Chapter\": 12, \"Average Sentiment\": 0.0063642857142857156}, {\"Book\": \"Ezekiel\", \"Chapter\": 13, \"Average Sentiment\": 0.10460434782608698}, {\"Book\": \"Ezekiel\", \"Chapter\": 14, \"Average Sentiment\": -0.004860869565217391}, {\"Book\": \"Ezekiel\", \"Chapter\": 15, \"Average Sentiment\": -0.1268}, {\"Book\": \"Ezekiel\", \"Chapter\": 16, \"Average Sentiment\": 0.05586825396825397}, {\"Book\": \"Ezekiel\", \"Chapter\": 17, \"Average Sentiment\": 0.09074166666666666}, {\"Book\": \"Ezekiel\", \"Chapter\": 18, \"Average Sentiment\": 0.009687500000000002}, {\"Book\": \"Ezekiel\", \"Chapter\": 19, \"Average Sentiment\": -0.10652142857142856}, {\"Book\": \"Ezekiel\", \"Chapter\": 20, \"Average Sentiment\": 0.06174489795918368}, {\"Book\": \"Ezekiel\", \"Chapter\": 21, \"Average Sentiment\": -0.024006249999999996}, {\"Book\": \"Ezekiel\", \"Chapter\": 22, \"Average Sentiment\": -0.08633548387096773}, {\"Book\": \"Ezekiel\", \"Chapter\": 23, \"Average Sentiment\": 0.02207551020408164}, {\"Book\": \"Ezekiel\", \"Chapter\": 24, \"Average Sentiment\": 0.02865555555555556}, {\"Book\": \"Ezekiel\", \"Chapter\": 25, \"Average Sentiment\": 0.11861176470588235}, {\"Book\": \"Ezekiel\", \"Chapter\": 26, \"Average Sentiment\": 0.009604761904761913}, {\"Book\": \"Ezekiel\", \"Chapter\": 27, \"Average Sentiment\": 0.08927222222222223}, {\"Book\": \"Ezekiel\", \"Chapter\": 28, \"Average Sentiment\": 0.3085538461538461}, {\"Book\": \"Ezekiel\", \"Chapter\": 29, \"Average Sentiment\": 0.11525714285714288}, {\"Book\": \"Ezekiel\", \"Chapter\": 30, \"Average Sentiment\": -0.03909999999999999}, {\"Book\": \"Ezekiel\", \"Chapter\": 31, \"Average Sentiment\": 0.21284444444444445}, {\"Book\": \"Ezekiel\", \"Chapter\": 32, \"Average Sentiment\": -0.139290625}, {\"Book\": \"Ezekiel\", \"Chapter\": 33, \"Average Sentiment\": -0.012039393939393942}, {\"Book\": \"Ezekiel\", \"Chapter\": 34, \"Average Sentiment\": 0.16081935483870968}, {\"Book\": \"Ezekiel\", \"Chapter\": 35, \"Average Sentiment\": 0.008933333333333338}, {\"Book\": \"Ezekiel\", \"Chapter\": 36, \"Average Sentiment\": 0.07326315789473685}, {\"Book\": \"Ezekiel\", \"Chapter\": 37, \"Average Sentiment\": 0.188375}, {\"Book\": \"Ezekiel\", \"Chapter\": 38, \"Average Sentiment\": 0.3103782608695652}, {\"Book\": \"Ezekiel\", \"Chapter\": 39, \"Average Sentiment\": 0.0917448275862069}, {\"Book\": \"Ezekiel\", \"Chapter\": 40, \"Average Sentiment\": 0.06568367346938776}, {\"Book\": \"Ezekiel\", \"Chapter\": 41, \"Average Sentiment\": 0.03932692307692308}, {\"Book\": \"Ezekiel\", \"Chapter\": 42, \"Average Sentiment\": -0.039075000000000006}, {\"Book\": \"Ezekiel\", \"Chapter\": 43, \"Average Sentiment\": 0.06373703703703705}, {\"Book\": \"Ezekiel\", \"Chapter\": 44, \"Average Sentiment\": 0.014293548387096773}, {\"Book\": \"Ezekiel\", \"Chapter\": 45, \"Average Sentiment\": -0.016336}, {\"Book\": \"Ezekiel\", \"Chapter\": 46, \"Average Sentiment\": 0.14133333333333334}, {\"Book\": \"Ezekiel\", \"Chapter\": 47, \"Average Sentiment\": 0.22420434782608695}, {\"Book\": \"Ezekiel\", \"Chapter\": 48, \"Average Sentiment\": 0.03990571428571429}, {\"Book\": \"Ezra\", \"Chapter\": 1, \"Average Sentiment\": 0.37476363636363635}, {\"Book\": \"Ezra\", \"Chapter\": 2, \"Average Sentiment\": 0.00885}, {\"Book\": \"Ezra\", \"Chapter\": 3, \"Average Sentiment\": 0.25235384615384615}, {\"Book\": \"Ezra\", \"Chapter\": 4, \"Average Sentiment\": -0.0799125}, {\"Book\": \"Ezra\", \"Chapter\": 5, \"Average Sentiment\": 0.37763529411764707}, {\"Book\": \"Ezra\", \"Chapter\": 6, \"Average Sentiment\": 0.26906363636363634}, {\"Book\": \"Ezra\", \"Chapter\": 7, \"Average Sentiment\": 0.3876392857142857}, {\"Book\": \"Ezra\", \"Chapter\": 8, \"Average Sentiment\": 0.1598388888888889}, {\"Book\": \"Ezra\", \"Chapter\": 9, \"Average Sentiment\": 0.3349933333333333}, {\"Book\": \"Ezra\", \"Chapter\": 10, \"Average Sentiment\": 0.03520227272727273}, {\"Book\": \"Galatians\", \"Chapter\": 1, \"Average Sentiment\": 0.12312916666666666}, {\"Book\": \"Galatians\", \"Chapter\": 2, \"Average Sentiment\": -0.10729047619047619}, {\"Book\": \"Galatians\", \"Chapter\": 3, \"Average Sentiment\": 0.2980103448275862}, {\"Book\": \"Galatians\", \"Chapter\": 4, \"Average Sentiment\": 0.10463225806451612}, {\"Book\": \"Galatians\", \"Chapter\": 5, \"Average Sentiment\": 0.17148846153846156}, {\"Book\": \"Galatians\", \"Chapter\": 6, \"Average Sentiment\": 0.30291666666666667}, {\"Book\": \"Genesis\", \"Chapter\": 1, \"Average Sentiment\": 0.5201258064516129}, {\"Book\": \"Genesis\", \"Chapter\": 2, \"Average Sentiment\": 0.211632}, {\"Book\": \"Genesis\", \"Chapter\": 3, \"Average Sentiment\": 0.08301666666666667}, {\"Book\": \"Genesis\", \"Chapter\": 4, \"Average Sentiment\": 0.025023076923076926}, {\"Book\": \"Genesis\", \"Chapter\": 5, \"Average Sentiment\": -0.059671875}, {\"Book\": \"Genesis\", \"Chapter\": 6, \"Average Sentiment\": 0.037168181818181815}, {\"Book\": \"Genesis\", \"Chapter\": 7, \"Average Sentiment\": 0.12897916666666667}, {\"Book\": \"Genesis\", \"Chapter\": 8, \"Average Sentiment\": 0.14112727272727274}, {\"Book\": \"Genesis\", \"Chapter\": 9, \"Average Sentiment\": 0.05885517241379311}, {\"Book\": \"Genesis\", \"Chapter\": 10, \"Average Sentiment\": 0.020334375000000002}, {\"Book\": \"Genesis\", \"Chapter\": 11, \"Average Sentiment\": -0.02810625}, {\"Book\": \"Genesis\", \"Chapter\": 12, \"Average Sentiment\": 0.223165}, {\"Book\": \"Genesis\", \"Chapter\": 13, \"Average Sentiment\": 0.11012777777777777}, {\"Book\": \"Genesis\", \"Chapter\": 14, \"Average Sentiment\": 0.13130833333333333}, {\"Book\": \"Genesis\", \"Chapter\": 15, \"Average Sentiment\": 0.17476666666666668}, {\"Book\": \"Genesis\", \"Chapter\": 16, \"Average Sentiment\": 0.05621875}, {\"Book\": \"Genesis\", \"Chapter\": 17, \"Average Sentiment\": 0.16651851851851854}, {\"Book\": \"Genesis\", \"Chapter\": 18, \"Average Sentiment\": 0.038872727272727274}, {\"Book\": \"Genesis\", \"Chapter\": 19, \"Average Sentiment\": 0.044610526315789475}, {\"Book\": \"Genesis\", \"Chapter\": 20, \"Average Sentiment\": 0.1386611111111111}, {\"Book\": \"Genesis\", \"Chapter\": 21, \"Average Sentiment\": 0.15775}, {\"Book\": \"Genesis\", \"Chapter\": 22, \"Average Sentiment\": 0.12050416666666668}, {\"Book\": \"Genesis\", \"Chapter\": 23, \"Average Sentiment\": -0.23056000000000001}, {\"Book\": \"Genesis\", \"Chapter\": 24, \"Average Sentiment\": 0.2726164179104478}, {\"Book\": \"Genesis\", \"Chapter\": 25, \"Average Sentiment\": 0.016429411764705883}, {\"Book\": \"Genesis\", \"Chapter\": 26, \"Average Sentiment\": 0.09982857142857143}, {\"Book\": \"Genesis\", \"Chapter\": 27, \"Average Sentiment\": 0.15604565217391303}, {\"Book\": \"Genesis\", \"Chapter\": 28, \"Average Sentiment\": 0.3616909090909091}, {\"Book\": \"Genesis\", \"Chapter\": 29, \"Average Sentiment\": 0.18209428571428574}, {\"Book\": \"Genesis\", \"Chapter\": 30, \"Average Sentiment\": 0.12971860465116278}, {\"Book\": \"Genesis\", \"Chapter\": 31, \"Average Sentiment\": 0.027467272727272726}, {\"Book\": \"Genesis\", \"Chapter\": 32, \"Average Sentiment\": 0.168609375}, {\"Book\": \"Genesis\", \"Chapter\": 33, \"Average Sentiment\": 0.16756}, {\"Book\": \"Genesis\", \"Chapter\": 34, \"Average Sentiment\": 0.14083225806451613}, {\"Book\": \"Genesis\", \"Chapter\": 35, \"Average Sentiment\": -0.025506896551724136}, {\"Book\": \"Genesis\", \"Chapter\": 36, \"Average Sentiment\": -0.0768}, {\"Book\": \"Genesis\", \"Chapter\": 37, \"Average Sentiment\": -0.042741666666666664}, {\"Book\": \"Genesis\", \"Chapter\": 38, \"Average Sentiment\": 0.02486}, {\"Book\": \"Genesis\", \"Chapter\": 39, \"Average Sentiment\": 0.08344782608695653}, {\"Book\": \"Genesis\", \"Chapter\": 40, \"Average Sentiment\": 0.0952304347826087}, {\"Book\": \"Genesis\", \"Chapter\": 41, \"Average Sentiment\": 0.16801929824561404}, {\"Book\": \"Genesis\", \"Chapter\": 42, \"Average Sentiment\": -0.012510526315789474}, {\"Book\": \"Genesis\", \"Chapter\": 43, \"Average Sentiment\": 0.16469705882352942}, {\"Book\": \"Genesis\", \"Chapter\": 44, \"Average Sentiment\": -0.07601764705882352}, {\"Book\": \"Genesis\", \"Chapter\": 45, \"Average Sentiment\": 0.08370714285714285}, {\"Book\": \"Genesis\", \"Chapter\": 46, \"Average Sentiment\": 0.044823529411764707}, {\"Book\": \"Genesis\", \"Chapter\": 47, \"Average Sentiment\": 0.02603870967741936}, {\"Book\": \"Genesis\", \"Chapter\": 48, \"Average Sentiment\": 0.3337181818181818}, {\"Book\": \"Genesis\", \"Chapter\": 49, \"Average Sentiment\": 0.053954545454545456}, {\"Book\": \"Genesis\", \"Chapter\": 50, \"Average Sentiment\": -0.06945}, {\"Book\": \"Habakkuk\", \"Chapter\": 1, \"Average Sentiment\": -0.2843823529411765}, {\"Book\": \"Habakkuk\", \"Chapter\": 2, \"Average Sentiment\": -0.25146999999999997}, {\"Book\": \"Habakkuk\", \"Chapter\": 3, \"Average Sentiment\": 0.006478947368421063}, {\"Book\": \"Haggai\", \"Chapter\": 1, \"Average Sentiment\": 0.06324}, {\"Book\": \"Haggai\", \"Chapter\": 2, \"Average Sentiment\": 0.13101304347826087}, {\"Book\": \"Hebrews\", \"Chapter\": 1, \"Average Sentiment\": 0.2717}, {\"Book\": \"Hebrews\", \"Chapter\": 2, \"Average Sentiment\": 0.18414444444444444}, {\"Book\": \"Hebrews\", \"Chapter\": 3, \"Average Sentiment\": 0.07538947368421053}, {\"Book\": \"Hebrews\", \"Chapter\": 4, \"Average Sentiment\": 0.3056625}, {\"Book\": \"Hebrews\", \"Chapter\": 5, \"Average Sentiment\": -0.01652142857142857}, {\"Book\": \"Hebrews\", \"Chapter\": 6, \"Average Sentiment\": 0.426285}, {\"Book\": \"Hebrews\", \"Chapter\": 7, \"Average Sentiment\": 0.22034642857142855}, {\"Book\": \"Hebrews\", \"Chapter\": 8, \"Average Sentiment\": 0.2699615384615385}, {\"Book\": \"Hebrews\", \"Chapter\": 9, \"Average Sentiment\": 0.020935714285714283}, {\"Book\": \"Hebrews\", \"Chapter\": 10, \"Average Sentiment\": 0.05729487179487179}, {\"Book\": \"Hebrews\", \"Chapter\": 11, \"Average Sentiment\": 0.26224}, {\"Book\": \"Hebrews\", \"Chapter\": 12, \"Average Sentiment\": 0.06178275862068965}, {\"Book\": \"Hebrews\", \"Chapter\": 13, \"Average Sentiment\": 0.25447600000000004}, {\"Book\": \"Hosea\", \"Chapter\": 1, \"Average Sentiment\": 0.18658181818181818}, {\"Book\": \"Hosea\", \"Chapter\": 2, \"Average Sentiment\": 0.23808260869565218}, {\"Book\": \"Hosea\", \"Chapter\": 3, \"Average Sentiment\": 0.18644}, {\"Book\": \"Hosea\", \"Chapter\": 4, \"Average Sentiment\": -0.17032105263157896}, {\"Book\": \"Hosea\", \"Chapter\": 5, \"Average Sentiment\": -0.08632666666666666}, {\"Book\": \"Hosea\", \"Chapter\": 6, \"Average Sentiment\": 0.038563636363636355}, {\"Book\": \"Hosea\", \"Chapter\": 7, \"Average Sentiment\": -0.1032375}, {\"Book\": \"Hosea\", \"Chapter\": 8, \"Average Sentiment\": -0.33630714285714286}, {\"Book\": \"Hosea\", \"Chapter\": 9, \"Average Sentiment\": -0.1513470588235294}, {\"Book\": \"Hosea\", \"Chapter\": 10, \"Average Sentiment\": -0.20065999999999998}, {\"Book\": \"Hosea\", \"Chapter\": 11, \"Average Sentiment\": 0.09710833333333334}, {\"Book\": \"Hosea\", \"Chapter\": 12, \"Average Sentiment\": 0.014292857142857138}, {\"Book\": \"Hosea\", \"Chapter\": 13, \"Average Sentiment\": -0.1275875}, {\"Book\": \"Hosea\", \"Chapter\": 14, \"Average Sentiment\": 0.29235555555555554}, {\"Book\": \"Isaiah\", \"Chapter\": 1, \"Average Sentiment\": -0.10403225806451612}, {\"Book\": \"Isaiah\", \"Chapter\": 2, \"Average Sentiment\": 0.06143181818181817}, {\"Book\": \"Isaiah\", \"Chapter\": 3, \"Average Sentiment\": -0.07583461538461539}, {\"Book\": \"Isaiah\", \"Chapter\": 4, \"Average Sentiment\": 0.3045333333333333}, {\"Book\": \"Isaiah\", \"Chapter\": 5, \"Average Sentiment\": 0.006436666666666671}, {\"Book\": \"Isaiah\", \"Chapter\": 6, \"Average Sentiment\": -0.07889230769230768}, {\"Book\": \"Isaiah\", \"Chapter\": 7, \"Average Sentiment\": -0.13916399999999998}, {\"Book\": \"Isaiah\", \"Chapter\": 8, \"Average Sentiment\": -0.043290909090909095}, {\"Book\": \"Isaiah\", \"Chapter\": 9, \"Average Sentiment\": -0.1002904761904762}, {\"Book\": \"Isaiah\", \"Chapter\": 10, \"Average Sentiment\": -0.009235294117647055}, {\"Book\": \"Isaiah\", \"Chapter\": 11, \"Average Sentiment\": 0.12793125}, {\"Book\": \"Isaiah\", \"Chapter\": 12, \"Average Sentiment\": 0.3959}, {\"Book\": \"Isaiah\", \"Chapter\": 13, \"Average Sentiment\": -0.09531363636363635}, {\"Book\": \"Isaiah\", \"Chapter\": 14, \"Average Sentiment\": -0.21574374999999998}, {\"Book\": \"Isaiah\", \"Chapter\": 15, \"Average Sentiment\": -0.43903333333333333}, {\"Book\": \"Isaiah\", \"Chapter\": 16, \"Average Sentiment\": 0.009550000000000003}, {\"Book\": \"Isaiah\", \"Chapter\": 17, \"Average Sentiment\": 0.10063571428571429}, {\"Book\": \"Isaiah\", \"Chapter\": 18, \"Average Sentiment\": -0.06512857142857142}, {\"Book\": \"Isaiah\", \"Chapter\": 19, \"Average Sentiment\": -0.09612}, {\"Book\": \"Isaiah\", \"Chapter\": 20, \"Average Sentiment\": -0.06606666666666666}, {\"Book\": \"Isaiah\", \"Chapter\": 21, \"Average Sentiment\": -0.2571529411764706}, {\"Book\": \"Isaiah\", \"Chapter\": 22, \"Average Sentiment\": -0.024543999999999993}, {\"Book\": \"Isaiah\", \"Chapter\": 23, \"Average Sentiment\": 0.04771666666666666}, {\"Book\": \"Isaiah\", \"Chapter\": 24, \"Average Sentiment\": -0.13484782608695653}, {\"Book\": \"Isaiah\", \"Chapter\": 25, \"Average Sentiment\": -0.017608333333333333}, {\"Book\": \"Isaiah\", \"Chapter\": 26, \"Average Sentiment\": -0.07956666666666667}, {\"Book\": \"Isaiah\", \"Chapter\": 27, \"Average Sentiment\": -0.029430769230769236}, {\"Book\": \"Isaiah\", \"Chapter\": 28, \"Average Sentiment\": 0.08316551724137933}, {\"Book\": \"Isaiah\", \"Chapter\": 29, \"Average Sentiment\": -0.09242916666666667}, {\"Book\": \"Isaiah\", \"Chapter\": 30, \"Average Sentiment\": -0.05938484848484848}, {\"Book\": \"Isaiah\", \"Chapter\": 31, \"Average Sentiment\": -0.12459999999999999}, {\"Book\": \"Isaiah\", \"Chapter\": 32, \"Average Sentiment\": -0.06377}, {\"Book\": \"Isaiah\", \"Chapter\": 33, \"Average Sentiment\": -0.06295833333333332}, {\"Book\": \"Isaiah\", \"Chapter\": 34, \"Average Sentiment\": -0.07877058823529412}, {\"Book\": \"Isaiah\", \"Chapter\": 35, \"Average Sentiment\": 0.008090000000000019}, {\"Book\": \"Isaiah\", \"Chapter\": 36, \"Average Sentiment\": 0.33281818181818185}, {\"Book\": \"Isaiah\", \"Chapter\": 37, \"Average Sentiment\": -0.08332894736842106}, {\"Book\": \"Isaiah\", \"Chapter\": 38, \"Average Sentiment\": -0.05139545454545455}, {\"Book\": \"Isaiah\", \"Chapter\": 39, \"Average Sentiment\": 0.11412499999999998}, {\"Book\": \"Isaiah\", \"Chapter\": 40, \"Average Sentiment\": 0.21958064516129033}, {\"Book\": \"Isaiah\", \"Chapter\": 41, \"Average Sentiment\": 0.07198620689655173}, {\"Book\": \"Isaiah\", \"Chapter\": 42, \"Average Sentiment\": -0.02252}, {\"Book\": \"Isaiah\", \"Chapter\": 43, \"Average Sentiment\": 0.02624999999999999}, {\"Book\": \"Isaiah\", \"Chapter\": 44, \"Average Sentiment\": 0.05968214285714286}, {\"Book\": \"Isaiah\", \"Chapter\": 45, \"Average Sentiment\": 0.131212}, {\"Book\": \"Isaiah\", \"Chapter\": 46, \"Average Sentiment\": 0.09741538461538461}, {\"Book\": \"Isaiah\", \"Chapter\": 47, \"Average Sentiment\": -0.08504666666666667}, {\"Book\": \"Isaiah\", \"Chapter\": 48, \"Average Sentiment\": 0.14172727272727273}, {\"Book\": \"Isaiah\", \"Chapter\": 49, \"Average Sentiment\": 0.10917692307692307}, {\"Book\": \"Isaiah\", \"Chapter\": 50, \"Average Sentiment\": 0.07742727272727272}, {\"Book\": \"Isaiah\", \"Chapter\": 51, \"Average Sentiment\": 0.10564347826086957}, {\"Book\": \"Isaiah\", \"Chapter\": 52, \"Average Sentiment\": 0.19044}, {\"Book\": \"Isaiah\", \"Chapter\": 53, \"Average Sentiment\": -0.13169166666666665}, {\"Book\": \"Isaiah\", \"Chapter\": 54, \"Average Sentiment\": 0.08711764705882352}, {\"Book\": \"Isaiah\", \"Chapter\": 55, \"Average Sentiment\": 0.3316076923076923}, {\"Book\": \"Isaiah\", \"Chapter\": 56, \"Average Sentiment\": 0.36604166666666665}, {\"Book\": \"Isaiah\", \"Chapter\": 57, \"Average Sentiment\": -0.020904761904761898}, {\"Book\": \"Isaiah\", \"Chapter\": 58, \"Average Sentiment\": 0.04036428571428572}, {\"Book\": \"Isaiah\", \"Chapter\": 59, \"Average Sentiment\": -0.2801333333333333}, {\"Book\": \"Isaiah\", \"Chapter\": 60, \"Average Sentiment\": 0.23354545454545453}, {\"Book\": \"Isaiah\", \"Chapter\": 61, \"Average Sentiment\": 0.5144636363636365}, {\"Book\": \"Isaiah\", \"Chapter\": 62, \"Average Sentiment\": 0.33144999999999997}, {\"Book\": \"Isaiah\", \"Chapter\": 63, \"Average Sentiment\": 0.11886315789473684}, {\"Book\": \"Isaiah\", \"Chapter\": 64, \"Average Sentiment\": 0.198075}, {\"Book\": \"Isaiah\", \"Chapter\": 65, \"Average Sentiment\": -0.02396}, {\"Book\": \"Isaiah\", \"Chapter\": 66, \"Average Sentiment\": 0.208525}, {\"Book\": \"James\", \"Chapter\": 1, \"Average Sentiment\": 0.30661851851851857}, {\"Book\": \"James\", \"Chapter\": 2, \"Average Sentiment\": 0.2512923076923077}, {\"Book\": \"James\", \"Chapter\": 3, \"Average Sentiment\": 0.06811666666666666}, {\"Book\": \"James\", \"Chapter\": 4, \"Average Sentiment\": 0.04936470588235292}, {\"Book\": \"James\", \"Chapter\": 5, \"Average Sentiment\": 0.0016449999999999965}, {\"Book\": \"Jeremiah\", \"Chapter\": 1, \"Average Sentiment\": 0.017794736842105266}, {\"Book\": \"Jeremiah\", \"Chapter\": 2, \"Average Sentiment\": -0.12416486486486486}, {\"Book\": \"Jeremiah\", \"Chapter\": 3, \"Average Sentiment\": -0.008875999999999995}, {\"Book\": \"Jeremiah\", \"Chapter\": 4, \"Average Sentiment\": -0.2289064516129032}, {\"Book\": \"Jeremiah\", \"Chapter\": 5, \"Average Sentiment\": -0.007164516129032257}, {\"Book\": \"Jeremiah\", \"Chapter\": 6, \"Average Sentiment\": -0.18661333333333333}, {\"Book\": \"Jeremiah\", \"Chapter\": 7, \"Average Sentiment\": -0.1266529411764706}, {\"Book\": \"Jeremiah\", \"Chapter\": 8, \"Average Sentiment\": -0.16463636363636364}, {\"Book\": \"Jeremiah\", \"Chapter\": 9, \"Average Sentiment\": -0.09545384615384617}, {\"Book\": \"Jeremiah\", \"Chapter\": 10, \"Average Sentiment\": 0.034704}, {\"Book\": \"Jeremiah\", \"Chapter\": 11, \"Average Sentiment\": -0.3292869565217391}, {\"Book\": \"Jeremiah\", \"Chapter\": 12, \"Average Sentiment\": -0.05114117647058824}, {\"Book\": \"Jeremiah\", \"Chapter\": 13, \"Average Sentiment\": -0.08877777777777779}, {\"Book\": \"Jeremiah\", \"Chapter\": 14, \"Average Sentiment\": -0.15927727272727274}, {\"Book\": \"Jeremiah\", \"Chapter\": 15, \"Average Sentiment\": -0.3005285714285714}, {\"Book\": \"Jeremiah\", \"Chapter\": 16, \"Average Sentiment\": 0.043885714285714285}, {\"Book\": \"Jeremiah\", \"Chapter\": 17, \"Average Sentiment\": -0.08317407407407407}, {\"Book\": \"Jeremiah\", \"Chapter\": 18, \"Average Sentiment\": -0.18561304347826085}, {\"Book\": \"Jeremiah\", \"Chapter\": 19, \"Average Sentiment\": -0.041260000000000005}, {\"Book\": \"Jeremiah\", \"Chapter\": 20, \"Average Sentiment\": -0.1818722222222222}, {\"Book\": \"Jeremiah\", \"Chapter\": 21, \"Average Sentiment\": -0.24624285714285715}, {\"Book\": \"Jeremiah\", \"Chapter\": 22, \"Average Sentiment\": -0.08437}, {\"Book\": \"Jeremiah\", \"Chapter\": 23, \"Average Sentiment\": -0.27426}, {\"Book\": \"Jeremiah\", \"Chapter\": 24, \"Average Sentiment\": -0.07476}, {\"Book\": \"Jeremiah\", \"Chapter\": 25, \"Average Sentiment\": -0.09576052631578948}, {\"Book\": \"Jeremiah\", \"Chapter\": 26, \"Average Sentiment\": -0.012333333333333337}, {\"Book\": \"Jeremiah\", \"Chapter\": 27, \"Average Sentiment\": 0.08973181818181818}, {\"Book\": \"Jeremiah\", \"Chapter\": 28, \"Average Sentiment\": -0.06784705882352941}, {\"Book\": \"Jeremiah\", \"Chapter\": 29, \"Average Sentiment\": 0.099596875}, {\"Book\": \"Jeremiah\", \"Chapter\": 30, \"Average Sentiment\": -0.07511666666666665}, {\"Book\": \"Jeremiah\", \"Chapter\": 31, \"Average Sentiment\": 0.1231125}, {\"Book\": \"Jeremiah\", \"Chapter\": 32, \"Average Sentiment\": 0.05380681818181818}, {\"Book\": \"Jeremiah\", \"Chapter\": 33, \"Average Sentiment\": 0.1551423076923077}, {\"Book\": \"Jeremiah\", \"Chapter\": 34, \"Average Sentiment\": 0.24817727272727275}, {\"Book\": \"Jeremiah\", \"Chapter\": 35, \"Average Sentiment\": -0.05783157894736842}, {\"Book\": \"Jeremiah\", \"Chapter\": 36, \"Average Sentiment\": -0.115025}, {\"Book\": \"Jeremiah\", \"Chapter\": 37, \"Average Sentiment\": -0.12753809523809526}, {\"Book\": \"Jeremiah\", \"Chapter\": 38, \"Average Sentiment\": -0.149375}, {\"Book\": \"Jeremiah\", \"Chapter\": 39, \"Average Sentiment\": -0.12196111111111112}, {\"Book\": \"Jeremiah\", \"Chapter\": 40, \"Average Sentiment\": 0.033325}, {\"Book\": \"Jeremiah\", \"Chapter\": 41, \"Average Sentiment\": -0.07723333333333333}, {\"Book\": \"Jeremiah\", \"Chapter\": 42, \"Average Sentiment\": 0.12242272727272728}, {\"Book\": \"Jeremiah\", \"Chapter\": 43, \"Average Sentiment\": 0.09474615384615384}, {\"Book\": \"Jeremiah\", \"Chapter\": 44, \"Average Sentiment\": -0.14478333333333332}, {\"Book\": \"Jeremiah\", \"Chapter\": 45, \"Average Sentiment\": -0.13264}, {\"Book\": \"Jeremiah\", \"Chapter\": 46, \"Average Sentiment\": -0.024232142857142848}, {\"Book\": \"Jeremiah\", \"Chapter\": 47, \"Average Sentiment\": -0.04112857142857142}, {\"Book\": \"Jeremiah\", \"Chapter\": 48, \"Average Sentiment\": -0.14589787234042553}, {\"Book\": \"Jeremiah\", \"Chapter\": 49, \"Average Sentiment\": -0.13774615384615382}, {\"Book\": \"Jeremiah\", \"Chapter\": 50, \"Average Sentiment\": -0.07691521739130434}, {\"Book\": \"Jeremiah\", \"Chapter\": 51, \"Average Sentiment\": -0.083259375}, {\"Book\": \"Jeremiah\", \"Chapter\": 52, \"Average Sentiment\": -0.16731176470588235}, {\"Book\": \"Job\", \"Chapter\": 1, \"Average Sentiment\": 0.06470909090909091}, {\"Book\": \"Job\", \"Chapter\": 2, \"Average Sentiment\": 0.029830769230769247}, {\"Book\": \"Job\", \"Chapter\": 3, \"Average Sentiment\": -0.15129615384615386}, {\"Book\": \"Job\", \"Chapter\": 4, \"Average Sentiment\": -0.09776666666666667}, {\"Book\": \"Job\", \"Chapter\": 5, \"Average Sentiment\": -0.01345185185185186}, {\"Book\": \"Job\", \"Chapter\": 6, \"Average Sentiment\": -0.012939999999999995}, {\"Book\": \"Job\", \"Chapter\": 7, \"Average Sentiment\": -0.1293857142857143}, {\"Book\": \"Job\", \"Chapter\": 8, \"Average Sentiment\": 0.10660454545454545}, {\"Book\": \"Job\", \"Chapter\": 9, \"Average Sentiment\": 0.10945714285714286}, {\"Book\": \"Job\", \"Chapter\": 10, \"Average Sentiment\": -0.2159909090909091}, {\"Book\": \"Job\", \"Chapter\": 11, \"Average Sentiment\": 0.074785}, {\"Book\": \"Job\", \"Chapter\": 12, \"Average Sentiment\": 0.12106}, {\"Book\": \"Job\", \"Chapter\": 13, \"Average Sentiment\": 0.05363214285714286}, {\"Book\": \"Job\", \"Chapter\": 14, \"Average Sentiment\": -0.08336363636363638}, {\"Book\": \"Job\", \"Chapter\": 15, \"Average Sentiment\": 0.010719999999999997}, {\"Book\": \"Job\", \"Chapter\": 16, \"Average Sentiment\": -0.13498181818181818}, {\"Book\": \"Job\", \"Chapter\": 17, \"Average Sentiment\": -0.0027874999999999983}, {\"Book\": \"Job\", \"Chapter\": 18, \"Average Sentiment\": -0.15532380952380953}, {\"Book\": \"Job\", \"Chapter\": 19, \"Average Sentiment\": -0.09583448275862069}, {\"Book\": \"Job\", \"Chapter\": 20, \"Average Sentiment\": -0.042544827586206896}, {\"Book\": \"Job\", \"Chapter\": 21, \"Average Sentiment\": -0.04830294117647059}, {\"Book\": \"Job\", \"Chapter\": 22, \"Average Sentiment\": 0.10403333333333334}, {\"Book\": \"Job\", \"Chapter\": 23, \"Average Sentiment\": 0.0020882352941176425}, {\"Book\": \"Job\", \"Chapter\": 24, \"Average Sentiment\": -0.28881599999999996}, {\"Book\": \"Job\", \"Chapter\": 25, \"Average Sentiment\": 0.17120000000000002}, {\"Book\": \"Job\", \"Chapter\": 26, \"Average Sentiment\": 0.07550714285714287}, {\"Book\": \"Job\", \"Chapter\": 27, \"Average Sentiment\": 0.010334782608695655}, {\"Book\": \"Job\", \"Chapter\": 28, \"Average Sentiment\": 0.069075}, {\"Book\": \"Job\", \"Chapter\": 29, \"Average Sentiment\": 0.031948}, {\"Book\": \"Job\", \"Chapter\": 30, \"Average Sentiment\": -0.18063870967741935}, {\"Book\": \"Job\", \"Chapter\": 31, \"Average Sentiment\": -0.13558}, {\"Book\": \"Job\", \"Chapter\": 32, \"Average Sentiment\": 0.12617727272727272}, {\"Book\": \"Job\", \"Chapter\": 33, \"Average Sentiment\": 0.1472848484848485}, {\"Book\": \"Job\", \"Chapter\": 34, \"Average Sentiment\": -0.06641621621621621}, {\"Book\": \"Job\", \"Chapter\": 35, \"Average Sentiment\": -0.0037562499999999957}, {\"Book\": \"Job\", \"Chapter\": 36, \"Average Sentiment\": 0.030412121212121213}, {\"Book\": \"Job\", \"Chapter\": 37, \"Average Sentiment\": 0.2866208333333333}, {\"Book\": \"Job\", \"Chapter\": 38, \"Average Sentiment\": 0.01860975609756098}, {\"Book\": \"Job\", \"Chapter\": 39, \"Average Sentiment\": 0.04657666666666667}, {\"Book\": \"Job\", \"Chapter\": 40, \"Average Sentiment\": 0.15235416666666668}, {\"Book\": \"Job\", \"Chapter\": 41, \"Average Sentiment\": 0.027102941176470587}, {\"Book\": \"Job\", \"Chapter\": 42, \"Average Sentiment\": 0.02884705882352942}, {\"Book\": \"Joel\", \"Chapter\": 1, \"Average Sentiment\": -0.195165}, {\"Book\": \"Joel\", \"Chapter\": 2, \"Average Sentiment\": 0.15674375000000002}, {\"Book\": \"Joel\", \"Chapter\": 3, \"Average Sentiment\": 0.05474285714285714}, {\"Book\": \"John\", \"Chapter\": 1, \"Average Sentiment\": 0.09023921568627451}, {\"Book\": \"John\", \"Chapter\": 2, \"Average Sentiment\": -0.008739999999999994}, {\"Book\": \"John\", \"Chapter\": 3, \"Average Sentiment\": 0.22134444444444445}, {\"Book\": \"John\", \"Chapter\": 4, \"Average Sentiment\": 0.09478148148148148}, {\"Book\": \"John\", \"Chapter\": 5, \"Average Sentiment\": 0.0008425531914893551}, {\"Book\": \"John\", \"Chapter\": 6, \"Average Sentiment\": 0.08439718309859155}, {\"Book\": \"John\", \"Chapter\": 7, \"Average Sentiment\": -0.054664150943396224}, {\"Book\": \"John\", \"Chapter\": 8, \"Average Sentiment\": -0.04528983050847458}, {\"Book\": \"John\", \"Chapter\": 9, \"Average Sentiment\": -0.13410975609756098}, {\"Book\": \"John\", \"Chapter\": 10, \"Average Sentiment\": 0.04780952380952381}, {\"Book\": \"John\", \"Chapter\": 11, \"Average Sentiment\": -0.06346666666666667}, {\"Book\": \"John\", \"Chapter\": 12, \"Average Sentiment\": -0.049716}, {\"Book\": \"John\", \"Chapter\": 13, \"Average Sentiment\": 0.06767105263157895}, {\"Book\": \"John\", \"Chapter\": 14, \"Average Sentiment\": 0.21058709677419354}, {\"Book\": \"John\", \"Chapter\": 15, \"Average Sentiment\": 0.2048}, {\"Book\": \"John\", \"Chapter\": 16, \"Average Sentiment\": 0.02923939393939394}, {\"Book\": \"John\", \"Chapter\": 17, \"Average Sentiment\": 0.27815384615384614}, {\"Book\": \"John\", \"Chapter\": 18, \"Average Sentiment\": -0.1426825}, {\"Book\": \"John\", \"Chapter\": 19, \"Average Sentiment\": -0.05735238095238096}, {\"Book\": \"John\", \"Chapter\": 20, \"Average Sentiment\": 0.08981935483870969}, {\"Book\": \"John\", \"Chapter\": 21, \"Average Sentiment\": 0.160952}, {\"Book\": \"Jonah\", \"Chapter\": 1, \"Average Sentiment\": 0.01627058823529412}, {\"Book\": \"Jonah\", \"Chapter\": 2, \"Average Sentiment\": -0.07019}, {\"Book\": \"Jonah\", \"Chapter\": 3, \"Average Sentiment\": -0.04813}, {\"Book\": \"Jonah\", \"Chapter\": 4, \"Average Sentiment\": -0.022154545454545458}, {\"Book\": \"Joshua\", \"Chapter\": 1, \"Average Sentiment\": 0.34637222222222225}, {\"Book\": \"Joshua\", \"Chapter\": 2, \"Average Sentiment\": 0.08510833333333334}, {\"Book\": \"Joshua\", \"Chapter\": 3, \"Average Sentiment\": 0.027541176470588236}, {\"Book\": \"Joshua\", \"Chapter\": 4, \"Average Sentiment\": 0.009895833333333331}, {\"Book\": \"Joshua\", \"Chapter\": 5, \"Average Sentiment\": -0.07668666666666667}, {\"Book\": \"Joshua\", \"Chapter\": 6, \"Average Sentiment\": 0.042866666666666664}, {\"Book\": \"Joshua\", \"Chapter\": 7, \"Average Sentiment\": -0.08773461538461538}, {\"Book\": \"Joshua\", \"Chapter\": 8, \"Average Sentiment\": 0.05126285714285714}, {\"Book\": \"Joshua\", \"Chapter\": 9, \"Average Sentiment\": 0.15802592592592593}, {\"Book\": \"Joshua\", \"Chapter\": 10, \"Average Sentiment\": -0.028341860465116286}, {\"Book\": \"Joshua\", \"Chapter\": 11, \"Average Sentiment\": -0.20032608695652174}, {\"Book\": \"Joshua\", \"Chapter\": 12, \"Average Sentiment\": 0.0}, {\"Book\": \"Joshua\", \"Chapter\": 13, \"Average Sentiment\": -0.010912121212121212}, {\"Book\": \"Joshua\", \"Chapter\": 14, \"Average Sentiment\": 0.31758666666666663}, {\"Book\": \"Joshua\", \"Chapter\": 15, \"Average Sentiment\": 0.02850952380952381}, {\"Book\": \"Joshua\", \"Chapter\": 16, \"Average Sentiment\": 0.01901}, {\"Book\": \"Joshua\", \"Chapter\": 17, \"Average Sentiment\": 0.1512611111111111}, {\"Book\": \"Joshua\", \"Chapter\": 18, \"Average Sentiment\": 0.006992857142857143}, {\"Book\": \"Joshua\", \"Chapter\": 19, \"Average Sentiment\": 0.028429411764705887}, {\"Book\": \"Joshua\", \"Chapter\": 20, \"Average Sentiment\": 0.06575555555555557}, {\"Book\": \"Joshua\", \"Chapter\": 21, \"Average Sentiment\": 0.010426666666666666}, {\"Book\": \"Joshua\", \"Chapter\": 22, \"Average Sentiment\": 0.1832735294117647}, {\"Book\": \"Joshua\", \"Chapter\": 23, \"Average Sentiment\": 0.257625}, {\"Book\": \"Joshua\", \"Chapter\": 24, \"Average Sentiment\": 0.0025151515151515106}, {\"Book\": \"Jude\", \"Chapter\": 1, \"Average Sentiment\": 0.163424}, {\"Book\": \"Judges\", \"Chapter\": 1, \"Average Sentiment\": 0.022008333333333338}, {\"Book\": \"Judges\", \"Chapter\": 2, \"Average Sentiment\": -0.19070869565217394}, {\"Book\": \"Judges\", \"Chapter\": 3, \"Average Sentiment\": -0.10696774193548386}, {\"Book\": \"Judges\", \"Chapter\": 4, \"Average Sentiment\": -0.017908333333333328}, {\"Book\": \"Judges\", \"Chapter\": 5, \"Average Sentiment\": 0.07085483870967742}, {\"Book\": \"Judges\", \"Chapter\": 6, \"Average Sentiment\": 0.07906}, {\"Book\": \"Judges\", \"Chapter\": 7, \"Average Sentiment\": 0.156552}, {\"Book\": \"Judges\", \"Chapter\": 8, \"Average Sentiment\": 0.06159428571428572}, {\"Book\": \"Judges\", \"Chapter\": 9, \"Average Sentiment\": 0.040322807017543864}, {\"Book\": \"Judges\", \"Chapter\": 10, \"Average Sentiment\": -0.30333333333333334}, {\"Book\": \"Judges\", \"Chapter\": 11, \"Average Sentiment\": -0.055975}, {\"Book\": \"Judges\", \"Chapter\": 12, \"Average Sentiment\": -0.19496666666666668}, {\"Book\": \"Judges\", \"Chapter\": 13, \"Average Sentiment\": 0.08291200000000001}, {\"Book\": \"Judges\", \"Chapter\": 14, \"Average Sentiment\": 0.031405}, {\"Book\": \"Judges\", \"Chapter\": 15, \"Average Sentiment\": 0.103885}, {\"Book\": \"Judges\", \"Chapter\": 16, \"Average Sentiment\": 0.05846774193548387}, {\"Book\": \"Judges\", \"Chapter\": 17, \"Average Sentiment\": 0.16205384615384616}, {\"Book\": \"Judges\", \"Chapter\": 18, \"Average Sentiment\": -0.026125806451612894}, {\"Book\": \"Judges\", \"Chapter\": 19, \"Average Sentiment\": 0.09063333333333334}, {\"Book\": \"Judges\", \"Chapter\": 20, \"Average Sentiment\": -0.09564583333333333}, {\"Book\": \"Judges\", \"Chapter\": 21, \"Average Sentiment\": -0.024787999999999998}, {\"Book\": \"Lamentations\", \"Chapter\": 1, \"Average Sentiment\": -0.19965454545454547}, {\"Book\": \"Lamentations\", \"Chapter\": 2, \"Average Sentiment\": -0.30932727272727273}, {\"Book\": \"Lamentations\", \"Chapter\": 3, \"Average Sentiment\": -0.09612121212121211}, {\"Book\": \"Lamentations\", \"Chapter\": 4, \"Average Sentiment\": -0.16078181818181816}, {\"Book\": \"Lamentations\", \"Chapter\": 5, \"Average Sentiment\": -0.040054545454545454}, {\"Book\": \"Leviticus\", \"Chapter\": 1, \"Average Sentiment\": -0.13634117647058824}, {\"Book\": \"Leviticus\", \"Chapter\": 2, \"Average Sentiment\": -0.020025}, {\"Book\": \"Leviticus\", \"Chapter\": 3, \"Average Sentiment\": -0.016300000000000005}, {\"Book\": \"Leviticus\", \"Chapter\": 4, \"Average Sentiment\": -0.2805914285714286}, {\"Book\": \"Leviticus\", \"Chapter\": 5, \"Average Sentiment\": -0.44638947368421056}, {\"Book\": \"Leviticus\", \"Chapter\": 6, \"Average Sentiment\": -0.14981666666666668}, {\"Book\": \"Leviticus\", \"Chapter\": 7, \"Average Sentiment\": 0.051186842105263156}, {\"Book\": \"Leviticus\", \"Chapter\": 8, \"Average Sentiment\": -0.03674722222222223}, {\"Book\": \"Leviticus\", \"Chapter\": 9, \"Average Sentiment\": -0.055325000000000006}, {\"Book\": \"Leviticus\", \"Chapter\": 10, \"Average Sentiment\": -0.12267000000000002}, {\"Book\": \"Leviticus\", \"Chapter\": 11, \"Average Sentiment\": 0.04963191489361702}, {\"Book\": \"Leviticus\", \"Chapter\": 12, \"Average Sentiment\": -0.034437499999999996}, {\"Book\": \"Leviticus\", \"Chapter\": 13, \"Average Sentiment\": 0.08267966101694915}, {\"Book\": \"Leviticus\", \"Chapter\": 14, \"Average Sentiment\": 0.09566140350877193}, {\"Book\": \"Leviticus\", \"Chapter\": 15, \"Average Sentiment\": -0.04408181818181819}, {\"Book\": \"Leviticus\", \"Chapter\": 16, \"Average Sentiment\": -0.2614264705882353}, {\"Book\": \"Leviticus\", \"Chapter\": 17, \"Average Sentiment\": -0.11094375000000001}, {\"Book\": \"Leviticus\", \"Chapter\": 18, \"Average Sentiment\": 0.015029999999999998}, {\"Book\": \"Leviticus\", \"Chapter\": 19, \"Average Sentiment\": 0.04412972972972973}, {\"Book\": \"Leviticus\", \"Chapter\": 20, \"Average Sentiment\": -0.22887407407407406}, {\"Book\": \"Leviticus\", \"Chapter\": 21, \"Average Sentiment\": -0.08413749999999999}, {\"Book\": \"Leviticus\", \"Chapter\": 22, \"Average Sentiment\": -0.10370606060606061}, {\"Book\": \"Leviticus\", \"Chapter\": 23, \"Average Sentiment\": -0.033638636363636364}, {\"Book\": \"Leviticus\", \"Chapter\": 24, \"Average Sentiment\": -0.05730434782608696}, {\"Book\": \"Leviticus\", \"Chapter\": 25, \"Average Sentiment\": 0.07229454545454546}, {\"Book\": \"Leviticus\", \"Chapter\": 26, \"Average Sentiment\": -0.18583260869565216}, {\"Book\": \"Leviticus\", \"Chapter\": 27, \"Average Sentiment\": 0.026897058823529413}, {\"Book\": \"Luke\", \"Chapter\": 1, \"Average Sentiment\": 0.17859}, {\"Book\": \"Luke\", \"Chapter\": 2, \"Average Sentiment\": 0.22381153846153848}, {\"Book\": \"Luke\", \"Chapter\": 3, \"Average Sentiment\": -0.05054210526315789}, {\"Book\": \"Luke\", \"Chapter\": 4, \"Average Sentiment\": 0.04405909090909091}, {\"Book\": \"Luke\", \"Chapter\": 5, \"Average Sentiment\": 0.0826051282051282}, {\"Book\": \"Luke\", \"Chapter\": 6, \"Average Sentiment\": 0.17761224489795918}, {\"Book\": \"Luke\", \"Chapter\": 7, \"Average Sentiment\": 0.062352000000000005}, {\"Book\": \"Luke\", \"Chapter\": 8, \"Average Sentiment\": -0.06065892857142857}, {\"Book\": \"Luke\", \"Chapter\": 9, \"Average Sentiment\": 0.035480645161290326}, {\"Book\": \"Luke\", \"Chapter\": 10, \"Average Sentiment\": 0.16793333333333335}, {\"Book\": \"Luke\", \"Chapter\": 11, \"Average Sentiment\": -0.018735185185185185}, {\"Book\": \"Luke\", \"Chapter\": 12, \"Average Sentiment\": 0.0633949152542373}, {\"Book\": \"Luke\", \"Chapter\": 13, \"Average Sentiment\": 0.06165142857142857}, {\"Book\": \"Luke\", \"Chapter\": 14, \"Average Sentiment\": 0.023448571428571426}, {\"Book\": \"Luke\", \"Chapter\": 15, \"Average Sentiment\": 0.113915625}, {\"Book\": \"Luke\", \"Chapter\": 16, \"Average Sentiment\": 0.03959677419354839}, {\"Book\": \"Luke\", \"Chapter\": 17, \"Average Sentiment\": 0.12585135135135134}, {\"Book\": \"Luke\", \"Chapter\": 18, \"Average Sentiment\": 0.09429534883720932}, {\"Book\": \"Luke\", \"Chapter\": 19, \"Average Sentiment\": 0.007133333333333334}, {\"Book\": \"Luke\", \"Chapter\": 20, \"Average Sentiment\": -0.06442127659574468}, {\"Book\": \"Luke\", \"Chapter\": 21, \"Average Sentiment\": 0.06632631578947368}, {\"Book\": \"Luke\", \"Chapter\": 22, \"Average Sentiment\": 0.013104225352112678}, {\"Book\": \"Luke\", \"Chapter\": 23, \"Average Sentiment\": -0.02700892857142857}, {\"Book\": \"Luke\", \"Chapter\": 24, \"Average Sentiment\": 0.02930188679245284}, {\"Book\": \"Malachi\", \"Chapter\": 1, \"Average Sentiment\": -0.06010714285714286}, {\"Book\": \"Malachi\", \"Chapter\": 2, \"Average Sentiment\": -0.019105882352941174}, {\"Book\": \"Malachi\", \"Chapter\": 3, \"Average Sentiment\": 0.1479777777777778}, {\"Book\": \"Malachi\", \"Chapter\": 4, \"Average Sentiment\": -0.26375}, {\"Book\": \"Mark\", \"Chapter\": 1, \"Average Sentiment\": 0.006268888888888887}, {\"Book\": \"Mark\", \"Chapter\": 2, \"Average Sentiment\": -0.09416785714285714}, {\"Book\": \"Mark\", \"Chapter\": 3, \"Average Sentiment\": 0.025979999999999993}, {\"Book\": \"Mark\", \"Chapter\": 4, \"Average Sentiment\": 0.048929268292682924}, {\"Book\": \"Mark\", \"Chapter\": 5, \"Average Sentiment\": -0.0567813953488372}, {\"Book\": \"Mark\", \"Chapter\": 6, \"Average Sentiment\": -0.06554107142857143}, {\"Book\": \"Mark\", \"Chapter\": 7, \"Average Sentiment\": -0.03277567567567567}, {\"Book\": \"Mark\", \"Chapter\": 8, \"Average Sentiment\": 0.014665789473684217}, {\"Book\": \"Mark\", \"Chapter\": 9, \"Average Sentiment\": -0.060020000000000004}, {\"Book\": \"Mark\", \"Chapter\": 10, \"Average Sentiment\": 0.15842307692307692}, {\"Book\": \"Mark\", \"Chapter\": 11, \"Average Sentiment\": 0.08784242424242425}, {\"Book\": \"Mark\", \"Chapter\": 12, \"Average Sentiment\": -0.03060909090909091}, {\"Book\": \"Mark\", \"Chapter\": 13, \"Average Sentiment\": 0.01654594594594595}, {\"Book\": \"Mark\", \"Chapter\": 14, \"Average Sentiment\": -0.05961388888888889}, {\"Book\": \"Mark\", \"Chapter\": 15, \"Average Sentiment\": -0.05608297872340425}, {\"Book\": \"Mark\", \"Chapter\": 16, \"Average Sentiment\": 0.061860000000000005}, {\"Book\": \"Matthew\", \"Chapter\": 1, \"Average Sentiment\": 0.014975999999999998}, {\"Book\": \"Matthew\", \"Chapter\": 2, \"Average Sentiment\": 0.0788}, {\"Book\": \"Matthew\", \"Chapter\": 3, \"Average Sentiment\": -0.045876470588235296}, {\"Book\": \"Matthew\", \"Chapter\": 4, \"Average Sentiment\": 0.0005520000000000014}, {\"Book\": \"Matthew\", \"Chapter\": 5, \"Average Sentiment\": 0.174875}, {\"Book\": \"Matthew\", \"Chapter\": 6, \"Average Sentiment\": 0.20765588235294116}, {\"Book\": \"Matthew\", \"Chapter\": 7, \"Average Sentiment\": 0.07303103448275862}, {\"Book\": \"Matthew\", \"Chapter\": 8, \"Average Sentiment\": 0.012488235294117649}, {\"Book\": \"Matthew\", \"Chapter\": 9, \"Average Sentiment\": -0.010807894736842101}, {\"Book\": \"Matthew\", \"Chapter\": 10, \"Average Sentiment\": -0.04001428571428571}, {\"Book\": \"Matthew\", \"Chapter\": 11, \"Average Sentiment\": -0.011636666666666668}, {\"Book\": \"Matthew\", \"Chapter\": 12, \"Average Sentiment\": 0.114052}, {\"Book\": \"Matthew\", \"Chapter\": 13, \"Average Sentiment\": 0.09711379310344828}, {\"Book\": \"Matthew\", \"Chapter\": 14, \"Average Sentiment\": 0.06731944444444443}, {\"Book\": \"Matthew\", \"Chapter\": 15, \"Average Sentiment\": 0.02623333333333333}, {\"Book\": \"Matthew\", \"Chapter\": 16, \"Average Sentiment\": 0.03635357142857143}, {\"Book\": \"Matthew\", \"Chapter\": 17, \"Average Sentiment\": -0.035592592592592585}, {\"Book\": \"Matthew\", \"Chapter\": 18, \"Average Sentiment\": 0.07452}, {\"Book\": \"Matthew\", \"Chapter\": 19, \"Average Sentiment\": 0.21747}, {\"Book\": \"Matthew\", \"Chapter\": 20, \"Average Sentiment\": 0.053794117647058826}, {\"Book\": \"Matthew\", \"Chapter\": 21, \"Average Sentiment\": -0.07363913043478262}, {\"Book\": \"Matthew\", \"Chapter\": 22, \"Average Sentiment\": 0.02501521739130435}, {\"Book\": \"Matthew\", \"Chapter\": 23, \"Average Sentiment\": -0.054946153846153846}, {\"Book\": \"Matthew\", \"Chapter\": 24, \"Average Sentiment\": 0.014623529411764709}, {\"Book\": \"Matthew\", \"Chapter\": 25, \"Average Sentiment\": 0.12901739130434783}, {\"Book\": \"Matthew\", \"Chapter\": 26, \"Average Sentiment\": -0.10335333333333334}, {\"Book\": \"Matthew\", \"Chapter\": 27, \"Average Sentiment\": -0.021818181818181816}, {\"Book\": \"Matthew\", \"Chapter\": 28, \"Average Sentiment\": 0.04708000000000001}, {\"Book\": \"Micah\", \"Chapter\": 1, \"Average Sentiment\": -0.13413125}, {\"Book\": \"Micah\", \"Chapter\": 2, \"Average Sentiment\": -0.12886153846153844}, {\"Book\": \"Micah\", \"Chapter\": 3, \"Average Sentiment\": -0.14879166666666666}, {\"Book\": \"Micah\", \"Chapter\": 4, \"Average Sentiment\": 0.10118461538461537}, {\"Book\": \"Micah\", \"Chapter\": 5, \"Average Sentiment\": -0.11398666666666667}, {\"Book\": \"Micah\", \"Chapter\": 6, \"Average Sentiment\": -0.023024999999999997}, {\"Book\": \"Micah\", \"Chapter\": 7, \"Average Sentiment\": 0.10479500000000001}, {\"Book\": \"Nahum\", \"Chapter\": 1, \"Average Sentiment\": -0.34314}, {\"Book\": \"Nahum\", \"Chapter\": 2, \"Average Sentiment\": -0.01897692307692308}, {\"Book\": \"Nahum\", \"Chapter\": 3, \"Average Sentiment\": 0.008542105263157894}, {\"Book\": \"Nehemiah\", \"Chapter\": 1, \"Average Sentiment\": 0.31871818181818184}, {\"Book\": \"Nehemiah\", \"Chapter\": 2, \"Average Sentiment\": 0.056555}, {\"Book\": \"Nehemiah\", \"Chapter\": 3, \"Average Sentiment\": 0.0035718749999999987}, {\"Book\": \"Nehemiah\", \"Chapter\": 4, \"Average Sentiment\": -0.07807826086956521}, {\"Book\": \"Nehemiah\", \"Chapter\": 5, \"Average Sentiment\": 0.07313157894736842}, {\"Book\": \"Nehemiah\", \"Chapter\": 6, \"Average Sentiment\": -0.02160526315789473}, {\"Book\": \"Nehemiah\", \"Chapter\": 7, \"Average Sentiment\": 0.012382191780821917}, {\"Book\": \"Nehemiah\", \"Chapter\": 8, \"Average Sentiment\": 0.2715388888888889}, {\"Book\": \"Nehemiah\", \"Chapter\": 9, \"Average Sentiment\": 0.31754736842105263}, {\"Book\": \"Nehemiah\", \"Chapter\": 10, \"Average Sentiment\": 0.03815641025641026}, {\"Book\": \"Nehemiah\", \"Chapter\": 11, \"Average Sentiment\": 0.09475555555555555}, {\"Book\": \"Nehemiah\", \"Chapter\": 12, \"Average Sentiment\": 0.11564893617021277}, {\"Book\": \"Nehemiah\", \"Chapter\": 13, \"Average Sentiment\": 0.02089677419354839}, {\"Book\": \"Numbers\", \"Chapter\": 1, \"Average Sentiment\": -0.16239444444444442}, {\"Book\": \"Numbers\", \"Chapter\": 2, \"Average Sentiment\": 0.0}, {\"Book\": \"Numbers\", \"Chapter\": 3, \"Average Sentiment\": -0.010582352941176472}, {\"Book\": \"Numbers\", \"Chapter\": 4, \"Average Sentiment\": -0.025142857142857147}, {\"Book\": \"Numbers\", \"Chapter\": 5, \"Average Sentiment\": -0.24900645161290322}, {\"Book\": \"Numbers\", \"Chapter\": 6, \"Average Sentiment\": 0.0680888888888889}, {\"Book\": \"Numbers\", \"Chapter\": 7, \"Average Sentiment\": 0.03467865168539326}, {\"Book\": \"Numbers\", \"Chapter\": 8, \"Average Sentiment\": -0.06719615384615385}, {\"Book\": \"Numbers\", \"Chapter\": 9, \"Average Sentiment\": -0.1331608695652174}, {\"Book\": \"Numbers\", \"Chapter\": 10, \"Average Sentiment\": -0.0018333333333333287}, {\"Book\": \"Numbers\", \"Chapter\": 11, \"Average Sentiment\": -0.08291714285714286}, {\"Book\": \"Numbers\", \"Chapter\": 12, \"Average Sentiment\": -0.008168749999999989}, {\"Book\": \"Numbers\", \"Chapter\": 13, \"Average Sentiment\": 0.0977969696969697}, {\"Book\": \"Numbers\", \"Chapter\": 14, \"Average Sentiment\": 0.038375555555555566}, {\"Book\": \"Numbers\", \"Chapter\": 15, \"Average Sentiment\": -0.031163414634146343}, {\"Book\": \"Numbers\", \"Chapter\": 16, \"Average Sentiment\": -0.07080600000000001}, {\"Book\": \"Numbers\", \"Chapter\": 17, \"Average Sentiment\": -0.14535384615384617}, {\"Book\": \"Numbers\", \"Chapter\": 18, \"Average Sentiment\": 0.0827625}, {\"Book\": \"Numbers\", \"Chapter\": 19, \"Average Sentiment\": -0.1355909090909091}, {\"Book\": \"Numbers\", \"Chapter\": 20, \"Average Sentiment\": -0.12015862068965517}, {\"Book\": \"Numbers\", \"Chapter\": 21, \"Average Sentiment\": -0.10573142857142857}, {\"Book\": \"Numbers\", \"Chapter\": 22, \"Average Sentiment\": -0.025397560975609752}, {\"Book\": \"Numbers\", \"Chapter\": 23, \"Average Sentiment\": 0.03165666666666667}, {\"Book\": \"Numbers\", \"Chapter\": 24, \"Average Sentiment\": 0.027615999999999995}, {\"Book\": \"Numbers\", \"Chapter\": 25, \"Average Sentiment\": -0.06863888888888889}, {\"Book\": \"Numbers\", \"Chapter\": 26, \"Average Sentiment\": -0.050566153846153844}, {\"Book\": \"Numbers\", \"Chapter\": 27, \"Average Sentiment\": -0.04436521739130435}, {\"Book\": \"Numbers\", \"Chapter\": 28, \"Average Sentiment\": -0.04362903225806451}, {\"Book\": \"Numbers\", \"Chapter\": 29, \"Average Sentiment\": -0.09892999999999999}, {\"Book\": \"Numbers\", \"Chapter\": 30, \"Average Sentiment\": 0.22746875}, {\"Book\": \"Numbers\", \"Chapter\": 31, \"Average Sentiment\": -0.1768814814814815}, {\"Book\": \"Numbers\", \"Chapter\": 32, \"Average Sentiment\": -0.10732142857142855}, {\"Book\": \"Numbers\", \"Chapter\": 33, \"Average Sentiment\": -0.04202678571428571}, {\"Book\": \"Numbers\", \"Chapter\": 34, \"Average Sentiment\": 0.04398620689655173}, {\"Book\": \"Numbers\", \"Chapter\": 35, \"Average Sentiment\": -0.3100411764705882}, {\"Book\": \"Numbers\", \"Chapter\": 36, \"Average Sentiment\": 0.1459923076923077}, {\"Book\": \"Obadiah\", \"Chapter\": 1, \"Average Sentiment\": -0.1469952380952381}, {\"Book\": \"Philemon\", \"Chapter\": 1, \"Average Sentiment\": 0.305892}, {\"Book\": \"Philippians\", \"Chapter\": 1, \"Average Sentiment\": 0.33537}, {\"Book\": \"Philippians\", \"Chapter\": 2, \"Average Sentiment\": 0.19192333333333333}, {\"Book\": \"Philippians\", \"Chapter\": 3, \"Average Sentiment\": 0.17500000000000002}, {\"Book\": \"Philippians\", \"Chapter\": 4, \"Average Sentiment\": 0.40677391304347826}, {\"Book\": \"Proverbs\", \"Chapter\": 1, \"Average Sentiment\": 0.008024242424242418}, {\"Book\": \"Proverbs\", \"Chapter\": 2, \"Average Sentiment\": 0.04412727272727273}, {\"Book\": \"Proverbs\", \"Chapter\": 3, \"Average Sentiment\": 0.18525714285714287}, {\"Book\": \"Proverbs\", \"Chapter\": 4, \"Average Sentiment\": 0.07895925925925926}, {\"Book\": \"Proverbs\", \"Chapter\": 5, \"Average Sentiment\": -0.08457826086956521}, {\"Book\": \"Proverbs\", \"Chapter\": 6, \"Average Sentiment\": -0.06321142857142857}, {\"Book\": \"Proverbs\", \"Chapter\": 7, \"Average Sentiment\": 0.04152222222222223}, {\"Book\": \"Proverbs\", \"Chapter\": 8, \"Average Sentiment\": 0.2470611111111111}, {\"Book\": \"Proverbs\", \"Chapter\": 9, \"Average Sentiment\": 0.023316666666666666}, {\"Book\": \"Proverbs\", \"Chapter\": 10, \"Average Sentiment\": -0.281603125}, {\"Book\": \"Proverbs\", \"Chapter\": 11, \"Average Sentiment\": 0.0316258064516129}, {\"Book\": \"Proverbs\", \"Chapter\": 12, \"Average Sentiment\": -0.19330714285714287}, {\"Book\": \"Proverbs\", \"Chapter\": 13, \"Average Sentiment\": -0.09220800000000001}, {\"Book\": \"Proverbs\", \"Chapter\": 14, \"Average Sentiment\": -0.09169428571428571}, {\"Book\": \"Proverbs\", \"Chapter\": 15, \"Average Sentiment\": -0.11996666666666667}, {\"Book\": \"Proverbs\", \"Chapter\": 16, \"Average Sentiment\": 0.12777272727272726}, {\"Book\": \"Proverbs\", \"Chapter\": 17, \"Average Sentiment\": -0.06846785714285712}, {\"Book\": \"Proverbs\", \"Chapter\": 18, \"Average Sentiment\": 0.2627083333333333}, {\"Book\": \"Proverbs\", \"Chapter\": 19, \"Average Sentiment\": -0.11309655172413792}, {\"Book\": \"Proverbs\", \"Chapter\": 20, \"Average Sentiment\": 0.004606666666666666}, {\"Book\": \"Proverbs\", \"Chapter\": 21, \"Average Sentiment\": -0.0688258064516129}, {\"Book\": \"Proverbs\", \"Chapter\": 22, \"Average Sentiment\": 0.1284448275862069}, {\"Book\": \"Proverbs\", \"Chapter\": 23, \"Average Sentiment\": -0.03842285714285714}, {\"Book\": \"Proverbs\", \"Chapter\": 24, \"Average Sentiment\": -0.0009970588235294064}, {\"Book\": \"Proverbs\", \"Chapter\": 25, \"Average Sentiment\": 0.0676892857142857}, {\"Book\": \"Proverbs\", \"Chapter\": 26, \"Average Sentiment\": -0.1150392857142857}, {\"Book\": \"Proverbs\", \"Chapter\": 27, \"Average Sentiment\": 0.12481481481481481}, {\"Book\": \"Proverbs\", \"Chapter\": 28, \"Average Sentiment\": -0.062282142857142855}, {\"Book\": \"Proverbs\", \"Chapter\": 29, \"Average Sentiment\": -0.06732222222222221}, {\"Book\": \"Proverbs\", \"Chapter\": 30, \"Average Sentiment\": -0.10897878787878788}, {\"Book\": \"Proverbs\", \"Chapter\": 31, \"Average Sentiment\": 0.1252451612903226}, {\"Book\": \"Psalms\", \"Chapter\": 1, \"Average Sentiment\": 0.32421666666666665}, {\"Book\": \"Psalms\", \"Chapter\": 2, \"Average Sentiment\": 0.06730833333333333}, {\"Book\": \"Psalms\", \"Chapter\": 3, \"Average Sentiment\": 0.08938750000000001}, {\"Book\": \"Psalms\", \"Chapter\": 4, \"Average Sentiment\": 0.264575}, {\"Book\": \"Psalms\", \"Chapter\": 5, \"Average Sentiment\": 0.0037166666666666646}, {\"Book\": \"Psalms\", \"Chapter\": 6, \"Average Sentiment\": -0.25884}, {\"Book\": \"Psalms\", \"Chapter\": 7, \"Average Sentiment\": -0.025105882352941172}, {\"Book\": \"Psalms\", \"Chapter\": 8, \"Average Sentiment\": 0.23266666666666666}, {\"Book\": \"Psalms\", \"Chapter\": 9, \"Average Sentiment\": -0.121665}, {\"Book\": \"Psalms\", \"Chapter\": 10, \"Average Sentiment\": -0.3433777777777778}, {\"Book\": \"Psalms\", \"Chapter\": 11, \"Average Sentiment\": -0.24862857142857142}, {\"Book\": \"Psalms\", \"Chapter\": 12, \"Average Sentiment\": -0.0052624999999999825}, {\"Book\": \"Psalms\", \"Chapter\": 13, \"Average Sentiment\": -0.21930000000000002}, {\"Book\": \"Psalms\", \"Chapter\": 14, \"Average Sentiment\": -0.061914285714285734}, {\"Book\": \"Psalms\", \"Chapter\": 15, \"Average Sentiment\": 0.003619999999999968}, {\"Book\": \"Psalms\", \"Chapter\": 16, \"Average Sentiment\": 0.3965090909090909}, {\"Book\": \"Psalms\", \"Chapter\": 17, \"Average Sentiment\": -0.0006266666666666569}, {\"Book\": \"Psalms\", \"Chapter\": 18, \"Average Sentiment\": 0.072362}, {\"Book\": \"Psalms\", \"Chapter\": 19, \"Average Sentiment\": 0.3813785714285714}, {\"Book\": \"Psalms\", \"Chapter\": 20, \"Average Sentiment\": 0.3966888888888889}, {\"Book\": \"Psalms\", \"Chapter\": 21, \"Average Sentiment\": 0.23908461538461537}, {\"Book\": \"Psalms\", \"Chapter\": 22, \"Average Sentiment\": 0.21478387096774196}, {\"Book\": \"Psalms\", \"Chapter\": 23, \"Average Sentiment\": -0.10321666666666668}, {\"Book\": \"Psalms\", \"Chapter\": 24, \"Average Sentiment\": 0.3491}, {\"Book\": \"Psalms\", \"Chapter\": 25, \"Average Sentiment\": 0.07799545454545455}, {\"Book\": \"Psalms\", \"Chapter\": 26, \"Average Sentiment\": 0.19701666666666665}, {\"Book\": \"Psalms\", \"Chapter\": 27, \"Average Sentiment\": -0.002228571428571429}, {\"Book\": \"Psalms\", \"Chapter\": 28, \"Average Sentiment\": 0.08863333333333334}, {\"Book\": \"Psalms\", \"Chapter\": 29, \"Average Sentiment\": 0.4006272727272728}, {\"Book\": \"Psalms\", \"Chapter\": 30, \"Average Sentiment\": 0.28805}, {\"Book\": \"Psalms\", \"Chapter\": 31, \"Average Sentiment\": 0.17994583333333333}, {\"Book\": \"Psalms\", \"Chapter\": 32, \"Average Sentiment\": 0.14208181818181817}, {\"Book\": \"Psalms\", \"Chapter\": 33, \"Average Sentiment\": 0.3054727272727273}, {\"Book\": \"Psalms\", \"Chapter\": 34, \"Average Sentiment\": -0.20427272727272727}, {\"Book\": \"Psalms\", \"Chapter\": 35, \"Average Sentiment\": -0.08243214285714286}, {\"Book\": \"Psalms\", \"Chapter\": 36, \"Average Sentiment\": 0.11718333333333332}, {\"Book\": \"Psalms\", \"Chapter\": 37, \"Average Sentiment\": 0.027872500000000005}, {\"Book\": \"Psalms\", \"Chapter\": 38, \"Average Sentiment\": -0.15976363636363636}, {\"Book\": \"Psalms\", \"Chapter\": 39, \"Average Sentiment\": 0.02205384615384616}, {\"Book\": \"Psalms\", \"Chapter\": 40, \"Average Sentiment\": 0.13347647058823528}, {\"Book\": \"Psalms\", \"Chapter\": 41, \"Average Sentiment\": -0.07500769230769232}, {\"Book\": \"Psalms\", \"Chapter\": 42, \"Average Sentiment\": 0.28296363636363636}, {\"Book\": \"Psalms\", \"Chapter\": 43, \"Average Sentiment\": 0.22946}, {\"Book\": \"Psalms\", \"Chapter\": 44, \"Average Sentiment\": -0.12676923076923077}, {\"Book\": \"Psalms\", \"Chapter\": 45, \"Average Sentiment\": 0.39123529411764707}, {\"Book\": \"Psalms\", \"Chapter\": 46, \"Average Sentiment\": 0.13373636363636363}, {\"Book\": \"Psalms\", \"Chapter\": 47, \"Average Sentiment\": 0.5009}, {\"Book\": \"Psalms\", \"Chapter\": 48, \"Average Sentiment\": 0.23250714285714286}, {\"Book\": \"Psalms\", \"Chapter\": 49, \"Average Sentiment\": 0.10422000000000001}, {\"Book\": \"Psalms\", \"Chapter\": 50, \"Average Sentiment\": 0.09502608695652173}, {\"Book\": \"Psalms\", \"Chapter\": 51, \"Average Sentiment\": 0.18502105263157895}, {\"Book\": \"Psalms\", \"Chapter\": 52, \"Average Sentiment\": 0.19104444444444443}, {\"Book\": \"Psalms\", \"Chapter\": 53, \"Average Sentiment\": -0.14035}, {\"Book\": \"Psalms\", \"Chapter\": 54, \"Average Sentiment\": 0.1738714285714286}, {\"Book\": \"Psalms\", \"Chapter\": 55, \"Average Sentiment\": -0.2859608695652174}, {\"Book\": \"Psalms\", \"Chapter\": 56, \"Average Sentiment\": 0.026915384615384622}, {\"Book\": \"Psalms\", \"Chapter\": 57, \"Average Sentiment\": 0.45548181818181815}, {\"Book\": \"Psalms\", \"Chapter\": 58, \"Average Sentiment\": 0.002845454545454555}, {\"Book\": \"Psalms\", \"Chapter\": 59, \"Average Sentiment\": 0.19487058823529413}, {\"Book\": \"Psalms\", \"Chapter\": 60, \"Average Sentiment\": 0.09091666666666669}, {\"Book\": \"Psalms\", \"Chapter\": 61, \"Average Sentiment\": 0.09993750000000001}, {\"Book\": \"Psalms\", \"Chapter\": 62, \"Average Sentiment\": 0.29075833333333334}, {\"Book\": \"Psalms\", \"Chapter\": 63, \"Average Sentiment\": 0.35203636363636365}, {\"Book\": \"Psalms\", \"Chapter\": 64, \"Average Sentiment\": -0.11152999999999999}, {\"Book\": \"Psalms\", \"Chapter\": 65, \"Average Sentiment\": 0.3176307692307692}, {\"Book\": \"Psalms\", \"Chapter\": 66, \"Average Sentiment\": 0.14807}, {\"Book\": \"Psalms\", \"Chapter\": 67, \"Average Sentiment\": 0.5809714285714286}, {\"Book\": \"Psalms\", \"Chapter\": 68, \"Average Sentiment\": 0.27361714285714284}, {\"Book\": \"Psalms\", \"Chapter\": 69, \"Average Sentiment\": -0.09277777777777778}, {\"Book\": \"Psalms\", \"Chapter\": 70, \"Average Sentiment\": 0.06641999999999999}, {\"Book\": \"Psalms\", \"Chapter\": 71, \"Average Sentiment\": 0.3363125}, {\"Book\": \"Psalms\", \"Chapter\": 72, \"Average Sentiment\": 0.09698500000000002}, {\"Book\": \"Psalms\", \"Chapter\": 73, \"Average Sentiment\": 0.10119642857142856}, {\"Book\": \"Psalms\", \"Chapter\": 74, \"Average Sentiment\": -0.1662695652173913}, {\"Book\": \"Psalms\", \"Chapter\": 75, \"Average Sentiment\": 0.038209999999999994}, {\"Book\": \"Psalms\", \"Chapter\": 76, \"Average Sentiment\": 0.04280833333333334}, {\"Book\": \"Psalms\", \"Chapter\": 77, \"Average Sentiment\": 0.18524000000000002}, {\"Book\": \"Psalms\", \"Chapter\": 78, \"Average Sentiment\": 0.031818055555555565}, {\"Book\": \"Psalms\", \"Chapter\": 79, \"Average Sentiment\": -0.06064615384615386}, {\"Book\": \"Psalms\", \"Chapter\": 80, \"Average Sentiment\": 0.22310526315789472}, {\"Book\": \"Psalms\", \"Chapter\": 81, \"Average Sentiment\": 0.0350375}, {\"Book\": \"Psalms\", \"Chapter\": 82, \"Average Sentiment\": -0.139425}, {\"Book\": \"Psalms\", \"Chapter\": 83, \"Average Sentiment\": -0.15883333333333333}, {\"Book\": \"Psalms\", \"Chapter\": 84, \"Average Sentiment\": 0.485025}, {\"Book\": \"Psalms\", \"Chapter\": 85, \"Average Sentiment\": 0.15376923076923077}, {\"Book\": \"Psalms\", \"Chapter\": 86, \"Average Sentiment\": 0.1942470588235294}, {\"Book\": \"Psalms\", \"Chapter\": 87, \"Average Sentiment\": 0.14517142857142856}, {\"Book\": \"Psalms\", \"Chapter\": 88, \"Average Sentiment\": -0.26084999999999997}, {\"Book\": \"Psalms\", \"Chapter\": 89, \"Average Sentiment\": 0.15948269230769233}, {\"Book\": \"Psalms\", \"Chapter\": 90, \"Average Sentiment\": 0.008047058823529407}, {\"Book\": \"Psalms\", \"Chapter\": 91, \"Average Sentiment\": 0.15261875}, {\"Book\": \"Psalms\", \"Chapter\": 92, \"Average Sentiment\": 0.12338}, {\"Book\": \"Psalms\", \"Chapter\": 93, \"Average Sentiment\": 0.17486000000000002}, {\"Book\": \"Psalms\", \"Chapter\": 94, \"Average Sentiment\": -0.015243478260869567}, {\"Book\": \"Psalms\", \"Chapter\": 95, \"Average Sentiment\": 0.30169090909090907}, {\"Book\": \"Psalms\", \"Chapter\": 96, \"Average Sentiment\": 0.5167153846153846}, {\"Book\": \"Psalms\", \"Chapter\": 97, \"Average Sentiment\": 0.16827500000000004}, {\"Book\": \"Psalms\", \"Chapter\": 98, \"Average Sentiment\": 0.3795888888888889}, {\"Book\": \"Psalms\", \"Chapter\": 99, \"Average Sentiment\": 0.3545111111111111}, {\"Book\": \"Psalms\", \"Chapter\": 100, \"Average Sentiment\": 0.50444}, {\"Book\": \"Psalms\", \"Chapter\": 101, \"Average Sentiment\": 0.06938749999999999}, {\"Book\": \"Psalms\", \"Chapter\": 102, \"Average Sentiment\": 0.1214857142857143}, {\"Book\": \"Psalms\", \"Chapter\": 103, \"Average Sentiment\": 0.1017}, {\"Book\": \"Psalms\", \"Chapter\": 104, \"Average Sentiment\": 0.21283714285714286}, {\"Book\": \"Psalms\", \"Chapter\": 105, \"Average Sentiment\": 0.06639333333333333}, {\"Book\": \"Psalms\", \"Chapter\": 106, \"Average Sentiment\": 0.019441666666666673}, {\"Book\": \"Psalms\", \"Chapter\": 107, \"Average Sentiment\": 0.008644186046511633}, {\"Book\": \"Psalms\", \"Chapter\": 108, \"Average Sentiment\": 0.4304846153846154}, {\"Book\": \"Psalms\", \"Chapter\": 109, \"Average Sentiment\": 0.0036225806451612905}, {\"Book\": \"Psalms\", \"Chapter\": 110, \"Average Sentiment\": 0.04}, {\"Book\": \"Psalms\", \"Chapter\": 111, \"Average Sentiment\": 0.42386}, {\"Book\": \"Psalms\", \"Chapter\": 112, \"Average Sentiment\": 0.28303}, {\"Book\": \"Psalms\", \"Chapter\": 113, \"Average Sentiment\": 0.44275555555555557}, {\"Book\": \"Psalms\", \"Chapter\": 114, \"Average Sentiment\": 0.1278125}, {\"Book\": \"Psalms\", \"Chapter\": 115, \"Average Sentiment\": 0.4365277777777778}, {\"Book\": \"Psalms\", \"Chapter\": 116, \"Average Sentiment\": -0.025478947368421052}, {\"Book\": \"Psalms\", \"Chapter\": 117, \"Average Sentiment\": 0.8603000000000001}, {\"Book\": \"Psalms\", \"Chapter\": 118, \"Average Sentiment\": 0.24894137931034485}, {\"Book\": \"Psalms\", \"Chapter\": 119, \"Average Sentiment\": 0.1564693181818182}, {\"Book\": \"Psalms\", \"Chapter\": 120, \"Average Sentiment\": -0.2748857142857143}, {\"Book\": \"Psalms\", \"Chapter\": 121, \"Average Sentiment\": 0.1731875}, {\"Book\": \"Psalms\", \"Chapter\": 122, \"Average Sentiment\": 0.3856888888888889}, {\"Book\": \"Psalms\", \"Chapter\": 123, \"Average Sentiment\": 0.3827}, {\"Book\": \"Psalms\", \"Chapter\": 124, \"Average Sentiment\": 0.17117500000000002}, {\"Book\": \"Psalms\", \"Chapter\": 125, \"Average Sentiment\": 0.23076000000000002}, {\"Book\": \"Psalms\", \"Chapter\": 126, \"Average Sentiment\": 0.5736666666666667}, {\"Book\": \"Psalms\", \"Chapter\": 127, \"Average Sentiment\": -0.03562}, {\"Book\": \"Psalms\", \"Chapter\": 128, \"Average Sentiment\": 0.5822333333333334}, {\"Book\": \"Psalms\", \"Chapter\": 129, \"Average Sentiment\": -0.2042375}, {\"Book\": \"Psalms\", \"Chapter\": 130, \"Average Sentiment\": 0.040799999999999996}, {\"Book\": \"Psalms\", \"Chapter\": 131, \"Average Sentiment\": 0.5059}, {\"Book\": \"Psalms\", \"Chapter\": 132, \"Average Sentiment\": 0.21323333333333333}, {\"Book\": \"Psalms\", \"Chapter\": 133, \"Average Sentiment\": 0.6730333333333333}, {\"Book\": \"Psalms\", \"Chapter\": 134, \"Average Sentiment\": 0.5233}, {\"Book\": \"Psalms\", \"Chapter\": 135, \"Average Sentiment\": 0.32966190476190477}, {\"Book\": \"Psalms\", \"Chapter\": 136, \"Average Sentiment\": 0.49162692307692313}, {\"Book\": \"Psalms\", \"Chapter\": 137, \"Average Sentiment\": 0.09223333333333333}, {\"Book\": \"Psalms\", \"Chapter\": 138, \"Average Sentiment\": 0.660525}, {\"Book\": \"Psalms\", \"Chapter\": 139, \"Average Sentiment\": 0.05012500000000001}, {\"Book\": \"Psalms\", \"Chapter\": 140, \"Average Sentiment\": -0.1691153846153846}, {\"Book\": \"Psalms\", \"Chapter\": 141, \"Average Sentiment\": 0.009790000000000004}, {\"Book\": \"Psalms\", \"Chapter\": 142, \"Average Sentiment\": -0.3059142857142857}, {\"Book\": \"Psalms\", \"Chapter\": 143, \"Average Sentiment\": -0.023166666666666665}, {\"Book\": \"Psalms\", \"Chapter\": 144, \"Average Sentiment\": 0.25592666666666664}, {\"Book\": \"Psalms\", \"Chapter\": 145, \"Average Sentiment\": 0.37901904761904764}, {\"Book\": \"Psalms\", \"Chapter\": 146, \"Average Sentiment\": 0.17980999999999997}, {\"Book\": \"Psalms\", \"Chapter\": 147, \"Average Sentiment\": 0.23424499999999998}, {\"Book\": \"Psalms\", \"Chapter\": 148, \"Average Sentiment\": 0.4364642857142857}, {\"Book\": \"Psalms\", \"Chapter\": 149, \"Average Sentiment\": 0.5798666666666666}, {\"Book\": \"Psalms\", \"Chapter\": 150, \"Average Sentiment\": 0.8371333333333334}, {\"Book\": \"Revelation\", \"Chapter\": 1, \"Average Sentiment\": 0.21007000000000003}, {\"Book\": \"Revelation\", \"Chapter\": 2, \"Average Sentiment\": -0.008106896551724143}, {\"Book\": \"Revelation\", \"Chapter\": 3, \"Average Sentiment\": 0.16440909090909092}, {\"Book\": \"Revelation\", \"Chapter\": 4, \"Average Sentiment\": 0.47040909090909094}, {\"Book\": \"Revelation\", \"Chapter\": 5, \"Average Sentiment\": 0.33313571428571426}, {\"Book\": \"Revelation\", \"Chapter\": 6, \"Average Sentiment\": 0.14263529411764708}, {\"Book\": \"Revelation\", \"Chapter\": 7, \"Average Sentiment\": 0.10191176470588235}, {\"Book\": \"Revelation\", \"Chapter\": 8, \"Average Sentiment\": 0.0055615384615384554}, {\"Book\": \"Revelation\", \"Chapter\": 9, \"Average Sentiment\": 0.0035142857142857237}, {\"Book\": \"Revelation\", \"Chapter\": 10, \"Average Sentiment\": 0.3619727272727273}, {\"Book\": \"Revelation\", \"Chapter\": 11, \"Average Sentiment\": 0.1939578947368421}, {\"Book\": \"Revelation\", \"Chapter\": 12, \"Average Sentiment\": 0.19159411764705883}, {\"Book\": \"Revelation\", \"Chapter\": 13, \"Average Sentiment\": 0.25103333333333333}, {\"Book\": \"Revelation\", \"Chapter\": 14, \"Average Sentiment\": 0.20749999999999996}, {\"Book\": \"Revelation\", \"Chapter\": 15, \"Average Sentiment\": 0.5093624999999999}, {\"Book\": \"Revelation\", \"Chapter\": 16, \"Average Sentiment\": 0.24754285714285715}, {\"Book\": \"Revelation\", \"Chapter\": 17, \"Average Sentiment\": 0.17073333333333332}, {\"Book\": \"Revelation\", \"Chapter\": 18, \"Average Sentiment\": 0.12883333333333333}, {\"Book\": \"Revelation\", \"Chapter\": 19, \"Average Sentiment\": 0.4733809523809524}, {\"Book\": \"Revelation\", \"Chapter\": 20, \"Average Sentiment\": -0.27142666666666665}, {\"Book\": \"Revelation\", \"Chapter\": 21, \"Average Sentiment\": 0.283737037037037}, {\"Book\": \"Revelation\", \"Chapter\": 22, \"Average Sentiment\": 0.23084761904761905}, {\"Book\": \"Romans\", \"Chapter\": 1, \"Average Sentiment\": 0.30019375}, {\"Book\": \"Romans\", \"Chapter\": 2, \"Average Sentiment\": 0.21190344827586208}, {\"Book\": \"Romans\", \"Chapter\": 3, \"Average Sentiment\": 0.18714193548387098}, {\"Book\": \"Romans\", \"Chapter\": 4, \"Average Sentiment\": 0.2134}, {\"Book\": \"Romans\", \"Chapter\": 5, \"Average Sentiment\": 0.10091428571428572}, {\"Book\": \"Romans\", \"Chapter\": 6, \"Average Sentiment\": -0.26713478260869566}, {\"Book\": \"Romans\", \"Chapter\": 7, \"Average Sentiment\": -0.381488}, {\"Book\": \"Romans\", \"Chapter\": 8, \"Average Sentiment\": 0.21860256410256412}, {\"Book\": \"Romans\", \"Chapter\": 9, \"Average Sentiment\": 0.24703030303030307}, {\"Book\": \"Romans\", \"Chapter\": 10, \"Average Sentiment\": 0.20026666666666665}, {\"Book\": \"Romans\", \"Chapter\": 11, \"Average Sentiment\": 0.14974444444444446}, {\"Book\": \"Romans\", \"Chapter\": 12, \"Average Sentiment\": 0.257047619047619}, {\"Book\": \"Romans\", \"Chapter\": 13, \"Average Sentiment\": 0.12579285714285712}, {\"Book\": \"Romans\", \"Chapter\": 14, \"Average Sentiment\": -0.07038695652173912}, {\"Book\": \"Romans\", \"Chapter\": 15, \"Average Sentiment\": 0.4545757575757576}, {\"Book\": \"Romans\", \"Chapter\": 16, \"Average Sentiment\": 0.300562962962963}, {\"Book\": \"Ruth\", \"Chapter\": 1, \"Average Sentiment\": -0.015981818181818184}, {\"Book\": \"Ruth\", \"Chapter\": 2, \"Average Sentiment\": 0.2072782608695652}, {\"Book\": \"Ruth\", \"Chapter\": 3, \"Average Sentiment\": 0.12021111111111112}, {\"Book\": \"Ruth\", \"Chapter\": 4, \"Average Sentiment\": 0.042077272727272734}, {\"Book\": \"Song of Solomon\", \"Chapter\": 1, \"Average Sentiment\": 0.33196470588235294}, {\"Book\": \"Song of Solomon\", \"Chapter\": 2, \"Average Sentiment\": 0.4694705882352941}, {\"Book\": \"Song of Solomon\", \"Chapter\": 3, \"Average Sentiment\": -0.005827272727272722}, {\"Book\": \"Song of Solomon\", \"Chapter\": 4, \"Average Sentiment\": 0.38421875}, {\"Book\": \"Song of Solomon\", \"Chapter\": 5, \"Average Sentiment\": 0.50341875}, {\"Book\": \"Song of Solomon\", \"Chapter\": 6, \"Average Sentiment\": 0.2775461538461539}, {\"Book\": \"Song of Solomon\", \"Chapter\": 7, \"Average Sentiment\": 0.5865076923076923}, {\"Book\": \"Song of Solomon\", \"Chapter\": 8, \"Average Sentiment\": -0.0021571428571428497}, {\"Book\": \"Titus\", \"Chapter\": 1, \"Average Sentiment\": 0.30603125}, {\"Book\": \"Titus\", \"Chapter\": 2, \"Average Sentiment\": 0.31168}, {\"Book\": \"Titus\", \"Chapter\": 3, \"Average Sentiment\": 0.20323333333333335}, {\"Book\": \"Zechariah\", \"Chapter\": 1, \"Average Sentiment\": -0.1161095238095238}, {\"Book\": \"Zechariah\", \"Chapter\": 2, \"Average Sentiment\": 0.21814615384615385}, {\"Book\": \"Zechariah\", \"Chapter\": 3, \"Average Sentiment\": 0.05832999999999999}, {\"Book\": \"Zechariah\", \"Chapter\": 4, \"Average Sentiment\": 0.08149285714285713}, {\"Book\": \"Zechariah\", \"Chapter\": 5, \"Average Sentiment\": -0.05939090909090909}, {\"Book\": \"Zechariah\", \"Chapter\": 6, \"Average Sentiment\": 0.08262666666666665}, {\"Book\": \"Zechariah\", \"Chapter\": 7, \"Average Sentiment\": -0.050185714285714285}, {\"Book\": \"Zechariah\", \"Chapter\": 8, \"Average Sentiment\": 0.2395}, {\"Book\": \"Zechariah\", \"Chapter\": 9, \"Average Sentiment\": 0.009764705882352943}, {\"Book\": \"Zechariah\", \"Chapter\": 10, \"Average Sentiment\": 0.09245833333333331}, {\"Book\": \"Zechariah\", \"Chapter\": 11, \"Average Sentiment\": -0.012670588235294116}, {\"Book\": \"Zechariah\", \"Chapter\": 12, \"Average Sentiment\": -0.08109285714285716}, {\"Book\": \"Zechariah\", \"Chapter\": 13, \"Average Sentiment\": -0.21483333333333332}, {\"Book\": \"Zechariah\", \"Chapter\": 14, \"Average Sentiment\": 0.044176190476190466}, {\"Book\": \"Zephaniah\", \"Chapter\": 1, \"Average Sentiment\": -0.2076111111111111}, {\"Book\": \"Zephaniah\", \"Chapter\": 2, \"Average Sentiment\": -0.033633333333333335}, {\"Book\": \"Zephaniah\", \"Chapter\": 3, \"Average Sentiment\": -0.055955}]}}, {\"mode\": \"vega-lite\"});\n",
       "</script>"
      ],
      "text/plain": [
       "alt.Chart(...)"
      ]
     },
     "metadata": {},
     "output_type": "display_data"
    }
   ],
   "source": [
    "display(Markdown(f\"### Sentiment by Chapter\"))\n",
    "\n",
    "chart_sentiment_by_chapter = (\n",
    "    alt.Chart(sentiment_by_chapter)\n",
    "    .mark_circle(size=100)\n",
    "    .encode(\n",
    "        x=alt.X(\"Chapter:Q\", title=\"Chapter\"),\n",
    "        y=alt.Y(\"Average Sentiment:Q\", title=\"Average Sentiment\"),\n",
    "        color=alt.Color(\"Book:N\", sort=books, legend=alt.Legend(title=\"Book\")),\n",
    "        tooltip=[\"Book\", \"Chapter\", \"Average Sentiment\"]\n",
    "    )\n",
    "    .properties(\n",
    "                # title=\"Sentiment by Chapter\",\n",
    "                width='container', \n",
    "                height=1000)\n",
    "    .interactive()\n",
    ")\n",
    "\n",
    "display(chart_sentiment_by_chapter)"
   ]
  },
  {
   "cell_type": "markdown",
   "metadata": {},
   "source": [
    "### Biblical Places"
   ]
  },
  {
   "cell_type": "code",
   "execution_count": 47,
   "metadata": {},
   "outputs": [],
   "source": [
    "import pandas as pd\n",
    "import re\n",
    "import requests\n",
    "\n",
    "from tqdm import tqdm\n",
    "tqdm.pandas()\n",
    "\n",
    "import pydeck as pdk\n",
    "pdk.settings.notebook_display = True\n",
    "from IPython.display import display, Markdown\n",
    "\n",
    "# from geopy.geocoders import Nominatim\n",
    "# from geopy.exc import GeocoderTimedOut"
   ]
  },
  {
   "cell_type": "code",
   "execution_count": 48,
   "metadata": {},
   "outputs": [],
   "source": [
    "df_kjv = pd.read_csv(\"../data/kjv.csv\")\n",
    "df_kjv = df_kjv.astype({col: 'string' for col in df_kjv.select_dtypes(include='object').columns})\n",
    "df_kjv.drop(['version_name', 'version_abbr'], axis=1, inplace=True)\n",
    "\n",
    "df_locs = pd.read_csv(\"../data/bib_locs.csv\")"
   ]
  },
  {
   "cell_type": "code",
   "execution_count": 49,
   "metadata": {},
   "outputs": [
    {
     "name": "stdout",
     "output_type": "stream",
     "text": [
      "      testament_abbr testament_name   book_name  book_number  chapter_number  \\\n",
      "0                 OT  Old Testament     Genesis            1               1   \n",
      "1                 OT  Old Testament     Genesis            1               1   \n",
      "2                 OT  Old Testament     Genesis            1               1   \n",
      "3                 OT  Old Testament     Genesis            1               1   \n",
      "4                 OT  Old Testament     Genesis            1               1   \n",
      "...              ...            ...         ...          ...             ...   \n",
      "31097             NT  New Testament  Revelation           66              22   \n",
      "31098             NT  New Testament  Revelation           66              22   \n",
      "31099             NT  New Testament  Revelation           66              22   \n",
      "31100             NT  New Testament  Revelation           66              22   \n",
      "31101             NT  New Testament  Revelation           66              22   \n",
      "\n",
      "       verse_number                                         verse_text  \n",
      "0                 1  In the beginning God created the heaven and th...  \n",
      "1                 2  And the earth was without form, and void; and ...  \n",
      "2                 3  And God said, Let there be light: and there wa...  \n",
      "3                 4  And God saw the light, that it was good: and G...  \n",
      "4                 5  And God called the light Day, and the darkness...  \n",
      "...             ...                                                ...  \n",
      "31097            17  And the Spirit and the bride say, Come. And le...  \n",
      "31098            18  For I testify unto every man that heareth the ...  \n",
      "31099            19  And if any man shall take away from the words ...  \n",
      "31100            20  He which testifieth these things saith, Surely...  \n",
      "31101            21  The grace of our Lord Jesus Christ be with you...  \n",
      "\n",
      "[31102 rows x 7 columns]\n"
     ]
    }
   ],
   "source": [
    "print(df_kjv)"
   ]
  },
  {
   "cell_type": "code",
   "execution_count": 50,
   "metadata": {},
   "outputs": [
    {
     "name": "stdout",
     "output_type": "stream",
     "text": [
      "            verse name_id_ancient location_id_ancient name_id_modern  \\\n",
      "0      2 Kgs 5:12           Abana             aea17b7   Barada River   \n",
      "1       Num 27:12          Abarim             aa8275b         Abarim   \n",
      "2       Num 33:47          Abarim             aa8275b         Abarim   \n",
      "3       Num 33:48          Abarim             aa8275b         Abarim   \n",
      "4      Deut 32:49          Abarim             aa8275b         Abarim   \n",
      "...           ...             ...                 ...            ...   \n",
      "17065   1 Sam 9:5            Zuph             a4d0250         Al Ram   \n",
      "17066   1 Sam 9:5            Zuph             a4d0250    Ramat Rahel   \n",
      "17067   1 Sam 9:5            Zuph             a4d0250         Rantis   \n",
      "17068   1 Sam 9:5            Zuph             a4d0250      Beit Rima   \n",
      "17069   1 Sam 9:5            Zuph             a4d0250        Al Bira   \n",
      "\n",
      "      location_id_modern   latitude  longitude  \n",
      "0                m39ac0b  33.513542  36.305000  \n",
      "1                m207993  31.753900  35.715200  \n",
      "2                m207993  31.753900  35.715200  \n",
      "3                m207993  31.753900  35.715200  \n",
      "4                m207993  31.753900  35.715200  \n",
      "...                  ...        ...        ...  \n",
      "17065            m67501d  31.854340  35.231610  \n",
      "17066            m77f703  31.739901  35.216896  \n",
      "17067            m960e84  32.028056  35.019444  \n",
      "17068            mcd60ca  32.032860  35.102500  \n",
      "17069            mebe332  31.905142  35.214958  \n",
      "\n",
      "[17070 rows x 7 columns]\n"
     ]
    }
   ],
   "source": [
    "print(df_locs)"
   ]
  },
  {
   "cell_type": "markdown",
   "metadata": {},
   "source": [
    "#### Data Preparation"
   ]
  },
  {
   "cell_type": "code",
   "execution_count": 51,
   "metadata": {},
   "outputs": [],
   "source": [
    "def parse_verse(verse):\n",
    "    match = re.match(r\"([0-9A-Za-z\\s]+)\\s+(\\d+):(\\d+)\", verse)\n",
    "    if match:\n",
    "        book_abbr = match.group(1).strip()\n",
    "        chapter = int(match.group(2))\n",
    "        verse_num = int(match.group(3))\n",
    "        return pd.Series([book_abbr, chapter, verse_num])\n",
    "    return pd.Series([None, None, None])"
   ]
  },
  {
   "cell_type": "code",
   "execution_count": 52,
   "metadata": {},
   "outputs": [],
   "source": [
    "df_locs[['book_abbr', 'chapter_number', 'verse_number']] = df_locs['verse'].apply(parse_verse)"
   ]
  },
  {
   "cell_type": "code",
   "execution_count": 53,
   "metadata": {},
   "outputs": [
    {
     "name": "stdout",
     "output_type": "stream",
     "text": [
      "['Genesis', 'Exodus', 'Leviticus', 'Numbers', 'Deuteronomy', 'Joshua', 'Judges', 'Ruth', '1 Samuel', '2 Samuel', '1 Kings', '2 Kings', '1 Chronicles', '2 Chronicles', 'Ezra', 'Nehemiah', 'Esther', 'Job', 'Psalms', 'Proverbs', 'Ecclesiastes', 'Song of Solomon', 'Isaiah', 'Jeremiah', 'Lamentations', 'Ezekiel', 'Daniel', 'Hosea', 'Joel', 'Amos', 'Obadiah', 'Jonah', 'Micah', 'Nahum', 'Habakkuk', 'Zephaniah', 'Haggai', 'Zechariah', 'Malachi', 'Matthew', 'Mark', 'Luke', 'John', 'Acts', 'Romans', '1 Corinthians', '2 Corinthians', 'Galatians', 'Ephesians', 'Philippians', 'Colossians', '1 Thessalonians', '2 Thessalonians', '1 Timothy', '2 Timothy', 'Titus', 'Philemon', 'Hebrews', 'James', '1 Peter', '2 Peter', '1 John', '2 John', '3 John', 'Jude', 'Revelation']\n"
     ]
    }
   ],
   "source": [
    "books_kjv = df_kjv[\"book_name\"].unique().tolist()\n",
    "print(books_kjv)"
   ]
  },
  {
   "cell_type": "code",
   "execution_count": 54,
   "metadata": {},
   "outputs": [],
   "source": [
    "book_mapping = {\n",
    "    # Old Testament (OT)\n",
    "    \"Gen\": \"Genesis\",\n",
    "    \"Ex\": \"Exodus\",\n",
    "    \"Lev\": \"Leviticus\",\n",
    "    \"Num\": \"Numbers\",\n",
    "    \"Deut\": \"Deuteronomy\",\n",
    "    \"Josh\": \"Joshua\",\n",
    "    \"Judg\": \"Judges\",\n",
    "    \"Ruth\": \"Ruth\",\n",
    "    \"1 Sam\": \"1 Samuel\",\n",
    "    \"2 Sam\": \"2 Samuel\",\n",
    "    \"1 Kgs\": \"1 Kings\",\n",
    "    \"2 Kgs\": \"2 Kings\",\n",
    "    \"1 Chr\": \"1 Chronicles\",\n",
    "    \"2 Chr\": \"2 Chronicles\",\n",
    "    \"Ezra\": \"Ezra\",\n",
    "    \"Neh\": \"Nehemiah\",\n",
    "    \"Est\": \"Esther\",\n",
    "    \"Job\": \"Job\",\n",
    "    \"Ps\": \"Psalms\",\n",
    "    \"Prov\": \"Proverbs\",\n",
    "    \"Eccl\": \"Ecclesiastes\",\n",
    "    \"Sng\": \"Song of Solomon\",\n",
    "    \"Isa\": \"Isaiah\",\n",
    "    \"Jer\": \"Jeremiah\",\n",
    "    \"Lam\": \"Lamentations\",\n",
    "    \"Ezek\": \"Ezekiel\",\n",
    "    \"Dan\": \"Daniel\",\n",
    "    \"Hos\": \"Hosea\",\n",
    "    \"Joel\": \"Joel\",\n",
    "    \"Amos\": \"Amos\",\n",
    "    \"Obad\": \"Obadiah\",\n",
    "    \"Jonah\": \"Jonah\",\n",
    "    \"Mic\": \"Micah\",\n",
    "    \"Nahum\": \"Nahum\",\n",
    "    \"Hab\": \"Habakkuk\",\n",
    "    \"Zeph\": \"Zephaniah\",\n",
    "    \"Hag\": \"Haggai\",\n",
    "    \"Zech\": \"Zechariah\",\n",
    "    \"Mal\": \"Malachi\",\n",
    "\n",
    "    # New Testament (NT)\n",
    "    \"Matt\": \"Matthew\",\n",
    "    \"Mark\": \"Mark\",\n",
    "    \"Luke\": \"Luke\",\n",
    "    \"John\": \"John\",\n",
    "    \"Acts\": \"Acts\",\n",
    "    \"Rom\": \"Romans\",\n",
    "    \"1 Cor\": \"1 Corinthians\",\n",
    "    \"2 Cor\": \"2 Corinthians\",\n",
    "    \"Gal\": \"Galatians\",\n",
    "    \"Eph\": \"Ephesians\",\n",
    "    \"Phil\": \"Philippians\",\n",
    "    \"Col\": \"Colossians\",\n",
    "    \"1 Thes\": \"1 Thessalonians\",\n",
    "    \"2 Thes\": \"2 Thessalonians\",\n",
    "    \"1 Tim\": \"1 Timothy\",\n",
    "    \"2 Tim\": \"2 Timothy\",\n",
    "    \"Titus\": \"Titus\",\n",
    "    \"Phlm\": \"Philemon\",\n",
    "    \"Heb\": \"Hebrews\",\n",
    "    \"Jas\": \"James\",\n",
    "    \"1 Pet\": \"1 Peter\",\n",
    "    \"2 Pet\": \"2 Peter\",\n",
    "    \"1 John\": \"1 John\",\n",
    "    \"2 John\": \"2 John\",\n",
    "    \"3 John\": \"3 John\",\n",
    "    \"Jude\": \"Jude\",\n",
    "    \"Rev\": \"Revelation\"\n",
    "}"
   ]
  },
  {
   "cell_type": "code",
   "execution_count": 55,
   "metadata": {},
   "outputs": [],
   "source": [
    "df_locs['book_name'] = df_locs['book_abbr'].map(book_mapping)"
   ]
  },
  {
   "cell_type": "code",
   "execution_count": 56,
   "metadata": {},
   "outputs": [],
   "source": [
    "df = pd.merge(\n",
    "    df_locs,\n",
    "    df_kjv[['book_name', 'book_number', 'chapter_number', 'verse_number', 'verse_text']],\n",
    "    on=['book_name', 'chapter_number', 'verse_number'],\n",
    "    how='inner'\n",
    ")"
   ]
  },
  {
   "cell_type": "code",
   "execution_count": 57,
   "metadata": {},
   "outputs": [],
   "source": [
    "df = df[[\n",
    "    'book_name', 'book_number', 'chapter_number', 'verse_number',\n",
    "    'verse_text', 'name_id_ancient', 'location_id_ancient',\n",
    "    'name_id_modern', 'location_id_modern', 'latitude', 'longitude'\n",
    "]]"
   ]
  },
  {
   "cell_type": "code",
   "execution_count": 58,
   "metadata": {},
   "outputs": [
    {
     "name": "stdout",
     "output_type": "stream",
     "text": [
      "      book_name  book_number  chapter_number  verse_number  \\\n",
      "0       2 Kings           12               5            12   \n",
      "1       2 Kings           12               5            12   \n",
      "2       2 Kings           12               5            12   \n",
      "3       2 Kings           12               5            12   \n",
      "4       2 Kings           12               5            12   \n",
      "...         ...          ...             ...           ...   \n",
      "17065  1 Samuel            9               9             5   \n",
      "17066  1 Samuel            9               9             5   \n",
      "17067  1 Samuel            9               9             5   \n",
      "17068  1 Samuel            9               9             5   \n",
      "17069  1 Samuel            9               9             5   \n",
      "\n",
      "                                              verse_text name_id_ancient  \\\n",
      "0      Are not Abana and Pharpar, rivers of Damascus,...           Abana   \n",
      "1      Are not Abana and Pharpar, rivers of Damascus,...        Damascus   \n",
      "2      Are not Abana and Pharpar, rivers of Damascus,...         Pharpar   \n",
      "3      Are not Abana and Pharpar, rivers of Damascus,...         Pharpar   \n",
      "4      Are not Abana and Pharpar, rivers of Damascus,...         Pharpar   \n",
      "...                                                  ...             ...   \n",
      "17065  And when they were come to the land of Zuph, S...            Zuph   \n",
      "17066  And when they were come to the land of Zuph, S...            Zuph   \n",
      "17067  And when they were come to the land of Zuph, S...            Zuph   \n",
      "17068  And when they were come to the land of Zuph, S...            Zuph   \n",
      "17069  And when they were come to the land of Zuph, S...            Zuph   \n",
      "\n",
      "      location_id_ancient name_id_modern location_id_modern   latitude  \\\n",
      "0                 aea17b7   Barada River            m39ac0b  33.513542   \n",
      "1                 a69c1d4       Damascus            m878978  33.511112   \n",
      "2                 a8d054a   Barbar River            m3a5cfe  33.416667   \n",
      "3                 a8d054a     Awaj River            m6dfa22  33.313620   \n",
      "4                 a8d054a     Tora River            mf29181  33.540556   \n",
      "...                   ...            ...                ...        ...   \n",
      "17065             a4d0250         Al Ram            m67501d  31.854340   \n",
      "17066             a4d0250    Ramat Rahel            m77f703  31.739901   \n",
      "17067             a4d0250         Rantis            m960e84  32.028056   \n",
      "17068             a4d0250      Beit Rima            mcd60ca  32.032860   \n",
      "17069             a4d0250        Al Bira            mebe332  31.905142   \n",
      "\n",
      "       longitude  \n",
      "0      36.305000  \n",
      "1      36.306390  \n",
      "2      36.133333  \n",
      "3      36.055535  \n",
      "4      36.353056  \n",
      "...          ...  \n",
      "17065  35.231610  \n",
      "17066  35.216896  \n",
      "17067  35.019444  \n",
      "17068  35.102500  \n",
      "17069  35.214958  \n",
      "\n",
      "[17070 rows x 11 columns]\n"
     ]
    }
   ],
   "source": [
    "print(df)"
   ]
  },
  {
   "cell_type": "code",
   "execution_count": 59,
   "metadata": {},
   "outputs": [],
   "source": [
    "# df = pd.DataFrame({\n",
    "#     \"latitude\": [33.513542, 33.511112, 33.416667, 33.313620, 33.540556],\n",
    "#     \"longitude\": [36.305000, 36.306390, 36.133333, 36.055535, 36.353056]\n",
    "# })\n",
    "\n",
    "API_KEY = ''"
   ]
  },
  {
   "cell_type": "code",
   "execution_count": 60,
   "metadata": {},
   "outputs": [],
   "source": [
    "geocode_cache = {}\n",
    "\n",
    "def get_geocode_info(lat, lon):\n",
    "    \"\"\"\n",
    "    Retrieve geocode information from Google Maps Geocoding API\n",
    "    for the given latitude and longitude. Uses caching to avoid duplicate API calls.\n",
    "    \n",
    "    Returns a dict with keys:\n",
    "      - global_code\n",
    "      - formatted_address\n",
    "      - route\n",
    "      - neighborhood\n",
    "      - administrative_area_level_2\n",
    "      - administrative_area_level_1\n",
    "      - locality\n",
    "      - country\n",
    "    If a field is not available in the API response, its value will be \"-\".\n",
    "    \"\"\"\n",
    "    cache_key = (lat, lon)\n",
    "    if cache_key in geocode_cache:\n",
    "        return geocode_cache[cache_key]\n",
    "\n",
    "    base_url = \"https://maps.googleapis.com/maps/api/geocode/json\"\n",
    "    params = {\n",
    "        \"latlng\": f\"{lat},{lon}\",\n",
    "        \"key\": API_KEY\n",
    "    }\n",
    "    \n",
    "    response = requests.get(base_url, params=params)\n",
    "    data = response.json()\n",
    "\n",
    "    result_info = {\n",
    "        \"global_code\": \"-\",\n",
    "        \"formatted_address\": \"-\",\n",
    "        \"route\": \"-\",\n",
    "        \"neighborhood\": \"-\",\n",
    "        \"administrative_area_level_2\": \"-\",\n",
    "        \"administrative_area_level_1\": \"-\",\n",
    "        \"locality\": \"-\",\n",
    "        \"country\": \"-\"\n",
    "    }\n",
    "    \n",
    "    if \"plus_code\" in data and \"global_code\" in data[\"plus_code\"]:\n",
    "        result_info[\"global_code\"] = data[\"plus_code\"][\"global_code\"]\n",
    "\n",
    "    results = data.get(\"results\", [])\n",
    "    if results:\n",
    "        result_info[\"formatted_address\"] = results[0].get(\"formatted_address\", \"-\")\n",
    "        \n",
    "        for component in results[0].get(\"address_components\", []):\n",
    "            types = component.get(\"types\", [])\n",
    "            if \"route\" in types:\n",
    "                result_info[\"route\"] = component.get(\"long_name\", \"-\")\n",
    "            if \"neighborhood\" in types:\n",
    "                result_info[\"neighborhood\"] = component.get(\"long_name\", \"-\")\n",
    "            if \"administrative_area_level_2\" in types:\n",
    "                result_info[\"administrative_area_level_2\"] = component.get(\"long_name\", \"-\")\n",
    "            if \"administrative_area_level_1\" in types:\n",
    "                result_info[\"administrative_area_level_1\"] = component.get(\"long_name\", \"-\")\n",
    "            if \"locality\" in types:\n",
    "                result_info[\"locality\"] = component.get(\"long_name\", \"-\")\n",
    "            if \"country\" in types:\n",
    "                result_info[\"country\"] = component.get(\"long_name\", \"-\")\n",
    "        \n",
    "        for result in results:\n",
    "            for component in result.get(\"address_components\", []):\n",
    "                types = component.get(\"types\", [])\n",
    "                if result_info[\"route\"] == \"-\" and \"route\" in types:\n",
    "                    result_info[\"route\"] = component.get(\"long_name\", \"-\")\n",
    "                if result_info[\"neighborhood\"] == \"-\" and \"neighborhood\" in types:\n",
    "                    result_info[\"neighborhood\"] = component.get(\"long_name\", \"-\")\n",
    "                if result_info[\"administrative_area_level_2\"] == \"-\" and \"administrative_area_level_2\" in types:\n",
    "                    result_info[\"administrative_area_level_2\"] = component.get(\"long_name\", \"-\")\n",
    "                if result_info[\"administrative_area_level_1\"] == \"-\" and \"administrative_area_level_1\" in types:\n",
    "                    result_info[\"administrative_area_level_1\"] = component.get(\"long_name\", \"-\")\n",
    "                if result_info[\"locality\"] == \"-\" and \"locality\" in types:\n",
    "                    result_info[\"locality\"] = component.get(\"long_name\", \"-\")\n",
    "                if result_info[\"country\"] == \"-\" and \"country\" in types:\n",
    "                    result_info[\"country\"] = component.get(\"long_name\", \"-\")\n",
    "                    \n",
    "    geocode_cache[cache_key] = result_info\n",
    "    return result_info\n",
    "\n",
    "def fetch_geocode(row):\n",
    "    \"\"\"Wrapper function to fetch geocode info for a DataFrame row.\"\"\"\n",
    "    lat = row['latitude']\n",
    "    lon = row['longitude']\n",
    "    info = get_geocode_info(lat, lon)\n",
    "    return pd.Series(info)"
   ]
  },
  {
   "cell_type": "code",
   "execution_count": 61,
   "metadata": {},
   "outputs": [],
   "source": [
    "# new_columns = [\n",
    "#     \"global_code\", \"formatted_address\", \"route\", \"neighborhood\",\n",
    "#     \"administrative_area_level_2\", \"administrative_area_level_1\", \"locality\", \"country\"\n",
    "# ]\n",
    "\n",
    "# df[new_columns] = df.progress_apply(fetch_geocode, axis=1)"
   ]
  },
  {
   "cell_type": "markdown",
   "metadata": {},
   "source": [
    "#### Map Visualization"
   ]
  },
  {
   "cell_type": "code",
   "execution_count": 62,
   "metadata": {},
   "outputs": [],
   "source": [
    "df = pd.read_csv(\"../data/kjv_locs_all.csv\")"
   ]
  },
  {
   "cell_type": "code",
   "execution_count": 63,
   "metadata": {},
   "outputs": [],
   "source": [
    "books_kjv = [\n",
    "        'Genesis', 'Exodus', 'Leviticus', 'Numbers', 'Deuteronomy', 'Joshua', \n",
    "        'Judges', 'Ruth', '1 Samuel', '2 Samuel', '1 Kings', '2 Kings', \n",
    "        '1 Chronicles', '2 Chronicles', 'Ezra', 'Nehemiah', 'Esther', 'Job', \n",
    "        'Psalms', 'Proverbs', 'Ecclesiastes', 'Song of Solomon', 'Isaiah', \n",
    "        'Jeremiah', 'Lamentations', 'Ezekiel', 'Daniel', 'Hosea', 'Joel', 'Amos', \n",
    "        'Obadiah', 'Jonah', 'Micah', 'Nahum', 'Habakkuk', 'Zephaniah', 'Haggai', \n",
    "        'Zechariah', 'Malachi', 'Matthew', 'Mark', 'Luke', 'John', 'Acts', \n",
    "        'Romans', '1 Corinthians', '2 Corinthians', 'Galatians', 'Ephesians', \n",
    "        'Philippians', 'Colossians', '1 Thessalonians', '2 Thessalonians', \n",
    "        '1 Timothy', '2 Timothy', 'Titus', 'Philemon', 'Hebrews', 'James', \n",
    "        '1 Peter', '2 Peter', '1 John', '2 John', '3 John', 'Jude', 'Revelation'\n",
    "    ]\n",
    "    \n",
    "books_kjv_abv = {\n",
    "    \"Genesis\": \"GEN\",\n",
    "    \"Exodus\": \"EXO\",\n",
    "    \"Leviticus\": \"LEV\",\n",
    "    \"Numbers\": \"NUM\",\n",
    "    \"Deuteronomy\": \"DEU\",\n",
    "    \"Joshua\": \"JOS\",\n",
    "    \"Judges\": \"JDG\",\n",
    "    \"Ruth\": \"RUT\",\n",
    "    \"1 Samuel\": \"1SA\",\n",
    "    \"2 Samuel\": \"2SA\",\n",
    "    \"1 Kings\": \"1KI\",\n",
    "    \"2 Kings\": \"2KI\",\n",
    "    \"1 Chronicles\": \"1CH\",\n",
    "    \"2 Chronicles\": \"2CH\",\n",
    "    \"Ezra\": \"EZR\",\n",
    "    \"Nehemiah\": \"NEH\",\n",
    "    \"Esther\": \"EST\",\n",
    "    \"Job\": \"JOB\",\n",
    "    \"Psalms\": \"PSA\",\n",
    "    \"Proverbs\": \"PRO\",\n",
    "    \"Ecclesiastes\": \"ECC\",\n",
    "    \"Song of Solomon\": \"SNG\",\n",
    "    \"Isaiah\": \"ISA\",\n",
    "    \"Jeremiah\": \"JER\",\n",
    "    \"Lamentations\": \"LAM\",\n",
    "    \"Ezekiel\": \"EZK\",\n",
    "    \"Daniel\": \"DAN\",\n",
    "    \"Hosea\": \"HOS\",\n",
    "    \"Joel\": \"JOL\",\n",
    "    \"Amos\": \"AMO\",\n",
    "    \"Obadiah\": \"OBA\",\n",
    "    \"Jonah\": \"JON\",\n",
    "    \"Micah\": \"MIC\",\n",
    "    \"Nahum\": \"NAM\",\n",
    "    \"Habakkuk\": \"HAB\",\n",
    "    \"Zephaniah\": \"ZEP\",\n",
    "    \"Haggai\": \"HAG\",\n",
    "    \"Zechariah\": \"ZEC\",\n",
    "    \"Malachi\": \"MAL\",\n",
    "    \"Matthew\": \"MAT\",\n",
    "    \"Mark\": \"MRK\",\n",
    "    \"Luke\": \"LUK\",\n",
    "    \"John\": \"JHN\",\n",
    "    \"Acts\": \"ACT\",\n",
    "    \"Romans\": \"ROM\",\n",
    "    \"1 Corinthians\": \"1CO\",\n",
    "    \"2 Corinthians\": \"2CO\",\n",
    "    \"Galatians\": \"GAL\",\n",
    "    \"Ephesians\": \"EPH\",\n",
    "    \"Philippians\": \"PHP\",\n",
    "    \"Colossians\": \"COL\",\n",
    "    \"1 Thessalonians\": \"1TH\",\n",
    "    \"2 Thessalonians\": \"2TH\",\n",
    "    \"1 Timothy\": \"1TI\",\n",
    "    \"2 Timothy\": \"2TI\",\n",
    "    \"Titus\": \"TIT\",\n",
    "    \"Philemon\": \"PHM\",\n",
    "    \"Hebrews\": \"HEB\",\n",
    "    \"James\": \"JAS\",\n",
    "    \"1 Peter\": \"1PE\",\n",
    "    \"2 Peter\": \"2PE\",\n",
    "    \"1 John\": \"1JN\",\n",
    "    \"2 John\": \"2JN\",\n",
    "    \"3 John\": \"3JN\",\n",
    "    \"Jude\": \"JUD\",\n",
    "    \"Revelation\": \"REV\"\n",
    "}\n",
    "\n",
    "\n",
    "countries_kjv = [\n",
    "    'Syria', 'Jordan', 'Israel', 'Lebanon', 'Iraq', 'Egypt', 'Türkiye', 'Greece', 'North Macedonia', \n",
    "    'Italy', 'Libya', 'Cyprus', 'Saudi Arabia', 'Sudan', 'Djibouti', 'Iran', 'Yemen', 'Somalia', 'Azerbaijan', \n",
    "    'Armenia', 'Spain', 'Uganda', 'Tunisia', 'Croatia', 'Pakistan', 'Mozambique', 'India', 'Sri Lanka', \n",
    "    'Eritrea', 'Oman', 'Kuwait', 'Georgia', 'Bangladesh', 'Malta', 'United Arab Emirates'\n",
    "]"
   ]
  },
  {
   "cell_type": "code",
   "execution_count": 64,
   "metadata": {},
   "outputs": [],
   "source": [
    "df[\"count\"] = df.groupby([\"latitude\", \"longitude\"])[\"latitude\"].transform(\"count\")\n",
    "min_count, max_count = df[\"count\"].min(), df[\"count\"].max()\n",
    "df[\"color_intensity\"] = np.interp(df[\"count\"], [min_count, max_count], [50, 255])"
   ]
  },
  {
   "cell_type": "code",
   "execution_count": 65,
   "metadata": {},
   "outputs": [
    {
     "name": "stdout",
     "output_type": "stream",
     "text": [
      "      book_name  book_number  chapter_number  verse_number  \\\n",
      "0       2 Kings           12               5            12   \n",
      "1       2 Kings           12               5            12   \n",
      "2       2 Kings           12               5            12   \n",
      "3       2 Kings           12               5            12   \n",
      "4       2 Kings           12               5            12   \n",
      "...         ...          ...             ...           ...   \n",
      "17065  1 Samuel            9               9             5   \n",
      "17066  1 Samuel            9               9             5   \n",
      "17067  1 Samuel            9               9             5   \n",
      "17068  1 Samuel            9               9             5   \n",
      "17069  1 Samuel            9               9             5   \n",
      "\n",
      "                                              verse_text name_id_ancient  \\\n",
      "0      Are not Abana and Pharpar, rivers of Damascus,...           Abana   \n",
      "1      Are not Abana and Pharpar, rivers of Damascus,...        Damascus   \n",
      "2      Are not Abana and Pharpar, rivers of Damascus,...         Pharpar   \n",
      "3      Are not Abana and Pharpar, rivers of Damascus,...         Pharpar   \n",
      "4      Are not Abana and Pharpar, rivers of Damascus,...         Pharpar   \n",
      "...                                                  ...             ...   \n",
      "17065  And when they were come to the land of Zuph, S...            Zuph   \n",
      "17066  And when they were come to the land of Zuph, S...            Zuph   \n",
      "17067  And when they were come to the land of Zuph, S...            Zuph   \n",
      "17068  And when they were come to the land of Zuph, S...            Zuph   \n",
      "17069  And when they were come to the land of Zuph, S...            Zuph   \n",
      "\n",
      "      location_id_ancient name_id_modern location_id_modern   latitude  ...  \\\n",
      "0                 aea17b7   Barada River            m39ac0b  33.513542  ...   \n",
      "1                 a69c1d4       Damascus            m878978  33.511112  ...   \n",
      "2                 a8d054a   Barbar River            m3a5cfe  33.416667  ...   \n",
      "3                 a8d054a     Awaj River            m6dfa22  33.313620  ...   \n",
      "4                 a8d054a     Tora River            mf29181  33.540556  ...   \n",
      "...                   ...            ...                ...        ...  ...   \n",
      "17065             a4d0250         Al Ram            m67501d  31.854340  ...   \n",
      "17066             a4d0250    Ramat Rahel            m77f703  31.739901  ...   \n",
      "17067             a4d0250         Rantis            m960e84  32.028056  ...   \n",
      "17068             a4d0250      Beit Rima            mcd60ca  32.032860  ...   \n",
      "17069             a4d0250        Al Bira            mebe332  31.905142  ...   \n",
      "\n",
      "        global_code                               formatted_address  \\\n",
      "0      8G5RG874+C26                       G873+GX9, Damascus, Syria   \n",
      "1      8G5RG864+CHR  G864+CJ6, Al Kabakbieh Street, Damascus, Syria   \n",
      "2      8G5RC48M+M88                            C48M+M8 Artoz, Syria   \n",
      "3      8G5R8374+C6V                       8374+C6 Al-Qleiaah, Syria   \n",
      "4      8G5RG9R3+66F                           G9R3+7H, Irbin, Syria   \n",
      "...             ...                                             ...   \n",
      "17065  8G3QV63J+PJQ                                     8G3QV63J+PJ   \n",
      "17066  8G3QP6Q8+XQ6                    P6Q8+XQ Ramat Rachel, Israel   \n",
      "17067  8G4Q22H9+6QG                                     8G4Q22H9+6Q   \n",
      "17068  8G4Q24M2+4XX                                      Bait Reema   \n",
      "17069  8G3QW647+3X4                              W647+3VV, Ramallah   \n",
      "\n",
      "                             route       neighborhood  \\\n",
      "0                 جادة بين السورين  Amarah Barraniyah   \n",
      "1              Al Kabakbieh Street       Al-Hamidiyeh   \n",
      "2                   Route Sans Nom                  -   \n",
      "3                   Route Sans Nom                  -   \n",
      "4      Almotahalik Aljanobi Street                  -   \n",
      "...                            ...                ...   \n",
      "17065              Rab'a Al Adawia                  -   \n",
      "17066                 Unnamed Road                  -   \n",
      "17067             Tariaq Bedon Esm                  -   \n",
      "17068                   Bait Reema                  -   \n",
      "17069              Al Alaly Street                  -   \n",
      "\n",
      "       administrative_area_level_2 administrative_area_level_1      locality  \\\n",
      "0                         Damascus        Damascus Governorate      Damascus   \n",
      "1                         Damascus        Damascus Governorate      Damascus   \n",
      "2      Markaz Rif Dimashq District     Rif Dimashq Governorate         Artoz   \n",
      "3                      As-Sanamayn           Daraa Governorate    Al-Qleiaah   \n",
      "4      Markaz Rif Dimashq District     Rif Dimashq Governorate         Irbin   \n",
      "...                            ...                         ...           ...   \n",
      "17065                            -                           -             -   \n",
      "17066                            -          Jerusalem District  Ramat Rachel   \n",
      "17067                            -                           -        Rantis   \n",
      "17068                            -                           -             -   \n",
      "17069                            -                           -      Ramallah   \n",
      "\n",
      "      country count  color_intensity  \n",
      "0       Syria     1        50.000000  \n",
      "1       Syria   169        76.411043  \n",
      "2       Syria     1        50.000000  \n",
      "3       Syria     1        50.000000  \n",
      "4       Syria     1        50.000000  \n",
      "...       ...   ...              ...  \n",
      "17065       -    43        56.602761  \n",
      "17066  Israel    55        58.489264  \n",
      "17067       -    27        54.087423  \n",
      "17068       -    30        54.559049  \n",
      "17069       -   115        67.921779  \n",
      "\n",
      "[17070 rows x 21 columns]\n"
     ]
    }
   ],
   "source": [
    "print(df)"
   ]
  },
  {
   "cell_type": "code",
   "execution_count": 66,
   "metadata": {},
   "outputs": [],
   "source": [
    "layer = pdk.Layer(\n",
    "    \"ScatterplotLayer\",\n",
    "    data=df,\n",
    "    get_position=[\"longitude\", \"latitude\"],\n",
    "    get_fill_color=\"[255, 0, 0, color_intensity]\",\n",
    "    get_radius=500,\n",
    "    pickable=True,\n",
    ")\n",
    "\n",
    "mid_lat = df[\"latitude\"].mean()\n",
    "mid_long = df[\"longitude\"].mean()\n",
    "\n",
    "view_state = pdk.ViewState(\n",
    "    longitude=mid_long,\n",
    "    latitude=mid_lat,\n",
    "    zoom=5,\n",
    "    pitch=0,\n",
    ")\n",
    "\n",
    "tooltip = {\n",
    "    \"html\": (\n",
    "        \"<b>Verse:</b> {book_name} {chapter_number}:{verse_number}<br/>\"\n",
    "        \"<b>Scripture:</b> \\\"{verse_text}\\\"<br/>\"\n",
    "        \"<b>Version:</b> KJV (King James Version)<br/>\"\n",
    "        \"<b>Ancient Place:</b> {name_id_ancient}<br/>\"\n",
    "        \"<b>Modern Place:</b> {name_id_modern}<br/>\"\n",
    "        \"<b>----------</b><br/>\"\n",
    "        # \"<b>Address:</b> {formatted_address}<br/>\"\n",
    "        # \"<b>Latitude:</b> {latitude}<br/>\"\n",
    "        # \"<b>Longitude:</b> {longitude}<br/>\"\n",
    "        \"<b>District / County:</b> {administrative_area_level_2}<br/>\"\n",
    "        \"<b>State / Province:</b> {administrative_area_level_1}<br/>\"\n",
    "        \"<b>Country:</b> {country}<br/>\"\n",
    "        \"<b>----------</b><br/>\"\n",
    "        \"<b>Google Maps:</b> <a href='https://www.google.com/maps/place/{latitude},{longitude}' target='_blank'>{name_id_modern}</a> <br/>\"\n",
    "        \"<b>Bible.com:</b> <a href='https://www.bible.com/bible/1/{books_kjv_abv[book_name]}.{chapter_number}.{verse_number}' target='_blank'>{book_name} {chapter_number}:{verse_number}</a>\"\n",
    "    ),\n",
    "    \"style\": {\n",
    "        \"backgroundColor\": \"steelblue\",\n",
    "        \"color\": \"white\"\n",
    "    }\n",
    "}"
   ]
  },
  {
   "cell_type": "code",
   "execution_count": 67,
   "metadata": {},
   "outputs": [],
   "source": [
    "# display(Markdown(f\"### Biblical Places\"))\n",
    "\n",
    "# deck = pdk.Deck(\n",
    "#     layers=[layer],\n",
    "#     map_provider=\"carto\",\n",
    "#     initial_view_state=view_state,\n",
    "#     height = 1000,\n",
    "#     tooltip=tooltip,\n",
    "# )\n",
    "\n",
    "# deck.show()"
   ]
  },
  {
   "cell_type": "markdown",
   "metadata": {},
   "source": [
    "### Cross References"
   ]
  },
  {
   "cell_type": "code",
   "execution_count": 68,
   "metadata": {},
   "outputs": [],
   "source": [
    "import pandas as pd\n",
    "from tqdm import tqdm\n",
    "import numpy as np"
   ]
  },
  {
   "cell_type": "code",
   "execution_count": 69,
   "metadata": {},
   "outputs": [],
   "source": [
    "df_kjv = pd.read_csv(\"../data/kjv.csv\")\n",
    "df_kjv = df_kjv.astype({col: 'string' for col in df_kjv.select_dtypes(include='object').columns})\n",
    "df_kjv.drop(['version_name', 'version_abbr', 'testament_abbr'], axis=1, inplace=True)"
   ]
  },
  {
   "cell_type": "code",
   "execution_count": 70,
   "metadata": {},
   "outputs": [
    {
     "name": "stdout",
     "output_type": "stream",
     "text": [
      "      testament_name   book_name  book_number  chapter_number  verse_number  \\\n",
      "0      Old Testament     Genesis            1               1             1   \n",
      "1      Old Testament     Genesis            1               1             2   \n",
      "2      Old Testament     Genesis            1               1             3   \n",
      "3      Old Testament     Genesis            1               1             4   \n",
      "4      Old Testament     Genesis            1               1             5   \n",
      "...              ...         ...          ...             ...           ...   \n",
      "31097  New Testament  Revelation           66              22            17   \n",
      "31098  New Testament  Revelation           66              22            18   \n",
      "31099  New Testament  Revelation           66              22            19   \n",
      "31100  New Testament  Revelation           66              22            20   \n",
      "31101  New Testament  Revelation           66              22            21   \n",
      "\n",
      "                                              verse_text  \n",
      "0      In the beginning God created the heaven and th...  \n",
      "1      And the earth was without form, and void; and ...  \n",
      "2      And God said, Let there be light: and there wa...  \n",
      "3      And God saw the light, that it was good: and G...  \n",
      "4      And God called the light Day, and the darkness...  \n",
      "...                                                  ...  \n",
      "31097  And the Spirit and the bride say, Come. And le...  \n",
      "31098  For I testify unto every man that heareth the ...  \n",
      "31099  And if any man shall take away from the words ...  \n",
      "31100  He which testifieth these things saith, Surely...  \n",
      "31101  The grace of our Lord Jesus Christ be with you...  \n",
      "\n",
      "[31102 rows x 6 columns]\n"
     ]
    }
   ],
   "source": [
    "print(df_kjv)"
   ]
  },
  {
   "cell_type": "code",
   "execution_count": 71,
   "metadata": {},
   "outputs": [],
   "source": [
    "df_cr = pd.read_csv(\"../data/cross_references.txt\", sep=\"\\t\", skiprows=1, usecols=[0, 1], names=[\"from_verse\", \"to_verse\"], engine='python')"
   ]
  },
  {
   "cell_type": "code",
   "execution_count": 72,
   "metadata": {},
   "outputs": [
    {
     "name": "stdout",
     "output_type": "stream",
     "text": [
      "       from_verse           to_verse\n",
      "0         Gen.1.1          1John.1.1\n",
      "1         Gen.1.1           Ps.134.3\n",
      "2         Gen.1.1          Ps.102.25\n",
      "3         Gen.1.1          Isa.51.16\n",
      "4         Gen.1.1            Eph.3.9\n",
      "...           ...                ...\n",
      "344794  Rev.22.21  Eph.6.23-Eph.6.24\n",
      "344795  Rev.22.21         2Cor.13.14\n",
      "344796  Rev.22.21        2Thess.3.18\n",
      "344797  Rev.22.21          Rom.16.20\n",
      "344798  Rev.22.21            Rom.1.7\n",
      "\n",
      "[344799 rows x 2 columns]\n"
     ]
    }
   ],
   "source": [
    "print(df_cr)"
   ]
  },
  {
   "cell_type": "markdown",
   "metadata": {},
   "source": [
    "#### Data Preparation"
   ]
  },
  {
   "cell_type": "code",
   "execution_count": 73,
   "metadata": {},
   "outputs": [],
   "source": [
    "books_cr = ['1Chr', '1Cor', '1John', '1Kgs', '1Pet', '1Sam', '1Thess', '1Tim', '2Chr', '2Cor', '2John', '2Kgs', '2Pet', '2Sam', '2Thess', '2Tim', '3John', 'Acts', 'Amos', 'Col', 'Dan', 'Deut', 'Eccl', 'Eph', 'Esth', 'Exod', 'Ezek', 'Ezra', 'Gal', 'Gen', 'Hab', 'Hag', 'Heb', 'Hos', 'Isa', 'Jas', 'Jer', 'Job', 'Joel', 'John', 'Jonah', 'Josh', 'Jude', 'Judg', 'Lam', 'Lev', 'Luke', 'Mal', 'Mark', 'Matt', 'Mic', 'Nah', 'Neh', 'Num', 'Obad', 'Phil', 'Phlm', 'Prov', 'Ps', 'Rev', 'Rom', 'Ruth', 'Song', 'Titus', 'Zech', 'Zeph']"
   ]
  },
  {
   "cell_type": "code",
   "execution_count": 74,
   "metadata": {},
   "outputs": [],
   "source": [
    "book_mapping = {\n",
    "    # Old Testament (OT)\n",
    "    \"Gen\": \"Genesis\",\n",
    "    \"Exod\": \"Exodus\",\n",
    "    \"Lev\": \"Leviticus\",\n",
    "    \"Num\": \"Numbers\",\n",
    "    \"Deut\": \"Deuteronomy\",\n",
    "    \"Josh\": \"Joshua\",\n",
    "    \"Judg\": \"Judges\",\n",
    "    \"Ruth\": \"Ruth\",\n",
    "    \"1Sam\": \"1 Samuel\",\n",
    "    \"2Sam\": \"2 Samuel\",\n",
    "    \"1Kgs\": \"1 Kings\",\n",
    "    \"2Kgs\": \"2 Kings\",\n",
    "    \"1Chr\": \"1 Chronicles\",\n",
    "    \"2Chr\": \"2 Chronicles\",\n",
    "    \"Ezra\": \"Ezra\",\n",
    "    \"Neh\": \"Nehemiah\",\n",
    "    \"Esth\": \"Esther\",\n",
    "    \"Job\": \"Job\",\n",
    "    \"Ps\": \"Psalms\",\n",
    "    \"Prov\": \"Proverbs\",\n",
    "    \"Eccl\": \"Ecclesiastes\",\n",
    "    \"Song\": \"Song of Solomon\",\n",
    "    \"Isa\": \"Isaiah\",\n",
    "    \"Jer\": \"Jeremiah\",\n",
    "    \"Lam\": \"Lamentations\",\n",
    "    \"Ezek\": \"Ezekiel\",\n",
    "    \"Dan\": \"Daniel\",\n",
    "    \"Hos\": \"Hosea\",\n",
    "    \"Joel\": \"Joel\",\n",
    "    \"Amos\": \"Amos\",\n",
    "    \"Obad\": \"Obadiah\",\n",
    "    \"Jonah\": \"Jonah\",\n",
    "    \"Mic\": \"Micah\",\n",
    "    \"Nah\": \"Nahum\",\n",
    "    \"Hab\": \"Habakkuk\",\n",
    "    \"Zeph\": \"Zephaniah\",\n",
    "    \"Hag\": \"Haggai\",\n",
    "    \"Zech\": \"Zechariah\",\n",
    "    \"Mal\": \"Malachi\",\n",
    "\n",
    "    # New Testament (NT)\n",
    "    \"Matt\": \"Matthew\",\n",
    "    \"Mark\": \"Mark\",\n",
    "    \"Luke\": \"Luke\",\n",
    "    \"John\": \"John\",\n",
    "    \"Acts\": \"Acts\",\n",
    "    \"Rom\": \"Romans\",\n",
    "    \"1Cor\": \"1 Corinthians\",\n",
    "    \"2Cor\": \"2 Corinthians\",\n",
    "    \"Gal\": \"Galatians\",\n",
    "    \"Eph\": \"Ephesians\",\n",
    "    \"Phil\": \"Philippians\",\n",
    "    \"Col\": \"Colossians\",\n",
    "    \"1Thess\": \"1 Thessalonians\",\n",
    "    \"2Thess\": \"2 Thessalonians\",\n",
    "    \"1Tim\": \"1 Timothy\",\n",
    "    \"2Tim\": \"2 Timothy\",\n",
    "    \"Titus\": \"Titus\",\n",
    "    \"Phlm\": \"Philemon\",\n",
    "    \"Heb\": \"Hebrews\",\n",
    "    \"Jas\": \"James\",\n",
    "    \"1Pet\": \"1 Peter\",\n",
    "    \"2Pet\": \"2 Peter\",\n",
    "    \"1John\": \"1 John\",\n",
    "    \"2John\": \"2 John\",\n",
    "    \"3John\": \"3 John\",\n",
    "    \"Jude\": \"Jude\",\n",
    "    \"Rev\": \"Revelation\"\n",
    "}"
   ]
  },
  {
   "cell_type": "code",
   "execution_count": 75,
   "metadata": {},
   "outputs": [
    {
     "name": "stdout",
     "output_type": "stream",
     "text": [
      "[]\n"
     ]
    }
   ],
   "source": [
    "print(sorted(set(books_cr) - set(book_mapping.keys())))"
   ]
  },
  {
   "cell_type": "code",
   "execution_count": 76,
   "metadata": {},
   "outputs": [],
   "source": [
    "def parse_verse_string(verse_str, mapping):\n",
    "    \"\"\"\n",
    "    Given a string like \"Eph.6.22\" or \"Eph.6.22-Eph.6.24\",\n",
    "    parse it into a dictionary with:\n",
    "      - book_name_min, chapter_number_min, verse_number_min\n",
    "      - (if a range) book_name_max, chapter_number_max, verse_number_max\n",
    "    If the abbreviation is not found in mapping, the original is kept.\n",
    "    \"\"\"\n",
    "    \n",
    "    if '-' in verse_str:\n",
    "        left_part, right_part = verse_str.split('-')\n",
    "\n",
    "        try:\n",
    "            book, chapter, verse = left_part.split('.')\n",
    "        except ValueError:\n",
    "            print(\"Error parsing (left part) verse:\", verse_str)\n",
    "            return None\n",
    "\n",
    "        if '.' in right_part:\n",
    "            parts = right_part.split('.')\n",
    "            if len(parts) == 3:\n",
    "                book_max, chapter_max, verse_max = parts\n",
    "            else:\n",
    "                chapter_max, verse_max = parts\n",
    "                book_max = book\n",
    "        else:\n",
    "            book_max = book\n",
    "            chapter_max = chapter\n",
    "            verse_max = right_part\n",
    "\n",
    "        return {\n",
    "            'book_name_min': mapping.get(book, book),\n",
    "            'chapter_number_min': int(chapter),\n",
    "            'verse_number_min': int(verse),\n",
    "            'book_name_max': mapping.get(book_max, book_max),\n",
    "            'chapter_number_max': int(chapter_max),\n",
    "            'verse_number_max': int(verse_max)\n",
    "        }\n",
    "    else:\n",
    "        try:\n",
    "            book, chapter, verse = verse_str.split('.')\n",
    "        except ValueError:\n",
    "            print(\"Error parsing verse:\", verse_str)\n",
    "            return None\n",
    "        return {\n",
    "            'book_name_min': mapping.get(book, book),\n",
    "            'chapter_number_min': int(chapter),\n",
    "            'verse_number_min': int(verse),\n",
    "            'book_name_max': np.nan,\n",
    "            'chapter_number_max': np.nan,\n",
    "            'verse_number_max': np.nan\n",
    "        }"
   ]
  },
  {
   "cell_type": "code",
   "execution_count": 77,
   "metadata": {},
   "outputs": [],
   "source": [
    "def get_verse_text(info, df_kjv):\n",
    "    \"\"\"\n",
    "    Given a dictionary (as returned by parse_verse_string) and the df_kjv dataframe,\n",
    "    return the verse text. If info indicates a range (i.e. book_name_max is not nan),\n",
    "    then iterate row‐by‐row (assuming df_kjv is sorted in Bible order) starting at the\n",
    "    _min verse until the _max verse is reached (inclusive).\n",
    "    \"\"\"\n",
    "    \n",
    "    if pd.isna(info['book_name_max']):\n",
    "        cond = (\n",
    "            (df_kjv['book_name'] == info['book_name_min']) &\n",
    "            (df_kjv['chapter_number'] == info['chapter_number_min']) &\n",
    "            (df_kjv['verse_number'] == info['verse_number_min'])\n",
    "        )\n",
    "        row_found = df_kjv.loc[cond]\n",
    "        if not row_found.empty:\n",
    "            return row_found.iloc[0]['verse_text']\n",
    "        else:\n",
    "            return \"\"\n",
    "    else:\n",
    "        cond_start = (\n",
    "            (df_kjv['book_name'] == info['book_name_min']) &\n",
    "            (df_kjv['chapter_number'] == info['chapter_number_min']) &\n",
    "            (df_kjv['verse_number'] == info['verse_number_min'])\n",
    "        )\n",
    "        start_rows = df_kjv.loc[cond_start]\n",
    "        if start_rows.empty:\n",
    "            return \"\"\n",
    "        start_idx = start_rows.index[0]\n",
    "        pos = df_kjv.index.get_loc(start_idx)\n",
    "        texts = []\n",
    "        \n",
    "        for row in df_kjv.iloc[pos:].itertuples(index=False):\n",
    "            texts.append(row.verse_text)\n",
    "            \n",
    "            if (row.book_name == info['book_name_max'] and \n",
    "                row.chapter_number == info['chapter_number_max'] and \n",
    "                row.verse_number == info['verse_number_max']):\n",
    "                break\n",
    "        return \" \".join(texts).strip()"
   ]
  },
  {
   "cell_type": "code",
   "execution_count": 78,
   "metadata": {},
   "outputs": [],
   "source": [
    "results = []\n",
    "\n",
    "# for _, row in tqdm(df_cr.iterrows(), total=len(df_cr)):\n",
    "#     source_str = row['from_verse']\n",
    "#     target_str = row['to_verse']\n",
    "    \n",
    "#     source_info = parse_verse_string(source_str, book_mapping)\n",
    "#     target_info = parse_verse_string(target_str, book_mapping)\n",
    "    \n",
    "#     if source_info is None or target_info is None:\n",
    "#         continue\n",
    "    \n",
    "#     verse_text_source = get_verse_text(source_info, df_kjv)\n",
    "#     verse_text_target = get_verse_text(target_info, df_kjv)\n",
    "    \n",
    "#     results.append({\n",
    "#         \"book_name_source_min\": source_info['book_name_min'],\n",
    "#         \"chapter_number_source_min\": source_info['chapter_number_min'],\n",
    "#         \"verse_number_source_min\": source_info['verse_number_min'],\n",
    "#         \"book_name_source_max\": source_info['book_name_max'],\n",
    "#         \"chapter_number_source_max\": source_info['chapter_number_max'],\n",
    "#         \"verse_number_source_max\": source_info['verse_number_max'],\n",
    "#         \"verse_text_source\": verse_text_source,\n",
    "#         \"book_name_target_min\": target_info['book_name_min'],\n",
    "#         \"chapter_number_target_min\": target_info['chapter_number_min'],\n",
    "#         \"verse_number_target_min\": target_info['verse_number_min'],\n",
    "#         \"book_name_target_max\": target_info['book_name_max'],\n",
    "#         \"chapter_number_target_max\": target_info['chapter_number_max'],\n",
    "#         \"verse_number_target_max\": target_info['verse_number_max'],\n",
    "#         \"verse_text_target\": verse_text_target,\n",
    "#     })"
   ]
  },
  {
   "cell_type": "code",
   "execution_count": 79,
   "metadata": {},
   "outputs": [],
   "source": [
    "# df = pd.DataFrame(results, columns=[\n",
    "#     \"book_name_source_min\",\n",
    "#     \"chapter_number_source_min\",\n",
    "#     \"verse_number_source_min\",\n",
    "#     \"book_name_source_max\",\n",
    "#     \"chapter_number_source_max\",\n",
    "#     \"verse_number_source_max\",\n",
    "#     \"verse_text_source\",\n",
    "#     \"book_name_target_min\",\n",
    "#     \"chapter_number_target_min\",\n",
    "#     \"verse_number_target_min\",\n",
    "#     \"book_name_target_max\",\n",
    "#     \"chapter_number_target_max\",\n",
    "#     \"verse_number_target_max\",\n",
    "#     \"verse_text_target\"\n",
    "# ])"
   ]
  },
  {
   "cell_type": "code",
   "execution_count": 80,
   "metadata": {},
   "outputs": [],
   "source": [
    "# df.to_csv(\"../data/kjv_cr_all.csv\", index=False)\n",
    "\n",
    "df = pd.read_csv(\"../data/kjv_cr_all.csv\", dtype=str)"
   ]
  },
  {
   "cell_type": "code",
   "execution_count": 81,
   "metadata": {},
   "outputs": [
    {
     "name": "stdout",
     "output_type": "stream",
     "text": [
      "       book_name_source_min chapter_number_source_min verse_number_source_min  \\\n",
      "0                   Genesis                         1                       1   \n",
      "1                   Genesis                         1                       1   \n",
      "2                   Genesis                         1                       1   \n",
      "3                   Genesis                         1                       1   \n",
      "4                   Genesis                         1                       1   \n",
      "...                     ...                       ...                     ...   \n",
      "344794           Revelation                        22                      21   \n",
      "344795           Revelation                        22                      21   \n",
      "344796           Revelation                        22                      21   \n",
      "344797           Revelation                        22                      21   \n",
      "344798           Revelation                        22                      21   \n",
      "\n",
      "       book_name_source_max chapter_number_source_max verse_number_source_max  \\\n",
      "0                       NaN                       NaN                     NaN   \n",
      "1                       NaN                       NaN                     NaN   \n",
      "2                       NaN                       NaN                     NaN   \n",
      "3                       NaN                       NaN                     NaN   \n",
      "4                       NaN                       NaN                     NaN   \n",
      "...                     ...                       ...                     ...   \n",
      "344794                  NaN                       NaN                     NaN   \n",
      "344795                  NaN                       NaN                     NaN   \n",
      "344796                  NaN                       NaN                     NaN   \n",
      "344797                  NaN                       NaN                     NaN   \n",
      "344798                  NaN                       NaN                     NaN   \n",
      "\n",
      "                                        verse_text_source  \\\n",
      "0       In the beginning God created the heaven and th...   \n",
      "1       In the beginning God created the heaven and th...   \n",
      "2       In the beginning God created the heaven and th...   \n",
      "3       In the beginning God created the heaven and th...   \n",
      "4       In the beginning God created the heaven and th...   \n",
      "...                                                   ...   \n",
      "344794  The grace of our Lord Jesus Christ be with you...   \n",
      "344795  The grace of our Lord Jesus Christ be with you...   \n",
      "344796  The grace of our Lord Jesus Christ be with you...   \n",
      "344797  The grace of our Lord Jesus Christ be with you...   \n",
      "344798  The grace of our Lord Jesus Christ be with you...   \n",
      "\n",
      "       book_name_target_min chapter_number_target_min verse_number_target_min  \\\n",
      "0                    1 John                         1                       1   \n",
      "1                    Psalms                       134                       3   \n",
      "2                    Psalms                       102                      25   \n",
      "3                    Isaiah                        51                      16   \n",
      "4                 Ephesians                         3                       9   \n",
      "...                     ...                       ...                     ...   \n",
      "344794            Ephesians                         6                      23   \n",
      "344795        2 Corinthians                        13                      14   \n",
      "344796      2 Thessalonians                         3                      18   \n",
      "344797               Romans                        16                      20   \n",
      "344798               Romans                         1                       7   \n",
      "\n",
      "       book_name_target_max chapter_number_target_max verse_number_target_max  \\\n",
      "0                       NaN                       NaN                     NaN   \n",
      "1                       NaN                       NaN                     NaN   \n",
      "2                       NaN                       NaN                     NaN   \n",
      "3                       NaN                       NaN                     NaN   \n",
      "4                       NaN                       NaN                     NaN   \n",
      "...                     ...                       ...                     ...   \n",
      "344794            Ephesians                         6                      24   \n",
      "344795                  NaN                       NaN                     NaN   \n",
      "344796                  NaN                       NaN                     NaN   \n",
      "344797                  NaN                       NaN                     NaN   \n",
      "344798                  NaN                       NaN                     NaN   \n",
      "\n",
      "                                        verse_text_target  \n",
      "0       That which was from the beginning, which we ha...  \n",
      "1       The LORD that made heaven and earth bless thee...  \n",
      "2       Of old hast thou laid the foundation of the ea...  \n",
      "3       And I have put my words in thy mouth, and I ha...  \n",
      "4       And to make all men see what is the fellowship...  \n",
      "...                                                   ...  \n",
      "344794  Peace be to the brethren, and love with faith,...  \n",
      "344795  The grace of the Lord Jesus Christ, and the lo...  \n",
      "344796  The grace of our Lord Jesus Christ be with you...  \n",
      "344797  And the God of peace shall bruise Satan under ...  \n",
      "344798  To all that be in Rome, beloved of God, called...  \n",
      "\n",
      "[344799 rows x 14 columns]\n"
     ]
    }
   ],
   "source": [
    "print(df)"
   ]
  },
  {
   "cell_type": "markdown",
   "metadata": {},
   "source": [
    "#### Data Checking"
   ]
  },
  {
   "cell_type": "code",
   "execution_count": 82,
   "metadata": {},
   "outputs": [],
   "source": [
    "books_kjv = [\n",
    "    'Genesis', 'Exodus', 'Leviticus', 'Numbers', 'Deuteronomy', 'Joshua', \n",
    "    'Judges', 'Ruth', '1 Samuel', '2 Samuel', '1 Kings', '2 Kings', \n",
    "    '1 Chronicles', '2 Chronicles', 'Ezra', 'Nehemiah', 'Esther', 'Job', \n",
    "    'Psalms', 'Proverbs', 'Ecclesiastes', 'Song of Solomon', 'Isaiah', \n",
    "    'Jeremiah', 'Lamentations', 'Ezekiel', 'Daniel', 'Hosea', 'Joel', 'Amos', \n",
    "    'Obadiah', 'Jonah', 'Micah', 'Nahum', 'Habakkuk', 'Zephaniah', 'Haggai', \n",
    "    'Zechariah', 'Malachi', 'Matthew', 'Mark', 'Luke', 'John', 'Acts', \n",
    "    'Romans', '1 Corinthians', '2 Corinthians', 'Galatians', 'Ephesians', \n",
    "    'Philippians', 'Colossians', '1 Thessalonians', '2 Thessalonians', \n",
    "    '1 Timothy', '2 Timothy', 'Titus', 'Philemon', 'Hebrews', 'James', \n",
    "    '1 Peter', '2 Peter', '1 John', '2 John', '3 John', 'Jude', 'Revelation'\n",
    "]"
   ]
  },
  {
   "cell_type": "code",
   "execution_count": 83,
   "metadata": {},
   "outputs": [],
   "source": [
    "books_cr = set(df[\"book_name_source_min\"]).union(\n",
    "    df[\"book_name_source_max\"],\n",
    "    df[\"book_name_target_min\"],\n",
    "    df[\"book_name_target_max\"]\n",
    ")\n",
    "\n",
    "books_cr_unique = {book for book in books_cr if pd.notna(book)}"
   ]
  },
  {
   "cell_type": "code",
   "execution_count": 84,
   "metadata": {},
   "outputs": [
    {
     "name": "stdout",
     "output_type": "stream",
     "text": [
      "True\n"
     ]
    }
   ],
   "source": [
    "print(books_cr_unique.issubset(set(books_kjv)))"
   ]
  },
  {
   "cell_type": "code",
   "execution_count": 85,
   "metadata": {},
   "outputs": [],
   "source": [
    "invalid_cr_source = df[\n",
    "    ((df[\"book_name_source_max\"].isna() |\n",
    "        df[\"chapter_number_source_max\"].isna() |\n",
    "        df[\"verse_number_source_max\"].isna()) &\n",
    "        ~(df[\"book_name_source_max\"].isna() &\n",
    "        df[\"chapter_number_source_max\"].isna() &\n",
    "        df[\"verse_number_source_max\"].isna()))\n",
    "    |\n",
    "    ((~df[\"book_name_source_max\"].isna() |\n",
    "        ~df[\"chapter_number_source_max\"].isna() |\n",
    "        ~df[\"verse_number_source_max\"].isna()) &\n",
    "        (df[\"book_name_source_max\"].isna() |\n",
    "        df[\"chapter_number_source_max\"].isna() |\n",
    "        df[\"verse_number_source_max\"].isna()))\n",
    "]\n",
    "\n",
    "\n",
    "invalid_cr_target = df[\n",
    "    ((df[\"book_name_target_max\"].isna() |\n",
    "        df[\"chapter_number_target_max\"].isna() |\n",
    "        df[\"verse_number_target_max\"].isna()) &\n",
    "        ~(df[\"book_name_target_max\"].isna() &\n",
    "        df[\"chapter_number_target_max\"].isna() &\n",
    "        df[\"verse_number_target_max\"].isna()))\n",
    "    |\n",
    "    ((~df[\"book_name_target_max\"].isna() |\n",
    "        ~df[\"chapter_number_target_max\"].isna() |\n",
    "        ~df[\"verse_number_target_max\"].isna()) &\n",
    "        (df[\"book_name_target_max\"].isna() |\n",
    "        df[\"chapter_number_target_max\"].isna() |\n",
    "        df[\"verse_number_target_max\"].isna()))\n",
    "]"
   ]
  },
  {
   "cell_type": "code",
   "execution_count": 86,
   "metadata": {},
   "outputs": [
    {
     "name": "stdout",
     "output_type": "stream",
     "text": [
      "Empty DataFrame\n",
      "Columns: [book_name_source_min, chapter_number_source_min, verse_number_source_min, book_name_source_max, chapter_number_source_max, verse_number_source_max, verse_text_source, book_name_target_min, chapter_number_target_min, verse_number_target_min, book_name_target_max, chapter_number_target_max, verse_number_target_max, verse_text_target]\n",
      "Index: []\n",
      "Empty DataFrame\n",
      "Columns: [book_name_source_min, chapter_number_source_min, verse_number_source_min, book_name_source_max, chapter_number_source_max, verse_number_source_max, verse_text_source, book_name_target_min, chapter_number_target_min, verse_number_target_min, book_name_target_max, chapter_number_target_max, verse_number_target_max, verse_text_target]\n",
      "Index: []\n"
     ]
    }
   ],
   "source": [
    "print(invalid_cr_source)\n",
    "print(invalid_cr_target)"
   ]
  }
 ],
 "metadata": {
  "kernelspec": {
   "display_name": "ai",
   "language": "python",
   "name": "python3"
  },
  "language_info": {
   "codemirror_mode": {
    "name": "ipython",
    "version": 3
   },
   "file_extension": ".py",
   "mimetype": "text/x-python",
   "name": "python",
   "nbconvert_exporter": "python",
   "pygments_lexer": "ipython3",
   "version": "3.10.15"
  }
 },
 "nbformat": 4,
 "nbformat_minor": 2
}
